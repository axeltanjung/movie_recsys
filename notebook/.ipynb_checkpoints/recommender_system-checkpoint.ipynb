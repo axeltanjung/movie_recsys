{
 "cells": [
  {
   "cell_type": "markdown",
   "metadata": {},
   "source": [
    "## Recommendery System for Movies Platform Using Collaborative Filtering vs Funk SVD"
   ]
  },
  {
   "cell_type": "markdown",
   "metadata": {},
   "source": [
    "### 1. Import Module"
   ]
  },
  {
   "cell_type": "code",
   "execution_count": 1,
   "metadata": {},
   "outputs": [],
   "source": [
    "import pandas as pd\n",
    "import numpy as np"
   ]
  },
  {
   "cell_type": "markdown",
   "metadata": {},
   "source": [
    "### 2. Import Data"
   ]
  },
  {
   "cell_type": "code",
   "execution_count": 2,
   "metadata": {},
   "outputs": [],
   "source": [
    "# Define column name \n",
    "m_cols = ['MovieIDS', 'Title', 'Genre']\n",
    "r_cols = ['UserID', 'MovieIDs', 'Ratings', 'Timestamp']\n",
    "u_cols = ['UserID', 'Gender', 'Age', 'Occupation', 'Zip-code']\n",
    "\n",
    "# Read csv of movies, ratings and users\n",
    "df_movies = pd.read_csv('../data/movies.csv', sep='::', names=m_cols, encoding='latin-1', index_col=None, engine='python')\n",
    "df_ratings = pd.read_csv('../data/ratings.csv', sep='::', names=r_cols, encoding='latin-1', index_col=None, engine='python')\n",
    "df_users = pd.read_csv('../data/users.csv', sep='::', names=u_cols, encoding='latin-1', index_col=None, engine='python')"
   ]
  },
  {
   "cell_type": "code",
   "execution_count": 3,
   "metadata": {},
   "outputs": [
    {
     "name": "stdout",
     "output_type": "stream",
     "text": [
      "Shape dari movies : (3883, 3)\n",
      "Shape dari rating : (1000209, 4)\n",
      "Shape dari user : (6040, 5)\n"
     ]
    }
   ],
   "source": [
    "# Cek shape dari dataframe\n",
    "print(f\"Shape dari movies : {df_movies.shape}\")\n",
    "print(f\"Shape dari rating : {df_ratings.shape}\")\n",
    "print(f\"Shape dari user : {df_users.shape}\")"
   ]
  },
  {
   "cell_type": "markdown",
   "metadata": {},
   "source": [
    "### 3. Pengecekan `\"df_ratings\"`"
   ]
  },
  {
   "cell_type": "code",
   "execution_count": 112,
   "metadata": {},
   "outputs": [],
   "source": [
    "# Menampilkan df_ratings (batasi sampai user ke 966, cost computing)\n",
    "df_ratings = df_ratings.loc[:150000,]"
   ]
  },
  {
   "cell_type": "code",
   "execution_count": 5,
   "metadata": {},
   "outputs": [
    {
     "data": {
      "text/html": [
       "<div>\n",
       "<style scoped>\n",
       "    .dataframe tbody tr th:only-of-type {\n",
       "        vertical-align: middle;\n",
       "    }\n",
       "\n",
       "    .dataframe tbody tr th {\n",
       "        vertical-align: top;\n",
       "    }\n",
       "\n",
       "    .dataframe thead th {\n",
       "        text-align: right;\n",
       "    }\n",
       "</style>\n",
       "<table border=\"1\" class=\"dataframe\">\n",
       "  <thead>\n",
       "    <tr style=\"text-align: right;\">\n",
       "      <th></th>\n",
       "      <th>UserID</th>\n",
       "      <th>MovieIDs</th>\n",
       "      <th>Ratings</th>\n",
       "      <th>Timestamp</th>\n",
       "    </tr>\n",
       "  </thead>\n",
       "  <tbody>\n",
       "    <tr>\n",
       "      <th>count</th>\n",
       "      <td>150001.000000</td>\n",
       "      <td>150001.000000</td>\n",
       "      <td>150001.000000</td>\n",
       "      <td>1.500010e+05</td>\n",
       "    </tr>\n",
       "    <tr>\n",
       "      <th>mean</th>\n",
       "      <td>494.727668</td>\n",
       "      <td>1869.719022</td>\n",
       "      <td>3.593216</td>\n",
       "      <td>9.790929e+08</td>\n",
       "    </tr>\n",
       "    <tr>\n",
       "      <th>std</th>\n",
       "      <td>275.814942</td>\n",
       "      <td>1107.307911</td>\n",
       "      <td>1.109176</td>\n",
       "      <td>9.818332e+06</td>\n",
       "    </tr>\n",
       "    <tr>\n",
       "      <th>min</th>\n",
       "      <td>1.000000</td>\n",
       "      <td>1.000000</td>\n",
       "      <td>1.000000</td>\n",
       "      <td>9.751153e+08</td>\n",
       "    </tr>\n",
       "    <tr>\n",
       "      <th>25%</th>\n",
       "      <td>255.000000</td>\n",
       "      <td>1025.000000</td>\n",
       "      <td>3.000000</td>\n",
       "      <td>9.756284e+08</td>\n",
       "    </tr>\n",
       "    <tr>\n",
       "      <th>50%</th>\n",
       "      <td>509.000000</td>\n",
       "      <td>1831.000000</td>\n",
       "      <td>4.000000</td>\n",
       "      <td>9.763006e+08</td>\n",
       "    </tr>\n",
       "    <tr>\n",
       "      <th>75%</th>\n",
       "      <td>731.000000</td>\n",
       "      <td>2788.000000</td>\n",
       "      <td>4.000000</td>\n",
       "      <td>9.774809e+08</td>\n",
       "    </tr>\n",
       "    <tr>\n",
       "      <th>max</th>\n",
       "      <td>966.000000</td>\n",
       "      <td>3952.000000</td>\n",
       "      <td>5.000000</td>\n",
       "      <td>1.046389e+09</td>\n",
       "    </tr>\n",
       "  </tbody>\n",
       "</table>\n",
       "</div>"
      ],
      "text/plain": [
       "              UserID       MovieIDs        Ratings     Timestamp\n",
       "count  150001.000000  150001.000000  150001.000000  1.500010e+05\n",
       "mean      494.727668    1869.719022       3.593216  9.790929e+08\n",
       "std       275.814942    1107.307911       1.109176  9.818332e+06\n",
       "min         1.000000       1.000000       1.000000  9.751153e+08\n",
       "25%       255.000000    1025.000000       3.000000  9.756284e+08\n",
       "50%       509.000000    1831.000000       4.000000  9.763006e+08\n",
       "75%       731.000000    2788.000000       4.000000  9.774809e+08\n",
       "max       966.000000    3952.000000       5.000000  1.046389e+09"
      ]
     },
     "execution_count": 5,
     "metadata": {},
     "output_type": "execute_result"
    }
   ],
   "source": [
    "df_ratings.describe()"
   ]
  },
  {
   "cell_type": "code",
   "execution_count": 6,
   "metadata": {},
   "outputs": [],
   "source": [
    "# Drop kolom yang tidak dibutuhkan untuk pemodelan 'Timestamp'\n",
    "df_ratings = df_ratings.drop('Timestamp', axis=1)"
   ]
  },
  {
   "cell_type": "code",
   "execution_count": 116,
   "metadata": {},
   "outputs": [
    {
     "data": {
      "text/plain": [
       "UserID        int64\n",
       "MovieIDs      int64\n",
       "Ratings     float64\n",
       "dtype: object"
      ]
     },
     "execution_count": 116,
     "metadata": {},
     "output_type": "execute_result"
    }
   ],
   "source": [
    "# Cek tipe dari masing masing kolom\n",
    "df_ratings.dtypes"
   ]
  },
  {
   "cell_type": "markdown",
   "metadata": {},
   "source": [
    "Untuk memodelkan rating dengan skala 0-5, diperlukan nilai float untuk mengakomodir angka desimal"
   ]
  },
  {
   "cell_type": "code",
   "execution_count": 117,
   "metadata": {},
   "outputs": [],
   "source": [
    "# Konversi kolom \"Ratings\" menjadi float\n",
    "df_ratings[\"Ratings\"] = df_ratings[\"Ratings\"].astype(float)"
   ]
  },
  {
   "cell_type": "markdown",
   "metadata": {},
   "source": [
    "Handling terhadap data duplikat"
   ]
  },
  {
   "cell_type": "code",
   "execution_count": 118,
   "metadata": {},
   "outputs": [
    {
     "data": {
      "text/plain": [
       "0"
      ]
     },
     "execution_count": 118,
     "metadata": {},
     "output_type": "execute_result"
    }
   ],
   "source": [
    "# Menghitung record yang duplikat\n",
    "df_ratings.duplicated().sum()"
   ]
  },
  {
   "cell_type": "markdown",
   "metadata": {},
   "source": [
    "### 4. Membuat fungsi `import_rating_data`"
   ]
  },
  {
   "cell_type": "code",
   "execution_count": 10,
   "metadata": {},
   "outputs": [],
   "source": [
    "def import_rating_data(path, frac=0.001):\n",
    "    \"\"\"\n",
    "    Fungsi untuk import rating data, pengecekan terhadap shape, mengganti tipe kolom rating menjadi float, dan duplikasi data\n",
    "\n",
    "    Parameters\n",
    "    ----------\n",
    "    path : str\n",
    "        Lokasi (path) data ratings disimpan\n",
    "\n",
    "    Returns\n",
    "    -------\n",
    "    rating_df : pandas DataFrame\n",
    "        Sample dari rating data    \n",
    "    \"\"\"\n",
    "    # Load data\n",
    "    r_cols = ['UserID', 'MovieIDs', 'Ratings', 'Timestamp']\n",
    "    df_rating_raw = pd.read_csv(path, sep='::', names=r_cols, encoding='latin-1', index_col=None, engine='python')\n",
    "    print('Shape data awal :', df_rating_raw.shape)\n",
    "\n",
    "    # Drop kolom timestamp\n",
    "    df_rating = df_rating_raw.drop(columns=['Timestamp'], axis=1)\n",
    "    print('Shape data drop kolom :', df_rating.shape)\n",
    "\n",
    "    # Typecasting kolom 'Rating' menjadi float\n",
    "    df_rating[\"Ratings\"] = df_rating[\"Ratings\"].astype(float)\n",
    "\n",
    "    # Sample movie\n",
    "    # Mengambil movieID yang unik pada sample data\n",
    "    unique_movie_id = df_rating['MovieIDs'].sample(frac=0.001)\n",
    "    sample_data = df_rating.loc[df_rating['MovieIDs'].isin(unique_movie_id)]\n",
    "\n",
    "    return sample_data\n"
   ]
  },
  {
   "cell_type": "code",
   "execution_count": 11,
   "metadata": {},
   "outputs": [
    {
     "name": "stdout",
     "output_type": "stream",
     "text": [
      "Shape data awal : (1000209, 4)\n",
      "Shape data drop kolom : (1000209, 3)\n"
     ]
    }
   ],
   "source": [
    "# Import rating data\n",
    "df_ratings = import_rating_data(path = '../data/ratings.csv')"
   ]
  },
  {
   "cell_type": "code",
   "execution_count": 155,
   "metadata": {},
   "outputs": [
    {
     "data": {
      "text/plain": [
       "(71345, 3)"
      ]
     },
     "execution_count": 155,
     "metadata": {},
     "output_type": "execute_result"
    }
   ],
   "source": [
    "# Cek tabel df_rating\n",
    "df_ratings.shape"
   ]
  },
  {
   "cell_type": "code",
   "execution_count": 156,
   "metadata": {},
   "outputs": [],
   "source": [
    "df_ratings = df_ratings.loc[:150000,]"
   ]
  },
  {
   "cell_type": "markdown",
   "metadata": {},
   "source": [
    "### Pemodelan Recommender System : Collaborative Filterting"
   ]
  },
  {
   "cell_type": "markdown",
   "metadata": {},
   "source": [
    "#### User to User Collaborative Filtering"
   ]
  },
  {
   "cell_type": "code",
   "execution_count": 157,
   "metadata": {},
   "outputs": [],
   "source": [
    "# Pivot rating data untuk mendapatkan interaksi rating user dan item\n",
    "pivot_df_ratings = df_ratings.pivot(index= 'UserID', columns='MovieIDs', values='Ratings')"
   ]
  },
  {
   "cell_type": "code",
   "execution_count": 15,
   "metadata": {},
   "outputs": [
    {
     "data": {
      "text/html": [
       "<div>\n",
       "<style scoped>\n",
       "    .dataframe tbody tr th:only-of-type {\n",
       "        vertical-align: middle;\n",
       "    }\n",
       "\n",
       "    .dataframe tbody tr th {\n",
       "        vertical-align: top;\n",
       "    }\n",
       "\n",
       "    .dataframe thead th {\n",
       "        text-align: right;\n",
       "    }\n",
       "</style>\n",
       "<table border=\"1\" class=\"dataframe\">\n",
       "  <thead>\n",
       "    <tr style=\"text-align: right;\">\n",
       "      <th>MovieIDs</th>\n",
       "      <th>7</th>\n",
       "      <th>16</th>\n",
       "      <th>17</th>\n",
       "      <th>19</th>\n",
       "      <th>21</th>\n",
       "      <th>24</th>\n",
       "      <th>39</th>\n",
       "      <th>42</th>\n",
       "      <th>44</th>\n",
       "      <th>45</th>\n",
       "      <th>...</th>\n",
       "      <th>3816</th>\n",
       "      <th>3827</th>\n",
       "      <th>3839</th>\n",
       "      <th>3852</th>\n",
       "      <th>3869</th>\n",
       "      <th>3889</th>\n",
       "      <th>3897</th>\n",
       "      <th>3927</th>\n",
       "      <th>3930</th>\n",
       "      <th>3932</th>\n",
       "    </tr>\n",
       "    <tr>\n",
       "      <th>UserID</th>\n",
       "      <th></th>\n",
       "      <th></th>\n",
       "      <th></th>\n",
       "      <th></th>\n",
       "      <th></th>\n",
       "      <th></th>\n",
       "      <th></th>\n",
       "      <th></th>\n",
       "      <th></th>\n",
       "      <th></th>\n",
       "      <th></th>\n",
       "      <th></th>\n",
       "      <th></th>\n",
       "      <th></th>\n",
       "      <th></th>\n",
       "      <th></th>\n",
       "      <th></th>\n",
       "      <th></th>\n",
       "      <th></th>\n",
       "      <th></th>\n",
       "      <th></th>\n",
       "    </tr>\n",
       "  </thead>\n",
       "  <tbody>\n",
       "    <tr>\n",
       "      <th>1</th>\n",
       "      <td>NaN</td>\n",
       "      <td>NaN</td>\n",
       "      <td>NaN</td>\n",
       "      <td>NaN</td>\n",
       "      <td>NaN</td>\n",
       "      <td>NaN</td>\n",
       "      <td>NaN</td>\n",
       "      <td>NaN</td>\n",
       "      <td>NaN</td>\n",
       "      <td>NaN</td>\n",
       "      <td>...</td>\n",
       "      <td>NaN</td>\n",
       "      <td>NaN</td>\n",
       "      <td>NaN</td>\n",
       "      <td>NaN</td>\n",
       "      <td>NaN</td>\n",
       "      <td>NaN</td>\n",
       "      <td>NaN</td>\n",
       "      <td>NaN</td>\n",
       "      <td>NaN</td>\n",
       "      <td>NaN</td>\n",
       "    </tr>\n",
       "    <tr>\n",
       "      <th>2</th>\n",
       "      <td>NaN</td>\n",
       "      <td>NaN</td>\n",
       "      <td>NaN</td>\n",
       "      <td>NaN</td>\n",
       "      <td>1.0</td>\n",
       "      <td>NaN</td>\n",
       "      <td>NaN</td>\n",
       "      <td>NaN</td>\n",
       "      <td>NaN</td>\n",
       "      <td>NaN</td>\n",
       "      <td>...</td>\n",
       "      <td>NaN</td>\n",
       "      <td>NaN</td>\n",
       "      <td>NaN</td>\n",
       "      <td>NaN</td>\n",
       "      <td>NaN</td>\n",
       "      <td>NaN</td>\n",
       "      <td>NaN</td>\n",
       "      <td>NaN</td>\n",
       "      <td>NaN</td>\n",
       "      <td>NaN</td>\n",
       "    </tr>\n",
       "    <tr>\n",
       "      <th>3</th>\n",
       "      <td>NaN</td>\n",
       "      <td>NaN</td>\n",
       "      <td>NaN</td>\n",
       "      <td>NaN</td>\n",
       "      <td>NaN</td>\n",
       "      <td>NaN</td>\n",
       "      <td>NaN</td>\n",
       "      <td>NaN</td>\n",
       "      <td>NaN</td>\n",
       "      <td>NaN</td>\n",
       "      <td>...</td>\n",
       "      <td>NaN</td>\n",
       "      <td>NaN</td>\n",
       "      <td>NaN</td>\n",
       "      <td>NaN</td>\n",
       "      <td>NaN</td>\n",
       "      <td>NaN</td>\n",
       "      <td>NaN</td>\n",
       "      <td>NaN</td>\n",
       "      <td>NaN</td>\n",
       "      <td>NaN</td>\n",
       "    </tr>\n",
       "    <tr>\n",
       "      <th>4</th>\n",
       "      <td>NaN</td>\n",
       "      <td>NaN</td>\n",
       "      <td>NaN</td>\n",
       "      <td>NaN</td>\n",
       "      <td>NaN</td>\n",
       "      <td>NaN</td>\n",
       "      <td>NaN</td>\n",
       "      <td>NaN</td>\n",
       "      <td>NaN</td>\n",
       "      <td>NaN</td>\n",
       "      <td>...</td>\n",
       "      <td>NaN</td>\n",
       "      <td>NaN</td>\n",
       "      <td>NaN</td>\n",
       "      <td>NaN</td>\n",
       "      <td>NaN</td>\n",
       "      <td>NaN</td>\n",
       "      <td>NaN</td>\n",
       "      <td>NaN</td>\n",
       "      <td>NaN</td>\n",
       "      <td>NaN</td>\n",
       "    </tr>\n",
       "    <tr>\n",
       "      <th>5</th>\n",
       "      <td>NaN</td>\n",
       "      <td>3.0</td>\n",
       "      <td>NaN</td>\n",
       "      <td>NaN</td>\n",
       "      <td>NaN</td>\n",
       "      <td>1.0</td>\n",
       "      <td>3.0</td>\n",
       "      <td>NaN</td>\n",
       "      <td>NaN</td>\n",
       "      <td>NaN</td>\n",
       "      <td>...</td>\n",
       "      <td>NaN</td>\n",
       "      <td>NaN</td>\n",
       "      <td>NaN</td>\n",
       "      <td>NaN</td>\n",
       "      <td>NaN</td>\n",
       "      <td>NaN</td>\n",
       "      <td>NaN</td>\n",
       "      <td>NaN</td>\n",
       "      <td>NaN</td>\n",
       "      <td>NaN</td>\n",
       "    </tr>\n",
       "  </tbody>\n",
       "</table>\n",
       "<p>5 rows × 715 columns</p>\n",
       "</div>"
      ],
      "text/plain": [
       "MovieIDs  7     16    17    19    21    24    39    42    44    45    ...  \\\n",
       "UserID                                                                ...   \n",
       "1          NaN   NaN   NaN   NaN   NaN   NaN   NaN   NaN   NaN   NaN  ...   \n",
       "2          NaN   NaN   NaN   NaN   1.0   NaN   NaN   NaN   NaN   NaN  ...   \n",
       "3          NaN   NaN   NaN   NaN   NaN   NaN   NaN   NaN   NaN   NaN  ...   \n",
       "4          NaN   NaN   NaN   NaN   NaN   NaN   NaN   NaN   NaN   NaN  ...   \n",
       "5          NaN   3.0   NaN   NaN   NaN   1.0   3.0   NaN   NaN   NaN  ...   \n",
       "\n",
       "MovieIDs  3816  3827  3839  3852  3869  3889  3897  3927  3930  3932  \n",
       "UserID                                                                \n",
       "1          NaN   NaN   NaN   NaN   NaN   NaN   NaN   NaN   NaN   NaN  \n",
       "2          NaN   NaN   NaN   NaN   NaN   NaN   NaN   NaN   NaN   NaN  \n",
       "3          NaN   NaN   NaN   NaN   NaN   NaN   NaN   NaN   NaN   NaN  \n",
       "4          NaN   NaN   NaN   NaN   NaN   NaN   NaN   NaN   NaN   NaN  \n",
       "5          NaN   NaN   NaN   NaN   NaN   NaN   NaN   NaN   NaN   NaN  \n",
       "\n",
       "[5 rows x 715 columns]"
      ]
     },
     "execution_count": 15,
     "metadata": {},
     "output_type": "execute_result"
    }
   ],
   "source": [
    "# Mengecek pivot_df_ratings\n",
    "pivot_df_ratings.head()"
   ]
  },
  {
   "cell_type": "code",
   "execution_count": 16,
   "metadata": {},
   "outputs": [
    {
     "data": {
      "text/plain": [
       "(966, 715)"
      ]
     },
     "execution_count": 16,
     "metadata": {},
     "output_type": "execute_result"
    }
   ],
   "source": [
    "# Mengecek shape dari pivot_df_ratings\n",
    "pivot_df_ratings.shape"
   ]
  },
  {
   "cell_type": "code",
   "execution_count": 17,
   "metadata": {},
   "outputs": [
    {
     "data": {
      "text/plain": [
       "619345"
      ]
     },
     "execution_count": 17,
     "metadata": {},
     "output_type": "execute_result"
    }
   ],
   "source": [
    "# Total rating data null\n",
    "pivot_df_ratings.isnull().sum().sum()"
   ]
  },
  {
   "cell_type": "markdown",
   "metadata": {},
   "source": [
    "#### Membuat fungsi `utility_data_preprocessing`"
   ]
  },
  {
   "cell_type": "code",
   "execution_count": 18,
   "metadata": {},
   "outputs": [],
   "source": [
    "def utility_data_preprocessing(path):\n",
    "    \"\"\"\"\n",
    "    Fungsi untuk melakukan pivot dari df_rating menjadi bentuk utility metrics\n",
    "\n",
    "    Parameters\n",
    "    ----------\n",
    "    path : str\n",
    "        Lokasi (path) menyimpan rating data\n",
    "\n",
    "    Returns\n",
    "    -------\n",
    "    pivot_df_ratings : pandas DataFrame\n",
    "        Rating data dalam belum tabel yang sudah di pivot\n",
    "    \"\"\"\n",
    "    # Import data\n",
    "\n",
    "    df_rating = import_rating_data(path)\n",
    "\n",
    "    # Pivot tabel\n",
    "    pivot_df_ratings = df_rating.pivot(index= 'UserID', columns='MovieIDs', values='Ratings')\n",
    "\n",
    "    # Shape data yang telah di pivot\n",
    "    print('Shaped data setelah di pivot : ', pivot_df_ratings.shape)\n",
    "\n",
    "    # Menghitung missing values\n",
    "    print('Jumlah missing values pada utility metrics :', pivot_df_ratings.isnull().sum().sum())\n",
    "\n",
    "    # Return pivot_df_ratings\n",
    "    return pivot_df_ratings\n"
   ]
  },
  {
   "cell_type": "code",
   "execution_count": 19,
   "metadata": {},
   "outputs": [
    {
     "name": "stdout",
     "output_type": "stream",
     "text": [
      "Shape data awal : (1000209, 4)\n",
      "Shape data drop kolom : (1000209, 3)\n",
      "Shaped data setelah di pivot :  (6040, 713)\n",
      "Jumlah missing values pada utility metrics : 3845464\n"
     ]
    }
   ],
   "source": [
    "# Output fungsi pivot data\n",
    "pivot_df_ratings = utility_data_preprocessing(path = '../data/ratings.csv')"
   ]
  },
  {
   "cell_type": "code",
   "execution_count": 20,
   "metadata": {},
   "outputs": [
    {
     "data": {
      "text/html": [
       "<div>\n",
       "<style scoped>\n",
       "    .dataframe tbody tr th:only-of-type {\n",
       "        vertical-align: middle;\n",
       "    }\n",
       "\n",
       "    .dataframe tbody tr th {\n",
       "        vertical-align: top;\n",
       "    }\n",
       "\n",
       "    .dataframe thead th {\n",
       "        text-align: right;\n",
       "    }\n",
       "</style>\n",
       "<table border=\"1\" class=\"dataframe\">\n",
       "  <thead>\n",
       "    <tr style=\"text-align: right;\">\n",
       "      <th>MovieIDs</th>\n",
       "      <th>1</th>\n",
       "      <th>2</th>\n",
       "      <th>5</th>\n",
       "      <th>6</th>\n",
       "      <th>10</th>\n",
       "      <th>11</th>\n",
       "      <th>17</th>\n",
       "      <th>19</th>\n",
       "      <th>21</th>\n",
       "      <th>25</th>\n",
       "      <th>...</th>\n",
       "      <th>3893</th>\n",
       "      <th>3897</th>\n",
       "      <th>3898</th>\n",
       "      <th>3908</th>\n",
       "      <th>3926</th>\n",
       "      <th>3927</th>\n",
       "      <th>3930</th>\n",
       "      <th>3948</th>\n",
       "      <th>3951</th>\n",
       "      <th>3952</th>\n",
       "    </tr>\n",
       "    <tr>\n",
       "      <th>UserID</th>\n",
       "      <th></th>\n",
       "      <th></th>\n",
       "      <th></th>\n",
       "      <th></th>\n",
       "      <th></th>\n",
       "      <th></th>\n",
       "      <th></th>\n",
       "      <th></th>\n",
       "      <th></th>\n",
       "      <th></th>\n",
       "      <th></th>\n",
       "      <th></th>\n",
       "      <th></th>\n",
       "      <th></th>\n",
       "      <th></th>\n",
       "      <th></th>\n",
       "      <th></th>\n",
       "      <th></th>\n",
       "      <th></th>\n",
       "      <th></th>\n",
       "      <th></th>\n",
       "    </tr>\n",
       "  </thead>\n",
       "  <tbody>\n",
       "    <tr>\n",
       "      <th>1</th>\n",
       "      <td>5.0</td>\n",
       "      <td>NaN</td>\n",
       "      <td>NaN</td>\n",
       "      <td>NaN</td>\n",
       "      <td>NaN</td>\n",
       "      <td>NaN</td>\n",
       "      <td>NaN</td>\n",
       "      <td>NaN</td>\n",
       "      <td>NaN</td>\n",
       "      <td>NaN</td>\n",
       "      <td>...</td>\n",
       "      <td>NaN</td>\n",
       "      <td>NaN</td>\n",
       "      <td>NaN</td>\n",
       "      <td>NaN</td>\n",
       "      <td>NaN</td>\n",
       "      <td>NaN</td>\n",
       "      <td>NaN</td>\n",
       "      <td>NaN</td>\n",
       "      <td>NaN</td>\n",
       "      <td>NaN</td>\n",
       "    </tr>\n",
       "    <tr>\n",
       "      <th>2</th>\n",
       "      <td>NaN</td>\n",
       "      <td>NaN</td>\n",
       "      <td>NaN</td>\n",
       "      <td>NaN</td>\n",
       "      <td>NaN</td>\n",
       "      <td>NaN</td>\n",
       "      <td>NaN</td>\n",
       "      <td>NaN</td>\n",
       "      <td>1.0</td>\n",
       "      <td>NaN</td>\n",
       "      <td>...</td>\n",
       "      <td>1.0</td>\n",
       "      <td>NaN</td>\n",
       "      <td>NaN</td>\n",
       "      <td>NaN</td>\n",
       "      <td>NaN</td>\n",
       "      <td>NaN</td>\n",
       "      <td>NaN</td>\n",
       "      <td>NaN</td>\n",
       "      <td>NaN</td>\n",
       "      <td>NaN</td>\n",
       "    </tr>\n",
       "    <tr>\n",
       "      <th>3</th>\n",
       "      <td>NaN</td>\n",
       "      <td>NaN</td>\n",
       "      <td>NaN</td>\n",
       "      <td>NaN</td>\n",
       "      <td>NaN</td>\n",
       "      <td>NaN</td>\n",
       "      <td>NaN</td>\n",
       "      <td>NaN</td>\n",
       "      <td>NaN</td>\n",
       "      <td>NaN</td>\n",
       "      <td>...</td>\n",
       "      <td>NaN</td>\n",
       "      <td>NaN</td>\n",
       "      <td>NaN</td>\n",
       "      <td>NaN</td>\n",
       "      <td>NaN</td>\n",
       "      <td>NaN</td>\n",
       "      <td>NaN</td>\n",
       "      <td>NaN</td>\n",
       "      <td>NaN</td>\n",
       "      <td>NaN</td>\n",
       "    </tr>\n",
       "    <tr>\n",
       "      <th>4</th>\n",
       "      <td>NaN</td>\n",
       "      <td>NaN</td>\n",
       "      <td>NaN</td>\n",
       "      <td>NaN</td>\n",
       "      <td>NaN</td>\n",
       "      <td>NaN</td>\n",
       "      <td>NaN</td>\n",
       "      <td>NaN</td>\n",
       "      <td>NaN</td>\n",
       "      <td>NaN</td>\n",
       "      <td>...</td>\n",
       "      <td>NaN</td>\n",
       "      <td>NaN</td>\n",
       "      <td>NaN</td>\n",
       "      <td>NaN</td>\n",
       "      <td>NaN</td>\n",
       "      <td>NaN</td>\n",
       "      <td>NaN</td>\n",
       "      <td>NaN</td>\n",
       "      <td>NaN</td>\n",
       "      <td>NaN</td>\n",
       "    </tr>\n",
       "    <tr>\n",
       "      <th>5</th>\n",
       "      <td>NaN</td>\n",
       "      <td>NaN</td>\n",
       "      <td>NaN</td>\n",
       "      <td>2.0</td>\n",
       "      <td>NaN</td>\n",
       "      <td>NaN</td>\n",
       "      <td>NaN</td>\n",
       "      <td>NaN</td>\n",
       "      <td>NaN</td>\n",
       "      <td>NaN</td>\n",
       "      <td>...</td>\n",
       "      <td>NaN</td>\n",
       "      <td>NaN</td>\n",
       "      <td>NaN</td>\n",
       "      <td>NaN</td>\n",
       "      <td>NaN</td>\n",
       "      <td>NaN</td>\n",
       "      <td>NaN</td>\n",
       "      <td>NaN</td>\n",
       "      <td>NaN</td>\n",
       "      <td>NaN</td>\n",
       "    </tr>\n",
       "  </tbody>\n",
       "</table>\n",
       "<p>5 rows × 713 columns</p>\n",
       "</div>"
      ],
      "text/plain": [
       "MovieIDs  1     2     5     6     10    11    17    19    21    25    ...  \\\n",
       "UserID                                                                ...   \n",
       "1          5.0   NaN   NaN   NaN   NaN   NaN   NaN   NaN   NaN   NaN  ...   \n",
       "2          NaN   NaN   NaN   NaN   NaN   NaN   NaN   NaN   1.0   NaN  ...   \n",
       "3          NaN   NaN   NaN   NaN   NaN   NaN   NaN   NaN   NaN   NaN  ...   \n",
       "4          NaN   NaN   NaN   NaN   NaN   NaN   NaN   NaN   NaN   NaN  ...   \n",
       "5          NaN   NaN   NaN   2.0   NaN   NaN   NaN   NaN   NaN   NaN  ...   \n",
       "\n",
       "MovieIDs  3893  3897  3898  3908  3926  3927  3930  3948  3951  3952  \n",
       "UserID                                                                \n",
       "1          NaN   NaN   NaN   NaN   NaN   NaN   NaN   NaN   NaN   NaN  \n",
       "2          1.0   NaN   NaN   NaN   NaN   NaN   NaN   NaN   NaN   NaN  \n",
       "3          NaN   NaN   NaN   NaN   NaN   NaN   NaN   NaN   NaN   NaN  \n",
       "4          NaN   NaN   NaN   NaN   NaN   NaN   NaN   NaN   NaN   NaN  \n",
       "5          NaN   NaN   NaN   NaN   NaN   NaN   NaN   NaN   NaN   NaN  \n",
       "\n",
       "[5 rows x 713 columns]"
      ]
     },
     "execution_count": 20,
     "metadata": {},
     "output_type": "execute_result"
    }
   ],
   "source": [
    "pivot_df_ratings.head()"
   ]
  },
  {
   "cell_type": "markdown",
   "metadata": {},
   "source": [
    "Berikut merupakan fungsi untuk prediksi rating\n",
    "\n",
    "\n",
    "$$\n",
    "\\begin{align*}\n",
    "\\hat{r_{ui}} = \\text{baseline}_{ui} + \\frac{\\sum_{j \\in N(u)} (\\text{Similarity}(u,j) \\cdot (r_{ji}-\\text{baseline}_{ji}) }{\\sum_{j \\in N(u)} \\text{Similarity}(u,j)}\n",
    "& \\\\ \\\\\n",
    "\\text{baseline}_{ui} = \\mu + \\text{userbias}_{u} + \\text{itembias}_{i}\n",
    "\\end{align*}\n",
    "$$\n",
    "\n",
    "\n",
    "dengan :    \n",
    "\n",
    "- $\\text{baseline}_{ui}$ : baseline ratings dari user **u** untuk item **i**\n",
    "- $\\hat{r_{ui}}$ : prediksi rating dari user **u** untuk item **i**\n",
    "- $N(u)$ : Tetangga dari user **u**\n"
   ]
  },
  {
   "cell_type": "markdown",
   "metadata": {},
   "source": [
    "$$\n",
    "\\begin{align*}\n",
    "\\text{userbias}_{u} = \\mu - \\text{user_average}_{u}\n",
    "& \\\\ \\\\\n",
    "\\text{itembias}_{i} = \\mu - \\text{item_average}_{i}\n",
    "\\end{align*}\n",
    "$$\n",
    "\n",
    "dengan :    \n",
    "\n",
    "- $\\mu$ : global mean\n",
    "- $\\text{user_average}_{u}$ : rata-rata rating dari user **u**\n",
    "- $\\text{item_average}_{i}$ : rata-rata rating dari item **i**\n"
   ]
  },
  {
   "cell_type": "markdown",
   "metadata": {},
   "source": [
    "#### Menghitung baseline prediksi"
   ]
  },
  {
   "cell_type": "code",
   "execution_count": 21,
   "metadata": {},
   "outputs": [
    {
     "data": {
      "text/html": [
       "<div>\n",
       "<style scoped>\n",
       "    .dataframe tbody tr th:only-of-type {\n",
       "        vertical-align: middle;\n",
       "    }\n",
       "\n",
       "    .dataframe tbody tr th {\n",
       "        vertical-align: top;\n",
       "    }\n",
       "\n",
       "    .dataframe thead th {\n",
       "        text-align: right;\n",
       "    }\n",
       "</style>\n",
       "<table border=\"1\" class=\"dataframe\">\n",
       "  <thead>\n",
       "    <tr style=\"text-align: right;\">\n",
       "      <th>MovieIDs</th>\n",
       "      <th>1</th>\n",
       "      <th>2</th>\n",
       "      <th>5</th>\n",
       "      <th>6</th>\n",
       "      <th>10</th>\n",
       "      <th>11</th>\n",
       "      <th>17</th>\n",
       "      <th>19</th>\n",
       "      <th>21</th>\n",
       "      <th>25</th>\n",
       "      <th>...</th>\n",
       "      <th>3893</th>\n",
       "      <th>3897</th>\n",
       "      <th>3898</th>\n",
       "      <th>3908</th>\n",
       "      <th>3926</th>\n",
       "      <th>3927</th>\n",
       "      <th>3930</th>\n",
       "      <th>3948</th>\n",
       "      <th>3951</th>\n",
       "      <th>3952</th>\n",
       "    </tr>\n",
       "    <tr>\n",
       "      <th>UserID</th>\n",
       "      <th></th>\n",
       "      <th></th>\n",
       "      <th></th>\n",
       "      <th></th>\n",
       "      <th></th>\n",
       "      <th></th>\n",
       "      <th></th>\n",
       "      <th></th>\n",
       "      <th></th>\n",
       "      <th></th>\n",
       "      <th></th>\n",
       "      <th></th>\n",
       "      <th></th>\n",
       "      <th></th>\n",
       "      <th></th>\n",
       "      <th></th>\n",
       "      <th></th>\n",
       "      <th></th>\n",
       "      <th></th>\n",
       "      <th></th>\n",
       "      <th></th>\n",
       "    </tr>\n",
       "  </thead>\n",
       "  <tbody>\n",
       "    <tr>\n",
       "      <th>1</th>\n",
       "      <td>5.0</td>\n",
       "      <td>NaN</td>\n",
       "      <td>NaN</td>\n",
       "      <td>NaN</td>\n",
       "      <td>NaN</td>\n",
       "      <td>NaN</td>\n",
       "      <td>NaN</td>\n",
       "      <td>NaN</td>\n",
       "      <td>NaN</td>\n",
       "      <td>NaN</td>\n",
       "      <td>...</td>\n",
       "      <td>NaN</td>\n",
       "      <td>NaN</td>\n",
       "      <td>NaN</td>\n",
       "      <td>NaN</td>\n",
       "      <td>NaN</td>\n",
       "      <td>NaN</td>\n",
       "      <td>NaN</td>\n",
       "      <td>NaN</td>\n",
       "      <td>NaN</td>\n",
       "      <td>NaN</td>\n",
       "    </tr>\n",
       "    <tr>\n",
       "      <th>2</th>\n",
       "      <td>NaN</td>\n",
       "      <td>NaN</td>\n",
       "      <td>NaN</td>\n",
       "      <td>NaN</td>\n",
       "      <td>NaN</td>\n",
       "      <td>NaN</td>\n",
       "      <td>NaN</td>\n",
       "      <td>NaN</td>\n",
       "      <td>1.0</td>\n",
       "      <td>NaN</td>\n",
       "      <td>...</td>\n",
       "      <td>1.0</td>\n",
       "      <td>NaN</td>\n",
       "      <td>NaN</td>\n",
       "      <td>NaN</td>\n",
       "      <td>NaN</td>\n",
       "      <td>NaN</td>\n",
       "      <td>NaN</td>\n",
       "      <td>NaN</td>\n",
       "      <td>NaN</td>\n",
       "      <td>NaN</td>\n",
       "    </tr>\n",
       "    <tr>\n",
       "      <th>3</th>\n",
       "      <td>NaN</td>\n",
       "      <td>NaN</td>\n",
       "      <td>NaN</td>\n",
       "      <td>NaN</td>\n",
       "      <td>NaN</td>\n",
       "      <td>NaN</td>\n",
       "      <td>NaN</td>\n",
       "      <td>NaN</td>\n",
       "      <td>NaN</td>\n",
       "      <td>NaN</td>\n",
       "      <td>...</td>\n",
       "      <td>NaN</td>\n",
       "      <td>NaN</td>\n",
       "      <td>NaN</td>\n",
       "      <td>NaN</td>\n",
       "      <td>NaN</td>\n",
       "      <td>NaN</td>\n",
       "      <td>NaN</td>\n",
       "      <td>NaN</td>\n",
       "      <td>NaN</td>\n",
       "      <td>NaN</td>\n",
       "    </tr>\n",
       "    <tr>\n",
       "      <th>4</th>\n",
       "      <td>NaN</td>\n",
       "      <td>NaN</td>\n",
       "      <td>NaN</td>\n",
       "      <td>NaN</td>\n",
       "      <td>NaN</td>\n",
       "      <td>NaN</td>\n",
       "      <td>NaN</td>\n",
       "      <td>NaN</td>\n",
       "      <td>NaN</td>\n",
       "      <td>NaN</td>\n",
       "      <td>...</td>\n",
       "      <td>NaN</td>\n",
       "      <td>NaN</td>\n",
       "      <td>NaN</td>\n",
       "      <td>NaN</td>\n",
       "      <td>NaN</td>\n",
       "      <td>NaN</td>\n",
       "      <td>NaN</td>\n",
       "      <td>NaN</td>\n",
       "      <td>NaN</td>\n",
       "      <td>NaN</td>\n",
       "    </tr>\n",
       "    <tr>\n",
       "      <th>5</th>\n",
       "      <td>NaN</td>\n",
       "      <td>NaN</td>\n",
       "      <td>NaN</td>\n",
       "      <td>2.0</td>\n",
       "      <td>NaN</td>\n",
       "      <td>NaN</td>\n",
       "      <td>NaN</td>\n",
       "      <td>NaN</td>\n",
       "      <td>NaN</td>\n",
       "      <td>NaN</td>\n",
       "      <td>...</td>\n",
       "      <td>NaN</td>\n",
       "      <td>NaN</td>\n",
       "      <td>NaN</td>\n",
       "      <td>NaN</td>\n",
       "      <td>NaN</td>\n",
       "      <td>NaN</td>\n",
       "      <td>NaN</td>\n",
       "      <td>NaN</td>\n",
       "      <td>NaN</td>\n",
       "      <td>NaN</td>\n",
       "    </tr>\n",
       "  </tbody>\n",
       "</table>\n",
       "<p>5 rows × 713 columns</p>\n",
       "</div>"
      ],
      "text/plain": [
       "MovieIDs  1     2     5     6     10    11    17    19    21    25    ...  \\\n",
       "UserID                                                                ...   \n",
       "1          5.0   NaN   NaN   NaN   NaN   NaN   NaN   NaN   NaN   NaN  ...   \n",
       "2          NaN   NaN   NaN   NaN   NaN   NaN   NaN   NaN   1.0   NaN  ...   \n",
       "3          NaN   NaN   NaN   NaN   NaN   NaN   NaN   NaN   NaN   NaN  ...   \n",
       "4          NaN   NaN   NaN   NaN   NaN   NaN   NaN   NaN   NaN   NaN  ...   \n",
       "5          NaN   NaN   NaN   2.0   NaN   NaN   NaN   NaN   NaN   NaN  ...   \n",
       "\n",
       "MovieIDs  3893  3897  3898  3908  3926  3927  3930  3948  3951  3952  \n",
       "UserID                                                                \n",
       "1          NaN   NaN   NaN   NaN   NaN   NaN   NaN   NaN   NaN   NaN  \n",
       "2          1.0   NaN   NaN   NaN   NaN   NaN   NaN   NaN   NaN   NaN  \n",
       "3          NaN   NaN   NaN   NaN   NaN   NaN   NaN   NaN   NaN   NaN  \n",
       "4          NaN   NaN   NaN   NaN   NaN   NaN   NaN   NaN   NaN   NaN  \n",
       "5          NaN   NaN   NaN   NaN   NaN   NaN   NaN   NaN   NaN   NaN  \n",
       "\n",
       "[5 rows x 713 columns]"
      ]
     },
     "execution_count": 21,
     "metadata": {},
     "output_type": "execute_result"
    }
   ],
   "source": [
    "pivot_df_ratings.head()"
   ]
  },
  {
   "cell_type": "code",
   "execution_count": 34,
   "metadata": {},
   "outputs": [
    {
     "name": "stdout",
     "output_type": "stream",
     "text": [
      "UserID 1 Mean : 4.3\n",
      "MovieIDs 1 Mean : 4.15\n",
      "Global Mean : 3.75\n"
     ]
    }
   ],
   "source": [
    "# Menghitung baseline rating pada user 1 dan movie 1\n",
    "UserID = 1\n",
    "MovieIDs = 1\n",
    "\n",
    "# Menghitung Global Mean\n",
    "global_mean = df_ratings['Ratings'].mean()\n",
    "\n",
    "# Menghitung User Mean\n",
    "user_mean = pivot_df_ratings.loc[UserID,:].mean()\n",
    "\n",
    "# Menghitung Item Mean\n",
    "item_mean = pivot_df_ratings.loc[:, MovieIDs].mean()\n",
    "\n",
    "# Output dari baseline\n",
    "print(f'UserID {UserID} Mean : {round(user_mean,2)}')\n",
    "print(f'MovieIDs {MovieIDs} Mean : {round(item_mean,2)}')\n",
    "print(f'Global Mean : {round(global_mean,2)}')"
   ]
  },
  {
   "cell_type": "code",
   "execution_count": 35,
   "metadata": {},
   "outputs": [
    {
     "name": "stdout",
     "output_type": "stream",
     "text": [
      "UserID 1 Bias : -0.54\n",
      "MovieIDs 1 Bias : -0.39\n"
     ]
    }
   ],
   "source": [
    "# Menghitung bias dari user\n",
    "bias_user = global_mean - user_mean\n",
    "\n",
    "# Menghitung bias dari item\n",
    "bias_item = global_mean - item_mean\n",
    "\n",
    "# Output dari bias user dan item\n",
    "print(f'UserID {UserID} Bias : {round(bias_user,2)}')\n",
    "print(f'MovieIDs {MovieIDs} Bias : {round(bias_item,2)}')"
   ]
  },
  {
   "cell_type": "code",
   "execution_count": 36,
   "metadata": {},
   "outputs": [
    {
     "name": "stdout",
     "output_type": "stream",
     "text": [
      "Total baseline rating untuk prediksi UserID 1 dan MovieIDs 1 adalah 2.81\n"
     ]
    }
   ],
   "source": [
    "# Menghitung total dari baseline\n",
    "baseline_user_item = global_mean + bias_user + bias_item\n",
    "\n",
    "# Output dari total baseline\n",
    "print(f'Total baseline rating untuk prediksi UserID {UserID} dan MovieIDs {MovieIDs} adalah {round(baseline_user_item,2)}')"
   ]
  },
  {
   "cell_type": "markdown",
   "metadata": {},
   "source": [
    "#### Membuat fungsi `calculate_baseline_prediction`"
   ]
  },
  {
   "cell_type": "code",
   "execution_count": 37,
   "metadata": {},
   "outputs": [],
   "source": [
    "def calculate_baseline_prediction(pivot_df_ratings, userid, movieid,\n",
    "                                  df_ratings=df_ratings):\n",
    "    \"\"\"\"\n",
    "    Fungsi untuk menghitung nilai baseline prediksi dari user dan movie\n",
    "\n",
    "    Parameters\n",
    "    ---------\n",
    "    pivot_df_ratings : pandas Dataframe\n",
    "        DataFrame rating dari user dan movies yang telah dilakukan pivot table\n",
    "\n",
    "    userid : int\n",
    "        UserID dari user yang akan dihitung biasnya\n",
    "\n",
    "    movieid : int\n",
    "        MovieIDs dari film yang akan dihitung biasnya\n",
    "\n",
    "    df_ratings : pandas Dataframe\n",
    "        DataFrame rating user dan film\n",
    "\n",
    "    Returns\n",
    "    -------\n",
    "    baseline_user_item : int\n",
    "        Nilai baseline terhadap prediksi user dan item\n",
    "    \"\"\"\n",
    "    # Menghitung global mean\n",
    "    global_mean = df_ratings['Ratings'].mean()\n",
    "\n",
    "    # Menghitung User Mean\n",
    "    user_mean = pivot_df_ratings.loc[userid,:].mean()\n",
    "\n",
    "    # Menghitung Item Mean\n",
    "    item_mean = pivot_df_ratings.loc[:, movieid].mean()\n",
    "\n",
    "    # Menghitung bias dari user\n",
    "    bias_user = global_mean - user_mean\n",
    "\n",
    "    # Menghitung bias dari item\n",
    "    bias_item = global_mean - item_mean\n",
    "\n",
    "    # Menghitung total dari baseline\n",
    "    baseline_user_item = global_mean + bias_user + bias_item\n",
    "\n",
    "    return baseline_user_item"
   ]
  },
  {
   "cell_type": "code",
   "execution_count": 38,
   "metadata": {},
   "outputs": [
    {
     "name": "stdout",
     "output_type": "stream",
     "text": [
      "Total baseline rating untuk prediksi UserID 1 dan MovieIDs 1 adalah 2.81\n"
     ]
    }
   ],
   "source": [
    "# Validasi fungsi terhadap perhitungan semula\n",
    "baseline_user_item_func = calculate_baseline_prediction(pivot_df_ratings=pivot_df_ratings,\n",
    "                                                   userid=UserID, movieid=MovieIDs)\n",
    "# Output dari total baseline\n",
    "print(f'Total baseline rating untuk prediksi UserID {UserID} dan MovieIDs {MovieIDs} adalah {round(baseline_user_item_func,2)}')"
   ]
  },
  {
   "cell_type": "markdown",
   "metadata": {},
   "source": [
    "#### Mencari Tetangga Terdekat"
   ]
  },
  {
   "cell_type": "code",
   "execution_count": 39,
   "metadata": {},
   "outputs": [
    {
     "data": {
      "text/plain": [
       "MovieIDs\n",
       "1     4.146846\n",
       "2     3.201141\n",
       "5     3.006757\n",
       "6     3.878723\n",
       "10    3.540541\n",
       "dtype: float64"
      ]
     },
     "execution_count": 39,
     "metadata": {},
     "output_type": "execute_result"
    }
   ],
   "source": [
    "# Mencari 5 tetangga terdekat menggunakan Cosine Similarity\n",
    "user_mean_ = pivot_df_ratings.mean(axis=0)\n",
    "user_mean_.head()"
   ]
  },
  {
   "cell_type": "code",
   "execution_count": 40,
   "metadata": {},
   "outputs": [
    {
     "data": {
      "text/html": [
       "<div>\n",
       "<style scoped>\n",
       "    .dataframe tbody tr th:only-of-type {\n",
       "        vertical-align: middle;\n",
       "    }\n",
       "\n",
       "    .dataframe tbody tr th {\n",
       "        vertical-align: top;\n",
       "    }\n",
       "\n",
       "    .dataframe thead th {\n",
       "        text-align: right;\n",
       "    }\n",
       "</style>\n",
       "<table border=\"1\" class=\"dataframe\">\n",
       "  <thead>\n",
       "    <tr style=\"text-align: right;\">\n",
       "      <th>MovieIDs</th>\n",
       "      <th>1</th>\n",
       "      <th>2</th>\n",
       "      <th>5</th>\n",
       "      <th>6</th>\n",
       "      <th>10</th>\n",
       "      <th>11</th>\n",
       "      <th>17</th>\n",
       "      <th>19</th>\n",
       "      <th>21</th>\n",
       "      <th>25</th>\n",
       "      <th>...</th>\n",
       "      <th>3893</th>\n",
       "      <th>3897</th>\n",
       "      <th>3898</th>\n",
       "      <th>3908</th>\n",
       "      <th>3926</th>\n",
       "      <th>3927</th>\n",
       "      <th>3930</th>\n",
       "      <th>3948</th>\n",
       "      <th>3951</th>\n",
       "      <th>3952</th>\n",
       "    </tr>\n",
       "    <tr>\n",
       "      <th>UserID</th>\n",
       "      <th></th>\n",
       "      <th></th>\n",
       "      <th></th>\n",
       "      <th></th>\n",
       "      <th></th>\n",
       "      <th></th>\n",
       "      <th></th>\n",
       "      <th></th>\n",
       "      <th></th>\n",
       "      <th></th>\n",
       "      <th></th>\n",
       "      <th></th>\n",
       "      <th></th>\n",
       "      <th></th>\n",
       "      <th></th>\n",
       "      <th></th>\n",
       "      <th></th>\n",
       "      <th></th>\n",
       "      <th></th>\n",
       "      <th></th>\n",
       "      <th></th>\n",
       "    </tr>\n",
       "  </thead>\n",
       "  <tbody>\n",
       "    <tr>\n",
       "      <th>1</th>\n",
       "      <td>0.853154</td>\n",
       "      <td>0.0</td>\n",
       "      <td>0.0</td>\n",
       "      <td>0.000000</td>\n",
       "      <td>0.0</td>\n",
       "      <td>0.0</td>\n",
       "      <td>0.0</td>\n",
       "      <td>0.0</td>\n",
       "      <td>0.000000</td>\n",
       "      <td>0.0</td>\n",
       "      <td>...</td>\n",
       "      <td>0.000000</td>\n",
       "      <td>0.0</td>\n",
       "      <td>0.0</td>\n",
       "      <td>0.0</td>\n",
       "      <td>0.0</td>\n",
       "      <td>0.0</td>\n",
       "      <td>0.0</td>\n",
       "      <td>0.0</td>\n",
       "      <td>0.0</td>\n",
       "      <td>0.0</td>\n",
       "    </tr>\n",
       "    <tr>\n",
       "      <th>2</th>\n",
       "      <td>0.000000</td>\n",
       "      <td>0.0</td>\n",
       "      <td>0.0</td>\n",
       "      <td>0.000000</td>\n",
       "      <td>0.0</td>\n",
       "      <td>0.0</td>\n",
       "      <td>0.0</td>\n",
       "      <td>0.0</td>\n",
       "      <td>-2.623894</td>\n",
       "      <td>0.0</td>\n",
       "      <td>...</td>\n",
       "      <td>-2.502683</td>\n",
       "      <td>0.0</td>\n",
       "      <td>0.0</td>\n",
       "      <td>0.0</td>\n",
       "      <td>0.0</td>\n",
       "      <td>0.0</td>\n",
       "      <td>0.0</td>\n",
       "      <td>0.0</td>\n",
       "      <td>0.0</td>\n",
       "      <td>0.0</td>\n",
       "    </tr>\n",
       "    <tr>\n",
       "      <th>3</th>\n",
       "      <td>0.000000</td>\n",
       "      <td>0.0</td>\n",
       "      <td>0.0</td>\n",
       "      <td>0.000000</td>\n",
       "      <td>0.0</td>\n",
       "      <td>0.0</td>\n",
       "      <td>0.0</td>\n",
       "      <td>0.0</td>\n",
       "      <td>0.000000</td>\n",
       "      <td>0.0</td>\n",
       "      <td>...</td>\n",
       "      <td>0.000000</td>\n",
       "      <td>0.0</td>\n",
       "      <td>0.0</td>\n",
       "      <td>0.0</td>\n",
       "      <td>0.0</td>\n",
       "      <td>0.0</td>\n",
       "      <td>0.0</td>\n",
       "      <td>0.0</td>\n",
       "      <td>0.0</td>\n",
       "      <td>0.0</td>\n",
       "    </tr>\n",
       "    <tr>\n",
       "      <th>4</th>\n",
       "      <td>0.000000</td>\n",
       "      <td>0.0</td>\n",
       "      <td>0.0</td>\n",
       "      <td>0.000000</td>\n",
       "      <td>0.0</td>\n",
       "      <td>0.0</td>\n",
       "      <td>0.0</td>\n",
       "      <td>0.0</td>\n",
       "      <td>0.000000</td>\n",
       "      <td>0.0</td>\n",
       "      <td>...</td>\n",
       "      <td>0.000000</td>\n",
       "      <td>0.0</td>\n",
       "      <td>0.0</td>\n",
       "      <td>0.0</td>\n",
       "      <td>0.0</td>\n",
       "      <td>0.0</td>\n",
       "      <td>0.0</td>\n",
       "      <td>0.0</td>\n",
       "      <td>0.0</td>\n",
       "      <td>0.0</td>\n",
       "    </tr>\n",
       "    <tr>\n",
       "      <th>5</th>\n",
       "      <td>0.000000</td>\n",
       "      <td>0.0</td>\n",
       "      <td>0.0</td>\n",
       "      <td>-1.878723</td>\n",
       "      <td>0.0</td>\n",
       "      <td>0.0</td>\n",
       "      <td>0.0</td>\n",
       "      <td>0.0</td>\n",
       "      <td>0.000000</td>\n",
       "      <td>0.0</td>\n",
       "      <td>...</td>\n",
       "      <td>0.000000</td>\n",
       "      <td>0.0</td>\n",
       "      <td>0.0</td>\n",
       "      <td>0.0</td>\n",
       "      <td>0.0</td>\n",
       "      <td>0.0</td>\n",
       "      <td>0.0</td>\n",
       "      <td>0.0</td>\n",
       "      <td>0.0</td>\n",
       "      <td>0.0</td>\n",
       "    </tr>\n",
       "  </tbody>\n",
       "</table>\n",
       "<p>5 rows × 713 columns</p>\n",
       "</div>"
      ],
      "text/plain": [
       "MovieIDs      1     2     5         6     10    11    17    19        21    \\\n",
       "UserID                                                                       \n",
       "1         0.853154   0.0   0.0  0.000000   0.0   0.0   0.0   0.0  0.000000   \n",
       "2         0.000000   0.0   0.0  0.000000   0.0   0.0   0.0   0.0 -2.623894   \n",
       "3         0.000000   0.0   0.0  0.000000   0.0   0.0   0.0   0.0  0.000000   \n",
       "4         0.000000   0.0   0.0  0.000000   0.0   0.0   0.0   0.0  0.000000   \n",
       "5         0.000000   0.0   0.0 -1.878723   0.0   0.0   0.0   0.0  0.000000   \n",
       "\n",
       "MovieIDs  25    ...      3893  3897  3898  3908  3926  3927  3930  3948  3951  \\\n",
       "UserID          ...                                                             \n",
       "1          0.0  ...  0.000000   0.0   0.0   0.0   0.0   0.0   0.0   0.0   0.0   \n",
       "2          0.0  ... -2.502683   0.0   0.0   0.0   0.0   0.0   0.0   0.0   0.0   \n",
       "3          0.0  ...  0.000000   0.0   0.0   0.0   0.0   0.0   0.0   0.0   0.0   \n",
       "4          0.0  ...  0.000000   0.0   0.0   0.0   0.0   0.0   0.0   0.0   0.0   \n",
       "5          0.0  ...  0.000000   0.0   0.0   0.0   0.0   0.0   0.0   0.0   0.0   \n",
       "\n",
       "MovieIDs  3952  \n",
       "UserID          \n",
       "1          0.0  \n",
       "2          0.0  \n",
       "3          0.0  \n",
       "4          0.0  \n",
       "5          0.0  \n",
       "\n",
       "[5 rows x 713 columns]"
      ]
     },
     "execution_count": 40,
     "metadata": {},
     "output_type": "execute_result"
    }
   ],
   "source": [
    "# Kurangi rating dengan user rating \n",
    "rating_subtract_user_mean = (pivot_df_ratings - user_mean_).fillna(0)\n",
    "rating_subtract_user_mean.head()"
   ]
  },
  {
   "cell_type": "code",
   "execution_count": 41,
   "metadata": {},
   "outputs": [],
   "source": [
    "# Lakukan looping untuk menghitung seluruh similarity\n",
    "from sklearn.metrics.pairwise import cosine_similarity\n",
    "\n",
    "# Gunakan progress bar\n",
    "from tqdm import tqdm"
   ]
  },
  {
   "cell_type": "code",
   "execution_count": 42,
   "metadata": {},
   "outputs": [
    {
     "name": "stderr",
     "output_type": "stream",
     "text": [
      "100%|████████████████████████████████████████████████████████████████████████████| 6040/6040 [00:04<00:00, 1429.98it/s]\n"
     ]
    }
   ],
   "source": [
    "# Menghitung similarity score\n",
    "n_user = len(rating_subtract_user_mean.index)\n",
    "similarity_val = np.zeros(n_user)\n",
    "\n",
    "# Menghitung rating vektor dari user 1\n",
    "target_user = rating_subtract_user_mean.loc[UserID].values.reshape(1,-1)\n",
    "\n",
    "# Iterasi terhadap seluruh user\n",
    "for i, neigh in enumerate(tqdm(rating_subtract_user_mean.index)):\n",
    "    # Mencari user vektor\n",
    "    user_neigh = rating_subtract_user_mean.loc[neigh].values.reshape(1,-1)\n",
    "\n",
    "    # Menghitung similarities (Menggunakan cosine similarity)\n",
    "    similar_i = cosine_similarity(target_user, user_neigh)\n",
    "\n",
    "    similarity_val[i] = similar_i"
   ]
  },
  {
   "cell_type": "code",
   "execution_count": 43,
   "metadata": {},
   "outputs": [
    {
     "data": {
      "text/plain": [
       "Int64Index([4159, 5739, 946, 2488, 6008], dtype='int64', name='UserID')"
      ]
     },
     "execution_count": 43,
     "metadata": {},
     "output_type": "execute_result"
    }
   ],
   "source": [
    "# Urutkan similarity_val secara descending\n",
    "sort_index = np.argsort(similarity_val)[::-1]\n",
    "\n",
    "# Jumlah nilai terdekat yang dicari\n",
    "n = 5\n",
    "\n",
    "# Mendapatkan nilai terdekat\n",
    "n_similarity = rating_subtract_user_mean.index[sort_index[1: n+1]]\n",
    "n_similarity"
   ]
  },
  {
   "cell_type": "code",
   "execution_count": 44,
   "metadata": {},
   "outputs": [
    {
     "name": "stdout",
     "output_type": "stream",
     "text": [
      "Berikut 5 User yang memiliki kesamaan dengan User ID 1 :\n",
      "- User 4159\n",
      "- User 5739\n",
      "- User 946\n",
      "- User 2488\n",
      "- User 6008\n"
     ]
    }
   ],
   "source": [
    "print(f'Berikut {5} User yang memiliki kesamaan dengan User ID {UserID} :')\n",
    "for i in range(len(n_similarity)):\n",
    "    print(f'- User {n_similarity[i]}')"
   ]
  },
  {
   "cell_type": "markdown",
   "metadata": {},
   "source": [
    "#### Membuat fungsi `get_n_neigh`"
   ]
  },
  {
   "cell_type": "code",
   "execution_count": 32,
   "metadata": {},
   "outputs": [],
   "source": [
    "def get_n_neigh(rating_subtract_user_mean, userid, n=5):\n",
    "    \"\"\"\n",
    "    Fungsi yang digunakan untuk mencari n user dengan nilai terdekat\n",
    "\n",
    "    Parameters\n",
    "    ----------\n",
    "    rating_subtract_user_mean : pandas DataFrame,\n",
    "        Rating dari user yang telah dikurangi dengan bias dari user\n",
    "    \n",
    "    userid : int,\n",
    "        ID dari user pada utility matrix    \n",
    "\n",
    "    n : int,\n",
    "        Jumlah n user yang nilainya paling dekat dengan userid\n",
    "\n",
    "    Returns\n",
    "    -------\n",
    "    n_similarities : dict,\n",
    "        n_similarity --> Berisi n user dengan id termirip dengan userid berdasarkan rating\n",
    "        similarity_val --> Nilai rating dari n user tersebut\n",
    "    \"\"\"\n",
    "    # Menghitung similarity score\n",
    "    n_user = len(rating_subtract_user_mean.index)\n",
    "    similarity_val = np.zeros(n_user)\n",
    "\n",
    "    # Menghitung rating vektor dari user 5\n",
    "    target_user = rating_subtract_user_mean.loc[userid].values.reshape(1,-1)\n",
    "\n",
    "    # Iterasi terhadap seluruh user\n",
    "    for i, neigh in enumerate(tqdm(rating_subtract_user_mean.index)):\n",
    "        # Mencari user vektor\n",
    "        user_neigh = rating_subtract_user_mean.loc[neigh].values.reshape(1,-1)\n",
    "\n",
    "        # Menghitung similarities (Menggunakan cosine similarity)\n",
    "        similar_i = cosine_similarity(target_user, user_neigh)\n",
    "\n",
    "        similarity_val[i] = similar_i\n",
    "\n",
    "    # Urutkan similarity_val secara descending\n",
    "    sort_index = np.argsort(similarity_val)[::-1]\n",
    "\n",
    "    # Urutkan similarity val secara descending\n",
    "    similarity_val = np.sort(similarity_val)[::-1]\n",
    "\n",
    "    # Mendapatkan nilai terdekat\n",
    "    n_similarity = rating_subtract_user_mean.index[sort_index[1: n+1]].tolist()\n",
    "\n",
    "    # Mendapatkan n_similarity_val\n",
    "    n_similarity_val = list(similarity_val[1:n+1])\n",
    "\n",
    "    # Buat dictionary n_similarities\n",
    "    n_similarities = {\n",
    "            'n_similarity' : n_similarity,\n",
    "            'n_similarity_val' : n_similarity_val\n",
    "        }\n",
    "\n",
    "    # Return n_similarities\n",
    "    return n_similarities\n",
    " "
   ]
  },
  {
   "cell_type": "code",
   "execution_count": 33,
   "metadata": {},
   "outputs": [
    {
     "name": "stderr",
     "output_type": "stream",
     "text": [
      "100%|█████████████████████████████████████████████████████████████████████████████| 6040/6040 [00:06<00:00, 945.12it/s]\n"
     ]
    },
    {
     "data": {
      "text/plain": [
       "{'n_similarity': [4159, 5739, 946, 2488, 6008],\n",
       " 'n_similarity_val': [0.28911121288764985,\n",
       "  0.2828476952210488,\n",
       "  0.27225622315611275,\n",
       "  0.25922340946693134,\n",
       "  0.25326751841454037]}"
      ]
     },
     "execution_count": 33,
     "metadata": {},
     "output_type": "execute_result"
    }
   ],
   "source": [
    "list_neigh = get_n_neigh(rating_subtract_user_mean= rating_subtract_user_mean, userid=1, n=5)\n",
    "list_neigh"
   ]
  },
  {
   "cell_type": "markdown",
   "metadata": {},
   "source": [
    "#### Melakukan Prediksi Rating pada Utility Matrix"
   ]
  },
  {
   "cell_type": "code",
   "execution_count": 45,
   "metadata": {},
   "outputs": [
    {
     "data": {
      "text/html": [
       "<div>\n",
       "<style scoped>\n",
       "    .dataframe tbody tr th:only-of-type {\n",
       "        vertical-align: middle;\n",
       "    }\n",
       "\n",
       "    .dataframe tbody tr th {\n",
       "        vertical-align: top;\n",
       "    }\n",
       "\n",
       "    .dataframe thead th {\n",
       "        text-align: right;\n",
       "    }\n",
       "</style>\n",
       "<table border=\"1\" class=\"dataframe\">\n",
       "  <thead>\n",
       "    <tr style=\"text-align: right;\">\n",
       "      <th>MovieIDs</th>\n",
       "      <th>1</th>\n",
       "      <th>2</th>\n",
       "      <th>5</th>\n",
       "      <th>6</th>\n",
       "      <th>10</th>\n",
       "      <th>11</th>\n",
       "      <th>17</th>\n",
       "      <th>19</th>\n",
       "      <th>21</th>\n",
       "      <th>25</th>\n",
       "      <th>...</th>\n",
       "      <th>3893</th>\n",
       "      <th>3897</th>\n",
       "      <th>3898</th>\n",
       "      <th>3908</th>\n",
       "      <th>3926</th>\n",
       "      <th>3927</th>\n",
       "      <th>3930</th>\n",
       "      <th>3948</th>\n",
       "      <th>3951</th>\n",
       "      <th>3952</th>\n",
       "    </tr>\n",
       "    <tr>\n",
       "      <th>UserID</th>\n",
       "      <th></th>\n",
       "      <th></th>\n",
       "      <th></th>\n",
       "      <th></th>\n",
       "      <th></th>\n",
       "      <th></th>\n",
       "      <th></th>\n",
       "      <th></th>\n",
       "      <th></th>\n",
       "      <th></th>\n",
       "      <th></th>\n",
       "      <th></th>\n",
       "      <th></th>\n",
       "      <th></th>\n",
       "      <th></th>\n",
       "      <th></th>\n",
       "      <th></th>\n",
       "      <th></th>\n",
       "      <th></th>\n",
       "      <th></th>\n",
       "      <th></th>\n",
       "    </tr>\n",
       "  </thead>\n",
       "  <tbody>\n",
       "    <tr>\n",
       "      <th>1</th>\n",
       "      <td>5.0</td>\n",
       "      <td>NaN</td>\n",
       "      <td>NaN</td>\n",
       "      <td>NaN</td>\n",
       "      <td>NaN</td>\n",
       "      <td>NaN</td>\n",
       "      <td>NaN</td>\n",
       "      <td>NaN</td>\n",
       "      <td>NaN</td>\n",
       "      <td>NaN</td>\n",
       "      <td>...</td>\n",
       "      <td>NaN</td>\n",
       "      <td>NaN</td>\n",
       "      <td>NaN</td>\n",
       "      <td>NaN</td>\n",
       "      <td>NaN</td>\n",
       "      <td>NaN</td>\n",
       "      <td>NaN</td>\n",
       "      <td>NaN</td>\n",
       "      <td>NaN</td>\n",
       "      <td>NaN</td>\n",
       "    </tr>\n",
       "    <tr>\n",
       "      <th>2</th>\n",
       "      <td>NaN</td>\n",
       "      <td>NaN</td>\n",
       "      <td>NaN</td>\n",
       "      <td>NaN</td>\n",
       "      <td>NaN</td>\n",
       "      <td>NaN</td>\n",
       "      <td>NaN</td>\n",
       "      <td>NaN</td>\n",
       "      <td>1.0</td>\n",
       "      <td>NaN</td>\n",
       "      <td>...</td>\n",
       "      <td>1.0</td>\n",
       "      <td>NaN</td>\n",
       "      <td>NaN</td>\n",
       "      <td>NaN</td>\n",
       "      <td>NaN</td>\n",
       "      <td>NaN</td>\n",
       "      <td>NaN</td>\n",
       "      <td>NaN</td>\n",
       "      <td>NaN</td>\n",
       "      <td>NaN</td>\n",
       "    </tr>\n",
       "    <tr>\n",
       "      <th>3</th>\n",
       "      <td>NaN</td>\n",
       "      <td>NaN</td>\n",
       "      <td>NaN</td>\n",
       "      <td>NaN</td>\n",
       "      <td>NaN</td>\n",
       "      <td>NaN</td>\n",
       "      <td>NaN</td>\n",
       "      <td>NaN</td>\n",
       "      <td>NaN</td>\n",
       "      <td>NaN</td>\n",
       "      <td>...</td>\n",
       "      <td>NaN</td>\n",
       "      <td>NaN</td>\n",
       "      <td>NaN</td>\n",
       "      <td>NaN</td>\n",
       "      <td>NaN</td>\n",
       "      <td>NaN</td>\n",
       "      <td>NaN</td>\n",
       "      <td>NaN</td>\n",
       "      <td>NaN</td>\n",
       "      <td>NaN</td>\n",
       "    </tr>\n",
       "    <tr>\n",
       "      <th>4</th>\n",
       "      <td>NaN</td>\n",
       "      <td>NaN</td>\n",
       "      <td>NaN</td>\n",
       "      <td>NaN</td>\n",
       "      <td>NaN</td>\n",
       "      <td>NaN</td>\n",
       "      <td>NaN</td>\n",
       "      <td>NaN</td>\n",
       "      <td>NaN</td>\n",
       "      <td>NaN</td>\n",
       "      <td>...</td>\n",
       "      <td>NaN</td>\n",
       "      <td>NaN</td>\n",
       "      <td>NaN</td>\n",
       "      <td>NaN</td>\n",
       "      <td>NaN</td>\n",
       "      <td>NaN</td>\n",
       "      <td>NaN</td>\n",
       "      <td>NaN</td>\n",
       "      <td>NaN</td>\n",
       "      <td>NaN</td>\n",
       "    </tr>\n",
       "    <tr>\n",
       "      <th>5</th>\n",
       "      <td>NaN</td>\n",
       "      <td>NaN</td>\n",
       "      <td>NaN</td>\n",
       "      <td>2.0</td>\n",
       "      <td>NaN</td>\n",
       "      <td>NaN</td>\n",
       "      <td>NaN</td>\n",
       "      <td>NaN</td>\n",
       "      <td>NaN</td>\n",
       "      <td>NaN</td>\n",
       "      <td>...</td>\n",
       "      <td>NaN</td>\n",
       "      <td>NaN</td>\n",
       "      <td>NaN</td>\n",
       "      <td>NaN</td>\n",
       "      <td>NaN</td>\n",
       "      <td>NaN</td>\n",
       "      <td>NaN</td>\n",
       "      <td>NaN</td>\n",
       "      <td>NaN</td>\n",
       "      <td>NaN</td>\n",
       "    </tr>\n",
       "  </tbody>\n",
       "</table>\n",
       "<p>5 rows × 713 columns</p>\n",
       "</div>"
      ],
      "text/plain": [
       "MovieIDs  1     2     5     6     10    11    17    19    21    25    ...  \\\n",
       "UserID                                                                ...   \n",
       "1          5.0   NaN   NaN   NaN   NaN   NaN   NaN   NaN   NaN   NaN  ...   \n",
       "2          NaN   NaN   NaN   NaN   NaN   NaN   NaN   NaN   1.0   NaN  ...   \n",
       "3          NaN   NaN   NaN   NaN   NaN   NaN   NaN   NaN   NaN   NaN  ...   \n",
       "4          NaN   NaN   NaN   NaN   NaN   NaN   NaN   NaN   NaN   NaN  ...   \n",
       "5          NaN   NaN   NaN   2.0   NaN   NaN   NaN   NaN   NaN   NaN  ...   \n",
       "\n",
       "MovieIDs  3893  3897  3898  3908  3926  3927  3930  3948  3951  3952  \n",
       "UserID                                                                \n",
       "1          NaN   NaN   NaN   NaN   NaN   NaN   NaN   NaN   NaN   NaN  \n",
       "2          1.0   NaN   NaN   NaN   NaN   NaN   NaN   NaN   NaN   NaN  \n",
       "3          NaN   NaN   NaN   NaN   NaN   NaN   NaN   NaN   NaN   NaN  \n",
       "4          NaN   NaN   NaN   NaN   NaN   NaN   NaN   NaN   NaN   NaN  \n",
       "5          NaN   NaN   NaN   NaN   NaN   NaN   NaN   NaN   NaN   NaN  \n",
       "\n",
       "[5 rows x 713 columns]"
      ]
     },
     "execution_count": 45,
     "metadata": {},
     "output_type": "execute_result"
    }
   ],
   "source": [
    "pivot_df_ratings.head()"
   ]
  },
  {
   "cell_type": "code",
   "execution_count": 46,
   "metadata": {},
   "outputs": [
    {
     "name": "stdout",
     "output_type": "stream",
     "text": [
      "5.0\n",
      "nan\n",
      "5.0\n",
      "nan\n",
      "nan\n",
      "Prediksi rating untuk UserID 1, dan MovieID 1 adalah 4.93\n"
     ]
    }
   ],
   "source": [
    "# Menghitung baseline dari u, j\n",
    "# Definisikan placeholder\n",
    "n = 5\n",
    "total_rating_sim = 0\n",
    "sim_sum = 0\n",
    "\n",
    "# Iterasi untuk seluruh n user\n",
    "for i in range(n):\n",
    "    # Mendapatkan rating dari n-user\n",
    "    neigh_rating = pivot_df_ratings.loc[list_neigh['n_similarity'][i],MovieIDs]\n",
    "    print(neigh_rating)\n",
    "\n",
    "    # Abaikan nilai NaN\n",
    "    if np.isnan(neigh_rating):\n",
    "        continue\n",
    "\n",
    "    # Menghitung nilai baseline (j, i)\n",
    "    baseline = calculate_baseline_prediction(pivot_df_ratings= pivot_df_ratings,\n",
    "                                             userid = list_neigh['n_similarity'][i], movieid=MovieIDs)\n",
    "    \n",
    "    # Kurangi baseline dengan rating\n",
    "    substracted_rating = neigh_rating - baseline\n",
    "\n",
    "    # Kalikan dengan similarity\n",
    "    rating_sim = list_neigh['n_similarity_val'][i]*substracted_rating\n",
    "\n",
    "    # Jumlah similarity dikalikan dengan rating\n",
    "    total_rating_sim += rating_sim\n",
    "\n",
    "    # Jumlah total similarity\n",
    "    sim_sum += list_neigh['n_similarity_val'][i]\n",
    "\n",
    "rating_user_item_predicted = baseline + (total_rating_sim / sim_sum)\n",
    "\n",
    "print(f'Prediksi rating untuk UserID {UserID}, dan MovieID {MovieIDs} adalah {round(rating_user_item_predicted,2)}')\n"
   ]
  },
  {
   "cell_type": "markdown",
   "metadata": {},
   "source": [
    "#### Membuat fungsi `rating_predicted_item`"
   ]
  },
  {
   "cell_type": "code",
   "execution_count": 47,
   "metadata": {},
   "outputs": [],
   "source": [
    "def rating_predicted_item(userid, movieid, pivot_df_ratings, list_neigh, n,\n",
    "                          max_rating = 5, min_rating = 1):\n",
    "    \"\"\"\n",
    "    Fungsi untuk melakukan prediksi rating pada UserID dan MoviesIDs\n",
    "\n",
    "    Parameters\n",
    "    ---------\n",
    "    userid : int,\n",
    "        ID dari user pada utility matrix\n",
    "\n",
    "    movieid : int,\n",
    "        ID dari movie pada utility matrix\n",
    "\n",
    "    pivot_df_ratings : pandas DataFrame,\n",
    "        DataFrame rating dari user dan movies yang telah dilakukan pivot table\n",
    "\n",
    "    list_neigh : list,\n",
    "        n user terdekat dengan userid untuk rating movieid\n",
    "\n",
    "    n : int,\n",
    "        Jumlah n tetangga terdekat dengan userid\n",
    "\n",
    "    max_rating : int (default=5),\n",
    "        Rating maksimal yang dapat diberikan oleh User\n",
    "    \n",
    "    min_rating : int (default=1),\n",
    "        Rating minimal yang dapati diberikan oleh User\n",
    "\n",
    "    Returns\n",
    "    -------\n",
    "    rating_user_item_predicted : int,\n",
    "        Prediksi rating dari movie pada userid dan movie tersebut   \n",
    "    \"\"\"\n",
    "    # Menghapus user mean pada rating\n",
    "    user_mean_ = pivot_df_ratings.mean(axis=0)\n",
    "    rating_subtract_user_mean = (pivot_df_ratings - user_mean_).fillna(0)\n",
    "\n",
    "    # Menghitung baseline (u, i)\n",
    "    baseline = calculate_baseline_prediction(pivot_df_ratings= pivot_df_ratings,\n",
    "                                            userid = userid, movieid= movieid)\n",
    "    \n",
    "    total_rating_sim = 0\n",
    "    sim_sum = 0\n",
    "    # Iterasi untuk mendapatkan jumlah rating\n",
    "    for i in range(n):\n",
    "    # Mendapatkan rating dari n-user\n",
    "        neigh_rating = pivot_df_ratings.loc[list_neigh['n_similarity'][i],movieid]\n",
    "        print(neigh_rating)\n",
    "\n",
    "        # Abaikan nilai NaN\n",
    "        if np.isnan(neigh_rating):\n",
    "            continue\n",
    "\n",
    "        # Menghitung nilai baseline (j, i)\n",
    "        baseline = calculate_baseline_prediction(pivot_df_ratings= pivot_df_ratings,\n",
    "                                                userid = list_neigh['n_similarity'][i], movieid=movieid)\n",
    "        \n",
    "        # Kurangi baseline dengan rating\n",
    "        substracted_rating = neigh_rating - baseline\n",
    "\n",
    "        # Kalikan dengan similarity\n",
    "        rating_sim = list_neigh['n_similarity_val'][i]*substracted_rating\n",
    "\n",
    "        # Jumlah similarity dikalikan dengan rating\n",
    "        total_rating_sim += rating_sim\n",
    "\n",
    "        # Jumlah total similarity\n",
    "        sim_sum += list_neigh['n_similarity_val'][i]\n",
    "    \n",
    "    # Defence terhadap ZeroDivisionError\n",
    "    try :\n",
    "        rating_user_item_predicted = baseline + (total_rating_sim / sim_sum)\n",
    "\n",
    "    except ZeroDivisionError:\n",
    "        rating_user_item_predicted = baseline\n",
    "\n",
    "    # Cek terhadap batas dari rating (max_rating / min_rating)\n",
    "    if rating_user_item_predicted > max_rating:\n",
    "        rating_user_item_predicted = max_rating\n",
    "\n",
    "    elif rating_user_item_predicted < min_rating:\n",
    "        rating_user_item_predicted = min_rating\n",
    "\n",
    "    return round(rating_user_item_predicted,2)"
   ]
  },
  {
   "cell_type": "code",
   "execution_count": 48,
   "metadata": {},
   "outputs": [
    {
     "name": "stdout",
     "output_type": "stream",
     "text": [
      "5.0\n",
      "nan\n",
      "5.0\n",
      "nan\n",
      "nan\n"
     ]
    },
    {
     "data": {
      "text/plain": [
       "4.93"
      ]
     },
     "execution_count": 48,
     "metadata": {},
     "output_type": "execute_result"
    }
   ],
   "source": [
    "# Melakukan pengecekan fungsi `rating_predicted_item`\n",
    "rating_predicted_item(userid = UserID, movieid = MovieIDs,\n",
    "                      pivot_df_ratings = pivot_df_ratings,\n",
    "                      list_neigh = list_neigh, n = 5)"
   ]
  },
  {
   "cell_type": "markdown",
   "metadata": {},
   "source": [
    "#### Generate Recommendation"
   ]
  },
  {
   "cell_type": "code",
   "execution_count": 49,
   "metadata": {},
   "outputs": [
    {
     "name": "stderr",
     "output_type": "stream",
     "text": [
      "  0%|                                                                                  | 1/686 [00:00<02:45,  4.15it/s]"
     ]
    },
    {
     "name": "stdout",
     "output_type": "stream",
     "text": [
      "nan\n",
      "nan\n",
      "nan\n",
      "nan\n",
      "nan\n"
     ]
    },
    {
     "name": "stderr",
     "output_type": "stream",
     "text": [
      "\r",
      "  0%|▏                                                                                 | 2/686 [00:00<02:42,  4.20it/s]"
     ]
    },
    {
     "name": "stdout",
     "output_type": "stream",
     "text": [
      "nan\n",
      "nan\n",
      "nan\n",
      "nan\n",
      "nan\n"
     ]
    },
    {
     "name": "stderr",
     "output_type": "stream",
     "text": [
      "\r",
      "  0%|▎                                                                                 | 3/686 [00:00<02:33,  4.45it/s]"
     ]
    },
    {
     "name": "stdout",
     "output_type": "stream",
     "text": [
      "nan\n",
      "nan\n",
      "nan\n",
      "nan\n",
      "nan\n",
      "nan\n",
      "nan\n",
      "nan\n",
      "nan\n",
      "nan\n"
     ]
    },
    {
     "name": "stderr",
     "output_type": "stream",
     "text": [
      "  1%|▋                                                                                 | 6/686 [00:01<02:15,  5.03it/s]"
     ]
    },
    {
     "name": "stdout",
     "output_type": "stream",
     "text": [
      "nan\n",
      "nan\n",
      "nan\n",
      "nan\n",
      "nan\n",
      "nan\n",
      "nan\n",
      "nan\n",
      "nan\n",
      "nan\n"
     ]
    },
    {
     "name": "stderr",
     "output_type": "stream",
     "text": [
      "\r",
      "  1%|▊                                                                                 | 7/686 [00:01<02:23,  4.74it/s]"
     ]
    },
    {
     "name": "stdout",
     "output_type": "stream",
     "text": [
      "nan\n",
      "nan\n",
      "nan\n",
      "nan\n",
      "nan\n"
     ]
    },
    {
     "name": "stderr",
     "output_type": "stream",
     "text": [
      "\r",
      "  1%|▉                                                                                 | 8/686 [00:01<02:20,  4.83it/s]"
     ]
    },
    {
     "name": "stdout",
     "output_type": "stream",
     "text": [
      "nan\n",
      "nan\n",
      "nan\n",
      "nan\n",
      "nan\n",
      "nan\n",
      "nan\n",
      "nan\n",
      "nan\n",
      "nan\n"
     ]
    },
    {
     "name": "stderr",
     "output_type": "stream",
     "text": [
      "  1%|█▏                                                                               | 10/686 [00:02<02:24,  4.67it/s]"
     ]
    },
    {
     "name": "stdout",
     "output_type": "stream",
     "text": [
      "nan\n",
      "nan\n",
      "nan\n",
      "nan\n",
      "nan\n",
      "nan\n",
      "nan\n",
      "nan\n",
      "nan\n",
      "nan\n"
     ]
    },
    {
     "name": "stderr",
     "output_type": "stream",
     "text": [
      "  2%|█▍                                                                               | 12/686 [00:02<02:16,  4.93it/s]"
     ]
    },
    {
     "name": "stdout",
     "output_type": "stream",
     "text": [
      "nan\n",
      "nan\n",
      "nan\n",
      "nan\n",
      "nan\n",
      "nan\n",
      "nan\n",
      "nan\n",
      "nan\n",
      "nan\n"
     ]
    },
    {
     "name": "stderr",
     "output_type": "stream",
     "text": [
      "  2%|█▋                                                                               | 14/686 [00:02<02:15,  4.96it/s]"
     ]
    },
    {
     "name": "stdout",
     "output_type": "stream",
     "text": [
      "nan\n",
      "nan\n",
      "nan\n",
      "nan\n",
      "nan\n",
      "nan\n",
      "nan\n",
      "nan\n",
      "nan\n",
      "nan\n"
     ]
    },
    {
     "name": "stderr",
     "output_type": "stream",
     "text": [
      "  2%|█▉                                                                               | 16/686 [00:03<02:20,  4.76it/s]"
     ]
    },
    {
     "name": "stdout",
     "output_type": "stream",
     "text": [
      "nan\n",
      "nan\n",
      "nan\n",
      "nan\n",
      "nan\n",
      "nan\n",
      "nan\n",
      "nan"
     ]
    },
    {
     "name": "stderr",
     "output_type": "stream",
     "text": [
      "\r",
      "  2%|██                                                                               | 17/686 [00:03<02:15,  4.95it/s]"
     ]
    },
    {
     "name": "stdout",
     "output_type": "stream",
     "text": [
      "\n",
      "nan\n",
      "nan\n",
      "nan\n",
      "5.0\n"
     ]
    },
    {
     "name": "stderr",
     "output_type": "stream",
     "text": [
      "\r",
      "  3%|██▏                                                                              | 18/686 [00:03<02:16,  4.89it/s]"
     ]
    },
    {
     "name": "stdout",
     "output_type": "stream",
     "text": [
      "nan\n",
      "nan\n",
      "nan\n"
     ]
    },
    {
     "name": "stderr",
     "output_type": "stream",
     "text": [
      "\r",
      "  3%|██▏                                                                              | 19/686 [00:03<02:20,  4.74it/s]"
     ]
    },
    {
     "name": "stdout",
     "output_type": "stream",
     "text": [
      "nan\n",
      "nan\n",
      "nan\n",
      "nan\n",
      "nan\n",
      "nan\n",
      "nan\n",
      "nan\n",
      "nan\n",
      "nan\n"
     ]
    },
    {
     "name": "stderr",
     "output_type": "stream",
     "text": [
      "  3%|██▍                                                                              | 21/686 [00:04<02:14,  4.96it/s]"
     ]
    },
    {
     "name": "stdout",
     "output_type": "stream",
     "text": [
      "nan\n",
      "nan\n",
      "nan\n",
      "nan\n",
      "nan\n",
      "nan\n",
      "3.0\n"
     ]
    },
    {
     "name": "stderr",
     "output_type": "stream",
     "text": [
      "\r",
      "  3%|██▌                                                                              | 22/686 [00:04<02:08,  5.15it/s]"
     ]
    },
    {
     "name": "stdout",
     "output_type": "stream",
     "text": [
      "nan\n",
      "nan\n",
      "nan\n",
      "nan"
     ]
    },
    {
     "name": "stderr",
     "output_type": "stream",
     "text": [
      "\r",
      "  3%|██▋                                                                              | 23/686 [00:04<02:07,  5.19it/s]"
     ]
    },
    {
     "name": "stdout",
     "output_type": "stream",
     "text": [
      "\n",
      "nan\n",
      "nan\n",
      "nan\n",
      "nan\n"
     ]
    },
    {
     "name": "stderr",
     "output_type": "stream",
     "text": [
      "\r",
      "  3%|██▊                                                                              | 24/686 [00:04<02:15,  4.88it/s]"
     ]
    },
    {
     "name": "stdout",
     "output_type": "stream",
     "text": [
      "nan\n",
      "nan\n",
      "nan\n",
      "nan\n",
      "nan\n",
      "nan\n",
      "4.0\n"
     ]
    },
    {
     "name": "stderr",
     "output_type": "stream",
     "text": [
      "\r",
      "  4%|██▉                                                                              | 25/686 [00:05<02:15,  4.90it/s]"
     ]
    },
    {
     "name": "stdout",
     "output_type": "stream",
     "text": [
      "4.0\n",
      "nan\n",
      "5.0\n",
      "nan\n",
      "nan\n",
      "nan\n",
      "4.0\n"
     ]
    },
    {
     "name": "stderr",
     "output_type": "stream",
     "text": [
      "\r",
      "  4%|███                                                                              | 26/686 [00:05<02:11,  5.04it/s]"
     ]
    },
    {
     "name": "stdout",
     "output_type": "stream",
     "text": [
      "nan\n"
     ]
    },
    {
     "name": "stderr",
     "output_type": "stream",
     "text": [
      "\r",
      "  4%|███▏                                                                             | 27/686 [00:05<02:15,  4.86it/s]"
     ]
    },
    {
     "name": "stdout",
     "output_type": "stream",
     "text": [
      "nan\n",
      "nan\n",
      "nan\n",
      "nan\n",
      "nan\n",
      "nan\n"
     ]
    },
    {
     "name": "stderr",
     "output_type": "stream",
     "text": [
      "\r",
      "  4%|███▎                                                                             | 28/686 [00:05<02:16,  4.83it/s]"
     ]
    },
    {
     "name": "stdout",
     "output_type": "stream",
     "text": [
      "nan\n",
      "nan\n",
      "nan\n",
      "nan\n",
      "nan\n"
     ]
    },
    {
     "name": "stderr",
     "output_type": "stream",
     "text": [
      "  4%|███▌                                                                             | 30/686 [00:06<02:17,  4.77it/s]"
     ]
    },
    {
     "name": "stdout",
     "output_type": "stream",
     "text": [
      "nan\n",
      "nan\n",
      "nan\n",
      "nan\n",
      "nan\n",
      "nan\n",
      "nan\n",
      "nan\n",
      "nan\n"
     ]
    },
    {
     "name": "stderr",
     "output_type": "stream",
     "text": [
      "\r",
      "  5%|███▋                                                                             | 31/686 [00:06<02:12,  4.96it/s]"
     ]
    },
    {
     "name": "stdout",
     "output_type": "stream",
     "text": [
      "nan\n",
      "nan\n",
      "nan\n",
      "nan\n",
      "nan\n"
     ]
    },
    {
     "name": "stderr",
     "output_type": "stream",
     "text": [
      "  5%|███▉                                                                             | 33/686 [00:06<02:14,  4.85it/s]"
     ]
    },
    {
     "name": "stdout",
     "output_type": "stream",
     "text": [
      "nan\n",
      "nan\n",
      "nan\n",
      "nan\n",
      "nan\n",
      "nan\n",
      "nan\n",
      "nan\n",
      "nan\n",
      "nan\n"
     ]
    },
    {
     "name": "stderr",
     "output_type": "stream",
     "text": [
      "\r",
      "  5%|████                                                                             | 34/686 [00:07<02:13,  4.88it/s]"
     ]
    },
    {
     "name": "stdout",
     "output_type": "stream",
     "text": [
      "nan\n",
      "nan\n",
      "nan\n",
      "nan\n",
      "nan\n",
      "nan\n",
      "nan\n",
      "nan\n",
      "nan\n",
      "nan\n"
     ]
    },
    {
     "name": "stderr",
     "output_type": "stream",
     "text": [
      "  5%|████▎                                                                            | 36/686 [00:07<02:10,  4.97it/s]"
     ]
    },
    {
     "name": "stdout",
     "output_type": "stream",
     "text": [
      "nan\n",
      "nan\n",
      "nan\n",
      "nan\n",
      "nan\n",
      "nan\n"
     ]
    },
    {
     "name": "stderr",
     "output_type": "stream",
     "text": [
      "\r",
      "  5%|████▎                                                                            | 37/686 [00:07<02:09,  5.02it/s]"
     ]
    },
    {
     "name": "stdout",
     "output_type": "stream",
     "text": [
      "nan\n",
      "nan\n",
      "nan\n",
      "nan\n"
     ]
    },
    {
     "name": "stderr",
     "output_type": "stream",
     "text": [
      "\r",
      "  6%|████▍                                                                            | 38/686 [00:07<02:13,  4.86it/s]"
     ]
    },
    {
     "name": "stdout",
     "output_type": "stream",
     "text": [
      "nan\n",
      "nan\n",
      "nan\n",
      "nan\n",
      "nan\n"
     ]
    },
    {
     "name": "stderr",
     "output_type": "stream",
     "text": [
      "\r",
      "  6%|████▌                                                                            | 39/686 [00:08<02:17,  4.71it/s]"
     ]
    },
    {
     "name": "stdout",
     "output_type": "stream",
     "text": [
      "nan\n",
      "nan\n",
      "nan\n",
      "nan\n",
      "nan\n"
     ]
    },
    {
     "name": "stderr",
     "output_type": "stream",
     "text": [
      "\r",
      "  6%|████▋                                                                            | 40/686 [00:08<02:15,  4.78it/s]"
     ]
    },
    {
     "name": "stdout",
     "output_type": "stream",
     "text": [
      "nan\n",
      "nan\n",
      "nan\n",
      "nan\n",
      "nan\n",
      "nan\n",
      "nan\n",
      "nan\n",
      "nan\n",
      "nan\n"
     ]
    },
    {
     "name": "stderr",
     "output_type": "stream",
     "text": [
      "  6%|████▉                                                                            | 42/686 [00:08<02:08,  4.99it/s]"
     ]
    },
    {
     "name": "stdout",
     "output_type": "stream",
     "text": [
      "nan\n",
      "nan\n",
      "nan\n",
      "nan\n",
      "nan\n"
     ]
    },
    {
     "name": "stderr",
     "output_type": "stream",
     "text": [
      "\r",
      "  6%|█████                                                                            | 43/686 [00:08<02:11,  4.89it/s]"
     ]
    },
    {
     "name": "stdout",
     "output_type": "stream",
     "text": [
      "nan\n",
      "nan\n",
      "nan\n",
      "nan\n",
      "nan\n",
      "nan\n",
      "nan\n",
      "nan\n",
      "nan\n",
      "nan\n"
     ]
    },
    {
     "name": "stderr",
     "output_type": "stream",
     "text": [
      "  7%|█████▎                                                                           | 45/686 [00:09<02:10,  4.93it/s]"
     ]
    },
    {
     "name": "stdout",
     "output_type": "stream",
     "text": [
      "nan\n",
      "nan\n",
      "nan\n",
      "nan\n",
      "nan\n",
      "nan\n",
      "nan\n",
      "nan\n",
      "nan\n",
      "nan\n"
     ]
    },
    {
     "name": "stderr",
     "output_type": "stream",
     "text": [
      "  7%|█████▌                                                                           | 47/686 [00:09<02:10,  4.91it/s]"
     ]
    },
    {
     "name": "stdout",
     "output_type": "stream",
     "text": [
      "nan\n",
      "nan\n",
      "nan\n",
      "nan\n",
      "nan\n",
      "nan\n"
     ]
    },
    {
     "name": "stderr",
     "output_type": "stream",
     "text": [
      "\r",
      "  7%|█████▋                                                                           | 48/686 [00:09<02:10,  4.89it/s]"
     ]
    },
    {
     "name": "stdout",
     "output_type": "stream",
     "text": [
      "nan\n",
      "nan\n",
      "nan\n",
      "nan\n"
     ]
    },
    {
     "name": "stderr",
     "output_type": "stream",
     "text": [
      "\r",
      "  7%|█████▊                                                                           | 49/686 [00:10<02:13,  4.77it/s]"
     ]
    },
    {
     "name": "stdout",
     "output_type": "stream",
     "text": [
      "3.0\n",
      "nan\n",
      "nan\n",
      "nan\n",
      "nan\n"
     ]
    },
    {
     "name": "stderr",
     "output_type": "stream",
     "text": [
      "\r",
      "  7%|█████▉                                                                           | 50/686 [00:10<02:19,  4.55it/s]"
     ]
    },
    {
     "name": "stdout",
     "output_type": "stream",
     "text": [
      "nan\n",
      "nan\n",
      "nan\n",
      "nan\n",
      "nan\n"
     ]
    },
    {
     "name": "stderr",
     "output_type": "stream",
     "text": [
      "\r",
      "  7%|██████                                                                           | 51/686 [00:10<02:18,  4.60it/s]"
     ]
    },
    {
     "name": "stdout",
     "output_type": "stream",
     "text": [
      "nan\n",
      "nan\n",
      "nan\n",
      "nan\n",
      "nan\n",
      "nan\n",
      "nan\n",
      "nan\n",
      "nan\n",
      "nan\n"
     ]
    },
    {
     "name": "stderr",
     "output_type": "stream",
     "text": [
      "  8%|██████▎                                                                          | 53/686 [00:10<02:19,  4.53it/s]"
     ]
    },
    {
     "name": "stdout",
     "output_type": "stream",
     "text": [
      "nan\n",
      "4.0\n",
      "nan\n",
      "nan\n",
      "nan\n"
     ]
    },
    {
     "name": "stderr",
     "output_type": "stream",
     "text": [
      "\r",
      "  8%|██████▍                                                                          | 54/686 [00:11<02:17,  4.59it/s]"
     ]
    },
    {
     "name": "stdout",
     "output_type": "stream",
     "text": [
      "nan\n",
      "nan\n",
      "nan\n",
      "nan\n",
      "nan\n",
      "nan\n",
      "nan\n"
     ]
    },
    {
     "name": "stderr",
     "output_type": "stream",
     "text": [
      "\r",
      "  8%|██████▍                                                                          | 55/686 [00:11<02:12,  4.74it/s]"
     ]
    },
    {
     "name": "stdout",
     "output_type": "stream",
     "text": [
      "nan\n",
      "nan\n",
      "nan\n",
      "nan\n",
      "nan\n",
      "nan\n",
      "nan\n",
      "nan\n"
     ]
    },
    {
     "name": "stderr",
     "output_type": "stream",
     "text": [
      "  8%|██████▋                                                                          | 57/686 [00:11<02:08,  4.90it/s]"
     ]
    },
    {
     "name": "stdout",
     "output_type": "stream",
     "text": [
      "nan\n",
      "nan\n",
      "nan\n",
      "nan\n",
      "nan\n",
      "nan\n",
      "nan\n",
      "nan\n",
      "nan\n",
      "nan\n"
     ]
    },
    {
     "name": "stderr",
     "output_type": "stream",
     "text": [
      "  9%|██████▉                                                                          | 59/686 [00:12<02:04,  5.02it/s]"
     ]
    },
    {
     "name": "stdout",
     "output_type": "stream",
     "text": [
      "5.0\n",
      "nan\n",
      "nan\n",
      "nan\n",
      "nan\n",
      "nan\n",
      "nan\n",
      "nan\n"
     ]
    },
    {
     "name": "stderr",
     "output_type": "stream",
     "text": [
      "\r",
      "  9%|███████                                                                          | 60/686 [00:12<02:06,  4.95it/s]"
     ]
    },
    {
     "name": "stdout",
     "output_type": "stream",
     "text": [
      "nan\n",
      "nan\n"
     ]
    },
    {
     "name": "stderr",
     "output_type": "stream",
     "text": [
      "\r",
      "  9%|███████▏                                                                         | 61/686 [00:12<02:17,  4.54it/s]"
     ]
    },
    {
     "name": "stdout",
     "output_type": "stream",
     "text": [
      "nan\n",
      "nan\n",
      "nan\n",
      "nan\n",
      "4.0\n"
     ]
    },
    {
     "name": "stderr",
     "output_type": "stream",
     "text": [
      "\r",
      "  9%|███████▎                                                                         | 62/686 [00:12<02:18,  4.49it/s]"
     ]
    },
    {
     "name": "stdout",
     "output_type": "stream",
     "text": [
      "nan\n",
      "nan\n",
      "nan\n",
      "nan\n",
      "nan\n",
      "nan\n",
      "nan\n",
      "nan\n",
      "nan\n"
     ]
    },
    {
     "name": "stderr",
     "output_type": "stream",
     "text": [
      "\r",
      "  9%|███████▍                                                                         | 63/686 [00:13<02:13,  4.66it/s]"
     ]
    },
    {
     "name": "stdout",
     "output_type": "stream",
     "text": [
      "nan\n"
     ]
    },
    {
     "name": "stderr",
     "output_type": "stream",
     "text": [
      "  9%|███████▋                                                                         | 65/686 [00:13<02:16,  4.56it/s]"
     ]
    },
    {
     "name": "stdout",
     "output_type": "stream",
     "text": [
      "nan\n",
      "nan\n",
      "nan\n",
      "nan\n",
      "nan\n",
      "nan\n",
      "nan\n",
      "nan\n",
      "nan\n",
      "nan\n",
      "nan\n",
      "nan\n",
      "nan\n",
      "nan\n",
      "nan\n"
     ]
    },
    {
     "name": "stderr",
     "output_type": "stream",
     "text": [
      "\r",
      " 10%|███████▊                                                                         | 66/686 [00:13<02:10,  4.74it/s]"
     ]
    },
    {
     "name": "stdout",
     "output_type": "stream",
     "text": [
      "nan\n",
      "nan\n",
      "nan\n",
      "nan\n",
      "nan\n"
     ]
    },
    {
     "name": "stderr",
     "output_type": "stream",
     "text": [
      " 10%|████████▏                                                                        | 69/686 [00:14<02:02,  5.03it/s]"
     ]
    },
    {
     "name": "stdout",
     "output_type": "stream",
     "text": [
      "nan\n",
      "nan\n",
      "nan\n",
      "nan\n",
      "nan\n",
      "nan\n",
      "nan\n",
      "nan\n",
      "nan\n",
      "nan\n"
     ]
    },
    {
     "name": "stderr",
     "output_type": "stream",
     "text": [
      "\r",
      " 10%|████████▎                                                                        | 70/686 [00:14<02:03,  5.00it/s]"
     ]
    },
    {
     "name": "stdout",
     "output_type": "stream",
     "text": [
      "nan\n",
      "nan\n",
      "nan\n",
      "5.0\n",
      "nan\n"
     ]
    },
    {
     "name": "stderr",
     "output_type": "stream",
     "text": [
      "\r",
      " 10%|████████▍                                                                        | 71/686 [00:14<02:05,  4.90it/s]"
     ]
    },
    {
     "name": "stdout",
     "output_type": "stream",
     "text": [
      "nan\n",
      "nan\n",
      "nan\n",
      "nan\n",
      "nan\n",
      "nan\n",
      "nan\n",
      "nan\n"
     ]
    },
    {
     "name": "stderr",
     "output_type": "stream",
     "text": [
      "\r",
      " 10%|████████▌                                                                        | 72/686 [00:14<02:06,  4.86it/s]"
     ]
    },
    {
     "name": "stdout",
     "output_type": "stream",
     "text": [
      "nan\n",
      "nan\n",
      "nan\n",
      "nan\n",
      "nan\n",
      "nan\n",
      "nan\n"
     ]
    },
    {
     "name": "stderr",
     "output_type": "stream",
     "text": [
      " 11%|████████▋                                                                        | 74/686 [00:15<02:01,  5.06it/s]"
     ]
    },
    {
     "name": "stdout",
     "output_type": "stream",
     "text": [
      "nan\n",
      "nan\n",
      "nan\n",
      "nan\n",
      "nan\n",
      "nan\n",
      "nan\n",
      "nan\n"
     ]
    },
    {
     "name": "stderr",
     "output_type": "stream",
     "text": [
      "\r",
      " 11%|████████▊                                                                        | 75/686 [00:15<01:56,  5.23it/s]"
     ]
    },
    {
     "name": "stdout",
     "output_type": "stream",
     "text": [
      "nan\n",
      "nan\n",
      "nan\n",
      "nan\n"
     ]
    },
    {
     "name": "stderr",
     "output_type": "stream",
     "text": [
      "\r",
      " 11%|████████▉                                                                        | 76/686 [00:15<01:56,  5.25it/s]"
     ]
    },
    {
     "name": "stdout",
     "output_type": "stream",
     "text": [
      "nan\n",
      "nan\n",
      "nan\n",
      "nan\n",
      "nan\n",
      "nan\n",
      "nan"
     ]
    },
    {
     "name": "stderr",
     "output_type": "stream",
     "text": [
      "\r",
      " 11%|█████████                                                                        | 77/686 [00:15<01:58,  5.16it/s]"
     ]
    },
    {
     "name": "stdout",
     "output_type": "stream",
     "text": [
      "\n",
      "nan\n"
     ]
    },
    {
     "name": "stderr",
     "output_type": "stream",
     "text": [
      "\r",
      " 11%|█████████▏                                                                       | 78/686 [00:16<02:04,  4.88it/s]"
     ]
    },
    {
     "name": "stdout",
     "output_type": "stream",
     "text": [
      "nan\n",
      "nan\n",
      "nan\n",
      "nan\n",
      "nan\n"
     ]
    },
    {
     "name": "stderr",
     "output_type": "stream",
     "text": [
      "\r",
      " 12%|█████████▎                                                                       | 79/686 [00:16<02:09,  4.69it/s]"
     ]
    },
    {
     "name": "stdout",
     "output_type": "stream",
     "text": [
      "nan\n",
      "nan\n",
      "nan\n",
      "nan\n",
      "4.0\n"
     ]
    },
    {
     "name": "stderr",
     "output_type": "stream",
     "text": [
      "\r",
      " 12%|█████████▍                                                                       | 80/686 [00:16<02:06,  4.80it/s]"
     ]
    },
    {
     "name": "stdout",
     "output_type": "stream",
     "text": [
      "nan\n",
      "nan\n",
      "nan\n",
      "nan\n",
      "nan\n",
      "nan\n",
      "nan\n",
      "nan\n",
      "nan\n",
      "nan\n"
     ]
    },
    {
     "name": "stderr",
     "output_type": "stream",
     "text": [
      " 12%|█████████▋                                                                       | 82/686 [00:16<02:00,  5.01it/s]"
     ]
    },
    {
     "name": "stdout",
     "output_type": "stream",
     "text": [
      "nan\n",
      "nan\n",
      "nan\n",
      "nan\n",
      "nan\n",
      "nan\n",
      "nan\n",
      "nan\n",
      "nan\n",
      "nan\n"
     ]
    },
    {
     "name": "stderr",
     "output_type": "stream",
     "text": [
      " 12%|█████████▉                                                                       | 84/686 [00:17<02:01,  4.97it/s]"
     ]
    },
    {
     "name": "stdout",
     "output_type": "stream",
     "text": [
      "nan\n",
      "nan\n",
      "nan\n",
      "nan\n",
      "nan\n"
     ]
    },
    {
     "name": "stderr",
     "output_type": "stream",
     "text": [
      "\r",
      " 12%|██████████                                                                       | 85/686 [00:17<02:10,  4.61it/s]"
     ]
    },
    {
     "name": "stdout",
     "output_type": "stream",
     "text": [
      "nan\n",
      "nan\n",
      "nan\n",
      "nan\n",
      "nan\n"
     ]
    },
    {
     "name": "stderr",
     "output_type": "stream",
     "text": [
      "\r",
      " 13%|██████████▏                                                                      | 86/686 [00:17<02:14,  4.47it/s]"
     ]
    },
    {
     "name": "stdout",
     "output_type": "stream",
     "text": [
      "nan\n",
      "nan\n",
      "nan\n",
      "nan\n",
      "nan\n"
     ]
    },
    {
     "name": "stderr",
     "output_type": "stream",
     "text": [
      "\r",
      " 13%|██████████▎                                                                      | 87/686 [00:18<02:11,  4.55it/s]"
     ]
    },
    {
     "name": "stdout",
     "output_type": "stream",
     "text": [
      "nan\n",
      "nan\n",
      "nan\n",
      "nan\n",
      "nan\n"
     ]
    },
    {
     "name": "stderr",
     "output_type": "stream",
     "text": [
      "\r",
      " 13%|██████████▍                                                                      | 88/686 [00:18<02:12,  4.52it/s]"
     ]
    },
    {
     "name": "stdout",
     "output_type": "stream",
     "text": [
      "nan\n",
      "nan\n",
      "nan\n",
      "nan\n",
      "nan\n"
     ]
    },
    {
     "name": "stderr",
     "output_type": "stream",
     "text": [
      "\r",
      " 13%|██████████▌                                                                      | 89/686 [00:18<02:17,  4.35it/s]"
     ]
    },
    {
     "name": "stdout",
     "output_type": "stream",
     "text": [
      "nan\n",
      "nan\n",
      "nan\n",
      "nan\n",
      "nan\n"
     ]
    },
    {
     "name": "stderr",
     "output_type": "stream",
     "text": [
      "\r",
      " 13%|██████████▋                                                                      | 90/686 [00:18<02:14,  4.42it/s]"
     ]
    },
    {
     "name": "stdout",
     "output_type": "stream",
     "text": [
      "nan\n",
      "nan\n",
      "nan\n",
      "nan\n",
      "nan\n"
     ]
    },
    {
     "name": "stderr",
     "output_type": "stream",
     "text": [
      "\r",
      " 13%|██████████▋                                                                      | 91/686 [00:18<02:12,  4.50it/s]"
     ]
    },
    {
     "name": "stdout",
     "output_type": "stream",
     "text": [
      "nan\n",
      "nan\n",
      "nan\n",
      "nan\n",
      "nan\n",
      "nan\n",
      "nan\n",
      "nan\n",
      "nan\n",
      "nan\n"
     ]
    },
    {
     "name": "stderr",
     "output_type": "stream",
     "text": [
      " 14%|██████████▉                                                                      | 93/686 [00:19<02:06,  4.68it/s]"
     ]
    },
    {
     "name": "stdout",
     "output_type": "stream",
     "text": [
      "nan\n",
      "nan\n",
      "nan\n",
      "nan\n",
      "nan\n"
     ]
    },
    {
     "name": "stderr",
     "output_type": "stream",
     "text": [
      "\r",
      " 14%|███████████                                                                      | 94/686 [00:19<02:06,  4.69it/s]"
     ]
    },
    {
     "name": "stdout",
     "output_type": "stream",
     "text": [
      "nan\n",
      "nan\n",
      "nan\n",
      "nan\n",
      "nan\n",
      "nan\n"
     ]
    },
    {
     "name": "stderr",
     "output_type": "stream",
     "text": [
      "\r",
      " 14%|███████████▏                                                                     | 95/686 [00:19<02:03,  4.78it/s]"
     ]
    },
    {
     "name": "stdout",
     "output_type": "stream",
     "text": [
      "nan\n",
      "nan\n",
      "nan\n",
      "4.0\n"
     ]
    },
    {
     "name": "stderr",
     "output_type": "stream",
     "text": [
      "\r",
      " 14%|███████████▎                                                                     | 96/686 [00:19<02:07,  4.61it/s]"
     ]
    },
    {
     "name": "stdout",
     "output_type": "stream",
     "text": [
      "nan\n",
      "nan\n",
      "nan\n",
      "nan\n",
      "nan\n"
     ]
    },
    {
     "name": "stderr",
     "output_type": "stream",
     "text": [
      "\r",
      " 14%|███████████▍                                                                     | 97/686 [00:20<02:08,  4.58it/s]"
     ]
    },
    {
     "name": "stdout",
     "output_type": "stream",
     "text": [
      "nan\n",
      "nan\n",
      "3.0\n",
      "nan\n",
      "nan\n",
      "nan\n",
      "nan\n",
      "nan\n",
      "nan\n",
      "nan\n"
     ]
    },
    {
     "name": "stderr",
     "output_type": "stream",
     "text": [
      " 14%|███████████▋                                                                     | 99/686 [00:20<02:06,  4.64it/s]"
     ]
    },
    {
     "name": "stdout",
     "output_type": "stream",
     "text": [
      "nan\n",
      "nan\n",
      "nan\n",
      "nan\n",
      "nan\n"
     ]
    },
    {
     "name": "stderr",
     "output_type": "stream",
     "text": [
      "\r",
      " 15%|███████████▋                                                                    | 100/686 [00:20<02:12,  4.44it/s]"
     ]
    },
    {
     "name": "stdout",
     "output_type": "stream",
     "text": [
      "nan\n",
      "4.0\n",
      "nan\n",
      "nan\n",
      "nan\n"
     ]
    },
    {
     "name": "stderr",
     "output_type": "stream",
     "text": [
      "\r",
      " 15%|███████████▊                                                                    | 101/686 [00:21<02:13,  4.39it/s]"
     ]
    },
    {
     "name": "stdout",
     "output_type": "stream",
     "text": [
      "nan\n",
      "nan\n",
      "nan\n",
      "nan\n",
      "nan\n",
      "nan\n",
      "nan\n",
      "nan\n",
      "nan\n",
      "nan\n"
     ]
    },
    {
     "name": "stderr",
     "output_type": "stream",
     "text": [
      " 15%|████████████                                                                    | 103/686 [00:21<02:05,  4.63it/s]"
     ]
    },
    {
     "name": "stdout",
     "output_type": "stream",
     "text": [
      "nan\n",
      "nan\n",
      "nan\n",
      "nan\n",
      "nan\n",
      "nan\n",
      "nan\n",
      "nan\n",
      "nan\n",
      "nan\n"
     ]
    },
    {
     "name": "stderr",
     "output_type": "stream",
     "text": [
      "\r",
      " 15%|████████████▏                                                                   | 104/686 [00:21<02:02,  4.74it/s]"
     ]
    },
    {
     "name": "stdout",
     "output_type": "stream",
     "text": [
      "nan\n"
     ]
    },
    {
     "name": "stderr",
     "output_type": "stream",
     "text": [
      "\r",
      " 15%|████████████▏                                                                   | 105/686 [00:21<02:01,  4.80it/s]"
     ]
    },
    {
     "name": "stdout",
     "output_type": "stream",
     "text": [
      "nan\n",
      "nan\n",
      "nan\n",
      "nan\n",
      "nan\n",
      "nan\n",
      "nan\n",
      "nan\n"
     ]
    },
    {
     "name": "stderr",
     "output_type": "stream",
     "text": [
      "\r",
      " 15%|████████████▎                                                                   | 106/686 [00:22<01:58,  4.88it/s]"
     ]
    },
    {
     "name": "stdout",
     "output_type": "stream",
     "text": [
      "nan\n"
     ]
    },
    {
     "name": "stderr",
     "output_type": "stream",
     "text": [
      "\r",
      " 16%|████████████▍                                                                   | 107/686 [00:22<02:00,  4.81it/s]"
     ]
    },
    {
     "name": "stdout",
     "output_type": "stream",
     "text": [
      "nan\n",
      "nan\n",
      "nan\n",
      "nan\n",
      "nan\n"
     ]
    },
    {
     "name": "stderr",
     "output_type": "stream",
     "text": [
      "\r",
      " 16%|████████████▌                                                                   | 108/686 [00:22<02:01,  4.76it/s]"
     ]
    },
    {
     "name": "stdout",
     "output_type": "stream",
     "text": [
      "nan\n",
      "nan\n",
      "nan\n",
      "nan\n",
      "nan\n",
      "nan\n",
      "nan\n",
      "nan\n",
      "nan\n"
     ]
    },
    {
     "name": "stderr",
     "output_type": "stream",
     "text": [
      "\r",
      " 16%|████████████▋                                                                   | 109/686 [00:22<02:00,  4.79it/s]"
     ]
    },
    {
     "name": "stdout",
     "output_type": "stream",
     "text": [
      "nan\n",
      "nan\n"
     ]
    },
    {
     "name": "stderr",
     "output_type": "stream",
     "text": [
      "\r",
      " 16%|████████████▊                                                                   | 110/686 [00:22<02:01,  4.75it/s]"
     ]
    },
    {
     "name": "stdout",
     "output_type": "stream",
     "text": [
      "nan\n",
      "nan\n",
      "nan\n",
      "nan\n"
     ]
    },
    {
     "name": "stderr",
     "output_type": "stream",
     "text": [
      "\r",
      " 16%|████████████▉                                                                   | 111/686 [00:23<02:04,  4.63it/s]"
     ]
    },
    {
     "name": "stdout",
     "output_type": "stream",
     "text": [
      "nan\n",
      "nan\n",
      "nan\n",
      "nan\n",
      "nan\n"
     ]
    },
    {
     "name": "stderr",
     "output_type": "stream",
     "text": [
      "\r",
      " 16%|█████████████                                                                   | 112/686 [00:23<02:03,  4.63it/s]"
     ]
    },
    {
     "name": "stdout",
     "output_type": "stream",
     "text": [
      "nan\n",
      "nan\n",
      "nan\n",
      "nan\n",
      "nan\n",
      "nan\n",
      "nan\n",
      "nan\n",
      "nan\n",
      "nan\n"
     ]
    },
    {
     "name": "stderr",
     "output_type": "stream",
     "text": [
      " 17%|█████████████▎                                                                  | 114/686 [00:23<01:54,  5.00it/s]"
     ]
    },
    {
     "name": "stdout",
     "output_type": "stream",
     "text": [
      "nan\n",
      "nan\n",
      "nan\n",
      "nan\n",
      "nan\n",
      "nan\n",
      "nan\n",
      "nan\n",
      "nan\n",
      "nan\n"
     ]
    },
    {
     "name": "stderr",
     "output_type": "stream",
     "text": [
      " 17%|█████████████▌                                                                  | 116/686 [00:24<01:50,  5.14it/s]"
     ]
    },
    {
     "name": "stdout",
     "output_type": "stream",
     "text": [
      "nan\n",
      "nan\n",
      "nan\n",
      "nan\n",
      "nan\n"
     ]
    },
    {
     "name": "stderr",
     "output_type": "stream",
     "text": [
      "\r",
      " 17%|█████████████▋                                                                  | 117/686 [00:24<01:59,  4.77it/s]"
     ]
    },
    {
     "name": "stdout",
     "output_type": "stream",
     "text": [
      "nan\n",
      "nan\n",
      "nan\n",
      "nan\n",
      "nan\n"
     ]
    },
    {
     "name": "stderr",
     "output_type": "stream",
     "text": [
      "\r",
      " 17%|█████████████▊                                                                  | 118/686 [00:24<01:58,  4.80it/s]"
     ]
    },
    {
     "name": "stdout",
     "output_type": "stream",
     "text": [
      "nan\n",
      "nan\n",
      "nan\n",
      "nan\n",
      "nan\n",
      "nan\n",
      "nan\n",
      "nan\n",
      "nan\n",
      "nan\n"
     ]
    },
    {
     "name": "stderr",
     "output_type": "stream",
     "text": [
      " 17%|█████████████▉                                                                  | 120/686 [00:25<01:59,  4.74it/s]"
     ]
    },
    {
     "name": "stdout",
     "output_type": "stream",
     "text": [
      "nan\n",
      "nan\n",
      "nan\n",
      "nan\n",
      "nan\n",
      "nan\n",
      "nan\n",
      "nan\n",
      "nan\n",
      "nan\n"
     ]
    },
    {
     "name": "stderr",
     "output_type": "stream",
     "text": [
      "\r",
      " 18%|██████████████                                                                  | 121/686 [00:25<01:57,  4.80it/s]"
     ]
    },
    {
     "name": "stdout",
     "output_type": "stream",
     "text": [
      "4.0\n"
     ]
    },
    {
     "name": "stderr",
     "output_type": "stream",
     "text": [
      "\r",
      " 18%|██████████████▏                                                                 | 122/686 [00:25<01:57,  4.78it/s]"
     ]
    },
    {
     "name": "stdout",
     "output_type": "stream",
     "text": [
      "nan\n",
      "nan\n",
      "nan\n",
      "nan\n",
      "4.0\n",
      "3.0\n"
     ]
    },
    {
     "name": "stderr",
     "output_type": "stream",
     "text": [
      "\r",
      " 18%|██████████████▎                                                                 | 123/686 [00:25<01:54,  4.92it/s]"
     ]
    },
    {
     "name": "stdout",
     "output_type": "stream",
     "text": [
      "nan\n",
      "nan\n",
      "nan\n",
      "5.0\n"
     ]
    },
    {
     "name": "stderr",
     "output_type": "stream",
     "text": [
      "\r",
      " 18%|██████████████▍                                                                 | 124/686 [00:25<01:52,  4.99it/s]"
     ]
    },
    {
     "name": "stdout",
     "output_type": "stream",
     "text": [
      "nan\n",
      "nan\n",
      "nan\n",
      "nan\n"
     ]
    },
    {
     "name": "stderr",
     "output_type": "stream",
     "text": [
      "\r",
      " 18%|██████████████▌                                                                 | 125/686 [00:26<01:55,  4.87it/s]"
     ]
    },
    {
     "name": "stdout",
     "output_type": "stream",
     "text": [
      "nan\n",
      "nan\n",
      "nan\n",
      "nan\n",
      "2.0\n",
      "5.0\n"
     ]
    },
    {
     "name": "stderr",
     "output_type": "stream",
     "text": [
      "\r",
      " 18%|██████████████▋                                                                 | 126/686 [00:26<01:52,  4.99it/s]"
     ]
    },
    {
     "name": "stdout",
     "output_type": "stream",
     "text": [
      "nan\n",
      "nan\n",
      "nan\n",
      "nan\n",
      "nan\n",
      "nan\n",
      "nan\n",
      "nan\n",
      "nan\n"
     ]
    },
    {
     "name": "stderr",
     "output_type": "stream",
     "text": [
      " 19%|██████████████▉                                                                 | 128/686 [00:26<01:54,  4.89it/s]"
     ]
    },
    {
     "name": "stdout",
     "output_type": "stream",
     "text": [
      "nan\n",
      "nan\n",
      "nan\n",
      "nan\n",
      "nan\n"
     ]
    },
    {
     "name": "stderr",
     "output_type": "stream",
     "text": [
      "\r",
      " 19%|███████████████                                                                 | 129/686 [00:26<01:57,  4.73it/s]"
     ]
    },
    {
     "name": "stdout",
     "output_type": "stream",
     "text": [
      "nan\n",
      "nan\n",
      "nan\n",
      "nan\n",
      "nan\n"
     ]
    },
    {
     "name": "stderr",
     "output_type": "stream",
     "text": [
      "\r",
      " 19%|███████████████▏                                                                | 130/686 [00:27<01:58,  4.68it/s]"
     ]
    },
    {
     "name": "stdout",
     "output_type": "stream",
     "text": [
      "nan\n",
      "nan\n",
      "nan\n",
      "nan\n",
      "nan\n"
     ]
    },
    {
     "name": "stderr",
     "output_type": "stream",
     "text": [
      " 19%|███████████████▍                                                                | 132/686 [00:27<02:02,  4.51it/s]"
     ]
    },
    {
     "name": "stdout",
     "output_type": "stream",
     "text": [
      "nan\n",
      "nan\n",
      "nan\n",
      "nan\n",
      "nan\n",
      "nan\n",
      "nan\n",
      "nan\n",
      "nan\n",
      "nan\n"
     ]
    },
    {
     "name": "stderr",
     "output_type": "stream",
     "text": [
      "\r",
      " 19%|███████████████▌                                                                | 133/686 [00:27<02:04,  4.43it/s]"
     ]
    },
    {
     "name": "stdout",
     "output_type": "stream",
     "text": [
      "nan\n",
      "nan\n",
      "nan\n",
      "nan\n",
      "nan\n"
     ]
    },
    {
     "name": "stderr",
     "output_type": "stream",
     "text": [
      "\r",
      " 20%|███████████████▋                                                                | 134/686 [00:27<02:02,  4.52it/s]"
     ]
    },
    {
     "name": "stdout",
     "output_type": "stream",
     "text": [
      "nan\n",
      "nan\n",
      "nan\n",
      "nan\n",
      "nan\n",
      "nan\n",
      "nan\n",
      "nan\n",
      "nan\n",
      "nan\n"
     ]
    },
    {
     "name": "stderr",
     "output_type": "stream",
     "text": [
      " 20%|███████████████▊                                                                | 136/686 [00:28<01:59,  4.60it/s]"
     ]
    },
    {
     "name": "stdout",
     "output_type": "stream",
     "text": [
      "nan\n",
      "nan\n",
      "nan\n",
      "nan\n",
      "nan\n",
      "nan\n"
     ]
    },
    {
     "name": "stderr",
     "output_type": "stream",
     "text": [
      "\r",
      " 20%|███████████████▉                                                                | 137/686 [00:28<01:54,  4.81it/s]"
     ]
    },
    {
     "name": "stdout",
     "output_type": "stream",
     "text": [
      "nan\n",
      "nan\n",
      "nan\n",
      "nan\n",
      "nan\n",
      "nan\n",
      "nan\n",
      "nan\n",
      "nan\n"
     ]
    },
    {
     "name": "stderr",
     "output_type": "stream",
     "text": [
      " 20%|████████████████▏                                                               | 139/686 [00:29<01:55,  4.75it/s]"
     ]
    },
    {
     "name": "stdout",
     "output_type": "stream",
     "text": [
      "nan\n",
      "nan\n",
      "nan\n",
      "nan\n",
      "nan\n"
     ]
    },
    {
     "name": "stderr",
     "output_type": "stream",
     "text": [
      "\r",
      " 20%|████████████████▎                                                               | 140/686 [00:29<02:27,  3.71it/s]"
     ]
    },
    {
     "name": "stdout",
     "output_type": "stream",
     "text": [
      "nan\n",
      "nan\n",
      "nan\n",
      "nan\n",
      "nan\n"
     ]
    },
    {
     "name": "stderr",
     "output_type": "stream",
     "text": [
      "\r",
      " 21%|████████████████▍                                                               | 141/686 [00:29<02:17,  3.98it/s]"
     ]
    },
    {
     "name": "stdout",
     "output_type": "stream",
     "text": [
      "nan\n",
      "nan\n",
      "nan\n",
      "nan\n",
      "nan\n",
      "nan\n",
      "nan\n",
      "nan\n",
      "nan\n",
      "nan\n"
     ]
    },
    {
     "name": "stderr",
     "output_type": "stream",
     "text": [
      " 21%|████████████████▋                                                               | 143/686 [00:30<02:10,  4.17it/s]"
     ]
    },
    {
     "name": "stdout",
     "output_type": "stream",
     "text": [
      "nan\n",
      "nan\n",
      "nan\n",
      "nan\n",
      "nan\n",
      "nan\n",
      "nan\n",
      "nan\n"
     ]
    },
    {
     "name": "stderr",
     "output_type": "stream",
     "text": [
      "\r",
      " 21%|████████████████▊                                                               | 144/686 [00:30<02:05,  4.31it/s]"
     ]
    },
    {
     "name": "stdout",
     "output_type": "stream",
     "text": [
      "nan\n",
      "nan\n",
      "nan\n",
      "nan\n",
      "nan\n",
      "nan\n",
      "nan\n"
     ]
    },
    {
     "name": "stderr",
     "output_type": "stream",
     "text": [
      " 21%|█████████████████                                                               | 146/686 [00:30<02:21,  3.82it/s]"
     ]
    },
    {
     "name": "stdout",
     "output_type": "stream",
     "text": [
      "nan\n",
      "nan\n",
      "nan\n",
      "nan\n",
      "nan\n",
      "nan\n",
      "nan\n",
      "nan\n",
      "nan\n",
      "nan\n"
     ]
    },
    {
     "name": "stderr",
     "output_type": "stream",
     "text": [
      " 22%|█████████████████▎                                                              | 148/686 [00:31<02:08,  4.19it/s]"
     ]
    },
    {
     "name": "stdout",
     "output_type": "stream",
     "text": [
      "nan\n",
      "nan\n",
      "nan\n",
      "nan\n",
      "nan\n",
      "nan\n",
      "nan\n",
      "nan\n",
      "nan\n",
      "nan\n"
     ]
    },
    {
     "name": "stderr",
     "output_type": "stream",
     "text": [
      " 22%|█████████████████▍                                                              | 150/686 [00:31<01:57,  4.57it/s]"
     ]
    },
    {
     "name": "stdout",
     "output_type": "stream",
     "text": [
      "5.0\n",
      "5.0\n",
      "5.0\n",
      "nan\n",
      "5.0\n"
     ]
    },
    {
     "name": "stderr",
     "output_type": "stream",
     "text": [
      "\r",
      " 22%|█████████████████▌                                                              | 151/686 [00:31<01:53,  4.71it/s]"
     ]
    },
    {
     "name": "stdout",
     "output_type": "stream",
     "text": [
      "nan\n",
      "nan\n",
      "nan\n",
      "nan\n",
      "nan\n"
     ]
    },
    {
     "name": "stderr",
     "output_type": "stream",
     "text": [
      "\r",
      " 22%|█████████████████▋                                                              | 152/686 [00:32<01:55,  4.64it/s]"
     ]
    },
    {
     "name": "stdout",
     "output_type": "stream",
     "text": [
      "nan\n",
      "nan\n",
      "nan\n",
      "nan\n",
      "nan\n"
     ]
    },
    {
     "name": "stderr",
     "output_type": "stream",
     "text": [
      "\r",
      " 22%|█████████████████▊                                                              | 153/686 [00:32<01:59,  4.46it/s]"
     ]
    },
    {
     "name": "stdout",
     "output_type": "stream",
     "text": [
      "nan\n",
      "nan\n",
      "nan\n",
      "nan\n",
      "nan\n"
     ]
    },
    {
     "name": "stderr",
     "output_type": "stream",
     "text": [
      "\r",
      " 22%|█████████████████▉                                                              | 154/686 [00:32<02:04,  4.29it/s]"
     ]
    },
    {
     "name": "stdout",
     "output_type": "stream",
     "text": [
      "nan\n",
      "nan\n",
      "5.0\n",
      "nan\n",
      "nan\n"
     ]
    },
    {
     "name": "stderr",
     "output_type": "stream",
     "text": [
      "\r",
      " 23%|██████████████████                                                              | 155/686 [00:32<02:03,  4.28it/s]"
     ]
    },
    {
     "name": "stdout",
     "output_type": "stream",
     "text": [
      "nan\n",
      "nan\n",
      "5.0\n",
      "nan\n",
      "nan\n"
     ]
    },
    {
     "name": "stderr",
     "output_type": "stream",
     "text": [
      "\r",
      " 23%|██████████████████▏                                                             | 156/686 [00:33<02:01,  4.37it/s]"
     ]
    },
    {
     "name": "stdout",
     "output_type": "stream",
     "text": [
      "nan\n",
      "nan\n",
      "nan\n",
      "nan\n",
      "nan\n"
     ]
    },
    {
     "name": "stderr",
     "output_type": "stream",
     "text": [
      "\r",
      " 23%|██████████████████▎                                                             | 157/686 [00:33<02:00,  4.39it/s]"
     ]
    },
    {
     "name": "stdout",
     "output_type": "stream",
     "text": [
      "nan\n",
      "nan\n",
      "nan\n",
      "nan\n",
      "nan\n"
     ]
    },
    {
     "name": "stderr",
     "output_type": "stream",
     "text": [
      "\r",
      " 23%|██████████████████▍                                                             | 158/686 [00:33<01:59,  4.43it/s]"
     ]
    },
    {
     "name": "stdout",
     "output_type": "stream",
     "text": [
      "nan\n",
      "nan\n",
      "nan\n",
      "nan\n",
      "nan\n",
      "nan\n",
      "nan\n"
     ]
    },
    {
     "name": "stderr",
     "output_type": "stream",
     "text": [
      " 23%|██████████████████▋                                                             | 160/686 [00:33<01:48,  4.86it/s]"
     ]
    },
    {
     "name": "stdout",
     "output_type": "stream",
     "text": [
      "nan\n",
      "nan\n",
      "nan\n",
      "nan\n",
      "nan\n",
      "nan\n",
      "nan\n",
      "nan\n"
     ]
    },
    {
     "name": "stderr",
     "output_type": "stream",
     "text": [
      "\r",
      " 23%|██████████████████▊                                                             | 161/686 [00:34<01:44,  5.02it/s]"
     ]
    },
    {
     "name": "stdout",
     "output_type": "stream",
     "text": [
      "nan\n",
      "nan\n",
      "nan\n",
      "nan\n",
      "nan\n",
      "nan\n",
      "nan\n",
      "nan\n",
      "nan\n",
      "nan\n"
     ]
    },
    {
     "name": "stderr",
     "output_type": "stream",
     "text": [
      " 24%|███████████████████                                                             | 163/686 [00:34<01:44,  4.99it/s]"
     ]
    },
    {
     "name": "stdout",
     "output_type": "stream",
     "text": [
      "nan\n",
      "nan\n",
      "nan\n",
      "nan\n",
      "nan\n",
      "nan\n",
      "nan\n",
      "nan\n",
      "nan\n",
      "nan\n"
     ]
    },
    {
     "name": "stderr",
     "output_type": "stream",
     "text": [
      " 24%|███████████████████▏                                                            | 165/686 [00:34<01:42,  5.08it/s]"
     ]
    },
    {
     "name": "stdout",
     "output_type": "stream",
     "text": [
      "nan\n",
      "nan\n",
      "nan\n",
      "nan\n",
      "nan\n",
      "nan\n"
     ]
    },
    {
     "name": "stderr",
     "output_type": "stream",
     "text": [
      "\r",
      " 24%|███████████████████▎                                                            | 166/686 [00:35<01:44,  5.00it/s]"
     ]
    },
    {
     "name": "stdout",
     "output_type": "stream",
     "text": [
      "nan\n",
      "nan\n",
      "nan\n",
      "nan\n"
     ]
    },
    {
     "name": "stderr",
     "output_type": "stream",
     "text": [
      "\r",
      " 24%|███████████████████▍                                                            | 167/686 [00:35<01:46,  4.89it/s]"
     ]
    },
    {
     "name": "stdout",
     "output_type": "stream",
     "text": [
      "nan\n",
      "nan\n",
      "nan\n",
      "nan\n",
      "nan\n",
      "nan\n",
      "nan\n",
      "nan\n",
      "nan\n",
      "nan\n"
     ]
    },
    {
     "name": "stderr",
     "output_type": "stream",
     "text": [
      " 25%|███████████████████▋                                                            | 169/686 [00:35<01:41,  5.10it/s]"
     ]
    },
    {
     "name": "stdout",
     "output_type": "stream",
     "text": [
      "nan\n",
      "nan\n",
      "nan\n",
      "nan\n",
      "nan\n",
      "nan\n",
      "nan\n",
      "nan\n",
      "nan\n",
      "nan\n"
     ]
    },
    {
     "name": "stderr",
     "output_type": "stream",
     "text": [
      " 25%|███████████████████▉                                                            | 171/686 [00:36<01:40,  5.12it/s]"
     ]
    },
    {
     "name": "stdout",
     "output_type": "stream",
     "text": [
      "nan\n",
      "nan\n",
      "nan\n",
      "nan\n",
      "nan\n",
      "nan\n",
      "nan\n",
      "nan\n",
      "nan\n",
      "nan\n"
     ]
    },
    {
     "name": "stderr",
     "output_type": "stream",
     "text": [
      " 25%|████████████████████▏                                                           | 173/686 [00:36<01:42,  5.01it/s]"
     ]
    },
    {
     "name": "stdout",
     "output_type": "stream",
     "text": [
      "nan\n",
      "nan\n",
      "nan\n",
      "nan\n",
      "nan\n"
     ]
    },
    {
     "name": "stderr",
     "output_type": "stream",
     "text": [
      "\r",
      " 25%|████████████████████▎                                                           | 174/686 [00:36<01:45,  4.87it/s]"
     ]
    },
    {
     "name": "stdout",
     "output_type": "stream",
     "text": [
      "nan\n",
      "nan\n",
      "nan\n",
      "nan\n",
      "nan\n"
     ]
    },
    {
     "name": "stderr",
     "output_type": "stream",
     "text": [
      "\r",
      " 26%|████████████████████▍                                                           | 175/686 [00:36<01:44,  4.88it/s]"
     ]
    },
    {
     "name": "stdout",
     "output_type": "stream",
     "text": [
      "nan\n",
      "nan\n",
      "nan\n",
      "nan\n",
      "nan\n"
     ]
    },
    {
     "name": "stderr",
     "output_type": "stream",
     "text": [
      "\r",
      " 26%|████████████████████▌                                                           | 176/686 [00:37<01:49,  4.68it/s]"
     ]
    },
    {
     "name": "stdout",
     "output_type": "stream",
     "text": [
      "nan\n",
      "4.0\n",
      "nan\n",
      "nan\n",
      "4.0\n"
     ]
    },
    {
     "name": "stderr",
     "output_type": "stream",
     "text": [
      "\r",
      " 26%|████████████████████▋                                                           | 177/686 [00:37<01:46,  4.77it/s]"
     ]
    },
    {
     "name": "stdout",
     "output_type": "stream",
     "text": [
      "nan\n",
      "nan\n",
      "nan\n",
      "nan\n",
      "nan\n",
      "nan\n",
      "nan\n",
      "nan\n",
      "nan\n",
      "nan\n"
     ]
    },
    {
     "name": "stderr",
     "output_type": "stream",
     "text": [
      " 26%|████████████████████▉                                                           | 180/686 [00:37<01:35,  5.29it/s]"
     ]
    },
    {
     "name": "stdout",
     "output_type": "stream",
     "text": [
      "nan\n",
      "nan\n",
      "nan\n",
      "nan\n",
      "nan\n",
      "nan\n",
      "nan\n",
      "nan\n",
      "nan\n",
      "nan\n"
     ]
    },
    {
     "name": "stderr",
     "output_type": "stream",
     "text": [
      "\r",
      " 26%|█████████████████████                                                           | 181/686 [00:37<01:34,  5.33it/s]"
     ]
    },
    {
     "name": "stdout",
     "output_type": "stream",
     "text": [
      "nan\n",
      "nan\n",
      "nan\n",
      "nan\n",
      "nan\n"
     ]
    },
    {
     "name": "stderr",
     "output_type": "stream",
     "text": [
      "\r",
      " 27%|█████████████████████▏                                                          | 182/686 [00:38<01:39,  5.07it/s]"
     ]
    },
    {
     "name": "stdout",
     "output_type": "stream",
     "text": [
      "nan\n",
      "nan\n",
      "nan\n",
      "nan\n",
      "nan\n",
      "nan\n",
      "nan\n",
      "nan\n",
      "nan\n",
      "nan\n"
     ]
    },
    {
     "name": "stderr",
     "output_type": "stream",
     "text": [
      " 27%|█████████████████████▍                                                          | 184/686 [00:38<01:42,  4.90it/s]"
     ]
    },
    {
     "name": "stdout",
     "output_type": "stream",
     "text": [
      "nan\n",
      "nan\n",
      "nan\n",
      "nan\n",
      "nan\n",
      "nan\n",
      "nan\n",
      "nan\n",
      "nan\n",
      "nan\n"
     ]
    },
    {
     "name": "stderr",
     "output_type": "stream",
     "text": [
      " 27%|█████████████████████▋                                                          | 186/686 [00:38<01:35,  5.23it/s]"
     ]
    },
    {
     "name": "stdout",
     "output_type": "stream",
     "text": [
      "nan\n",
      "nan\n",
      "nan\n",
      "nan\n",
      "nan\n",
      "nan\n",
      "nan\n",
      "nan\n",
      "nan\n",
      "nan\n"
     ]
    },
    {
     "name": "stderr",
     "output_type": "stream",
     "text": [
      " 27%|█████████████████████▉                                                          | 188/686 [00:39<01:32,  5.37it/s]"
     ]
    },
    {
     "name": "stdout",
     "output_type": "stream",
     "text": [
      "nan\n",
      "nan\n",
      "nan\n",
      "nan\n",
      "nan\n",
      "nan\n",
      "nan\n",
      "nan\n",
      "nan\n",
      "nan\n"
     ]
    },
    {
     "name": "stderr",
     "output_type": "stream",
     "text": [
      " 28%|██████████████████████▏                                                         | 190/686 [00:39<01:38,  5.01it/s]"
     ]
    },
    {
     "name": "stdout",
     "output_type": "stream",
     "text": [
      "nan\n",
      "nan\n",
      "nan\n",
      "4.0\n",
      "nan\n"
     ]
    },
    {
     "name": "stderr",
     "output_type": "stream",
     "text": [
      "\r",
      " 28%|██████████████████████▎                                                         | 191/686 [00:39<01:39,  4.97it/s]"
     ]
    },
    {
     "name": "stdout",
     "output_type": "stream",
     "text": [
      "nan\n",
      "nan\n",
      "nan\n",
      "nan\n",
      "nan\n",
      "nan\n",
      "nan\n",
      "nan\n"
     ]
    },
    {
     "name": "stderr",
     "output_type": "stream",
     "text": [
      "\r",
      " 28%|██████████████████████▍                                                         | 192/686 [00:40<01:39,  4.96it/s]"
     ]
    },
    {
     "name": "stdout",
     "output_type": "stream",
     "text": [
      "nan\n",
      "nan\n",
      "nan\n",
      "nan\n",
      "nan\n",
      "nan\n",
      "nan\n"
     ]
    },
    {
     "name": "stderr",
     "output_type": "stream",
     "text": [
      " 28%|██████████████████████▌                                                         | 194/686 [00:40<01:36,  5.12it/s]"
     ]
    },
    {
     "name": "stdout",
     "output_type": "stream",
     "text": [
      "nan\n",
      "nan\n",
      "nan\n",
      "nan\n",
      "nan\n",
      "nan\n",
      "nan\n",
      "nan\n",
      "nan\n",
      "nan\n"
     ]
    },
    {
     "name": "stderr",
     "output_type": "stream",
     "text": [
      "\r",
      " 28%|██████████████████████▋                                                         | 195/686 [00:40<01:36,  5.08it/s]"
     ]
    },
    {
     "name": "stdout",
     "output_type": "stream",
     "text": [
      "nan\n",
      "nan\n",
      "nan\n"
     ]
    },
    {
     "name": "stderr",
     "output_type": "stream",
     "text": [
      "\r",
      " 29%|██████████████████████▊                                                         | 196/686 [00:40<01:34,  5.16it/s]"
     ]
    },
    {
     "name": "stdout",
     "output_type": "stream",
     "text": [
      "nan\n",
      "nan\n",
      "nan\n",
      "nan\n",
      "nan\n",
      "nan\n",
      "nan\n"
     ]
    },
    {
     "name": "stderr",
     "output_type": "stream",
     "text": [
      " 29%|███████████████████████                                                         | 198/686 [00:41<01:36,  5.07it/s]"
     ]
    },
    {
     "name": "stdout",
     "output_type": "stream",
     "text": [
      "nan\n",
      "nan\n",
      "nan\n",
      "nan\n",
      "nan\n",
      "nan\n",
      "nan\n",
      "nan\n",
      "nan\n",
      "nan\n"
     ]
    },
    {
     "name": "stderr",
     "output_type": "stream",
     "text": [
      " 29%|███████████████████████▍                                                        | 201/686 [00:41<01:31,  5.31it/s]"
     ]
    },
    {
     "name": "stdout",
     "output_type": "stream",
     "text": [
      "nan\n",
      "nan\n",
      "nan\n",
      "nan\n",
      "nan\n",
      "nan\n",
      "4.0\n",
      "nan\n",
      "nan\n",
      "4.0\n"
     ]
    },
    {
     "name": "stderr",
     "output_type": "stream",
     "text": [
      "\r",
      " 29%|███████████████████████▌                                                        | 202/686 [00:42<01:29,  5.42it/s]"
     ]
    },
    {
     "name": "stdout",
     "output_type": "stream",
     "text": [
      "nan\n",
      "nan\n",
      "5.0\n",
      "nan\n",
      "nan\n",
      "nan\n",
      "nan\n",
      "nan\n",
      "nan\n",
      "nan\n"
     ]
    },
    {
     "name": "stderr",
     "output_type": "stream",
     "text": [
      " 30%|███████████████████████▊                                                        | 204/686 [00:42<01:28,  5.42it/s]"
     ]
    },
    {
     "name": "stdout",
     "output_type": "stream",
     "text": [
      "nan\n",
      "4.0\n",
      "nan\n",
      "nan\n",
      "nan\n"
     ]
    },
    {
     "name": "stderr",
     "output_type": "stream",
     "text": [
      "\r",
      " 30%|███████████████████████▉                                                        | 205/686 [00:42<01:32,  5.19it/s]"
     ]
    },
    {
     "name": "stdout",
     "output_type": "stream",
     "text": [
      "nan\n",
      "5.0\n",
      "nan\n",
      "nan\n",
      "nan\n",
      "nan\n",
      "nan\n",
      "nan\n",
      "nan\n",
      "4.0\n"
     ]
    },
    {
     "name": "stderr",
     "output_type": "stream",
     "text": [
      " 30%|████████████████████████▎                                                       | 208/686 [00:43<01:29,  5.36it/s]"
     ]
    },
    {
     "name": "stdout",
     "output_type": "stream",
     "text": [
      "nan\n",
      "nan\n",
      "nan\n",
      "nan\n",
      "nan\n",
      "nan\n",
      "nan\n",
      "nan\n",
      "nan\n",
      "nan\n"
     ]
    },
    {
     "name": "stderr",
     "output_type": "stream",
     "text": [
      "\r",
      " 30%|████████████████████████▎                                                       | 209/686 [00:43<01:27,  5.45it/s]"
     ]
    },
    {
     "name": "stdout",
     "output_type": "stream",
     "text": [
      "nan\n",
      "5.0\n",
      "5.0\n",
      "nan\n",
      "4.0\n",
      "nan\n",
      "nan\n",
      "nan\n",
      "nan\n",
      "nan\n"
     ]
    },
    {
     "name": "stderr",
     "output_type": "stream",
     "text": [
      " 31%|████████████████████████▋                                                       | 212/686 [00:43<01:26,  5.51it/s]"
     ]
    },
    {
     "name": "stdout",
     "output_type": "stream",
     "text": [
      "nan\n",
      "nan\n",
      "nan\n",
      "nan\n",
      "nan\n",
      "nan\n",
      "nan\n",
      "nan\n",
      "nan\n",
      "nan\n"
     ]
    },
    {
     "name": "stderr",
     "output_type": "stream",
     "text": [
      "\r",
      " 31%|████████████████████████▊                                                       | 213/686 [00:44<01:26,  5.45it/s]"
     ]
    },
    {
     "name": "stdout",
     "output_type": "stream",
     "text": [
      "nan\n",
      "nan\n",
      "nan\n",
      "nan\n",
      "nan\n",
      "nan\n",
      "nan\n",
      "nan\n",
      "nan\n",
      "nan\n"
     ]
    },
    {
     "name": "stderr",
     "output_type": "stream",
     "text": [
      " 31%|█████████████████████████                                                       | 215/686 [00:44<01:28,  5.33it/s]"
     ]
    },
    {
     "name": "stdout",
     "output_type": "stream",
     "text": [
      "nan\n",
      "nan\n",
      "nan\n",
      "nan\n",
      "nan\n",
      "nan\n",
      "nan\n",
      "nan\n",
      "nan\n",
      "nan\n"
     ]
    },
    {
     "name": "stderr",
     "output_type": "stream",
     "text": [
      " 32%|█████████████████████████▎                                                      | 217/686 [00:44<01:28,  5.30it/s]"
     ]
    },
    {
     "name": "stdout",
     "output_type": "stream",
     "text": [
      "nan\n",
      "nan\n",
      "nan\n",
      "4.0\n",
      "nan\n",
      "nan\n",
      "nan\n",
      "nan\n",
      "nan\n",
      "nan\n"
     ]
    },
    {
     "name": "stderr",
     "output_type": "stream",
     "text": [
      " 32%|█████████████████████████▌                                                      | 219/686 [00:45<01:28,  5.31it/s]"
     ]
    },
    {
     "name": "stdout",
     "output_type": "stream",
     "text": [
      "nan\n",
      "nan\n",
      "nan\n",
      "nan\n",
      "3.0\n",
      "nan\n",
      "nan\n",
      "nan\n",
      "nan\n",
      "nan\n"
     ]
    },
    {
     "name": "stderr",
     "output_type": "stream",
     "text": [
      " 32%|█████████████████████████▊                                                      | 221/686 [00:45<01:28,  5.24it/s]"
     ]
    },
    {
     "name": "stdout",
     "output_type": "stream",
     "text": [
      "nan\n",
      "nan\n",
      "nan\n",
      "nan\n",
      "nan\n",
      "nan\n",
      "nan\n",
      "nan\n",
      "nan\n",
      "nan\n"
     ]
    },
    {
     "name": "stderr",
     "output_type": "stream",
     "text": [
      " 33%|██████████████████████████                                                      | 223/686 [00:45<01:27,  5.32it/s]"
     ]
    },
    {
     "name": "stdout",
     "output_type": "stream",
     "text": [
      "nan\n",
      "nan\n",
      "nan\n",
      "nan\n",
      "nan\n",
      "nan\n",
      "nan\n"
     ]
    },
    {
     "name": "stderr",
     "output_type": "stream",
     "text": [
      "\r",
      " 33%|██████████████████████████                                                      | 224/686 [00:46<01:27,  5.29it/s]"
     ]
    },
    {
     "name": "stdout",
     "output_type": "stream",
     "text": [
      "5.0\n",
      "nan\n",
      "nan\n",
      "nan\n",
      "nan\n",
      "nan\n",
      "nan\n",
      "nan\n"
     ]
    },
    {
     "name": "stderr",
     "output_type": "stream",
     "text": [
      " 33%|██████████████████████████▎                                                     | 226/686 [00:46<01:27,  5.24it/s]"
     ]
    },
    {
     "name": "stdout",
     "output_type": "stream",
     "text": [
      "nan\n",
      "nan\n",
      "nan\n",
      "nan\n",
      "nan\n",
      "nan\n",
      "nan\n",
      "nan\n",
      "nan\n",
      "nan\n"
     ]
    },
    {
     "name": "stderr",
     "output_type": "stream",
     "text": [
      " 33%|██████████████████████████▌                                                     | 228/686 [00:46<01:26,  5.27it/s]"
     ]
    },
    {
     "name": "stdout",
     "output_type": "stream",
     "text": [
      "nan\n",
      "nan\n",
      "nan\n",
      "nan\n",
      "nan\n",
      "nan\n",
      "nan\n",
      "nan\n",
      "nan\n",
      "nan\n"
     ]
    },
    {
     "name": "stderr",
     "output_type": "stream",
     "text": [
      " 34%|██████████████████████████▊                                                     | 230/686 [00:47<01:28,  5.14it/s]"
     ]
    },
    {
     "name": "stdout",
     "output_type": "stream",
     "text": [
      "nan\n",
      "nan\n",
      "nan\n",
      "nan\n",
      "nan\n",
      "3.0\n"
     ]
    },
    {
     "name": "stderr",
     "output_type": "stream",
     "text": [
      "\r",
      " 34%|██████████████████████████▉                                                     | 231/686 [00:47<01:27,  5.20it/s]"
     ]
    },
    {
     "name": "stdout",
     "output_type": "stream",
     "text": [
      "nan\n",
      "nan\n",
      "nan\n",
      "nan\n",
      "5.0\n"
     ]
    },
    {
     "name": "stderr",
     "output_type": "stream",
     "text": [
      "\r",
      " 34%|███████████████████████████                                                     | 232/686 [00:47<01:27,  5.19it/s]"
     ]
    },
    {
     "name": "stdout",
     "output_type": "stream",
     "text": [
      "nan\n",
      "nan\n",
      "nan\n",
      "nan\n",
      "nan\n",
      "nan\n",
      "nan\n",
      "nan\n",
      "nan\n"
     ]
    },
    {
     "name": "stderr",
     "output_type": "stream",
     "text": [
      " 34%|███████████████████████████▎                                                    | 234/686 [00:48<01:26,  5.21it/s]"
     ]
    },
    {
     "name": "stdout",
     "output_type": "stream",
     "text": [
      "nan\n",
      "nan\n",
      "nan\n",
      "nan\n",
      "nan\n",
      "nan\n",
      "nan\n",
      "nan\n"
     ]
    },
    {
     "name": "stderr",
     "output_type": "stream",
     "text": [
      "\r",
      " 34%|███████████████████████████▍                                                    | 235/686 [00:48<01:25,  5.27it/s]"
     ]
    },
    {
     "name": "stdout",
     "output_type": "stream",
     "text": [
      "nan\n",
      "nan\n",
      "nan\n",
      "nan\n",
      "nan\n",
      "nan\n"
     ]
    },
    {
     "name": "stderr",
     "output_type": "stream",
     "text": [
      "\r",
      " 34%|███████████████████████████▌                                                    | 236/686 [00:48<01:26,  5.22it/s]"
     ]
    },
    {
     "name": "stdout",
     "output_type": "stream",
     "text": [
      "nan\n",
      "nan\n",
      "nan\n",
      "5.0\n"
     ]
    },
    {
     "name": "stderr",
     "output_type": "stream",
     "text": [
      "\r",
      " 35%|███████████████████████████▋                                                    | 237/686 [00:48<01:27,  5.12it/s]"
     ]
    },
    {
     "name": "stdout",
     "output_type": "stream",
     "text": [
      "nan\n",
      "nan\n",
      "nan\n",
      "nan\n",
      "nan\n",
      "nan\n",
      "nan\n"
     ]
    },
    {
     "name": "stderr",
     "output_type": "stream",
     "text": [
      " 35%|███████████████████████████▊                                                    | 239/686 [00:49<01:25,  5.21it/s]"
     ]
    },
    {
     "name": "stdout",
     "output_type": "stream",
     "text": [
      "nan\n",
      "nan\n",
      "nan\n",
      "nan\n",
      "nan\n",
      "nan\n",
      "nan\n",
      "nan\n",
      "nan\n",
      "nan\n"
     ]
    },
    {
     "name": "stderr",
     "output_type": "stream",
     "text": [
      " 35%|████████████████████████████                                                    | 241/686 [00:49<01:29,  5.00it/s]"
     ]
    },
    {
     "name": "stdout",
     "output_type": "stream",
     "text": [
      "nan\n",
      "nan\n",
      "nan\n",
      "nan\n",
      "nan\n",
      "nan\n",
      "nan\n",
      "nan\n"
     ]
    },
    {
     "name": "stderr",
     "output_type": "stream",
     "text": [
      "\r",
      " 35%|████████████████████████████▏                                                   | 242/686 [00:49<01:29,  4.98it/s]"
     ]
    },
    {
     "name": "stdout",
     "output_type": "stream",
     "text": [
      "nan\n",
      "nan\n"
     ]
    },
    {
     "name": "stderr",
     "output_type": "stream",
     "text": [
      "\r",
      " 35%|████████████████████████████▎                                                   | 243/686 [00:49<01:35,  4.65it/s]"
     ]
    },
    {
     "name": "stdout",
     "output_type": "stream",
     "text": [
      "nan\n",
      "nan\n",
      "nan\n",
      "nan\n",
      "nan\n"
     ]
    },
    {
     "name": "stderr",
     "output_type": "stream",
     "text": [
      "\r",
      " 36%|████████████████████████████▍                                                   | 244/686 [00:50<01:51,  3.96it/s]"
     ]
    },
    {
     "name": "stdout",
     "output_type": "stream",
     "text": [
      "nan\n",
      "nan\n",
      "nan\n",
      "nan\n",
      "nan\n"
     ]
    },
    {
     "name": "stderr",
     "output_type": "stream",
     "text": [
      " 36%|████████████████████████████▋                                                   | 246/686 [00:50<01:42,  4.31it/s]"
     ]
    },
    {
     "name": "stdout",
     "output_type": "stream",
     "text": [
      "nan\n",
      "5.0\n",
      "nan\n",
      "nan\n",
      "nan\n",
      "nan\n",
      "nan\n",
      "nan\n",
      "nan\n",
      "nan\n"
     ]
    },
    {
     "name": "stderr",
     "output_type": "stream",
     "text": [
      "\r",
      " 36%|████████████████████████████▊                                                   | 247/686 [00:50<01:40,  4.38it/s]"
     ]
    },
    {
     "name": "stdout",
     "output_type": "stream",
     "text": [
      "nan\n",
      "nan\n",
      "nan\n",
      "nan\n",
      "nan\n",
      "nan\n",
      "nan\n",
      "nan\n",
      "nan\n",
      "nan\n"
     ]
    },
    {
     "name": "stderr",
     "output_type": "stream",
     "text": [
      " 36%|█████████████████████████████▏                                                  | 250/686 [00:51<01:25,  5.08it/s]"
     ]
    },
    {
     "name": "stdout",
     "output_type": "stream",
     "text": [
      "nan\n",
      "nan\n",
      "nan\n",
      "nan\n",
      "nan\n",
      "nan\n",
      "nan\n",
      "nan\n",
      "nan\n",
      "nan\n"
     ]
    },
    {
     "name": "stderr",
     "output_type": "stream",
     "text": [
      "\r",
      " 37%|█████████████████████████████▎                                                  | 251/686 [00:51<01:29,  4.84it/s]"
     ]
    },
    {
     "name": "stdout",
     "output_type": "stream",
     "text": [
      "nan\n",
      "nan\n",
      "nan\n",
      "nan\n",
      "nan\n",
      "nan\n",
      "nan\n",
      "nan\n",
      "nan\n",
      "nan\n"
     ]
    },
    {
     "name": "stderr",
     "output_type": "stream",
     "text": [
      " 37%|█████████████████████████████▌                                                  | 254/686 [00:52<01:23,  5.16it/s]"
     ]
    },
    {
     "name": "stdout",
     "output_type": "stream",
     "text": [
      "nan\n",
      "nan\n",
      "nan\n",
      "nan\n",
      "nan\n",
      "nan\n",
      "nan\n",
      "nan\n",
      "nan\n",
      "nan\n"
     ]
    },
    {
     "name": "stderr",
     "output_type": "stream",
     "text": [
      "\r",
      " 37%|█████████████████████████████▋                                                  | 255/686 [00:52<01:22,  5.20it/s]"
     ]
    },
    {
     "name": "stdout",
     "output_type": "stream",
     "text": [
      "nan\n",
      "nan\n",
      "nan\n",
      "nan\n",
      "nan\n"
     ]
    },
    {
     "name": "stderr",
     "output_type": "stream",
     "text": [
      "\r",
      " 37%|█████████████████████████████▊                                                  | 256/686 [00:52<01:25,  5.00it/s]"
     ]
    },
    {
     "name": "stdout",
     "output_type": "stream",
     "text": [
      "nan\n",
      "nan\n",
      "nan\n",
      "nan\n",
      "nan\n",
      "nan\n",
      "nan\n",
      "nan"
     ]
    },
    {
     "name": "stderr",
     "output_type": "stream",
     "text": [
      "\r",
      " 37%|█████████████████████████████▉                                                  | 257/686 [00:52<01:27,  4.93it/s]"
     ]
    },
    {
     "name": "stdout",
     "output_type": "stream",
     "text": [
      "\n",
      "nan\n",
      "nan\n",
      "nan\n",
      "nan\n",
      "nan\n",
      "nan\n",
      "nan\n"
     ]
    },
    {
     "name": "stderr",
     "output_type": "stream",
     "text": [
      " 38%|██████████████████████████████▏                                                 | 259/686 [00:53<01:24,  5.07it/s]"
     ]
    },
    {
     "name": "stdout",
     "output_type": "stream",
     "text": [
      "nan\n",
      "nan\n",
      "nan\n",
      "nan\n",
      "nan\n",
      "nan\n",
      "nan\n",
      "nan\n",
      "nan\n",
      "nan\n"
     ]
    },
    {
     "name": "stderr",
     "output_type": "stream",
     "text": [
      " 38%|██████████████████████████████▍                                                 | 261/686 [00:53<01:21,  5.24it/s]"
     ]
    },
    {
     "name": "stdout",
     "output_type": "stream",
     "text": [
      "nan\n",
      "nan\n",
      "nan\n",
      "nan\n",
      "nan\n",
      "nan\n",
      "nan\n",
      "nan\n",
      "nan\n",
      "nan\n"
     ]
    },
    {
     "name": "stderr",
     "output_type": "stream",
     "text": [
      " 38%|██████████████████████████████▋                                                 | 263/686 [00:54<01:22,  5.10it/s]"
     ]
    },
    {
     "name": "stdout",
     "output_type": "stream",
     "text": [
      "nan\n",
      "nan\n",
      "nan\n",
      "nan\n",
      "nan\n",
      "nan\n",
      "nan\n",
      "nan\n",
      "nan\n",
      "nan\n"
     ]
    },
    {
     "name": "stderr",
     "output_type": "stream",
     "text": [
      " 39%|███████████████████████████████                                                 | 266/686 [00:54<01:21,  5.18it/s]"
     ]
    },
    {
     "name": "stdout",
     "output_type": "stream",
     "text": [
      "nan\n",
      "nan\n",
      "nan\n",
      "nan\n",
      "nan\n",
      "nan\n",
      "nan\n",
      "nan\n",
      "nan\n",
      "nan\n"
     ]
    },
    {
     "name": "stderr",
     "output_type": "stream",
     "text": [
      "\r",
      " 39%|███████████████████████████████▏                                                | 267/686 [00:54<01:19,  5.25it/s]"
     ]
    },
    {
     "name": "stdout",
     "output_type": "stream",
     "text": [
      "nan\n",
      "nan\n",
      "nan\n",
      "nan\n",
      "nan\n",
      "nan\n",
      "nan\n",
      "nan\n",
      "nan"
     ]
    },
    {
     "name": "stderr",
     "output_type": "stream",
     "text": [
      "\r",
      " 39%|███████████████████████████████▎                                                | 268/686 [00:54<01:19,  5.23it/s]"
     ]
    },
    {
     "name": "stdout",
     "output_type": "stream",
     "text": [
      "\n",
      "nan\n"
     ]
    },
    {
     "name": "stderr",
     "output_type": "stream",
     "text": [
      "\r",
      " 39%|███████████████████████████████▎                                                | 269/686 [00:55<01:24,  4.94it/s]"
     ]
    },
    {
     "name": "stdout",
     "output_type": "stream",
     "text": [
      "nan\n",
      "nan\n",
      "nan\n",
      "nan\n",
      "nan\n",
      "nan\n",
      "nan"
     ]
    },
    {
     "name": "stderr",
     "output_type": "stream",
     "text": [
      "\r",
      " 39%|███████████████████████████████▍                                                | 270/686 [00:55<01:25,  4.84it/s]"
     ]
    },
    {
     "name": "stdout",
     "output_type": "stream",
     "text": [
      "\n",
      "nan\n",
      "nan\n",
      "nan\n",
      "nan\n",
      "nan\n",
      "nan\n",
      "nan\n",
      "nan\n"
     ]
    },
    {
     "name": "stderr",
     "output_type": "stream",
     "text": [
      " 40%|███████████████████████████████▋                                                | 272/686 [00:55<01:25,  4.87it/s]"
     ]
    },
    {
     "name": "stdout",
     "output_type": "stream",
     "text": [
      "nan\n",
      "nan\n",
      "nan\n",
      "nan\n",
      "nan\n",
      "nan\n",
      "nan\n",
      "nan\n",
      "nan\n",
      "nan\n"
     ]
    },
    {
     "name": "stderr",
     "output_type": "stream",
     "text": [
      " 40%|███████████████████████████████▉                                                | 274/686 [00:56<01:21,  5.06it/s]"
     ]
    },
    {
     "name": "stdout",
     "output_type": "stream",
     "text": [
      "nan\n",
      "nan\n",
      "nan\n",
      "nan\n",
      "nan\n",
      "nan\n",
      "nan\n",
      "nan\n"
     ]
    },
    {
     "name": "stderr",
     "output_type": "stream",
     "text": [
      "\r",
      " 40%|████████████████████████████████                                                | 275/686 [00:56<01:19,  5.15it/s]"
     ]
    },
    {
     "name": "stdout",
     "output_type": "stream",
     "text": [
      "nan\n",
      "nan\n",
      "nan\n",
      "nan\n",
      "nan\n",
      "3.0\n",
      "nan\n"
     ]
    },
    {
     "name": "stderr",
     "output_type": "stream",
     "text": [
      " 40%|████████████████████████████████▎                                               | 277/686 [00:56<01:18,  5.18it/s]"
     ]
    },
    {
     "name": "stdout",
     "output_type": "stream",
     "text": [
      "nan\n",
      "nan\n",
      "nan\n",
      "nan\n",
      "nan\n",
      "nan\n",
      "nan\n",
      "nan\n",
      "nan\n",
      "nan\n"
     ]
    },
    {
     "name": "stderr",
     "output_type": "stream",
     "text": [
      " 41%|████████████████████████████████▌                                               | 279/686 [00:57<01:19,  5.14it/s]"
     ]
    },
    {
     "name": "stdout",
     "output_type": "stream",
     "text": [
      "nan\n",
      "nan\n",
      "nan\n",
      "nan\n",
      "nan\n",
      "nan\n",
      "nan\n",
      "nan\n",
      "nan\n",
      "nan\n"
     ]
    },
    {
     "name": "stderr",
     "output_type": "stream",
     "text": [
      " 41%|████████████████████████████████▊                                               | 281/686 [00:57<01:22,  4.92it/s]"
     ]
    },
    {
     "name": "stdout",
     "output_type": "stream",
     "text": [
      "nan\n",
      "nan\n",
      "nan\n",
      "nan\n",
      "nan\n",
      "nan\n"
     ]
    },
    {
     "name": "stderr",
     "output_type": "stream",
     "text": [
      "\r",
      " 41%|████████████████████████████████▉                                               | 282/686 [00:57<01:23,  4.82it/s]"
     ]
    },
    {
     "name": "stdout",
     "output_type": "stream",
     "text": [
      "nan\n",
      "nan\n",
      "nan\n",
      "nan\n",
      "nan\n",
      "nan\n",
      "nan\n",
      "nan\n",
      "nan\n"
     ]
    },
    {
     "name": "stderr",
     "output_type": "stream",
     "text": [
      " 41%|█████████████████████████████████                                               | 284/686 [00:58<01:49,  3.66it/s]"
     ]
    },
    {
     "name": "stdout",
     "output_type": "stream",
     "text": [
      "nan\n",
      "nan\n",
      "nan\n",
      "nan\n",
      "nan\n"
     ]
    },
    {
     "name": "stderr",
     "output_type": "stream",
     "text": [
      "\r",
      " 42%|█████████████████████████████████▏                                              | 285/686 [00:58<01:42,  3.91it/s]"
     ]
    },
    {
     "name": "stdout",
     "output_type": "stream",
     "text": [
      "nan\n",
      "nan\n",
      "nan\n",
      "nan\n",
      "nan\n",
      "nan\n",
      "nan\n"
     ]
    },
    {
     "name": "stderr",
     "output_type": "stream",
     "text": [
      "\r",
      " 42%|█████████████████████████████████▎                                              | 286/686 [00:58<01:35,  4.19it/s]"
     ]
    },
    {
     "name": "stdout",
     "output_type": "stream",
     "text": [
      "nan\n",
      "nan\n",
      "nan\n"
     ]
    },
    {
     "name": "stderr",
     "output_type": "stream",
     "text": [
      "\r",
      " 42%|█████████████████████████████████▍                                              | 287/686 [00:59<01:34,  4.21it/s]"
     ]
    },
    {
     "name": "stdout",
     "output_type": "stream",
     "text": [
      "nan\n",
      "nan\n",
      "nan\n",
      "nan\n",
      "nan\n",
      "nan\n",
      "nan\n",
      "nan\n",
      "nan\n",
      "nan\n"
     ]
    },
    {
     "name": "stderr",
     "output_type": "stream",
     "text": [
      " 42%|█████████████████████████████████▋                                              | 289/686 [00:59<01:29,  4.46it/s]"
     ]
    },
    {
     "name": "stdout",
     "output_type": "stream",
     "text": [
      "nan\n",
      "nan\n",
      "nan\n",
      "nan\n",
      "nan\n",
      "nan\n",
      "nan\n"
     ]
    },
    {
     "name": "stderr",
     "output_type": "stream",
     "text": [
      "\r",
      " 42%|█████████████████████████████████▊                                              | 290/686 [00:59<01:24,  4.66it/s]"
     ]
    },
    {
     "name": "stdout",
     "output_type": "stream",
     "text": [
      "nan\n",
      "nan\n",
      "nan\n",
      "nan\n",
      "nan\n",
      "nan\n",
      "nan"
     ]
    },
    {
     "name": "stderr",
     "output_type": "stream",
     "text": [
      "\r",
      " 42%|█████████████████████████████████▉                                              | 291/686 [00:59<01:22,  4.79it/s]"
     ]
    },
    {
     "name": "stdout",
     "output_type": "stream",
     "text": [
      "\n",
      "nan\n",
      "nan\n",
      "nan\n",
      "nan\n",
      "nan\n",
      "nan\n"
     ]
    },
    {
     "name": "stderr",
     "output_type": "stream",
     "text": [
      " 43%|██████████████████████████████████▎                                             | 294/686 [01:00<01:16,  5.13it/s]"
     ]
    },
    {
     "name": "stdout",
     "output_type": "stream",
     "text": [
      "nan\n",
      "nan\n",
      "nan\n",
      "nan\n",
      "nan\n",
      "nan\n",
      "nan\n",
      "nan\n",
      "nan\n",
      "nan\n"
     ]
    },
    {
     "name": "stderr",
     "output_type": "stream",
     "text": [
      "\r",
      " 43%|██████████████████████████████████▍                                             | 295/686 [01:00<01:19,  4.92it/s]"
     ]
    },
    {
     "name": "stdout",
     "output_type": "stream",
     "text": [
      "nan\n",
      "nan\n",
      "nan\n",
      "nan\n",
      "nan\n",
      "nan\n",
      "nan\n",
      "nan\n"
     ]
    },
    {
     "name": "stderr",
     "output_type": "stream",
     "text": [
      "\r",
      " 43%|██████████████████████████████████▌                                             | 296/686 [01:00<01:19,  4.88it/s]"
     ]
    },
    {
     "name": "stdout",
     "output_type": "stream",
     "text": [
      "nan\n",
      "nan\n",
      "nan\n",
      "nan\n"
     ]
    },
    {
     "name": "stderr",
     "output_type": "stream",
     "text": [
      "\r",
      " 43%|██████████████████████████████████▋                                             | 297/686 [01:01<01:19,  4.86it/s]"
     ]
    },
    {
     "name": "stdout",
     "output_type": "stream",
     "text": [
      "nan\n",
      "nan\n",
      "nan\n",
      "nan\n",
      "nan\n",
      "nan\n",
      "nan\n",
      "nan\n"
     ]
    },
    {
     "name": "stderr",
     "output_type": "stream",
     "text": [
      " 44%|██████████████████████████████████▊                                             | 299/686 [01:01<01:17,  5.02it/s]"
     ]
    },
    {
     "name": "stdout",
     "output_type": "stream",
     "text": [
      "nan\n",
      "5.0\n",
      "nan\n",
      "3.0\n",
      "nan\n",
      "nan\n",
      "nan\n",
      "nan\n",
      "nan\n",
      "nan\n"
     ]
    },
    {
     "name": "stderr",
     "output_type": "stream",
     "text": [
      " 44%|███████████████████████████████████                                             | 301/686 [01:01<01:17,  5.00it/s]"
     ]
    },
    {
     "name": "stdout",
     "output_type": "stream",
     "text": [
      "nan\n",
      "nan\n",
      "nan\n",
      "nan\n",
      "nan\n",
      "nan\n",
      "nan\n",
      "nan\n",
      "nan\n",
      "nan\n"
     ]
    },
    {
     "name": "stderr",
     "output_type": "stream",
     "text": [
      " 44%|███████████████████████████████████▎                                            | 303/686 [01:02<01:20,  4.78it/s]"
     ]
    },
    {
     "name": "stdout",
     "output_type": "stream",
     "text": [
      "nan\n",
      "nan\n",
      "nan\n",
      "nan\n",
      "nan\n",
      "nan\n",
      "4.0\n"
     ]
    },
    {
     "name": "stderr",
     "output_type": "stream",
     "text": [
      "\r",
      " 44%|███████████████████████████████████▍                                            | 304/686 [01:02<01:20,  4.73it/s]"
     ]
    },
    {
     "name": "stdout",
     "output_type": "stream",
     "text": [
      "nan\n",
      "nan\n",
      "nan\n",
      "nan\n",
      "nan\n",
      "nan\n",
      "nan\n",
      "nan\n"
     ]
    },
    {
     "name": "stderr",
     "output_type": "stream",
     "text": [
      " 45%|███████████████████████████████████▋                                            | 306/686 [01:02<01:16,  4.95it/s]"
     ]
    },
    {
     "name": "stdout",
     "output_type": "stream",
     "text": [
      "nan\n",
      "nan\n",
      "nan\n",
      "nan\n",
      "nan\n",
      "nan\n",
      "nan\n"
     ]
    },
    {
     "name": "stderr",
     "output_type": "stream",
     "text": [
      "\r",
      " 45%|███████████████████████████████████▊                                            | 307/686 [01:03<01:13,  5.14it/s]"
     ]
    },
    {
     "name": "stdout",
     "output_type": "stream",
     "text": [
      "nan\n",
      "nan\n",
      "nan\n",
      "nan\n",
      "nan\n",
      "nan\n",
      "nan\n",
      "nan\n"
     ]
    },
    {
     "name": "stderr",
     "output_type": "stream",
     "text": [
      " 45%|████████████████████████████████████                                            | 309/686 [01:03<01:12,  5.23it/s]"
     ]
    },
    {
     "name": "stdout",
     "output_type": "stream",
     "text": [
      "nan\n",
      "nan\n",
      "nan\n",
      "nan\n",
      "nan\n"
     ]
    },
    {
     "name": "stderr",
     "output_type": "stream",
     "text": [
      "\r",
      " 45%|████████████████████████████████████▏                                           | 310/686 [01:03<01:15,  4.95it/s]"
     ]
    },
    {
     "name": "stdout",
     "output_type": "stream",
     "text": [
      "nan\n",
      "nan\n",
      "nan\n",
      "nan\n",
      "nan\n"
     ]
    },
    {
     "name": "stderr",
     "output_type": "stream",
     "text": [
      "\r",
      " 45%|████████████████████████████████████▎                                           | 311/686 [01:03<01:17,  4.82it/s]"
     ]
    },
    {
     "name": "stdout",
     "output_type": "stream",
     "text": [
      "nan\n",
      "nan\n",
      "nan\n",
      "nan\n",
      "nan\n",
      "nan\n",
      "nan\n",
      "nan\n",
      "nan\n",
      "nan\n"
     ]
    },
    {
     "name": "stderr",
     "output_type": "stream",
     "text": [
      " 46%|████████████████████████████████████▌                                           | 313/686 [01:04<01:32,  4.04it/s]"
     ]
    },
    {
     "name": "stdout",
     "output_type": "stream",
     "text": [
      "nan\n",
      "nan\n",
      "nan\n",
      "nan\n",
      "nan\n",
      "nan\n",
      "nan\n",
      "nan\n",
      "nan\n",
      "nan\n"
     ]
    },
    {
     "name": "stderr",
     "output_type": "stream",
     "text": [
      " 46%|████████████████████████████████████▋                                           | 315/686 [01:04<01:22,  4.50it/s]"
     ]
    },
    {
     "name": "stdout",
     "output_type": "stream",
     "text": [
      "nan\n",
      "nan\n",
      "nan\n",
      "nan\n",
      "nan\n",
      "nan\n",
      "nan\n",
      "nan\n",
      "nan\n",
      "nan\n"
     ]
    },
    {
     "name": "stderr",
     "output_type": "stream",
     "text": [
      " 46%|████████████████████████████████████▉                                           | 317/686 [01:05<01:19,  4.66it/s]"
     ]
    },
    {
     "name": "stdout",
     "output_type": "stream",
     "text": [
      "nan\n",
      "nan\n",
      "nan\n",
      "nan\n",
      "nan\n"
     ]
    },
    {
     "name": "stderr",
     "output_type": "stream",
     "text": [
      "\r",
      " 46%|█████████████████████████████████████                                           | 318/686 [01:05<01:18,  4.66it/s]"
     ]
    },
    {
     "name": "stdout",
     "output_type": "stream",
     "text": [
      "nan\n",
      "nan\n",
      "nan\n",
      "nan\n",
      "nan\n",
      "nan\n",
      "nan\n"
     ]
    },
    {
     "name": "stderr",
     "output_type": "stream",
     "text": [
      "\r",
      " 47%|█████████████████████████████████████▏                                          | 319/686 [01:05<01:15,  4.86it/s]"
     ]
    },
    {
     "name": "stdout",
     "output_type": "stream",
     "text": [
      "nan\n",
      "nan\n",
      "nan\n",
      "nan\n",
      "nan\n",
      "nan\n",
      "nan\n",
      "nan\n"
     ]
    },
    {
     "name": "stderr",
     "output_type": "stream",
     "text": [
      "\r",
      " 47%|█████████████████████████████████████▎                                          | 320/686 [01:05<01:14,  4.91it/s]"
     ]
    },
    {
     "name": "stdout",
     "output_type": "stream",
     "text": [
      "nan\n",
      "nan\n",
      "nan\n",
      "nan\n",
      "nan\n"
     ]
    },
    {
     "name": "stderr",
     "output_type": "stream",
     "text": [
      " 47%|█████████████████████████████████████▌                                          | 322/686 [01:06<01:12,  5.02it/s]"
     ]
    },
    {
     "name": "stdout",
     "output_type": "stream",
     "text": [
      "nan\n",
      "nan\n",
      "nan\n",
      "nan\n",
      "nan\n"
     ]
    },
    {
     "name": "stderr",
     "output_type": "stream",
     "text": [
      "\r",
      " 47%|█████████████████████████████████████▋                                          | 323/686 [01:06<01:12,  5.01it/s]"
     ]
    },
    {
     "name": "stdout",
     "output_type": "stream",
     "text": [
      "nan\n",
      "nan\n",
      "nan\n",
      "nan\n",
      "nan\n"
     ]
    },
    {
     "name": "stderr",
     "output_type": "stream",
     "text": [
      "\r",
      " 47%|█████████████████████████████████████▊                                          | 324/686 [01:06<01:17,  4.70it/s]"
     ]
    },
    {
     "name": "stdout",
     "output_type": "stream",
     "text": [
      "nan\n",
      "nan\n",
      "4.0\n",
      "nan\n",
      "nan\n",
      "nan\n",
      "nan\n",
      "nan\n",
      "nan\n",
      "nan\n"
     ]
    },
    {
     "name": "stderr",
     "output_type": "stream",
     "text": [
      " 48%|██████████████████████████████████████                                          | 326/686 [01:07<01:15,  4.78it/s]"
     ]
    },
    {
     "name": "stdout",
     "output_type": "stream",
     "text": [
      "nan\n",
      "nan\n",
      "nan\n",
      "nan\n",
      "nan\n"
     ]
    },
    {
     "name": "stderr",
     "output_type": "stream",
     "text": [
      "\r",
      " 48%|██████████████████████████████████████▏                                         | 327/686 [01:07<01:15,  4.76it/s]"
     ]
    },
    {
     "name": "stdout",
     "output_type": "stream",
     "text": [
      "nan\n",
      "nan\n",
      "nan\n",
      "nan\n",
      "nan\n",
      "nan\n",
      "nan\n",
      "nan\n",
      "nan\n",
      "nan\n"
     ]
    },
    {
     "name": "stderr",
     "output_type": "stream",
     "text": [
      " 48%|██████████████████████████████████████▎                                         | 329/686 [01:07<01:13,  4.88it/s]"
     ]
    },
    {
     "name": "stdout",
     "output_type": "stream",
     "text": [
      "nan\n",
      "nan\n",
      "nan\n",
      "nan\n",
      "nan\n",
      "nan\n",
      "nan\n",
      "nan\n",
      "nan\n",
      "nan\n"
     ]
    },
    {
     "name": "stderr",
     "output_type": "stream",
     "text": [
      " 48%|██████████████████████████████████████▌                                         | 331/686 [01:08<01:11,  4.96it/s]"
     ]
    },
    {
     "name": "stdout",
     "output_type": "stream",
     "text": [
      "nan\n",
      "3.0\n",
      "nan\n",
      "nan\n",
      "2.0\n"
     ]
    },
    {
     "name": "stderr",
     "output_type": "stream",
     "text": [
      "\r",
      " 48%|██████████████████████████████████████▋                                         | 332/686 [01:08<01:31,  3.87it/s]"
     ]
    },
    {
     "name": "stdout",
     "output_type": "stream",
     "text": [
      "nan\n",
      "nan\n",
      "nan\n",
      "nan\n",
      "nan\n",
      "nan\n",
      "nan\n",
      "nan\n",
      "nan\n"
     ]
    },
    {
     "name": "stderr",
     "output_type": "stream",
     "text": [
      "\r",
      " 49%|██████████████████████████████████████▊                                         | 333/686 [01:08<01:25,  4.14it/s]"
     ]
    },
    {
     "name": "stdout",
     "output_type": "stream",
     "text": [
      "nan\n",
      "nan\n",
      "nan\n",
      "nan\n",
      "nan\n",
      "nan\n"
     ]
    },
    {
     "name": "stderr",
     "output_type": "stream",
     "text": [
      " 49%|███████████████████████████████████████                                         | 335/686 [01:09<01:21,  4.33it/s]"
     ]
    },
    {
     "name": "stdout",
     "output_type": "stream",
     "text": [
      "nan\n",
      "nan\n",
      "nan\n",
      "nan\n",
      "nan\n",
      "nan\n",
      "nan\n",
      "nan\n",
      "nan\n",
      "nan\n"
     ]
    },
    {
     "name": "stderr",
     "output_type": "stream",
     "text": [
      " 49%|███████████████████████████████████████▎                                        | 337/686 [01:09<01:14,  4.69it/s]"
     ]
    },
    {
     "name": "stdout",
     "output_type": "stream",
     "text": [
      "nan\n",
      "nan\n",
      "nan\n",
      "nan\n",
      "nan\n",
      "nan\n",
      "nan\n",
      "nan\n",
      "nan\n",
      "nan\n"
     ]
    },
    {
     "name": "stderr",
     "output_type": "stream",
     "text": [
      " 49%|███████████████████████████████████████▌                                        | 339/686 [01:09<01:12,  4.80it/s]"
     ]
    },
    {
     "name": "stdout",
     "output_type": "stream",
     "text": [
      "nan\n",
      "nan\n",
      "nan\n",
      "nan\n",
      "nan\n",
      "nan\n",
      "nan\n",
      "nan\n",
      "nan\n",
      "nan\n"
     ]
    },
    {
     "name": "stderr",
     "output_type": "stream",
     "text": [
      " 50%|███████████████████████████████████████▉                                        | 342/686 [01:10<01:06,  5.14it/s]"
     ]
    },
    {
     "name": "stdout",
     "output_type": "stream",
     "text": [
      "nan\n",
      "nan\n",
      "nan\n",
      "nan\n",
      "nan\n",
      "nan\n",
      "nan\n",
      "nan\n",
      "nan\n",
      "nan\n"
     ]
    },
    {
     "name": "stderr",
     "output_type": "stream",
     "text": [
      "\r",
      " 50%|████████████████████████████████████████                                        | 343/686 [01:10<01:05,  5.27it/s]"
     ]
    },
    {
     "name": "stdout",
     "output_type": "stream",
     "text": [
      "nan\n",
      "nan\n",
      "nan\n",
      "nan\n",
      "nan\n",
      "nan\n",
      "4.0\n"
     ]
    },
    {
     "name": "stderr",
     "output_type": "stream",
     "text": [
      "\r",
      " 50%|████████████████████████████████████████                                        | 344/686 [01:10<01:05,  5.22it/s]"
     ]
    },
    {
     "name": "stdout",
     "output_type": "stream",
     "text": [
      "nan\n",
      "nan\n",
      "nan\n",
      "nan\n",
      "nan\n",
      "nan\n",
      "4.0\n"
     ]
    },
    {
     "name": "stderr",
     "output_type": "stream",
     "text": [
      "\r",
      " 50%|████████████████████████████████████████▏                                       | 345/686 [01:11<01:06,  5.15it/s]"
     ]
    },
    {
     "name": "stdout",
     "output_type": "stream",
     "text": [
      "nan\n",
      "nan\n",
      "nan\n",
      "nan\n",
      "nan\n",
      "nan\n"
     ]
    },
    {
     "name": "stderr",
     "output_type": "stream",
     "text": [
      " 51%|████████████████████████████████████████▍                                       | 347/686 [01:11<01:05,  5.15it/s]"
     ]
    },
    {
     "name": "stdout",
     "output_type": "stream",
     "text": [
      "nan\n",
      "nan\n",
      "nan\n",
      "nan\n",
      "nan\n",
      "nan\n",
      "nan\n"
     ]
    },
    {
     "name": "stderr",
     "output_type": "stream",
     "text": [
      "\r",
      " 51%|████████████████████████████████████████▌                                       | 348/686 [01:11<01:05,  5.17it/s]"
     ]
    },
    {
     "name": "stdout",
     "output_type": "stream",
     "text": [
      "nan\n",
      "nan\n",
      "nan\n",
      "nan\n",
      "nan\n",
      "nan\n",
      "nan\n",
      "nan\n"
     ]
    },
    {
     "name": "stderr",
     "output_type": "stream",
     "text": [
      " 51%|████████████████████████████████████████▊                                       | 350/686 [01:12<01:05,  5.10it/s]"
     ]
    },
    {
     "name": "stdout",
     "output_type": "stream",
     "text": [
      "nan\n",
      "nan\n",
      "nan\n",
      "nan\n",
      "nan\n",
      "nan\n"
     ]
    },
    {
     "name": "stderr",
     "output_type": "stream",
     "text": [
      "\r",
      " 51%|████████████████████████████████████████▉                                       | 351/686 [01:12<01:05,  5.10it/s]"
     ]
    },
    {
     "name": "stdout",
     "output_type": "stream",
     "text": [
      "nan\n",
      "nan\n",
      "nan\n",
      "nan\n"
     ]
    },
    {
     "name": "stderr",
     "output_type": "stream",
     "text": [
      "\r",
      " 51%|█████████████████████████████████████████                                       | 352/686 [01:12<01:08,  4.84it/s]"
     ]
    },
    {
     "name": "stdout",
     "output_type": "stream",
     "text": [
      "nan\n",
      "nan\n",
      "nan\n",
      "nan\n",
      "nan\n"
     ]
    },
    {
     "name": "stderr",
     "output_type": "stream",
     "text": [
      "\r",
      " 51%|█████████████████████████████████████████▏                                      | 353/686 [01:12<01:24,  3.92it/s]"
     ]
    },
    {
     "name": "stdout",
     "output_type": "stream",
     "text": [
      "nan\n",
      "nan\n",
      "nan\n",
      "nan\n",
      "nan\n"
     ]
    },
    {
     "name": "stderr",
     "output_type": "stream",
     "text": [
      "\r",
      " 52%|█████████████████████████████████████████▎                                      | 354/686 [01:13<01:21,  4.06it/s]"
     ]
    },
    {
     "name": "stdout",
     "output_type": "stream",
     "text": [
      "nan\n",
      "nan\n",
      "nan\n",
      "nan\n",
      "nan\n"
     ]
    },
    {
     "name": "stderr",
     "output_type": "stream",
     "text": [
      "\r",
      " 52%|█████████████████████████████████████████▍                                      | 355/686 [01:13<01:20,  4.09it/s]"
     ]
    },
    {
     "name": "stdout",
     "output_type": "stream",
     "text": [
      "nan\n",
      "nan\n",
      "nan\n",
      "nan\n",
      "nan\n"
     ]
    },
    {
     "name": "stderr",
     "output_type": "stream",
     "text": [
      "\r",
      " 52%|█████████████████████████████████████████▌                                      | 356/686 [01:13<01:17,  4.24it/s]"
     ]
    },
    {
     "name": "stdout",
     "output_type": "stream",
     "text": [
      "nan\n",
      "nan\n",
      "nan\n",
      "nan\n",
      "nan\n"
     ]
    },
    {
     "name": "stderr",
     "output_type": "stream",
     "text": [
      "\r",
      " 52%|█████████████████████████████████████████▋                                      | 357/686 [01:13<01:17,  4.26it/s]"
     ]
    },
    {
     "name": "stdout",
     "output_type": "stream",
     "text": [
      "nan\n",
      "nan\n",
      "nan\n",
      "nan\n",
      "nan\n"
     ]
    },
    {
     "name": "stderr",
     "output_type": "stream",
     "text": [
      "\r",
      " 52%|█████████████████████████████████████████▋                                      | 358/686 [01:14<01:17,  4.22it/s]"
     ]
    },
    {
     "name": "stdout",
     "output_type": "stream",
     "text": [
      "nan\n",
      "nan\n",
      "nan\n",
      "nan\n",
      "nan\n"
     ]
    },
    {
     "name": "stderr",
     "output_type": "stream",
     "text": [
      "\r",
      " 52%|█████████████████████████████████████████▊                                      | 359/686 [01:14<01:16,  4.27it/s]"
     ]
    },
    {
     "name": "stdout",
     "output_type": "stream",
     "text": [
      "nan\n",
      "nan\n",
      "nan\n",
      "nan\n",
      "nan\n"
     ]
    },
    {
     "name": "stderr",
     "output_type": "stream",
     "text": [
      "\r",
      " 52%|█████████████████████████████████████████▉                                      | 360/686 [01:14<01:15,  4.30it/s]"
     ]
    },
    {
     "name": "stdout",
     "output_type": "stream",
     "text": [
      "nan\n",
      "nan\n",
      "nan\n",
      "nan\n",
      "nan\n",
      "nan\n",
      "nan\n",
      "nan\n",
      "nan\n",
      "3.0\n"
     ]
    },
    {
     "name": "stderr",
     "output_type": "stream",
     "text": [
      " 53%|██████████████████████████████████████████▏                                     | 362/686 [01:14<01:12,  4.45it/s]"
     ]
    },
    {
     "name": "stdout",
     "output_type": "stream",
     "text": [
      "nan\n",
      "nan\n",
      "nan\n",
      "nan\n",
      "4.0\n"
     ]
    },
    {
     "name": "stderr",
     "output_type": "stream",
     "text": [
      " 53%|██████████████████████████████████████████▍                                     | 364/686 [01:15<01:10,  4.54it/s]"
     ]
    },
    {
     "name": "stdout",
     "output_type": "stream",
     "text": [
      "nan\n",
      "nan\n",
      "nan\n",
      "nan\n",
      "nan\n",
      "nan\n",
      "nan\n",
      "nan\n",
      "nan\n",
      "nan\n"
     ]
    },
    {
     "name": "stderr",
     "output_type": "stream",
     "text": [
      "\r",
      " 53%|██████████████████████████████████████████▌                                     | 365/686 [01:15<01:11,  4.46it/s]"
     ]
    },
    {
     "name": "stdout",
     "output_type": "stream",
     "text": [
      "nan\n",
      "nan\n",
      "nan\n",
      "nan\n",
      "nan\n"
     ]
    },
    {
     "name": "stderr",
     "output_type": "stream",
     "text": [
      "\r",
      " 53%|██████████████████████████████████████████▋                                     | 366/686 [01:15<01:12,  4.42it/s]"
     ]
    },
    {
     "name": "stdout",
     "output_type": "stream",
     "text": [
      "nan\n",
      "nan\n",
      "nan\n",
      "nan\n",
      "nan\n",
      "nan\n",
      "nan\n",
      "nan\n",
      "nan\n",
      "nan\n"
     ]
    },
    {
     "name": "stderr",
     "output_type": "stream",
     "text": [
      " 54%|██████████████████████████████████████████▉                                     | 368/686 [01:16<01:15,  4.22it/s]"
     ]
    },
    {
     "name": "stdout",
     "output_type": "stream",
     "text": [
      "nan\n",
      "nan\n",
      "nan\n",
      "nan\n",
      "nan\n"
     ]
    },
    {
     "name": "stderr",
     "output_type": "stream",
     "text": [
      "\r",
      " 54%|███████████████████████████████████████████                                     | 369/686 [01:16<01:13,  4.32it/s]"
     ]
    },
    {
     "name": "stdout",
     "output_type": "stream",
     "text": [
      "nan\n",
      "nan\n",
      "nan\n",
      "nan\n",
      "nan\n"
     ]
    },
    {
     "name": "stderr",
     "output_type": "stream",
     "text": [
      "\r",
      " 54%|███████████████████████████████████████████▏                                    | 370/686 [01:16<01:12,  4.38it/s]"
     ]
    },
    {
     "name": "stdout",
     "output_type": "stream",
     "text": [
      "nan\n",
      "nan\n",
      "nan\n",
      "nan\n",
      "nan\n"
     ]
    },
    {
     "name": "stderr",
     "output_type": "stream",
     "text": [
      "\r",
      " 54%|███████████████████████████████████████████▎                                    | 371/686 [01:16<01:12,  4.36it/s]"
     ]
    },
    {
     "name": "stdout",
     "output_type": "stream",
     "text": [
      "nan\n",
      "nan\n",
      "nan\n",
      "nan\n",
      "nan\n",
      "nan\n",
      "nan\n",
      "nan\n",
      "nan\n",
      "nan\n"
     ]
    },
    {
     "name": "stderr",
     "output_type": "stream",
     "text": [
      " 54%|███████████████████████████████████████████▍                                    | 373/686 [01:17<01:14,  4.19it/s]"
     ]
    },
    {
     "name": "stdout",
     "output_type": "stream",
     "text": [
      "nan\n",
      "nan\n",
      "nan\n",
      "nan\n",
      "nan\n"
     ]
    },
    {
     "name": "stderr",
     "output_type": "stream",
     "text": [
      "\r",
      " 55%|███████████████████████████████████████████▌                                    | 374/686 [01:17<01:13,  4.24it/s]"
     ]
    },
    {
     "name": "stdout",
     "output_type": "stream",
     "text": [
      "nan\n",
      "nan\n",
      "nan\n",
      "nan\n",
      "nan\n"
     ]
    },
    {
     "name": "stderr",
     "output_type": "stream",
     "text": [
      "\r",
      " 55%|███████████████████████████████████████████▋                                    | 375/686 [01:17<01:13,  4.23it/s]"
     ]
    },
    {
     "name": "stdout",
     "output_type": "stream",
     "text": [
      "nan\n",
      "nan\n",
      "nan\n",
      "nan\n",
      "nan\n"
     ]
    },
    {
     "name": "stderr",
     "output_type": "stream",
     "text": [
      " 55%|███████████████████████████████████████████▉                                    | 377/686 [01:18<01:07,  4.60it/s]"
     ]
    },
    {
     "name": "stdout",
     "output_type": "stream",
     "text": [
      "nan\n",
      "nan\n",
      "nan\n",
      "nan\n",
      "nan\n",
      "nan\n",
      "nan\n",
      "nan\n",
      "nan\n",
      "nan\n"
     ]
    },
    {
     "name": "stderr",
     "output_type": "stream",
     "text": [
      "\r",
      " 55%|████████████████████████████████████████████                                    | 378/686 [01:18<01:05,  4.72it/s]"
     ]
    },
    {
     "name": "stdout",
     "output_type": "stream",
     "text": [
      "nan\n",
      "nan\n",
      "nan\n",
      "nan\n",
      "nan\n",
      "nan\n",
      "nan\n",
      "nan\n",
      "nan\n",
      "nan\n"
     ]
    },
    {
     "name": "stderr",
     "output_type": "stream",
     "text": [
      " 55%|████████████████████████████████████████████▎                                   | 380/686 [01:18<01:07,  4.56it/s]"
     ]
    },
    {
     "name": "stdout",
     "output_type": "stream",
     "text": [
      "nan\n",
      "nan\n",
      "nan\n",
      "nan\n",
      "nan\n"
     ]
    },
    {
     "name": "stderr",
     "output_type": "stream",
     "text": [
      "\r",
      " 56%|████████████████████████████████████████████▍                                   | 381/686 [01:19<01:10,  4.34it/s]"
     ]
    },
    {
     "name": "stdout",
     "output_type": "stream",
     "text": [
      "nan\n",
      "nan\n",
      "nan\n",
      "nan\n",
      "5.0\n"
     ]
    },
    {
     "name": "stderr",
     "output_type": "stream",
     "text": [
      "\r",
      " 56%|████████████████████████████████████████████▌                                   | 382/686 [01:19<01:09,  4.38it/s]"
     ]
    },
    {
     "name": "stdout",
     "output_type": "stream",
     "text": [
      "nan\n",
      "nan\n",
      "nan\n",
      "nan\n",
      "nan\n",
      "nan\n",
      "nan\n",
      "nan\n",
      "nan\n",
      "nan\n"
     ]
    },
    {
     "name": "stderr",
     "output_type": "stream",
     "text": [
      " 56%|████████████████████████████████████████████▊                                   | 384/686 [01:19<01:06,  4.51it/s]"
     ]
    },
    {
     "name": "stdout",
     "output_type": "stream",
     "text": [
      "nan\n",
      "nan\n",
      "nan\n",
      "nan\n",
      "nan\n"
     ]
    },
    {
     "name": "stderr",
     "output_type": "stream",
     "text": [
      "\r",
      " 56%|████████████████████████████████████████████▉                                   | 385/686 [01:20<01:19,  3.80it/s]"
     ]
    },
    {
     "name": "stdout",
     "output_type": "stream",
     "text": [
      "nan\n",
      "nan\n",
      "nan\n",
      "nan\n",
      "nan\n",
      "nan\n",
      "nan\n",
      "nan\n",
      "nan\n",
      "nan\n"
     ]
    },
    {
     "name": "stderr",
     "output_type": "stream",
     "text": [
      " 56%|█████████████████████████████████████████████▏                                  | 387/686 [01:20<01:08,  4.34it/s]"
     ]
    },
    {
     "name": "stdout",
     "output_type": "stream",
     "text": [
      "nan\n",
      "nan\n",
      "nan\n",
      "nan\n",
      "nan\n"
     ]
    },
    {
     "name": "stderr",
     "output_type": "stream",
     "text": [
      "\r",
      " 57%|█████████████████████████████████████████████▏                                  | 388/686 [01:20<01:06,  4.49it/s]"
     ]
    },
    {
     "name": "stdout",
     "output_type": "stream",
     "text": [
      "nan\n",
      "nan\n",
      "nan\n",
      "nan\n",
      "nan\n"
     ]
    },
    {
     "name": "stderr",
     "output_type": "stream",
     "text": [
      "\r",
      " 57%|█████████████████████████████████████████████▎                                  | 389/686 [01:21<01:04,  4.59it/s]"
     ]
    },
    {
     "name": "stdout",
     "output_type": "stream",
     "text": [
      "nan\n",
      "nan\n",
      "nan\n",
      "nan\n",
      "nan\n",
      "nan\n",
      "nan\n",
      "nan\n",
      "nan\n",
      "nan\n"
     ]
    },
    {
     "name": "stderr",
     "output_type": "stream",
     "text": [
      " 57%|█████████████████████████████████████████████▌                                  | 391/686 [01:21<01:04,  4.59it/s]"
     ]
    },
    {
     "name": "stdout",
     "output_type": "stream",
     "text": [
      "nan\n",
      "nan\n",
      "nan\n",
      "nan\n",
      "nan\n"
     ]
    },
    {
     "name": "stderr",
     "output_type": "stream",
     "text": [
      "\r",
      " 57%|█████████████████████████████████████████████▋                                  | 392/686 [01:21<01:19,  3.68it/s]"
     ]
    },
    {
     "name": "stdout",
     "output_type": "stream",
     "text": [
      "nan\n",
      "nan\n",
      "nan\n",
      "nan\n",
      "nan\n",
      "nan\n",
      "nan\n",
      "nan\n",
      "nan\n",
      "nan\n"
     ]
    },
    {
     "name": "stderr",
     "output_type": "stream",
     "text": [
      " 57%|█████████████████████████████████████████████▉                                  | 394/686 [01:22<01:09,  4.17it/s]"
     ]
    },
    {
     "name": "stdout",
     "output_type": "stream",
     "text": [
      "nan\n",
      "nan\n",
      "nan\n",
      "nan\n",
      "nan\n"
     ]
    },
    {
     "name": "stderr",
     "output_type": "stream",
     "text": [
      "\r",
      " 58%|██████████████████████████████████████████████                                  | 395/686 [01:22<01:07,  4.28it/s]"
     ]
    },
    {
     "name": "stdout",
     "output_type": "stream",
     "text": [
      "nan\n",
      "nan\n",
      "nan\n",
      "nan\n",
      "nan\n",
      "nan\n",
      "nan\n",
      "nan\n",
      "nan\n",
      "nan\n"
     ]
    },
    {
     "name": "stderr",
     "output_type": "stream",
     "text": [
      " 58%|██████████████████████████████████████████████▎                                 | 397/686 [01:22<01:00,  4.76it/s]"
     ]
    },
    {
     "name": "stdout",
     "output_type": "stream",
     "text": [
      "nan\n",
      "nan\n",
      "nan\n",
      "nan\n",
      "nan\n",
      "nan\n",
      "nan\n"
     ]
    },
    {
     "name": "stderr",
     "output_type": "stream",
     "text": [
      "\r",
      " 58%|██████████████████████████████████████████████▍                                 | 398/686 [01:23<00:59,  4.87it/s]"
     ]
    },
    {
     "name": "stdout",
     "output_type": "stream",
     "text": [
      "nan\n",
      "nan\n",
      "nan\n",
      "nan\n",
      "nan\n",
      "nan\n",
      "nan\n",
      "nan\n"
     ]
    },
    {
     "name": "stderr",
     "output_type": "stream",
     "text": [
      " 58%|██████████████████████████████████████████████▋                                 | 400/686 [01:23<00:59,  4.84it/s]"
     ]
    },
    {
     "name": "stdout",
     "output_type": "stream",
     "text": [
      "nan\n",
      "nan\n",
      "4.0\n",
      "nan\n",
      "nan\n",
      "nan\n"
     ]
    },
    {
     "name": "stderr",
     "output_type": "stream",
     "text": [
      "\r",
      " 58%|██████████████████████████████████████████████▊                                 | 401/686 [01:23<00:58,  4.85it/s]"
     ]
    },
    {
     "name": "stdout",
     "output_type": "stream",
     "text": [
      "nan\n",
      "nan\n",
      "nan\n",
      "nan\n"
     ]
    },
    {
     "name": "stderr",
     "output_type": "stream",
     "text": [
      "\r",
      " 59%|██████████████████████████████████████████████▉                                 | 402/686 [01:24<01:14,  3.83it/s]"
     ]
    },
    {
     "name": "stdout",
     "output_type": "stream",
     "text": [
      "nan\n",
      "nan\n",
      "nan\n",
      "nan\n",
      "nan\n",
      "nan\n",
      "nan\n",
      "nan\n"
     ]
    },
    {
     "name": "stderr",
     "output_type": "stream",
     "text": [
      "\r",
      " 59%|██████████████████████████████████████████████▉                                 | 403/686 [01:24<01:08,  4.12it/s]"
     ]
    },
    {
     "name": "stdout",
     "output_type": "stream",
     "text": [
      "nan\n",
      "nan\n",
      "nan\n",
      "nan\n",
      "nan\n",
      "nan\n",
      "nan\n"
     ]
    },
    {
     "name": "stderr",
     "output_type": "stream",
     "text": [
      " 59%|███████████████████████████████████████████████▏                                | 405/686 [01:24<01:02,  4.49it/s]"
     ]
    },
    {
     "name": "stdout",
     "output_type": "stream",
     "text": [
      "nan\n",
      "nan\n",
      "nan\n",
      "nan\n",
      "nan\n",
      "nan\n",
      "nan\n",
      "nan\n",
      "nan\n",
      "nan\n"
     ]
    },
    {
     "name": "stderr",
     "output_type": "stream",
     "text": [
      " 59%|███████████████████████████████████████████████▍                                | 407/686 [01:25<01:16,  3.66it/s]"
     ]
    },
    {
     "name": "stdout",
     "output_type": "stream",
     "text": [
      "nan\n",
      "nan\n",
      "nan\n",
      "nan\n",
      "nan\n",
      "nan\n",
      "nan\n",
      "nan\n",
      "nan\n",
      "nan\n"
     ]
    },
    {
     "name": "stderr",
     "output_type": "stream",
     "text": [
      " 60%|███████████████████████████████████████████████▋                                | 409/686 [01:25<01:06,  4.18it/s]"
     ]
    },
    {
     "name": "stdout",
     "output_type": "stream",
     "text": [
      "nan\n",
      "nan\n",
      "nan\n",
      "nan\n",
      "nan\n",
      "nan\n",
      "nan\n",
      "nan\n",
      "nan\n",
      "nan\n"
     ]
    },
    {
     "name": "stderr",
     "output_type": "stream",
     "text": [
      "\r",
      " 60%|███████████████████████████████████████████████▊                                | 410/686 [01:25<01:03,  4.34it/s]"
     ]
    },
    {
     "name": "stdout",
     "output_type": "stream",
     "text": [
      "nan\n",
      "nan\n",
      "nan\n"
     ]
    },
    {
     "name": "stderr",
     "output_type": "stream",
     "text": [
      "\r",
      " 60%|███████████████████████████████████████████████▉                                | 411/686 [01:26<01:01,  4.45it/s]"
     ]
    },
    {
     "name": "stdout",
     "output_type": "stream",
     "text": [
      "nan\n",
      "nan\n"
     ]
    },
    {
     "name": "stderr",
     "output_type": "stream",
     "text": [
      "\r",
      " 60%|████████████████████████████████████████████████                                | 412/686 [01:26<01:00,  4.54it/s]"
     ]
    },
    {
     "name": "stdout",
     "output_type": "stream",
     "text": [
      "nan\n",
      "nan\n",
      "3.0\n",
      "nan\n",
      "nan\n"
     ]
    },
    {
     "name": "stderr",
     "output_type": "stream",
     "text": [
      "\r",
      " 60%|████████████████████████████████████████████████▏                               | 413/686 [01:26<00:59,  4.60it/s]"
     ]
    },
    {
     "name": "stdout",
     "output_type": "stream",
     "text": [
      "nan\n",
      "nan\n",
      "nan\n",
      "nan\n",
      "nan\n",
      "nan\n",
      "nan\n",
      "nan\n",
      "nan\n",
      "nan\n"
     ]
    },
    {
     "name": "stderr",
     "output_type": "stream",
     "text": [
      " 61%|████████████████████████████████████████████████▌                               | 416/686 [01:27<00:58,  4.65it/s]"
     ]
    },
    {
     "name": "stdout",
     "output_type": "stream",
     "text": [
      "nan\n",
      "nan\n",
      "nan\n",
      "nan\n",
      "nan\n",
      "nan\n",
      "nan\n",
      "nan\n",
      "nan\n",
      "nan\n"
     ]
    },
    {
     "name": "stderr",
     "output_type": "stream",
     "text": [
      "\r",
      " 61%|████████████████████████████████████████████████▋                               | 417/686 [01:27<00:56,  4.75it/s]"
     ]
    },
    {
     "name": "stdout",
     "output_type": "stream",
     "text": [
      "nan\n",
      "nan\n",
      "nan\n",
      "nan\n",
      "nan\n",
      "nan\n"
     ]
    },
    {
     "name": "stderr",
     "output_type": "stream",
     "text": [
      "\r",
      " 61%|████████████████████████████████████████████████▋                               | 418/686 [01:27<00:56,  4.72it/s]"
     ]
    },
    {
     "name": "stdout",
     "output_type": "stream",
     "text": [
      "nan\n",
      "nan\n",
      "nan\n",
      "nan\n"
     ]
    },
    {
     "name": "stderr",
     "output_type": "stream",
     "text": [
      "\r",
      " 61%|████████████████████████████████████████████████▊                               | 419/686 [01:27<00:57,  4.68it/s]"
     ]
    },
    {
     "name": "stdout",
     "output_type": "stream",
     "text": [
      "nan\n",
      "nan\n",
      "nan\n",
      "nan\n",
      "nan\n"
     ]
    },
    {
     "name": "stderr",
     "output_type": "stream",
     "text": [
      "\r",
      " 61%|████████████████████████████████████████████████▉                               | 420/686 [01:28<00:57,  4.62it/s]"
     ]
    },
    {
     "name": "stdout",
     "output_type": "stream",
     "text": [
      "nan\n",
      "nan\n",
      "nan\n",
      "nan\n",
      "nan\n"
     ]
    },
    {
     "name": "stderr",
     "output_type": "stream",
     "text": [
      "\r",
      " 61%|█████████████████████████████████████████████████                               | 421/686 [01:28<00:57,  4.58it/s]"
     ]
    },
    {
     "name": "stdout",
     "output_type": "stream",
     "text": [
      "nan\n",
      "nan\n",
      "nan\n",
      "nan\n",
      "nan\n"
     ]
    },
    {
     "name": "stderr",
     "output_type": "stream",
     "text": [
      "\r",
      " 62%|█████████████████████████████████████████████████▏                              | 422/686 [01:28<00:57,  4.60it/s]"
     ]
    },
    {
     "name": "stdout",
     "output_type": "stream",
     "text": [
      "nan\n",
      "nan\n",
      "nan\n",
      "nan\n",
      "nan\n",
      "nan\n",
      "nan\n",
      "nan\n",
      "nan\n",
      "nan\n"
     ]
    },
    {
     "name": "stderr",
     "output_type": "stream",
     "text": [
      " 62%|█████████████████████████████████████████████████▍                              | 424/686 [01:28<00:58,  4.45it/s]"
     ]
    },
    {
     "name": "stdout",
     "output_type": "stream",
     "text": [
      "nan\n",
      "nan\n",
      "nan\n",
      "nan\n",
      "nan\n",
      "nan\n",
      "2.0\n"
     ]
    },
    {
     "name": "stderr",
     "output_type": "stream",
     "text": [
      "\r",
      " 62%|█████████████████████████████████████████████████▌                              | 425/686 [01:29<00:57,  4.58it/s]"
     ]
    },
    {
     "name": "stdout",
     "output_type": "stream",
     "text": [
      "nan\n",
      "nan\n",
      "nan\n"
     ]
    },
    {
     "name": "stderr",
     "output_type": "stream",
     "text": [
      "\r",
      " 62%|█████████████████████████████████████████████████▋                              | 426/686 [01:29<01:10,  3.67it/s]"
     ]
    },
    {
     "name": "stdout",
     "output_type": "stream",
     "text": [
      "nan\n",
      "nan\n",
      "nan\n",
      "nan\n",
      "nan\n",
      "nan\n",
      "nan\n",
      "nan\n",
      "nan\n",
      "nan\n"
     ]
    },
    {
     "name": "stderr",
     "output_type": "stream",
     "text": [
      " 62%|█████████████████████████████████████████████████▉                              | 428/686 [01:29<01:04,  3.99it/s]"
     ]
    },
    {
     "name": "stdout",
     "output_type": "stream",
     "text": [
      "nan\n",
      "nan\n",
      "nan\n",
      "nan\n",
      "nan\n",
      "nan\n",
      "nan\n",
      "nan\n",
      "nan\n",
      "nan\n"
     ]
    },
    {
     "name": "stderr",
     "output_type": "stream",
     "text": [
      " 63%|██████████████████████████████████████████████████▏                             | 430/686 [01:30<01:01,  4.17it/s]"
     ]
    },
    {
     "name": "stdout",
     "output_type": "stream",
     "text": [
      "nan\n",
      "nan\n",
      "nan\n",
      "nan\n",
      "nan\n"
     ]
    },
    {
     "name": "stderr",
     "output_type": "stream",
     "text": [
      "\r",
      " 63%|██████████████████████████████████████████████████▎                             | 431/686 [01:30<01:00,  4.19it/s]"
     ]
    },
    {
     "name": "stdout",
     "output_type": "stream",
     "text": [
      "nan\n",
      "nan\n",
      "nan\n",
      "nan\n",
      "nan\n"
     ]
    },
    {
     "name": "stderr",
     "output_type": "stream",
     "text": [
      "\r",
      " 63%|██████████████████████████████████████████████████▍                             | 432/686 [01:31<01:07,  3.74it/s]"
     ]
    },
    {
     "name": "stdout",
     "output_type": "stream",
     "text": [
      "nan\n",
      "nan\n",
      "nan\n",
      "nan\n",
      "nan\n",
      "nan\n",
      "nan\n",
      "nan\n",
      "nan\n",
      "nan\n"
     ]
    },
    {
     "name": "stderr",
     "output_type": "stream",
     "text": [
      " 63%|██████████████████████████████████████████████████▌                             | 434/686 [01:31<00:58,  4.30it/s]"
     ]
    },
    {
     "name": "stdout",
     "output_type": "stream",
     "text": [
      "nan\n",
      "nan\n",
      "nan\n",
      "nan\n",
      "nan\n"
     ]
    },
    {
     "name": "stderr",
     "output_type": "stream",
     "text": [
      "\r",
      " 63%|██████████████████████████████████████████████████▋                             | 435/686 [01:31<00:58,  4.28it/s]"
     ]
    },
    {
     "name": "stdout",
     "output_type": "stream",
     "text": [
      "nan\n",
      "nan\n",
      "nan\n",
      "nan\n",
      "nan\n"
     ]
    },
    {
     "name": "stderr",
     "output_type": "stream",
     "text": [
      "\r",
      " 64%|██████████████████████████████████████████████████▊                             | 436/686 [01:31<00:59,  4.22it/s]"
     ]
    },
    {
     "name": "stdout",
     "output_type": "stream",
     "text": [
      "nan\n",
      "nan\n",
      "nan\n",
      "nan\n",
      "nan\n"
     ]
    },
    {
     "name": "stderr",
     "output_type": "stream",
     "text": [
      "\r",
      " 64%|██████████████████████████████████████████████████▉                             | 437/686 [01:32<00:56,  4.39it/s]"
     ]
    },
    {
     "name": "stdout",
     "output_type": "stream",
     "text": [
      "nan\n",
      "nan\n",
      "nan\n",
      "nan\n",
      "nan\n"
     ]
    },
    {
     "name": "stderr",
     "output_type": "stream",
     "text": [
      "\r",
      " 64%|███████████████████████████████████████████████████                             | 438/686 [01:32<00:55,  4.44it/s]"
     ]
    },
    {
     "name": "stdout",
     "output_type": "stream",
     "text": [
      "nan\n",
      "nan\n",
      "nan\n",
      "nan\n",
      "nan\n",
      "nan\n",
      "nan\n",
      "nan\n",
      "nan\n",
      "nan\n"
     ]
    },
    {
     "name": "stderr",
     "output_type": "stream",
     "text": [
      " 64%|███████████████████████████████████████████████████▎                            | 440/686 [01:32<00:53,  4.63it/s]"
     ]
    },
    {
     "name": "stdout",
     "output_type": "stream",
     "text": [
      "nan\n",
      "nan\n",
      "nan\n",
      "nan\n",
      "nan\n",
      "nan\n",
      "nan\n",
      "nan\n",
      "nan\n"
     ]
    },
    {
     "name": "stderr",
     "output_type": "stream",
     "text": [
      "\r",
      " 64%|███████████████████████████████████████████████████▍                            | 441/686 [01:32<00:50,  4.82it/s]"
     ]
    },
    {
     "name": "stdout",
     "output_type": "stream",
     "text": [
      "nan\n",
      "nan\n",
      "nan\n",
      "nan\n",
      "nan\n",
      "nan\n"
     ]
    },
    {
     "name": "stderr",
     "output_type": "stream",
     "text": [
      " 65%|███████████████████████████████████████████████████▋                            | 443/686 [01:33<00:49,  4.90it/s]"
     ]
    },
    {
     "name": "stdout",
     "output_type": "stream",
     "text": [
      "nan\n",
      "nan\n",
      "nan\n",
      "nan\n",
      "nan\n",
      "nan\n",
      "nan\n",
      "nan\n",
      "nan\n",
      "nan\n"
     ]
    },
    {
     "name": "stderr",
     "output_type": "stream",
     "text": [
      " 65%|███████████████████████████████████████████████████▉                            | 445/686 [01:33<01:04,  3.72it/s]"
     ]
    },
    {
     "name": "stdout",
     "output_type": "stream",
     "text": [
      "nan\n",
      "nan\n",
      "nan\n",
      "nan\n",
      "nan\n"
     ]
    },
    {
     "name": "stderr",
     "output_type": "stream",
     "text": [
      "\r",
      " 65%|████████████████████████████████████████████████████                            | 446/686 [01:34<01:07,  3.54it/s]"
     ]
    },
    {
     "name": "stdout",
     "output_type": "stream",
     "text": [
      "nan\n",
      "nan\n",
      "nan\n",
      "nan\n",
      "nan\n"
     ]
    },
    {
     "name": "stderr",
     "output_type": "stream",
     "text": [
      "\r",
      " 65%|████████████████████████████████████████████████████▏                           | 447/686 [01:34<01:09,  3.43it/s]"
     ]
    },
    {
     "name": "stdout",
     "output_type": "stream",
     "text": [
      "nan\n",
      "nan\n",
      "nan\n",
      "nan\n",
      "nan\n"
     ]
    },
    {
     "name": "stderr",
     "output_type": "stream",
     "text": [
      "\r",
      " 65%|████████████████████████████████████████████████████▏                           | 448/686 [01:34<01:04,  3.68it/s]"
     ]
    },
    {
     "name": "stdout",
     "output_type": "stream",
     "text": [
      "nan\n",
      "nan\n",
      "3.0\n",
      "nan\n",
      "nan\n"
     ]
    },
    {
     "name": "stderr",
     "output_type": "stream",
     "text": [
      "\r",
      " 65%|████████████████████████████████████████████████████▎                           | 449/686 [01:35<01:01,  3.83it/s]"
     ]
    },
    {
     "name": "stdout",
     "output_type": "stream",
     "text": [
      "nan\n",
      "nan\n",
      "nan\n",
      "nan\n",
      "nan\n"
     ]
    },
    {
     "name": "stderr",
     "output_type": "stream",
     "text": [
      "\r",
      " 66%|████████████████████████████████████████████████████▍                           | 450/686 [01:35<01:00,  3.90it/s]"
     ]
    },
    {
     "name": "stdout",
     "output_type": "stream",
     "text": [
      "nan\n",
      "nan\n",
      "nan\n",
      "nan\n",
      "nan\n"
     ]
    },
    {
     "name": "stderr",
     "output_type": "stream",
     "text": [
      "\r",
      " 66%|████████████████████████████████████████████████████▌                           | 451/686 [01:35<00:58,  4.02it/s]"
     ]
    },
    {
     "name": "stdout",
     "output_type": "stream",
     "text": [
      "nan\n",
      "nan\n",
      "nan\n",
      "nan\n",
      "nan\n"
     ]
    },
    {
     "name": "stderr",
     "output_type": "stream",
     "text": [
      "\r",
      " 66%|████████████████████████████████████████████████████▋                           | 452/686 [01:35<00:56,  4.12it/s]"
     ]
    },
    {
     "name": "stdout",
     "output_type": "stream",
     "text": [
      "nan\n",
      "nan\n",
      "nan\n",
      "nan\n",
      "nan\n"
     ]
    },
    {
     "name": "stderr",
     "output_type": "stream",
     "text": [
      "\r",
      " 66%|████████████████████████████████████████████████████▊                           | 453/686 [01:36<01:01,  3.80it/s]"
     ]
    },
    {
     "name": "stdout",
     "output_type": "stream",
     "text": [
      "nan\n",
      "nan\n",
      "nan\n",
      "nan\n",
      "nan\n",
      "nan\n",
      "2.0\n"
     ]
    },
    {
     "name": "stderr",
     "output_type": "stream",
     "text": [
      "\r",
      " 66%|████████████████████████████████████████████████████▉                           | 454/686 [01:36<00:57,  4.07it/s]"
     ]
    },
    {
     "name": "stdout",
     "output_type": "stream",
     "text": [
      "nan\n",
      "nan\n",
      "nan\n"
     ]
    },
    {
     "name": "stderr",
     "output_type": "stream",
     "text": [
      "\r",
      " 66%|█████████████████████████████████████████████████████                           | 455/686 [01:36<00:57,  4.00it/s]"
     ]
    },
    {
     "name": "stdout",
     "output_type": "stream",
     "text": [
      "nan\n",
      "nan\n",
      "nan\n",
      "nan\n",
      "nan\n"
     ]
    },
    {
     "name": "stderr",
     "output_type": "stream",
     "text": [
      "\r",
      " 66%|█████████████████████████████████████████████████████▏                          | 456/686 [01:36<00:59,  3.88it/s]"
     ]
    },
    {
     "name": "stdout",
     "output_type": "stream",
     "text": [
      "nan\n",
      "nan\n",
      "nan\n",
      "nan\n",
      "nan\n"
     ]
    },
    {
     "name": "stderr",
     "output_type": "stream",
     "text": [
      "\r",
      " 67%|█████████████████████████████████████████████████████▎                          | 457/686 [01:37<00:57,  3.99it/s]"
     ]
    },
    {
     "name": "stdout",
     "output_type": "stream",
     "text": [
      "nan\n",
      "nan\n",
      "nan\n",
      "nan\n",
      "nan\n",
      "nan\n",
      "nan\n",
      "nan\n",
      "nan\n"
     ]
    },
    {
     "name": "stderr",
     "output_type": "stream",
     "text": [
      "\r",
      " 67%|█████████████████████████████████████████████████████▍                          | 458/686 [01:37<00:54,  4.22it/s]"
     ]
    },
    {
     "name": "stdout",
     "output_type": "stream",
     "text": [
      "nan\n"
     ]
    },
    {
     "name": "stderr",
     "output_type": "stream",
     "text": [
      "\r",
      " 67%|█████████████████████████████████████████████████████▌                          | 459/686 [01:37<00:58,  3.90it/s]"
     ]
    },
    {
     "name": "stdout",
     "output_type": "stream",
     "text": [
      "nan\n",
      "nan\n",
      "nan\n",
      "nan\n",
      "nan\n"
     ]
    },
    {
     "name": "stderr",
     "output_type": "stream",
     "text": [
      "\r",
      " 67%|█████████████████████████████████████████████████████▋                          | 460/686 [01:37<00:56,  4.02it/s]"
     ]
    },
    {
     "name": "stdout",
     "output_type": "stream",
     "text": [
      "nan\n",
      "nan\n",
      "nan\n",
      "nan\n",
      "nan\n"
     ]
    },
    {
     "name": "stderr",
     "output_type": "stream",
     "text": [
      "\r",
      " 67%|█████████████████████████████████████████████████████▊                          | 461/686 [01:38<01:08,  3.29it/s]"
     ]
    },
    {
     "name": "stdout",
     "output_type": "stream",
     "text": [
      "nan\n",
      "nan\n",
      "nan\n",
      "nan\n",
      "nan\n"
     ]
    },
    {
     "name": "stderr",
     "output_type": "stream",
     "text": [
      "\r",
      " 67%|█████████████████████████████████████████████████████▉                          | 462/686 [01:38<01:25,  2.60it/s]"
     ]
    },
    {
     "name": "stdout",
     "output_type": "stream",
     "text": [
      "nan\n",
      "nan\n",
      "nan\n",
      "nan\n",
      "nan\n"
     ]
    },
    {
     "name": "stderr",
     "output_type": "stream",
     "text": [
      "\r",
      " 67%|█████████████████████████████████████████████████████▉                          | 463/686 [01:39<01:28,  2.53it/s]"
     ]
    },
    {
     "name": "stdout",
     "output_type": "stream",
     "text": [
      "nan\n",
      "nan\n",
      "nan\n",
      "nan\n",
      "nan\n"
     ]
    },
    {
     "name": "stderr",
     "output_type": "stream",
     "text": [
      "\r",
      " 68%|██████████████████████████████████████████████████████                          | 464/686 [01:39<01:28,  2.50it/s]"
     ]
    },
    {
     "name": "stdout",
     "output_type": "stream",
     "text": [
      "nan\n",
      "nan\n",
      "nan\n",
      "nan\n",
      "nan\n"
     ]
    },
    {
     "name": "stderr",
     "output_type": "stream",
     "text": [
      "\r",
      " 68%|██████████████████████████████████████████████████████▏                         | 465/686 [01:39<01:22,  2.67it/s]"
     ]
    },
    {
     "name": "stdout",
     "output_type": "stream",
     "text": [
      "nan\n",
      "nan\n",
      "nan\n",
      "nan\n",
      "nan\n"
     ]
    },
    {
     "name": "stderr",
     "output_type": "stream",
     "text": [
      "\r",
      " 68%|██████████████████████████████████████████████████████▎                         | 466/686 [01:40<01:16,  2.87it/s]"
     ]
    },
    {
     "name": "stdout",
     "output_type": "stream",
     "text": [
      "nan\n",
      "nan\n",
      "nan\n",
      "nan\n",
      "nan\n"
     ]
    },
    {
     "name": "stderr",
     "output_type": "stream",
     "text": [
      "\r",
      " 68%|██████████████████████████████████████████████████████▍                         | 467/686 [01:40<01:13,  2.99it/s]"
     ]
    },
    {
     "name": "stdout",
     "output_type": "stream",
     "text": [
      "nan\n",
      "4.0\n",
      "nan\n",
      "nan\n",
      "4.0\n"
     ]
    },
    {
     "name": "stderr",
     "output_type": "stream",
     "text": [
      "\r",
      " 68%|██████████████████████████████████████████████████████▌                         | 468/686 [01:40<01:07,  3.25it/s]"
     ]
    },
    {
     "name": "stdout",
     "output_type": "stream",
     "text": [
      "nan\n",
      "nan\n",
      "nan\n",
      "nan\n",
      "nan\n"
     ]
    },
    {
     "name": "stderr",
     "output_type": "stream",
     "text": [
      "\r",
      " 68%|██████████████████████████████████████████████████████▋                         | 469/686 [01:40<01:02,  3.46it/s]"
     ]
    },
    {
     "name": "stdout",
     "output_type": "stream",
     "text": [
      "nan\n",
      "nan\n",
      "nan\n",
      "nan\n",
      "nan\n"
     ]
    },
    {
     "name": "stderr",
     "output_type": "stream",
     "text": [
      "\r",
      " 69%|██████████████████████████████████████████████████████▊                         | 470/686 [01:41<00:58,  3.71it/s]"
     ]
    },
    {
     "name": "stdout",
     "output_type": "stream",
     "text": [
      "nan\n",
      "nan\n",
      "nan\n",
      "nan\n",
      "nan\n"
     ]
    },
    {
     "name": "stderr",
     "output_type": "stream",
     "text": [
      "\r",
      " 69%|██████████████████████████████████████████████████████▉                         | 471/686 [01:41<00:55,  3.88it/s]"
     ]
    },
    {
     "name": "stdout",
     "output_type": "stream",
     "text": [
      "nan\n",
      "nan\n",
      "nan\n",
      "nan\n",
      "nan\n"
     ]
    },
    {
     "name": "stderr",
     "output_type": "stream",
     "text": [
      "\r",
      " 69%|███████████████████████████████████████████████████████                         | 472/686 [01:41<00:54,  3.92it/s]"
     ]
    },
    {
     "name": "stdout",
     "output_type": "stream",
     "text": [
      "nan\n",
      "nan\n",
      "nan\n",
      "nan\n",
      "nan\n"
     ]
    },
    {
     "name": "stderr",
     "output_type": "stream",
     "text": [
      "\r",
      " 69%|███████████████████████████████████████████████████████▏                        | 473/686 [01:41<00:57,  3.68it/s]"
     ]
    },
    {
     "name": "stdout",
     "output_type": "stream",
     "text": [
      "nan\n",
      "nan\n",
      "nan\n",
      "nan\n",
      "nan\n"
     ]
    },
    {
     "name": "stderr",
     "output_type": "stream",
     "text": [
      "\r",
      " 69%|███████████████████████████████████████████████████████▎                        | 474/686 [01:42<01:05,  3.25it/s]"
     ]
    },
    {
     "name": "stdout",
     "output_type": "stream",
     "text": [
      "nan\n",
      "nan\n",
      "nan\n",
      "nan\n",
      "nan\n"
     ]
    },
    {
     "name": "stderr",
     "output_type": "stream",
     "text": [
      "\r",
      " 69%|███████████████████████████████████████████████████████▍                        | 475/686 [01:42<01:00,  3.47it/s]"
     ]
    },
    {
     "name": "stdout",
     "output_type": "stream",
     "text": [
      "nan\n",
      "nan\n",
      "nan\n",
      "nan\n",
      "nan\n"
     ]
    },
    {
     "name": "stderr",
     "output_type": "stream",
     "text": [
      "\r",
      " 69%|███████████████████████████████████████████████████████▌                        | 476/686 [01:42<00:58,  3.62it/s]"
     ]
    },
    {
     "name": "stdout",
     "output_type": "stream",
     "text": [
      "nan\n",
      "nan\n",
      "nan\n",
      "nan\n",
      "nan\n"
     ]
    },
    {
     "name": "stderr",
     "output_type": "stream",
     "text": [
      "\r",
      " 70%|███████████████████████████████████████████████████████▋                        | 477/686 [01:43<00:58,  3.54it/s]"
     ]
    },
    {
     "name": "stdout",
     "output_type": "stream",
     "text": [
      "nan\n",
      "nan\n",
      "nan\n",
      "nan\n",
      "nan\n",
      "nan\n",
      "3.0\n",
      "nan\n",
      "nan\n",
      "nan\n"
     ]
    },
    {
     "name": "stderr",
     "output_type": "stream",
     "text": [
      " 70%|███████████████████████████████████████████████████████▊                        | 479/686 [01:43<00:54,  3.81it/s]"
     ]
    },
    {
     "name": "stdout",
     "output_type": "stream",
     "text": [
      "nan\n",
      "nan\n",
      "nan\n",
      "nan\n",
      "nan\n"
     ]
    },
    {
     "name": "stderr",
     "output_type": "stream",
     "text": [
      "\r",
      " 70%|███████████████████████████████████████████████████████▉                        | 480/686 [01:43<00:54,  3.79it/s]"
     ]
    },
    {
     "name": "stdout",
     "output_type": "stream",
     "text": [
      "nan\n",
      "nan\n",
      "nan\n",
      "nan\n",
      "4.0\n"
     ]
    },
    {
     "name": "stderr",
     "output_type": "stream",
     "text": [
      "\r",
      " 70%|████████████████████████████████████████████████████████                        | 481/686 [01:44<00:53,  3.80it/s]"
     ]
    },
    {
     "name": "stdout",
     "output_type": "stream",
     "text": [
      "nan\n",
      "nan\n",
      "nan\n",
      "nan\n",
      "nan\n"
     ]
    },
    {
     "name": "stderr",
     "output_type": "stream",
     "text": [
      "\r",
      " 70%|████████████████████████████████████████████████████████▏                       | 482/686 [01:44<00:52,  3.89it/s]"
     ]
    },
    {
     "name": "stdout",
     "output_type": "stream",
     "text": [
      "nan\n",
      "nan\n",
      "nan\n",
      "nan\n",
      "3.0\n"
     ]
    },
    {
     "name": "stderr",
     "output_type": "stream",
     "text": [
      "\r",
      " 70%|████████████████████████████████████████████████████████▎                       | 483/686 [01:44<00:49,  4.07it/s]"
     ]
    },
    {
     "name": "stdout",
     "output_type": "stream",
     "text": [
      "nan\n",
      "nan\n",
      "nan\n",
      "nan\n",
      "nan\n"
     ]
    },
    {
     "name": "stderr",
     "output_type": "stream",
     "text": [
      "\r",
      " 71%|████████████████████████████████████████████████████████▍                       | 484/686 [01:44<00:47,  4.25it/s]"
     ]
    },
    {
     "name": "stdout",
     "output_type": "stream",
     "text": [
      "nan\n",
      "nan\n",
      "nan\n",
      "nan\n",
      "nan\n"
     ]
    },
    {
     "name": "stderr",
     "output_type": "stream",
     "text": [
      "\r",
      " 71%|████████████████████████████████████████████████████████▌                       | 485/686 [01:45<00:46,  4.31it/s]"
     ]
    },
    {
     "name": "stdout",
     "output_type": "stream",
     "text": [
      "nan\n",
      "nan\n",
      "nan\n",
      "nan\n",
      "nan\n"
     ]
    },
    {
     "name": "stderr",
     "output_type": "stream",
     "text": [
      "\r",
      " 71%|████████████████████████████████████████████████████████▋                       | 486/686 [01:45<00:46,  4.31it/s]"
     ]
    },
    {
     "name": "stdout",
     "output_type": "stream",
     "text": [
      "nan\n",
      "nan\n",
      "nan\n",
      "nan\n",
      "nan\n",
      "nan\n",
      "nan\n"
     ]
    },
    {
     "name": "stderr",
     "output_type": "stream",
     "text": [
      "\r",
      " 71%|████████████████████████████████████████████████████████▊                       | 487/686 [01:45<00:44,  4.43it/s]"
     ]
    },
    {
     "name": "stdout",
     "output_type": "stream",
     "text": [
      "nan\n",
      "nan\n",
      "nan\n"
     ]
    },
    {
     "name": "stderr",
     "output_type": "stream",
     "text": [
      "\r",
      " 71%|████████████████████████████████████████████████████████▉                       | 488/686 [01:45<00:44,  4.43it/s]"
     ]
    },
    {
     "name": "stdout",
     "output_type": "stream",
     "text": [
      "nan\n",
      "nan\n",
      "nan\n",
      "nan\n",
      "nan\n",
      "nan\n",
      "nan\n",
      "nan\n",
      "nan\n"
     ]
    },
    {
     "name": "stderr",
     "output_type": "stream",
     "text": [
      "\r",
      " 71%|█████████████████████████████████████████████████████████                       | 489/686 [01:45<00:43,  4.50it/s]"
     ]
    },
    {
     "name": "stdout",
     "output_type": "stream",
     "text": [
      "nan\n"
     ]
    },
    {
     "name": "stderr",
     "output_type": "stream",
     "text": [
      "\r",
      " 71%|█████████████████████████████████████████████████████████▏                      | 490/686 [01:46<00:47,  4.10it/s]"
     ]
    },
    {
     "name": "stdout",
     "output_type": "stream",
     "text": [
      "nan\n",
      "nan\n",
      "nan\n",
      "nan\n",
      "nan\n"
     ]
    },
    {
     "name": "stderr",
     "output_type": "stream",
     "text": [
      "\r",
      " 72%|█████████████████████████████████████████████████████████▎                      | 491/686 [01:46<00:48,  3.99it/s]"
     ]
    },
    {
     "name": "stdout",
     "output_type": "stream",
     "text": [
      "nan\n",
      "nan\n",
      "nan\n",
      "nan\n",
      "nan\n"
     ]
    },
    {
     "name": "stderr",
     "output_type": "stream",
     "text": [
      "\r",
      " 72%|█████████████████████████████████████████████████████████▍                      | 492/686 [01:46<00:51,  3.79it/s]"
     ]
    },
    {
     "name": "stdout",
     "output_type": "stream",
     "text": [
      "nan\n",
      "nan\n",
      "nan\n",
      "nan\n",
      "nan\n"
     ]
    },
    {
     "name": "stderr",
     "output_type": "stream",
     "text": [
      "\r",
      " 72%|█████████████████████████████████████████████████████████▍                      | 493/686 [01:47<00:50,  3.85it/s]"
     ]
    },
    {
     "name": "stdout",
     "output_type": "stream",
     "text": [
      "2.0\n",
      "nan\n",
      "nan\n",
      "nan\n",
      "nan\n"
     ]
    },
    {
     "name": "stderr",
     "output_type": "stream",
     "text": [
      "\r",
      " 72%|█████████████████████████████████████████████████████████▌                      | 494/686 [01:47<00:48,  3.93it/s]"
     ]
    },
    {
     "name": "stdout",
     "output_type": "stream",
     "text": [
      "nan\n",
      "nan\n",
      "nan\n",
      "nan\n",
      "nan\n",
      "nan\n",
      "nan\n"
     ]
    },
    {
     "name": "stderr",
     "output_type": "stream",
     "text": [
      "\r",
      " 72%|█████████████████████████████████████████████████████████▋                      | 495/686 [01:47<00:46,  4.13it/s]"
     ]
    },
    {
     "name": "stdout",
     "output_type": "stream",
     "text": [
      "nan\n",
      "nan\n",
      "nan\n"
     ]
    },
    {
     "name": "stderr",
     "output_type": "stream",
     "text": [
      " 72%|█████████████████████████████████████████████████████████▉                      | 497/686 [01:47<00:43,  4.37it/s]"
     ]
    },
    {
     "name": "stdout",
     "output_type": "stream",
     "text": [
      "nan\n",
      "nan\n",
      "nan\n",
      "nan\n",
      "nan\n",
      "nan\n",
      "nan\n",
      "nan\n",
      "nan\n",
      "nan\n"
     ]
    },
    {
     "name": "stderr",
     "output_type": "stream",
     "text": [
      "\r",
      " 73%|██████████████████████████████████████████████████████████                      | 498/686 [01:48<00:44,  4.22it/s]"
     ]
    },
    {
     "name": "stdout",
     "output_type": "stream",
     "text": [
      "nan\n",
      "nan\n",
      "nan\n",
      "nan\n",
      "nan\n"
     ]
    },
    {
     "name": "stderr",
     "output_type": "stream",
     "text": [
      "\r",
      " 73%|██████████████████████████████████████████████████████████▏                     | 499/686 [01:48<00:43,  4.29it/s]"
     ]
    },
    {
     "name": "stdout",
     "output_type": "stream",
     "text": [
      "nan\n",
      "nan\n",
      "nan\n",
      "nan\n",
      "nan\n"
     ]
    },
    {
     "name": "stderr",
     "output_type": "stream",
     "text": [
      "\r",
      " 73%|██████████████████████████████████████████████████████████▎                     | 500/686 [01:48<00:43,  4.27it/s]"
     ]
    },
    {
     "name": "stdout",
     "output_type": "stream",
     "text": [
      "nan\n",
      "nan\n",
      "nan\n",
      "nan\n",
      "nan\n"
     ]
    },
    {
     "name": "stderr",
     "output_type": "stream",
     "text": [
      "\r",
      " 73%|██████████████████████████████████████████████████████████▍                     | 501/686 [01:48<00:42,  4.34it/s]"
     ]
    },
    {
     "name": "stdout",
     "output_type": "stream",
     "text": [
      "nan\n",
      "nan\n",
      "nan\n",
      "nan\n",
      "nan\n"
     ]
    },
    {
     "name": "stderr",
     "output_type": "stream",
     "text": [
      "\r",
      " 73%|██████████████████████████████████████████████████████████▌                     | 502/686 [01:49<00:43,  4.24it/s]"
     ]
    },
    {
     "name": "stdout",
     "output_type": "stream",
     "text": [
      "nan\n",
      "nan\n",
      "nan\n",
      "nan\n",
      "nan\n"
     ]
    },
    {
     "name": "stderr",
     "output_type": "stream",
     "text": [
      "\r",
      " 73%|██████████████████████████████████████████████████████████▋                     | 503/686 [01:49<00:42,  4.34it/s]"
     ]
    },
    {
     "name": "stdout",
     "output_type": "stream",
     "text": [
      "nan\n",
      "nan\n",
      "nan\n",
      "nan\n",
      "nan\n"
     ]
    },
    {
     "name": "stderr",
     "output_type": "stream",
     "text": [
      "\r",
      " 73%|██████████████████████████████████████████████████████████▊                     | 504/686 [01:49<00:44,  4.12it/s]"
     ]
    },
    {
     "name": "stdout",
     "output_type": "stream",
     "text": [
      "nan\n",
      "nan\n",
      "nan\n",
      "nan\n",
      "nan\n"
     ]
    },
    {
     "name": "stderr",
     "output_type": "stream",
     "text": [
      "\r",
      " 74%|██████████████████████████████████████████████████████████▉                     | 505/686 [01:49<00:43,  4.20it/s]"
     ]
    },
    {
     "name": "stdout",
     "output_type": "stream",
     "text": [
      "nan\n",
      "nan\n",
      "nan\n",
      "nan\n",
      "nan\n"
     ]
    },
    {
     "name": "stderr",
     "output_type": "stream",
     "text": [
      "\r",
      " 74%|███████████████████████████████████████████████████████████                     | 506/686 [01:50<00:44,  4.03it/s]"
     ]
    },
    {
     "name": "stdout",
     "output_type": "stream",
     "text": [
      "nan\n",
      "nan\n",
      "nan\n",
      "nan\n",
      "nan\n"
     ]
    },
    {
     "name": "stderr",
     "output_type": "stream",
     "text": [
      "\r",
      " 74%|███████████████████████████████████████████████████████████▏                    | 507/686 [01:50<00:43,  4.13it/s]"
     ]
    },
    {
     "name": "stdout",
     "output_type": "stream",
     "text": [
      "nan\n",
      "nan\n",
      "nan\n",
      "nan\n",
      "nan\n",
      "nan\n",
      "nan\n",
      "nan\n",
      "nan\n",
      "4.0\n"
     ]
    },
    {
     "name": "stderr",
     "output_type": "stream",
     "text": [
      " 74%|███████████████████████████████████████████████████████████▎                    | 509/686 [01:50<00:39,  4.45it/s]"
     ]
    },
    {
     "name": "stdout",
     "output_type": "stream",
     "text": [
      "nan\n",
      "nan\n",
      "nan\n",
      "nan\n",
      "nan\n"
     ]
    },
    {
     "name": "stderr",
     "output_type": "stream",
     "text": [
      "\r",
      " 74%|███████████████████████████████████████████████████████████▍                    | 510/686 [01:50<00:39,  4.47it/s]"
     ]
    },
    {
     "name": "stdout",
     "output_type": "stream",
     "text": [
      "nan\n",
      "nan\n",
      "nan\n",
      "nan\n",
      "nan\n",
      "nan\n",
      "nan\n",
      "nan\n",
      "nan\n",
      "nan\n"
     ]
    },
    {
     "name": "stderr",
     "output_type": "stream",
     "text": [
      "\r",
      " 74%|███████████████████████████████████████████████████████████▌                    | 511/686 [01:51<00:38,  4.59it/s]"
     ]
    },
    {
     "name": "stdout",
     "output_type": "stream",
     "text": [
      "nan\n",
      "nan\n",
      "nan\n",
      "nan\n",
      "nan\n"
     ]
    },
    {
     "name": "stderr",
     "output_type": "stream",
     "text": [
      " 75%|███████████████████████████████████████████████████████████▊                    | 513/686 [01:51<00:34,  4.95it/s]"
     ]
    },
    {
     "name": "stdout",
     "output_type": "stream",
     "text": [
      "nan\n",
      "nan\n",
      "nan\n",
      "nan\n",
      "nan\n"
     ]
    },
    {
     "name": "stderr",
     "output_type": "stream",
     "text": [
      "\r",
      " 75%|███████████████████████████████████████████████████████████▉                    | 514/686 [01:51<00:36,  4.74it/s]"
     ]
    },
    {
     "name": "stdout",
     "output_type": "stream",
     "text": [
      "nan\n",
      "nan\n",
      "nan\n",
      "nan\n",
      "nan\n"
     ]
    },
    {
     "name": "stderr",
     "output_type": "stream",
     "text": [
      "\r",
      " 75%|████████████████████████████████████████████████████████████                    | 515/686 [01:52<00:36,  4.68it/s]"
     ]
    },
    {
     "name": "stdout",
     "output_type": "stream",
     "text": [
      "nan\n",
      "nan\n",
      "nan\n",
      "nan\n",
      "nan\n"
     ]
    },
    {
     "name": "stderr",
     "output_type": "stream",
     "text": [
      "\r",
      " 75%|████████████████████████████████████████████████████████████▏                   | 516/686 [01:52<00:36,  4.64it/s]"
     ]
    },
    {
     "name": "stdout",
     "output_type": "stream",
     "text": [
      "nan\n",
      "nan\n",
      "nan\n",
      "nan\n",
      "nan\n"
     ]
    },
    {
     "name": "stderr",
     "output_type": "stream",
     "text": [
      "\r",
      " 75%|████████████████████████████████████████████████████████████▎                   | 517/686 [01:52<00:38,  4.39it/s]"
     ]
    },
    {
     "name": "stdout",
     "output_type": "stream",
     "text": [
      "nan\n",
      "nan\n",
      "nan\n",
      "nan\n",
      "nan\n",
      "nan\n"
     ]
    },
    {
     "name": "stderr",
     "output_type": "stream",
     "text": [
      "\r",
      " 76%|████████████████████████████████████████████████████████████▍                   | 518/686 [01:52<00:37,  4.46it/s]"
     ]
    },
    {
     "name": "stdout",
     "output_type": "stream",
     "text": [
      "5.0\n",
      "nan\n",
      "nan\n",
      "nan\n"
     ]
    },
    {
     "name": "stderr",
     "output_type": "stream",
     "text": [
      "\r",
      " 76%|████████████████████████████████████████████████████████████▌                   | 519/686 [01:52<00:38,  4.37it/s]"
     ]
    },
    {
     "name": "stdout",
     "output_type": "stream",
     "text": [
      "nan\n",
      "nan\n",
      "nan\n",
      "nan\n",
      "nan\n"
     ]
    },
    {
     "name": "stderr",
     "output_type": "stream",
     "text": [
      "\r",
      " 76%|████████████████████████████████████████████████████████████▋                   | 520/686 [01:53<00:38,  4.35it/s]"
     ]
    },
    {
     "name": "stdout",
     "output_type": "stream",
     "text": [
      "nan\n",
      "nan\n",
      "nan\n",
      "nan\n",
      "nan\n",
      "nan\n",
      "nan\n",
      "nan\n",
      "nan\n",
      "nan\n"
     ]
    },
    {
     "name": "stderr",
     "output_type": "stream",
     "text": [
      " 76%|████████████████████████████████████████████████████████████▊                   | 522/686 [01:53<00:36,  4.52it/s]"
     ]
    },
    {
     "name": "stdout",
     "output_type": "stream",
     "text": [
      "nan\n",
      "nan\n",
      "nan\n",
      "nan\n",
      "nan\n"
     ]
    },
    {
     "name": "stderr",
     "output_type": "stream",
     "text": [
      "\r",
      " 76%|████████████████████████████████████████████████████████████▉                   | 523/686 [01:53<00:35,  4.64it/s]"
     ]
    },
    {
     "name": "stdout",
     "output_type": "stream",
     "text": [
      "nan\n",
      "nan\n",
      "nan\n",
      "nan\n",
      "nan\n"
     ]
    },
    {
     "name": "stderr",
     "output_type": "stream",
     "text": [
      "\r",
      " 76%|█████████████████████████████████████████████████████████████                   | 524/686 [01:54<00:36,  4.42it/s]"
     ]
    },
    {
     "name": "stdout",
     "output_type": "stream",
     "text": [
      "nan\n",
      "nan\n",
      "nan\n",
      "nan\n",
      "nan\n"
     ]
    },
    {
     "name": "stderr",
     "output_type": "stream",
     "text": [
      "\r",
      " 77%|█████████████████████████████████████████████████████████████▏                  | 525/686 [01:54<00:36,  4.42it/s]"
     ]
    },
    {
     "name": "stdout",
     "output_type": "stream",
     "text": [
      "nan\n",
      "nan\n",
      "nan\n",
      "nan\n",
      "nan\n",
      "nan\n",
      "nan\n",
      "nan\n",
      "nan\n",
      "nan\n"
     ]
    },
    {
     "name": "stderr",
     "output_type": "stream",
     "text": [
      " 77%|█████████████████████████████████████████████████████████████▍                  | 527/686 [01:54<00:36,  4.39it/s]"
     ]
    },
    {
     "name": "stdout",
     "output_type": "stream",
     "text": [
      "nan\n",
      "nan\n",
      "nan\n",
      "nan\n",
      "nan\n",
      "nan\n",
      "nan\n",
      "nan\n",
      "nan\n",
      "nan\n"
     ]
    },
    {
     "name": "stderr",
     "output_type": "stream",
     "text": [
      " 77%|█████████████████████████████████████████████████████████████▋                  | 529/686 [01:55<00:35,  4.37it/s]"
     ]
    },
    {
     "name": "stdout",
     "output_type": "stream",
     "text": [
      "nan\n",
      "nan\n",
      "nan\n",
      "nan\n",
      "nan\n"
     ]
    },
    {
     "name": "stderr",
     "output_type": "stream",
     "text": [
      "\r",
      " 77%|█████████████████████████████████████████████████████████████▊                  | 530/686 [01:55<00:35,  4.39it/s]"
     ]
    },
    {
     "name": "stdout",
     "output_type": "stream",
     "text": [
      "nan\n",
      "nan\n",
      "nan\n",
      "nan\n",
      "nan\n"
     ]
    },
    {
     "name": "stderr",
     "output_type": "stream",
     "text": [
      "\r",
      " 77%|█████████████████████████████████████████████████████████████▉                  | 531/686 [01:55<00:34,  4.52it/s]"
     ]
    },
    {
     "name": "stdout",
     "output_type": "stream",
     "text": [
      "nan\n",
      "nan\n",
      "nan\n",
      "nan\n",
      "nan\n",
      "nan\n",
      "nan\n",
      "nan\n",
      "nan\n",
      "nan\n"
     ]
    },
    {
     "name": "stderr",
     "output_type": "stream",
     "text": [
      " 78%|██████████████████████████████████████████████████████████████▏                 | 533/686 [01:56<00:33,  4.53it/s]"
     ]
    },
    {
     "name": "stdout",
     "output_type": "stream",
     "text": [
      "nan\n",
      "nan\n",
      "nan\n",
      "nan\n",
      "nan\n"
     ]
    },
    {
     "name": "stderr",
     "output_type": "stream",
     "text": [
      "\r",
      " 78%|██████████████████████████████████████████████████████████████▎                 | 534/686 [01:56<00:35,  4.31it/s]"
     ]
    },
    {
     "name": "stdout",
     "output_type": "stream",
     "text": [
      "nan\n",
      "nan\n",
      "nan\n",
      "nan\n",
      "nan\n"
     ]
    },
    {
     "name": "stderr",
     "output_type": "stream",
     "text": [
      "\r",
      " 78%|██████████████████████████████████████████████████████████████▍                 | 535/686 [01:56<00:35,  4.28it/s]"
     ]
    },
    {
     "name": "stdout",
     "output_type": "stream",
     "text": [
      "nan\n",
      "nan\n",
      "nan\n",
      "nan\n",
      "nan\n",
      "nan\n",
      "nan\n",
      "nan\n",
      "nan\n",
      "nan\n"
     ]
    },
    {
     "name": "stderr",
     "output_type": "stream",
     "text": [
      "\r",
      " 78%|██████████████████████████████████████████████████████████████▌                 | 536/686 [01:56<00:34,  4.38it/s]"
     ]
    },
    {
     "name": "stdout",
     "output_type": "stream",
     "text": [
      "nan\n",
      "nan\n",
      "nan\n",
      "nan\n",
      "nan\n"
     ]
    },
    {
     "name": "stderr",
     "output_type": "stream",
     "text": [
      " 78%|██████████████████████████████████████████████████████████████▋                 | 538/686 [01:57<00:33,  4.45it/s]"
     ]
    },
    {
     "name": "stdout",
     "output_type": "stream",
     "text": [
      "nan\n",
      "nan\n",
      "nan\n",
      "nan\n",
      "nan\n"
     ]
    },
    {
     "name": "stderr",
     "output_type": "stream",
     "text": [
      "\r",
      " 79%|██████████████████████████████████████████████████████████████▊                 | 539/686 [01:57<00:34,  4.29it/s]"
     ]
    },
    {
     "name": "stdout",
     "output_type": "stream",
     "text": [
      "nan\n",
      "nan\n",
      "nan\n",
      "nan\n",
      "nan\n"
     ]
    },
    {
     "name": "stderr",
     "output_type": "stream",
     "text": [
      "\r",
      " 79%|██████████████████████████████████████████████████████████████▉                 | 540/686 [01:57<00:34,  4.20it/s]"
     ]
    },
    {
     "name": "stdout",
     "output_type": "stream",
     "text": [
      "nan\n",
      "3.0\n",
      "nan\n",
      "nan\n",
      "nan\n",
      "nan\n",
      "nan\n",
      "nan\n",
      "nan\n",
      "nan\n"
     ]
    },
    {
     "name": "stderr",
     "output_type": "stream",
     "text": [
      "\r",
      " 79%|███████████████████████████████████████████████████████████████                 | 541/686 [01:57<00:32,  4.42it/s]"
     ]
    },
    {
     "name": "stdout",
     "output_type": "stream",
     "text": [
      "nan\n",
      "nan\n",
      "nan\n",
      "nan\n"
     ]
    },
    {
     "name": "stderr",
     "output_type": "stream",
     "text": [
      "\r",
      " 79%|███████████████████████████████████████████████████████████████▏                | 542/686 [01:58<00:32,  4.48it/s]"
     ]
    },
    {
     "name": "stdout",
     "output_type": "stream",
     "text": [
      "nan\n"
     ]
    },
    {
     "name": "stderr",
     "output_type": "stream",
     "text": [
      "\r",
      " 79%|███████████████████████████████████████████████████████████████▎                | 543/686 [01:58<00:32,  4.41it/s]"
     ]
    },
    {
     "name": "stdout",
     "output_type": "stream",
     "text": [
      "nan\n",
      "nan\n",
      "nan\n",
      "nan\n",
      "nan\n",
      "nan\n",
      "nan\n",
      "nan\n",
      "nan\n",
      "nan\n"
     ]
    },
    {
     "name": "stderr",
     "output_type": "stream",
     "text": [
      " 79%|███████████████████████████████████████████████████████████████▌                | 545/686 [01:58<00:30,  4.57it/s]"
     ]
    },
    {
     "name": "stdout",
     "output_type": "stream",
     "text": [
      "nan\n",
      "5.0\n",
      "nan\n",
      "nan\n",
      "nan\n"
     ]
    },
    {
     "name": "stderr",
     "output_type": "stream",
     "text": [
      "\r",
      " 80%|███████████████████████████████████████████████████████████████▋                | 546/686 [01:59<00:30,  4.59it/s]"
     ]
    },
    {
     "name": "stdout",
     "output_type": "stream",
     "text": [
      "nan\n",
      "nan\n",
      "nan\n",
      "nan\n",
      "nan\n",
      "nan\n",
      "nan\n",
      "nan\n",
      "nan\n",
      "nan\n"
     ]
    },
    {
     "name": "stderr",
     "output_type": "stream",
     "text": [
      " 80%|███████████████████████████████████████████████████████████████▉                | 548/686 [01:59<00:28,  4.77it/s]"
     ]
    },
    {
     "name": "stdout",
     "output_type": "stream",
     "text": [
      "nan\n",
      "nan\n",
      "nan\n",
      "nan\n",
      "nan\n"
     ]
    },
    {
     "name": "stderr",
     "output_type": "stream",
     "text": [
      "\r",
      " 80%|████████████████████████████████████████████████████████████████                | 549/686 [01:59<00:29,  4.71it/s]"
     ]
    },
    {
     "name": "stdout",
     "output_type": "stream",
     "text": [
      "4.0\n",
      "nan\n",
      "nan\n",
      "nan\n",
      "nan\n"
     ]
    },
    {
     "name": "stderr",
     "output_type": "stream",
     "text": [
      "\r",
      " 80%|████████████████████████████████████████████████████████████████▏               | 550/686 [01:59<00:30,  4.46it/s]"
     ]
    },
    {
     "name": "stdout",
     "output_type": "stream",
     "text": [
      "nan\n",
      "nan\n",
      "nan\n",
      "nan\n",
      "nan\n",
      "nan\n"
     ]
    },
    {
     "name": "stderr",
     "output_type": "stream",
     "text": [
      "\r",
      " 80%|████████████████████████████████████████████████████████████████▎               | 551/686 [02:00<00:29,  4.58it/s]"
     ]
    },
    {
     "name": "stdout",
     "output_type": "stream",
     "text": [
      "nan\n",
      "nan\n",
      "nan\n",
      "nan\n"
     ]
    },
    {
     "name": "stderr",
     "output_type": "stream",
     "text": [
      "\r",
      " 80%|████████████████████████████████████████████████████████████████▎               | 552/686 [02:00<00:28,  4.65it/s]"
     ]
    },
    {
     "name": "stdout",
     "output_type": "stream",
     "text": [
      "nan\n",
      "nan\n",
      "nan\n",
      "nan\n",
      "nan\n"
     ]
    },
    {
     "name": "stderr",
     "output_type": "stream",
     "text": [
      "\r",
      " 81%|████████████████████████████████████████████████████████████████▍               | 553/686 [02:00<00:31,  4.28it/s]"
     ]
    },
    {
     "name": "stdout",
     "output_type": "stream",
     "text": [
      "nan\n",
      "nan\n",
      "nan\n",
      "nan\n",
      "nan\n"
     ]
    },
    {
     "name": "stderr",
     "output_type": "stream",
     "text": [
      "\r",
      " 81%|████████████████████████████████████████████████████████████████▌               | 554/686 [02:00<00:32,  4.06it/s]"
     ]
    },
    {
     "name": "stdout",
     "output_type": "stream",
     "text": [
      "nan\n",
      "nan\n",
      "nan\n",
      "nan\n",
      "nan\n"
     ]
    },
    {
     "name": "stderr",
     "output_type": "stream",
     "text": [
      "\r",
      " 81%|████████████████████████████████████████████████████████████████▋               | 555/686 [02:01<00:38,  3.38it/s]"
     ]
    },
    {
     "name": "stdout",
     "output_type": "stream",
     "text": [
      "nan\n",
      "nan\n",
      "nan\n",
      "nan\n",
      "nan\n"
     ]
    },
    {
     "name": "stderr",
     "output_type": "stream",
     "text": [
      "\r",
      " 81%|████████████████████████████████████████████████████████████████▊               | 556/686 [02:01<00:36,  3.58it/s]"
     ]
    },
    {
     "name": "stdout",
     "output_type": "stream",
     "text": [
      "nan\n",
      "nan\n",
      "nan\n",
      "nan\n",
      "nan\n"
     ]
    },
    {
     "name": "stderr",
     "output_type": "stream",
     "text": [
      "\r",
      " 81%|████████████████████████████████████████████████████████████████▉               | 557/686 [02:01<00:40,  3.15it/s]"
     ]
    },
    {
     "name": "stdout",
     "output_type": "stream",
     "text": [
      "nan\n",
      "nan\n",
      "nan\n",
      "nan\n",
      "nan\n"
     ]
    },
    {
     "name": "stderr",
     "output_type": "stream",
     "text": [
      "\r",
      " 81%|█████████████████████████████████████████████████████████████████               | 558/686 [02:02<00:39,  3.28it/s]"
     ]
    },
    {
     "name": "stdout",
     "output_type": "stream",
     "text": [
      "nan\n",
      "nan\n",
      "nan\n",
      "nan\n",
      "nan\n"
     ]
    },
    {
     "name": "stderr",
     "output_type": "stream",
     "text": [
      "\r",
      " 81%|█████████████████████████████████████████████████████████████████▏              | 559/686 [02:02<00:36,  3.44it/s]"
     ]
    },
    {
     "name": "stdout",
     "output_type": "stream",
     "text": [
      "nan\n",
      "nan\n",
      "nan\n",
      "nan\n",
      "nan\n"
     ]
    },
    {
     "name": "stderr",
     "output_type": "stream",
     "text": [
      "\r",
      " 82%|█████████████████████████████████████████████████████████████████▎              | 560/686 [02:02<00:35,  3.59it/s]"
     ]
    },
    {
     "name": "stdout",
     "output_type": "stream",
     "text": [
      "nan\n",
      "nan\n",
      "nan\n",
      "nan\n",
      "nan\n"
     ]
    },
    {
     "name": "stderr",
     "output_type": "stream",
     "text": [
      "\r",
      " 82%|█████████████████████████████████████████████████████████████████▍              | 561/686 [02:02<00:33,  3.71it/s]"
     ]
    },
    {
     "name": "stdout",
     "output_type": "stream",
     "text": [
      "nan\n",
      "nan\n",
      "nan\n",
      "nan\n",
      "nan\n",
      "nan\n",
      "nan\n",
      "nan\n",
      "nan\n"
     ]
    },
    {
     "name": "stderr",
     "output_type": "stream",
     "text": [
      "\r",
      " 82%|█████████████████████████████████████████████████████████████████▌              | 562/686 [02:03<00:30,  4.01it/s]"
     ]
    },
    {
     "name": "stdout",
     "output_type": "stream",
     "text": [
      "nan\n"
     ]
    },
    {
     "name": "stderr",
     "output_type": "stream",
     "text": [
      "\r",
      " 82%|█████████████████████████████████████████████████████████████████▋              | 563/686 [02:03<00:31,  3.85it/s]"
     ]
    },
    {
     "name": "stdout",
     "output_type": "stream",
     "text": [
      "nan\n",
      "nan\n",
      "nan\n",
      "nan\n",
      "nan\n"
     ]
    },
    {
     "name": "stderr",
     "output_type": "stream",
     "text": [
      "\r",
      " 82%|█████████████████████████████████████████████████████████████████▊              | 564/686 [02:03<00:30,  4.02it/s]"
     ]
    },
    {
     "name": "stdout",
     "output_type": "stream",
     "text": [
      "nan\n",
      "nan\n",
      "nan\n",
      "nan\n",
      "nan\n"
     ]
    },
    {
     "name": "stderr",
     "output_type": "stream",
     "text": [
      "\r",
      " 82%|█████████████████████████████████████████████████████████████████▉              | 565/686 [02:03<00:28,  4.19it/s]"
     ]
    },
    {
     "name": "stdout",
     "output_type": "stream",
     "text": [
      "nan\n",
      "nan\n",
      "nan\n",
      "nan\n",
      "nan\n",
      "nan\n",
      "nan\n",
      "nan\n",
      "nan\n",
      "nan\n"
     ]
    },
    {
     "name": "stderr",
     "output_type": "stream",
     "text": [
      " 83%|██████████████████████████████████████████████████████████████████              | 567/686 [02:04<00:26,  4.54it/s]"
     ]
    },
    {
     "name": "stdout",
     "output_type": "stream",
     "text": [
      "nan\n",
      "nan\n",
      "nan\n",
      "nan\n",
      "nan\n"
     ]
    },
    {
     "name": "stderr",
     "output_type": "stream",
     "text": [
      "\r",
      " 83%|██████████████████████████████████████████████████████████████████▏             | 568/686 [02:04<00:27,  4.28it/s]"
     ]
    },
    {
     "name": "stdout",
     "output_type": "stream",
     "text": [
      "nan\n",
      "nan\n",
      "nan\n",
      "nan\n",
      "nan\n"
     ]
    },
    {
     "name": "stderr",
     "output_type": "stream",
     "text": [
      "\r",
      " 83%|██████████████████████████████████████████████████████████████████▎             | 569/686 [02:04<00:30,  3.81it/s]"
     ]
    },
    {
     "name": "stdout",
     "output_type": "stream",
     "text": [
      "nan\n",
      "nan\n",
      "nan\n",
      "nan\n",
      "nan\n"
     ]
    },
    {
     "name": "stderr",
     "output_type": "stream",
     "text": [
      "\r",
      " 83%|██████████████████████████████████████████████████████████████████▍             | 570/686 [02:05<00:30,  3.84it/s]"
     ]
    },
    {
     "name": "stdout",
     "output_type": "stream",
     "text": [
      "nan\n",
      "nan\n",
      "nan\n",
      "nan\n",
      "nan\n"
     ]
    },
    {
     "name": "stderr",
     "output_type": "stream",
     "text": [
      "\r",
      " 83%|██████████████████████████████████████████████████████████████████▌             | 571/686 [02:05<00:29,  3.96it/s]"
     ]
    },
    {
     "name": "stdout",
     "output_type": "stream",
     "text": [
      "nan\n",
      "nan\n",
      "nan\n",
      "nan\n",
      "nan\n"
     ]
    },
    {
     "name": "stderr",
     "output_type": "stream",
     "text": [
      "\r",
      " 83%|██████████████████████████████████████████████████████████████████▋             | 572/686 [02:05<00:31,  3.64it/s]"
     ]
    },
    {
     "name": "stdout",
     "output_type": "stream",
     "text": [
      "nan\n",
      "nan\n",
      "nan\n",
      "nan\n",
      "nan\n"
     ]
    },
    {
     "name": "stderr",
     "output_type": "stream",
     "text": [
      "\r",
      " 84%|██████████████████████████████████████████████████████████████████▊             | 573/686 [02:06<00:33,  3.34it/s]"
     ]
    },
    {
     "name": "stdout",
     "output_type": "stream",
     "text": [
      "nan\n",
      "nan\n",
      "nan\n",
      "nan\n",
      "nan\n"
     ]
    },
    {
     "name": "stderr",
     "output_type": "stream",
     "text": [
      "\r",
      " 84%|██████████████████████████████████████████████████████████████████▉             | 574/686 [02:06<00:32,  3.49it/s]"
     ]
    },
    {
     "name": "stdout",
     "output_type": "stream",
     "text": [
      "nan\n",
      "nan\n",
      "nan\n",
      "nan\n",
      "nan\n"
     ]
    },
    {
     "name": "stderr",
     "output_type": "stream",
     "text": [
      "\r",
      " 84%|███████████████████████████████████████████████████████████████████             | 575/686 [02:06<00:31,  3.55it/s]"
     ]
    },
    {
     "name": "stdout",
     "output_type": "stream",
     "text": [
      "nan\n",
      "nan\n",
      "5.0\n",
      "nan\n",
      "nan\n"
     ]
    },
    {
     "name": "stderr",
     "output_type": "stream",
     "text": [
      "\r",
      " 84%|███████████████████████████████████████████████████████████████████▏            | 576/686 [02:06<00:31,  3.52it/s]"
     ]
    },
    {
     "name": "stdout",
     "output_type": "stream",
     "text": [
      "nan\n",
      "nan\n",
      "nan\n",
      "nan\n",
      "nan\n"
     ]
    },
    {
     "name": "stderr",
     "output_type": "stream",
     "text": [
      "\r",
      " 84%|███████████████████████████████████████████████████████████████████▎            | 577/686 [02:07<00:30,  3.62it/s]"
     ]
    },
    {
     "name": "stdout",
     "output_type": "stream",
     "text": [
      "nan\n",
      "nan\n",
      "nan\n",
      "nan\n",
      "nan\n"
     ]
    },
    {
     "name": "stderr",
     "output_type": "stream",
     "text": [
      "\r",
      " 84%|███████████████████████████████████████████████████████████████████▍            | 578/686 [02:07<00:31,  3.44it/s]"
     ]
    },
    {
     "name": "stdout",
     "output_type": "stream",
     "text": [
      "nan\n",
      "nan\n",
      "nan\n",
      "nan\n",
      "nan\n"
     ]
    },
    {
     "name": "stderr",
     "output_type": "stream",
     "text": [
      "\r",
      " 84%|███████████████████████████████████████████████████████████████████▌            | 579/686 [02:07<00:31,  3.36it/s]"
     ]
    },
    {
     "name": "stdout",
     "output_type": "stream",
     "text": [
      "nan\n",
      "nan\n",
      "nan\n",
      "nan\n",
      "nan\n"
     ]
    },
    {
     "name": "stderr",
     "output_type": "stream",
     "text": [
      "\r",
      " 85%|███████████████████████████████████████████████████████████████████▋            | 580/686 [02:07<00:29,  3.58it/s]"
     ]
    },
    {
     "name": "stdout",
     "output_type": "stream",
     "text": [
      "nan\n",
      "nan\n",
      "nan\n",
      "nan\n",
      "nan\n"
     ]
    },
    {
     "name": "stderr",
     "output_type": "stream",
     "text": [
      "\r",
      " 85%|███████████████████████████████████████████████████████████████████▊            | 581/686 [02:08<00:28,  3.67it/s]"
     ]
    },
    {
     "name": "stdout",
     "output_type": "stream",
     "text": [
      "nan\n",
      "nan\n",
      "nan\n",
      "nan\n",
      "nan\n"
     ]
    },
    {
     "name": "stderr",
     "output_type": "stream",
     "text": [
      "\r",
      " 85%|███████████████████████████████████████████████████████████████████▊            | 582/686 [02:08<00:26,  3.87it/s]"
     ]
    },
    {
     "name": "stdout",
     "output_type": "stream",
     "text": [
      "nan\n",
      "nan\n",
      "nan\n",
      "nan\n",
      "nan\n"
     ]
    },
    {
     "name": "stderr",
     "output_type": "stream",
     "text": [
      "\r",
      " 85%|███████████████████████████████████████████████████████████████████▉            | 583/686 [02:08<00:26,  3.91it/s]"
     ]
    },
    {
     "name": "stdout",
     "output_type": "stream",
     "text": [
      "nan\n",
      "nan\n",
      "nan\n",
      "nan\n",
      "nan\n"
     ]
    },
    {
     "name": "stderr",
     "output_type": "stream",
     "text": [
      "\r",
      " 85%|████████████████████████████████████████████████████████████████████            | 584/686 [02:08<00:25,  4.04it/s]"
     ]
    },
    {
     "name": "stdout",
     "output_type": "stream",
     "text": [
      "nan\n",
      "nan\n",
      "nan\n",
      "nan\n",
      "nan\n"
     ]
    },
    {
     "name": "stderr",
     "output_type": "stream",
     "text": [
      "\r",
      " 85%|████████████████████████████████████████████████████████████████████▏           | 585/686 [02:09<00:24,  4.07it/s]"
     ]
    },
    {
     "name": "stdout",
     "output_type": "stream",
     "text": [
      "nan\n",
      "nan\n",
      "nan\n",
      "nan\n",
      "nan\n"
     ]
    },
    {
     "name": "stderr",
     "output_type": "stream",
     "text": [
      "\r",
      " 85%|████████████████████████████████████████████████████████████████████▎           | 586/686 [02:09<00:25,  3.87it/s]"
     ]
    },
    {
     "name": "stdout",
     "output_type": "stream",
     "text": [
      "nan\n",
      "nan\n",
      "nan\n",
      "nan\n",
      "nan\n"
     ]
    },
    {
     "name": "stderr",
     "output_type": "stream",
     "text": [
      "\r",
      " 86%|████████████████████████████████████████████████████████████████████▍           | 587/686 [02:09<00:26,  3.75it/s]"
     ]
    },
    {
     "name": "stdout",
     "output_type": "stream",
     "text": [
      "nan\n",
      "nan\n",
      "nan\n",
      "nan\n",
      "nan\n"
     ]
    },
    {
     "name": "stderr",
     "output_type": "stream",
     "text": [
      "\r",
      " 86%|████████████████████████████████████████████████████████████████████▌           | 588/686 [02:10<00:25,  3.80it/s]"
     ]
    },
    {
     "name": "stdout",
     "output_type": "stream",
     "text": [
      "nan\n",
      "nan\n",
      "nan\n",
      "nan\n",
      "nan\n"
     ]
    },
    {
     "name": "stderr",
     "output_type": "stream",
     "text": [
      "\r",
      " 86%|████████████████████████████████████████████████████████████████████▋           | 589/686 [02:10<00:25,  3.78it/s]"
     ]
    },
    {
     "name": "stdout",
     "output_type": "stream",
     "text": [
      "nan\n",
      "nan\n",
      "nan\n",
      "nan\n",
      "nan\n"
     ]
    },
    {
     "name": "stderr",
     "output_type": "stream",
     "text": [
      "\r",
      " 86%|████████████████████████████████████████████████████████████████████▊           | 590/686 [02:10<00:25,  3.83it/s]"
     ]
    },
    {
     "name": "stdout",
     "output_type": "stream",
     "text": [
      "nan\n",
      "nan\n",
      "nan\n",
      "nan\n",
      "nan\n",
      "nan\n",
      "nan\n",
      "nan\n",
      "nan\n",
      "nan\n"
     ]
    },
    {
     "name": "stderr",
     "output_type": "stream",
     "text": [
      " 86%|█████████████████████████████████████████████████████████████████████           | 592/686 [02:10<00:23,  4.05it/s]"
     ]
    },
    {
     "name": "stdout",
     "output_type": "stream",
     "text": [
      "nan\n",
      "nan\n",
      "nan\n",
      "nan\n",
      "2.0\n"
     ]
    },
    {
     "name": "stderr",
     "output_type": "stream",
     "text": [
      "\r",
      " 86%|█████████████████████████████████████████████████████████████████████▏          | 593/686 [02:11<00:22,  4.15it/s]"
     ]
    },
    {
     "name": "stdout",
     "output_type": "stream",
     "text": [
      "nan\n",
      "nan\n",
      "nan\n",
      "nan\n",
      "nan\n"
     ]
    },
    {
     "name": "stderr",
     "output_type": "stream",
     "text": [
      "\r",
      " 87%|█████████████████████████████████████████████████████████████████████▎          | 594/686 [02:11<00:21,  4.19it/s]"
     ]
    },
    {
     "name": "stdout",
     "output_type": "stream",
     "text": [
      "nan\n",
      "nan\n",
      "nan\n",
      "nan\n",
      "nan\n"
     ]
    },
    {
     "name": "stderr",
     "output_type": "stream",
     "text": [
      "\r",
      " 87%|█████████████████████████████████████████████████████████████████████▍          | 595/686 [02:11<00:21,  4.31it/s]"
     ]
    },
    {
     "name": "stdout",
     "output_type": "stream",
     "text": [
      "nan\n",
      "nan\n",
      "nan\n",
      "nan\n",
      "nan\n"
     ]
    },
    {
     "name": "stderr",
     "output_type": "stream",
     "text": [
      "\r",
      " 87%|█████████████████████████████████████████████████████████████████████▌          | 596/686 [02:11<00:21,  4.11it/s]"
     ]
    },
    {
     "name": "stdout",
     "output_type": "stream",
     "text": [
      "nan\n",
      "nan\n",
      "nan\n",
      "nan\n",
      "nan\n"
     ]
    },
    {
     "name": "stderr",
     "output_type": "stream",
     "text": [
      "\r",
      " 87%|█████████████████████████████████████████████████████████████████████▌          | 597/686 [02:12<00:21,  4.23it/s]"
     ]
    },
    {
     "name": "stdout",
     "output_type": "stream",
     "text": [
      "nan\n",
      "nan\n",
      "nan\n",
      "nan\n",
      "nan\n"
     ]
    },
    {
     "name": "stderr",
     "output_type": "stream",
     "text": [
      "\r",
      " 87%|█████████████████████████████████████████████████████████████████████▋          | 598/686 [02:12<00:20,  4.21it/s]"
     ]
    },
    {
     "name": "stdout",
     "output_type": "stream",
     "text": [
      "nan\n",
      "nan\n",
      "nan\n",
      "nan\n",
      "nan\n"
     ]
    },
    {
     "name": "stderr",
     "output_type": "stream",
     "text": [
      "\r",
      " 87%|█████████████████████████████████████████████████████████████████████▊          | 599/686 [02:12<00:24,  3.50it/s]"
     ]
    },
    {
     "name": "stdout",
     "output_type": "stream",
     "text": [
      "nan\n",
      "4.0\n",
      "nan\n",
      "nan\n",
      "nan\n"
     ]
    },
    {
     "name": "stderr",
     "output_type": "stream",
     "text": [
      "\r",
      " 87%|█████████████████████████████████████████████████████████████████████▉          | 600/686 [02:13<00:26,  3.27it/s]"
     ]
    },
    {
     "name": "stdout",
     "output_type": "stream",
     "text": [
      "nan\n",
      "nan\n",
      "nan\n",
      "nan\n",
      "nan\n"
     ]
    },
    {
     "name": "stderr",
     "output_type": "stream",
     "text": [
      "\r",
      " 88%|██████████████████████████████████████████████████████████████████████          | 601/686 [02:13<00:24,  3.42it/s]"
     ]
    },
    {
     "name": "stdout",
     "output_type": "stream",
     "text": [
      "nan\n",
      "nan\n",
      "nan\n",
      "nan\n",
      "nan\n"
     ]
    },
    {
     "name": "stderr",
     "output_type": "stream",
     "text": [
      "\r",
      " 88%|██████████████████████████████████████████████████████████████████████▏         | 602/686 [02:13<00:22,  3.66it/s]"
     ]
    },
    {
     "name": "stdout",
     "output_type": "stream",
     "text": [
      "nan\n",
      "nan\n",
      "nan\n",
      "nan\n",
      "nan\n"
     ]
    },
    {
     "name": "stderr",
     "output_type": "stream",
     "text": [
      "\r",
      " 88%|██████████████████████████████████████████████████████████████████████▎         | 603/686 [02:13<00:21,  3.78it/s]"
     ]
    },
    {
     "name": "stdout",
     "output_type": "stream",
     "text": [
      "nan\n",
      "nan\n",
      "nan\n",
      "nan\n",
      "nan\n"
     ]
    },
    {
     "name": "stderr",
     "output_type": "stream",
     "text": [
      "\r",
      " 88%|██████████████████████████████████████████████████████████████████████▍         | 604/686 [02:14<00:21,  3.78it/s]"
     ]
    },
    {
     "name": "stdout",
     "output_type": "stream",
     "text": [
      "nan\n",
      "nan\n",
      "nan\n",
      "nan\n",
      "nan\n"
     ]
    },
    {
     "name": "stderr",
     "output_type": "stream",
     "text": [
      "\r",
      " 88%|██████████████████████████████████████████████████████████████████████▌         | 605/686 [02:14<00:21,  3.85it/s]"
     ]
    },
    {
     "name": "stdout",
     "output_type": "stream",
     "text": [
      "nan\n",
      "nan\n",
      "nan\n",
      "nan\n",
      "nan\n"
     ]
    },
    {
     "name": "stderr",
     "output_type": "stream",
     "text": [
      "\r",
      " 88%|██████████████████████████████████████████████████████████████████████▋         | 606/686 [02:14<00:19,  4.04it/s]"
     ]
    },
    {
     "name": "stdout",
     "output_type": "stream",
     "text": [
      "nan\n",
      "4.0\n",
      "nan\n",
      "nan\n",
      "nan\n"
     ]
    },
    {
     "name": "stderr",
     "output_type": "stream",
     "text": [
      "\r",
      " 88%|██████████████████████████████████████████████████████████████████████▊         | 607/686 [02:14<00:19,  4.01it/s]"
     ]
    },
    {
     "name": "stdout",
     "output_type": "stream",
     "text": [
      "nan\n",
      "nan\n",
      "nan\n",
      "nan\n",
      "nan\n"
     ]
    },
    {
     "name": "stderr",
     "output_type": "stream",
     "text": [
      "\r",
      " 89%|██████████████████████████████████████████████████████████████████████▉         | 608/686 [02:15<00:18,  4.20it/s]"
     ]
    },
    {
     "name": "stdout",
     "output_type": "stream",
     "text": [
      "nan\n",
      "nan\n",
      "nan\n",
      "nan\n",
      "nan\n"
     ]
    },
    {
     "name": "stderr",
     "output_type": "stream",
     "text": [
      "\r",
      " 89%|███████████████████████████████████████████████████████████████████████         | 609/686 [02:15<00:17,  4.29it/s]"
     ]
    },
    {
     "name": "stdout",
     "output_type": "stream",
     "text": [
      "nan\n",
      "nan\n",
      "4.0\n",
      "nan\n",
      "nan\n"
     ]
    },
    {
     "name": "stderr",
     "output_type": "stream",
     "text": [
      "\r",
      " 89%|███████████████████████████████████████████████████████████████████████▏        | 610/686 [02:15<00:18,  4.20it/s]"
     ]
    },
    {
     "name": "stdout",
     "output_type": "stream",
     "text": [
      "nan\n",
      "nan\n",
      "nan\n",
      "nan\n",
      "nan\n",
      "nan\n",
      "nan\n",
      "nan\n",
      "nan\n",
      "nan\n"
     ]
    },
    {
     "name": "stderr",
     "output_type": "stream",
     "text": [
      " 89%|███████████████████████████████████████████████████████████████████████▎        | 612/686 [02:15<00:16,  4.49it/s]"
     ]
    },
    {
     "name": "stdout",
     "output_type": "stream",
     "text": [
      "nan\n",
      "nan\n",
      "nan\n",
      "nan\n",
      "nan\n"
     ]
    },
    {
     "name": "stderr",
     "output_type": "stream",
     "text": [
      "\r",
      " 89%|███████████████████████████████████████████████████████████████████████▍        | 613/686 [02:16<00:16,  4.50it/s]"
     ]
    },
    {
     "name": "stdout",
     "output_type": "stream",
     "text": [
      "nan\n",
      "nan\n",
      "nan\n",
      "nan\n",
      "nan\n"
     ]
    },
    {
     "name": "stderr",
     "output_type": "stream",
     "text": [
      "\r",
      " 90%|███████████████████████████████████████████████████████████████████████▌        | 614/686 [02:16<00:16,  4.29it/s]"
     ]
    },
    {
     "name": "stdout",
     "output_type": "stream",
     "text": [
      "nan\n",
      "nan\n",
      "nan\n",
      "nan\n",
      "nan\n"
     ]
    },
    {
     "name": "stderr",
     "output_type": "stream",
     "text": [
      "\r",
      " 90%|███████████████████████████████████████████████████████████████████████▋        | 615/686 [02:16<00:16,  4.44it/s]"
     ]
    },
    {
     "name": "stdout",
     "output_type": "stream",
     "text": [
      "nan\n",
      "nan\n",
      "nan\n",
      "nan\n",
      "nan\n",
      "nan\n",
      "nan\n",
      "nan\n",
      "nan\n"
     ]
    },
    {
     "name": "stderr",
     "output_type": "stream",
     "text": [
      "\r",
      " 90%|███████████████████████████████████████████████████████████████████████▊        | 616/686 [02:16<00:15,  4.57it/s]"
     ]
    },
    {
     "name": "stdout",
     "output_type": "stream",
     "text": [
      "nan\n",
      "nan\n",
      "nan\n",
      "nan\n",
      "nan\n",
      "nan\n"
     ]
    },
    {
     "name": "stderr",
     "output_type": "stream",
     "text": [
      " 90%|████████████████████████████████████████████████████████████████████████        | 618/686 [02:17<00:14,  4.76it/s]"
     ]
    },
    {
     "name": "stdout",
     "output_type": "stream",
     "text": [
      "nan\n",
      "nan\n",
      "nan\n",
      "nan\n",
      "nan\n",
      "nan\n",
      "nan\n",
      "nan\n",
      "nan\n",
      "nan\n"
     ]
    },
    {
     "name": "stderr",
     "output_type": "stream",
     "text": [
      " 90%|████████████████████████████████████████████████████████████████████████▎       | 620/686 [02:17<00:14,  4.45it/s]"
     ]
    },
    {
     "name": "stdout",
     "output_type": "stream",
     "text": [
      "nan\n",
      "nan\n",
      "nan\n",
      "nan\n",
      "nan\n"
     ]
    },
    {
     "name": "stderr",
     "output_type": "stream",
     "text": [
      "\r",
      " 91%|████████████████████████████████████████████████████████████████████████▍       | 621/686 [02:17<00:15,  4.21it/s]"
     ]
    },
    {
     "name": "stdout",
     "output_type": "stream",
     "text": [
      "nan\n",
      "nan\n",
      "nan\n",
      "nan\n",
      "nan\n"
     ]
    },
    {
     "name": "stderr",
     "output_type": "stream",
     "text": [
      "\r",
      " 91%|████████████████████████████████████████████████████████████████████████▌       | 622/686 [02:18<00:15,  4.26it/s]"
     ]
    },
    {
     "name": "stdout",
     "output_type": "stream",
     "text": [
      "nan\n",
      "nan\n",
      "nan\n",
      "nan\n",
      "nan\n"
     ]
    },
    {
     "name": "stderr",
     "output_type": "stream",
     "text": [
      "\r",
      " 91%|████████████████████████████████████████████████████████████████████████▋       | 623/686 [02:18<00:14,  4.33it/s]"
     ]
    },
    {
     "name": "stdout",
     "output_type": "stream",
     "text": [
      "nan\n",
      "nan\n",
      "nan\n",
      "nan\n",
      "nan\n"
     ]
    },
    {
     "name": "stderr",
     "output_type": "stream",
     "text": [
      "\r",
      " 91%|████████████████████████████████████████████████████████████████████████▊       | 624/686 [02:18<00:14,  4.42it/s]"
     ]
    },
    {
     "name": "stdout",
     "output_type": "stream",
     "text": [
      "nan\n",
      "nan\n",
      "nan\n",
      "nan\n",
      "nan\n"
     ]
    },
    {
     "name": "stderr",
     "output_type": "stream",
     "text": [
      "\r",
      " 91%|████████████████████████████████████████████████████████████████████████▉       | 625/686 [02:18<00:14,  4.33it/s]"
     ]
    },
    {
     "name": "stdout",
     "output_type": "stream",
     "text": [
      "nan\n",
      "nan\n",
      "nan\n",
      "nan\n",
      "nan\n"
     ]
    },
    {
     "name": "stderr",
     "output_type": "stream",
     "text": [
      "\r",
      " 91%|█████████████████████████████████████████████████████████████████████████       | 626/686 [02:19<00:14,  4.03it/s]"
     ]
    },
    {
     "name": "stdout",
     "output_type": "stream",
     "text": [
      "nan\n",
      "nan\n",
      "nan\n",
      "nan\n",
      "nan\n"
     ]
    },
    {
     "name": "stderr",
     "output_type": "stream",
     "text": [
      "\r",
      " 91%|█████████████████████████████████████████████████████████████████████████       | 627/686 [02:19<00:14,  4.07it/s]"
     ]
    },
    {
     "name": "stdout",
     "output_type": "stream",
     "text": [
      "nan\n",
      "nan\n",
      "nan\n",
      "nan\n",
      "nan\n",
      "nan\n",
      "nan\n",
      "nan\n",
      "nan\n",
      "nan\n"
     ]
    },
    {
     "name": "stderr",
     "output_type": "stream",
     "text": [
      " 92%|█████████████████████████████████████████████████████████████████████████▎      | 629/686 [02:19<00:12,  4.43it/s]"
     ]
    },
    {
     "name": "stdout",
     "output_type": "stream",
     "text": [
      "nan\n",
      "nan\n",
      "nan\n",
      "2.0\n",
      "nan\n"
     ]
    },
    {
     "name": "stderr",
     "output_type": "stream",
     "text": [
      "\r",
      " 92%|█████████████████████████████████████████████████████████████████████████▍      | 630/686 [02:20<00:12,  4.50it/s]"
     ]
    },
    {
     "name": "stdout",
     "output_type": "stream",
     "text": [
      "nan\n",
      "nan\n",
      "nan\n",
      "nan\n",
      "nan\n"
     ]
    },
    {
     "name": "stderr",
     "output_type": "stream",
     "text": [
      "\r",
      " 92%|█████████████████████████████████████████████████████████████████████████▌      | 631/686 [02:20<00:12,  4.54it/s]"
     ]
    },
    {
     "name": "stdout",
     "output_type": "stream",
     "text": [
      "nan\n",
      "nan\n",
      "nan\n",
      "nan\n",
      "nan\n"
     ]
    },
    {
     "name": "stderr",
     "output_type": "stream",
     "text": [
      "\r",
      " 92%|█████████████████████████████████████████████████████████████████████████▋      | 632/686 [02:20<00:11,  4.55it/s]"
     ]
    },
    {
     "name": "stdout",
     "output_type": "stream",
     "text": [
      "nan\n",
      "nan\n",
      "nan\n",
      "nan\n",
      "nan\n"
     ]
    },
    {
     "name": "stderr",
     "output_type": "stream",
     "text": [
      "\r",
      " 92%|█████████████████████████████████████████████████████████████████████████▊      | 633/686 [02:20<00:11,  4.43it/s]"
     ]
    },
    {
     "name": "stdout",
     "output_type": "stream",
     "text": [
      "nan\n",
      "4.0\n",
      "nan\n",
      "nan\n",
      "nan\n"
     ]
    },
    {
     "name": "stderr",
     "output_type": "stream",
     "text": [
      "\r",
      " 92%|█████████████████████████████████████████████████████████████████████████▉      | 634/686 [02:20<00:12,  4.30it/s]"
     ]
    },
    {
     "name": "stdout",
     "output_type": "stream",
     "text": [
      "nan\n",
      "nan\n",
      "nan\n",
      "nan\n",
      "nan\n",
      "nan\n",
      "nan\n",
      "nan\n",
      "nan\n",
      "nan\n"
     ]
    },
    {
     "name": "stderr",
     "output_type": "stream",
     "text": [
      " 93%|██████████████████████████████████████████████████████████████████████████▏     | 636/686 [02:21<00:11,  4.48it/s]"
     ]
    },
    {
     "name": "stdout",
     "output_type": "stream",
     "text": [
      "nan\n",
      "nan\n",
      "nan\n",
      "nan\n",
      "nan\n"
     ]
    },
    {
     "name": "stderr",
     "output_type": "stream",
     "text": [
      "\r",
      " 93%|██████████████████████████████████████████████████████████████████████████▎     | 637/686 [02:21<00:11,  4.45it/s]"
     ]
    },
    {
     "name": "stdout",
     "output_type": "stream",
     "text": [
      "nan\n",
      "nan\n",
      "nan\n",
      "nan\n",
      "nan\n"
     ]
    },
    {
     "name": "stderr",
     "output_type": "stream",
     "text": [
      "\r",
      " 93%|██████████████████████████████████████████████████████████████████████████▍     | 638/686 [02:21<00:10,  4.55it/s]"
     ]
    },
    {
     "name": "stdout",
     "output_type": "stream",
     "text": [
      "nan\n",
      "nan\n",
      "nan\n",
      "nan\n",
      "nan\n"
     ]
    },
    {
     "name": "stderr",
     "output_type": "stream",
     "text": [
      "\r",
      " 93%|██████████████████████████████████████████████████████████████████████████▌     | 639/686 [02:22<00:10,  4.55it/s]"
     ]
    },
    {
     "name": "stdout",
     "output_type": "stream",
     "text": [
      "nan\n",
      "nan\n",
      "nan\n",
      "nan\n",
      "nan\n"
     ]
    },
    {
     "name": "stderr",
     "output_type": "stream",
     "text": [
      "\r",
      " 93%|██████████████████████████████████████████████████████████████████████████▋     | 640/686 [02:22<00:10,  4.59it/s]"
     ]
    },
    {
     "name": "stdout",
     "output_type": "stream",
     "text": [
      "nan\n",
      "nan\n",
      "nan\n",
      "nan\n",
      "nan\n"
     ]
    },
    {
     "name": "stderr",
     "output_type": "stream",
     "text": [
      "\r",
      " 93%|██████████████████████████████████████████████████████████████████████████▊     | 641/686 [02:22<00:10,  4.46it/s]"
     ]
    },
    {
     "name": "stdout",
     "output_type": "stream",
     "text": [
      "nan\n",
      "nan\n",
      "nan\n",
      "nan\n",
      "nan\n"
     ]
    },
    {
     "name": "stderr",
     "output_type": "stream",
     "text": [
      "\r",
      " 94%|██████████████████████████████████████████████████████████████████████████▊     | 642/686 [02:22<00:10,  4.23it/s]"
     ]
    },
    {
     "name": "stdout",
     "output_type": "stream",
     "text": [
      "nan\n",
      "nan\n",
      "nan\n",
      "nan\n",
      "nan\n"
     ]
    },
    {
     "name": "stderr",
     "output_type": "stream",
     "text": [
      "\r",
      " 94%|██████████████████████████████████████████████████████████████████████████▉     | 643/686 [02:23<00:10,  4.28it/s]"
     ]
    },
    {
     "name": "stdout",
     "output_type": "stream",
     "text": [
      "nan\n",
      "nan\n",
      "nan\n",
      "nan\n",
      "nan\n"
     ]
    },
    {
     "name": "stderr",
     "output_type": "stream",
     "text": [
      "\r",
      " 94%|███████████████████████████████████████████████████████████████████████████     | 644/686 [02:23<00:09,  4.25it/s]"
     ]
    },
    {
     "name": "stdout",
     "output_type": "stream",
     "text": [
      "nan\n",
      "nan\n",
      "nan\n",
      "nan\n",
      "nan\n"
     ]
    },
    {
     "name": "stderr",
     "output_type": "stream",
     "text": [
      "\r",
      " 94%|███████████████████████████████████████████████████████████████████████████▏    | 645/686 [02:23<00:10,  3.94it/s]"
     ]
    },
    {
     "name": "stdout",
     "output_type": "stream",
     "text": [
      "nan\n",
      "nan\n",
      "nan\n",
      "nan\n",
      "nan\n"
     ]
    },
    {
     "name": "stderr",
     "output_type": "stream",
     "text": [
      "\r",
      " 94%|███████████████████████████████████████████████████████████████████████████▎    | 646/686 [02:24<00:13,  3.00it/s]"
     ]
    },
    {
     "name": "stdout",
     "output_type": "stream",
     "text": [
      "nan\n",
      "nan\n",
      "nan\n",
      "nan\n",
      "nan\n"
     ]
    },
    {
     "name": "stderr",
     "output_type": "stream",
     "text": [
      "\r",
      " 94%|███████████████████████████████████████████████████████████████████████████▍    | 647/686 [02:24<00:11,  3.37it/s]"
     ]
    },
    {
     "name": "stdout",
     "output_type": "stream",
     "text": [
      "nan\n",
      "nan\n",
      "nan\n",
      "nan\n",
      "nan\n"
     ]
    },
    {
     "name": "stderr",
     "output_type": "stream",
     "text": [
      "\r",
      " 94%|███████████████████████████████████████████████████████████████████████████▌    | 648/686 [02:24<00:12,  3.04it/s]"
     ]
    },
    {
     "name": "stdout",
     "output_type": "stream",
     "text": [
      "nan\n",
      "nan\n",
      "nan\n",
      "nan\n",
      "nan\n"
     ]
    },
    {
     "name": "stderr",
     "output_type": "stream",
     "text": [
      "\r",
      " 95%|███████████████████████████████████████████████████████████████████████████▋    | 649/686 [02:24<00:11,  3.33it/s]"
     ]
    },
    {
     "name": "stdout",
     "output_type": "stream",
     "text": [
      "nan\n",
      "nan\n",
      "nan\n",
      "nan\n",
      "nan\n"
     ]
    },
    {
     "name": "stderr",
     "output_type": "stream",
     "text": [
      "\r",
      " 95%|███████████████████████████████████████████████████████████████████████████▊    | 650/686 [02:25<00:10,  3.59it/s]"
     ]
    },
    {
     "name": "stdout",
     "output_type": "stream",
     "text": [
      "nan\n",
      "nan\n",
      "nan\n",
      "nan\n",
      "nan\n"
     ]
    },
    {
     "name": "stderr",
     "output_type": "stream",
     "text": [
      "\r",
      " 95%|███████████████████████████████████████████████████████████████████████████▉    | 651/686 [02:25<00:09,  3.67it/s]"
     ]
    },
    {
     "name": "stdout",
     "output_type": "stream",
     "text": [
      "nan\n",
      "nan\n",
      "nan\n",
      "nan\n",
      "nan\n"
     ]
    },
    {
     "name": "stderr",
     "output_type": "stream",
     "text": [
      "\r",
      " 95%|████████████████████████████████████████████████████████████████████████████    | 652/686 [02:25<00:09,  3.76it/s]"
     ]
    },
    {
     "name": "stdout",
     "output_type": "stream",
     "text": [
      "nan\n",
      "nan\n",
      "nan\n",
      "nan\n",
      "nan\n"
     ]
    },
    {
     "name": "stderr",
     "output_type": "stream",
     "text": [
      "\r",
      " 95%|████████████████████████████████████████████████████████████████████████████▏   | 653/686 [02:25<00:09,  3.65it/s]"
     ]
    },
    {
     "name": "stdout",
     "output_type": "stream",
     "text": [
      "nan\n",
      "nan\n",
      "nan\n",
      "nan\n",
      "nan\n"
     ]
    },
    {
     "name": "stderr",
     "output_type": "stream",
     "text": [
      "\r",
      " 95%|████████████████████████████████████████████████████████████████████████████▎   | 654/686 [02:26<00:08,  3.72it/s]"
     ]
    },
    {
     "name": "stdout",
     "output_type": "stream",
     "text": [
      "nan\n",
      "nan\n",
      "nan\n",
      "nan\n",
      "nan\n"
     ]
    },
    {
     "name": "stderr",
     "output_type": "stream",
     "text": [
      "\r",
      " 95%|████████████████████████████████████████████████████████████████████████████▍   | 655/686 [02:26<00:08,  3.68it/s]"
     ]
    },
    {
     "name": "stdout",
     "output_type": "stream",
     "text": [
      "nan\n",
      "nan\n",
      "nan\n",
      "nan\n",
      "nan\n"
     ]
    },
    {
     "name": "stderr",
     "output_type": "stream",
     "text": [
      "\r",
      " 96%|████████████████████████████████████████████████████████████████████████████▌   | 656/686 [02:26<00:08,  3.66it/s]"
     ]
    },
    {
     "name": "stdout",
     "output_type": "stream",
     "text": [
      "nan\n",
      "nan\n",
      "nan\n",
      "nan\n",
      "nan\n"
     ]
    },
    {
     "name": "stderr",
     "output_type": "stream",
     "text": [
      "\r",
      " 96%|████████████████████████████████████████████████████████████████████████████▌   | 657/686 [02:26<00:07,  3.85it/s]"
     ]
    },
    {
     "name": "stdout",
     "output_type": "stream",
     "text": [
      "nan\n",
      "nan\n",
      "nan\n",
      "nan\n",
      "nan\n"
     ]
    },
    {
     "name": "stderr",
     "output_type": "stream",
     "text": [
      "\r",
      " 96%|████████████████████████████████████████████████████████████████████████████▋   | 658/686 [02:27<00:07,  3.87it/s]"
     ]
    },
    {
     "name": "stdout",
     "output_type": "stream",
     "text": [
      "nan\n",
      "nan\n",
      "nan\n",
      "nan\n",
      "nan\n"
     ]
    },
    {
     "name": "stderr",
     "output_type": "stream",
     "text": [
      "\r",
      " 96%|████████████████████████████████████████████████████████████████████████████▊   | 659/686 [02:27<00:06,  3.87it/s]"
     ]
    },
    {
     "name": "stdout",
     "output_type": "stream",
     "text": [
      "4.0\n",
      "nan\n",
      "nan\n",
      "nan\n",
      "nan\n"
     ]
    },
    {
     "name": "stderr",
     "output_type": "stream",
     "text": [
      "\r",
      " 96%|████████████████████████████████████████████████████████████████████████████▉   | 660/686 [02:27<00:06,  3.80it/s]"
     ]
    },
    {
     "name": "stdout",
     "output_type": "stream",
     "text": [
      "nan\n",
      "nan\n",
      "nan\n",
      "nan\n",
      "nan\n"
     ]
    },
    {
     "name": "stderr",
     "output_type": "stream",
     "text": [
      "\r",
      " 96%|█████████████████████████████████████████████████████████████████████████████   | 661/686 [02:27<00:06,  4.03it/s]"
     ]
    },
    {
     "name": "stdout",
     "output_type": "stream",
     "text": [
      "nan\n",
      "nan\n",
      "nan\n",
      "nan\n",
      "nan\n",
      "nan\n",
      "nan\n",
      "nan\n",
      "nan\n",
      "nan\n"
     ]
    },
    {
     "name": "stderr",
     "output_type": "stream",
     "text": [
      " 97%|█████████████████████████████████████████████████████████████████████████████▎  | 663/686 [02:28<00:05,  4.40it/s]"
     ]
    },
    {
     "name": "stdout",
     "output_type": "stream",
     "text": [
      "nan\n",
      "nan\n",
      "nan\n",
      "nan\n",
      "nan\n",
      "nan\n",
      "nan\n",
      "nan\n",
      "nan\n"
     ]
    },
    {
     "name": "stderr",
     "output_type": "stream",
     "text": [
      "\r",
      " 97%|█████████████████████████████████████████████████████████████████████████████▍  | 664/686 [02:28<00:04,  4.52it/s]"
     ]
    },
    {
     "name": "stdout",
     "output_type": "stream",
     "text": [
      "nan\n"
     ]
    },
    {
     "name": "stderr",
     "output_type": "stream",
     "text": [
      "\r",
      " 97%|█████████████████████████████████████████████████████████████████████████████▌  | 665/686 [02:28<00:04,  4.34it/s]"
     ]
    },
    {
     "name": "stdout",
     "output_type": "stream",
     "text": [
      "nan\n",
      "nan\n",
      "nan\n",
      "nan\n",
      "nan\n"
     ]
    },
    {
     "name": "stderr",
     "output_type": "stream",
     "text": [
      "\r",
      " 97%|█████████████████████████████████████████████████████████████████████████████▋  | 666/686 [02:29<00:04,  4.26it/s]"
     ]
    },
    {
     "name": "stdout",
     "output_type": "stream",
     "text": [
      "nan\n",
      "nan\n",
      "nan\n",
      "nan\n",
      "nan\n",
      "nan\n",
      "nan\n",
      "nan\n",
      "nan\n",
      "nan\n"
     ]
    },
    {
     "name": "stderr",
     "output_type": "stream",
     "text": [
      " 97%|█████████████████████████████████████████████████████████████████████████████▉  | 668/686 [02:29<00:04,  4.34it/s]"
     ]
    },
    {
     "name": "stdout",
     "output_type": "stream",
     "text": [
      "nan\n",
      "nan\n",
      "nan\n",
      "nan\n",
      "nan\n"
     ]
    },
    {
     "name": "stderr",
     "output_type": "stream",
     "text": [
      "\r",
      " 98%|██████████████████████████████████████████████████████████████████████████████  | 669/686 [02:29<00:03,  4.50it/s]"
     ]
    },
    {
     "name": "stdout",
     "output_type": "stream",
     "text": [
      "nan\n",
      "nan\n",
      "nan\n",
      "nan\n",
      "nan\n"
     ]
    },
    {
     "name": "stderr",
     "output_type": "stream",
     "text": [
      "\r",
      " 98%|██████████████████████████████████████████████████████████████████████████████▏ | 670/686 [02:29<00:03,  4.41it/s]"
     ]
    },
    {
     "name": "stdout",
     "output_type": "stream",
     "text": [
      "nan\n",
      "nan\n",
      "nan\n",
      "nan\n",
      "nan\n"
     ]
    },
    {
     "name": "stderr",
     "output_type": "stream",
     "text": [
      "\r",
      " 98%|██████████████████████████████████████████████████████████████████████████████▎ | 671/686 [02:30<00:03,  4.34it/s]"
     ]
    },
    {
     "name": "stdout",
     "output_type": "stream",
     "text": [
      "nan\n",
      "nan\n",
      "nan\n",
      "nan\n",
      "nan\n",
      "nan\n",
      "nan\n",
      "nan\n",
      "nan\n",
      "nan\n"
     ]
    },
    {
     "name": "stderr",
     "output_type": "stream",
     "text": [
      " 98%|██████████████████████████████████████████████████████████████████████████████▍ | 673/686 [02:30<00:03,  4.30it/s]"
     ]
    },
    {
     "name": "stdout",
     "output_type": "stream",
     "text": [
      "nan\n",
      "nan\n",
      "nan\n",
      "nan\n",
      "nan\n"
     ]
    },
    {
     "name": "stderr",
     "output_type": "stream",
     "text": [
      "\r",
      " 98%|██████████████████████████████████████████████████████████████████████████████▌ | 674/686 [02:30<00:02,  4.29it/s]"
     ]
    },
    {
     "name": "stdout",
     "output_type": "stream",
     "text": [
      "nan\n",
      "nan\n",
      "nan\n",
      "nan\n",
      "nan\n"
     ]
    },
    {
     "name": "stderr",
     "output_type": "stream",
     "text": [
      "\r",
      " 98%|██████████████████████████████████████████████████████████████████████████████▋ | 675/686 [02:31<00:02,  4.34it/s]"
     ]
    },
    {
     "name": "stdout",
     "output_type": "stream",
     "text": [
      "nan\n",
      "nan\n",
      "nan\n",
      "nan\n",
      "nan\n",
      "nan\n",
      "nan\n",
      "nan\n",
      "nan\n"
     ]
    },
    {
     "name": "stderr",
     "output_type": "stream",
     "text": [
      "\r",
      " 99%|██████████████████████████████████████████████████████████████████████████████▊ | 676/686 [02:31<00:02,  4.51it/s]"
     ]
    },
    {
     "name": "stdout",
     "output_type": "stream",
     "text": [
      "nan\n",
      "nan\n",
      "nan\n",
      "nan\n",
      "4.0\n"
     ]
    },
    {
     "name": "stderr",
     "output_type": "stream",
     "text": [
      "\r",
      " 99%|██████████████████████████████████████████████████████████████████████████████▉ | 677/686 [02:31<00:01,  4.56it/s]"
     ]
    },
    {
     "name": "stdout",
     "output_type": "stream",
     "text": [
      "nan\n"
     ]
    },
    {
     "name": "stderr",
     "output_type": "stream",
     "text": [
      "\r",
      " 99%|███████████████████████████████████████████████████████████████████████████████ | 678/686 [02:31<00:01,  4.35it/s]"
     ]
    },
    {
     "name": "stdout",
     "output_type": "stream",
     "text": [
      "nan\n",
      "nan\n",
      "nan\n",
      "nan\n",
      "nan\n"
     ]
    },
    {
     "name": "stderr",
     "output_type": "stream",
     "text": [
      "\r",
      " 99%|███████████████████████████████████████████████████████████████████████████████▏| 679/686 [02:32<00:01,  4.33it/s]"
     ]
    },
    {
     "name": "stdout",
     "output_type": "stream",
     "text": [
      "nan\n",
      "nan\n",
      "nan\n",
      "nan\n",
      "nan\n"
     ]
    },
    {
     "name": "stderr",
     "output_type": "stream",
     "text": [
      "\r",
      " 99%|███████████████████████████████████████████████████████████████████████████████▎| 680/686 [02:32<00:01,  4.21it/s]"
     ]
    },
    {
     "name": "stdout",
     "output_type": "stream",
     "text": [
      "nan\n",
      "nan\n",
      "nan\n",
      "nan\n",
      "nan\n"
     ]
    },
    {
     "name": "stderr",
     "output_type": "stream",
     "text": [
      "\r",
      " 99%|███████████████████████████████████████████████████████████████████████████████▍| 681/686 [02:32<00:01,  4.27it/s]"
     ]
    },
    {
     "name": "stdout",
     "output_type": "stream",
     "text": [
      "nan\n",
      "nan\n",
      "nan\n",
      "nan\n",
      "nan\n"
     ]
    },
    {
     "name": "stderr",
     "output_type": "stream",
     "text": [
      "\r",
      " 99%|███████████████████████████████████████████████████████████████████████████████▌| 682/686 [02:32<00:00,  4.06it/s]"
     ]
    },
    {
     "name": "stdout",
     "output_type": "stream",
     "text": [
      "nan\n",
      "nan\n",
      "nan\n",
      "nan\n",
      "nan\n"
     ]
    },
    {
     "name": "stderr",
     "output_type": "stream",
     "text": [
      "\r",
      "100%|███████████████████████████████████████████████████████████████████████████████▋| 683/686 [02:33<00:00,  4.04it/s]"
     ]
    },
    {
     "name": "stdout",
     "output_type": "stream",
     "text": [
      "nan\n",
      "nan\n",
      "nan\n",
      "nan\n",
      "nan\n",
      "nan\n",
      "nan\n",
      "nan\n",
      "nan\n",
      "nan\n"
     ]
    },
    {
     "name": "stderr",
     "output_type": "stream",
     "text": [
      "100%|███████████████████████████████████████████████████████████████████████████████▉| 685/686 [02:33<00:00,  4.15it/s]"
     ]
    },
    {
     "name": "stdout",
     "output_type": "stream",
     "text": [
      "nan\n",
      "nan\n",
      "nan\n",
      "nan\n",
      "nan\n"
     ]
    },
    {
     "name": "stderr",
     "output_type": "stream",
     "text": [
      "100%|████████████████████████████████████████████████████████████████████████████████| 686/686 [02:33<00:00,  4.46it/s]"
     ]
    },
    {
     "name": "stdout",
     "output_type": "stream",
     "text": [
      "nan\n",
      "nan\n",
      "nan\n",
      "nan\n",
      "nan\n"
     ]
    },
    {
     "name": "stderr",
     "output_type": "stream",
     "text": [
      "\n"
     ]
    }
   ],
   "source": [
    "user_id = 1\n",
    "# Membuat placeholder (dataframe) untuk hasil prediksi\n",
    "df_pred = pd.DataFrame()\n",
    "\n",
    "# Membuat placeholder (list) untuk hasil prediksi\n",
    "pred_rating = []\n",
    "\n",
    "# Iterasi untuk semua movie unrated\n",
    "masked = np.isnan(pivot_df_ratings.loc[user_id])\n",
    "pivot_df_ratings\n",
    "\n",
    "for mov in tqdm(pivot_df_ratings.columns[masked]):\n",
    "    # Prediksi rating movie\n",
    "    predictions = rating_predicted_item(userid= user_id, movieid= mov,\n",
    "                                        pivot_df_ratings= pivot_df_ratings,\n",
    "                                        list_neigh= list_neigh, n = n)\n",
    "    \n",
    "    # Tambahkan rating ke placeholder\n",
    "    pred_rating.append(predictions)\n",
    "\n",
    "# Assign ke MovieID\n",
    "df_pred['MovieIDs'] = pivot_df_ratings.columns[masked]\n",
    "\n",
    "# Assign hasil dari prediksi\n",
    "df_pred['pred_rating'] = pred_rating\n"
   ]
  },
  {
   "cell_type": "code",
   "execution_count": 50,
   "metadata": {},
   "outputs": [
    {
     "data": {
      "text/html": [
       "<div>\n",
       "<style scoped>\n",
       "    .dataframe tbody tr th:only-of-type {\n",
       "        vertical-align: middle;\n",
       "    }\n",
       "\n",
       "    .dataframe tbody tr th {\n",
       "        vertical-align: top;\n",
       "    }\n",
       "\n",
       "    .dataframe thead th {\n",
       "        text-align: right;\n",
       "    }\n",
       "</style>\n",
       "<table border=\"1\" class=\"dataframe\">\n",
       "  <thead>\n",
       "    <tr style=\"text-align: right;\">\n",
       "      <th></th>\n",
       "      <th>MovieIDs</th>\n",
       "      <th>pred_rating</th>\n",
       "    </tr>\n",
       "  </thead>\n",
       "  <tbody>\n",
       "    <tr>\n",
       "      <th>123</th>\n",
       "      <td>590</td>\n",
       "      <td>5.0</td>\n",
       "    </tr>\n",
       "    <tr>\n",
       "      <th>231</th>\n",
       "      <td>1266</td>\n",
       "      <td>5.0</td>\n",
       "    </tr>\n",
       "    <tr>\n",
       "      <th>208</th>\n",
       "      <td>1221</td>\n",
       "      <td>5.0</td>\n",
       "    </tr>\n",
       "    <tr>\n",
       "      <th>574</th>\n",
       "      <td>3159</td>\n",
       "      <td>5.0</td>\n",
       "    </tr>\n",
       "    <tr>\n",
       "      <th>58</th>\n",
       "      <td>318</td>\n",
       "      <td>5.0</td>\n",
       "    </tr>\n",
       "  </tbody>\n",
       "</table>\n",
       "</div>"
      ],
      "text/plain": [
       "     MovieIDs  pred_rating\n",
       "123       590          5.0\n",
       "231      1266          5.0\n",
       "208      1221          5.0\n",
       "574      3159          5.0\n",
       "58        318          5.0"
      ]
     },
     "execution_count": 50,
     "metadata": {},
     "output_type": "execute_result"
    }
   ],
   "source": [
    "# Urutkan nilai rating secara descending\n",
    "n_item = 5\n",
    "df_pred = (df_pred.\n",
    "           sort_values('pred_rating', ascending=False).\n",
    "           head(n_item))\n",
    "\n",
    "df_pred"
   ]
  },
  {
   "cell_type": "markdown",
   "metadata": {},
   "source": [
    "#### Membuat fungsi `recommendation_movies`"
   ]
  },
  {
   "cell_type": "code",
   "execution_count": 51,
   "metadata": {},
   "outputs": [],
   "source": [
    "def recommendation_movies(pivot_df_ratings, userid, n, n_item,\n",
    "                          recommend_seen = False):\n",
    "    \"\"\"\n",
    "    Fungsi untuk mendapatkan rekomendasi berdasarkan userid\n",
    "\n",
    "    Parameters\n",
    "    ----------\n",
    "    pivot_df_ratings : pandas DataFrame,\n",
    "        Rating data dalam belum tabel yang sudah di pivot\n",
    "\n",
    "    userid : int,\n",
    "        UserID dari user yang akan dihitung biasnya\n",
    "\n",
    "    n : int,\n",
    "        Jumlah n user yang nilainya paling dekat dengan userid\n",
    "\n",
    "    n_item : int,\n",
    "        Jumlah item dalam integer\n",
    "    \n",
    "    recommend_seen : bool,\n",
    "        Nilai default adalah False\n",
    "    \"\"\"\n",
    "    # Mencari nilai tetangga terdekat\n",
    "    neigh_data = get_n_neigh(rating_subtract_user_mean=rating_subtract_user_mean,\n",
    "                             userid=userid, n=n)\n",
    "    \n",
    "    # Membuat placeholder (dataframe) untuk hasil prediksi\n",
    "    df_pred = pd.DataFrame()\n",
    "\n",
    "    # Membuat placeholder (list) untuk hasil prediksi\n",
    "    pred_rating = []\n",
    "\n",
    "    # Iterasi untuk semua movie unrated\n",
    "    masked = np.isnan(pivot_df_ratings.loc[userid])\n",
    "    item_to_predict = pivot_df_ratings.columns[masked]\n",
    "\n",
    "    if recommend_seen :\n",
    "        item_to_predict = pivot_df_ratings.columns\n",
    "\n",
    "    # Iterasi untuk semua movie\n",
    "    for mov in tqdm(item_to_predict):\n",
    "        # Prediksi rating movie\n",
    "        predictions = rating_predicted_item(userid = userid, movieid = mov,\n",
    "                                            pivot_df_ratings = pivot_df_ratings,\n",
    "                                            list_neigh= list_neigh, n = n)\n",
    "        \n",
    "        # Tambahkan rating ke placeholder\n",
    "        pred_rating.append(predictions)\n",
    "\n",
    "    # Assign ke MovieID\n",
    "    df_pred['MovieIDs'] = pivot_df_ratings.columns[masked]\n",
    "\n",
    "    # Assign hasil dari prediksi\n",
    "    df_pred['pred_rating'] = pred_rating\n",
    "\n",
    "    df_pred = (df_pred\n",
    "            .sort_values('pred_rating',ascending=False)\n",
    "            .head(n_item))\n",
    "\n",
    "    return df_pred"
   ]
  },
  {
   "cell_type": "code",
   "execution_count": 52,
   "metadata": {},
   "outputs": [
    {
     "name": "stderr",
     "output_type": "stream",
     "text": [
      "100%|████████████████████████████████████████████████████████████████████████████| 6040/6040 [00:04<00:00, 1312.07it/s]\n",
      "  0%|                                                                                  | 1/686 [00:00<02:52,  3.98it/s]"
     ]
    },
    {
     "name": "stdout",
     "output_type": "stream",
     "text": [
      "nan\n",
      "nan\n",
      "nan\n",
      "nan\n",
      "nan\n"
     ]
    },
    {
     "name": "stderr",
     "output_type": "stream",
     "text": [
      "\r",
      "  0%|▏                                                                                 | 2/686 [00:00<02:45,  4.14it/s]"
     ]
    },
    {
     "name": "stdout",
     "output_type": "stream",
     "text": [
      "nan\n",
      "nan\n",
      "nan\n",
      "nan\n",
      "nan\n"
     ]
    },
    {
     "name": "stderr",
     "output_type": "stream",
     "text": [
      "\r",
      "  0%|▎                                                                                 | 3/686 [00:00<02:51,  3.98it/s]"
     ]
    },
    {
     "name": "stdout",
     "output_type": "stream",
     "text": [
      "nan\n",
      "nan\n",
      "nan\n",
      "nan\n",
      "nan\n"
     ]
    },
    {
     "name": "stderr",
     "output_type": "stream",
     "text": [
      "\r",
      "  1%|▍                                                                                 | 4/686 [00:01<03:00,  3.78it/s]"
     ]
    },
    {
     "name": "stdout",
     "output_type": "stream",
     "text": [
      "nan\n",
      "nan\n",
      "nan\n",
      "nan\n",
      "nan\n"
     ]
    },
    {
     "name": "stderr",
     "output_type": "stream",
     "text": [
      "\r",
      "  1%|▌                                                                                 | 5/686 [00:01<02:58,  3.82it/s]"
     ]
    },
    {
     "name": "stdout",
     "output_type": "stream",
     "text": [
      "nan\n",
      "nan\n",
      "nan\n",
      "nan\n",
      "nan\n"
     ]
    },
    {
     "name": "stderr",
     "output_type": "stream",
     "text": [
      "\r",
      "  1%|▋                                                                                 | 6/686 [00:01<02:54,  3.89it/s]"
     ]
    },
    {
     "name": "stdout",
     "output_type": "stream",
     "text": [
      "nan\n",
      "nan\n",
      "nan\n",
      "nan\n",
      "nan\n"
     ]
    },
    {
     "name": "stderr",
     "output_type": "stream",
     "text": [
      "\r",
      "  1%|▊                                                                                 | 7/686 [00:01<03:03,  3.70it/s]"
     ]
    },
    {
     "name": "stdout",
     "output_type": "stream",
     "text": [
      "nan\n",
      "nan\n",
      "nan\n",
      "nan\n",
      "nan\n"
     ]
    },
    {
     "name": "stderr",
     "output_type": "stream",
     "text": [
      "\r",
      "  1%|▉                                                                                 | 8/686 [00:02<03:13,  3.51it/s]"
     ]
    },
    {
     "name": "stdout",
     "output_type": "stream",
     "text": [
      "nan\n",
      "nan\n",
      "nan\n",
      "nan\n",
      "nan\n"
     ]
    },
    {
     "name": "stderr",
     "output_type": "stream",
     "text": [
      "\r",
      "  1%|█                                                                                 | 9/686 [00:02<03:14,  3.47it/s]"
     ]
    },
    {
     "name": "stdout",
     "output_type": "stream",
     "text": [
      "nan\n",
      "nan\n",
      "nan\n",
      "nan\n",
      "nan\n"
     ]
    },
    {
     "name": "stderr",
     "output_type": "stream",
     "text": [
      "\r",
      "  1%|█▏                                                                               | 10/686 [00:02<03:15,  3.45it/s]"
     ]
    },
    {
     "name": "stdout",
     "output_type": "stream",
     "text": [
      "nan\n",
      "nan\n",
      "nan\n",
      "nan\n",
      "nan\n"
     ]
    },
    {
     "name": "stderr",
     "output_type": "stream",
     "text": [
      "\r",
      "  2%|█▎                                                                               | 11/686 [00:03<03:12,  3.51it/s]"
     ]
    },
    {
     "name": "stdout",
     "output_type": "stream",
     "text": [
      "nan\n",
      "nan\n",
      "nan\n",
      "nan\n",
      "nan\n"
     ]
    },
    {
     "name": "stderr",
     "output_type": "stream",
     "text": [
      "\r",
      "  2%|█▍                                                                               | 12/686 [00:03<03:20,  3.36it/s]"
     ]
    },
    {
     "name": "stdout",
     "output_type": "stream",
     "text": [
      "nan\n",
      "nan\n",
      "nan\n",
      "nan\n",
      "nan\n"
     ]
    },
    {
     "name": "stderr",
     "output_type": "stream",
     "text": [
      "\r",
      "  2%|█▌                                                                               | 13/686 [00:03<03:21,  3.34it/s]"
     ]
    },
    {
     "name": "stdout",
     "output_type": "stream",
     "text": [
      "nan\n",
      "nan\n",
      "nan\n",
      "nan\n",
      "nan\n"
     ]
    },
    {
     "name": "stderr",
     "output_type": "stream",
     "text": [
      "\r",
      "  2%|█▋                                                                               | 14/686 [00:03<03:15,  3.43it/s]"
     ]
    },
    {
     "name": "stdout",
     "output_type": "stream",
     "text": [
      "nan\n",
      "nan\n",
      "nan\n",
      "nan\n",
      "nan\n"
     ]
    },
    {
     "name": "stderr",
     "output_type": "stream",
     "text": [
      "\r",
      "  2%|█▊                                                                               | 15/686 [00:04<03:13,  3.46it/s]"
     ]
    },
    {
     "name": "stdout",
     "output_type": "stream",
     "text": [
      "nan\n",
      "nan\n",
      "nan\n",
      "nan\n",
      "nan\n"
     ]
    },
    {
     "name": "stderr",
     "output_type": "stream",
     "text": [
      "\r",
      "  2%|█▉                                                                               | 16/686 [00:04<03:18,  3.37it/s]"
     ]
    },
    {
     "name": "stdout",
     "output_type": "stream",
     "text": [
      "nan\n",
      "nan\n",
      "nan\n",
      "nan\n",
      "nan\n"
     ]
    },
    {
     "name": "stderr",
     "output_type": "stream",
     "text": [
      "\r",
      "  2%|██                                                                               | 17/686 [00:04<03:21,  3.31it/s]"
     ]
    },
    {
     "name": "stdout",
     "output_type": "stream",
     "text": [
      "nan\n",
      "nan\n",
      "nan\n",
      "nan\n",
      "nan\n"
     ]
    },
    {
     "name": "stderr",
     "output_type": "stream",
     "text": [
      "\r",
      "  3%|██▏                                                                              | 18/686 [00:05<03:24,  3.27it/s]"
     ]
    },
    {
     "name": "stdout",
     "output_type": "stream",
     "text": [
      "nan\n",
      "5.0\n",
      "nan\n",
      "nan\n",
      "nan\n"
     ]
    },
    {
     "name": "stderr",
     "output_type": "stream",
     "text": [
      "\r",
      "  3%|██▏                                                                              | 19/686 [00:05<03:27,  3.21it/s]"
     ]
    },
    {
     "name": "stdout",
     "output_type": "stream",
     "text": [
      "nan\n",
      "nan\n",
      "nan\n",
      "nan\n",
      "nan\n"
     ]
    },
    {
     "name": "stderr",
     "output_type": "stream",
     "text": [
      "\r",
      "  3%|██▎                                                                              | 20/686 [00:05<03:25,  3.25it/s]"
     ]
    },
    {
     "name": "stdout",
     "output_type": "stream",
     "text": [
      "nan\n",
      "nan\n",
      "nan\n",
      "nan\n",
      "nan\n"
     ]
    },
    {
     "name": "stderr",
     "output_type": "stream",
     "text": [
      "\r",
      "  3%|██▍                                                                              | 21/686 [00:06<03:15,  3.41it/s]"
     ]
    },
    {
     "name": "stdout",
     "output_type": "stream",
     "text": [
      "nan\n",
      "nan\n",
      "nan\n",
      "nan\n",
      "nan\n"
     ]
    },
    {
     "name": "stderr",
     "output_type": "stream",
     "text": [
      "\r",
      "  3%|██▌                                                                              | 22/686 [00:06<03:14,  3.41it/s]"
     ]
    },
    {
     "name": "stdout",
     "output_type": "stream",
     "text": [
      "nan\n",
      "3.0\n",
      "nan\n",
      "nan\n",
      "nan\n"
     ]
    },
    {
     "name": "stderr",
     "output_type": "stream",
     "text": [
      "\r",
      "  3%|██▋                                                                              | 23/686 [00:06<03:14,  3.40it/s]"
     ]
    },
    {
     "name": "stdout",
     "output_type": "stream",
     "text": [
      "nan\n",
      "nan\n",
      "nan\n",
      "nan\n",
      "nan\n"
     ]
    },
    {
     "name": "stderr",
     "output_type": "stream",
     "text": [
      "\r",
      "  3%|██▊                                                                              | 24/686 [00:06<03:27,  3.19it/s]"
     ]
    },
    {
     "name": "stdout",
     "output_type": "stream",
     "text": [
      "nan\n",
      "nan\n",
      "nan\n",
      "nan\n",
      "nan\n"
     ]
    },
    {
     "name": "stderr",
     "output_type": "stream",
     "text": [
      "\r",
      "  4%|██▉                                                                              | 25/686 [00:07<03:41,  2.98it/s]"
     ]
    },
    {
     "name": "stdout",
     "output_type": "stream",
     "text": [
      "nan\n",
      "4.0\n",
      "4.0\n",
      "nan\n",
      "5.0\n"
     ]
    },
    {
     "name": "stderr",
     "output_type": "stream",
     "text": [
      "\r",
      "  4%|███                                                                              | 26/686 [00:07<03:38,  3.02it/s]"
     ]
    },
    {
     "name": "stdout",
     "output_type": "stream",
     "text": [
      "nan\n",
      "nan\n",
      "nan\n",
      "4.0\n",
      "nan\n"
     ]
    },
    {
     "name": "stderr",
     "output_type": "stream",
     "text": [
      "\r",
      "  4%|███▏                                                                             | 27/686 [00:07<03:24,  3.22it/s]"
     ]
    },
    {
     "name": "stdout",
     "output_type": "stream",
     "text": [
      "nan\n",
      "nan\n",
      "nan\n",
      "nan\n",
      "nan\n"
     ]
    },
    {
     "name": "stderr",
     "output_type": "stream",
     "text": [
      "\r",
      "  4%|███▎                                                                             | 28/686 [00:08<03:23,  3.23it/s]"
     ]
    },
    {
     "name": "stdout",
     "output_type": "stream",
     "text": [
      "nan\n",
      "nan\n",
      "nan\n",
      "nan\n",
      "nan\n"
     ]
    },
    {
     "name": "stderr",
     "output_type": "stream",
     "text": [
      "\r",
      "  4%|███▍                                                                             | 29/686 [00:08<03:26,  3.18it/s]"
     ]
    },
    {
     "name": "stdout",
     "output_type": "stream",
     "text": [
      "nan\n",
      "nan\n",
      "nan\n",
      "nan\n",
      "nan\n"
     ]
    },
    {
     "name": "stderr",
     "output_type": "stream",
     "text": [
      "\r",
      "  4%|███▌                                                                             | 30/686 [00:08<03:23,  3.22it/s]"
     ]
    },
    {
     "name": "stdout",
     "output_type": "stream",
     "text": [
      "nan\n",
      "nan\n",
      "nan\n",
      "nan\n",
      "nan\n"
     ]
    },
    {
     "name": "stderr",
     "output_type": "stream",
     "text": [
      "\r",
      "  5%|███▋                                                                             | 31/686 [00:09<03:19,  3.29it/s]"
     ]
    },
    {
     "name": "stdout",
     "output_type": "stream",
     "text": [
      "nan\n",
      "nan\n",
      "nan\n",
      "nan\n",
      "nan\n"
     ]
    },
    {
     "name": "stderr",
     "output_type": "stream",
     "text": [
      "\r",
      "  5%|███▊                                                                             | 32/686 [00:09<03:09,  3.46it/s]"
     ]
    },
    {
     "name": "stdout",
     "output_type": "stream",
     "text": [
      "nan\n",
      "nan\n",
      "nan\n",
      "nan\n",
      "nan\n"
     ]
    },
    {
     "name": "stderr",
     "output_type": "stream",
     "text": [
      "\r",
      "  5%|███▉                                                                             | 33/686 [00:09<03:03,  3.57it/s]"
     ]
    },
    {
     "name": "stdout",
     "output_type": "stream",
     "text": [
      "nan\n",
      "nan\n",
      "nan\n",
      "nan\n",
      "nan\n"
     ]
    },
    {
     "name": "stderr",
     "output_type": "stream",
     "text": [
      "\r",
      "  5%|████                                                                             | 34/686 [00:10<03:12,  3.38it/s]"
     ]
    },
    {
     "name": "stdout",
     "output_type": "stream",
     "text": [
      "nan\n",
      "nan\n",
      "nan\n",
      "nan\n",
      "nan\n"
     ]
    },
    {
     "name": "stderr",
     "output_type": "stream",
     "text": [
      "\r",
      "  5%|████▏                                                                            | 35/686 [00:10<03:08,  3.45it/s]"
     ]
    },
    {
     "name": "stdout",
     "output_type": "stream",
     "text": [
      "nan\n",
      "nan\n",
      "nan\n",
      "nan\n",
      "nan\n"
     ]
    },
    {
     "name": "stderr",
     "output_type": "stream",
     "text": [
      "\r",
      "  5%|████▎                                                                            | 36/686 [00:10<02:59,  3.61it/s]"
     ]
    },
    {
     "name": "stdout",
     "output_type": "stream",
     "text": [
      "nan\n",
      "nan\n",
      "nan\n",
      "nan\n",
      "nan\n"
     ]
    },
    {
     "name": "stderr",
     "output_type": "stream",
     "text": [
      "\r",
      "  5%|████▎                                                                            | 37/686 [00:10<03:21,  3.22it/s]"
     ]
    },
    {
     "name": "stdout",
     "output_type": "stream",
     "text": [
      "nan\n",
      "nan\n",
      "nan\n",
      "nan\n",
      "nan\n"
     ]
    },
    {
     "name": "stderr",
     "output_type": "stream",
     "text": [
      "\r",
      "  6%|████▍                                                                            | 38/686 [00:11<03:34,  3.02it/s]"
     ]
    },
    {
     "name": "stdout",
     "output_type": "stream",
     "text": [
      "nan\n",
      "nan\n",
      "nan\n",
      "nan\n",
      "nan\n"
     ]
    },
    {
     "name": "stderr",
     "output_type": "stream",
     "text": [
      "\r",
      "  6%|████▌                                                                            | 39/686 [00:11<03:35,  3.00it/s]"
     ]
    },
    {
     "name": "stdout",
     "output_type": "stream",
     "text": [
      "nan\n",
      "nan\n",
      "nan\n",
      "nan\n",
      "nan\n"
     ]
    },
    {
     "name": "stderr",
     "output_type": "stream",
     "text": [
      "\r",
      "  6%|████▋                                                                            | 40/686 [00:11<03:36,  2.98it/s]"
     ]
    },
    {
     "name": "stdout",
     "output_type": "stream",
     "text": [
      "nan\n",
      "nan\n",
      "nan\n",
      "nan\n",
      "nan\n"
     ]
    },
    {
     "name": "stderr",
     "output_type": "stream",
     "text": [
      "\r",
      "  6%|████▊                                                                            | 41/686 [00:12<03:39,  2.94it/s]"
     ]
    },
    {
     "name": "stdout",
     "output_type": "stream",
     "text": [
      "nan\n",
      "nan\n",
      "nan\n",
      "nan\n",
      "nan\n"
     ]
    },
    {
     "name": "stderr",
     "output_type": "stream",
     "text": [
      "\r",
      "  6%|████▉                                                                            | 42/686 [00:12<03:38,  2.95it/s]"
     ]
    },
    {
     "name": "stdout",
     "output_type": "stream",
     "text": [
      "nan\n",
      "nan\n",
      "nan\n",
      "nan\n",
      "nan\n"
     ]
    },
    {
     "name": "stderr",
     "output_type": "stream",
     "text": [
      "\r",
      "  6%|█████                                                                            | 43/686 [00:13<03:54,  2.74it/s]"
     ]
    },
    {
     "name": "stdout",
     "output_type": "stream",
     "text": [
      "nan\n",
      "nan\n",
      "nan\n",
      "nan\n",
      "nan\n"
     ]
    },
    {
     "name": "stderr",
     "output_type": "stream",
     "text": [
      "\r",
      "  6%|█████▏                                                                           | 44/686 [00:13<04:15,  2.51it/s]"
     ]
    },
    {
     "name": "stdout",
     "output_type": "stream",
     "text": [
      "nan\n",
      "nan\n",
      "nan\n",
      "nan\n",
      "nan\n"
     ]
    },
    {
     "name": "stderr",
     "output_type": "stream",
     "text": [
      "\r",
      "  7%|█████▎                                                                           | 45/686 [00:14<05:04,  2.11it/s]"
     ]
    },
    {
     "name": "stdout",
     "output_type": "stream",
     "text": [
      "nan\n",
      "nan\n",
      "nan\n",
      "nan\n",
      "nan\n"
     ]
    },
    {
     "name": "stderr",
     "output_type": "stream",
     "text": [
      "\r",
      "  7%|█████▍                                                                           | 46/686 [00:14<04:45,  2.25it/s]"
     ]
    },
    {
     "name": "stdout",
     "output_type": "stream",
     "text": [
      "nan\n",
      "nan\n",
      "nan\n",
      "nan\n",
      "nan\n"
     ]
    },
    {
     "name": "stderr",
     "output_type": "stream",
     "text": [
      "\r",
      "  7%|█████▌                                                                           | 47/686 [00:14<04:26,  2.40it/s]"
     ]
    },
    {
     "name": "stdout",
     "output_type": "stream",
     "text": [
      "nan\n",
      "nan\n",
      "nan\n",
      "nan\n",
      "nan\n"
     ]
    },
    {
     "name": "stderr",
     "output_type": "stream",
     "text": [
      "\r",
      "  7%|█████▋                                                                           | 48/686 [00:15<04:18,  2.47it/s]"
     ]
    },
    {
     "name": "stdout",
     "output_type": "stream",
     "text": [
      "nan\n",
      "nan\n",
      "nan\n",
      "nan\n",
      "nan\n"
     ]
    },
    {
     "name": "stderr",
     "output_type": "stream",
     "text": [
      "\r",
      "  7%|█████▊                                                                           | 49/686 [00:15<04:02,  2.63it/s]"
     ]
    },
    {
     "name": "stdout",
     "output_type": "stream",
     "text": [
      "3.0\n",
      "nan\n",
      "nan\n",
      "nan\n",
      "nan\n"
     ]
    },
    {
     "name": "stderr",
     "output_type": "stream",
     "text": [
      "\r",
      "  7%|█████▉                                                                           | 50/686 [00:16<04:01,  2.64it/s]"
     ]
    },
    {
     "name": "stdout",
     "output_type": "stream",
     "text": [
      "nan\n",
      "nan\n",
      "nan\n",
      "nan\n",
      "nan\n"
     ]
    },
    {
     "name": "stderr",
     "output_type": "stream",
     "text": [
      "\r",
      "  7%|██████                                                                           | 51/686 [00:16<03:57,  2.67it/s]"
     ]
    },
    {
     "name": "stdout",
     "output_type": "stream",
     "text": [
      "nan\n",
      "nan\n",
      "nan\n",
      "nan\n",
      "nan\n"
     ]
    },
    {
     "name": "stderr",
     "output_type": "stream",
     "text": [
      "\r",
      "  8%|██████▏                                                                          | 52/686 [00:16<03:53,  2.71it/s]"
     ]
    },
    {
     "name": "stdout",
     "output_type": "stream",
     "text": [
      "nan\n",
      "nan\n",
      "nan\n",
      "nan\n",
      "nan\n"
     ]
    },
    {
     "name": "stderr",
     "output_type": "stream",
     "text": [
      "\r",
      "  8%|██████▎                                                                          | 53/686 [00:17<03:49,  2.75it/s]"
     ]
    },
    {
     "name": "stdout",
     "output_type": "stream",
     "text": [
      "nan\n",
      "4.0\n",
      "nan\n",
      "nan\n",
      "nan\n"
     ]
    },
    {
     "name": "stderr",
     "output_type": "stream",
     "text": [
      "\r",
      "  8%|██████▍                                                                          | 54/686 [00:17<04:20,  2.43it/s]"
     ]
    },
    {
     "name": "stdout",
     "output_type": "stream",
     "text": [
      "nan\n",
      "nan\n",
      "nan\n",
      "nan\n",
      "nan\n"
     ]
    },
    {
     "name": "stderr",
     "output_type": "stream",
     "text": [
      "\r",
      "  8%|██████▍                                                                          | 55/686 [00:17<03:51,  2.72it/s]"
     ]
    },
    {
     "name": "stdout",
     "output_type": "stream",
     "text": [
      "nan\n",
      "nan\n",
      "nan\n",
      "nan\n",
      "nan\n"
     ]
    },
    {
     "name": "stderr",
     "output_type": "stream",
     "text": [
      "\r",
      "  8%|██████▌                                                                          | 56/686 [00:18<03:45,  2.80it/s]"
     ]
    },
    {
     "name": "stdout",
     "output_type": "stream",
     "text": [
      "nan\n",
      "nan\n",
      "nan\n",
      "nan\n",
      "nan\n"
     ]
    },
    {
     "name": "stderr",
     "output_type": "stream",
     "text": [
      "\r",
      "  8%|██████▋                                                                          | 57/686 [00:18<03:33,  2.95it/s]"
     ]
    },
    {
     "name": "stdout",
     "output_type": "stream",
     "text": [
      "nan\n",
      "nan\n",
      "nan\n",
      "nan\n",
      "nan\n"
     ]
    },
    {
     "name": "stderr",
     "output_type": "stream",
     "text": [
      "\r",
      "  8%|██████▊                                                                          | 58/686 [00:18<03:24,  3.07it/s]"
     ]
    },
    {
     "name": "stdout",
     "output_type": "stream",
     "text": [
      "nan\n",
      "nan\n",
      "nan\n",
      "nan\n",
      "nan\n"
     ]
    },
    {
     "name": "stderr",
     "output_type": "stream",
     "text": [
      "\r",
      "  9%|██████▉                                                                          | 59/686 [00:19<03:23,  3.08it/s]"
     ]
    },
    {
     "name": "stdout",
     "output_type": "stream",
     "text": [
      "5.0\n",
      "nan\n",
      "nan\n",
      "nan\n",
      "nan\n"
     ]
    },
    {
     "name": "stderr",
     "output_type": "stream",
     "text": [
      "\r",
      "  9%|███████                                                                          | 60/686 [00:19<03:33,  2.93it/s]"
     ]
    },
    {
     "name": "stdout",
     "output_type": "stream",
     "text": [
      "nan\n",
      "nan\n",
      "nan\n",
      "nan\n",
      "nan\n"
     ]
    },
    {
     "name": "stderr",
     "output_type": "stream",
     "text": [
      "\r",
      "  9%|███████▏                                                                         | 61/686 [00:19<03:23,  3.07it/s]"
     ]
    },
    {
     "name": "stdout",
     "output_type": "stream",
     "text": [
      "nan\n",
      "nan\n",
      "nan\n",
      "nan\n",
      "4.0\n"
     ]
    },
    {
     "name": "stderr",
     "output_type": "stream",
     "text": [
      "\r",
      "  9%|███████▎                                                                         | 62/686 [00:20<03:11,  3.25it/s]"
     ]
    },
    {
     "name": "stdout",
     "output_type": "stream",
     "text": [
      "nan\n",
      "nan\n",
      "nan\n",
      "nan\n",
      "nan\n"
     ]
    },
    {
     "name": "stderr",
     "output_type": "stream",
     "text": [
      "\r",
      "  9%|███████▍                                                                         | 63/686 [00:20<03:00,  3.46it/s]"
     ]
    },
    {
     "name": "stdout",
     "output_type": "stream",
     "text": [
      "nan\n",
      "nan\n",
      "nan\n",
      "nan\n",
      "nan\n"
     ]
    },
    {
     "name": "stderr",
     "output_type": "stream",
     "text": [
      "\r",
      "  9%|███████▌                                                                         | 64/686 [00:20<02:52,  3.61it/s]"
     ]
    },
    {
     "name": "stdout",
     "output_type": "stream",
     "text": [
      "nan\n",
      "nan\n",
      "nan\n",
      "nan\n",
      "nan\n"
     ]
    },
    {
     "name": "stderr",
     "output_type": "stream",
     "text": [
      "\r",
      "  9%|███████▋                                                                         | 65/686 [00:20<02:46,  3.73it/s]"
     ]
    },
    {
     "name": "stdout",
     "output_type": "stream",
     "text": [
      "nan\n",
      "nan\n",
      "nan\n",
      "nan\n",
      "nan\n"
     ]
    },
    {
     "name": "stderr",
     "output_type": "stream",
     "text": [
      "\r",
      " 10%|███████▊                                                                         | 66/686 [00:21<02:43,  3.79it/s]"
     ]
    },
    {
     "name": "stdout",
     "output_type": "stream",
     "text": [
      "nan\n",
      "nan\n",
      "nan\n",
      "nan\n",
      "nan\n"
     ]
    },
    {
     "name": "stderr",
     "output_type": "stream",
     "text": [
      "\r",
      " 10%|███████▉                                                                         | 67/686 [00:21<02:39,  3.87it/s]"
     ]
    },
    {
     "name": "stdout",
     "output_type": "stream",
     "text": [
      "nan\n",
      "nan\n",
      "nan\n",
      "nan\n",
      "nan\n"
     ]
    },
    {
     "name": "stderr",
     "output_type": "stream",
     "text": [
      "\r",
      " 10%|████████                                                                         | 68/686 [00:21<02:51,  3.61it/s]"
     ]
    },
    {
     "name": "stdout",
     "output_type": "stream",
     "text": [
      "nan\n",
      "nan\n",
      "nan\n",
      "nan\n",
      "nan\n"
     ]
    },
    {
     "name": "stderr",
     "output_type": "stream",
     "text": [
      "\r",
      " 10%|████████▏                                                                        | 69/686 [00:21<02:48,  3.65it/s]"
     ]
    },
    {
     "name": "stdout",
     "output_type": "stream",
     "text": [
      "nan\n",
      "nan\n",
      "nan\n",
      "nan\n",
      "nan\n"
     ]
    },
    {
     "name": "stderr",
     "output_type": "stream",
     "text": [
      "\r",
      " 10%|████████▎                                                                        | 70/686 [00:22<02:42,  3.78it/s]"
     ]
    },
    {
     "name": "stdout",
     "output_type": "stream",
     "text": [
      "nan\n",
      "nan\n",
      "nan\n",
      "5.0\n",
      "nan\n"
     ]
    },
    {
     "name": "stderr",
     "output_type": "stream",
     "text": [
      "\r",
      " 10%|████████▍                                                                        | 71/686 [00:22<02:37,  3.90it/s]"
     ]
    },
    {
     "name": "stdout",
     "output_type": "stream",
     "text": [
      "nan\n",
      "nan\n",
      "nan\n",
      "nan\n",
      "nan\n"
     ]
    },
    {
     "name": "stderr",
     "output_type": "stream",
     "text": [
      "\r",
      " 10%|████████▌                                                                        | 72/686 [00:22<02:34,  3.97it/s]"
     ]
    },
    {
     "name": "stdout",
     "output_type": "stream",
     "text": [
      "nan\n",
      "nan\n",
      "nan\n",
      "nan\n",
      "nan\n"
     ]
    },
    {
     "name": "stderr",
     "output_type": "stream",
     "text": [
      "\r",
      " 11%|████████▌                                                                        | 73/686 [00:22<02:38,  3.86it/s]"
     ]
    },
    {
     "name": "stdout",
     "output_type": "stream",
     "text": [
      "nan\n",
      "nan\n",
      "nan\n",
      "nan\n",
      "nan\n"
     ]
    },
    {
     "name": "stderr",
     "output_type": "stream",
     "text": [
      "\r",
      " 11%|████████▋                                                                        | 74/686 [00:23<03:35,  2.84it/s]"
     ]
    },
    {
     "name": "stdout",
     "output_type": "stream",
     "text": [
      "nan\n",
      "nan\n",
      "nan\n",
      "nan\n",
      "nan\n"
     ]
    },
    {
     "name": "stderr",
     "output_type": "stream",
     "text": [
      "\r",
      " 11%|████████▊                                                                        | 75/686 [00:23<03:41,  2.76it/s]"
     ]
    },
    {
     "name": "stdout",
     "output_type": "stream",
     "text": [
      "nan\n",
      "nan\n",
      "nan\n",
      "nan\n",
      "nan\n"
     ]
    },
    {
     "name": "stderr",
     "output_type": "stream",
     "text": [
      "\r",
      " 11%|████████▉                                                                        | 76/686 [00:24<03:28,  2.93it/s]"
     ]
    },
    {
     "name": "stdout",
     "output_type": "stream",
     "text": [
      "nan\n",
      "nan\n",
      "nan\n",
      "nan\n",
      "nan\n"
     ]
    },
    {
     "name": "stderr",
     "output_type": "stream",
     "text": [
      "\r",
      " 11%|█████████                                                                        | 77/686 [00:24<03:18,  3.06it/s]"
     ]
    },
    {
     "name": "stdout",
     "output_type": "stream",
     "text": [
      "nan\n",
      "nan\n",
      "nan\n",
      "nan\n",
      "nan\n"
     ]
    },
    {
     "name": "stderr",
     "output_type": "stream",
     "text": [
      "\r",
      " 11%|█████████▏                                                                       | 78/686 [00:24<03:15,  3.11it/s]"
     ]
    },
    {
     "name": "stdout",
     "output_type": "stream",
     "text": [
      "nan\n",
      "nan\n",
      "nan\n",
      "nan\n",
      "nan\n"
     ]
    },
    {
     "name": "stderr",
     "output_type": "stream",
     "text": [
      "\r",
      " 12%|█████████▎                                                                       | 79/686 [00:25<03:10,  3.18it/s]"
     ]
    },
    {
     "name": "stdout",
     "output_type": "stream",
     "text": [
      "nan\n",
      "nan\n",
      "nan\n",
      "nan\n",
      "4.0\n"
     ]
    },
    {
     "name": "stderr",
     "output_type": "stream",
     "text": [
      "\r",
      " 12%|█████████▍                                                                       | 80/686 [00:25<03:19,  3.03it/s]"
     ]
    },
    {
     "name": "stdout",
     "output_type": "stream",
     "text": [
      "nan\n",
      "nan\n",
      "nan\n",
      "nan\n",
      "nan\n"
     ]
    },
    {
     "name": "stderr",
     "output_type": "stream",
     "text": [
      "\r",
      " 12%|█████████▌                                                                       | 81/686 [00:25<03:14,  3.11it/s]"
     ]
    },
    {
     "name": "stdout",
     "output_type": "stream",
     "text": [
      "nan\n",
      "nan\n",
      "nan\n",
      "nan\n",
      "nan\n"
     ]
    },
    {
     "name": "stderr",
     "output_type": "stream",
     "text": [
      "\r",
      " 12%|█████████▋                                                                       | 82/686 [00:26<03:10,  3.17it/s]"
     ]
    },
    {
     "name": "stdout",
     "output_type": "stream",
     "text": [
      "nan\n",
      "nan\n",
      "nan\n",
      "nan\n",
      "nan\n"
     ]
    },
    {
     "name": "stderr",
     "output_type": "stream",
     "text": [
      "\r",
      " 12%|█████████▊                                                                       | 83/686 [00:26<03:01,  3.32it/s]"
     ]
    },
    {
     "name": "stdout",
     "output_type": "stream",
     "text": [
      "nan\n",
      "nan\n",
      "nan\n",
      "nan\n",
      "nan\n"
     ]
    },
    {
     "name": "stderr",
     "output_type": "stream",
     "text": [
      "\r",
      " 12%|█████████▉                                                                       | 84/686 [00:26<03:58,  2.52it/s]"
     ]
    },
    {
     "name": "stdout",
     "output_type": "stream",
     "text": [
      "nan\n",
      "nan\n",
      "nan\n",
      "nan\n",
      "nan\n"
     ]
    },
    {
     "name": "stderr",
     "output_type": "stream",
     "text": [
      "\r",
      " 12%|██████████                                                                       | 85/686 [00:27<03:59,  2.51it/s]"
     ]
    },
    {
     "name": "stdout",
     "output_type": "stream",
     "text": [
      "nan\n",
      "nan\n",
      "nan\n",
      "nan\n",
      "nan\n"
     ]
    },
    {
     "name": "stderr",
     "output_type": "stream",
     "text": [
      "\r",
      " 13%|██████████▏                                                                      | 86/686 [00:27<03:58,  2.51it/s]"
     ]
    },
    {
     "name": "stdout",
     "output_type": "stream",
     "text": [
      "nan\n",
      "nan\n",
      "nan\n",
      "nan\n",
      "nan\n"
     ]
    },
    {
     "name": "stderr",
     "output_type": "stream",
     "text": [
      "\r",
      " 13%|██████████▎                                                                      | 87/686 [00:27<03:37,  2.76it/s]"
     ]
    },
    {
     "name": "stdout",
     "output_type": "stream",
     "text": [
      "nan\n",
      "nan\n",
      "nan\n",
      "nan\n",
      "nan\n"
     ]
    },
    {
     "name": "stderr",
     "output_type": "stream",
     "text": [
      "\r",
      " 13%|██████████▍                                                                      | 88/686 [00:28<03:23,  2.95it/s]"
     ]
    },
    {
     "name": "stdout",
     "output_type": "stream",
     "text": [
      "nan\n",
      "nan\n",
      "nan\n",
      "nan\n",
      "nan\n"
     ]
    },
    {
     "name": "stderr",
     "output_type": "stream",
     "text": [
      "\r",
      " 13%|██████████▌                                                                      | 89/686 [00:28<03:09,  3.14it/s]"
     ]
    },
    {
     "name": "stdout",
     "output_type": "stream",
     "text": [
      "nan\n",
      "nan\n",
      "nan\n",
      "nan\n",
      "nan\n"
     ]
    },
    {
     "name": "stderr",
     "output_type": "stream",
     "text": [
      "\r",
      " 13%|██████████▋                                                                      | 90/686 [00:28<03:09,  3.15it/s]"
     ]
    },
    {
     "name": "stdout",
     "output_type": "stream",
     "text": [
      "nan\n",
      "nan\n",
      "nan\n",
      "nan\n",
      "nan\n"
     ]
    },
    {
     "name": "stderr",
     "output_type": "stream",
     "text": [
      "\r",
      " 13%|██████████▋                                                                      | 91/686 [00:29<03:05,  3.20it/s]"
     ]
    },
    {
     "name": "stdout",
     "output_type": "stream",
     "text": [
      "nan\n",
      "nan\n",
      "nan\n",
      "nan\n",
      "nan\n"
     ]
    },
    {
     "name": "stderr",
     "output_type": "stream",
     "text": [
      "\r",
      " 13%|██████████▊                                                                      | 92/686 [00:29<03:06,  3.18it/s]"
     ]
    },
    {
     "name": "stdout",
     "output_type": "stream",
     "text": [
      "nan\n",
      "nan\n",
      "nan\n",
      "nan\n",
      "nan\n"
     ]
    },
    {
     "name": "stderr",
     "output_type": "stream",
     "text": [
      "\r",
      " 14%|██████████▉                                                                      | 93/686 [00:29<02:59,  3.30it/s]"
     ]
    },
    {
     "name": "stdout",
     "output_type": "stream",
     "text": [
      "nan\n",
      "nan\n",
      "nan\n",
      "nan\n",
      "nan\n"
     ]
    },
    {
     "name": "stderr",
     "output_type": "stream",
     "text": [
      "\r",
      " 14%|███████████                                                                      | 94/686 [00:30<02:53,  3.42it/s]"
     ]
    },
    {
     "name": "stdout",
     "output_type": "stream",
     "text": [
      "nan\n",
      "nan\n",
      "nan\n",
      "nan\n",
      "nan\n"
     ]
    },
    {
     "name": "stderr",
     "output_type": "stream",
     "text": [
      "\r",
      " 14%|███████████▏                                                                     | 95/686 [00:30<03:00,  3.28it/s]"
     ]
    },
    {
     "name": "stdout",
     "output_type": "stream",
     "text": [
      "nan\n",
      "nan\n",
      "nan\n",
      "nan\n",
      "4.0\n"
     ]
    },
    {
     "name": "stderr",
     "output_type": "stream",
     "text": [
      "\r",
      " 14%|███████████▎                                                                     | 96/686 [00:30<02:51,  3.44it/s]"
     ]
    },
    {
     "name": "stdout",
     "output_type": "stream",
     "text": [
      "nan\n",
      "nan\n",
      "nan\n",
      "nan\n",
      "nan\n"
     ]
    },
    {
     "name": "stderr",
     "output_type": "stream",
     "text": [
      "\r",
      " 14%|███████████▍                                                                     | 97/686 [00:30<02:45,  3.56it/s]"
     ]
    },
    {
     "name": "stdout",
     "output_type": "stream",
     "text": [
      "nan\n",
      "nan\n",
      "3.0\n",
      "nan\n",
      "nan\n"
     ]
    },
    {
     "name": "stderr",
     "output_type": "stream",
     "text": [
      "\r",
      " 14%|███████████▌                                                                     | 98/686 [00:31<02:41,  3.65it/s]"
     ]
    },
    {
     "name": "stdout",
     "output_type": "stream",
     "text": [
      "nan\n",
      "nan\n",
      "nan\n",
      "nan\n",
      "nan\n"
     ]
    },
    {
     "name": "stderr",
     "output_type": "stream",
     "text": [
      "\r",
      " 14%|███████████▋                                                                     | 99/686 [00:31<03:27,  2.83it/s]"
     ]
    },
    {
     "name": "stdout",
     "output_type": "stream",
     "text": [
      "nan\n",
      "nan\n",
      "nan\n",
      "nan\n",
      "nan\n"
     ]
    },
    {
     "name": "stderr",
     "output_type": "stream",
     "text": [
      "\r",
      " 15%|███████████▋                                                                    | 100/686 [00:32<03:32,  2.75it/s]"
     ]
    },
    {
     "name": "stdout",
     "output_type": "stream",
     "text": [
      "nan\n",
      "4.0\n",
      "nan\n",
      "nan\n",
      "nan\n"
     ]
    },
    {
     "name": "stderr",
     "output_type": "stream",
     "text": [
      "\r",
      " 15%|███████████▊                                                                    | 101/686 [00:32<03:29,  2.79it/s]"
     ]
    },
    {
     "name": "stdout",
     "output_type": "stream",
     "text": [
      "nan\n",
      "nan\n",
      "nan\n",
      "nan\n",
      "nan\n"
     ]
    },
    {
     "name": "stderr",
     "output_type": "stream",
     "text": [
      "\r",
      " 15%|███████████▉                                                                    | 102/686 [00:32<03:54,  2.49it/s]"
     ]
    },
    {
     "name": "stdout",
     "output_type": "stream",
     "text": [
      "nan\n",
      "nan\n",
      "nan\n",
      "nan\n",
      "nan\n"
     ]
    },
    {
     "name": "stderr",
     "output_type": "stream",
     "text": [
      "\r",
      " 15%|████████████                                                                    | 103/686 [00:33<03:32,  2.74it/s]"
     ]
    },
    {
     "name": "stdout",
     "output_type": "stream",
     "text": [
      "nan\n",
      "nan\n",
      "nan\n",
      "nan\n",
      "nan\n"
     ]
    },
    {
     "name": "stderr",
     "output_type": "stream",
     "text": [
      "\r",
      " 15%|████████████▏                                                                   | 104/686 [00:33<03:53,  2.49it/s]"
     ]
    },
    {
     "name": "stdout",
     "output_type": "stream",
     "text": [
      "nan\n",
      "nan\n",
      "nan\n",
      "nan\n",
      "nan\n"
     ]
    },
    {
     "name": "stderr",
     "output_type": "stream",
     "text": [
      "\r",
      " 15%|████████████▏                                                                   | 105/686 [00:33<03:28,  2.78it/s]"
     ]
    },
    {
     "name": "stdout",
     "output_type": "stream",
     "text": [
      "nan\n",
      "nan\n",
      "nan\n",
      "nan\n",
      "nan\n"
     ]
    },
    {
     "name": "stderr",
     "output_type": "stream",
     "text": [
      "\r",
      " 15%|████████████▎                                                                   | 106/686 [00:34<03:10,  3.04it/s]"
     ]
    },
    {
     "name": "stdout",
     "output_type": "stream",
     "text": [
      "nan\n",
      "nan\n",
      "nan\n",
      "nan\n",
      "nan\n"
     ]
    },
    {
     "name": "stderr",
     "output_type": "stream",
     "text": [
      "\r",
      " 16%|████████████▍                                                                   | 107/686 [00:34<03:06,  3.11it/s]"
     ]
    },
    {
     "name": "stdout",
     "output_type": "stream",
     "text": [
      "nan\n",
      "nan\n",
      "nan\n",
      "nan\n",
      "nan\n"
     ]
    },
    {
     "name": "stderr",
     "output_type": "stream",
     "text": [
      "\r",
      " 16%|████████████▌                                                                   | 108/686 [00:34<02:58,  3.24it/s]"
     ]
    },
    {
     "name": "stdout",
     "output_type": "stream",
     "text": [
      "nan\n",
      "nan\n",
      "nan\n",
      "nan\n",
      "nan\n"
     ]
    },
    {
     "name": "stderr",
     "output_type": "stream",
     "text": [
      "\r",
      " 16%|████████████▋                                                                   | 109/686 [00:35<02:45,  3.49it/s]"
     ]
    },
    {
     "name": "stdout",
     "output_type": "stream",
     "text": [
      "nan\n",
      "nan\n",
      "nan\n",
      "nan\n",
      "nan\n"
     ]
    },
    {
     "name": "stderr",
     "output_type": "stream",
     "text": [
      "\r",
      " 16%|████████████▊                                                                   | 110/686 [00:35<02:58,  3.22it/s]"
     ]
    },
    {
     "name": "stdout",
     "output_type": "stream",
     "text": [
      "nan\n",
      "nan\n",
      "nan\n",
      "nan\n",
      "nan\n"
     ]
    },
    {
     "name": "stderr",
     "output_type": "stream",
     "text": [
      "\r",
      " 16%|████████████▉                                                                   | 111/686 [00:35<02:53,  3.31it/s]"
     ]
    },
    {
     "name": "stdout",
     "output_type": "stream",
     "text": [
      "nan\n",
      "nan\n",
      "nan\n",
      "nan\n",
      "nan\n"
     ]
    },
    {
     "name": "stderr",
     "output_type": "stream",
     "text": [
      "\r",
      " 16%|█████████████                                                                   | 112/686 [00:35<02:48,  3.41it/s]"
     ]
    },
    {
     "name": "stdout",
     "output_type": "stream",
     "text": [
      "nan\n",
      "nan\n",
      "nan\n",
      "nan\n",
      "nan\n"
     ]
    },
    {
     "name": "stderr",
     "output_type": "stream",
     "text": [
      "\r",
      " 16%|█████████████▏                                                                  | 113/686 [00:36<02:40,  3.58it/s]"
     ]
    },
    {
     "name": "stdout",
     "output_type": "stream",
     "text": [
      "nan\n",
      "nan\n",
      "nan\n",
      "nan\n",
      "nan\n"
     ]
    },
    {
     "name": "stderr",
     "output_type": "stream",
     "text": [
      "\r",
      " 17%|█████████████▎                                                                  | 114/686 [00:36<02:48,  3.39it/s]"
     ]
    },
    {
     "name": "stdout",
     "output_type": "stream",
     "text": [
      "nan\n",
      "nan\n",
      "nan\n",
      "nan\n",
      "nan\n"
     ]
    },
    {
     "name": "stderr",
     "output_type": "stream",
     "text": [
      "\r",
      " 17%|█████████████▍                                                                  | 115/686 [00:36<02:55,  3.26it/s]"
     ]
    },
    {
     "name": "stdout",
     "output_type": "stream",
     "text": [
      "nan\n",
      "nan\n",
      "nan\n",
      "nan\n",
      "nan\n"
     ]
    },
    {
     "name": "stderr",
     "output_type": "stream",
     "text": [
      "\r",
      " 17%|█████████████▌                                                                  | 116/686 [00:37<02:56,  3.23it/s]"
     ]
    },
    {
     "name": "stdout",
     "output_type": "stream",
     "text": [
      "nan\n",
      "nan\n",
      "nan\n",
      "nan\n",
      "nan\n"
     ]
    },
    {
     "name": "stderr",
     "output_type": "stream",
     "text": [
      "\r",
      " 17%|█████████████▋                                                                  | 117/686 [00:37<03:01,  3.14it/s]"
     ]
    },
    {
     "name": "stdout",
     "output_type": "stream",
     "text": [
      "nan\n",
      "nan\n",
      "nan\n",
      "nan\n",
      "nan\n"
     ]
    },
    {
     "name": "stderr",
     "output_type": "stream",
     "text": [
      "\r",
      " 17%|█████████████▊                                                                  | 118/686 [00:37<02:59,  3.17it/s]"
     ]
    },
    {
     "name": "stdout",
     "output_type": "stream",
     "text": [
      "nan\n",
      "nan\n",
      "nan\n",
      "nan\n",
      "nan\n"
     ]
    },
    {
     "name": "stderr",
     "output_type": "stream",
     "text": [
      "\r",
      " 17%|█████████████▉                                                                  | 119/686 [00:38<03:00,  3.15it/s]"
     ]
    },
    {
     "name": "stdout",
     "output_type": "stream",
     "text": [
      "nan\n",
      "nan\n",
      "nan\n",
      "nan\n",
      "nan\n"
     ]
    },
    {
     "name": "stderr",
     "output_type": "stream",
     "text": [
      "\r",
      " 17%|█████████████▉                                                                  | 120/686 [00:38<02:59,  3.16it/s]"
     ]
    },
    {
     "name": "stdout",
     "output_type": "stream",
     "text": [
      "nan\n",
      "nan\n",
      "nan\n",
      "nan\n",
      "nan\n"
     ]
    },
    {
     "name": "stderr",
     "output_type": "stream",
     "text": [
      "\r",
      " 18%|██████████████                                                                  | 121/686 [00:38<02:55,  3.23it/s]"
     ]
    },
    {
     "name": "stdout",
     "output_type": "stream",
     "text": [
      "nan\n",
      "nan\n",
      "nan\n",
      "nan\n",
      "nan\n"
     ]
    },
    {
     "name": "stderr",
     "output_type": "stream",
     "text": [
      "\r",
      " 18%|██████████████▏                                                                 | 122/686 [00:38<02:47,  3.36it/s]"
     ]
    },
    {
     "name": "stdout",
     "output_type": "stream",
     "text": [
      "4.0\n",
      "nan\n",
      "nan\n",
      "nan\n",
      "nan\n"
     ]
    },
    {
     "name": "stderr",
     "output_type": "stream",
     "text": [
      "\r",
      " 18%|██████████████▎                                                                 | 123/686 [00:39<02:48,  3.35it/s]"
     ]
    },
    {
     "name": "stdout",
     "output_type": "stream",
     "text": [
      "4.0\n",
      "3.0\n",
      "nan\n",
      "nan\n",
      "nan\n"
     ]
    },
    {
     "name": "stderr",
     "output_type": "stream",
     "text": [
      "\r",
      " 18%|██████████████▍                                                                 | 124/686 [00:39<02:52,  3.26it/s]"
     ]
    },
    {
     "name": "stdout",
     "output_type": "stream",
     "text": [
      "5.0\n",
      "nan\n",
      "nan\n",
      "nan\n",
      "nan\n"
     ]
    },
    {
     "name": "stderr",
     "output_type": "stream",
     "text": [
      "\r",
      " 18%|██████████████▌                                                                 | 125/686 [00:39<02:59,  3.13it/s]"
     ]
    },
    {
     "name": "stdout",
     "output_type": "stream",
     "text": [
      "nan\n",
      "nan\n",
      "nan\n",
      "nan\n",
      "2.0\n"
     ]
    },
    {
     "name": "stderr",
     "output_type": "stream",
     "text": [
      "\r",
      " 18%|██████████████▋                                                                 | 126/686 [00:40<02:55,  3.19it/s]"
     ]
    },
    {
     "name": "stdout",
     "output_type": "stream",
     "text": [
      "5.0\n",
      "nan\n",
      "nan\n",
      "nan\n",
      "nan\n"
     ]
    },
    {
     "name": "stderr",
     "output_type": "stream",
     "text": [
      "\r",
      " 19%|██████████████▊                                                                 | 127/686 [00:40<02:45,  3.37it/s]"
     ]
    },
    {
     "name": "stdout",
     "output_type": "stream",
     "text": [
      "nan\n",
      "nan\n",
      "nan\n",
      "nan\n",
      "nan\n"
     ]
    },
    {
     "name": "stderr",
     "output_type": "stream",
     "text": [
      "\r",
      " 19%|██████████████▉                                                                 | 128/686 [00:40<02:43,  3.40it/s]"
     ]
    },
    {
     "name": "stdout",
     "output_type": "stream",
     "text": [
      "nan\n",
      "nan\n",
      "nan\n",
      "nan\n",
      "nan\n"
     ]
    },
    {
     "name": "stderr",
     "output_type": "stream",
     "text": [
      "\r",
      " 19%|███████████████                                                                 | 129/686 [00:41<02:39,  3.49it/s]"
     ]
    },
    {
     "name": "stdout",
     "output_type": "stream",
     "text": [
      "nan\n",
      "nan\n",
      "nan\n",
      "nan\n",
      "nan\n"
     ]
    },
    {
     "name": "stderr",
     "output_type": "stream",
     "text": [
      "\r",
      " 19%|███████████████▏                                                                | 130/686 [00:41<02:36,  3.55it/s]"
     ]
    },
    {
     "name": "stdout",
     "output_type": "stream",
     "text": [
      "nan\n",
      "nan\n",
      "nan\n",
      "nan\n",
      "nan\n"
     ]
    },
    {
     "name": "stderr",
     "output_type": "stream",
     "text": [
      "\r",
      " 19%|███████████████▎                                                                | 131/686 [00:41<02:35,  3.56it/s]"
     ]
    },
    {
     "name": "stdout",
     "output_type": "stream",
     "text": [
      "nan\n",
      "nan\n",
      "nan\n",
      "nan\n",
      "nan\n"
     ]
    },
    {
     "name": "stderr",
     "output_type": "stream",
     "text": [
      "\r",
      " 19%|███████████████▍                                                                | 132/686 [00:41<02:36,  3.54it/s]"
     ]
    },
    {
     "name": "stdout",
     "output_type": "stream",
     "text": [
      "nan\n",
      "nan\n",
      "nan\n",
      "nan\n",
      "nan\n"
     ]
    },
    {
     "name": "stderr",
     "output_type": "stream",
     "text": [
      "\r",
      " 19%|███████████████▌                                                                | 133/686 [00:42<02:42,  3.39it/s]"
     ]
    },
    {
     "name": "stdout",
     "output_type": "stream",
     "text": [
      "nan\n",
      "nan\n",
      "nan\n",
      "nan\n",
      "nan\n"
     ]
    },
    {
     "name": "stderr",
     "output_type": "stream",
     "text": [
      "\r",
      " 20%|███████████████▋                                                                | 134/686 [00:42<02:48,  3.29it/s]"
     ]
    },
    {
     "name": "stdout",
     "output_type": "stream",
     "text": [
      "nan\n",
      "nan\n",
      "nan\n",
      "nan\n",
      "nan\n"
     ]
    },
    {
     "name": "stderr",
     "output_type": "stream",
     "text": [
      "\r",
      " 20%|███████████████▋                                                                | 135/686 [00:42<02:57,  3.10it/s]"
     ]
    },
    {
     "name": "stdout",
     "output_type": "stream",
     "text": [
      "nan\n",
      "nan\n",
      "nan\n",
      "nan\n",
      "nan\n"
     ]
    },
    {
     "name": "stderr",
     "output_type": "stream",
     "text": [
      "\r",
      " 20%|███████████████▊                                                                | 136/686 [00:43<03:22,  2.71it/s]"
     ]
    },
    {
     "name": "stdout",
     "output_type": "stream",
     "text": [
      "nan\n",
      "nan\n",
      "nan\n",
      "nan\n",
      "nan\n"
     ]
    },
    {
     "name": "stderr",
     "output_type": "stream",
     "text": [
      "\r",
      " 20%|███████████████▉                                                                | 137/686 [00:43<03:35,  2.55it/s]"
     ]
    },
    {
     "name": "stdout",
     "output_type": "stream",
     "text": [
      "nan\n",
      "nan\n",
      "nan\n",
      "nan\n",
      "nan\n"
     ]
    },
    {
     "name": "stderr",
     "output_type": "stream",
     "text": [
      "\r",
      " 20%|████████████████                                                                | 138/686 [00:44<03:56,  2.32it/s]"
     ]
    },
    {
     "name": "stdout",
     "output_type": "stream",
     "text": [
      "nan\n",
      "nan\n",
      "nan\n",
      "nan\n",
      "nan\n"
     ]
    },
    {
     "name": "stderr",
     "output_type": "stream",
     "text": [
      "\r",
      " 20%|████████████████▏                                                               | 139/686 [00:45<04:58,  1.83it/s]"
     ]
    },
    {
     "name": "stdout",
     "output_type": "stream",
     "text": [
      "nan\n",
      "nan\n",
      "nan\n",
      "nan\n",
      "nan\n"
     ]
    },
    {
     "name": "stderr",
     "output_type": "stream",
     "text": [
      "\r",
      " 20%|████████████████▎                                                               | 140/686 [00:45<05:07,  1.78it/s]"
     ]
    },
    {
     "name": "stdout",
     "output_type": "stream",
     "text": [
      "nan\n",
      "nan\n",
      "nan\n",
      "nan\n",
      "nan\n"
     ]
    },
    {
     "name": "stderr",
     "output_type": "stream",
     "text": [
      "\r",
      " 21%|████████████████▍                                                               | 141/686 [00:46<05:17,  1.72it/s]"
     ]
    },
    {
     "name": "stdout",
     "output_type": "stream",
     "text": [
      "nan\n",
      "nan\n",
      "nan\n",
      "nan\n",
      "nan\n"
     ]
    },
    {
     "name": "stderr",
     "output_type": "stream",
     "text": [
      "\r",
      " 21%|████████████████▌                                                               | 142/686 [00:47<05:18,  1.71it/s]"
     ]
    },
    {
     "name": "stdout",
     "output_type": "stream",
     "text": [
      "nan\n",
      "nan\n",
      "nan\n",
      "nan\n",
      "nan\n"
     ]
    },
    {
     "name": "stderr",
     "output_type": "stream",
     "text": [
      "\r",
      " 21%|████████████████▋                                                               | 143/686 [00:47<05:18,  1.71it/s]"
     ]
    },
    {
     "name": "stdout",
     "output_type": "stream",
     "text": [
      "nan\n",
      "nan\n",
      "nan\n",
      "nan\n",
      "nan\n"
     ]
    },
    {
     "name": "stderr",
     "output_type": "stream",
     "text": [
      "\r",
      " 21%|████████████████▊                                                               | 144/686 [00:48<05:04,  1.78it/s]"
     ]
    },
    {
     "name": "stdout",
     "output_type": "stream",
     "text": [
      "nan\n",
      "nan\n",
      "nan\n",
      "nan\n",
      "nan\n"
     ]
    },
    {
     "name": "stderr",
     "output_type": "stream",
     "text": [
      "\r",
      " 21%|████████████████▉                                                               | 145/686 [00:48<04:41,  1.92it/s]"
     ]
    },
    {
     "name": "stdout",
     "output_type": "stream",
     "text": [
      "nan\n",
      "nan\n",
      "nan\n",
      "nan\n",
      "nan\n"
     ]
    },
    {
     "name": "stderr",
     "output_type": "stream",
     "text": [
      "\r",
      " 21%|█████████████████                                                               | 146/686 [00:48<04:29,  2.00it/s]"
     ]
    },
    {
     "name": "stdout",
     "output_type": "stream",
     "text": [
      "nan\n",
      "nan\n",
      "nan\n",
      "nan\n",
      "nan\n"
     ]
    },
    {
     "name": "stderr",
     "output_type": "stream",
     "text": [
      "\r",
      " 21%|█████████████████▏                                                              | 147/686 [00:49<05:24,  1.66it/s]"
     ]
    },
    {
     "name": "stdout",
     "output_type": "stream",
     "text": [
      "nan\n",
      "nan\n",
      "nan\n",
      "nan\n",
      "nan\n"
     ]
    },
    {
     "name": "stderr",
     "output_type": "stream",
     "text": [
      "\r",
      " 22%|█████████████████▎                                                              | 148/686 [00:50<04:42,  1.90it/s]"
     ]
    },
    {
     "name": "stdout",
     "output_type": "stream",
     "text": [
      "nan\n",
      "nan\n",
      "nan\n",
      "nan\n",
      "nan\n"
     ]
    },
    {
     "name": "stderr",
     "output_type": "stream",
     "text": [
      "\r",
      " 22%|█████████████████▍                                                              | 149/686 [00:50<04:16,  2.09it/s]"
     ]
    },
    {
     "name": "stdout",
     "output_type": "stream",
     "text": [
      "nan\n",
      "nan\n",
      "nan\n",
      "nan\n",
      "nan\n"
     ]
    },
    {
     "name": "stderr",
     "output_type": "stream",
     "text": [
      "\r",
      " 22%|█████████████████▍                                                              | 150/686 [00:50<03:52,  2.30it/s]"
     ]
    },
    {
     "name": "stdout",
     "output_type": "stream",
     "text": [
      "5.0\n",
      "5.0\n",
      "5.0\n",
      "nan\n",
      "5.0\n"
     ]
    },
    {
     "name": "stderr",
     "output_type": "stream",
     "text": [
      "\r",
      " 22%|█████████████████▌                                                              | 151/686 [00:51<03:38,  2.45it/s]"
     ]
    },
    {
     "name": "stdout",
     "output_type": "stream",
     "text": [
      "nan\n",
      "nan\n",
      "nan\n",
      "nan\n",
      "nan\n"
     ]
    },
    {
     "name": "stderr",
     "output_type": "stream",
     "text": [
      "\r",
      " 22%|█████████████████▋                                                              | 152/686 [00:51<03:24,  2.62it/s]"
     ]
    },
    {
     "name": "stdout",
     "output_type": "stream",
     "text": [
      "nan\n",
      "nan\n",
      "nan\n",
      "nan\n",
      "nan\n"
     ]
    },
    {
     "name": "stderr",
     "output_type": "stream",
     "text": [
      "\r",
      " 22%|█████████████████▊                                                              | 153/686 [00:51<03:04,  2.89it/s]"
     ]
    },
    {
     "name": "stdout",
     "output_type": "stream",
     "text": [
      "nan\n",
      "nan\n",
      "nan\n",
      "nan\n",
      "nan\n"
     ]
    },
    {
     "name": "stderr",
     "output_type": "stream",
     "text": [
      "\r",
      " 22%|█████████████████▉                                                              | 154/686 [00:52<02:50,  3.11it/s]"
     ]
    },
    {
     "name": "stdout",
     "output_type": "stream",
     "text": [
      "nan\n",
      "nan\n",
      "5.0\n",
      "nan\n",
      "nan\n"
     ]
    },
    {
     "name": "stderr",
     "output_type": "stream",
     "text": [
      "\r",
      " 23%|██████████████████                                                              | 155/686 [00:52<02:41,  3.28it/s]"
     ]
    },
    {
     "name": "stdout",
     "output_type": "stream",
     "text": [
      "nan\n",
      "nan\n",
      "5.0\n",
      "nan\n",
      "nan\n"
     ]
    },
    {
     "name": "stderr",
     "output_type": "stream",
     "text": [
      "\r",
      " 23%|██████████████████▏                                                             | 156/686 [00:52<02:40,  3.29it/s]"
     ]
    },
    {
     "name": "stdout",
     "output_type": "stream",
     "text": [
      "nan\n",
      "nan\n",
      "nan\n",
      "nan\n",
      "nan\n"
     ]
    },
    {
     "name": "stderr",
     "output_type": "stream",
     "text": [
      "\r",
      " 23%|██████████████████▎                                                             | 157/686 [00:52<02:36,  3.38it/s]"
     ]
    },
    {
     "name": "stdout",
     "output_type": "stream",
     "text": [
      "nan\n",
      "nan\n",
      "nan\n",
      "nan\n",
      "nan\n"
     ]
    },
    {
     "name": "stderr",
     "output_type": "stream",
     "text": [
      "\r",
      " 23%|██████████████████▍                                                             | 158/686 [00:53<03:16,  2.68it/s]"
     ]
    },
    {
     "name": "stdout",
     "output_type": "stream",
     "text": [
      "nan\n",
      "nan\n",
      "nan\n",
      "nan\n",
      "nan\n"
     ]
    },
    {
     "name": "stderr",
     "output_type": "stream",
     "text": [
      "\r",
      " 23%|██████████████████▌                                                             | 159/686 [00:53<03:09,  2.79it/s]"
     ]
    },
    {
     "name": "stdout",
     "output_type": "stream",
     "text": [
      "nan\n",
      "nan\n",
      "nan\n",
      "nan\n",
      "nan\n"
     ]
    },
    {
     "name": "stderr",
     "output_type": "stream",
     "text": [
      "\r",
      " 23%|██████████████████▋                                                             | 160/686 [00:54<02:59,  2.93it/s]"
     ]
    },
    {
     "name": "stdout",
     "output_type": "stream",
     "text": [
      "nan\n",
      "nan\n",
      "nan\n",
      "nan\n",
      "nan\n"
     ]
    },
    {
     "name": "stderr",
     "output_type": "stream",
     "text": [
      "\r",
      " 23%|██████████████████▊                                                             | 161/686 [00:54<02:49,  3.10it/s]"
     ]
    },
    {
     "name": "stdout",
     "output_type": "stream",
     "text": [
      "nan\n",
      "nan\n",
      "nan\n",
      "nan\n",
      "nan\n"
     ]
    },
    {
     "name": "stderr",
     "output_type": "stream",
     "text": [
      "\r",
      " 24%|██████████████████▉                                                             | 162/686 [00:54<02:40,  3.26it/s]"
     ]
    },
    {
     "name": "stdout",
     "output_type": "stream",
     "text": [
      "nan\n",
      "nan\n",
      "nan\n",
      "nan\n",
      "nan\n"
     ]
    },
    {
     "name": "stderr",
     "output_type": "stream",
     "text": [
      "\r",
      " 24%|███████████████████                                                             | 163/686 [00:54<02:42,  3.23it/s]"
     ]
    },
    {
     "name": "stdout",
     "output_type": "stream",
     "text": [
      "nan\n",
      "nan\n",
      "nan\n",
      "nan\n",
      "nan\n"
     ]
    },
    {
     "name": "stderr",
     "output_type": "stream",
     "text": [
      "\r",
      " 24%|███████████████████▏                                                            | 164/686 [00:55<02:41,  3.24it/s]"
     ]
    },
    {
     "name": "stdout",
     "output_type": "stream",
     "text": [
      "nan\n",
      "nan\n",
      "nan\n",
      "nan\n",
      "nan\n"
     ]
    },
    {
     "name": "stderr",
     "output_type": "stream",
     "text": [
      "\r",
      " 24%|███████████████████▏                                                            | 165/686 [00:55<02:40,  3.25it/s]"
     ]
    },
    {
     "name": "stdout",
     "output_type": "stream",
     "text": [
      "nan\n",
      "nan\n",
      "nan\n",
      "nan\n",
      "nan\n"
     ]
    },
    {
     "name": "stderr",
     "output_type": "stream",
     "text": [
      "\r",
      " 24%|███████████████████▎                                                            | 166/686 [00:55<02:42,  3.20it/s]"
     ]
    },
    {
     "name": "stdout",
     "output_type": "stream",
     "text": [
      "nan\n",
      "nan\n",
      "nan\n",
      "nan\n",
      "nan\n"
     ]
    },
    {
     "name": "stderr",
     "output_type": "stream",
     "text": [
      "\r",
      " 24%|███████████████████▍                                                            | 167/686 [00:56<02:37,  3.29it/s]"
     ]
    },
    {
     "name": "stdout",
     "output_type": "stream",
     "text": [
      "nan\n",
      "nan\n",
      "nan\n",
      "nan\n",
      "nan\n"
     ]
    },
    {
     "name": "stderr",
     "output_type": "stream",
     "text": [
      "\r",
      " 24%|███████████████████▌                                                            | 168/686 [00:56<03:19,  2.60it/s]"
     ]
    },
    {
     "name": "stdout",
     "output_type": "stream",
     "text": [
      "nan\n",
      "nan\n",
      "nan\n",
      "nan\n",
      "nan\n"
     ]
    },
    {
     "name": "stderr",
     "output_type": "stream",
     "text": [
      "\r",
      " 25%|███████████████████▋                                                            | 169/686 [00:57<03:07,  2.75it/s]"
     ]
    },
    {
     "name": "stdout",
     "output_type": "stream",
     "text": [
      "nan\n",
      "nan\n",
      "nan\n",
      "nan\n",
      "nan\n"
     ]
    },
    {
     "name": "stderr",
     "output_type": "stream",
     "text": [
      "\r",
      " 25%|███████████████████▊                                                            | 170/686 [00:57<03:17,  2.62it/s]"
     ]
    },
    {
     "name": "stdout",
     "output_type": "stream",
     "text": [
      "nan\n",
      "nan\n",
      "nan\n",
      "nan\n",
      "nan\n"
     ]
    },
    {
     "name": "stderr",
     "output_type": "stream",
     "text": [
      "\r",
      " 25%|███████████████████▉                                                            | 171/686 [00:57<02:59,  2.87it/s]"
     ]
    },
    {
     "name": "stdout",
     "output_type": "stream",
     "text": [
      "nan\n",
      "nan\n",
      "nan\n",
      "nan\n",
      "nan\n"
     ]
    },
    {
     "name": "stderr",
     "output_type": "stream",
     "text": [
      "\r",
      " 25%|████████████████████                                                            | 172/686 [00:58<02:47,  3.07it/s]"
     ]
    },
    {
     "name": "stdout",
     "output_type": "stream",
     "text": [
      "nan\n",
      "nan\n",
      "nan\n",
      "nan\n",
      "nan\n"
     ]
    },
    {
     "name": "stderr",
     "output_type": "stream",
     "text": [
      "\r",
      " 25%|████████████████████▏                                                           | 173/686 [00:58<02:45,  3.09it/s]"
     ]
    },
    {
     "name": "stdout",
     "output_type": "stream",
     "text": [
      "nan\n",
      "nan\n",
      "nan\n",
      "nan\n",
      "nan\n"
     ]
    },
    {
     "name": "stderr",
     "output_type": "stream",
     "text": [
      "\r",
      " 25%|████████████████████▎                                                           | 174/686 [00:58<03:24,  2.50it/s]"
     ]
    },
    {
     "name": "stdout",
     "output_type": "stream",
     "text": [
      "nan\n",
      "nan\n",
      "nan\n",
      "nan\n",
      "nan\n"
     ]
    },
    {
     "name": "stderr",
     "output_type": "stream",
     "text": [
      "\r",
      " 26%|████████████████████▍                                                           | 175/686 [00:59<03:19,  2.56it/s]"
     ]
    },
    {
     "name": "stdout",
     "output_type": "stream",
     "text": [
      "nan\n",
      "nan\n",
      "nan\n",
      "nan\n",
      "nan\n"
     ]
    },
    {
     "name": "stderr",
     "output_type": "stream",
     "text": [
      "\r",
      " 26%|████████████████████▌                                                           | 176/686 [00:59<03:22,  2.52it/s]"
     ]
    },
    {
     "name": "stdout",
     "output_type": "stream",
     "text": [
      "nan\n",
      "4.0\n",
      "nan\n",
      "nan\n",
      "4.0\n"
     ]
    },
    {
     "name": "stderr",
     "output_type": "stream",
     "text": [
      "\r",
      " 26%|████████████████████▋                                                           | 177/686 [00:59<03:05,  2.75it/s]"
     ]
    },
    {
     "name": "stdout",
     "output_type": "stream",
     "text": [
      "nan\n",
      "nan\n",
      "nan\n",
      "nan\n",
      "nan\n"
     ]
    },
    {
     "name": "stderr",
     "output_type": "stream",
     "text": [
      "\r",
      " 26%|████████████████████▊                                                           | 178/686 [01:00<02:53,  2.93it/s]"
     ]
    },
    {
     "name": "stdout",
     "output_type": "stream",
     "text": [
      "nan\n",
      "nan\n",
      "nan\n",
      "nan\n",
      "nan\n"
     ]
    },
    {
     "name": "stderr",
     "output_type": "stream",
     "text": [
      "\r",
      " 26%|████████████████████▊                                                           | 179/686 [01:00<02:43,  3.10it/s]"
     ]
    },
    {
     "name": "stdout",
     "output_type": "stream",
     "text": [
      "nan\n",
      "nan\n",
      "nan\n",
      "nan\n",
      "nan\n"
     ]
    },
    {
     "name": "stderr",
     "output_type": "stream",
     "text": [
      "\r",
      " 26%|████████████████████▉                                                           | 180/686 [01:00<02:45,  3.05it/s]"
     ]
    },
    {
     "name": "stdout",
     "output_type": "stream",
     "text": [
      "nan\n",
      "nan\n",
      "nan\n",
      "nan\n",
      "nan\n"
     ]
    },
    {
     "name": "stderr",
     "output_type": "stream",
     "text": [
      "\r",
      " 26%|█████████████████████                                                           | 181/686 [01:01<02:45,  3.05it/s]"
     ]
    },
    {
     "name": "stdout",
     "output_type": "stream",
     "text": [
      "nan\n",
      "nan\n",
      "nan\n",
      "nan\n",
      "nan\n"
     ]
    },
    {
     "name": "stderr",
     "output_type": "stream",
     "text": [
      "\r",
      " 27%|█████████████████████▏                                                          | 182/686 [01:01<02:38,  3.18it/s]"
     ]
    },
    {
     "name": "stdout",
     "output_type": "stream",
     "text": [
      "nan\n",
      "nan\n",
      "nan\n",
      "nan\n",
      "nan\n"
     ]
    },
    {
     "name": "stderr",
     "output_type": "stream",
     "text": [
      "\r",
      " 27%|█████████████████████▎                                                          | 183/686 [01:01<02:36,  3.22it/s]"
     ]
    },
    {
     "name": "stdout",
     "output_type": "stream",
     "text": [
      "nan\n",
      "nan\n",
      "nan\n",
      "nan\n",
      "nan\n"
     ]
    },
    {
     "name": "stderr",
     "output_type": "stream",
     "text": [
      "\r",
      " 27%|█████████████████████▍                                                          | 184/686 [01:02<02:34,  3.25it/s]"
     ]
    },
    {
     "name": "stdout",
     "output_type": "stream",
     "text": [
      "nan\n",
      "nan\n",
      "nan\n",
      "nan\n",
      "nan\n"
     ]
    },
    {
     "name": "stderr",
     "output_type": "stream",
     "text": [
      "\r",
      " 27%|█████████████████████▌                                                          | 185/686 [01:02<02:41,  3.10it/s]"
     ]
    },
    {
     "name": "stdout",
     "output_type": "stream",
     "text": [
      "nan\n",
      "nan\n",
      "nan\n",
      "nan\n",
      "nan\n"
     ]
    },
    {
     "name": "stderr",
     "output_type": "stream",
     "text": [
      "\r",
      " 27%|█████████████████████▋                                                          | 186/686 [01:02<02:36,  3.20it/s]"
     ]
    },
    {
     "name": "stdout",
     "output_type": "stream",
     "text": [
      "nan\n",
      "nan\n",
      "nan\n",
      "nan\n",
      "nan\n"
     ]
    },
    {
     "name": "stderr",
     "output_type": "stream",
     "text": [
      "\r",
      " 27%|█████████████████████▊                                                          | 187/686 [01:03<02:30,  3.31it/s]"
     ]
    },
    {
     "name": "stdout",
     "output_type": "stream",
     "text": [
      "nan\n",
      "nan\n",
      "nan\n",
      "nan\n",
      "nan\n"
     ]
    },
    {
     "name": "stderr",
     "output_type": "stream",
     "text": [
      "\r",
      " 27%|█████████████████████▉                                                          | 188/686 [01:03<02:28,  3.36it/s]"
     ]
    },
    {
     "name": "stdout",
     "output_type": "stream",
     "text": [
      "nan\n",
      "nan\n",
      "nan\n",
      "nan\n",
      "nan\n"
     ]
    },
    {
     "name": "stderr",
     "output_type": "stream",
     "text": [
      "\r",
      " 28%|██████████████████████                                                          | 189/686 [01:03<02:36,  3.17it/s]"
     ]
    },
    {
     "name": "stdout",
     "output_type": "stream",
     "text": [
      "nan\n",
      "nan\n",
      "nan\n",
      "nan\n",
      "nan\n"
     ]
    },
    {
     "name": "stderr",
     "output_type": "stream",
     "text": [
      "\r",
      " 28%|██████████████████████▏                                                         | 190/686 [01:04<02:37,  3.15it/s]"
     ]
    },
    {
     "name": "stdout",
     "output_type": "stream",
     "text": [
      "nan\n",
      "nan\n",
      "nan\n",
      "4.0\n",
      "nan\n"
     ]
    },
    {
     "name": "stderr",
     "output_type": "stream",
     "text": [
      "\r",
      " 28%|██████████████████████▎                                                         | 191/686 [01:04<02:36,  3.15it/s]"
     ]
    },
    {
     "name": "stdout",
     "output_type": "stream",
     "text": [
      "nan\n",
      "nan\n",
      "nan\n",
      "nan\n",
      "nan\n"
     ]
    },
    {
     "name": "stderr",
     "output_type": "stream",
     "text": [
      "\r",
      " 28%|██████████████████████▍                                                         | 192/686 [01:04<02:38,  3.11it/s]"
     ]
    },
    {
     "name": "stdout",
     "output_type": "stream",
     "text": [
      "nan\n",
      "nan\n",
      "nan\n",
      "nan\n",
      "nan\n"
     ]
    },
    {
     "name": "stderr",
     "output_type": "stream",
     "text": [
      "\r",
      " 28%|██████████████████████▌                                                         | 193/686 [01:04<02:33,  3.20it/s]"
     ]
    },
    {
     "name": "stdout",
     "output_type": "stream",
     "text": [
      "nan\n",
      "nan\n",
      "nan\n",
      "nan\n",
      "nan\n"
     ]
    },
    {
     "name": "stderr",
     "output_type": "stream",
     "text": [
      "\r",
      " 28%|██████████████████████▌                                                         | 194/686 [01:05<02:29,  3.30it/s]"
     ]
    },
    {
     "name": "stdout",
     "output_type": "stream",
     "text": [
      "nan\n",
      "nan\n",
      "nan\n",
      "nan\n",
      "nan\n"
     ]
    },
    {
     "name": "stderr",
     "output_type": "stream",
     "text": [
      "\r",
      " 28%|██████████████████████▋                                                         | 195/686 [01:05<02:26,  3.36it/s]"
     ]
    },
    {
     "name": "stdout",
     "output_type": "stream",
     "text": [
      "nan\n",
      "nan\n",
      "nan\n",
      "nan\n",
      "nan\n"
     ]
    },
    {
     "name": "stderr",
     "output_type": "stream",
     "text": [
      "\r",
      " 29%|██████████████████████▊                                                         | 196/686 [01:05<02:31,  3.24it/s]"
     ]
    },
    {
     "name": "stdout",
     "output_type": "stream",
     "text": [
      "nan\n",
      "nan\n",
      "nan\n",
      "nan\n",
      "nan\n"
     ]
    },
    {
     "name": "stderr",
     "output_type": "stream",
     "text": [
      "\r",
      " 29%|██████████████████████▉                                                         | 197/686 [01:06<02:40,  3.04it/s]"
     ]
    },
    {
     "name": "stdout",
     "output_type": "stream",
     "text": [
      "nan\n",
      "nan\n",
      "nan\n",
      "nan\n",
      "nan\n"
     ]
    },
    {
     "name": "stderr",
     "output_type": "stream",
     "text": [
      "\r",
      " 29%|███████████████████████                                                         | 198/686 [01:06<02:33,  3.17it/s]"
     ]
    },
    {
     "name": "stdout",
     "output_type": "stream",
     "text": [
      "nan\n",
      "nan\n",
      "nan\n",
      "nan\n",
      "nan\n"
     ]
    },
    {
     "name": "stderr",
     "output_type": "stream",
     "text": [
      "\r",
      " 29%|███████████████████████▏                                                        | 199/686 [01:06<02:45,  2.94it/s]"
     ]
    },
    {
     "name": "stdout",
     "output_type": "stream",
     "text": [
      "nan\n",
      "nan\n",
      "nan\n",
      "nan\n",
      "nan\n"
     ]
    },
    {
     "name": "stderr",
     "output_type": "stream",
     "text": [
      "\r",
      " 29%|███████████████████████▎                                                        | 200/686 [01:07<02:41,  3.01it/s]"
     ]
    },
    {
     "name": "stdout",
     "output_type": "stream",
     "text": [
      "nan\n",
      "nan\n",
      "nan\n",
      "nan\n",
      "nan\n"
     ]
    },
    {
     "name": "stderr",
     "output_type": "stream",
     "text": [
      "\r",
      " 29%|███████████████████████▍                                                        | 201/686 [01:07<02:42,  2.98it/s]"
     ]
    },
    {
     "name": "stdout",
     "output_type": "stream",
     "text": [
      "nan\n",
      "4.0\n",
      "nan\n",
      "nan\n",
      "4.0\n"
     ]
    },
    {
     "name": "stderr",
     "output_type": "stream",
     "text": [
      "\r",
      " 29%|███████████████████████▌                                                        | 202/686 [01:07<02:55,  2.76it/s]"
     ]
    },
    {
     "name": "stdout",
     "output_type": "stream",
     "text": [
      "nan\n",
      "nan\n",
      "5.0\n",
      "nan\n",
      "nan\n"
     ]
    },
    {
     "name": "stderr",
     "output_type": "stream",
     "text": [
      "\r",
      " 30%|███████████████████████▋                                                        | 203/686 [01:08<02:46,  2.90it/s]"
     ]
    },
    {
     "name": "stdout",
     "output_type": "stream",
     "text": [
      "nan\n",
      "nan\n",
      "nan\n",
      "nan\n",
      "nan\n"
     ]
    },
    {
     "name": "stderr",
     "output_type": "stream",
     "text": [
      "\r",
      " 30%|███████████████████████▊                                                        | 204/686 [01:08<02:42,  2.97it/s]"
     ]
    },
    {
     "name": "stdout",
     "output_type": "stream",
     "text": [
      "nan\n",
      "4.0\n",
      "nan\n",
      "nan\n",
      "nan\n"
     ]
    },
    {
     "name": "stderr",
     "output_type": "stream",
     "text": [
      "\r",
      " 30%|███████████████████████▉                                                        | 205/686 [01:08<02:49,  2.84it/s]"
     ]
    },
    {
     "name": "stdout",
     "output_type": "stream",
     "text": [
      "nan\n",
      "5.0\n",
      "nan\n",
      "nan\n",
      "nan\n"
     ]
    },
    {
     "name": "stderr",
     "output_type": "stream",
     "text": [
      "\r",
      " 30%|████████████████████████                                                        | 206/686 [01:09<02:42,  2.95it/s]"
     ]
    },
    {
     "name": "stdout",
     "output_type": "stream",
     "text": [
      "nan\n",
      "nan\n",
      "nan\n",
      "nan\n",
      "4.0\n"
     ]
    },
    {
     "name": "stderr",
     "output_type": "stream",
     "text": [
      "\r",
      " 30%|████████████████████████▏                                                       | 207/686 [01:09<02:34,  3.10it/s]"
     ]
    },
    {
     "name": "stdout",
     "output_type": "stream",
     "text": [
      "nan\n",
      "nan\n",
      "nan\n",
      "nan\n",
      "nan\n"
     ]
    },
    {
     "name": "stderr",
     "output_type": "stream",
     "text": [
      "\r",
      " 30%|████████████████████████▎                                                       | 208/686 [01:09<02:37,  3.04it/s]"
     ]
    },
    {
     "name": "stdout",
     "output_type": "stream",
     "text": [
      "nan\n",
      "nan\n",
      "nan\n",
      "nan\n",
      "nan\n"
     ]
    },
    {
     "name": "stderr",
     "output_type": "stream",
     "text": [
      "\r",
      " 30%|████████████████████████▎                                                       | 209/686 [01:10<03:17,  2.41it/s]"
     ]
    },
    {
     "name": "stdout",
     "output_type": "stream",
     "text": [
      "nan\n",
      "5.0\n",
      "5.0\n",
      "nan\n",
      "4.0\n"
     ]
    },
    {
     "name": "stderr",
     "output_type": "stream",
     "text": [
      "\r",
      " 31%|████████████████████████▍                                                       | 210/686 [01:10<02:57,  2.68it/s]"
     ]
    },
    {
     "name": "stdout",
     "output_type": "stream",
     "text": [
      "nan\n",
      "nan\n",
      "nan\n",
      "nan\n",
      "nan\n"
     ]
    },
    {
     "name": "stderr",
     "output_type": "stream",
     "text": [
      "\r",
      " 31%|████████████████████████▌                                                       | 211/686 [01:11<03:17,  2.41it/s]"
     ]
    },
    {
     "name": "stdout",
     "output_type": "stream",
     "text": [
      "nan\n",
      "nan\n",
      "nan\n",
      "nan\n",
      "nan\n"
     ]
    },
    {
     "name": "stderr",
     "output_type": "stream",
     "text": [
      "\r",
      " 31%|████████████████████████▋                                                       | 212/686 [01:11<03:10,  2.49it/s]"
     ]
    },
    {
     "name": "stdout",
     "output_type": "stream",
     "text": [
      "nan\n",
      "nan\n",
      "nan\n",
      "nan\n",
      "nan\n"
     ]
    },
    {
     "name": "stderr",
     "output_type": "stream",
     "text": [
      "\r",
      " 31%|████████████████████████▊                                                       | 213/686 [01:11<02:54,  2.72it/s]"
     ]
    },
    {
     "name": "stdout",
     "output_type": "stream",
     "text": [
      "nan\n",
      "nan\n",
      "nan\n",
      "nan\n",
      "nan\n"
     ]
    },
    {
     "name": "stderr",
     "output_type": "stream",
     "text": [
      "\r",
      " 31%|████████████████████████▉                                                       | 214/686 [01:12<02:41,  2.93it/s]"
     ]
    },
    {
     "name": "stdout",
     "output_type": "stream",
     "text": [
      "nan\n",
      "nan\n",
      "nan\n",
      "nan\n",
      "nan\n"
     ]
    },
    {
     "name": "stderr",
     "output_type": "stream",
     "text": [
      "\r",
      " 31%|█████████████████████████                                                       | 215/686 [01:12<02:36,  3.01it/s]"
     ]
    },
    {
     "name": "stdout",
     "output_type": "stream",
     "text": [
      "nan\n",
      "nan\n",
      "nan\n",
      "nan\n",
      "nan\n"
     ]
    },
    {
     "name": "stderr",
     "output_type": "stream",
     "text": [
      "\r",
      " 31%|█████████████████████████▏                                                      | 216/686 [01:12<02:38,  2.96it/s]"
     ]
    },
    {
     "name": "stdout",
     "output_type": "stream",
     "text": [
      "nan\n",
      "nan\n",
      "nan\n",
      "nan\n",
      "nan\n"
     ]
    },
    {
     "name": "stderr",
     "output_type": "stream",
     "text": [
      "\r",
      " 32%|█████████████████████████▎                                                      | 217/686 [01:13<03:41,  2.12it/s]"
     ]
    },
    {
     "name": "stdout",
     "output_type": "stream",
     "text": [
      "nan\n",
      "nan\n",
      "nan\n",
      "4.0\n",
      "nan\n"
     ]
    },
    {
     "name": "stderr",
     "output_type": "stream",
     "text": [
      "\r",
      " 32%|█████████████████████████▍                                                      | 218/686 [01:14<03:16,  2.38it/s]"
     ]
    },
    {
     "name": "stdout",
     "output_type": "stream",
     "text": [
      "nan\n",
      "nan\n",
      "nan\n",
      "nan\n",
      "nan\n"
     ]
    },
    {
     "name": "stderr",
     "output_type": "stream",
     "text": [
      "\r",
      " 32%|█████████████████████████▌                                                      | 219/686 [01:14<03:07,  2.49it/s]"
     ]
    },
    {
     "name": "stdout",
     "output_type": "stream",
     "text": [
      "nan\n",
      "nan\n",
      "nan\n",
      "nan\n",
      "3.0\n"
     ]
    },
    {
     "name": "stderr",
     "output_type": "stream",
     "text": [
      "\r",
      " 32%|█████████████████████████▋                                                      | 220/686 [01:14<03:00,  2.58it/s]"
     ]
    },
    {
     "name": "stdout",
     "output_type": "stream",
     "text": [
      "nan\n",
      "nan\n",
      "nan\n",
      "nan\n",
      "nan\n"
     ]
    },
    {
     "name": "stderr",
     "output_type": "stream",
     "text": [
      "\r",
      " 32%|█████████████████████████▊                                                      | 221/686 [01:15<02:45,  2.80it/s]"
     ]
    },
    {
     "name": "stdout",
     "output_type": "stream",
     "text": [
      "nan\n",
      "nan\n",
      "nan\n",
      "nan\n",
      "nan\n"
     ]
    },
    {
     "name": "stderr",
     "output_type": "stream",
     "text": [
      "\r",
      " 32%|█████████████████████████▉                                                      | 222/686 [01:15<02:34,  2.99it/s]"
     ]
    },
    {
     "name": "stdout",
     "output_type": "stream",
     "text": [
      "nan\n",
      "nan\n",
      "nan\n",
      "nan\n",
      "nan\n"
     ]
    },
    {
     "name": "stderr",
     "output_type": "stream",
     "text": [
      "\r",
      " 33%|██████████████████████████                                                      | 223/686 [01:15<02:34,  3.00it/s]"
     ]
    },
    {
     "name": "stdout",
     "output_type": "stream",
     "text": [
      "nan\n",
      "nan\n",
      "nan\n",
      "nan\n",
      "nan\n"
     ]
    },
    {
     "name": "stderr",
     "output_type": "stream",
     "text": [
      "\r",
      " 33%|██████████████████████████                                                      | 224/686 [01:15<02:38,  2.92it/s]"
     ]
    },
    {
     "name": "stdout",
     "output_type": "stream",
     "text": [
      "nan\n",
      "nan\n",
      "5.0\n",
      "nan\n",
      "nan\n"
     ]
    },
    {
     "name": "stderr",
     "output_type": "stream",
     "text": [
      "\r",
      " 33%|██████████████████████████▏                                                     | 225/686 [01:16<02:34,  2.99it/s]"
     ]
    },
    {
     "name": "stdout",
     "output_type": "stream",
     "text": [
      "nan\n",
      "nan\n",
      "nan\n",
      "nan\n",
      "nan\n"
     ]
    },
    {
     "name": "stderr",
     "output_type": "stream",
     "text": [
      "\r",
      " 33%|██████████████████████████▎                                                     | 226/686 [01:16<03:06,  2.46it/s]"
     ]
    },
    {
     "name": "stdout",
     "output_type": "stream",
     "text": [
      "nan\n",
      "nan\n",
      "nan\n",
      "nan\n",
      "nan\n"
     ]
    },
    {
     "name": "stderr",
     "output_type": "stream",
     "text": [
      "\r",
      " 33%|██████████████████████████▍                                                     | 227/686 [01:17<03:22,  2.27it/s]"
     ]
    },
    {
     "name": "stdout",
     "output_type": "stream",
     "text": [
      "nan\n",
      "nan\n",
      "nan\n",
      "nan\n",
      "nan\n"
     ]
    },
    {
     "name": "stderr",
     "output_type": "stream",
     "text": [
      "\r",
      " 33%|██████████████████████████▌                                                     | 228/686 [01:17<03:02,  2.50it/s]"
     ]
    },
    {
     "name": "stdout",
     "output_type": "stream",
     "text": [
      "nan\n",
      "nan\n",
      "nan\n",
      "nan\n",
      "nan\n"
     ]
    },
    {
     "name": "stderr",
     "output_type": "stream",
     "text": [
      "\r",
      " 33%|██████████████████████████▋                                                     | 229/686 [01:18<02:58,  2.56it/s]"
     ]
    },
    {
     "name": "stdout",
     "output_type": "stream",
     "text": [
      "nan\n",
      "nan\n",
      "nan\n",
      "nan\n",
      "nan\n"
     ]
    },
    {
     "name": "stderr",
     "output_type": "stream",
     "text": [
      "\r",
      " 34%|██████████████████████████▊                                                     | 230/686 [01:18<02:46,  2.73it/s]"
     ]
    },
    {
     "name": "stdout",
     "output_type": "stream",
     "text": [
      "nan\n",
      "nan\n",
      "nan\n",
      "nan\n",
      "nan\n"
     ]
    },
    {
     "name": "stderr",
     "output_type": "stream",
     "text": [
      "\r",
      " 34%|██████████████████████████▉                                                     | 231/686 [01:18<02:36,  2.90it/s]"
     ]
    },
    {
     "name": "stdout",
     "output_type": "stream",
     "text": [
      "3.0\n",
      "nan\n",
      "nan\n",
      "nan\n",
      "nan\n"
     ]
    },
    {
     "name": "stderr",
     "output_type": "stream",
     "text": [
      "\r",
      " 34%|███████████████████████████                                                     | 232/686 [01:19<02:41,  2.81it/s]"
     ]
    },
    {
     "name": "stdout",
     "output_type": "stream",
     "text": [
      "5.0\n",
      "nan\n",
      "nan\n",
      "nan\n",
      "nan\n"
     ]
    },
    {
     "name": "stderr",
     "output_type": "stream",
     "text": [
      "\r",
      " 34%|███████████████████████████▏                                                    | 233/686 [01:19<02:41,  2.80it/s]"
     ]
    },
    {
     "name": "stdout",
     "output_type": "stream",
     "text": [
      "nan\n",
      "nan\n",
      "nan\n",
      "nan\n",
      "nan\n"
     ]
    },
    {
     "name": "stderr",
     "output_type": "stream",
     "text": [
      "\r",
      " 34%|███████████████████████████▎                                                    | 234/686 [01:19<02:35,  2.90it/s]"
     ]
    },
    {
     "name": "stdout",
     "output_type": "stream",
     "text": [
      "nan\n",
      "nan\n",
      "nan\n",
      "nan\n",
      "nan\n"
     ]
    },
    {
     "name": "stderr",
     "output_type": "stream",
     "text": [
      "\r",
      " 34%|███████████████████████████▍                                                    | 235/686 [01:20<02:33,  2.93it/s]"
     ]
    },
    {
     "name": "stdout",
     "output_type": "stream",
     "text": [
      "nan\n",
      "nan\n",
      "nan\n",
      "nan\n",
      "nan\n"
     ]
    },
    {
     "name": "stderr",
     "output_type": "stream",
     "text": [
      "\r",
      " 34%|███████████████████████████▌                                                    | 236/686 [01:20<02:40,  2.81it/s]"
     ]
    },
    {
     "name": "stdout",
     "output_type": "stream",
     "text": [
      "nan\n",
      "nan\n",
      "nan\n",
      "nan\n",
      "nan\n"
     ]
    },
    {
     "name": "stderr",
     "output_type": "stream",
     "text": [
      "\r",
      " 35%|███████████████████████████▋                                                    | 237/686 [01:20<02:36,  2.86it/s]"
     ]
    },
    {
     "name": "stdout",
     "output_type": "stream",
     "text": [
      "nan\n",
      "nan\n",
      "5.0\n",
      "nan\n",
      "nan\n"
     ]
    },
    {
     "name": "stderr",
     "output_type": "stream",
     "text": [
      "\r",
      " 35%|███████████████████████████▊                                                    | 238/686 [01:21<02:29,  2.99it/s]"
     ]
    },
    {
     "name": "stdout",
     "output_type": "stream",
     "text": [
      "nan\n",
      "nan\n",
      "nan\n",
      "nan\n",
      "nan\n"
     ]
    },
    {
     "name": "stderr",
     "output_type": "stream",
     "text": [
      "\r",
      " 35%|███████████████████████████▊                                                    | 239/686 [01:21<02:31,  2.95it/s]"
     ]
    },
    {
     "name": "stdout",
     "output_type": "stream",
     "text": [
      "nan\n",
      "nan\n",
      "nan\n",
      "nan\n",
      "nan\n"
     ]
    },
    {
     "name": "stderr",
     "output_type": "stream",
     "text": [
      "\r",
      " 35%|███████████████████████████▉                                                    | 240/686 [01:21<02:38,  2.81it/s]"
     ]
    },
    {
     "name": "stdout",
     "output_type": "stream",
     "text": [
      "nan\n",
      "nan\n",
      "nan\n",
      "nan\n",
      "nan\n"
     ]
    },
    {
     "name": "stderr",
     "output_type": "stream",
     "text": [
      "\r",
      " 35%|████████████████████████████                                                    | 241/686 [01:22<02:45,  2.69it/s]"
     ]
    },
    {
     "name": "stdout",
     "output_type": "stream",
     "text": [
      "nan\n",
      "nan\n",
      "nan\n",
      "nan\n",
      "nan\n"
     ]
    },
    {
     "name": "stderr",
     "output_type": "stream",
     "text": [
      "\r",
      " 35%|████████████████████████████▏                                                   | 242/686 [01:22<02:38,  2.81it/s]"
     ]
    },
    {
     "name": "stdout",
     "output_type": "stream",
     "text": [
      "nan\n",
      "nan\n",
      "nan\n",
      "nan\n",
      "nan\n"
     ]
    },
    {
     "name": "stderr",
     "output_type": "stream",
     "text": [
      "\r",
      " 35%|████████████████████████████▎                                                   | 243/686 [01:22<02:37,  2.81it/s]"
     ]
    },
    {
     "name": "stdout",
     "output_type": "stream",
     "text": [
      "nan\n",
      "nan\n",
      "nan\n",
      "nan\n",
      "nan\n"
     ]
    },
    {
     "name": "stderr",
     "output_type": "stream",
     "text": [
      "\r",
      " 36%|████████████████████████████▍                                                   | 244/686 [01:23<02:46,  2.65it/s]"
     ]
    },
    {
     "name": "stdout",
     "output_type": "stream",
     "text": [
      "nan\n",
      "nan\n",
      "nan\n",
      "nan\n",
      "nan\n"
     ]
    },
    {
     "name": "stderr",
     "output_type": "stream",
     "text": [
      "\r",
      " 36%|████████████████████████████▌                                                   | 245/686 [01:24<03:32,  2.08it/s]"
     ]
    },
    {
     "name": "stdout",
     "output_type": "stream",
     "text": [
      "nan\n",
      "5.0\n",
      "nan\n",
      "nan\n",
      "nan\n"
     ]
    },
    {
     "name": "stderr",
     "output_type": "stream",
     "text": [
      "\r",
      " 36%|████████████████████████████▋                                                   | 246/686 [01:24<03:11,  2.30it/s]"
     ]
    },
    {
     "name": "stdout",
     "output_type": "stream",
     "text": [
      "nan\n",
      "nan\n",
      "nan\n",
      "nan\n",
      "nan\n"
     ]
    },
    {
     "name": "stderr",
     "output_type": "stream",
     "text": [
      "\r",
      " 36%|████████████████████████████▊                                                   | 247/686 [01:24<02:56,  2.48it/s]"
     ]
    },
    {
     "name": "stdout",
     "output_type": "stream",
     "text": [
      "nan\n",
      "nan\n",
      "nan\n",
      "nan\n",
      "nan\n"
     ]
    },
    {
     "name": "stderr",
     "output_type": "stream",
     "text": [
      "\r",
      " 36%|████████████████████████████▉                                                   | 248/686 [01:25<02:53,  2.53it/s]"
     ]
    },
    {
     "name": "stdout",
     "output_type": "stream",
     "text": [
      "nan\n",
      "nan\n",
      "nan\n",
      "nan\n",
      "nan\n"
     ]
    },
    {
     "name": "stderr",
     "output_type": "stream",
     "text": [
      "\r",
      " 36%|█████████████████████████████                                                   | 249/686 [01:25<02:43,  2.67it/s]"
     ]
    },
    {
     "name": "stdout",
     "output_type": "stream",
     "text": [
      "nan\n",
      "nan\n",
      "nan\n",
      "nan\n",
      "nan\n"
     ]
    },
    {
     "name": "stderr",
     "output_type": "stream",
     "text": [
      "\r",
      " 36%|█████████████████████████████▏                                                  | 250/686 [01:25<02:45,  2.64it/s]"
     ]
    },
    {
     "name": "stdout",
     "output_type": "stream",
     "text": [
      "nan\n",
      "nan\n",
      "nan\n",
      "nan\n",
      "nan\n"
     ]
    },
    {
     "name": "stderr",
     "output_type": "stream",
     "text": [
      "\r",
      " 37%|█████████████████████████████▎                                                  | 251/686 [01:26<03:02,  2.38it/s]"
     ]
    },
    {
     "name": "stdout",
     "output_type": "stream",
     "text": [
      "nan\n",
      "nan\n",
      "nan\n",
      "nan\n",
      "nan\n"
     ]
    },
    {
     "name": "stderr",
     "output_type": "stream",
     "text": [
      "\r",
      " 37%|█████████████████████████████▍                                                  | 252/686 [01:26<03:16,  2.21it/s]"
     ]
    },
    {
     "name": "stdout",
     "output_type": "stream",
     "text": [
      "nan\n",
      "nan\n",
      "nan\n",
      "nan\n",
      "nan\n"
     ]
    },
    {
     "name": "stderr",
     "output_type": "stream",
     "text": [
      "\r",
      " 37%|█████████████████████████████▌                                                  | 253/686 [01:27<03:01,  2.38it/s]"
     ]
    },
    {
     "name": "stdout",
     "output_type": "stream",
     "text": [
      "nan\n",
      "nan\n",
      "nan\n",
      "nan\n",
      "nan\n"
     ]
    },
    {
     "name": "stderr",
     "output_type": "stream",
     "text": [
      "\r",
      " 37%|█████████████████████████████▌                                                  | 254/686 [01:27<02:43,  2.64it/s]"
     ]
    },
    {
     "name": "stdout",
     "output_type": "stream",
     "text": [
      "nan\n",
      "nan\n",
      "nan\n",
      "nan\n",
      "nan\n"
     ]
    },
    {
     "name": "stderr",
     "output_type": "stream",
     "text": [
      "\r",
      " 37%|█████████████████████████████▋                                                  | 255/686 [01:27<02:33,  2.82it/s]"
     ]
    },
    {
     "name": "stdout",
     "output_type": "stream",
     "text": [
      "nan\n",
      "nan\n",
      "nan\n",
      "nan\n",
      "nan\n"
     ]
    },
    {
     "name": "stderr",
     "output_type": "stream",
     "text": [
      "\r",
      " 37%|█████████████████████████████▊                                                  | 256/686 [01:28<02:25,  2.95it/s]"
     ]
    },
    {
     "name": "stdout",
     "output_type": "stream",
     "text": [
      "nan\n",
      "nan\n",
      "nan\n",
      "nan\n",
      "nan\n"
     ]
    },
    {
     "name": "stderr",
     "output_type": "stream",
     "text": [
      "\r",
      " 37%|█████████████████████████████▉                                                  | 257/686 [01:28<02:23,  2.99it/s]"
     ]
    },
    {
     "name": "stdout",
     "output_type": "stream",
     "text": [
      "nan\n",
      "nan\n",
      "nan\n",
      "nan\n",
      "nan\n"
     ]
    },
    {
     "name": "stderr",
     "output_type": "stream",
     "text": [
      "\r",
      " 38%|██████████████████████████████                                                  | 258/686 [01:28<02:17,  3.12it/s]"
     ]
    },
    {
     "name": "stdout",
     "output_type": "stream",
     "text": [
      "nan\n",
      "nan\n",
      "nan\n",
      "nan\n",
      "nan\n"
     ]
    },
    {
     "name": "stderr",
     "output_type": "stream",
     "text": [
      "\r",
      " 38%|██████████████████████████████▏                                                 | 259/686 [01:29<02:14,  3.18it/s]"
     ]
    },
    {
     "name": "stdout",
     "output_type": "stream",
     "text": [
      "nan\n",
      "nan\n",
      "nan\n",
      "nan\n",
      "nan\n"
     ]
    },
    {
     "name": "stderr",
     "output_type": "stream",
     "text": [
      "\r",
      " 38%|██████████████████████████████▎                                                 | 260/686 [01:29<02:14,  3.17it/s]"
     ]
    },
    {
     "name": "stdout",
     "output_type": "stream",
     "text": [
      "nan\n",
      "nan\n",
      "nan\n",
      "nan\n",
      "nan\n"
     ]
    },
    {
     "name": "stderr",
     "output_type": "stream",
     "text": [
      "\r",
      " 38%|██████████████████████████████▍                                                 | 261/686 [01:29<02:15,  3.13it/s]"
     ]
    },
    {
     "name": "stdout",
     "output_type": "stream",
     "text": [
      "nan\n",
      "nan\n",
      "nan\n",
      "nan\n",
      "nan\n"
     ]
    },
    {
     "name": "stderr",
     "output_type": "stream",
     "text": [
      "\r",
      " 38%|██████████████████████████████▌                                                 | 262/686 [01:30<02:18,  3.06it/s]"
     ]
    },
    {
     "name": "stdout",
     "output_type": "stream",
     "text": [
      "nan\n",
      "nan\n",
      "nan\n",
      "nan\n",
      "nan\n"
     ]
    },
    {
     "name": "stderr",
     "output_type": "stream",
     "text": [
      "\r",
      " 38%|██████████████████████████████▋                                                 | 263/686 [01:30<02:12,  3.19it/s]"
     ]
    },
    {
     "name": "stdout",
     "output_type": "stream",
     "text": [
      "nan\n",
      "nan\n",
      "nan\n",
      "nan\n",
      "nan\n"
     ]
    },
    {
     "name": "stderr",
     "output_type": "stream",
     "text": [
      "\r",
      " 38%|██████████████████████████████▊                                                 | 264/686 [01:30<02:07,  3.30it/s]"
     ]
    },
    {
     "name": "stdout",
     "output_type": "stream",
     "text": [
      "nan\n",
      "nan\n",
      "nan\n",
      "nan\n",
      "nan\n"
     ]
    },
    {
     "name": "stderr",
     "output_type": "stream",
     "text": [
      "\r",
      " 39%|██████████████████████████████▉                                                 | 265/686 [01:30<02:12,  3.19it/s]"
     ]
    },
    {
     "name": "stdout",
     "output_type": "stream",
     "text": [
      "nan\n",
      "nan\n",
      "nan\n",
      "nan\n",
      "nan\n"
     ]
    },
    {
     "name": "stderr",
     "output_type": "stream",
     "text": [
      "\r",
      " 39%|███████████████████████████████                                                 | 266/686 [01:31<02:12,  3.17it/s]"
     ]
    },
    {
     "name": "stdout",
     "output_type": "stream",
     "text": [
      "nan\n",
      "nan\n",
      "nan\n",
      "nan\n",
      "nan\n"
     ]
    },
    {
     "name": "stderr",
     "output_type": "stream",
     "text": [
      "\r",
      " 39%|███████████████████████████████▏                                                | 267/686 [01:31<02:08,  3.27it/s]"
     ]
    },
    {
     "name": "stdout",
     "output_type": "stream",
     "text": [
      "nan\n",
      "nan\n",
      "nan\n",
      "nan\n",
      "nan\n"
     ]
    },
    {
     "name": "stderr",
     "output_type": "stream",
     "text": [
      "\r",
      " 39%|███████████████████████████████▎                                                | 268/686 [01:32<02:49,  2.47it/s]"
     ]
    },
    {
     "name": "stdout",
     "output_type": "stream",
     "text": [
      "nan\n",
      "nan\n",
      "nan\n",
      "nan\n",
      "nan\n"
     ]
    },
    {
     "name": "stderr",
     "output_type": "stream",
     "text": [
      "\r",
      " 39%|███████████████████████████████▎                                                | 269/686 [01:32<02:57,  2.35it/s]"
     ]
    },
    {
     "name": "stdout",
     "output_type": "stream",
     "text": [
      "nan\n",
      "nan\n",
      "nan\n",
      "nan\n",
      "nan\n"
     ]
    },
    {
     "name": "stderr",
     "output_type": "stream",
     "text": [
      "\r",
      " 39%|███████████████████████████████▍                                                | 270/686 [01:33<02:59,  2.32it/s]"
     ]
    },
    {
     "name": "stdout",
     "output_type": "stream",
     "text": [
      "nan\n",
      "nan\n",
      "nan\n",
      "nan\n",
      "nan\n"
     ]
    },
    {
     "name": "stderr",
     "output_type": "stream",
     "text": [
      "\r",
      " 40%|███████████████████████████████▌                                                | 271/686 [01:33<02:42,  2.55it/s]"
     ]
    },
    {
     "name": "stdout",
     "output_type": "stream",
     "text": [
      "nan\n",
      "nan\n",
      "nan\n",
      "nan\n",
      "nan\n"
     ]
    },
    {
     "name": "stderr",
     "output_type": "stream",
     "text": [
      "\r",
      " 40%|███████████████████████████████▋                                                | 272/686 [01:33<02:44,  2.52it/s]"
     ]
    },
    {
     "name": "stdout",
     "output_type": "stream",
     "text": [
      "nan\n",
      "nan\n",
      "nan\n",
      "nan\n",
      "nan\n"
     ]
    },
    {
     "name": "stderr",
     "output_type": "stream",
     "text": [
      "\r",
      " 40%|███████████████████████████████▊                                                | 273/686 [01:34<02:43,  2.53it/s]"
     ]
    },
    {
     "name": "stdout",
     "output_type": "stream",
     "text": [
      "nan\n",
      "nan\n",
      "nan\n",
      "nan\n",
      "nan\n"
     ]
    },
    {
     "name": "stderr",
     "output_type": "stream",
     "text": [
      "\r",
      " 40%|███████████████████████████████▉                                                | 274/686 [01:34<02:35,  2.65it/s]"
     ]
    },
    {
     "name": "stdout",
     "output_type": "stream",
     "text": [
      "nan\n",
      "nan\n",
      "nan\n",
      "nan\n",
      "nan\n"
     ]
    },
    {
     "name": "stderr",
     "output_type": "stream",
     "text": [
      "\r",
      " 40%|████████████████████████████████                                                | 275/686 [01:34<02:31,  2.72it/s]"
     ]
    },
    {
     "name": "stdout",
     "output_type": "stream",
     "text": [
      "nan\n",
      "nan\n",
      "nan\n",
      "nan\n",
      "nan\n"
     ]
    },
    {
     "name": "stderr",
     "output_type": "stream",
     "text": [
      "\r",
      " 40%|████████████████████████████████▏                                               | 276/686 [01:35<02:33,  2.66it/s]"
     ]
    },
    {
     "name": "stdout",
     "output_type": "stream",
     "text": [
      "nan\n",
      "nan\n",
      "nan\n",
      "3.0\n",
      "nan\n"
     ]
    },
    {
     "name": "stderr",
     "output_type": "stream",
     "text": [
      "\r",
      " 40%|████████████████████████████████▎                                               | 277/686 [01:35<02:30,  2.72it/s]"
     ]
    },
    {
     "name": "stdout",
     "output_type": "stream",
     "text": [
      "nan\n",
      "nan\n",
      "nan\n",
      "nan\n",
      "nan\n"
     ]
    },
    {
     "name": "stderr",
     "output_type": "stream",
     "text": [
      "\r",
      " 41%|████████████████████████████████▍                                               | 278/686 [01:35<02:22,  2.86it/s]"
     ]
    },
    {
     "name": "stdout",
     "output_type": "stream",
     "text": [
      "nan\n",
      "nan\n",
      "nan\n",
      "nan\n",
      "nan\n"
     ]
    },
    {
     "name": "stderr",
     "output_type": "stream",
     "text": [
      "\r",
      " 41%|████████████████████████████████▌                                               | 279/686 [01:36<02:31,  2.70it/s]"
     ]
    },
    {
     "name": "stdout",
     "output_type": "stream",
     "text": [
      "nan\n",
      "nan\n",
      "nan\n",
      "nan\n",
      "nan\n"
     ]
    },
    {
     "name": "stderr",
     "output_type": "stream",
     "text": [
      "\r",
      " 41%|████████████████████████████████▋                                               | 280/686 [01:36<02:26,  2.78it/s]"
     ]
    },
    {
     "name": "stdout",
     "output_type": "stream",
     "text": [
      "nan\n",
      "nan\n",
      "nan\n",
      "nan\n",
      "nan\n"
     ]
    },
    {
     "name": "stderr",
     "output_type": "stream",
     "text": [
      "\r",
      " 41%|████████████████████████████████▊                                               | 281/686 [01:37<02:25,  2.78it/s]"
     ]
    },
    {
     "name": "stdout",
     "output_type": "stream",
     "text": [
      "nan\n",
      "nan\n",
      "nan\n",
      "nan\n",
      "nan\n"
     ]
    },
    {
     "name": "stderr",
     "output_type": "stream",
     "text": [
      "\r",
      " 41%|████████████████████████████████▉                                               | 282/686 [01:37<02:34,  2.62it/s]"
     ]
    },
    {
     "name": "stdout",
     "output_type": "stream",
     "text": [
      "nan\n",
      "nan\n",
      "nan\n",
      "nan\n",
      "nan\n"
     ]
    },
    {
     "name": "stderr",
     "output_type": "stream",
     "text": [
      "\r",
      " 41%|█████████████████████████████████                                               | 283/686 [01:37<02:28,  2.72it/s]"
     ]
    },
    {
     "name": "stdout",
     "output_type": "stream",
     "text": [
      "nan\n",
      "nan\n",
      "nan\n",
      "nan\n",
      "nan\n"
     ]
    },
    {
     "name": "stderr",
     "output_type": "stream",
     "text": [
      "\r",
      " 41%|█████████████████████████████████                                               | 284/686 [01:38<02:18,  2.90it/s]"
     ]
    },
    {
     "name": "stdout",
     "output_type": "stream",
     "text": [
      "nan\n",
      "nan\n",
      "nan\n",
      "nan\n",
      "nan\n"
     ]
    },
    {
     "name": "stderr",
     "output_type": "stream",
     "text": [
      "\r",
      " 42%|█████████████████████████████████▏                                              | 285/686 [01:38<02:22,  2.82it/s]"
     ]
    },
    {
     "name": "stdout",
     "output_type": "stream",
     "text": [
      "nan\n",
      "nan\n",
      "nan\n",
      "nan\n",
      "nan\n"
     ]
    },
    {
     "name": "stderr",
     "output_type": "stream",
     "text": [
      "\r",
      " 42%|█████████████████████████████████▎                                              | 286/686 [01:38<02:24,  2.77it/s]"
     ]
    },
    {
     "name": "stdout",
     "output_type": "stream",
     "text": [
      "nan\n",
      "nan\n",
      "nan\n",
      "nan\n",
      "nan\n"
     ]
    },
    {
     "name": "stderr",
     "output_type": "stream",
     "text": [
      "\r",
      " 42%|█████████████████████████████████▍                                              | 287/686 [01:39<02:19,  2.86it/s]"
     ]
    },
    {
     "name": "stdout",
     "output_type": "stream",
     "text": [
      "nan\n",
      "nan\n",
      "nan\n",
      "nan\n",
      "nan\n"
     ]
    },
    {
     "name": "stderr",
     "output_type": "stream",
     "text": [
      "\r",
      " 42%|█████████████████████████████████▌                                              | 288/686 [01:39<02:13,  2.98it/s]"
     ]
    },
    {
     "name": "stdout",
     "output_type": "stream",
     "text": [
      "nan\n",
      "nan\n",
      "nan\n",
      "nan\n",
      "nan\n"
     ]
    },
    {
     "name": "stderr",
     "output_type": "stream",
     "text": [
      "\r",
      " 42%|█████████████████████████████████▋                                              | 289/686 [01:39<02:13,  2.97it/s]"
     ]
    },
    {
     "name": "stdout",
     "output_type": "stream",
     "text": [
      "nan\n",
      "nan\n",
      "nan\n",
      "nan\n",
      "nan\n"
     ]
    },
    {
     "name": "stderr",
     "output_type": "stream",
     "text": [
      "\r",
      " 42%|█████████████████████████████████▊                                              | 290/686 [01:40<02:10,  3.03it/s]"
     ]
    },
    {
     "name": "stdout",
     "output_type": "stream",
     "text": [
      "nan\n",
      "nan\n",
      "nan\n",
      "nan\n",
      "nan\n"
     ]
    },
    {
     "name": "stderr",
     "output_type": "stream",
     "text": [
      "\r",
      " 42%|█████████████████████████████████▉                                              | 291/686 [01:40<02:06,  3.13it/s]"
     ]
    },
    {
     "name": "stdout",
     "output_type": "stream",
     "text": [
      "nan\n",
      "nan\n",
      "nan\n",
      "nan\n",
      "nan\n"
     ]
    },
    {
     "name": "stderr",
     "output_type": "stream",
     "text": [
      "\r",
      " 43%|██████████████████████████████████                                              | 292/686 [01:40<02:03,  3.19it/s]"
     ]
    },
    {
     "name": "stdout",
     "output_type": "stream",
     "text": [
      "nan\n",
      "nan\n",
      "nan\n",
      "nan\n",
      "nan\n"
     ]
    },
    {
     "name": "stderr",
     "output_type": "stream",
     "text": [
      "\r",
      " 43%|██████████████████████████████████▏                                             | 293/686 [01:41<02:34,  2.54it/s]"
     ]
    },
    {
     "name": "stdout",
     "output_type": "stream",
     "text": [
      "nan\n",
      "nan\n",
      "nan\n",
      "nan\n",
      "nan\n"
     ]
    },
    {
     "name": "stderr",
     "output_type": "stream",
     "text": [
      "\r",
      " 43%|██████████████████████████████████▎                                             | 294/686 [01:41<02:20,  2.79it/s]"
     ]
    },
    {
     "name": "stdout",
     "output_type": "stream",
     "text": [
      "nan\n",
      "nan\n",
      "nan\n",
      "nan\n",
      "nan\n"
     ]
    },
    {
     "name": "stderr",
     "output_type": "stream",
     "text": [
      "\r",
      " 43%|██████████████████████████████████▍                                             | 295/686 [01:42<02:36,  2.50it/s]"
     ]
    },
    {
     "name": "stdout",
     "output_type": "stream",
     "text": [
      "nan\n",
      "nan\n",
      "nan\n",
      "nan\n",
      "nan\n"
     ]
    },
    {
     "name": "stderr",
     "output_type": "stream",
     "text": [
      "\r",
      " 43%|██████████████████████████████████▌                                             | 296/686 [01:42<02:32,  2.55it/s]"
     ]
    },
    {
     "name": "stdout",
     "output_type": "stream",
     "text": [
      "nan\n",
      "nan\n",
      "nan\n",
      "nan\n",
      "nan\n"
     ]
    },
    {
     "name": "stderr",
     "output_type": "stream",
     "text": [
      "\r",
      " 43%|██████████████████████████████████▋                                             | 297/686 [01:42<02:22,  2.72it/s]"
     ]
    },
    {
     "name": "stdout",
     "output_type": "stream",
     "text": [
      "nan\n",
      "nan\n",
      "nan\n",
      "nan\n",
      "nan\n"
     ]
    },
    {
     "name": "stderr",
     "output_type": "stream",
     "text": [
      "\r",
      " 43%|██████████████████████████████████▊                                             | 298/686 [01:43<02:17,  2.82it/s]"
     ]
    },
    {
     "name": "stdout",
     "output_type": "stream",
     "text": [
      "nan\n",
      "nan\n",
      "nan\n",
      "nan\n",
      "nan\n"
     ]
    },
    {
     "name": "stderr",
     "output_type": "stream",
     "text": [
      "\r",
      " 44%|██████████████████████████████████▊                                             | 299/686 [01:43<02:13,  2.90it/s]"
     ]
    },
    {
     "name": "stdout",
     "output_type": "stream",
     "text": [
      "nan\n",
      "5.0\n",
      "nan\n",
      "3.0\n",
      "nan\n"
     ]
    },
    {
     "name": "stderr",
     "output_type": "stream",
     "text": [
      "\r",
      " 44%|██████████████████████████████████▉                                             | 300/686 [01:43<02:10,  2.95it/s]"
     ]
    },
    {
     "name": "stdout",
     "output_type": "stream",
     "text": [
      "nan\n",
      "nan\n",
      "nan\n",
      "nan\n",
      "nan\n"
     ]
    },
    {
     "name": "stderr",
     "output_type": "stream",
     "text": [
      "\r",
      " 44%|███████████████████████████████████                                             | 301/686 [01:44<02:08,  2.99it/s]"
     ]
    },
    {
     "name": "stdout",
     "output_type": "stream",
     "text": [
      "nan\n",
      "nan\n",
      "nan\n",
      "nan\n",
      "nan\n"
     ]
    },
    {
     "name": "stderr",
     "output_type": "stream",
     "text": [
      "\r",
      " 44%|███████████████████████████████████▏                                            | 302/686 [01:44<02:02,  3.12it/s]"
     ]
    },
    {
     "name": "stdout",
     "output_type": "stream",
     "text": [
      "nan\n",
      "nan\n",
      "nan\n",
      "nan\n",
      "nan\n"
     ]
    },
    {
     "name": "stderr",
     "output_type": "stream",
     "text": [
      "\r",
      " 44%|███████████████████████████████████▎                                            | 303/686 [01:44<02:03,  3.11it/s]"
     ]
    },
    {
     "name": "stdout",
     "output_type": "stream",
     "text": [
      "nan\n",
      "nan\n",
      "nan\n",
      "nan\n",
      "nan\n"
     ]
    },
    {
     "name": "stderr",
     "output_type": "stream",
     "text": [
      "\r",
      " 44%|███████████████████████████████████▍                                            | 304/686 [01:44<02:05,  3.04it/s]"
     ]
    },
    {
     "name": "stdout",
     "output_type": "stream",
     "text": [
      "nan\n",
      "4.0\n",
      "nan\n",
      "nan\n",
      "nan\n"
     ]
    },
    {
     "name": "stderr",
     "output_type": "stream",
     "text": [
      "\r",
      " 44%|███████████████████████████████████▌                                            | 305/686 [01:45<02:00,  3.17it/s]"
     ]
    },
    {
     "name": "stdout",
     "output_type": "stream",
     "text": [
      "nan\n",
      "nan\n",
      "nan\n",
      "nan\n",
      "nan\n"
     ]
    },
    {
     "name": "stderr",
     "output_type": "stream",
     "text": [
      "\r",
      " 45%|███████████████████████████████████▋                                            | 306/686 [01:45<02:01,  3.14it/s]"
     ]
    },
    {
     "name": "stdout",
     "output_type": "stream",
     "text": [
      "nan\n",
      "nan\n",
      "nan\n",
      "nan\n",
      "nan\n"
     ]
    },
    {
     "name": "stderr",
     "output_type": "stream",
     "text": [
      "\r",
      " 45%|███████████████████████████████████▊                                            | 307/686 [01:45<02:00,  3.15it/s]"
     ]
    },
    {
     "name": "stdout",
     "output_type": "stream",
     "text": [
      "nan\n",
      "nan\n",
      "nan\n",
      "nan\n",
      "nan\n"
     ]
    },
    {
     "name": "stderr",
     "output_type": "stream",
     "text": [
      "\r",
      " 45%|███████████████████████████████████▉                                            | 308/686 [01:46<02:01,  3.10it/s]"
     ]
    },
    {
     "name": "stdout",
     "output_type": "stream",
     "text": [
      "nan\n",
      "nan\n",
      "nan\n",
      "nan\n",
      "nan\n"
     ]
    },
    {
     "name": "stderr",
     "output_type": "stream",
     "text": [
      "\r",
      " 45%|████████████████████████████████████                                            | 309/686 [01:46<02:00,  3.14it/s]"
     ]
    },
    {
     "name": "stdout",
     "output_type": "stream",
     "text": [
      "nan\n",
      "nan\n",
      "nan\n",
      "nan\n",
      "nan\n"
     ]
    },
    {
     "name": "stderr",
     "output_type": "stream",
     "text": [
      "\r",
      " 45%|████████████████████████████████████▏                                           | 310/686 [01:46<01:57,  3.21it/s]"
     ]
    },
    {
     "name": "stdout",
     "output_type": "stream",
     "text": [
      "nan\n",
      "nan\n",
      "nan\n",
      "nan\n",
      "nan\n"
     ]
    },
    {
     "name": "stderr",
     "output_type": "stream",
     "text": [
      "\r",
      " 45%|████████████████████████████████████▎                                           | 311/686 [01:47<01:55,  3.26it/s]"
     ]
    },
    {
     "name": "stdout",
     "output_type": "stream",
     "text": [
      "nan\n",
      "nan\n",
      "nan\n",
      "nan\n",
      "nan\n"
     ]
    },
    {
     "name": "stderr",
     "output_type": "stream",
     "text": [
      "\r",
      " 45%|████████████████████████████████████▍                                           | 312/686 [01:47<01:52,  3.32it/s]"
     ]
    },
    {
     "name": "stdout",
     "output_type": "stream",
     "text": [
      "nan\n",
      "nan\n",
      "nan\n",
      "nan\n",
      "nan\n"
     ]
    },
    {
     "name": "stderr",
     "output_type": "stream",
     "text": [
      "\r",
      " 46%|████████████████████████████████████▌                                           | 313/686 [01:47<01:54,  3.26it/s]"
     ]
    },
    {
     "name": "stdout",
     "output_type": "stream",
     "text": [
      "nan\n",
      "nan\n",
      "nan\n",
      "nan\n",
      "nan\n"
     ]
    },
    {
     "name": "stderr",
     "output_type": "stream",
     "text": [
      "\r",
      " 46%|████████████████████████████████████▌                                           | 314/686 [01:48<01:53,  3.27it/s]"
     ]
    },
    {
     "name": "stdout",
     "output_type": "stream",
     "text": [
      "nan\n",
      "nan\n",
      "nan\n",
      "nan\n",
      "nan\n"
     ]
    },
    {
     "name": "stderr",
     "output_type": "stream",
     "text": [
      "\r",
      " 46%|████████████████████████████████████▋                                           | 315/686 [01:48<01:58,  3.13it/s]"
     ]
    },
    {
     "name": "stdout",
     "output_type": "stream",
     "text": [
      "nan\n",
      "nan\n",
      "nan\n",
      "nan\n",
      "nan\n"
     ]
    },
    {
     "name": "stderr",
     "output_type": "stream",
     "text": [
      "\r",
      " 46%|████████████████████████████████████▊                                           | 316/686 [01:48<02:02,  3.01it/s]"
     ]
    },
    {
     "name": "stdout",
     "output_type": "stream",
     "text": [
      "nan\n",
      "nan\n",
      "nan\n",
      "nan\n",
      "nan\n"
     ]
    },
    {
     "name": "stderr",
     "output_type": "stream",
     "text": [
      "\r",
      " 46%|████████████████████████████████████▉                                           | 317/686 [01:49<01:59,  3.09it/s]"
     ]
    },
    {
     "name": "stdout",
     "output_type": "stream",
     "text": [
      "nan\n",
      "nan\n",
      "nan\n",
      "nan\n",
      "nan\n"
     ]
    },
    {
     "name": "stderr",
     "output_type": "stream",
     "text": [
      "\r",
      " 46%|█████████████████████████████████████                                           | 318/686 [01:49<02:01,  3.03it/s]"
     ]
    },
    {
     "name": "stdout",
     "output_type": "stream",
     "text": [
      "nan\n",
      "nan\n",
      "nan\n",
      "nan\n",
      "nan\n"
     ]
    },
    {
     "name": "stderr",
     "output_type": "stream",
     "text": [
      "\r",
      " 47%|█████████████████████████████████████▏                                          | 319/686 [01:50<02:34,  2.38it/s]"
     ]
    },
    {
     "name": "stdout",
     "output_type": "stream",
     "text": [
      "nan\n",
      "nan\n",
      "nan\n",
      "nan\n",
      "nan\n"
     ]
    },
    {
     "name": "stderr",
     "output_type": "stream",
     "text": [
      "\r",
      " 47%|█████████████████████████████████████▎                                          | 320/686 [01:50<02:26,  2.49it/s]"
     ]
    },
    {
     "name": "stdout",
     "output_type": "stream",
     "text": [
      "nan\n",
      "nan\n",
      "nan\n",
      "nan\n",
      "nan\n"
     ]
    },
    {
     "name": "stderr",
     "output_type": "stream",
     "text": [
      "\r",
      " 47%|█████████████████████████████████████▍                                          | 321/686 [01:50<02:15,  2.70it/s]"
     ]
    },
    {
     "name": "stdout",
     "output_type": "stream",
     "text": [
      "nan\n",
      "nan\n",
      "nan\n",
      "nan\n",
      "nan\n"
     ]
    },
    {
     "name": "stderr",
     "output_type": "stream",
     "text": [
      "\r",
      " 47%|█████████████████████████████████████▌                                          | 322/686 [01:51<02:40,  2.26it/s]"
     ]
    },
    {
     "name": "stdout",
     "output_type": "stream",
     "text": [
      "nan\n",
      "nan\n",
      "nan\n",
      "nan\n",
      "nan\n"
     ]
    },
    {
     "name": "stderr",
     "output_type": "stream",
     "text": [
      "\r",
      " 47%|█████████████████████████████████████▋                                          | 323/686 [01:51<02:33,  2.37it/s]"
     ]
    },
    {
     "name": "stdout",
     "output_type": "stream",
     "text": [
      "nan\n",
      "nan\n",
      "nan\n",
      "nan\n",
      "nan\n"
     ]
    },
    {
     "name": "stderr",
     "output_type": "stream",
     "text": [
      "\r",
      " 47%|█████████████████████████████████████▊                                          | 324/686 [01:52<02:26,  2.47it/s]"
     ]
    },
    {
     "name": "stdout",
     "output_type": "stream",
     "text": [
      "nan\n",
      "nan\n",
      "4.0\n",
      "nan\n",
      "nan\n"
     ]
    },
    {
     "name": "stderr",
     "output_type": "stream",
     "text": [
      "\r",
      " 47%|█████████████████████████████████████▉                                          | 325/686 [01:52<02:13,  2.69it/s]"
     ]
    },
    {
     "name": "stdout",
     "output_type": "stream",
     "text": [
      "nan\n",
      "nan\n",
      "nan\n",
      "nan\n",
      "nan\n"
     ]
    },
    {
     "name": "stderr",
     "output_type": "stream",
     "text": [
      "\r",
      " 48%|██████████████████████████████████████                                          | 326/686 [01:52<02:09,  2.77it/s]"
     ]
    },
    {
     "name": "stdout",
     "output_type": "stream",
     "text": [
      "nan\n",
      "nan\n",
      "nan\n",
      "nan\n",
      "nan\n"
     ]
    },
    {
     "name": "stderr",
     "output_type": "stream",
     "text": [
      "\r",
      " 48%|██████████████████████████████████████▏                                         | 327/686 [01:52<02:02,  2.93it/s]"
     ]
    },
    {
     "name": "stdout",
     "output_type": "stream",
     "text": [
      "nan\n",
      "nan\n",
      "nan\n",
      "nan\n",
      "nan\n"
     ]
    },
    {
     "name": "stderr",
     "output_type": "stream",
     "text": [
      "\r",
      " 48%|██████████████████████████████████████▎                                         | 328/686 [01:53<02:01,  2.95it/s]"
     ]
    },
    {
     "name": "stdout",
     "output_type": "stream",
     "text": [
      "nan\n",
      "nan\n",
      "nan\n",
      "nan\n",
      "nan\n"
     ]
    },
    {
     "name": "stderr",
     "output_type": "stream",
     "text": [
      "\r",
      " 48%|██████████████████████████████████████▎                                         | 329/686 [01:53<01:57,  3.05it/s]"
     ]
    },
    {
     "name": "stdout",
     "output_type": "stream",
     "text": [
      "nan\n",
      "nan\n",
      "nan\n",
      "nan\n",
      "nan\n"
     ]
    },
    {
     "name": "stderr",
     "output_type": "stream",
     "text": [
      "\r",
      " 48%|██████████████████████████████████████▍                                         | 330/686 [01:53<02:00,  2.96it/s]"
     ]
    },
    {
     "name": "stdout",
     "output_type": "stream",
     "text": [
      "nan\n",
      "nan\n",
      "nan\n",
      "nan\n",
      "nan\n"
     ]
    },
    {
     "name": "stderr",
     "output_type": "stream",
     "text": [
      "\r",
      " 48%|██████████████████████████████████████▌                                         | 331/686 [01:54<02:20,  2.52it/s]"
     ]
    },
    {
     "name": "stdout",
     "output_type": "stream",
     "text": [
      "nan\n",
      "3.0\n",
      "nan\n",
      "nan\n",
      "2.0\n"
     ]
    },
    {
     "name": "stderr",
     "output_type": "stream",
     "text": [
      "\r",
      " 48%|██████████████████████████████████████▋                                         | 332/686 [01:54<02:22,  2.48it/s]"
     ]
    },
    {
     "name": "stdout",
     "output_type": "stream",
     "text": [
      "nan\n",
      "nan\n",
      "nan\n",
      "nan\n",
      "nan\n"
     ]
    },
    {
     "name": "stderr",
     "output_type": "stream",
     "text": [
      "\r",
      " 49%|██████████████████████████████████████▊                                         | 333/686 [01:55<02:38,  2.23it/s]"
     ]
    },
    {
     "name": "stdout",
     "output_type": "stream",
     "text": [
      "nan\n",
      "nan\n",
      "nan\n",
      "nan\n",
      "nan\n"
     ]
    },
    {
     "name": "stderr",
     "output_type": "stream",
     "text": [
      "\r",
      " 49%|██████████████████████████████████████▉                                         | 334/686 [01:55<02:24,  2.44it/s]"
     ]
    },
    {
     "name": "stdout",
     "output_type": "stream",
     "text": [
      "nan\n",
      "nan\n",
      "nan\n",
      "nan\n",
      "nan\n"
     ]
    },
    {
     "name": "stderr",
     "output_type": "stream",
     "text": [
      "\r",
      " 49%|███████████████████████████████████████                                         | 335/686 [01:56<02:11,  2.67it/s]"
     ]
    },
    {
     "name": "stdout",
     "output_type": "stream",
     "text": [
      "nan\n",
      "nan\n",
      "nan\n",
      "nan\n",
      "nan\n"
     ]
    },
    {
     "name": "stderr",
     "output_type": "stream",
     "text": [
      "\r",
      " 49%|███████████████████████████████████████▏                                        | 336/686 [01:56<02:02,  2.86it/s]"
     ]
    },
    {
     "name": "stdout",
     "output_type": "stream",
     "text": [
      "nan\n",
      "nan\n",
      "nan\n",
      "nan\n",
      "nan\n"
     ]
    },
    {
     "name": "stderr",
     "output_type": "stream",
     "text": [
      "\r",
      " 49%|███████████████████████████████████████▎                                        | 337/686 [01:56<02:06,  2.77it/s]"
     ]
    },
    {
     "name": "stdout",
     "output_type": "stream",
     "text": [
      "nan\n",
      "nan\n",
      "nan\n",
      "nan\n",
      "nan\n"
     ]
    },
    {
     "name": "stderr",
     "output_type": "stream",
     "text": [
      "\r",
      " 49%|███████████████████████████████████████▍                                        | 338/686 [01:57<02:00,  2.88it/s]"
     ]
    },
    {
     "name": "stdout",
     "output_type": "stream",
     "text": [
      "nan\n",
      "nan\n",
      "nan\n",
      "nan\n",
      "nan\n"
     ]
    },
    {
     "name": "stderr",
     "output_type": "stream",
     "text": [
      "\r",
      " 49%|███████████████████████████████████████▌                                        | 339/686 [01:57<01:59,  2.90it/s]"
     ]
    },
    {
     "name": "stdout",
     "output_type": "stream",
     "text": [
      "nan\n",
      "nan\n",
      "nan\n",
      "nan\n",
      "nan\n"
     ]
    },
    {
     "name": "stderr",
     "output_type": "stream",
     "text": [
      "\r",
      " 50%|███████████████████████████████████████▋                                        | 340/686 [01:57<01:53,  3.04it/s]"
     ]
    },
    {
     "name": "stdout",
     "output_type": "stream",
     "text": [
      "nan\n",
      "nan\n",
      "nan\n",
      "nan\n",
      "nan\n"
     ]
    },
    {
     "name": "stderr",
     "output_type": "stream",
     "text": [
      "\r",
      " 50%|███████████████████████████████████████▊                                        | 341/686 [01:57<01:48,  3.17it/s]"
     ]
    },
    {
     "name": "stdout",
     "output_type": "stream",
     "text": [
      "nan\n",
      "nan\n",
      "nan\n",
      "nan\n",
      "nan\n"
     ]
    },
    {
     "name": "stderr",
     "output_type": "stream",
     "text": [
      "\r",
      " 50%|███████████████████████████████████████▉                                        | 342/686 [01:58<02:22,  2.41it/s]"
     ]
    },
    {
     "name": "stdout",
     "output_type": "stream",
     "text": [
      "nan\n",
      "nan\n",
      "nan\n",
      "nan\n",
      "nan\n"
     ]
    },
    {
     "name": "stderr",
     "output_type": "stream",
     "text": [
      "\r",
      " 50%|████████████████████████████████████████                                        | 343/686 [01:59<02:24,  2.37it/s]"
     ]
    },
    {
     "name": "stdout",
     "output_type": "stream",
     "text": [
      "nan\n",
      "nan\n",
      "nan\n",
      "nan\n",
      "nan\n"
     ]
    },
    {
     "name": "stderr",
     "output_type": "stream",
     "text": [
      "\r",
      " 50%|████████████████████████████████████████                                        | 344/686 [01:59<02:29,  2.29it/s]"
     ]
    },
    {
     "name": "stdout",
     "output_type": "stream",
     "text": [
      "nan\n",
      "4.0\n",
      "nan\n",
      "nan\n",
      "nan\n"
     ]
    },
    {
     "name": "stderr",
     "output_type": "stream",
     "text": [
      "\r",
      " 50%|████████████████████████████████████████▏                                       | 345/686 [01:59<02:13,  2.56it/s]"
     ]
    },
    {
     "name": "stdout",
     "output_type": "stream",
     "text": [
      "nan\n",
      "nan\n",
      "nan\n",
      "4.0\n",
      "nan\n"
     ]
    },
    {
     "name": "stderr",
     "output_type": "stream",
     "text": [
      "\r",
      " 50%|████████████████████████████████████████▎                                       | 346/686 [02:00<02:02,  2.78it/s]"
     ]
    },
    {
     "name": "stdout",
     "output_type": "stream",
     "text": [
      "nan\n",
      "nan\n",
      "nan\n",
      "nan\n",
      "nan\n"
     ]
    },
    {
     "name": "stderr",
     "output_type": "stream",
     "text": [
      "\r",
      " 51%|████████████████████████████████████████▍                                       | 347/686 [02:00<01:57,  2.88it/s]"
     ]
    },
    {
     "name": "stdout",
     "output_type": "stream",
     "text": [
      "nan\n",
      "nan\n",
      "nan\n",
      "nan\n",
      "nan\n"
     ]
    },
    {
     "name": "stderr",
     "output_type": "stream",
     "text": [
      "\r",
      " 51%|████████████████████████████████████████▌                                       | 348/686 [02:00<01:54,  2.94it/s]"
     ]
    },
    {
     "name": "stdout",
     "output_type": "stream",
     "text": [
      "nan\n",
      "nan\n",
      "nan\n",
      "nan\n",
      "nan\n"
     ]
    },
    {
     "name": "stderr",
     "output_type": "stream",
     "text": [
      "\r",
      " 51%|████████████████████████████████████████▋                                       | 349/686 [02:01<01:51,  3.02it/s]"
     ]
    },
    {
     "name": "stdout",
     "output_type": "stream",
     "text": [
      "nan\n",
      "nan\n",
      "nan\n",
      "nan\n",
      "nan\n"
     ]
    },
    {
     "name": "stderr",
     "output_type": "stream",
     "text": [
      "\r",
      " 51%|████████████████████████████████████████▊                                       | 350/686 [02:01<01:48,  3.11it/s]"
     ]
    },
    {
     "name": "stdout",
     "output_type": "stream",
     "text": [
      "nan\n",
      "nan\n",
      "nan\n",
      "nan\n",
      "nan\n"
     ]
    },
    {
     "name": "stderr",
     "output_type": "stream",
     "text": [
      "\r",
      " 51%|████████████████████████████████████████▉                                       | 351/686 [02:01<01:47,  3.13it/s]"
     ]
    },
    {
     "name": "stdout",
     "output_type": "stream",
     "text": [
      "nan\n",
      "nan\n",
      "nan\n",
      "nan\n",
      "nan\n"
     ]
    },
    {
     "name": "stderr",
     "output_type": "stream",
     "text": [
      "\r",
      " 51%|█████████████████████████████████████████                                       | 352/686 [02:02<01:49,  3.04it/s]"
     ]
    },
    {
     "name": "stdout",
     "output_type": "stream",
     "text": [
      "nan\n",
      "nan\n",
      "nan\n",
      "nan\n",
      "nan\n"
     ]
    },
    {
     "name": "stderr",
     "output_type": "stream",
     "text": [
      "\r",
      " 51%|█████████████████████████████████████████▏                                      | 353/686 [02:02<01:44,  3.19it/s]"
     ]
    },
    {
     "name": "stdout",
     "output_type": "stream",
     "text": [
      "nan\n",
      "nan\n",
      "nan\n",
      "nan\n",
      "nan\n"
     ]
    },
    {
     "name": "stderr",
     "output_type": "stream",
     "text": [
      "\r",
      " 52%|█████████████████████████████████████████▎                                      | 354/686 [02:02<01:40,  3.30it/s]"
     ]
    },
    {
     "name": "stdout",
     "output_type": "stream",
     "text": [
      "nan\n",
      "nan\n",
      "nan\n",
      "nan\n",
      "nan\n"
     ]
    },
    {
     "name": "stderr",
     "output_type": "stream",
     "text": [
      "\r",
      " 52%|█████████████████████████████████████████▍                                      | 355/686 [02:02<01:41,  3.25it/s]"
     ]
    },
    {
     "name": "stdout",
     "output_type": "stream",
     "text": [
      "nan\n",
      "nan\n",
      "nan\n",
      "nan\n",
      "nan\n"
     ]
    },
    {
     "name": "stderr",
     "output_type": "stream",
     "text": [
      "\r",
      " 52%|█████████████████████████████████████████▌                                      | 356/686 [02:03<01:44,  3.16it/s]"
     ]
    },
    {
     "name": "stdout",
     "output_type": "stream",
     "text": [
      "nan\n",
      "nan\n",
      "nan\n",
      "nan\n",
      "nan\n"
     ]
    },
    {
     "name": "stderr",
     "output_type": "stream",
     "text": [
      "\r",
      " 52%|█████████████████████████████████████████▋                                      | 357/686 [02:03<01:41,  3.23it/s]"
     ]
    },
    {
     "name": "stdout",
     "output_type": "stream",
     "text": [
      "nan\n",
      "nan\n",
      "nan\n",
      "nan\n",
      "nan\n"
     ]
    },
    {
     "name": "stderr",
     "output_type": "stream",
     "text": [
      "\r",
      " 52%|█████████████████████████████████████████▋                                      | 358/686 [02:03<01:41,  3.22it/s]"
     ]
    },
    {
     "name": "stdout",
     "output_type": "stream",
     "text": [
      "nan\n",
      "nan\n",
      "nan\n",
      "nan\n",
      "nan\n"
     ]
    },
    {
     "name": "stderr",
     "output_type": "stream",
     "text": [
      "\r",
      " 52%|█████████████████████████████████████████▊                                      | 359/686 [02:04<02:16,  2.40it/s]"
     ]
    },
    {
     "name": "stdout",
     "output_type": "stream",
     "text": [
      "nan\n",
      "nan\n",
      "nan\n",
      "nan\n",
      "nan\n"
     ]
    },
    {
     "name": "stderr",
     "output_type": "stream",
     "text": [
      "\r",
      " 52%|█████████████████████████████████████████▉                                      | 360/686 [02:05<02:47,  1.95it/s]"
     ]
    },
    {
     "name": "stdout",
     "output_type": "stream",
     "text": [
      "nan\n",
      "nan\n",
      "nan\n",
      "nan\n",
      "nan\n"
     ]
    },
    {
     "name": "stderr",
     "output_type": "stream",
     "text": [
      "\r",
      " 53%|██████████████████████████████████████████                                      | 361/686 [02:05<02:29,  2.17it/s]"
     ]
    },
    {
     "name": "stdout",
     "output_type": "stream",
     "text": [
      "nan\n",
      "nan\n",
      "nan\n",
      "nan\n",
      "3.0\n"
     ]
    },
    {
     "name": "stderr",
     "output_type": "stream",
     "text": [
      "\r",
      " 53%|██████████████████████████████████████████▏                                     | 362/686 [02:05<02:16,  2.38it/s]"
     ]
    },
    {
     "name": "stdout",
     "output_type": "stream",
     "text": [
      "nan\n",
      "nan\n",
      "nan\n",
      "nan\n",
      "4.0\n"
     ]
    },
    {
     "name": "stderr",
     "output_type": "stream",
     "text": [
      "\r",
      " 53%|██████████████████████████████████████████▎                                     | 363/686 [02:06<02:03,  2.62it/s]"
     ]
    },
    {
     "name": "stdout",
     "output_type": "stream",
     "text": [
      "nan\n",
      "nan\n",
      "nan\n",
      "nan\n",
      "nan\n"
     ]
    },
    {
     "name": "stderr",
     "output_type": "stream",
     "text": [
      "\r",
      " 53%|██████████████████████████████████████████▍                                     | 364/686 [02:06<02:05,  2.57it/s]"
     ]
    },
    {
     "name": "stdout",
     "output_type": "stream",
     "text": [
      "nan\n",
      "nan\n",
      "nan\n",
      "nan\n",
      "nan\n"
     ]
    },
    {
     "name": "stderr",
     "output_type": "stream",
     "text": [
      "\r",
      " 53%|██████████████████████████████████████████▌                                     | 365/686 [02:07<02:06,  2.54it/s]"
     ]
    },
    {
     "name": "stdout",
     "output_type": "stream",
     "text": [
      "nan\n",
      "nan\n",
      "nan\n",
      "nan\n",
      "nan\n"
     ]
    },
    {
     "name": "stderr",
     "output_type": "stream",
     "text": [
      "\r",
      " 53%|██████████████████████████████████████████▋                                     | 366/686 [02:07<02:05,  2.56it/s]"
     ]
    },
    {
     "name": "stdout",
     "output_type": "stream",
     "text": [
      "nan\n",
      "nan\n",
      "nan\n",
      "nan\n",
      "nan\n"
     ]
    },
    {
     "name": "stderr",
     "output_type": "stream",
     "text": [
      "\r",
      " 53%|██████████████████████████████████████████▊                                     | 367/686 [02:07<02:02,  2.60it/s]"
     ]
    },
    {
     "name": "stdout",
     "output_type": "stream",
     "text": [
      "nan\n",
      "nan\n",
      "nan\n",
      "nan\n",
      "nan\n"
     ]
    },
    {
     "name": "stderr",
     "output_type": "stream",
     "text": [
      "\r",
      " 54%|██████████████████████████████████████████▉                                     | 368/686 [02:08<02:01,  2.63it/s]"
     ]
    },
    {
     "name": "stdout",
     "output_type": "stream",
     "text": [
      "nan\n",
      "nan\n",
      "nan\n",
      "nan\n",
      "nan\n"
     ]
    },
    {
     "name": "stderr",
     "output_type": "stream",
     "text": [
      "\r",
      " 54%|███████████████████████████████████████████                                     | 369/686 [02:08<02:01,  2.62it/s]"
     ]
    },
    {
     "name": "stdout",
     "output_type": "stream",
     "text": [
      "nan\n",
      "nan\n",
      "nan\n",
      "nan\n",
      "nan\n"
     ]
    },
    {
     "name": "stderr",
     "output_type": "stream",
     "text": [
      "\r",
      " 54%|███████████████████████████████████████████▏                                    | 370/686 [02:08<02:00,  2.63it/s]"
     ]
    },
    {
     "name": "stdout",
     "output_type": "stream",
     "text": [
      "nan\n",
      "nan\n",
      "nan\n",
      "nan\n",
      "nan\n"
     ]
    },
    {
     "name": "stderr",
     "output_type": "stream",
     "text": [
      "\r",
      " 54%|███████████████████████████████████████████▎                                    | 371/686 [02:09<01:55,  2.72it/s]"
     ]
    },
    {
     "name": "stdout",
     "output_type": "stream",
     "text": [
      "nan\n",
      "nan\n",
      "nan\n",
      "nan\n",
      "nan\n"
     ]
    },
    {
     "name": "stderr",
     "output_type": "stream",
     "text": [
      "\r",
      " 54%|███████████████████████████████████████████▍                                    | 372/686 [02:09<01:49,  2.87it/s]"
     ]
    },
    {
     "name": "stdout",
     "output_type": "stream",
     "text": [
      "nan\n",
      "nan\n",
      "nan\n",
      "nan\n",
      "nan\n"
     ]
    },
    {
     "name": "stderr",
     "output_type": "stream",
     "text": [
      "\r",
      " 54%|███████████████████████████████████████████▍                                    | 373/686 [02:09<01:44,  2.98it/s]"
     ]
    },
    {
     "name": "stdout",
     "output_type": "stream",
     "text": [
      "nan\n",
      "nan\n",
      "nan\n",
      "nan\n",
      "nan\n"
     ]
    },
    {
     "name": "stderr",
     "output_type": "stream",
     "text": [
      "\r",
      " 55%|███████████████████████████████████████████▌                                    | 374/686 [02:10<01:40,  3.11it/s]"
     ]
    },
    {
     "name": "stdout",
     "output_type": "stream",
     "text": [
      "nan\n",
      "nan\n",
      "nan\n",
      "nan\n",
      "nan\n"
     ]
    },
    {
     "name": "stderr",
     "output_type": "stream",
     "text": [
      "\r",
      " 55%|███████████████████████████████████████████▋                                    | 375/686 [02:10<01:44,  2.97it/s]"
     ]
    },
    {
     "name": "stdout",
     "output_type": "stream",
     "text": [
      "nan\n",
      "nan\n",
      "nan\n",
      "nan\n",
      "nan\n"
     ]
    },
    {
     "name": "stderr",
     "output_type": "stream",
     "text": [
      "\r",
      " 55%|███████████████████████████████████████████▊                                    | 376/686 [02:10<01:43,  3.01it/s]"
     ]
    },
    {
     "name": "stdout",
     "output_type": "stream",
     "text": [
      "nan\n",
      "nan\n",
      "nan\n",
      "nan\n",
      "nan\n"
     ]
    },
    {
     "name": "stderr",
     "output_type": "stream",
     "text": [
      "\r",
      " 55%|███████████████████████████████████████████▉                                    | 377/686 [02:11<01:59,  2.59it/s]"
     ]
    },
    {
     "name": "stdout",
     "output_type": "stream",
     "text": [
      "nan\n",
      "nan\n",
      "nan\n",
      "nan\n",
      "nan\n"
     ]
    },
    {
     "name": "stderr",
     "output_type": "stream",
     "text": [
      "\r",
      " 55%|████████████████████████████████████████████                                    | 378/686 [02:11<02:14,  2.29it/s]"
     ]
    },
    {
     "name": "stdout",
     "output_type": "stream",
     "text": [
      "nan\n",
      "nan\n",
      "nan\n",
      "nan\n",
      "nan\n"
     ]
    },
    {
     "name": "stderr",
     "output_type": "stream",
     "text": [
      "\r",
      " 55%|████████████████████████████████████████████▏                                   | 379/686 [02:12<02:13,  2.30it/s]"
     ]
    },
    {
     "name": "stdout",
     "output_type": "stream",
     "text": [
      "nan\n",
      "nan\n",
      "nan\n",
      "nan\n",
      "nan\n"
     ]
    },
    {
     "name": "stderr",
     "output_type": "stream",
     "text": [
      "\r",
      " 55%|████████████████████████████████████████████▎                                   | 380/686 [02:12<02:19,  2.19it/s]"
     ]
    },
    {
     "name": "stdout",
     "output_type": "stream",
     "text": [
      "nan\n",
      "nan\n",
      "nan\n",
      "nan\n",
      "nan\n"
     ]
    },
    {
     "name": "stderr",
     "output_type": "stream",
     "text": [
      "\r",
      " 56%|████████████████████████████████████████████▍                                   | 381/686 [02:13<02:10,  2.34it/s]"
     ]
    },
    {
     "name": "stdout",
     "output_type": "stream",
     "text": [
      "nan\n",
      "nan\n",
      "nan\n",
      "nan\n",
      "5.0\n"
     ]
    },
    {
     "name": "stderr",
     "output_type": "stream",
     "text": [
      "\r",
      " 56%|████████████████████████████████████████████▌                                   | 382/686 [02:13<02:10,  2.34it/s]"
     ]
    },
    {
     "name": "stdout",
     "output_type": "stream",
     "text": [
      "nan\n",
      "nan\n",
      "nan\n",
      "nan\n",
      "nan\n"
     ]
    },
    {
     "name": "stderr",
     "output_type": "stream",
     "text": [
      "\r",
      " 56%|████████████████████████████████████████████▋                                   | 383/686 [02:13<02:03,  2.46it/s]"
     ]
    },
    {
     "name": "stdout",
     "output_type": "stream",
     "text": [
      "nan\n",
      "nan\n",
      "nan\n",
      "nan\n",
      "nan\n"
     ]
    },
    {
     "name": "stderr",
     "output_type": "stream",
     "text": [
      "\r",
      " 56%|████████████████████████████████████████████▊                                   | 384/686 [02:14<02:04,  2.42it/s]"
     ]
    },
    {
     "name": "stdout",
     "output_type": "stream",
     "text": [
      "nan\n",
      "nan\n",
      "nan\n",
      "nan\n",
      "nan\n"
     ]
    },
    {
     "name": "stderr",
     "output_type": "stream",
     "text": [
      "\r",
      " 56%|████████████████████████████████████████████▉                                   | 385/686 [02:14<02:03,  2.43it/s]"
     ]
    },
    {
     "name": "stdout",
     "output_type": "stream",
     "text": [
      "nan\n",
      "nan\n",
      "nan\n",
      "nan\n",
      "nan\n"
     ]
    },
    {
     "name": "stderr",
     "output_type": "stream",
     "text": [
      "\r",
      " 56%|█████████████████████████████████████████████                                   | 386/686 [02:15<02:04,  2.41it/s]"
     ]
    },
    {
     "name": "stdout",
     "output_type": "stream",
     "text": [
      "nan\n",
      "nan\n",
      "nan\n",
      "nan\n",
      "nan\n"
     ]
    },
    {
     "name": "stderr",
     "output_type": "stream",
     "text": [
      "\r",
      " 56%|█████████████████████████████████████████████▏                                  | 387/686 [02:15<02:08,  2.33it/s]"
     ]
    },
    {
     "name": "stdout",
     "output_type": "stream",
     "text": [
      "nan\n",
      "nan\n",
      "nan\n",
      "nan\n",
      "nan\n"
     ]
    },
    {
     "name": "stderr",
     "output_type": "stream",
     "text": [
      "\r",
      " 57%|█████████████████████████████████████████████▏                                  | 388/686 [02:16<02:09,  2.31it/s]"
     ]
    },
    {
     "name": "stdout",
     "output_type": "stream",
     "text": [
      "nan\n",
      "nan\n",
      "nan\n",
      "nan\n",
      "nan\n"
     ]
    },
    {
     "name": "stderr",
     "output_type": "stream",
     "text": [
      "\r",
      " 57%|█████████████████████████████████████████████▎                                  | 389/686 [02:16<02:02,  2.42it/s]"
     ]
    },
    {
     "name": "stdout",
     "output_type": "stream",
     "text": [
      "nan\n",
      "nan\n",
      "nan\n",
      "nan\n",
      "nan\n"
     ]
    },
    {
     "name": "stderr",
     "output_type": "stream",
     "text": [
      "\r",
      " 57%|█████████████████████████████████████████████▍                                  | 390/686 [02:17<02:26,  2.03it/s]"
     ]
    },
    {
     "name": "stdout",
     "output_type": "stream",
     "text": [
      "nan\n",
      "nan\n",
      "nan\n",
      "nan\n",
      "nan\n"
     ]
    },
    {
     "name": "stderr",
     "output_type": "stream",
     "text": [
      "\r",
      " 57%|█████████████████████████████████████████████▌                                  | 391/686 [02:17<02:23,  2.05it/s]"
     ]
    },
    {
     "name": "stdout",
     "output_type": "stream",
     "text": [
      "nan\n",
      "nan\n",
      "nan\n",
      "nan\n",
      "nan\n"
     ]
    },
    {
     "name": "stderr",
     "output_type": "stream",
     "text": [
      "\r",
      " 57%|█████████████████████████████████████████████▋                                  | 392/686 [02:18<02:10,  2.26it/s]"
     ]
    },
    {
     "name": "stdout",
     "output_type": "stream",
     "text": [
      "nan\n",
      "nan\n",
      "nan\n",
      "nan\n",
      "nan\n"
     ]
    },
    {
     "name": "stderr",
     "output_type": "stream",
     "text": [
      "\r",
      " 57%|█████████████████████████████████████████████▊                                  | 393/686 [02:18<02:07,  2.30it/s]"
     ]
    },
    {
     "name": "stdout",
     "output_type": "stream",
     "text": [
      "nan\n",
      "nan\n",
      "nan\n",
      "nan\n",
      "nan\n"
     ]
    },
    {
     "name": "stderr",
     "output_type": "stream",
     "text": [
      "\r",
      " 57%|█████████████████████████████████████████████▉                                  | 394/686 [02:18<01:59,  2.45it/s]"
     ]
    },
    {
     "name": "stdout",
     "output_type": "stream",
     "text": [
      "nan\n",
      "nan\n",
      "nan\n",
      "nan\n",
      "nan\n"
     ]
    },
    {
     "name": "stderr",
     "output_type": "stream",
     "text": [
      "\r",
      " 58%|██████████████████████████████████████████████                                  | 395/686 [02:19<01:49,  2.66it/s]"
     ]
    },
    {
     "name": "stdout",
     "output_type": "stream",
     "text": [
      "nan\n",
      "nan\n",
      "nan\n",
      "nan\n",
      "nan\n"
     ]
    },
    {
     "name": "stderr",
     "output_type": "stream",
     "text": [
      "\r",
      " 58%|██████████████████████████████████████████████▏                                 | 396/686 [02:19<01:40,  2.88it/s]"
     ]
    },
    {
     "name": "stdout",
     "output_type": "stream",
     "text": [
      "nan\n",
      "nan\n",
      "nan\n",
      "nan\n",
      "nan\n"
     ]
    },
    {
     "name": "stderr",
     "output_type": "stream",
     "text": [
      "\r",
      " 58%|██████████████████████████████████████████████▎                                 | 397/686 [02:19<01:35,  3.03it/s]"
     ]
    },
    {
     "name": "stdout",
     "output_type": "stream",
     "text": [
      "nan\n",
      "nan\n",
      "nan\n",
      "nan\n",
      "nan\n"
     ]
    },
    {
     "name": "stderr",
     "output_type": "stream",
     "text": [
      "\r",
      " 58%|██████████████████████████████████████████████▍                                 | 398/686 [02:20<01:38,  2.94it/s]"
     ]
    },
    {
     "name": "stdout",
     "output_type": "stream",
     "text": [
      "nan\n",
      "nan\n",
      "nan\n",
      "nan\n",
      "nan\n"
     ]
    },
    {
     "name": "stderr",
     "output_type": "stream",
     "text": [
      "\r",
      " 58%|██████████████████████████████████████████████▌                                 | 399/686 [02:20<01:37,  2.93it/s]"
     ]
    },
    {
     "name": "stdout",
     "output_type": "stream",
     "text": [
      "nan\n",
      "nan\n",
      "nan\n",
      "nan\n",
      "nan\n"
     ]
    },
    {
     "name": "stderr",
     "output_type": "stream",
     "text": [
      "\r",
      " 58%|██████████████████████████████████████████████▋                                 | 400/686 [02:20<01:38,  2.91it/s]"
     ]
    },
    {
     "name": "stdout",
     "output_type": "stream",
     "text": [
      "nan\n",
      "nan\n",
      "4.0\n",
      "nan\n",
      "nan\n"
     ]
    },
    {
     "name": "stderr",
     "output_type": "stream",
     "text": [
      "\r",
      " 58%|██████████████████████████████████████████████▊                                 | 401/686 [02:21<01:33,  3.04it/s]"
     ]
    },
    {
     "name": "stdout",
     "output_type": "stream",
     "text": [
      "nan\n",
      "nan\n",
      "nan\n",
      "nan\n",
      "nan\n"
     ]
    },
    {
     "name": "stderr",
     "output_type": "stream",
     "text": [
      "\r",
      " 59%|██████████████████████████████████████████████▉                                 | 402/686 [02:21<01:31,  3.11it/s]"
     ]
    },
    {
     "name": "stdout",
     "output_type": "stream",
     "text": [
      "nan\n",
      "nan\n",
      "nan\n",
      "nan\n",
      "nan\n"
     ]
    },
    {
     "name": "stderr",
     "output_type": "stream",
     "text": [
      "\r",
      " 59%|██████████████████████████████████████████████▉                                 | 403/686 [02:21<01:27,  3.22it/s]"
     ]
    },
    {
     "name": "stdout",
     "output_type": "stream",
     "text": [
      "nan\n",
      "nan\n",
      "nan\n",
      "nan\n",
      "nan\n"
     ]
    },
    {
     "name": "stderr",
     "output_type": "stream",
     "text": [
      "\r",
      " 59%|███████████████████████████████████████████████                                 | 404/686 [02:21<01:25,  3.30it/s]"
     ]
    },
    {
     "name": "stdout",
     "output_type": "stream",
     "text": [
      "nan\n",
      "nan\n",
      "nan\n",
      "nan\n",
      "nan\n"
     ]
    },
    {
     "name": "stderr",
     "output_type": "stream",
     "text": [
      "\r",
      " 59%|███████████████████████████████████████████████▏                                | 405/686 [02:22<01:28,  3.18it/s]"
     ]
    },
    {
     "name": "stdout",
     "output_type": "stream",
     "text": [
      "nan\n",
      "nan\n",
      "nan\n",
      "nan\n",
      "nan\n"
     ]
    },
    {
     "name": "stderr",
     "output_type": "stream",
     "text": [
      "\r",
      " 59%|███████████████████████████████████████████████▎                                | 406/686 [02:22<01:25,  3.29it/s]"
     ]
    },
    {
     "name": "stdout",
     "output_type": "stream",
     "text": [
      "nan\n",
      "nan\n",
      "nan\n",
      "nan\n",
      "nan\n"
     ]
    },
    {
     "name": "stderr",
     "output_type": "stream",
     "text": [
      "\r",
      " 59%|███████████████████████████████████████████████▍                                | 407/686 [02:22<01:28,  3.16it/s]"
     ]
    },
    {
     "name": "stdout",
     "output_type": "stream",
     "text": [
      "nan\n",
      "nan\n",
      "nan\n",
      "nan\n",
      "nan\n"
     ]
    },
    {
     "name": "stderr",
     "output_type": "stream",
     "text": [
      "\r",
      " 59%|███████████████████████████████████████████████▌                                | 408/686 [02:23<01:30,  3.09it/s]"
     ]
    },
    {
     "name": "stdout",
     "output_type": "stream",
     "text": [
      "nan\n",
      "nan\n",
      "nan\n",
      "nan\n",
      "nan\n"
     ]
    },
    {
     "name": "stderr",
     "output_type": "stream",
     "text": [
      "\r",
      " 60%|███████████████████████████████████████████████▋                                | 409/686 [02:23<01:44,  2.65it/s]"
     ]
    },
    {
     "name": "stdout",
     "output_type": "stream",
     "text": [
      "nan\n",
      "nan\n",
      "nan\n",
      "nan\n",
      "nan\n"
     ]
    },
    {
     "name": "stderr",
     "output_type": "stream",
     "text": [
      "\r",
      " 60%|███████████████████████████████████████████████▊                                | 410/686 [02:23<01:36,  2.86it/s]"
     ]
    },
    {
     "name": "stdout",
     "output_type": "stream",
     "text": [
      "nan\n",
      "nan\n",
      "nan\n",
      "nan\n",
      "nan\n"
     ]
    },
    {
     "name": "stderr",
     "output_type": "stream",
     "text": [
      "\r",
      " 60%|███████████████████████████████████████████████▉                                | 411/686 [02:24<01:34,  2.92it/s]"
     ]
    },
    {
     "name": "stdout",
     "output_type": "stream",
     "text": [
      "nan\n",
      "nan\n",
      "nan\n",
      "nan\n",
      "nan\n"
     ]
    },
    {
     "name": "stderr",
     "output_type": "stream",
     "text": [
      "\r",
      " 60%|████████████████████████████████████████████████                                | 412/686 [02:24<01:32,  2.98it/s]"
     ]
    },
    {
     "name": "stdout",
     "output_type": "stream",
     "text": [
      "nan\n",
      "nan\n",
      "3.0\n",
      "nan\n",
      "nan\n"
     ]
    },
    {
     "name": "stderr",
     "output_type": "stream",
     "text": [
      "\r",
      " 60%|████████████████████████████████████████████████▏                               | 413/686 [02:25<01:46,  2.56it/s]"
     ]
    },
    {
     "name": "stdout",
     "output_type": "stream",
     "text": [
      "nan\n",
      "nan\n",
      "nan\n",
      "nan\n",
      "nan\n"
     ]
    },
    {
     "name": "stderr",
     "output_type": "stream",
     "text": [
      "\r",
      " 60%|████████████████████████████████████████████████▎                               | 414/686 [02:25<01:43,  2.63it/s]"
     ]
    },
    {
     "name": "stdout",
     "output_type": "stream",
     "text": [
      "nan\n",
      "nan\n",
      "nan\n",
      "nan\n",
      "nan\n"
     ]
    },
    {
     "name": "stderr",
     "output_type": "stream",
     "text": [
      "\r",
      " 60%|████████████████████████████████████████████████▍                               | 415/686 [02:25<01:34,  2.86it/s]"
     ]
    },
    {
     "name": "stdout",
     "output_type": "stream",
     "text": [
      "nan\n",
      "nan\n",
      "nan\n",
      "nan\n",
      "nan\n"
     ]
    },
    {
     "name": "stderr",
     "output_type": "stream",
     "text": [
      "\r",
      " 61%|████████████████████████████████████████████████▌                               | 416/686 [02:26<01:47,  2.51it/s]"
     ]
    },
    {
     "name": "stdout",
     "output_type": "stream",
     "text": [
      "nan\n",
      "nan\n",
      "nan\n",
      "nan\n",
      "nan\n"
     ]
    },
    {
     "name": "stderr",
     "output_type": "stream",
     "text": [
      "\r",
      " 61%|████████████████████████████████████████████████▋                               | 417/686 [02:26<01:38,  2.73it/s]"
     ]
    },
    {
     "name": "stdout",
     "output_type": "stream",
     "text": [
      "nan\n",
      "nan\n",
      "nan\n",
      "nan\n",
      "nan\n"
     ]
    },
    {
     "name": "stderr",
     "output_type": "stream",
     "text": [
      "\r",
      " 61%|████████████████████████████████████████████████▋                               | 418/686 [02:26<01:31,  2.94it/s]"
     ]
    },
    {
     "name": "stdout",
     "output_type": "stream",
     "text": [
      "nan\n",
      "nan\n",
      "nan\n",
      "nan\n",
      "nan\n"
     ]
    },
    {
     "name": "stderr",
     "output_type": "stream",
     "text": [
      "\r",
      " 61%|████████████████████████████████████████████████▊                               | 419/686 [02:27<01:29,  2.99it/s]"
     ]
    },
    {
     "name": "stdout",
     "output_type": "stream",
     "text": [
      "nan\n",
      "nan\n",
      "nan\n",
      "nan\n",
      "nan\n"
     ]
    },
    {
     "name": "stderr",
     "output_type": "stream",
     "text": [
      "\r",
      " 61%|████████████████████████████████████████████████▉                               | 420/686 [02:27<01:28,  3.02it/s]"
     ]
    },
    {
     "name": "stdout",
     "output_type": "stream",
     "text": [
      "nan\n",
      "nan\n",
      "nan\n",
      "nan\n",
      "nan\n"
     ]
    },
    {
     "name": "stderr",
     "output_type": "stream",
     "text": [
      "\r",
      " 61%|█████████████████████████████████████████████████                               | 421/686 [02:27<01:27,  3.03it/s]"
     ]
    },
    {
     "name": "stdout",
     "output_type": "stream",
     "text": [
      "nan\n",
      "nan\n",
      "nan\n",
      "nan\n",
      "nan\n"
     ]
    },
    {
     "name": "stderr",
     "output_type": "stream",
     "text": [
      "\r",
      " 62%|█████████████████████████████████████████████████▏                              | 422/686 [02:28<01:27,  3.03it/s]"
     ]
    },
    {
     "name": "stdout",
     "output_type": "stream",
     "text": [
      "nan\n",
      "nan\n",
      "nan\n",
      "nan\n",
      "nan\n"
     ]
    },
    {
     "name": "stderr",
     "output_type": "stream",
     "text": [
      "\r",
      " 62%|█████████████████████████████████████████████████▎                              | 423/686 [02:28<01:24,  3.11it/s]"
     ]
    },
    {
     "name": "stdout",
     "output_type": "stream",
     "text": [
      "nan\n",
      "nan\n",
      "nan\n",
      "nan\n",
      "nan\n"
     ]
    },
    {
     "name": "stderr",
     "output_type": "stream",
     "text": [
      "\r",
      " 62%|█████████████████████████████████████████████████▍                              | 424/686 [02:28<01:21,  3.20it/s]"
     ]
    },
    {
     "name": "stdout",
     "output_type": "stream",
     "text": [
      "nan\n",
      "nan\n",
      "nan\n",
      "nan\n",
      "nan\n"
     ]
    },
    {
     "name": "stderr",
     "output_type": "stream",
     "text": [
      "\r",
      " 62%|█████████████████████████████████████████████████▌                              | 425/686 [02:29<01:40,  2.58it/s]"
     ]
    },
    {
     "name": "stdout",
     "output_type": "stream",
     "text": [
      "nan\n",
      "2.0\n",
      "nan\n",
      "nan\n",
      "nan\n"
     ]
    },
    {
     "name": "stderr",
     "output_type": "stream",
     "text": [
      "\r",
      " 62%|█████████████████████████████████████████████████▋                              | 426/686 [02:29<01:36,  2.69it/s]"
     ]
    },
    {
     "name": "stdout",
     "output_type": "stream",
     "text": [
      "nan\n",
      "nan\n",
      "nan\n",
      "nan\n",
      "nan\n"
     ]
    },
    {
     "name": "stderr",
     "output_type": "stream",
     "text": [
      "\r",
      " 62%|█████████████████████████████████████████████████▊                              | 427/686 [02:30<01:35,  2.71it/s]"
     ]
    },
    {
     "name": "stdout",
     "output_type": "stream",
     "text": [
      "nan\n",
      "nan\n",
      "nan\n",
      "nan\n",
      "nan\n"
     ]
    },
    {
     "name": "stderr",
     "output_type": "stream",
     "text": [
      "\r",
      " 62%|█████████████████████████████████████████████████▉                              | 428/686 [02:30<01:34,  2.72it/s]"
     ]
    },
    {
     "name": "stdout",
     "output_type": "stream",
     "text": [
      "nan\n",
      "nan\n",
      "nan\n",
      "nan\n",
      "nan\n"
     ]
    },
    {
     "name": "stderr",
     "output_type": "stream",
     "text": [
      "\r",
      " 63%|██████████████████████████████████████████████████                              | 429/686 [02:30<01:30,  2.82it/s]"
     ]
    },
    {
     "name": "stdout",
     "output_type": "stream",
     "text": [
      "nan\n",
      "nan\n",
      "nan\n",
      "nan\n",
      "nan\n"
     ]
    },
    {
     "name": "stderr",
     "output_type": "stream",
     "text": [
      "\r",
      " 63%|██████████████████████████████████████████████████▏                             | 430/686 [02:31<01:27,  2.93it/s]"
     ]
    },
    {
     "name": "stdout",
     "output_type": "stream",
     "text": [
      "nan\n",
      "nan\n",
      "nan\n",
      "nan\n",
      "nan\n"
     ]
    },
    {
     "name": "stderr",
     "output_type": "stream",
     "text": [
      "\r",
      " 63%|██████████████████████████████████████████████████▎                             | 431/686 [02:31<01:26,  2.94it/s]"
     ]
    },
    {
     "name": "stdout",
     "output_type": "stream",
     "text": [
      "nan\n",
      "nan\n",
      "nan\n",
      "nan\n",
      "nan\n"
     ]
    },
    {
     "name": "stderr",
     "output_type": "stream",
     "text": [
      "\r",
      " 63%|██████████████████████████████████████████████████▍                             | 432/686 [02:31<01:24,  3.01it/s]"
     ]
    },
    {
     "name": "stdout",
     "output_type": "stream",
     "text": [
      "nan\n",
      "nan\n",
      "nan\n",
      "nan\n",
      "nan\n"
     ]
    },
    {
     "name": "stderr",
     "output_type": "stream",
     "text": [
      "\r",
      " 63%|██████████████████████████████████████████████████▍                             | 433/686 [02:31<01:20,  3.16it/s]"
     ]
    },
    {
     "name": "stdout",
     "output_type": "stream",
     "text": [
      "nan\n",
      "nan\n",
      "nan\n",
      "nan\n",
      "nan\n"
     ]
    },
    {
     "name": "stderr",
     "output_type": "stream",
     "text": [
      "\r",
      " 63%|██████████████████████████████████████████████████▌                             | 434/686 [02:32<01:16,  3.30it/s]"
     ]
    },
    {
     "name": "stdout",
     "output_type": "stream",
     "text": [
      "nan\n",
      "nan\n",
      "nan\n",
      "nan\n",
      "nan\n"
     ]
    },
    {
     "name": "stderr",
     "output_type": "stream",
     "text": [
      "\r",
      " 63%|██████████████████████████████████████████████████▋                             | 435/686 [02:32<01:19,  3.14it/s]"
     ]
    },
    {
     "name": "stdout",
     "output_type": "stream",
     "text": [
      "nan\n",
      "nan\n",
      "nan\n",
      "nan\n",
      "nan\n"
     ]
    },
    {
     "name": "stderr",
     "output_type": "stream",
     "text": [
      "\r",
      " 64%|██████████████████████████████████████████████████▊                             | 436/686 [02:32<01:18,  3.17it/s]"
     ]
    },
    {
     "name": "stdout",
     "output_type": "stream",
     "text": [
      "nan\n",
      "nan\n",
      "nan\n",
      "nan\n",
      "nan\n"
     ]
    },
    {
     "name": "stderr",
     "output_type": "stream",
     "text": [
      "\r",
      " 64%|██████████████████████████████████████████████████▉                             | 437/686 [02:33<01:15,  3.30it/s]"
     ]
    },
    {
     "name": "stdout",
     "output_type": "stream",
     "text": [
      "nan\n",
      "nan\n",
      "nan\n",
      "nan\n",
      "nan\n"
     ]
    },
    {
     "name": "stderr",
     "output_type": "stream",
     "text": [
      "\r",
      " 64%|███████████████████████████████████████████████████                             | 438/686 [02:33<01:19,  3.12it/s]"
     ]
    },
    {
     "name": "stdout",
     "output_type": "stream",
     "text": [
      "nan\n",
      "nan\n",
      "nan\n",
      "nan\n",
      "nan\n"
     ]
    },
    {
     "name": "stderr",
     "output_type": "stream",
     "text": [
      "\r",
      " 64%|███████████████████████████████████████████████████▏                            | 439/686 [02:33<01:18,  3.16it/s]"
     ]
    },
    {
     "name": "stdout",
     "output_type": "stream",
     "text": [
      "nan\n",
      "nan\n",
      "nan\n",
      "nan\n",
      "nan\n"
     ]
    },
    {
     "name": "stderr",
     "output_type": "stream",
     "text": [
      "\r",
      " 64%|███████████████████████████████████████████████████▎                            | 440/686 [02:34<01:15,  3.25it/s]"
     ]
    },
    {
     "name": "stdout",
     "output_type": "stream",
     "text": [
      "nan\n",
      "nan\n",
      "nan\n",
      "nan\n",
      "nan\n"
     ]
    },
    {
     "name": "stderr",
     "output_type": "stream",
     "text": [
      "\r",
      " 64%|███████████████████████████████████████████████████▍                            | 441/686 [02:34<01:14,  3.30it/s]"
     ]
    },
    {
     "name": "stdout",
     "output_type": "stream",
     "text": [
      "nan\n",
      "nan\n",
      "nan\n",
      "nan\n",
      "nan\n"
     ]
    },
    {
     "name": "stderr",
     "output_type": "stream",
     "text": [
      "\r",
      " 64%|███████████████████████████████████████████████████▌                            | 442/686 [02:34<01:13,  3.33it/s]"
     ]
    },
    {
     "name": "stdout",
     "output_type": "stream",
     "text": [
      "nan\n",
      "nan\n",
      "nan\n",
      "nan\n",
      "nan\n"
     ]
    },
    {
     "name": "stderr",
     "output_type": "stream",
     "text": [
      "\r",
      " 65%|███████████████████████████████████████████████████▋                            | 443/686 [02:35<01:16,  3.19it/s]"
     ]
    },
    {
     "name": "stdout",
     "output_type": "stream",
     "text": [
      "nan\n",
      "nan\n",
      "nan\n",
      "nan\n",
      "nan\n"
     ]
    },
    {
     "name": "stderr",
     "output_type": "stream",
     "text": [
      "\r",
      " 65%|███████████████████████████████████████████████████▊                            | 444/686 [02:35<01:15,  3.21it/s]"
     ]
    },
    {
     "name": "stdout",
     "output_type": "stream",
     "text": [
      "nan\n",
      "nan\n",
      "nan\n",
      "nan\n",
      "nan\n"
     ]
    },
    {
     "name": "stderr",
     "output_type": "stream",
     "text": [
      "\r",
      " 65%|███████████████████████████████████████████████████▉                            | 445/686 [02:35<01:11,  3.38it/s]"
     ]
    },
    {
     "name": "stdout",
     "output_type": "stream",
     "text": [
      "nan\n",
      "nan\n",
      "nan\n",
      "nan\n",
      "nan\n"
     ]
    },
    {
     "name": "stderr",
     "output_type": "stream",
     "text": [
      "\r",
      " 65%|████████████████████████████████████████████████████                            | 446/686 [02:35<01:09,  3.45it/s]"
     ]
    },
    {
     "name": "stdout",
     "output_type": "stream",
     "text": [
      "nan\n",
      "nan\n",
      "nan\n",
      "nan\n",
      "nan\n"
     ]
    },
    {
     "name": "stderr",
     "output_type": "stream",
     "text": [
      "\r",
      " 65%|████████████████████████████████████████████████████▏                           | 447/686 [02:36<01:35,  2.50it/s]"
     ]
    },
    {
     "name": "stdout",
     "output_type": "stream",
     "text": [
      "nan\n",
      "nan\n",
      "nan\n",
      "nan\n",
      "nan\n"
     ]
    },
    {
     "name": "stderr",
     "output_type": "stream",
     "text": [
      "\r",
      " 65%|████████████████████████████████████████████████████▏                           | 448/686 [02:36<01:29,  2.65it/s]"
     ]
    },
    {
     "name": "stdout",
     "output_type": "stream",
     "text": [
      "nan\n",
      "nan\n",
      "3.0\n",
      "nan\n",
      "nan\n"
     ]
    },
    {
     "name": "stderr",
     "output_type": "stream",
     "text": [
      "\r",
      " 65%|████████████████████████████████████████████████████▎                           | 449/686 [02:37<01:24,  2.82it/s]"
     ]
    },
    {
     "name": "stdout",
     "output_type": "stream",
     "text": [
      "nan\n",
      "nan\n",
      "nan\n",
      "nan\n",
      "nan\n"
     ]
    },
    {
     "name": "stderr",
     "output_type": "stream",
     "text": [
      "\r",
      " 66%|████████████████████████████████████████████████████▍                           | 450/686 [02:37<01:26,  2.73it/s]"
     ]
    },
    {
     "name": "stdout",
     "output_type": "stream",
     "text": [
      "nan\n",
      "nan\n",
      "nan\n",
      "nan\n",
      "nan\n"
     ]
    },
    {
     "name": "stderr",
     "output_type": "stream",
     "text": [
      "\r",
      " 66%|████████████████████████████████████████████████████▌                           | 451/686 [02:37<01:22,  2.86it/s]"
     ]
    },
    {
     "name": "stdout",
     "output_type": "stream",
     "text": [
      "nan\n",
      "nan\n",
      "nan\n",
      "nan\n",
      "nan\n"
     ]
    },
    {
     "name": "stderr",
     "output_type": "stream",
     "text": [
      "\r",
      " 66%|████████████████████████████████████████████████████▋                           | 452/686 [02:38<01:21,  2.86it/s]"
     ]
    },
    {
     "name": "stdout",
     "output_type": "stream",
     "text": [
      "nan\n",
      "nan\n",
      "nan\n",
      "nan\n",
      "nan\n"
     ]
    },
    {
     "name": "stderr",
     "output_type": "stream",
     "text": [
      "\r",
      " 66%|████████████████████████████████████████████████████▊                           | 453/686 [02:38<01:22,  2.83it/s]"
     ]
    },
    {
     "name": "stdout",
     "output_type": "stream",
     "text": [
      "nan\n",
      "nan\n",
      "nan\n",
      "nan\n",
      "nan\n"
     ]
    },
    {
     "name": "stderr",
     "output_type": "stream",
     "text": [
      "\r",
      " 66%|████████████████████████████████████████████████████▉                           | 454/686 [02:38<01:20,  2.89it/s]"
     ]
    },
    {
     "name": "stdout",
     "output_type": "stream",
     "text": [
      "nan\n",
      "2.0\n",
      "nan\n",
      "nan\n",
      "nan\n"
     ]
    },
    {
     "name": "stderr",
     "output_type": "stream",
     "text": [
      "\r",
      " 66%|█████████████████████████████████████████████████████                           | 455/686 [02:39<01:26,  2.67it/s]"
     ]
    },
    {
     "name": "stdout",
     "output_type": "stream",
     "text": [
      "nan\n",
      "nan\n",
      "nan\n",
      "nan\n",
      "nan\n"
     ]
    },
    {
     "name": "stderr",
     "output_type": "stream",
     "text": [
      "\r",
      " 66%|█████████████████████████████████████████████████████▏                          | 456/686 [02:39<01:25,  2.67it/s]"
     ]
    },
    {
     "name": "stdout",
     "output_type": "stream",
     "text": [
      "nan\n",
      "nan\n",
      "nan\n",
      "nan\n",
      "nan\n"
     ]
    },
    {
     "name": "stderr",
     "output_type": "stream",
     "text": [
      "\r",
      " 67%|█████████████████████████████████████████████████████▎                          | 457/686 [02:40<01:21,  2.81it/s]"
     ]
    },
    {
     "name": "stdout",
     "output_type": "stream",
     "text": [
      "nan\n",
      "nan\n",
      "nan\n",
      "nan\n",
      "nan\n"
     ]
    },
    {
     "name": "stderr",
     "output_type": "stream",
     "text": [
      "\r",
      " 67%|█████████████████████████████████████████████████████▍                          | 458/686 [02:40<01:16,  2.97it/s]"
     ]
    },
    {
     "name": "stdout",
     "output_type": "stream",
     "text": [
      "nan\n",
      "nan\n",
      "nan\n",
      "nan\n",
      "nan\n"
     ]
    },
    {
     "name": "stderr",
     "output_type": "stream",
     "text": [
      "\r",
      " 67%|█████████████████████████████████████████████████████▌                          | 459/686 [02:40<01:23,  2.71it/s]"
     ]
    },
    {
     "name": "stdout",
     "output_type": "stream",
     "text": [
      "nan\n",
      "nan\n",
      "nan\n",
      "nan\n",
      "nan\n"
     ]
    },
    {
     "name": "stderr",
     "output_type": "stream",
     "text": [
      "\r",
      " 67%|█████████████████████████████████████████████████████▋                          | 460/686 [02:41<01:19,  2.83it/s]"
     ]
    },
    {
     "name": "stdout",
     "output_type": "stream",
     "text": [
      "nan\n",
      "nan\n",
      "nan\n",
      "nan\n",
      "nan\n"
     ]
    },
    {
     "name": "stderr",
     "output_type": "stream",
     "text": [
      "\r",
      " 67%|█████████████████████████████████████████████████████▊                          | 461/686 [02:41<01:21,  2.77it/s]"
     ]
    },
    {
     "name": "stdout",
     "output_type": "stream",
     "text": [
      "nan\n",
      "nan\n",
      "nan\n",
      "nan\n",
      "nan\n"
     ]
    },
    {
     "name": "stderr",
     "output_type": "stream",
     "text": [
      "\r",
      " 67%|█████████████████████████████████████████████████████▉                          | 462/686 [02:41<01:19,  2.81it/s]"
     ]
    },
    {
     "name": "stdout",
     "output_type": "stream",
     "text": [
      "nan\n",
      "nan\n",
      "nan\n",
      "nan\n",
      "nan\n"
     ]
    },
    {
     "name": "stderr",
     "output_type": "stream",
     "text": [
      "\r",
      " 67%|█████████████████████████████████████████████████████▉                          | 463/686 [02:42<01:15,  2.95it/s]"
     ]
    },
    {
     "name": "stdout",
     "output_type": "stream",
     "text": [
      "nan\n",
      "nan\n",
      "nan\n",
      "nan\n",
      "nan\n"
     ]
    },
    {
     "name": "stderr",
     "output_type": "stream",
     "text": [
      "\r",
      " 68%|██████████████████████████████████████████████████████                          | 464/686 [02:42<01:14,  2.98it/s]"
     ]
    },
    {
     "name": "stdout",
     "output_type": "stream",
     "text": [
      "nan\n",
      "nan\n",
      "nan\n",
      "nan\n",
      "nan\n"
     ]
    },
    {
     "name": "stderr",
     "output_type": "stream",
     "text": [
      "\r",
      " 68%|██████████████████████████████████████████████████████▏                         | 465/686 [02:42<01:16,  2.87it/s]"
     ]
    },
    {
     "name": "stdout",
     "output_type": "stream",
     "text": [
      "nan\n",
      "nan\n",
      "nan\n",
      "nan\n",
      "nan\n"
     ]
    },
    {
     "name": "stderr",
     "output_type": "stream",
     "text": [
      "\r",
      " 68%|██████████████████████████████████████████████████████▎                         | 466/686 [02:43<01:15,  2.91it/s]"
     ]
    },
    {
     "name": "stdout",
     "output_type": "stream",
     "text": [
      "nan\n",
      "nan\n",
      "nan\n",
      "nan\n",
      "nan\n"
     ]
    },
    {
     "name": "stderr",
     "output_type": "stream",
     "text": [
      "\r",
      " 68%|██████████████████████████████████████████████████████▍                         | 467/686 [02:43<01:34,  2.32it/s]"
     ]
    },
    {
     "name": "stdout",
     "output_type": "stream",
     "text": [
      "nan\n",
      "4.0\n",
      "nan\n",
      "nan\n",
      "4.0\n"
     ]
    },
    {
     "name": "stderr",
     "output_type": "stream",
     "text": [
      "\r",
      " 68%|██████████████████████████████████████████████████████▌                         | 468/686 [02:44<01:26,  2.52it/s]"
     ]
    },
    {
     "name": "stdout",
     "output_type": "stream",
     "text": [
      "nan\n",
      "nan\n",
      "nan\n",
      "nan\n",
      "nan\n"
     ]
    },
    {
     "name": "stderr",
     "output_type": "stream",
     "text": [
      "\r",
      " 68%|██████████████████████████████████████████████████████▋                         | 469/686 [02:44<01:18,  2.76it/s]"
     ]
    },
    {
     "name": "stdout",
     "output_type": "stream",
     "text": [
      "nan\n",
      "nan\n",
      "nan\n",
      "nan\n",
      "nan\n"
     ]
    },
    {
     "name": "stderr",
     "output_type": "stream",
     "text": [
      "\r",
      " 69%|██████████████████████████████████████████████████████▊                         | 470/686 [02:44<01:13,  2.95it/s]"
     ]
    },
    {
     "name": "stdout",
     "output_type": "stream",
     "text": [
      "nan\n",
      "nan\n",
      "nan\n",
      "nan\n",
      "nan\n"
     ]
    },
    {
     "name": "stderr",
     "output_type": "stream",
     "text": [
      "\r",
      " 69%|██████████████████████████████████████████████████████▉                         | 471/686 [02:44<01:12,  2.97it/s]"
     ]
    },
    {
     "name": "stdout",
     "output_type": "stream",
     "text": [
      "nan\n",
      "nan\n",
      "nan\n",
      "nan\n",
      "nan\n"
     ]
    },
    {
     "name": "stderr",
     "output_type": "stream",
     "text": [
      "\r",
      " 69%|███████████████████████████████████████████████████████                         | 472/686 [02:45<01:09,  3.09it/s]"
     ]
    },
    {
     "name": "stdout",
     "output_type": "stream",
     "text": [
      "nan\n",
      "nan\n",
      "nan\n",
      "nan\n",
      "nan\n"
     ]
    },
    {
     "name": "stderr",
     "output_type": "stream",
     "text": [
      "\r",
      " 69%|███████████████████████████████████████████████████████▏                        | 473/686 [02:45<01:06,  3.22it/s]"
     ]
    },
    {
     "name": "stdout",
     "output_type": "stream",
     "text": [
      "nan\n",
      "nan\n",
      "nan\n",
      "nan\n",
      "nan\n"
     ]
    },
    {
     "name": "stderr",
     "output_type": "stream",
     "text": [
      "\r",
      " 69%|███████████████████████████████████████████████████████▎                        | 474/686 [02:45<01:04,  3.31it/s]"
     ]
    },
    {
     "name": "stdout",
     "output_type": "stream",
     "text": [
      "nan\n",
      "nan\n",
      "nan\n",
      "nan\n",
      "nan\n"
     ]
    },
    {
     "name": "stderr",
     "output_type": "stream",
     "text": [
      "\r",
      " 69%|███████████████████████████████████████████████████████▍                        | 475/686 [02:46<01:03,  3.34it/s]"
     ]
    },
    {
     "name": "stdout",
     "output_type": "stream",
     "text": [
      "nan\n",
      "nan\n",
      "nan\n",
      "nan\n",
      "nan\n"
     ]
    },
    {
     "name": "stderr",
     "output_type": "stream",
     "text": [
      "\r",
      " 69%|███████████████████████████████████████████████████████▌                        | 476/686 [02:46<01:05,  3.23it/s]"
     ]
    },
    {
     "name": "stdout",
     "output_type": "stream",
     "text": [
      "nan\n",
      "nan\n",
      "nan\n",
      "nan\n",
      "nan\n"
     ]
    },
    {
     "name": "stderr",
     "output_type": "stream",
     "text": [
      "\r",
      " 70%|███████████████████████████████████████████████████████▋                        | 477/686 [02:46<01:04,  3.25it/s]"
     ]
    },
    {
     "name": "stdout",
     "output_type": "stream",
     "text": [
      "nan\n",
      "nan\n",
      "nan\n",
      "nan\n",
      "nan\n"
     ]
    },
    {
     "name": "stderr",
     "output_type": "stream",
     "text": [
      "\r",
      " 70%|███████████████████████████████████████████████████████▋                        | 478/686 [02:47<01:02,  3.34it/s]"
     ]
    },
    {
     "name": "stdout",
     "output_type": "stream",
     "text": [
      "nan\n",
      "3.0\n",
      "nan\n",
      "nan\n",
      "nan\n"
     ]
    },
    {
     "name": "stderr",
     "output_type": "stream",
     "text": [
      "\r",
      " 70%|███████████████████████████████████████████████████████▊                        | 479/686 [02:47<01:03,  3.27it/s]"
     ]
    },
    {
     "name": "stdout",
     "output_type": "stream",
     "text": [
      "nan\n",
      "nan\n",
      "nan\n",
      "nan\n",
      "nan\n"
     ]
    },
    {
     "name": "stderr",
     "output_type": "stream",
     "text": [
      "\r",
      " 70%|███████████████████████████████████████████████████████▉                        | 480/686 [02:47<01:04,  3.22it/s]"
     ]
    },
    {
     "name": "stdout",
     "output_type": "stream",
     "text": [
      "nan\n",
      "nan\n",
      "nan\n",
      "nan\n",
      "4.0\n"
     ]
    },
    {
     "name": "stderr",
     "output_type": "stream",
     "text": [
      "\r",
      " 70%|████████████████████████████████████████████████████████                        | 481/686 [02:47<01:01,  3.33it/s]"
     ]
    },
    {
     "name": "stdout",
     "output_type": "stream",
     "text": [
      "nan\n",
      "nan\n",
      "nan\n",
      "nan\n",
      "nan\n"
     ]
    },
    {
     "name": "stderr",
     "output_type": "stream",
     "text": [
      "\r",
      " 70%|████████████████████████████████████████████████████████▏                       | 482/686 [02:48<00:58,  3.46it/s]"
     ]
    },
    {
     "name": "stdout",
     "output_type": "stream",
     "text": [
      "nan\n",
      "nan\n",
      "nan\n",
      "nan\n",
      "3.0\n"
     ]
    },
    {
     "name": "stderr",
     "output_type": "stream",
     "text": [
      "\r",
      " 70%|████████████████████████████████████████████████████████▎                       | 483/686 [02:48<01:00,  3.35it/s]"
     ]
    },
    {
     "name": "stdout",
     "output_type": "stream",
     "text": [
      "nan\n",
      "nan\n",
      "nan\n",
      "nan\n",
      "nan\n"
     ]
    },
    {
     "name": "stderr",
     "output_type": "stream",
     "text": [
      "\r",
      " 71%|████████████████████████████████████████████████████████▍                       | 484/686 [02:48<01:03,  3.20it/s]"
     ]
    },
    {
     "name": "stdout",
     "output_type": "stream",
     "text": [
      "nan\n",
      "nan\n",
      "nan\n",
      "nan\n",
      "nan\n"
     ]
    },
    {
     "name": "stderr",
     "output_type": "stream",
     "text": [
      "\r",
      " 71%|████████████████████████████████████████████████████████▌                       | 485/686 [02:49<01:03,  3.19it/s]"
     ]
    },
    {
     "name": "stdout",
     "output_type": "stream",
     "text": [
      "nan\n",
      "nan\n",
      "nan\n",
      "nan\n",
      "nan\n"
     ]
    },
    {
     "name": "stderr",
     "output_type": "stream",
     "text": [
      "\r",
      " 71%|████████████████████████████████████████████████████████▋                       | 486/686 [02:49<01:02,  3.18it/s]"
     ]
    },
    {
     "name": "stdout",
     "output_type": "stream",
     "text": [
      "nan\n",
      "nan\n",
      "nan\n",
      "nan\n",
      "nan\n"
     ]
    },
    {
     "name": "stderr",
     "output_type": "stream",
     "text": [
      "\r",
      " 71%|████████████████████████████████████████████████████████▊                       | 487/686 [02:49<01:01,  3.25it/s]"
     ]
    },
    {
     "name": "stdout",
     "output_type": "stream",
     "text": [
      "nan\n",
      "nan\n",
      "nan\n",
      "nan\n",
      "nan\n"
     ]
    },
    {
     "name": "stderr",
     "output_type": "stream",
     "text": [
      "\r",
      " 71%|████████████████████████████████████████████████████████▉                       | 488/686 [02:50<00:59,  3.32it/s]"
     ]
    },
    {
     "name": "stdout",
     "output_type": "stream",
     "text": [
      "nan\n",
      "nan\n",
      "nan\n",
      "nan\n",
      "nan\n"
     ]
    },
    {
     "name": "stderr",
     "output_type": "stream",
     "text": [
      "\r",
      " 71%|█████████████████████████████████████████████████████████                       | 489/686 [02:50<01:02,  3.15it/s]"
     ]
    },
    {
     "name": "stdout",
     "output_type": "stream",
     "text": [
      "nan\n",
      "nan\n",
      "nan\n",
      "nan\n",
      "nan\n"
     ]
    },
    {
     "name": "stderr",
     "output_type": "stream",
     "text": [
      "\r",
      " 71%|█████████████████████████████████████████████████████████▏                      | 490/686 [02:50<01:01,  3.18it/s]"
     ]
    },
    {
     "name": "stdout",
     "output_type": "stream",
     "text": [
      "nan\n",
      "nan\n",
      "nan\n",
      "nan\n",
      "nan\n"
     ]
    },
    {
     "name": "stderr",
     "output_type": "stream",
     "text": [
      "\r",
      " 72%|█████████████████████████████████████████████████████████▎                      | 491/686 [02:51<01:01,  3.19it/s]"
     ]
    },
    {
     "name": "stdout",
     "output_type": "stream",
     "text": [
      "nan\n",
      "nan\n",
      "nan\n",
      "nan\n",
      "nan\n"
     ]
    },
    {
     "name": "stderr",
     "output_type": "stream",
     "text": [
      "\r",
      " 72%|█████████████████████████████████████████████████████████▍                      | 492/686 [02:51<00:59,  3.28it/s]"
     ]
    },
    {
     "name": "stdout",
     "output_type": "stream",
     "text": [
      "nan\n",
      "nan\n",
      "nan\n",
      "nan\n",
      "nan\n"
     ]
    },
    {
     "name": "stderr",
     "output_type": "stream",
     "text": [
      "\r",
      " 72%|█████████████████████████████████████████████████████████▍                      | 493/686 [02:51<01:01,  3.16it/s]"
     ]
    },
    {
     "name": "stdout",
     "output_type": "stream",
     "text": [
      "2.0\n",
      "nan\n",
      "nan\n",
      "nan\n",
      "nan\n"
     ]
    },
    {
     "name": "stderr",
     "output_type": "stream",
     "text": [
      "\r",
      " 72%|█████████████████████████████████████████████████████████▌                      | 494/686 [02:52<01:00,  3.18it/s]"
     ]
    },
    {
     "name": "stdout",
     "output_type": "stream",
     "text": [
      "nan\n",
      "nan\n",
      "nan\n",
      "nan\n",
      "nan\n"
     ]
    },
    {
     "name": "stderr",
     "output_type": "stream",
     "text": [
      "\r",
      " 72%|█████████████████████████████████████████████████████████▋                      | 495/686 [02:52<00:59,  3.23it/s]"
     ]
    },
    {
     "name": "stdout",
     "output_type": "stream",
     "text": [
      "nan\n",
      "nan\n",
      "nan\n",
      "nan\n",
      "nan\n"
     ]
    },
    {
     "name": "stderr",
     "output_type": "stream",
     "text": [
      "\r",
      " 72%|█████████████████████████████████████████████████████████▊                      | 496/686 [02:52<01:14,  2.54it/s]"
     ]
    },
    {
     "name": "stdout",
     "output_type": "stream",
     "text": [
      "nan\n",
      "nan\n",
      "nan\n",
      "nan\n",
      "nan\n"
     ]
    },
    {
     "name": "stderr",
     "output_type": "stream",
     "text": [
      "\r",
      " 72%|█████████████████████████████████████████████████████████▉                      | 497/686 [02:53<01:09,  2.73it/s]"
     ]
    },
    {
     "name": "stdout",
     "output_type": "stream",
     "text": [
      "nan\n",
      "nan\n",
      "nan\n",
      "nan\n",
      "nan\n"
     ]
    },
    {
     "name": "stderr",
     "output_type": "stream",
     "text": [
      "\r",
      " 73%|██████████████████████████████████████████████████████████                      | 498/686 [02:53<01:08,  2.76it/s]"
     ]
    },
    {
     "name": "stdout",
     "output_type": "stream",
     "text": [
      "nan\n",
      "nan\n",
      "nan\n",
      "nan\n",
      "nan\n"
     ]
    },
    {
     "name": "stderr",
     "output_type": "stream",
     "text": [
      "\r",
      " 73%|██████████████████████████████████████████████████████████▏                     | 499/686 [02:53<01:08,  2.72it/s]"
     ]
    },
    {
     "name": "stdout",
     "output_type": "stream",
     "text": [
      "nan\n",
      "nan\n",
      "nan\n",
      "nan\n",
      "nan\n"
     ]
    },
    {
     "name": "stderr",
     "output_type": "stream",
     "text": [
      "\r",
      " 73%|██████████████████████████████████████████████████████████▎                     | 500/686 [02:54<01:06,  2.78it/s]"
     ]
    },
    {
     "name": "stdout",
     "output_type": "stream",
     "text": [
      "nan\n",
      "nan\n",
      "nan\n",
      "nan\n",
      "nan\n"
     ]
    },
    {
     "name": "stderr",
     "output_type": "stream",
     "text": [
      "\r",
      " 73%|██████████████████████████████████████████████████████████▍                     | 501/686 [02:54<01:03,  2.90it/s]"
     ]
    },
    {
     "name": "stdout",
     "output_type": "stream",
     "text": [
      "nan\n",
      "nan\n",
      "nan\n",
      "nan\n",
      "nan\n"
     ]
    },
    {
     "name": "stderr",
     "output_type": "stream",
     "text": [
      "\r",
      " 73%|██████████████████████████████████████████████████████████▌                     | 502/686 [02:54<00:59,  3.08it/s]"
     ]
    },
    {
     "name": "stdout",
     "output_type": "stream",
     "text": [
      "nan\n",
      "nan\n",
      "nan\n",
      "nan\n",
      "nan\n"
     ]
    },
    {
     "name": "stderr",
     "output_type": "stream",
     "text": [
      "\r",
      " 73%|██████████████████████████████████████████████████████████▋                     | 503/686 [02:55<00:56,  3.25it/s]"
     ]
    },
    {
     "name": "stdout",
     "output_type": "stream",
     "text": [
      "nan\n",
      "nan\n",
      "nan\n",
      "nan\n",
      "nan\n"
     ]
    },
    {
     "name": "stderr",
     "output_type": "stream",
     "text": [
      "\r",
      " 73%|██████████████████████████████████████████████████████████▊                     | 504/686 [02:55<00:56,  3.21it/s]"
     ]
    },
    {
     "name": "stdout",
     "output_type": "stream",
     "text": [
      "nan\n",
      "nan\n",
      "nan\n",
      "nan\n",
      "nan\n"
     ]
    },
    {
     "name": "stderr",
     "output_type": "stream",
     "text": [
      "\r",
      " 74%|██████████████████████████████████████████████████████████▉                     | 505/686 [02:55<00:58,  3.07it/s]"
     ]
    },
    {
     "name": "stdout",
     "output_type": "stream",
     "text": [
      "nan\n",
      "nan\n",
      "nan\n",
      "nan\n",
      "nan\n"
     ]
    },
    {
     "name": "stderr",
     "output_type": "stream",
     "text": [
      "\r",
      " 74%|███████████████████████████████████████████████████████████                     | 506/686 [02:56<00:57,  3.14it/s]"
     ]
    },
    {
     "name": "stdout",
     "output_type": "stream",
     "text": [
      "nan\n",
      "nan\n",
      "nan\n",
      "nan\n",
      "nan\n"
     ]
    },
    {
     "name": "stderr",
     "output_type": "stream",
     "text": [
      "\r",
      " 74%|███████████████████████████████████████████████████████████▏                    | 507/686 [02:56<00:55,  3.23it/s]"
     ]
    },
    {
     "name": "stdout",
     "output_type": "stream",
     "text": [
      "nan\n",
      "nan\n",
      "nan\n",
      "nan\n",
      "nan\n"
     ]
    },
    {
     "name": "stderr",
     "output_type": "stream",
     "text": [
      "\r",
      " 74%|███████████████████████████████████████████████████████████▏                    | 508/686 [02:56<00:54,  3.25it/s]"
     ]
    },
    {
     "name": "stdout",
     "output_type": "stream",
     "text": [
      "nan\n",
      "nan\n",
      "nan\n",
      "nan\n",
      "4.0\n"
     ]
    },
    {
     "name": "stderr",
     "output_type": "stream",
     "text": [
      "\r",
      " 74%|███████████████████████████████████████████████████████████▎                    | 509/686 [02:57<00:54,  3.26it/s]"
     ]
    },
    {
     "name": "stdout",
     "output_type": "stream",
     "text": [
      "nan\n",
      "nan\n",
      "nan\n",
      "nan\n",
      "nan\n"
     ]
    },
    {
     "name": "stderr",
     "output_type": "stream",
     "text": [
      "\r",
      " 74%|███████████████████████████████████████████████████████████▍                    | 510/686 [02:57<00:55,  3.17it/s]"
     ]
    },
    {
     "name": "stdout",
     "output_type": "stream",
     "text": [
      "nan\n",
      "nan\n",
      "nan\n",
      "nan\n",
      "nan\n"
     ]
    },
    {
     "name": "stderr",
     "output_type": "stream",
     "text": [
      "\r",
      " 74%|███████████████████████████████████████████████████████████▌                    | 511/686 [02:57<00:54,  3.21it/s]"
     ]
    },
    {
     "name": "stdout",
     "output_type": "stream",
     "text": [
      "nan\n",
      "nan\n",
      "nan\n",
      "nan\n",
      "nan\n"
     ]
    },
    {
     "name": "stderr",
     "output_type": "stream",
     "text": [
      "\r",
      " 75%|███████████████████████████████████████████████████████████▋                    | 512/686 [02:57<00:54,  3.16it/s]"
     ]
    },
    {
     "name": "stdout",
     "output_type": "stream",
     "text": [
      "nan\n",
      "nan\n",
      "nan\n",
      "nan\n",
      "nan\n"
     ]
    },
    {
     "name": "stderr",
     "output_type": "stream",
     "text": [
      "\r",
      " 75%|███████████████████████████████████████████████████████████▊                    | 513/686 [02:58<00:55,  3.10it/s]"
     ]
    },
    {
     "name": "stdout",
     "output_type": "stream",
     "text": [
      "nan\n",
      "nan\n",
      "nan\n",
      "nan\n",
      "nan\n"
     ]
    },
    {
     "name": "stderr",
     "output_type": "stream",
     "text": [
      "\r",
      " 75%|███████████████████████████████████████████████████████████▉                    | 514/686 [02:58<00:56,  3.05it/s]"
     ]
    },
    {
     "name": "stdout",
     "output_type": "stream",
     "text": [
      "nan\n",
      "nan\n",
      "nan\n",
      "nan\n",
      "nan\n"
     ]
    },
    {
     "name": "stderr",
     "output_type": "stream",
     "text": [
      "\r",
      " 75%|████████████████████████████████████████████████████████████                    | 515/686 [02:58<00:54,  3.13it/s]"
     ]
    },
    {
     "name": "stdout",
     "output_type": "stream",
     "text": [
      "nan\n",
      "nan\n",
      "nan\n",
      "nan\n",
      "nan\n"
     ]
    },
    {
     "name": "stderr",
     "output_type": "stream",
     "text": [
      "\r",
      " 75%|████████████████████████████████████████████████████████████▏                   | 516/686 [02:59<00:52,  3.23it/s]"
     ]
    },
    {
     "name": "stdout",
     "output_type": "stream",
     "text": [
      "nan\n",
      "nan\n",
      "nan\n",
      "nan\n",
      "nan\n"
     ]
    },
    {
     "name": "stderr",
     "output_type": "stream",
     "text": [
      "\r",
      " 75%|████████████████████████████████████████████████████████████▎                   | 517/686 [02:59<00:53,  3.18it/s]"
     ]
    },
    {
     "name": "stdout",
     "output_type": "stream",
     "text": [
      "nan\n",
      "nan\n",
      "nan\n",
      "nan\n",
      "nan\n"
     ]
    },
    {
     "name": "stderr",
     "output_type": "stream",
     "text": [
      "\r",
      " 76%|████████████████████████████████████████████████████████████▍                   | 518/686 [02:59<00:52,  3.21it/s]"
     ]
    },
    {
     "name": "stdout",
     "output_type": "stream",
     "text": [
      "nan\n",
      "5.0\n",
      "nan\n",
      "nan\n",
      "nan\n"
     ]
    },
    {
     "name": "stderr",
     "output_type": "stream",
     "text": [
      "\r",
      " 76%|████████████████████████████████████████████████████████████▌                   | 519/686 [03:00<00:51,  3.22it/s]"
     ]
    },
    {
     "name": "stdout",
     "output_type": "stream",
     "text": [
      "nan\n",
      "nan\n",
      "nan\n",
      "nan\n",
      "nan\n"
     ]
    },
    {
     "name": "stderr",
     "output_type": "stream",
     "text": [
      "\r",
      " 76%|████████████████████████████████████████████████████████████▋                   | 520/686 [03:00<00:50,  3.31it/s]"
     ]
    },
    {
     "name": "stdout",
     "output_type": "stream",
     "text": [
      "nan\n",
      "nan\n",
      "nan\n",
      "nan\n",
      "nan\n"
     ]
    },
    {
     "name": "stderr",
     "output_type": "stream",
     "text": [
      "\r",
      " 76%|████████████████████████████████████████████████████████████▊                   | 521/686 [03:00<00:48,  3.41it/s]"
     ]
    },
    {
     "name": "stdout",
     "output_type": "stream",
     "text": [
      "nan\n",
      "nan\n",
      "nan\n",
      "nan\n",
      "nan\n"
     ]
    },
    {
     "name": "stderr",
     "output_type": "stream",
     "text": [
      "\r",
      " 76%|████████████████████████████████████████████████████████████▊                   | 522/686 [03:01<00:46,  3.50it/s]"
     ]
    },
    {
     "name": "stdout",
     "output_type": "stream",
     "text": [
      "nan\n",
      "nan\n",
      "nan\n",
      "nan\n",
      "nan\n"
     ]
    },
    {
     "name": "stderr",
     "output_type": "stream",
     "text": [
      "\r",
      " 76%|████████████████████████████████████████████████████████████▉                   | 523/686 [03:01<00:45,  3.58it/s]"
     ]
    },
    {
     "name": "stdout",
     "output_type": "stream",
     "text": [
      "nan\n",
      "nan\n",
      "nan\n",
      "nan\n",
      "nan\n"
     ]
    },
    {
     "name": "stderr",
     "output_type": "stream",
     "text": [
      "\r",
      " 76%|█████████████████████████████████████████████████████████████                   | 524/686 [03:01<00:48,  3.36it/s]"
     ]
    },
    {
     "name": "stdout",
     "output_type": "stream",
     "text": [
      "nan\n",
      "nan\n",
      "nan\n",
      "nan\n",
      "nan\n"
     ]
    },
    {
     "name": "stderr",
     "output_type": "stream",
     "text": [
      "\r",
      " 77%|█████████████████████████████████████████████████████████████▏                  | 525/686 [03:01<00:49,  3.29it/s]"
     ]
    },
    {
     "name": "stdout",
     "output_type": "stream",
     "text": [
      "nan\n",
      "nan\n",
      "nan\n",
      "nan\n",
      "nan\n"
     ]
    },
    {
     "name": "stderr",
     "output_type": "stream",
     "text": [
      "\r",
      " 77%|█████████████████████████████████████████████████████████████▎                  | 526/686 [03:02<00:51,  3.09it/s]"
     ]
    },
    {
     "name": "stdout",
     "output_type": "stream",
     "text": [
      "nan\n",
      "nan\n",
      "nan\n",
      "nan\n",
      "nan\n"
     ]
    },
    {
     "name": "stderr",
     "output_type": "stream",
     "text": [
      "\r",
      " 77%|█████████████████████████████████████████████████████████████▍                  | 527/686 [03:02<00:51,  3.09it/s]"
     ]
    },
    {
     "name": "stdout",
     "output_type": "stream",
     "text": [
      "nan\n",
      "nan\n",
      "nan\n",
      "nan\n",
      "nan\n"
     ]
    },
    {
     "name": "stderr",
     "output_type": "stream",
     "text": [
      "\r",
      " 77%|█████████████████████████████████████████████████████████████▌                  | 528/686 [03:02<00:49,  3.22it/s]"
     ]
    },
    {
     "name": "stdout",
     "output_type": "stream",
     "text": [
      "nan\n",
      "nan\n",
      "nan\n",
      "nan\n",
      "nan\n"
     ]
    },
    {
     "name": "stderr",
     "output_type": "stream",
     "text": [
      "\r",
      " 77%|█████████████████████████████████████████████████████████████▋                  | 529/686 [03:03<00:47,  3.29it/s]"
     ]
    },
    {
     "name": "stdout",
     "output_type": "stream",
     "text": [
      "nan\n",
      "nan\n",
      "nan\n",
      "nan\n",
      "nan\n"
     ]
    },
    {
     "name": "stderr",
     "output_type": "stream",
     "text": [
      "\r",
      " 77%|█████████████████████████████████████████████████████████████▊                  | 530/686 [03:03<00:48,  3.21it/s]"
     ]
    },
    {
     "name": "stdout",
     "output_type": "stream",
     "text": [
      "nan\n",
      "nan\n",
      "nan\n",
      "nan\n",
      "nan\n"
     ]
    },
    {
     "name": "stderr",
     "output_type": "stream",
     "text": [
      "\r",
      " 77%|█████████████████████████████████████████████████████████████▉                  | 531/686 [03:03<00:48,  3.17it/s]"
     ]
    },
    {
     "name": "stdout",
     "output_type": "stream",
     "text": [
      "nan\n",
      "nan\n",
      "nan\n",
      "nan\n",
      "nan\n"
     ]
    },
    {
     "name": "stderr",
     "output_type": "stream",
     "text": [
      "\r",
      " 78%|██████████████████████████████████████████████████████████████                  | 532/686 [03:04<00:46,  3.30it/s]"
     ]
    },
    {
     "name": "stdout",
     "output_type": "stream",
     "text": [
      "nan\n",
      "nan\n",
      "nan\n",
      "nan\n",
      "nan\n"
     ]
    },
    {
     "name": "stderr",
     "output_type": "stream",
     "text": [
      "\r",
      " 78%|██████████████████████████████████████████████████████████████▏                 | 533/686 [03:04<00:45,  3.35it/s]"
     ]
    },
    {
     "name": "stdout",
     "output_type": "stream",
     "text": [
      "nan\n",
      "nan\n",
      "nan\n",
      "nan\n",
      "nan\n"
     ]
    },
    {
     "name": "stderr",
     "output_type": "stream",
     "text": [
      "\r",
      " 78%|██████████████████████████████████████████████████████████████▎                 | 534/686 [03:04<00:46,  3.30it/s]"
     ]
    },
    {
     "name": "stdout",
     "output_type": "stream",
     "text": [
      "nan\n",
      "nan\n",
      "nan\n",
      "nan\n",
      "nan\n"
     ]
    },
    {
     "name": "stderr",
     "output_type": "stream",
     "text": [
      "\r",
      " 78%|██████████████████████████████████████████████████████████████▍                 | 535/686 [03:05<00:50,  3.00it/s]"
     ]
    },
    {
     "name": "stdout",
     "output_type": "stream",
     "text": [
      "nan\n",
      "nan\n",
      "nan\n",
      "nan\n",
      "nan\n"
     ]
    },
    {
     "name": "stderr",
     "output_type": "stream",
     "text": [
      "\r",
      " 78%|██████████████████████████████████████████████████████████████▌                 | 536/686 [03:05<00:51,  2.91it/s]"
     ]
    },
    {
     "name": "stdout",
     "output_type": "stream",
     "text": [
      "nan\n",
      "nan\n",
      "nan\n",
      "nan\n",
      "nan\n"
     ]
    },
    {
     "name": "stderr",
     "output_type": "stream",
     "text": [
      "\r",
      " 78%|██████████████████████████████████████████████████████████████▌                 | 537/686 [03:05<00:50,  2.97it/s]"
     ]
    },
    {
     "name": "stdout",
     "output_type": "stream",
     "text": [
      "nan\n",
      "nan\n",
      "nan\n",
      "nan\n",
      "nan\n"
     ]
    },
    {
     "name": "stderr",
     "output_type": "stream",
     "text": [
      "\r",
      " 78%|██████████████████████████████████████████████████████████████▋                 | 538/686 [03:06<00:48,  3.06it/s]"
     ]
    },
    {
     "name": "stdout",
     "output_type": "stream",
     "text": [
      "nan\n",
      "nan\n",
      "nan\n",
      "nan\n",
      "nan\n"
     ]
    },
    {
     "name": "stderr",
     "output_type": "stream",
     "text": [
      "\r",
      " 79%|██████████████████████████████████████████████████████████████▊                 | 539/686 [03:06<00:48,  3.04it/s]"
     ]
    },
    {
     "name": "stdout",
     "output_type": "stream",
     "text": [
      "nan\n",
      "nan\n",
      "nan\n",
      "nan\n",
      "nan\n"
     ]
    },
    {
     "name": "stderr",
     "output_type": "stream",
     "text": [
      "\r",
      " 79%|██████████████████████████████████████████████████████████████▉                 | 540/686 [03:07<01:13,  1.98it/s]"
     ]
    },
    {
     "name": "stdout",
     "output_type": "stream",
     "text": [
      "nan\n",
      "3.0\n",
      "nan\n",
      "nan\n",
      "nan\n"
     ]
    },
    {
     "name": "stderr",
     "output_type": "stream",
     "text": [
      "\r",
      " 79%|███████████████████████████████████████████████████████████████                 | 541/686 [03:08<01:20,  1.80it/s]"
     ]
    },
    {
     "name": "stdout",
     "output_type": "stream",
     "text": [
      "nan\n",
      "nan\n",
      "nan\n",
      "nan\n",
      "nan\n"
     ]
    },
    {
     "name": "stderr",
     "output_type": "stream",
     "text": [
      "\r",
      " 79%|███████████████████████████████████████████████████████████████▏                | 542/686 [03:08<01:13,  1.95it/s]"
     ]
    },
    {
     "name": "stdout",
     "output_type": "stream",
     "text": [
      "nan\n",
      "nan\n",
      "nan\n",
      "nan\n",
      "nan\n"
     ]
    },
    {
     "name": "stderr",
     "output_type": "stream",
     "text": [
      "\r",
      " 79%|███████████████████████████████████████████████████████████████▎                | 543/686 [03:08<01:04,  2.21it/s]"
     ]
    },
    {
     "name": "stdout",
     "output_type": "stream",
     "text": [
      "nan\n",
      "nan\n",
      "nan\n",
      "nan\n",
      "nan\n"
     ]
    },
    {
     "name": "stderr",
     "output_type": "stream",
     "text": [
      "\r",
      " 79%|███████████████████████████████████████████████████████████████▍                | 544/686 [03:09<00:57,  2.47it/s]"
     ]
    },
    {
     "name": "stdout",
     "output_type": "stream",
     "text": [
      "nan\n",
      "nan\n",
      "nan\n",
      "nan\n",
      "nan\n"
     ]
    },
    {
     "name": "stderr",
     "output_type": "stream",
     "text": [
      "\r",
      " 79%|███████████████████████████████████████████████████████████████▌                | 545/686 [03:09<00:52,  2.66it/s]"
     ]
    },
    {
     "name": "stdout",
     "output_type": "stream",
     "text": [
      "nan\n",
      "5.0\n",
      "nan\n",
      "nan\n",
      "nan\n"
     ]
    },
    {
     "name": "stderr",
     "output_type": "stream",
     "text": [
      "\r",
      " 80%|███████████████████████████████████████████████████████████████▋                | 546/686 [03:09<00:50,  2.76it/s]"
     ]
    },
    {
     "name": "stdout",
     "output_type": "stream",
     "text": [
      "nan\n",
      "nan\n",
      "nan\n",
      "nan\n",
      "nan\n"
     ]
    },
    {
     "name": "stderr",
     "output_type": "stream",
     "text": [
      "\r",
      " 80%|███████████████████████████████████████████████████████████████▊                | 547/686 [03:10<00:53,  2.59it/s]"
     ]
    },
    {
     "name": "stdout",
     "output_type": "stream",
     "text": [
      "nan\n",
      "nan\n",
      "nan\n",
      "nan\n",
      "nan\n"
     ]
    },
    {
     "name": "stderr",
     "output_type": "stream",
     "text": [
      "\r",
      " 80%|███████████████████████████████████████████████████████████████▉                | 548/686 [03:10<01:04,  2.14it/s]"
     ]
    },
    {
     "name": "stdout",
     "output_type": "stream",
     "text": [
      "nan\n",
      "nan\n",
      "nan\n",
      "nan\n",
      "nan\n"
     ]
    },
    {
     "name": "stderr",
     "output_type": "stream",
     "text": [
      "\r",
      " 80%|████████████████████████████████████████████████████████████████                | 549/686 [03:11<00:58,  2.36it/s]"
     ]
    },
    {
     "name": "stdout",
     "output_type": "stream",
     "text": [
      "4.0\n",
      "nan\n",
      "nan\n",
      "nan\n",
      "nan\n"
     ]
    },
    {
     "name": "stderr",
     "output_type": "stream",
     "text": [
      "\r",
      " 80%|████████████████████████████████████████████████████████████████▏               | 550/686 [03:11<00:55,  2.44it/s]"
     ]
    },
    {
     "name": "stdout",
     "output_type": "stream",
     "text": [
      "nan\n",
      "nan\n",
      "nan\n",
      "nan\n",
      "nan\n"
     ]
    },
    {
     "name": "stderr",
     "output_type": "stream",
     "text": [
      "\r",
      " 80%|████████████████████████████████████████████████████████████████▎               | 551/686 [03:11<00:51,  2.61it/s]"
     ]
    },
    {
     "name": "stdout",
     "output_type": "stream",
     "text": [
      "nan\n",
      "nan\n",
      "nan\n",
      "nan\n",
      "nan\n"
     ]
    },
    {
     "name": "stderr",
     "output_type": "stream",
     "text": [
      "\r",
      " 80%|████████████████████████████████████████████████████████████████▎               | 552/686 [03:12<00:48,  2.79it/s]"
     ]
    },
    {
     "name": "stdout",
     "output_type": "stream",
     "text": [
      "nan\n",
      "nan\n",
      "nan\n",
      "nan\n",
      "nan\n"
     ]
    },
    {
     "name": "stderr",
     "output_type": "stream",
     "text": [
      "\r",
      " 81%|████████████████████████████████████████████████████████████████▍               | 553/686 [03:12<00:44,  2.97it/s]"
     ]
    },
    {
     "name": "stdout",
     "output_type": "stream",
     "text": [
      "nan\n",
      "nan\n",
      "nan\n",
      "nan\n",
      "nan\n"
     ]
    },
    {
     "name": "stderr",
     "output_type": "stream",
     "text": [
      "\r",
      " 81%|████████████████████████████████████████████████████████████████▌               | 554/686 [03:12<00:41,  3.21it/s]"
     ]
    },
    {
     "name": "stdout",
     "output_type": "stream",
     "text": [
      "nan\n",
      "nan\n",
      "nan\n",
      "nan\n",
      "nan\n"
     ]
    },
    {
     "name": "stderr",
     "output_type": "stream",
     "text": [
      "\r",
      " 81%|████████████████████████████████████████████████████████████████▋               | 555/686 [03:13<00:41,  3.14it/s]"
     ]
    },
    {
     "name": "stdout",
     "output_type": "stream",
     "text": [
      "nan\n",
      "nan\n",
      "nan\n",
      "nan\n",
      "nan\n"
     ]
    },
    {
     "name": "stderr",
     "output_type": "stream",
     "text": [
      "\r",
      " 81%|████████████████████████████████████████████████████████████████▊               | 556/686 [03:13<00:40,  3.21it/s]"
     ]
    },
    {
     "name": "stdout",
     "output_type": "stream",
     "text": [
      "nan\n",
      "nan\n",
      "nan\n",
      "nan\n",
      "nan\n"
     ]
    },
    {
     "name": "stderr",
     "output_type": "stream",
     "text": [
      "\r",
      " 81%|████████████████████████████████████████████████████████████████▉               | 557/686 [03:13<00:38,  3.36it/s]"
     ]
    },
    {
     "name": "stdout",
     "output_type": "stream",
     "text": [
      "nan\n",
      "nan\n",
      "nan\n",
      "nan\n",
      "nan\n"
     ]
    },
    {
     "name": "stderr",
     "output_type": "stream",
     "text": [
      "\r",
      " 81%|█████████████████████████████████████████████████████████████████               | 558/686 [03:13<00:37,  3.42it/s]"
     ]
    },
    {
     "name": "stdout",
     "output_type": "stream",
     "text": [
      "nan\n",
      "nan\n",
      "nan\n",
      "nan\n",
      "nan\n"
     ]
    },
    {
     "name": "stderr",
     "output_type": "stream",
     "text": [
      "\r",
      " 81%|█████████████████████████████████████████████████████████████████▏              | 559/686 [03:14<00:37,  3.43it/s]"
     ]
    },
    {
     "name": "stdout",
     "output_type": "stream",
     "text": [
      "nan\n",
      "nan\n",
      "nan\n",
      "nan\n",
      "nan\n"
     ]
    },
    {
     "name": "stderr",
     "output_type": "stream",
     "text": [
      "\r",
      " 82%|█████████████████████████████████████████████████████████████████▎              | 560/686 [03:14<00:38,  3.31it/s]"
     ]
    },
    {
     "name": "stdout",
     "output_type": "stream",
     "text": [
      "nan\n",
      "nan\n",
      "nan\n",
      "nan\n",
      "nan\n"
     ]
    },
    {
     "name": "stderr",
     "output_type": "stream",
     "text": [
      "\r",
      " 82%|█████████████████████████████████████████████████████████████████▍              | 561/686 [03:14<00:38,  3.26it/s]"
     ]
    },
    {
     "name": "stdout",
     "output_type": "stream",
     "text": [
      "nan\n",
      "nan\n",
      "nan\n",
      "nan\n",
      "nan\n"
     ]
    },
    {
     "name": "stderr",
     "output_type": "stream",
     "text": [
      "\r",
      " 82%|█████████████████████████████████████████████████████████████████▌              | 562/686 [03:15<00:37,  3.34it/s]"
     ]
    },
    {
     "name": "stdout",
     "output_type": "stream",
     "text": [
      "nan\n",
      "nan\n",
      "nan\n",
      "nan\n",
      "nan\n"
     ]
    },
    {
     "name": "stderr",
     "output_type": "stream",
     "text": [
      "\r",
      " 82%|█████████████████████████████████████████████████████████████████▋              | 563/686 [03:15<00:36,  3.37it/s]"
     ]
    },
    {
     "name": "stdout",
     "output_type": "stream",
     "text": [
      "nan\n",
      "nan\n",
      "nan\n",
      "nan\n",
      "nan\n"
     ]
    },
    {
     "name": "stderr",
     "output_type": "stream",
     "text": [
      "\r",
      " 82%|█████████████████████████████████████████████████████████████████▊              | 564/686 [03:15<00:39,  3.08it/s]"
     ]
    },
    {
     "name": "stdout",
     "output_type": "stream",
     "text": [
      "nan\n",
      "nan\n",
      "nan\n",
      "nan\n",
      "nan\n"
     ]
    },
    {
     "name": "stderr",
     "output_type": "stream",
     "text": [
      "\r",
      " 82%|█████████████████████████████████████████████████████████████████▉              | 565/686 [03:16<00:41,  2.90it/s]"
     ]
    },
    {
     "name": "stdout",
     "output_type": "stream",
     "text": [
      "nan\n",
      "nan\n",
      "nan\n",
      "nan\n",
      "nan\n"
     ]
    },
    {
     "name": "stderr",
     "output_type": "stream",
     "text": [
      "\r",
      " 83%|██████████████████████████████████████████████████████████████████              | 566/686 [03:16<00:39,  3.02it/s]"
     ]
    },
    {
     "name": "stdout",
     "output_type": "stream",
     "text": [
      "nan\n",
      "nan\n",
      "nan\n",
      "nan\n",
      "nan\n"
     ]
    },
    {
     "name": "stderr",
     "output_type": "stream",
     "text": [
      "\r",
      " 83%|██████████████████████████████████████████████████████████████████              | 567/686 [03:16<00:40,  2.95it/s]"
     ]
    },
    {
     "name": "stdout",
     "output_type": "stream",
     "text": [
      "nan\n",
      "nan\n",
      "nan\n",
      "nan\n",
      "nan\n"
     ]
    },
    {
     "name": "stderr",
     "output_type": "stream",
     "text": [
      "\r",
      " 83%|██████████████████████████████████████████████████████████████████▏             | 568/686 [03:17<00:41,  2.87it/s]"
     ]
    },
    {
     "name": "stdout",
     "output_type": "stream",
     "text": [
      "nan\n",
      "nan\n",
      "nan\n",
      "nan\n",
      "nan\n"
     ]
    },
    {
     "name": "stderr",
     "output_type": "stream",
     "text": [
      "\r",
      " 83%|██████████████████████████████████████████████████████████████████▎             | 569/686 [03:17<00:40,  2.86it/s]"
     ]
    },
    {
     "name": "stdout",
     "output_type": "stream",
     "text": [
      "nan\n",
      "nan\n",
      "nan\n",
      "nan\n",
      "nan\n"
     ]
    },
    {
     "name": "stderr",
     "output_type": "stream",
     "text": [
      "\r",
      " 83%|██████████████████████████████████████████████████████████████████▍             | 570/686 [03:17<00:38,  2.98it/s]"
     ]
    },
    {
     "name": "stdout",
     "output_type": "stream",
     "text": [
      "nan\n",
      "nan\n",
      "nan\n",
      "nan\n",
      "nan\n"
     ]
    },
    {
     "name": "stderr",
     "output_type": "stream",
     "text": [
      "\r",
      " 83%|██████████████████████████████████████████████████████████████████▌             | 571/686 [03:18<00:38,  2.96it/s]"
     ]
    },
    {
     "name": "stdout",
     "output_type": "stream",
     "text": [
      "nan\n",
      "nan\n",
      "nan\n",
      "nan\n",
      "nan\n"
     ]
    },
    {
     "name": "stderr",
     "output_type": "stream",
     "text": [
      "\r",
      " 83%|██████████████████████████████████████████████████████████████████▋             | 572/686 [03:18<00:39,  2.85it/s]"
     ]
    },
    {
     "name": "stdout",
     "output_type": "stream",
     "text": [
      "nan\n",
      "nan\n",
      "nan\n",
      "nan\n",
      "nan\n"
     ]
    },
    {
     "name": "stderr",
     "output_type": "stream",
     "text": [
      "\r",
      " 84%|██████████████████████████████████████████████████████████████████▊             | 573/686 [03:18<00:38,  2.95it/s]"
     ]
    },
    {
     "name": "stdout",
     "output_type": "stream",
     "text": [
      "nan\n",
      "nan\n",
      "nan\n",
      "nan\n",
      "nan\n"
     ]
    },
    {
     "name": "stderr",
     "output_type": "stream",
     "text": [
      "\r",
      " 84%|██████████████████████████████████████████████████████████████████▉             | 574/686 [03:19<00:35,  3.13it/s]"
     ]
    },
    {
     "name": "stdout",
     "output_type": "stream",
     "text": [
      "nan\n",
      "nan\n",
      "nan\n",
      "nan\n",
      "nan\n"
     ]
    },
    {
     "name": "stderr",
     "output_type": "stream",
     "text": [
      "\r",
      " 84%|███████████████████████████████████████████████████████████████████             | 575/686 [03:19<00:37,  2.96it/s]"
     ]
    },
    {
     "name": "stdout",
     "output_type": "stream",
     "text": [
      "nan\n",
      "nan\n",
      "5.0\n",
      "nan\n",
      "nan\n"
     ]
    },
    {
     "name": "stderr",
     "output_type": "stream",
     "text": [
      "\r",
      " 84%|███████████████████████████████████████████████████████████████████▏            | 576/686 [03:19<00:37,  2.92it/s]"
     ]
    },
    {
     "name": "stdout",
     "output_type": "stream",
     "text": [
      "nan\n",
      "nan\n",
      "nan\n",
      "nan\n",
      "nan\n"
     ]
    },
    {
     "name": "stderr",
     "output_type": "stream",
     "text": [
      "\r",
      " 84%|███████████████████████████████████████████████████████████████████▎            | 577/686 [03:20<00:37,  2.94it/s]"
     ]
    },
    {
     "name": "stdout",
     "output_type": "stream",
     "text": [
      "nan\n",
      "nan\n",
      "nan\n",
      "nan\n",
      "nan\n"
     ]
    },
    {
     "name": "stderr",
     "output_type": "stream",
     "text": [
      "\r",
      " 84%|███████████████████████████████████████████████████████████████████▍            | 578/686 [03:20<00:35,  3.02it/s]"
     ]
    },
    {
     "name": "stdout",
     "output_type": "stream",
     "text": [
      "nan\n",
      "nan\n",
      "nan\n",
      "nan\n",
      "nan\n"
     ]
    },
    {
     "name": "stderr",
     "output_type": "stream",
     "text": [
      "\r",
      " 84%|███████████████████████████████████████████████████████████████████▌            | 579/686 [03:20<00:37,  2.83it/s]"
     ]
    },
    {
     "name": "stdout",
     "output_type": "stream",
     "text": [
      "nan\n",
      "nan\n",
      "nan\n",
      "nan\n",
      "nan\n"
     ]
    },
    {
     "name": "stderr",
     "output_type": "stream",
     "text": [
      "\r",
      " 85%|███████████████████████████████████████████████████████████████████▋            | 580/686 [03:21<00:36,  2.90it/s]"
     ]
    },
    {
     "name": "stdout",
     "output_type": "stream",
     "text": [
      "nan\n",
      "nan\n",
      "nan\n",
      "nan\n",
      "nan\n"
     ]
    },
    {
     "name": "stderr",
     "output_type": "stream",
     "text": [
      "\r",
      " 85%|███████████████████████████████████████████████████████████████████▊            | 581/686 [03:21<00:44,  2.36it/s]"
     ]
    },
    {
     "name": "stdout",
     "output_type": "stream",
     "text": [
      "nan\n",
      "nan\n",
      "nan\n",
      "nan\n",
      "nan\n"
     ]
    },
    {
     "name": "stderr",
     "output_type": "stream",
     "text": [
      "\r",
      " 85%|███████████████████████████████████████████████████████████████████▊            | 582/686 [03:22<00:41,  2.51it/s]"
     ]
    },
    {
     "name": "stdout",
     "output_type": "stream",
     "text": [
      "nan\n",
      "nan\n",
      "nan\n",
      "nan\n",
      "nan\n"
     ]
    },
    {
     "name": "stderr",
     "output_type": "stream",
     "text": [
      "\r",
      " 85%|███████████████████████████████████████████████████████████████████▉            | 583/686 [03:22<00:38,  2.70it/s]"
     ]
    },
    {
     "name": "stdout",
     "output_type": "stream",
     "text": [
      "nan\n",
      "nan\n",
      "nan\n",
      "nan\n",
      "nan\n"
     ]
    },
    {
     "name": "stderr",
     "output_type": "stream",
     "text": [
      "\r",
      " 85%|████████████████████████████████████████████████████████████████████            | 584/686 [03:22<00:36,  2.78it/s]"
     ]
    },
    {
     "name": "stdout",
     "output_type": "stream",
     "text": [
      "nan\n",
      "nan\n",
      "nan\n",
      "nan\n",
      "nan\n"
     ]
    },
    {
     "name": "stderr",
     "output_type": "stream",
     "text": [
      "\r",
      " 85%|████████████████████████████████████████████████████████████████████▏           | 585/686 [03:23<00:36,  2.78it/s]"
     ]
    },
    {
     "name": "stdout",
     "output_type": "stream",
     "text": [
      "nan\n",
      "nan\n",
      "nan\n",
      "nan\n",
      "nan\n"
     ]
    },
    {
     "name": "stderr",
     "output_type": "stream",
     "text": [
      "\r",
      " 85%|████████████████████████████████████████████████████████████████████▎           | 586/686 [03:23<00:34,  2.91it/s]"
     ]
    },
    {
     "name": "stdout",
     "output_type": "stream",
     "text": [
      "nan\n",
      "nan\n",
      "nan\n",
      "nan\n",
      "nan\n"
     ]
    },
    {
     "name": "stderr",
     "output_type": "stream",
     "text": [
      "\r",
      " 86%|████████████████████████████████████████████████████████████████████▍           | 587/686 [03:23<00:32,  3.02it/s]"
     ]
    },
    {
     "name": "stdout",
     "output_type": "stream",
     "text": [
      "nan\n",
      "nan\n",
      "nan\n",
      "nan\n",
      "nan\n"
     ]
    },
    {
     "name": "stderr",
     "output_type": "stream",
     "text": [
      "\r",
      " 86%|████████████████████████████████████████████████████████████████████▌           | 588/686 [03:24<00:31,  3.09it/s]"
     ]
    },
    {
     "name": "stdout",
     "output_type": "stream",
     "text": [
      "nan\n",
      "nan\n",
      "nan\n",
      "nan\n",
      "nan\n"
     ]
    },
    {
     "name": "stderr",
     "output_type": "stream",
     "text": [
      "\r",
      " 86%|████████████████████████████████████████████████████████████████████▋           | 589/686 [03:24<00:31,  3.09it/s]"
     ]
    },
    {
     "name": "stdout",
     "output_type": "stream",
     "text": [
      "nan\n",
      "nan\n",
      "nan\n",
      "nan\n",
      "nan\n"
     ]
    },
    {
     "name": "stderr",
     "output_type": "stream",
     "text": [
      "\r",
      " 86%|████████████████████████████████████████████████████████████████████▊           | 590/686 [03:24<00:30,  3.19it/s]"
     ]
    },
    {
     "name": "stdout",
     "output_type": "stream",
     "text": [
      "nan\n",
      "nan\n",
      "nan\n",
      "nan\n",
      "nan\n"
     ]
    },
    {
     "name": "stderr",
     "output_type": "stream",
     "text": [
      "\r",
      " 86%|████████████████████████████████████████████████████████████████████▉           | 591/686 [03:25<00:30,  3.16it/s]"
     ]
    },
    {
     "name": "stdout",
     "output_type": "stream",
     "text": [
      "nan\n",
      "nan\n",
      "nan\n",
      "nan\n",
      "nan\n"
     ]
    },
    {
     "name": "stderr",
     "output_type": "stream",
     "text": [
      "\r",
      " 86%|█████████████████████████████████████████████████████████████████████           | 592/686 [03:25<00:29,  3.14it/s]"
     ]
    },
    {
     "name": "stdout",
     "output_type": "stream",
     "text": [
      "nan\n",
      "nan\n",
      "nan\n",
      "nan\n",
      "2.0\n"
     ]
    },
    {
     "name": "stderr",
     "output_type": "stream",
     "text": [
      "\r",
      " 86%|█████████████████████████████████████████████████████████████████████▏          | 593/686 [03:25<00:30,  3.09it/s]"
     ]
    },
    {
     "name": "stdout",
     "output_type": "stream",
     "text": [
      "nan\n",
      "nan\n",
      "nan\n",
      "nan\n",
      "nan\n"
     ]
    },
    {
     "name": "stderr",
     "output_type": "stream",
     "text": [
      "\r",
      " 87%|█████████████████████████████████████████████████████████████████████▎          | 594/686 [03:25<00:29,  3.13it/s]"
     ]
    },
    {
     "name": "stdout",
     "output_type": "stream",
     "text": [
      "nan\n",
      "nan\n",
      "nan\n",
      "nan\n",
      "nan\n"
     ]
    },
    {
     "name": "stderr",
     "output_type": "stream",
     "text": [
      "\r",
      " 87%|█████████████████████████████████████████████████████████████████████▍          | 595/686 [03:26<00:28,  3.19it/s]"
     ]
    },
    {
     "name": "stdout",
     "output_type": "stream",
     "text": [
      "nan\n",
      "nan\n",
      "nan\n",
      "nan\n",
      "nan\n"
     ]
    },
    {
     "name": "stderr",
     "output_type": "stream",
     "text": [
      "\r",
      " 87%|█████████████████████████████████████████████████████████████████████▌          | 596/686 [03:26<00:27,  3.23it/s]"
     ]
    },
    {
     "name": "stdout",
     "output_type": "stream",
     "text": [
      "nan\n",
      "nan\n",
      "nan\n",
      "nan\n",
      "nan\n"
     ]
    },
    {
     "name": "stderr",
     "output_type": "stream",
     "text": [
      "\r",
      " 87%|█████████████████████████████████████████████████████████████████████▌          | 597/686 [03:26<00:28,  3.14it/s]"
     ]
    },
    {
     "name": "stdout",
     "output_type": "stream",
     "text": [
      "nan\n",
      "nan\n",
      "nan\n",
      "nan\n",
      "nan\n"
     ]
    },
    {
     "name": "stderr",
     "output_type": "stream",
     "text": [
      "\r",
      " 87%|█████████████████████████████████████████████████████████████████████▋          | 598/686 [03:27<00:27,  3.15it/s]"
     ]
    },
    {
     "name": "stdout",
     "output_type": "stream",
     "text": [
      "nan\n",
      "nan\n",
      "nan\n",
      "nan\n",
      "nan\n"
     ]
    },
    {
     "name": "stderr",
     "output_type": "stream",
     "text": [
      "\r",
      " 87%|█████████████████████████████████████████████████████████████████████▊          | 599/686 [03:27<00:26,  3.22it/s]"
     ]
    },
    {
     "name": "stdout",
     "output_type": "stream",
     "text": [
      "nan\n",
      "4.0\n",
      "nan\n",
      "nan\n",
      "nan\n"
     ]
    },
    {
     "name": "stderr",
     "output_type": "stream",
     "text": [
      "\r",
      " 87%|█████████████████████████████████████████████████████████████████████▉          | 600/686 [03:27<00:26,  3.19it/s]"
     ]
    },
    {
     "name": "stdout",
     "output_type": "stream",
     "text": [
      "nan\n",
      "nan\n",
      "nan\n",
      "nan\n",
      "nan\n"
     ]
    },
    {
     "name": "stderr",
     "output_type": "stream",
     "text": [
      "\r",
      " 88%|██████████████████████████████████████████████████████████████████████          | 601/686 [03:28<00:33,  2.53it/s]"
     ]
    },
    {
     "name": "stdout",
     "output_type": "stream",
     "text": [
      "nan\n",
      "nan\n",
      "nan\n",
      "nan\n",
      "nan\n"
     ]
    },
    {
     "name": "stderr",
     "output_type": "stream",
     "text": [
      "\r",
      " 88%|██████████████████████████████████████████████████████████████████████▏         | 602/686 [03:28<00:31,  2.64it/s]"
     ]
    },
    {
     "name": "stdout",
     "output_type": "stream",
     "text": [
      "nan\n",
      "nan\n",
      "nan\n",
      "nan\n",
      "nan\n"
     ]
    },
    {
     "name": "stderr",
     "output_type": "stream",
     "text": [
      "\r",
      " 88%|██████████████████████████████████████████████████████████████████████▎         | 603/686 [03:29<00:30,  2.69it/s]"
     ]
    },
    {
     "name": "stdout",
     "output_type": "stream",
     "text": [
      "nan\n",
      "nan\n",
      "nan\n",
      "nan\n",
      "nan\n"
     ]
    },
    {
     "name": "stderr",
     "output_type": "stream",
     "text": [
      "\r",
      " 88%|██████████████████████████████████████████████████████████████████████▍         | 604/686 [03:29<00:28,  2.86it/s]"
     ]
    },
    {
     "name": "stdout",
     "output_type": "stream",
     "text": [
      "nan\n",
      "nan\n",
      "nan\n",
      "nan\n",
      "nan\n"
     ]
    },
    {
     "name": "stderr",
     "output_type": "stream",
     "text": [
      "\r",
      " 88%|██████████████████████████████████████████████████████████████████████▌         | 605/686 [03:29<00:32,  2.51it/s]"
     ]
    },
    {
     "name": "stdout",
     "output_type": "stream",
     "text": [
      "nan\n",
      "nan\n",
      "nan\n",
      "nan\n",
      "nan\n"
     ]
    },
    {
     "name": "stderr",
     "output_type": "stream",
     "text": [
      "\r",
      " 88%|██████████████████████████████████████████████████████████████████████▋         | 606/686 [03:30<00:30,  2.62it/s]"
     ]
    },
    {
     "name": "stdout",
     "output_type": "stream",
     "text": [
      "nan\n",
      "4.0\n",
      "nan\n",
      "nan\n",
      "nan\n"
     ]
    },
    {
     "name": "stderr",
     "output_type": "stream",
     "text": [
      "\r",
      " 88%|██████████████████████████████████████████████████████████████████████▊         | 607/686 [03:30<00:28,  2.74it/s]"
     ]
    },
    {
     "name": "stdout",
     "output_type": "stream",
     "text": [
      "nan\n",
      "nan\n",
      "nan\n",
      "nan\n",
      "nan\n"
     ]
    },
    {
     "name": "stderr",
     "output_type": "stream",
     "text": [
      "\r",
      " 89%|██████████████████████████████████████████████████████████████████████▉         | 608/686 [03:31<00:28,  2.72it/s]"
     ]
    },
    {
     "name": "stdout",
     "output_type": "stream",
     "text": [
      "nan\n",
      "nan\n",
      "nan\n",
      "nan\n",
      "nan\n"
     ]
    },
    {
     "name": "stderr",
     "output_type": "stream",
     "text": [
      "\r",
      " 89%|███████████████████████████████████████████████████████████████████████         | 609/686 [03:31<00:27,  2.83it/s]"
     ]
    },
    {
     "name": "stdout",
     "output_type": "stream",
     "text": [
      "nan\n",
      "nan\n",
      "4.0\n",
      "nan\n",
      "nan\n"
     ]
    },
    {
     "name": "stderr",
     "output_type": "stream",
     "text": [
      "\r",
      " 89%|███████████████████████████████████████████████████████████████████████▏        | 610/686 [03:31<00:26,  2.87it/s]"
     ]
    },
    {
     "name": "stdout",
     "output_type": "stream",
     "text": [
      "nan\n",
      "nan\n",
      "nan\n",
      "nan\n",
      "nan\n"
     ]
    },
    {
     "name": "stderr",
     "output_type": "stream",
     "text": [
      "\r",
      " 89%|███████████████████████████████████████████████████████████████████████▎        | 611/686 [03:32<00:27,  2.72it/s]"
     ]
    },
    {
     "name": "stdout",
     "output_type": "stream",
     "text": [
      "nan\n",
      "nan\n",
      "nan\n",
      "nan\n",
      "nan\n"
     ]
    },
    {
     "name": "stderr",
     "output_type": "stream",
     "text": [
      "\r",
      " 89%|███████████████████████████████████████████████████████████████████████▎        | 612/686 [03:32<00:33,  2.21it/s]"
     ]
    },
    {
     "name": "stdout",
     "output_type": "stream",
     "text": [
      "nan\n",
      "nan\n",
      "nan\n",
      "nan\n",
      "nan\n"
     ]
    },
    {
     "name": "stderr",
     "output_type": "stream",
     "text": [
      "\r",
      " 89%|███████████████████████████████████████████████████████████████████████▍        | 613/686 [03:33<00:35,  2.07it/s]"
     ]
    },
    {
     "name": "stdout",
     "output_type": "stream",
     "text": [
      "nan\n",
      "nan\n",
      "nan\n",
      "nan\n",
      "nan\n"
     ]
    },
    {
     "name": "stderr",
     "output_type": "stream",
     "text": [
      "\r",
      " 90%|███████████████████████████████████████████████████████████████████████▌        | 614/686 [03:33<00:31,  2.27it/s]"
     ]
    },
    {
     "name": "stdout",
     "output_type": "stream",
     "text": [
      "nan\n",
      "nan\n",
      "nan\n",
      "nan\n",
      "nan\n"
     ]
    },
    {
     "name": "stderr",
     "output_type": "stream",
     "text": [
      "\r",
      " 90%|███████████████████████████████████████████████████████████████████████▋        | 615/686 [03:33<00:28,  2.49it/s]"
     ]
    },
    {
     "name": "stdout",
     "output_type": "stream",
     "text": [
      "nan\n",
      "nan\n",
      "nan\n",
      "nan\n",
      "nan\n"
     ]
    },
    {
     "name": "stderr",
     "output_type": "stream",
     "text": [
      "\r",
      " 90%|███████████████████████████████████████████████████████████████████████▊        | 616/686 [03:34<00:26,  2.69it/s]"
     ]
    },
    {
     "name": "stdout",
     "output_type": "stream",
     "text": [
      "nan\n",
      "nan\n",
      "nan\n",
      "nan\n",
      "nan\n"
     ]
    },
    {
     "name": "stderr",
     "output_type": "stream",
     "text": [
      "\r",
      " 90%|███████████████████████████████████████████████████████████████████████▉        | 617/686 [03:34<00:24,  2.83it/s]"
     ]
    },
    {
     "name": "stdout",
     "output_type": "stream",
     "text": [
      "nan\n",
      "nan\n",
      "nan\n",
      "nan\n",
      "nan\n"
     ]
    },
    {
     "name": "stderr",
     "output_type": "stream",
     "text": [
      "\r",
      " 90%|████████████████████████████████████████████████████████████████████████        | 618/686 [03:34<00:24,  2.76it/s]"
     ]
    },
    {
     "name": "stdout",
     "output_type": "stream",
     "text": [
      "nan\n",
      "nan\n",
      "nan\n",
      "nan\n",
      "nan\n"
     ]
    },
    {
     "name": "stderr",
     "output_type": "stream",
     "text": [
      "\r",
      " 90%|████████████████████████████████████████████████████████████████████████▏       | 619/686 [03:35<00:22,  2.93it/s]"
     ]
    },
    {
     "name": "stdout",
     "output_type": "stream",
     "text": [
      "nan\n",
      "nan\n",
      "nan\n",
      "nan\n",
      "nan\n"
     ]
    },
    {
     "name": "stderr",
     "output_type": "stream",
     "text": [
      "\r",
      " 90%|████████████████████████████████████████████████████████████████████████▎       | 620/686 [03:35<00:21,  3.07it/s]"
     ]
    },
    {
     "name": "stdout",
     "output_type": "stream",
     "text": [
      "nan\n",
      "nan\n",
      "nan\n",
      "nan\n",
      "nan\n"
     ]
    },
    {
     "name": "stderr",
     "output_type": "stream",
     "text": [
      "\r",
      " 91%|████████████████████████████████████████████████████████████████████████▍       | 621/686 [03:35<00:20,  3.14it/s]"
     ]
    },
    {
     "name": "stdout",
     "output_type": "stream",
     "text": [
      "nan\n",
      "nan\n",
      "nan\n",
      "nan\n",
      "nan\n"
     ]
    },
    {
     "name": "stderr",
     "output_type": "stream",
     "text": [
      "\r",
      " 91%|████████████████████████████████████████████████████████████████████████▌       | 622/686 [03:36<00:22,  2.84it/s]"
     ]
    },
    {
     "name": "stdout",
     "output_type": "stream",
     "text": [
      "nan\n",
      "nan\n",
      "nan\n",
      "nan\n",
      "nan\n"
     ]
    },
    {
     "name": "stderr",
     "output_type": "stream",
     "text": [
      "\r",
      " 91%|████████████████████████████████████████████████████████████████████████▋       | 623/686 [03:36<00:21,  2.93it/s]"
     ]
    },
    {
     "name": "stdout",
     "output_type": "stream",
     "text": [
      "nan\n",
      "nan\n",
      "nan\n",
      "nan\n",
      "nan\n"
     ]
    },
    {
     "name": "stderr",
     "output_type": "stream",
     "text": [
      "\r",
      " 91%|████████████████████████████████████████████████████████████████████████▊       | 624/686 [03:36<00:20,  3.04it/s]"
     ]
    },
    {
     "name": "stdout",
     "output_type": "stream",
     "text": [
      "nan\n",
      "nan\n",
      "nan\n",
      "nan\n",
      "nan\n"
     ]
    },
    {
     "name": "stderr",
     "output_type": "stream",
     "text": [
      "\r",
      " 91%|████████████████████████████████████████████████████████████████████████▉       | 625/686 [03:37<00:19,  3.12it/s]"
     ]
    },
    {
     "name": "stdout",
     "output_type": "stream",
     "text": [
      "nan\n",
      "nan\n",
      "nan\n",
      "nan\n",
      "nan\n"
     ]
    },
    {
     "name": "stderr",
     "output_type": "stream",
     "text": [
      "\r",
      " 91%|█████████████████████████████████████████████████████████████████████████       | 626/686 [03:37<00:18,  3.24it/s]"
     ]
    },
    {
     "name": "stdout",
     "output_type": "stream",
     "text": [
      "nan\n",
      "nan\n",
      "nan\n",
      "nan\n",
      "nan\n"
     ]
    },
    {
     "name": "stderr",
     "output_type": "stream",
     "text": [
      "\r",
      " 91%|█████████████████████████████████████████████████████████████████████████       | 627/686 [03:37<00:17,  3.31it/s]"
     ]
    },
    {
     "name": "stdout",
     "output_type": "stream",
     "text": [
      "nan\n",
      "nan\n",
      "nan\n",
      "nan\n",
      "nan\n"
     ]
    },
    {
     "name": "stderr",
     "output_type": "stream",
     "text": [
      "\r",
      " 92%|█████████████████████████████████████████████████████████████████████████▏      | 628/686 [03:38<00:17,  3.37it/s]"
     ]
    },
    {
     "name": "stdout",
     "output_type": "stream",
     "text": [
      "nan\n",
      "nan\n",
      "nan\n",
      "nan\n",
      "nan\n"
     ]
    },
    {
     "name": "stderr",
     "output_type": "stream",
     "text": [
      "\r",
      " 92%|█████████████████████████████████████████████████████████████████████████▎      | 629/686 [03:38<00:16,  3.38it/s]"
     ]
    },
    {
     "name": "stdout",
     "output_type": "stream",
     "text": [
      "nan\n",
      "nan\n",
      "nan\n",
      "2.0\n",
      "nan\n"
     ]
    },
    {
     "name": "stderr",
     "output_type": "stream",
     "text": [
      "\r",
      " 92%|█████████████████████████████████████████████████████████████████████████▍      | 630/686 [03:38<00:16,  3.42it/s]"
     ]
    },
    {
     "name": "stdout",
     "output_type": "stream",
     "text": [
      "nan\n",
      "nan\n",
      "nan\n",
      "nan\n",
      "nan\n"
     ]
    },
    {
     "name": "stderr",
     "output_type": "stream",
     "text": [
      "\r",
      " 92%|█████████████████████████████████████████████████████████████████████████▌      | 631/686 [03:38<00:15,  3.49it/s]"
     ]
    },
    {
     "name": "stdout",
     "output_type": "stream",
     "text": [
      "nan\n",
      "nan\n",
      "nan\n",
      "nan\n",
      "nan\n"
     ]
    },
    {
     "name": "stderr",
     "output_type": "stream",
     "text": [
      "\r",
      " 92%|█████████████████████████████████████████████████████████████████████████▋      | 632/686 [03:39<00:15,  3.54it/s]"
     ]
    },
    {
     "name": "stdout",
     "output_type": "stream",
     "text": [
      "nan\n",
      "nan\n",
      "nan\n",
      "nan\n",
      "nan\n"
     ]
    },
    {
     "name": "stderr",
     "output_type": "stream",
     "text": [
      "\r",
      " 92%|█████████████████████████████████████████████████████████████████████████▊      | 633/686 [03:39<00:14,  3.54it/s]"
     ]
    },
    {
     "name": "stdout",
     "output_type": "stream",
     "text": [
      "nan\n",
      "4.0\n",
      "nan\n",
      "nan\n",
      "nan\n"
     ]
    },
    {
     "name": "stderr",
     "output_type": "stream",
     "text": [
      "\r",
      " 92%|█████████████████████████████████████████████████████████████████████████▉      | 634/686 [03:39<00:15,  3.42it/s]"
     ]
    },
    {
     "name": "stdout",
     "output_type": "stream",
     "text": [
      "nan\n",
      "nan\n",
      "nan\n",
      "nan\n",
      "nan\n"
     ]
    },
    {
     "name": "stderr",
     "output_type": "stream",
     "text": [
      "\r",
      " 93%|██████████████████████████████████████████████████████████████████████████      | 635/686 [03:39<00:14,  3.51it/s]"
     ]
    },
    {
     "name": "stdout",
     "output_type": "stream",
     "text": [
      "nan\n",
      "nan\n",
      "nan\n",
      "nan\n",
      "nan\n"
     ]
    },
    {
     "name": "stderr",
     "output_type": "stream",
     "text": [
      "\r",
      " 93%|██████████████████████████████████████████████████████████████████████████▏     | 636/686 [03:40<00:14,  3.51it/s]"
     ]
    },
    {
     "name": "stdout",
     "output_type": "stream",
     "text": [
      "nan\n",
      "nan\n",
      "nan\n",
      "nan\n",
      "nan\n"
     ]
    },
    {
     "name": "stderr",
     "output_type": "stream",
     "text": [
      "\r",
      " 93%|██████████████████████████████████████████████████████████████████████████▎     | 637/686 [03:40<00:13,  3.55it/s]"
     ]
    },
    {
     "name": "stdout",
     "output_type": "stream",
     "text": [
      "nan\n",
      "nan\n",
      "nan\n",
      "nan\n",
      "nan\n"
     ]
    },
    {
     "name": "stderr",
     "output_type": "stream",
     "text": [
      "\r",
      " 93%|██████████████████████████████████████████████████████████████████████████▍     | 638/686 [03:40<00:13,  3.57it/s]"
     ]
    },
    {
     "name": "stdout",
     "output_type": "stream",
     "text": [
      "nan\n",
      "nan\n",
      "nan\n",
      "nan\n",
      "nan\n"
     ]
    },
    {
     "name": "stderr",
     "output_type": "stream",
     "text": [
      "\r",
      " 93%|██████████████████████████████████████████████████████████████████████████▌     | 639/686 [03:41<00:13,  3.59it/s]"
     ]
    },
    {
     "name": "stdout",
     "output_type": "stream",
     "text": [
      "nan\n",
      "nan\n",
      "nan\n",
      "nan\n",
      "nan\n"
     ]
    },
    {
     "name": "stderr",
     "output_type": "stream",
     "text": [
      "\r",
      " 93%|██████████████████████████████████████████████████████████████████████████▋     | 640/686 [03:41<00:12,  3.58it/s]"
     ]
    },
    {
     "name": "stdout",
     "output_type": "stream",
     "text": [
      "nan\n",
      "nan\n",
      "nan\n",
      "nan\n",
      "nan\n"
     ]
    },
    {
     "name": "stderr",
     "output_type": "stream",
     "text": [
      "\r",
      " 93%|██████████████████████████████████████████████████████████████████████████▊     | 641/686 [03:41<00:12,  3.54it/s]"
     ]
    },
    {
     "name": "stdout",
     "output_type": "stream",
     "text": [
      "nan\n",
      "nan\n",
      "nan\n",
      "nan\n",
      "nan\n"
     ]
    },
    {
     "name": "stderr",
     "output_type": "stream",
     "text": [
      "\r",
      " 94%|██████████████████████████████████████████████████████████████████████████▊     | 642/686 [03:41<00:12,  3.57it/s]"
     ]
    },
    {
     "name": "stdout",
     "output_type": "stream",
     "text": [
      "nan\n",
      "nan\n",
      "nan\n",
      "nan\n",
      "nan\n"
     ]
    },
    {
     "name": "stderr",
     "output_type": "stream",
     "text": [
      "\r",
      " 94%|██████████████████████████████████████████████████████████████████████████▉     | 643/686 [03:42<00:12,  3.37it/s]"
     ]
    },
    {
     "name": "stdout",
     "output_type": "stream",
     "text": [
      "nan\n",
      "nan\n",
      "nan\n",
      "nan\n",
      "nan\n"
     ]
    },
    {
     "name": "stderr",
     "output_type": "stream",
     "text": [
      "\r",
      " 94%|███████████████████████████████████████████████████████████████████████████     | 644/686 [03:42<00:12,  3.29it/s]"
     ]
    },
    {
     "name": "stdout",
     "output_type": "stream",
     "text": [
      "nan\n",
      "nan\n",
      "nan\n",
      "nan\n",
      "nan\n"
     ]
    },
    {
     "name": "stderr",
     "output_type": "stream",
     "text": [
      "\r",
      " 94%|███████████████████████████████████████████████████████████████████████████▏    | 645/686 [03:42<00:12,  3.33it/s]"
     ]
    },
    {
     "name": "stdout",
     "output_type": "stream",
     "text": [
      "nan\n",
      "nan\n",
      "nan\n",
      "nan\n",
      "nan\n"
     ]
    },
    {
     "name": "stderr",
     "output_type": "stream",
     "text": [
      "\r",
      " 94%|███████████████████████████████████████████████████████████████████████████▎    | 646/686 [03:43<00:12,  3.33it/s]"
     ]
    },
    {
     "name": "stdout",
     "output_type": "stream",
     "text": [
      "nan\n",
      "nan\n",
      "nan\n",
      "nan\n",
      "nan\n"
     ]
    },
    {
     "name": "stderr",
     "output_type": "stream",
     "text": [
      "\r",
      " 94%|███████████████████████████████████████████████████████████████████████████▍    | 647/686 [03:43<00:11,  3.42it/s]"
     ]
    },
    {
     "name": "stdout",
     "output_type": "stream",
     "text": [
      "nan\n",
      "nan\n",
      "nan\n",
      "nan\n",
      "nan\n"
     ]
    },
    {
     "name": "stderr",
     "output_type": "stream",
     "text": [
      "\r",
      " 94%|███████████████████████████████████████████████████████████████████████████▌    | 648/686 [03:43<00:10,  3.46it/s]"
     ]
    },
    {
     "name": "stdout",
     "output_type": "stream",
     "text": [
      "nan\n",
      "nan\n",
      "nan\n",
      "nan\n",
      "nan\n"
     ]
    },
    {
     "name": "stderr",
     "output_type": "stream",
     "text": [
      "\r",
      " 95%|███████████████████████████████████████████████████████████████████████████▋    | 649/686 [03:44<00:10,  3.50it/s]"
     ]
    },
    {
     "name": "stdout",
     "output_type": "stream",
     "text": [
      "nan\n",
      "nan\n",
      "nan\n",
      "nan\n",
      "nan\n"
     ]
    },
    {
     "name": "stderr",
     "output_type": "stream",
     "text": [
      "\r",
      " 95%|███████████████████████████████████████████████████████████████████████████▊    | 650/686 [03:44<00:10,  3.53it/s]"
     ]
    },
    {
     "name": "stdout",
     "output_type": "stream",
     "text": [
      "nan\n",
      "nan\n",
      "nan\n",
      "nan\n",
      "nan\n"
     ]
    },
    {
     "name": "stderr",
     "output_type": "stream",
     "text": [
      "\r",
      " 95%|███████████████████████████████████████████████████████████████████████████▉    | 651/686 [03:44<00:09,  3.62it/s]"
     ]
    },
    {
     "name": "stdout",
     "output_type": "stream",
     "text": [
      "nan\n",
      "nan\n",
      "nan\n",
      "nan\n",
      "nan\n"
     ]
    },
    {
     "name": "stderr",
     "output_type": "stream",
     "text": [
      "\r",
      " 95%|████████████████████████████████████████████████████████████████████████████    | 652/686 [03:44<00:09,  3.58it/s]"
     ]
    },
    {
     "name": "stdout",
     "output_type": "stream",
     "text": [
      "nan\n",
      "nan\n",
      "nan\n",
      "nan\n",
      "nan\n"
     ]
    },
    {
     "name": "stderr",
     "output_type": "stream",
     "text": [
      "\r",
      " 95%|████████████████████████████████████████████████████████████████████████████▏   | 653/686 [03:45<00:09,  3.54it/s]"
     ]
    },
    {
     "name": "stdout",
     "output_type": "stream",
     "text": [
      "nan\n",
      "nan\n",
      "nan\n",
      "nan\n",
      "nan\n"
     ]
    },
    {
     "name": "stderr",
     "output_type": "stream",
     "text": [
      "\r",
      " 95%|████████████████████████████████████████████████████████████████████████████▎   | 654/686 [03:45<00:08,  3.58it/s]"
     ]
    },
    {
     "name": "stdout",
     "output_type": "stream",
     "text": [
      "nan\n",
      "nan\n",
      "nan\n",
      "nan\n",
      "nan\n"
     ]
    },
    {
     "name": "stderr",
     "output_type": "stream",
     "text": [
      "\r",
      " 95%|████████████████████████████████████████████████████████████████████████████▍   | 655/686 [03:45<00:08,  3.58it/s]"
     ]
    },
    {
     "name": "stdout",
     "output_type": "stream",
     "text": [
      "nan\n",
      "nan\n",
      "nan\n",
      "nan\n",
      "nan\n"
     ]
    },
    {
     "name": "stderr",
     "output_type": "stream",
     "text": [
      "\r",
      " 96%|████████████████████████████████████████████████████████████████████████████▌   | 656/686 [03:45<00:08,  3.59it/s]"
     ]
    },
    {
     "name": "stdout",
     "output_type": "stream",
     "text": [
      "nan\n",
      "nan\n",
      "nan\n",
      "nan\n",
      "nan\n"
     ]
    },
    {
     "name": "stderr",
     "output_type": "stream",
     "text": [
      "\r",
      " 96%|████████████████████████████████████████████████████████████████████████████▌   | 657/686 [03:46<00:08,  3.62it/s]"
     ]
    },
    {
     "name": "stdout",
     "output_type": "stream",
     "text": [
      "nan\n",
      "nan\n",
      "nan\n",
      "nan\n",
      "nan\n"
     ]
    },
    {
     "name": "stderr",
     "output_type": "stream",
     "text": [
      "\r",
      " 96%|████████████████████████████████████████████████████████████████████████████▋   | 658/686 [03:46<00:07,  3.53it/s]"
     ]
    },
    {
     "name": "stdout",
     "output_type": "stream",
     "text": [
      "nan\n",
      "nan\n",
      "nan\n",
      "nan\n",
      "nan\n"
     ]
    },
    {
     "name": "stderr",
     "output_type": "stream",
     "text": [
      "\r",
      " 96%|████████████████████████████████████████████████████████████████████████████▊   | 659/686 [03:46<00:07,  3.53it/s]"
     ]
    },
    {
     "name": "stdout",
     "output_type": "stream",
     "text": [
      "4.0\n",
      "nan\n",
      "nan\n",
      "nan\n",
      "nan\n"
     ]
    },
    {
     "name": "stderr",
     "output_type": "stream",
     "text": [
      "\r",
      " 96%|████████████████████████████████████████████████████████████████████████████▉   | 660/686 [03:47<00:07,  3.50it/s]"
     ]
    },
    {
     "name": "stdout",
     "output_type": "stream",
     "text": [
      "nan\n",
      "nan\n",
      "nan\n",
      "nan\n",
      "nan\n"
     ]
    },
    {
     "name": "stderr",
     "output_type": "stream",
     "text": [
      "\r",
      " 96%|█████████████████████████████████████████████████████████████████████████████   | 661/686 [03:47<00:07,  3.34it/s]"
     ]
    },
    {
     "name": "stdout",
     "output_type": "stream",
     "text": [
      "nan\n",
      "nan\n",
      "nan\n",
      "nan\n",
      "nan\n"
     ]
    },
    {
     "name": "stderr",
     "output_type": "stream",
     "text": [
      "\r",
      " 97%|█████████████████████████████████████████████████████████████████████████████▏  | 662/686 [03:47<00:07,  3.33it/s]"
     ]
    },
    {
     "name": "stdout",
     "output_type": "stream",
     "text": [
      "nan\n",
      "nan\n",
      "nan\n",
      "nan\n",
      "nan\n"
     ]
    },
    {
     "name": "stderr",
     "output_type": "stream",
     "text": [
      "\r",
      " 97%|█████████████████████████████████████████████████████████████████████████████▎  | 663/686 [03:48<00:06,  3.36it/s]"
     ]
    },
    {
     "name": "stdout",
     "output_type": "stream",
     "text": [
      "nan\n",
      "nan\n",
      "nan\n",
      "nan\n",
      "nan\n"
     ]
    },
    {
     "name": "stderr",
     "output_type": "stream",
     "text": [
      "\r",
      " 97%|█████████████████████████████████████████████████████████████████████████████▍  | 664/686 [03:48<00:06,  3.40it/s]"
     ]
    },
    {
     "name": "stdout",
     "output_type": "stream",
     "text": [
      "nan\n",
      "nan\n",
      "nan\n",
      "nan\n",
      "nan\n"
     ]
    },
    {
     "name": "stderr",
     "output_type": "stream",
     "text": [
      "\r",
      " 97%|█████████████████████████████████████████████████████████████████████████████▌  | 665/686 [03:48<00:06,  3.45it/s]"
     ]
    },
    {
     "name": "stdout",
     "output_type": "stream",
     "text": [
      "nan\n",
      "nan\n",
      "nan\n",
      "nan\n",
      "nan\n"
     ]
    },
    {
     "name": "stderr",
     "output_type": "stream",
     "text": [
      "\r",
      " 97%|█████████████████████████████████████████████████████████████████████████████▋  | 666/686 [03:48<00:05,  3.40it/s]"
     ]
    },
    {
     "name": "stdout",
     "output_type": "stream",
     "text": [
      "nan\n",
      "nan\n",
      "nan\n",
      "nan\n",
      "nan\n"
     ]
    },
    {
     "name": "stderr",
     "output_type": "stream",
     "text": [
      "\r",
      " 97%|█████████████████████████████████████████████████████████████████████████████▊  | 667/686 [03:49<00:05,  3.34it/s]"
     ]
    },
    {
     "name": "stdout",
     "output_type": "stream",
     "text": [
      "nan\n",
      "nan\n",
      "nan\n",
      "nan\n",
      "nan\n"
     ]
    },
    {
     "name": "stderr",
     "output_type": "stream",
     "text": [
      "\r",
      " 97%|█████████████████████████████████████████████████████████████████████████████▉  | 668/686 [03:49<00:05,  3.43it/s]"
     ]
    },
    {
     "name": "stdout",
     "output_type": "stream",
     "text": [
      "nan\n",
      "nan\n",
      "nan\n",
      "nan\n",
      "nan\n"
     ]
    },
    {
     "name": "stderr",
     "output_type": "stream",
     "text": [
      "\r",
      " 98%|██████████████████████████████████████████████████████████████████████████████  | 669/686 [03:49<00:04,  3.42it/s]"
     ]
    },
    {
     "name": "stdout",
     "output_type": "stream",
     "text": [
      "nan\n",
      "nan\n",
      "nan\n",
      "nan\n",
      "nan\n"
     ]
    },
    {
     "name": "stderr",
     "output_type": "stream",
     "text": [
      "\r",
      " 98%|██████████████████████████████████████████████████████████████████████████████▏ | 670/686 [03:50<00:04,  3.31it/s]"
     ]
    },
    {
     "name": "stdout",
     "output_type": "stream",
     "text": [
      "nan\n",
      "nan\n",
      "nan\n",
      "nan\n",
      "nan\n"
     ]
    },
    {
     "name": "stderr",
     "output_type": "stream",
     "text": [
      "\r",
      " 98%|██████████████████████████████████████████████████████████████████████████████▎ | 671/686 [03:50<00:04,  3.38it/s]"
     ]
    },
    {
     "name": "stdout",
     "output_type": "stream",
     "text": [
      "nan\n",
      "nan\n",
      "nan\n",
      "nan\n",
      "nan\n"
     ]
    },
    {
     "name": "stderr",
     "output_type": "stream",
     "text": [
      "\r",
      " 98%|██████████████████████████████████████████████████████████████████████████████▎ | 672/686 [03:50<00:04,  3.45it/s]"
     ]
    },
    {
     "name": "stdout",
     "output_type": "stream",
     "text": [
      "nan\n",
      "nan\n",
      "nan\n",
      "nan\n",
      "nan\n"
     ]
    },
    {
     "name": "stderr",
     "output_type": "stream",
     "text": [
      "\r",
      " 98%|██████████████████████████████████████████████████████████████████████████████▍ | 673/686 [03:50<00:03,  3.52it/s]"
     ]
    },
    {
     "name": "stdout",
     "output_type": "stream",
     "text": [
      "nan\n",
      "nan\n",
      "nan\n",
      "nan\n",
      "nan\n"
     ]
    },
    {
     "name": "stderr",
     "output_type": "stream",
     "text": [
      "\r",
      " 98%|██████████████████████████████████████████████████████████████████████████████▌ | 674/686 [03:51<00:03,  3.56it/s]"
     ]
    },
    {
     "name": "stdout",
     "output_type": "stream",
     "text": [
      "nan\n",
      "nan\n",
      "nan\n",
      "nan\n",
      "nan\n"
     ]
    },
    {
     "name": "stderr",
     "output_type": "stream",
     "text": [
      "\r",
      " 98%|██████████████████████████████████████████████████████████████████████████████▋ | 675/686 [03:51<00:03,  3.56it/s]"
     ]
    },
    {
     "name": "stdout",
     "output_type": "stream",
     "text": [
      "nan\n",
      "nan\n",
      "nan\n",
      "nan\n",
      "nan\n"
     ]
    },
    {
     "name": "stderr",
     "output_type": "stream",
     "text": [
      "\r",
      " 99%|██████████████████████████████████████████████████████████████████████████████▊ | 676/686 [03:51<00:02,  3.42it/s]"
     ]
    },
    {
     "name": "stdout",
     "output_type": "stream",
     "text": [
      "nan\n",
      "nan\n",
      "nan\n",
      "nan\n",
      "nan\n"
     ]
    },
    {
     "name": "stderr",
     "output_type": "stream",
     "text": [
      "\r",
      " 99%|██████████████████████████████████████████████████████████████████████████████▉ | 677/686 [03:52<00:02,  3.36it/s]"
     ]
    },
    {
     "name": "stdout",
     "output_type": "stream",
     "text": [
      "nan\n",
      "nan\n",
      "nan\n",
      "4.0\n",
      "nan\n"
     ]
    },
    {
     "name": "stderr",
     "output_type": "stream",
     "text": [
      "\r",
      " 99%|███████████████████████████████████████████████████████████████████████████████ | 678/686 [03:52<00:02,  3.40it/s]"
     ]
    },
    {
     "name": "stdout",
     "output_type": "stream",
     "text": [
      "nan\n",
      "nan\n",
      "nan\n",
      "nan\n",
      "nan\n"
     ]
    },
    {
     "name": "stderr",
     "output_type": "stream",
     "text": [
      "\r",
      " 99%|███████████████████████████████████████████████████████████████████████████████▏| 679/686 [03:52<00:02,  3.43it/s]"
     ]
    },
    {
     "name": "stdout",
     "output_type": "stream",
     "text": [
      "nan\n",
      "nan\n",
      "nan\n",
      "nan\n",
      "nan\n"
     ]
    },
    {
     "name": "stderr",
     "output_type": "stream",
     "text": [
      "\r",
      " 99%|███████████████████████████████████████████████████████████████████████████████▎| 680/686 [03:52<00:01,  3.44it/s]"
     ]
    },
    {
     "name": "stdout",
     "output_type": "stream",
     "text": [
      "nan\n",
      "nan\n",
      "nan\n",
      "nan\n",
      "nan\n"
     ]
    },
    {
     "name": "stderr",
     "output_type": "stream",
     "text": [
      "\r",
      " 99%|███████████████████████████████████████████████████████████████████████████████▍| 681/686 [03:53<00:01,  3.55it/s]"
     ]
    },
    {
     "name": "stdout",
     "output_type": "stream",
     "text": [
      "nan\n",
      "nan\n",
      "nan\n",
      "nan\n",
      "nan\n"
     ]
    },
    {
     "name": "stderr",
     "output_type": "stream",
     "text": [
      "\r",
      " 99%|███████████████████████████████████████████████████████████████████████████████▌| 682/686 [03:53<00:01,  3.64it/s]"
     ]
    },
    {
     "name": "stdout",
     "output_type": "stream",
     "text": [
      "nan\n",
      "nan\n",
      "nan\n",
      "nan\n",
      "nan\n"
     ]
    },
    {
     "name": "stderr",
     "output_type": "stream",
     "text": [
      "\r",
      "100%|███████████████████████████████████████████████████████████████████████████████▋| 683/686 [03:53<00:00,  3.69it/s]"
     ]
    },
    {
     "name": "stdout",
     "output_type": "stream",
     "text": [
      "nan\n",
      "nan\n",
      "nan\n",
      "nan\n",
      "nan\n"
     ]
    },
    {
     "name": "stderr",
     "output_type": "stream",
     "text": [
      "\r",
      "100%|███████████████████████████████████████████████████████████████████████████████▊| 684/686 [03:54<00:00,  3.72it/s]"
     ]
    },
    {
     "name": "stdout",
     "output_type": "stream",
     "text": [
      "nan\n",
      "nan\n",
      "nan\n",
      "nan\n",
      "nan\n"
     ]
    },
    {
     "name": "stderr",
     "output_type": "stream",
     "text": [
      "\r",
      "100%|███████████████████████████████████████████████████████████████████████████████▉| 685/686 [03:54<00:00,  3.64it/s]"
     ]
    },
    {
     "name": "stdout",
     "output_type": "stream",
     "text": [
      "nan\n",
      "nan\n",
      "nan\n",
      "nan\n",
      "nan\n"
     ]
    },
    {
     "name": "stderr",
     "output_type": "stream",
     "text": [
      "100%|████████████████████████████████████████████████████████████████████████████████| 686/686 [03:54<00:00,  2.92it/s]"
     ]
    },
    {
     "name": "stdout",
     "output_type": "stream",
     "text": [
      "nan\n",
      "nan\n",
      "nan\n",
      "nan\n",
      "nan\n"
     ]
    },
    {
     "name": "stderr",
     "output_type": "stream",
     "text": [
      "\n"
     ]
    },
    {
     "data": {
      "text/html": [
       "<div>\n",
       "<style scoped>\n",
       "    .dataframe tbody tr th:only-of-type {\n",
       "        vertical-align: middle;\n",
       "    }\n",
       "\n",
       "    .dataframe tbody tr th {\n",
       "        vertical-align: top;\n",
       "    }\n",
       "\n",
       "    .dataframe thead th {\n",
       "        text-align: right;\n",
       "    }\n",
       "</style>\n",
       "<table border=\"1\" class=\"dataframe\">\n",
       "  <thead>\n",
       "    <tr style=\"text-align: right;\">\n",
       "      <th></th>\n",
       "      <th>MovieIDs</th>\n",
       "      <th>pred_rating</th>\n",
       "    </tr>\n",
       "  </thead>\n",
       "  <tbody>\n",
       "    <tr>\n",
       "      <th>123</th>\n",
       "      <td>590</td>\n",
       "      <td>5.0</td>\n",
       "    </tr>\n",
       "    <tr>\n",
       "      <th>231</th>\n",
       "      <td>1266</td>\n",
       "      <td>5.0</td>\n",
       "    </tr>\n",
       "    <tr>\n",
       "      <th>208</th>\n",
       "      <td>1221</td>\n",
       "      <td>5.0</td>\n",
       "    </tr>\n",
       "    <tr>\n",
       "      <th>574</th>\n",
       "      <td>3159</td>\n",
       "      <td>5.0</td>\n",
       "    </tr>\n",
       "    <tr>\n",
       "      <th>58</th>\n",
       "      <td>318</td>\n",
       "      <td>5.0</td>\n",
       "    </tr>\n",
       "  </tbody>\n",
       "</table>\n",
       "</div>"
      ],
      "text/plain": [
       "     MovieIDs  pred_rating\n",
       "123       590          5.0\n",
       "231      1266          5.0\n",
       "208      1221          5.0\n",
       "574      3159          5.0\n",
       "58        318          5.0"
      ]
     },
     "execution_count": 52,
     "metadata": {},
     "output_type": "execute_result"
    }
   ],
   "source": [
    "user_1_rec = recommendation_movies(pivot_df_ratings=pivot_df_ratings, userid=1, n=5, n_item=5,\n",
    "                                   recommend_seen=False)\n",
    "\n",
    "user_1_rec"
   ]
  },
  {
   "cell_type": "markdown",
   "metadata": {},
   "source": [
    "#### Konversi ke Movie Data"
   ]
  },
  {
   "cell_type": "code",
   "execution_count": 53,
   "metadata": {},
   "outputs": [],
   "source": [
    "def import_movie_data(movie_path, m_cols):\n",
    "    \"\"\"\n",
    "    Fungsi yang digunakan untuk import movie.csv \n",
    "\n",
    "    Parameters\n",
    "    ----------\n",
    "    movie_path : str\n",
    "        Path movie.csv\n",
    "\n",
    "    m_cols : list\n",
    "        Nama kolom dari movies.csv\n",
    "    Returns\n",
    "    -------\n",
    "    movie_df : pandas DataFrame\n",
    "        DataFrame dari movie\n",
    "    \"\"\"\n",
    "    # Import data\n",
    "    movie_df = pd.read_csv(movie_path, sep='::', names=m_cols, encoding='latin-1', index_col=None, engine='python')\n",
    "    \n",
    "    print('Shape dari movie_df :', movie_df.shape)\n",
    "    return movie_df"
   ]
  },
  {
   "cell_type": "code",
   "execution_count": 54,
   "metadata": {},
   "outputs": [
    {
     "name": "stdout",
     "output_type": "stream",
     "text": [
      "Shape dari movie_df : (3883, 3)\n"
     ]
    },
    {
     "data": {
      "text/html": [
       "<div>\n",
       "<style scoped>\n",
       "    .dataframe tbody tr th:only-of-type {\n",
       "        vertical-align: middle;\n",
       "    }\n",
       "\n",
       "    .dataframe tbody tr th {\n",
       "        vertical-align: top;\n",
       "    }\n",
       "\n",
       "    .dataframe thead th {\n",
       "        text-align: right;\n",
       "    }\n",
       "</style>\n",
       "<table border=\"1\" class=\"dataframe\">\n",
       "  <thead>\n",
       "    <tr style=\"text-align: right;\">\n",
       "      <th></th>\n",
       "      <th>MovieIDs</th>\n",
       "      <th>Title</th>\n",
       "      <th>Genre</th>\n",
       "    </tr>\n",
       "  </thead>\n",
       "  <tbody>\n",
       "    <tr>\n",
       "      <th>0</th>\n",
       "      <td>1</td>\n",
       "      <td>Toy Story (1995)</td>\n",
       "      <td>Animation|Children's|Comedy</td>\n",
       "    </tr>\n",
       "    <tr>\n",
       "      <th>1</th>\n",
       "      <td>2</td>\n",
       "      <td>Jumanji (1995)</td>\n",
       "      <td>Adventure|Children's|Fantasy</td>\n",
       "    </tr>\n",
       "    <tr>\n",
       "      <th>2</th>\n",
       "      <td>3</td>\n",
       "      <td>Grumpier Old Men (1995)</td>\n",
       "      <td>Comedy|Romance</td>\n",
       "    </tr>\n",
       "    <tr>\n",
       "      <th>3</th>\n",
       "      <td>4</td>\n",
       "      <td>Waiting to Exhale (1995)</td>\n",
       "      <td>Comedy|Drama</td>\n",
       "    </tr>\n",
       "    <tr>\n",
       "      <th>4</th>\n",
       "      <td>5</td>\n",
       "      <td>Father of the Bride Part II (1995)</td>\n",
       "      <td>Comedy</td>\n",
       "    </tr>\n",
       "  </tbody>\n",
       "</table>\n",
       "</div>"
      ],
      "text/plain": [
       "   MovieIDs                               Title                         Genre\n",
       "0         1                    Toy Story (1995)   Animation|Children's|Comedy\n",
       "1         2                      Jumanji (1995)  Adventure|Children's|Fantasy\n",
       "2         3             Grumpier Old Men (1995)                Comedy|Romance\n",
       "3         4            Waiting to Exhale (1995)                  Comedy|Drama\n",
       "4         5  Father of the Bride Part II (1995)                        Comedy"
      ]
     },
     "execution_count": 54,
     "metadata": {},
     "output_type": "execute_result"
    }
   ],
   "source": [
    "# Import movie.csv\n",
    "movie_path = '../data/movies.csv'\n",
    "m_cols = ['MovieIDs', 'Title', 'Genre']\n",
    "\n",
    "# Ambil DataFrame dari movies.csv\n",
    "movie_df = import_movie_data(movie_path = movie_path, m_cols = m_cols)\n",
    "movie_df.head()"
   ]
  },
  {
   "cell_type": "code",
   "execution_count": 55,
   "metadata": {},
   "outputs": [
    {
     "data": {
      "text/html": [
       "<div>\n",
       "<style scoped>\n",
       "    .dataframe tbody tr th:only-of-type {\n",
       "        vertical-align: middle;\n",
       "    }\n",
       "\n",
       "    .dataframe tbody tr th {\n",
       "        vertical-align: top;\n",
       "    }\n",
       "\n",
       "    .dataframe thead th {\n",
       "        text-align: right;\n",
       "    }\n",
       "</style>\n",
       "<table border=\"1\" class=\"dataframe\">\n",
       "  <thead>\n",
       "    <tr style=\"text-align: right;\">\n",
       "      <th></th>\n",
       "      <th>MovieIDs</th>\n",
       "      <th>pred_rating</th>\n",
       "      <th>MovieName</th>\n",
       "      <th>Genres</th>\n",
       "    </tr>\n",
       "  </thead>\n",
       "  <tbody>\n",
       "    <tr>\n",
       "      <th>123</th>\n",
       "      <td>590</td>\n",
       "      <td>5.0</td>\n",
       "      <td>Snow White and the Seven Dwarfs (1937)</td>\n",
       "      <td>Animation|Children's|Musical</td>\n",
       "    </tr>\n",
       "    <tr>\n",
       "      <th>231</th>\n",
       "      <td>1266</td>\n",
       "      <td>5.0</td>\n",
       "      <td>Somewhere in Time (1980)</td>\n",
       "      <td>Drama|Romance</td>\n",
       "    </tr>\n",
       "    <tr>\n",
       "      <th>208</th>\n",
       "      <td>1221</td>\n",
       "      <td>5.0</td>\n",
       "      <td>Braindead (1992)</td>\n",
       "      <td>Comedy|Horror</td>\n",
       "    </tr>\n",
       "    <tr>\n",
       "      <th>574</th>\n",
       "      <td>3159</td>\n",
       "      <td>5.0</td>\n",
       "      <td>Wirey Spindell (1999)</td>\n",
       "      <td>Comedy</td>\n",
       "    </tr>\n",
       "    <tr>\n",
       "      <th>58</th>\n",
       "      <td>318</td>\n",
       "      <td>5.0</td>\n",
       "      <td>Strawberry and Chocolate (Fresa y chocolate) (...</td>\n",
       "      <td>Drama</td>\n",
       "    </tr>\n",
       "  </tbody>\n",
       "</table>\n",
       "</div>"
      ],
      "text/plain": [
       "     MovieIDs  pred_rating                                          MovieName  \\\n",
       "123       590          5.0             Snow White and the Seven Dwarfs (1937)   \n",
       "231      1266          5.0                           Somewhere in Time (1980)   \n",
       "208      1221          5.0                                   Braindead (1992)   \n",
       "574      3159          5.0                              Wirey Spindell (1999)   \n",
       "58        318          5.0  Strawberry and Chocolate (Fresa y chocolate) (...   \n",
       "\n",
       "                           Genres  \n",
       "123  Animation|Children's|Musical  \n",
       "231                 Drama|Romance  \n",
       "208                 Comedy|Horror  \n",
       "574                        Comedy  \n",
       "58                          Drama  "
      ]
     },
     "execution_count": 55,
     "metadata": {},
     "output_type": "execute_result"
    }
   ],
   "source": [
    "user_1_rec['MovieName'] = movie_df.loc[user_1_rec['MovieIDs'], 'Title'].values\n",
    "user_1_rec['Genres'] = movie_df.loc[user_1_rec['MovieIDs'], 'Genre'].values\n",
    "\n",
    "user_1_rec"
   ]
  },
  {
   "cell_type": "markdown",
   "metadata": {},
   "source": [
    "## Train Recommender System"
   ]
  },
  {
   "cell_type": "code",
   "execution_count": 56,
   "metadata": {
    "scrolled": true
   },
   "outputs": [
    {
     "name": "stdout",
     "output_type": "stream",
     "text": [
      "Requirement already satisfied: surprise in c:\\users\\axel\\anaconda3\\lib\\site-packages (0.1)\n",
      "Requirement already satisfied: scikit-surprise in c:\\users\\axel\\anaconda3\\lib\\site-packages (from surprise) (1.1.1)\n",
      "Requirement already satisfied: joblib>=0.11 in c:\\users\\axel\\anaconda3\\lib\\site-packages (from scikit-surprise->surprise) (1.1.0)\n",
      "Requirement already satisfied: numpy>=1.11.2 in c:\\users\\axel\\anaconda3\\lib\\site-packages (from scikit-surprise->surprise) (1.20.3)\n",
      "Requirement already satisfied: scipy>=1.0.0 in c:\\users\\axel\\anaconda3\\lib\\site-packages (from scikit-surprise->surprise) (1.7.1)\n",
      "Requirement already satisfied: six>=1.10.0 in c:\\users\\axel\\anaconda3\\lib\\site-packages (from scikit-surprise->surprise) (1.16.0)\n"
     ]
    }
   ],
   "source": [
    "!pip install surprise"
   ]
  },
  {
   "cell_type": "code",
   "execution_count": 57,
   "metadata": {},
   "outputs": [],
   "source": [
    "import surprise"
   ]
  },
  {
   "cell_type": "markdown",
   "metadata": {},
   "source": [
    "### Load the Data\n",
    "---"
   ]
  },
  {
   "cell_type": "code",
   "execution_count": 58,
   "metadata": {},
   "outputs": [],
   "source": [
    "# Import library lain\n",
    "from surprise import Dataset, Reader"
   ]
  },
  {
   "cell_type": "code",
   "execution_count": 59,
   "metadata": {},
   "outputs": [
    {
     "data": {
      "text/plain": [
       "<surprise.reader.Reader at 0x293cf6a6100>"
      ]
     },
     "execution_count": 59,
     "metadata": {},
     "output_type": "execute_result"
    }
   ],
   "source": [
    "reader = Reader(rating_scale = (1, 5))\n",
    "reader"
   ]
  },
  {
   "cell_type": "markdown",
   "metadata": {},
   "source": [
    "### Data Preparation\n",
    "---"
   ]
  },
  {
   "cell_type": "code",
   "execution_count": 60,
   "metadata": {},
   "outputs": [
    {
     "data": {
      "text/plain": [
       "<surprise.dataset.DatasetAutoFolds at 0x293cf6885b0>"
      ]
     },
     "execution_count": 60,
     "metadata": {},
     "output_type": "execute_result"
    }
   ],
   "source": [
    "utility_data = Dataset.load_from_df(\n",
    "                df=df_ratings[['UserID', 'MovieIDs', 'Ratings']].copy(),\n",
    "                reader=reader\n",
    "            )\n",
    "utility_data"
   ]
  },
  {
   "cell_type": "code",
   "execution_count": 61,
   "metadata": {},
   "outputs": [
    {
     "data": {
      "text/html": [
       "<div>\n",
       "<style scoped>\n",
       "    .dataframe tbody tr th:only-of-type {\n",
       "        vertical-align: middle;\n",
       "    }\n",
       "\n",
       "    .dataframe tbody tr th {\n",
       "        vertical-align: top;\n",
       "    }\n",
       "\n",
       "    .dataframe thead th {\n",
       "        text-align: right;\n",
       "    }\n",
       "</style>\n",
       "<table border=\"1\" class=\"dataframe\">\n",
       "  <thead>\n",
       "    <tr style=\"text-align: right;\">\n",
       "      <th></th>\n",
       "      <th>UserID</th>\n",
       "      <th>MovieIDs</th>\n",
       "      <th>Ratings</th>\n",
       "    </tr>\n",
       "  </thead>\n",
       "  <tbody>\n",
       "    <tr>\n",
       "      <th>0</th>\n",
       "      <td>1</td>\n",
       "      <td>1193</td>\n",
       "      <td>5.0</td>\n",
       "    </tr>\n",
       "    <tr>\n",
       "      <th>1</th>\n",
       "      <td>1</td>\n",
       "      <td>661</td>\n",
       "      <td>3.0</td>\n",
       "    </tr>\n",
       "    <tr>\n",
       "      <th>2</th>\n",
       "      <td>1</td>\n",
       "      <td>914</td>\n",
       "      <td>3.0</td>\n",
       "    </tr>\n",
       "    <tr>\n",
       "      <th>3</th>\n",
       "      <td>1</td>\n",
       "      <td>3408</td>\n",
       "      <td>4.0</td>\n",
       "    </tr>\n",
       "    <tr>\n",
       "      <th>4</th>\n",
       "      <td>1</td>\n",
       "      <td>2355</td>\n",
       "      <td>5.0</td>\n",
       "    </tr>\n",
       "  </tbody>\n",
       "</table>\n",
       "</div>"
      ],
      "text/plain": [
       "   UserID  MovieIDs  Ratings\n",
       "0       1      1193      5.0\n",
       "1       1       661      3.0\n",
       "2       1       914      3.0\n",
       "3       1      3408      4.0\n",
       "4       1      2355      5.0"
      ]
     },
     "execution_count": 61,
     "metadata": {},
     "output_type": "execute_result"
    }
   ],
   "source": [
    "# Cek utility data\n",
    "utility_data.df.head()"
   ]
  },
  {
   "cell_type": "code",
   "execution_count": 62,
   "metadata": {},
   "outputs": [
    {
     "data": {
      "text/html": [
       "<div>\n",
       "<style scoped>\n",
       "    .dataframe tbody tr th:only-of-type {\n",
       "        vertical-align: middle;\n",
       "    }\n",
       "\n",
       "    .dataframe tbody tr th {\n",
       "        vertical-align: top;\n",
       "    }\n",
       "\n",
       "    .dataframe thead th {\n",
       "        text-align: right;\n",
       "    }\n",
       "</style>\n",
       "<table border=\"1\" class=\"dataframe\">\n",
       "  <thead>\n",
       "    <tr style=\"text-align: right;\">\n",
       "      <th></th>\n",
       "      <th>UserID</th>\n",
       "      <th>MovieIDs</th>\n",
       "      <th>Ratings</th>\n",
       "    </tr>\n",
       "  </thead>\n",
       "  <tbody>\n",
       "    <tr>\n",
       "      <th>0</th>\n",
       "      <td>1</td>\n",
       "      <td>1193</td>\n",
       "      <td>5.0</td>\n",
       "    </tr>\n",
       "    <tr>\n",
       "      <th>1</th>\n",
       "      <td>1</td>\n",
       "      <td>661</td>\n",
       "      <td>3.0</td>\n",
       "    </tr>\n",
       "    <tr>\n",
       "      <th>2</th>\n",
       "      <td>1</td>\n",
       "      <td>914</td>\n",
       "      <td>3.0</td>\n",
       "    </tr>\n",
       "    <tr>\n",
       "      <th>3</th>\n",
       "      <td>1</td>\n",
       "      <td>3408</td>\n",
       "      <td>4.0</td>\n",
       "    </tr>\n",
       "    <tr>\n",
       "      <th>4</th>\n",
       "      <td>1</td>\n",
       "      <td>2355</td>\n",
       "      <td>5.0</td>\n",
       "    </tr>\n",
       "  </tbody>\n",
       "</table>\n",
       "</div>"
      ],
      "text/plain": [
       "   UserID  MovieIDs  Ratings\n",
       "0       1      1193      5.0\n",
       "1       1       661      3.0\n",
       "2       1       914      3.0\n",
       "3       1      3408      4.0\n",
       "4       1      2355      5.0"
      ]
     },
     "execution_count": 62,
     "metadata": {},
     "output_type": "execute_result"
    }
   ],
   "source": [
    "df_ratings.head()"
   ]
  },
  {
   "cell_type": "markdown",
   "metadata": {},
   "source": [
    "### Split Train-Test\n",
    "---"
   ]
  },
  {
   "cell_type": "code",
   "execution_count": 63,
   "metadata": {},
   "outputs": [],
   "source": [
    "# Import data menggunakan deepcopy\n",
    "import copy"
   ]
  },
  {
   "cell_type": "code",
   "execution_count": 64,
   "metadata": {},
   "outputs": [],
   "source": [
    "# Buat fungsi untuk train test split\n",
    "def train_test_split(utility_data, test_size=0.2, random_state=42):\n",
    "    \"\"\"\n",
    "    Fungsi untuk train-test-split dataset\n",
    "    \n",
    "    Parameters\n",
    "    ----------\n",
    "    utility_data : Surprise utility data\n",
    "        Sampel dari seluruh dataset\n",
    "        \n",
    "    test_size : float, default=0.2\n",
    "        Ukuran dari test data\n",
    "    \n",
    "    random_state : int, default=42\n",
    "        Reproduksi dataset\n",
    "        \n",
    "    Returns\n",
    "    -------\n",
    "    full_data : Surprise utility data\n",
    "        Utility data yang baru\n",
    "        \n",
    "    train_data : Surprice format\n",
    "        Data train\n",
    "        \n",
    "    test_data : Surprise format\n",
    "        Data test\n",
    "    \n",
    "    \"\"\"\n",
    "    # Lakukan deep copy untuk utility data\n",
    "    full_data = copy.deepcopy(utility_data)\n",
    "    \n",
    "    # Buat random seed\n",
    "    np.random.seed(random_state)\n",
    "    \n",
    "    # Acak raw_ratings untuk reproduksi data\n",
    "    raw_ratings = full_data.raw_ratings\n",
    "    np.random.shuffle(raw_ratings)\n",
    "    \n",
    "    # Tetapkan nilai threshold\n",
    "    thresh = int((1-test_size) * len(raw_ratings))\n",
    "    \n",
    "    # Split dataset\n",
    "    train_raw_rating = raw_ratings[:thresh]\n",
    "    test_raw_rating = raw_ratings[thresh:]\n",
    "    \n",
    "    # Get data\n",
    "    full_data.raw_ratings = train_raw_rating\n",
    "    train_data = full_data.build_full_trainset()\n",
    "    test_data = full_data.construct_testset(test_raw_rating)\n",
    "    \n",
    "    return full_data, train_data, test_data"
   ]
  },
  {
   "cell_type": "code",
   "execution_count": 65,
   "metadata": {},
   "outputs": [],
   "source": [
    "# Data Splitting\n",
    "full_data, train_data, test_data = train_test_split(utility_data,\n",
    "                                                   test_size=0.2,\n",
    "                                                   random_state=42)"
   ]
  },
  {
   "cell_type": "code",
   "execution_count": 66,
   "metadata": {},
   "outputs": [
    {
     "data": {
      "text/plain": [
       "(57076, 14269)"
      ]
     },
     "execution_count": 66,
     "metadata": {},
     "output_type": "execute_result"
    }
   ],
   "source": [
    "# Validasi split\n",
    "train_data.n_ratings, len(test_data)"
   ]
  },
  {
   "cell_type": "markdown",
   "metadata": {},
   "source": [
    "### Membuat Model"
   ]
  },
  {
   "cell_type": "markdown",
   "metadata": {},
   "source": [
    "### Experiment\n",
    "---"
   ]
  },
  {
   "cell_type": "markdown",
   "metadata": {},
   "source": [
    "We want to train all model candidate with its hyperparameter so that we can compare which model + settings yield good result"
   ]
  },
  {
   "cell_type": "markdown",
   "metadata": {},
   "source": [
    "\n",
    "<img src=\"https://drive.google.com/uc?id=1UzWBpL1ycd2eyKYC3gJzmdBKyE1Zbefy\">"
   ]
  },
  {
   "cell_type": "markdown",
   "metadata": {},
   "source": [
    "Since *Hyperparameter* Is not yielded through learning process, we have to find it / set it to yield optimal model performance"
   ]
  },
  {
   "cell_type": "markdown",
   "metadata": {},
   "source": [
    "Some methods  Hyperparameter Tuning :    \n",
    "\n",
    "- GridSearchCV\n",
    "\n",
    "  Fitting model through all combinations of hyperparameter values and compare each fit → which combinations yield the best objective\n",
    "\n",
    "- RandomizedSearchCV\n",
    "\n",
    "  Fitting Model only through sampled hyperparameter candidates. Much more efficient than GridSearchCV\n"
   ]
  },
  {
   "cell_type": "markdown",
   "metadata": {},
   "source": [
    "Hyperparameter Tuning require **Cross Validation** , making sure the during hyperparameter selection the performance measured is unbias"
   ]
  },
  {
   "cell_type": "markdown",
   "metadata": {},
   "source": [
    "<center>Cross Validation</center>\n",
    "<img src=\"https://drive.google.com/uc?id=1Sa1vKjku_pI6WZoYfKqX7lmNeYcpxZNz\" width=600>\n",
    "<center><a href=\"https://scikit-learn.org/stable/modules/cross_validation.html\">Source</a></center>\n"
   ]
  },
  {
   "cell_type": "markdown",
   "metadata": {},
   "source": [
    "**Hyperparameter** in best models\n",
    "to identify the hyperparameters in models, we need to read its documentation/ paper first,for **surprise** model the model documentation is [here](https://surprise.readthedocs.io/en/stable/knn_inspired.html#surprise.prediction_algorithms.knns.KNNBaseline)\n",
    "Hyperparameters :    \n",
    "\n",
    "- *k* (Number of Neigbors)\n",
    "- similarity function"
   ]
  },
  {
   "cell_type": "markdown",
   "metadata": {},
   "source": [
    "**Cross Validation** Method\n",
    "\n",
    "for this we will choose the **K-Fold** Cross Validation"
   ]
  },
  {
   "cell_type": "markdown",
   "metadata": {},
   "source": [
    "**Hyperparameter Method** : *RandomizedSearchCV*\n",
    "\n",
    "due to high computational cost if we use *GridSearchCV* we we will use *RandomizedSearchCV* ."
   ]
  },
  {
   "cell_type": "markdown",
   "metadata": {},
   "source": [
    "To run hyperparameter tuning, **surprise** package already have builtin function to run hyperparameter tuning"
   ]
  },
  {
   "cell_type": "markdown",
   "metadata": {},
   "source": [
    "**Model Candidate**\n",
    "\n",
    "1. Baseline Model ( Mean Prediction)  (does not have hyperparameter)\n",
    "2. User to User CF\n",
    "3. Item to Item CF"
   ]
  },
  {
   "cell_type": "code",
   "execution_count": 67,
   "metadata": {},
   "outputs": [],
   "source": [
    "from surprise.model_selection.search import RandomizedSearchCV"
   ]
  },
  {
   "cell_type": "code",
   "execution_count": 68,
   "metadata": {},
   "outputs": [],
   "source": [
    "# Load model dari library\n",
    "\n",
    "from surprise import AlgoBase, KNNBaseline"
   ]
  },
  {
   "cell_type": "markdown",
   "metadata": {},
   "source": [
    "Our Baseline Model just simply predict ratings using mean from all training data provided to model .\n",
    "\n",
    "Since `surprise` library does not provide mean prediction model , we have to create custom algorithm first.\n",
    "\n",
    "Guide `https://surprise.readthedocs.io/en/stable/building_custom_algo.html`"
   ]
  },
  {
   "cell_type": "code",
   "execution_count": 69,
   "metadata": {},
   "outputs": [],
   "source": [
    "class MeanPrediction(AlgoBase):\n",
    "    '''Prediksi baseline. Return global mean sebagai prediksi'''\n",
    "    def __init__(self):\n",
    "        AlgoBase.__init__(self)\n",
    "        \n",
    "    def fit(self, trainset):\n",
    "        '''Fit data train'''\n",
    "        AlgoBase.fit(self, trainset)\n",
    "        \n",
    "    def estimate(self, u, i):\n",
    "        '''Perform prediksi'''\n",
    "        est = self.trainset.global_mean\n",
    "        return est"
   ]
  },
  {
   "cell_type": "markdown",
   "metadata": {},
   "source": [
    "**Train Baseline Model**"
   ]
  },
  {
   "cell_type": "code",
   "execution_count": 70,
   "metadata": {},
   "outputs": [
    {
     "data": {
      "text/plain": [
       "<__main__.MeanPrediction at 0x293cf690cd0>"
      ]
     },
     "execution_count": 70,
     "metadata": {},
     "output_type": "execute_result"
    }
   ],
   "source": [
    "# Membuat model baseline\n",
    "model_baseline = MeanPrediction()\n",
    "model_baseline"
   ]
  },
  {
   "cell_type": "code",
   "execution_count": 71,
   "metadata": {},
   "outputs": [],
   "source": [
    "# Import CV module\n",
    "from surprise.model_selection import cross_validate"
   ]
  },
  {
   "cell_type": "markdown",
   "metadata": {},
   "source": [
    "To perform cross validate\n",
    "`cross_validate(algo, data, cv, measures)`\n",
    "\n",
    "1. `algo` = Surprise model\n",
    "2. `data` = Surprise format data\n",
    "3. `cv` = number of fold of cross validation\n",
    "4. `measures` = metric to measure model performance\n",
    "\n"
   ]
  },
  {
   "cell_type": "markdown",
   "metadata": {},
   "source": [
    "# Gunakan full_data ke cross validation"
   ]
  },
  {
   "cell_type": "code",
   "execution_count": 73,
   "metadata": {},
   "outputs": [],
   "source": [
    "# Use full_data for cross validation\n",
    "# Your results could be different because\n",
    "# there is no random seed stated within this functions\n",
    "cv_baseline = cross_validate(algo = model_baseline,\n",
    "                             data = full_data,\n",
    "                             cv = 5,\n",
    "                             measures = ['rmse'])"
   ]
  },
  {
   "cell_type": "code",
   "execution_count": 74,
   "metadata": {},
   "outputs": [
    {
     "data": {
      "text/plain": [
       "1.062800665832617"
      ]
     },
     "execution_count": 74,
     "metadata": {},
     "output_type": "execute_result"
    }
   ],
   "source": [
    "# Ekstrak hasil CV\n",
    "cv_baseline_rmse = cv_baseline['test_rmse'].mean()\n",
    "cv_baseline_rmse"
   ]
  },
  {
   "cell_type": "markdown",
   "metadata": {},
   "source": [
    "to perform RandomizedSearchCV, `RandomizedSearchCV(algo_class, param_distributions,cv)`\n",
    "\n",
    "- **algo_class** : surprise model class, in our case, we are using **KNNBaseline** class, so algo_class=KNNBaseline\n",
    "\n",
    "- **param_distributions** :  dictionary containing param grid, the values should be in `list`\n",
    "\n",
    "- **cv** : number of fold to split, commonly 5\n"
   ]
  },
  {
   "cell_type": "markdown",
   "metadata": {},
   "source": [
    "KNN model object cannot be allowed to be directly used as **algo_class** parameter, we also need to add previous model setting such as :    \n",
    "- sim_options to param grid"
   ]
  },
  {
   "cell_type": "markdown",
   "metadata": {},
   "source": [
    "**Hyperpamater Candidate**\n",
    "\n",
    "we have two hyperparameters\n",
    "- k\n",
    "- similarity functions\n",
    "- approach : user cf or item cf\n",
    "\n",
    "candidate values\n",
    "- k = [5,10,15,..,40]\n",
    "- similarity function = ['cosine','pearson_baseline']\n",
    "- user_based : [True, False]\n"
   ]
  },
  {
   "cell_type": "markdown",
   "metadata": {},
   "source": [
    "if user_based = True, User to User Collaborative Filtering\n",
    "\n",
    "if user_based = False, Item to Item Collaborative Filtering"
   ]
  },
  {
   "cell_type": "markdown",
   "metadata": {},
   "source": [
    "**Train KNN Model**"
   ]
  },
  {
   "cell_type": "code",
   "execution_count": 75,
   "metadata": {},
   "outputs": [],
   "source": [
    "# Buat parameter dictionary\n",
    "params = {'k':list(np.arange(start=5, stop=40, step=5)),\n",
    "         'sim_options':{'name':['cosine','pearson_baseline'],'user_based':[True, False]}}"
   ]
  },
  {
   "cell_type": "code",
   "execution_count": 76,
   "metadata": {},
   "outputs": [],
   "source": [
    "tuning = RandomizedSearchCV(algo_class=KNNBaseline, param_distributions = params,\n",
    "                            cv = 5)"
   ]
  },
  {
   "cell_type": "code",
   "execution_count": 77,
   "metadata": {},
   "outputs": [
    {
     "name": "stdout",
     "output_type": "stream",
     "text": [
      "Estimating biases using als...\n",
      "Computing the cosine similarity matrix...\n",
      "Done computing similarity matrix.\n",
      "Estimating biases using als...\n",
      "Computing the cosine similarity matrix...\n",
      "Done computing similarity matrix.\n",
      "Estimating biases using als...\n",
      "Computing the cosine similarity matrix...\n",
      "Done computing similarity matrix.\n",
      "Estimating biases using als...\n",
      "Computing the cosine similarity matrix...\n",
      "Done computing similarity matrix.\n",
      "Estimating biases using als...\n",
      "Computing the cosine similarity matrix...\n",
      "Done computing similarity matrix.\n",
      "Estimating biases using als...\n",
      "Computing the pearson_baseline similarity matrix...\n",
      "Done computing similarity matrix.\n",
      "Estimating biases using als...\n",
      "Computing the pearson_baseline similarity matrix...\n",
      "Done computing similarity matrix.\n",
      "Estimating biases using als...\n",
      "Computing the pearson_baseline similarity matrix...\n",
      "Done computing similarity matrix.\n",
      "Estimating biases using als...\n",
      "Computing the pearson_baseline similarity matrix...\n",
      "Done computing similarity matrix.\n",
      "Estimating biases using als...\n",
      "Computing the pearson_baseline similarity matrix...\n",
      "Done computing similarity matrix.\n",
      "Estimating biases using als...\n",
      "Computing the pearson_baseline similarity matrix...\n",
      "Done computing similarity matrix.\n",
      "Estimating biases using als...\n",
      "Computing the pearson_baseline similarity matrix...\n",
      "Done computing similarity matrix.\n",
      "Estimating biases using als...\n",
      "Computing the pearson_baseline similarity matrix...\n",
      "Done computing similarity matrix.\n",
      "Estimating biases using als...\n",
      "Computing the pearson_baseline similarity matrix...\n",
      "Done computing similarity matrix.\n",
      "Estimating biases using als...\n",
      "Computing the pearson_baseline similarity matrix...\n",
      "Done computing similarity matrix.\n",
      "Estimating biases using als...\n",
      "Computing the pearson_baseline similarity matrix...\n",
      "Done computing similarity matrix.\n",
      "Estimating biases using als...\n",
      "Computing the pearson_baseline similarity matrix...\n",
      "Done computing similarity matrix.\n",
      "Estimating biases using als...\n",
      "Computing the pearson_baseline similarity matrix...\n",
      "Done computing similarity matrix.\n",
      "Estimating biases using als...\n",
      "Computing the pearson_baseline similarity matrix...\n",
      "Done computing similarity matrix.\n",
      "Estimating biases using als...\n",
      "Computing the pearson_baseline similarity matrix...\n",
      "Done computing similarity matrix.\n",
      "Estimating biases using als...\n",
      "Computing the pearson_baseline similarity matrix...\n",
      "Done computing similarity matrix.\n",
      "Estimating biases using als...\n",
      "Computing the pearson_baseline similarity matrix...\n",
      "Done computing similarity matrix.\n",
      "Estimating biases using als...\n",
      "Computing the pearson_baseline similarity matrix...\n",
      "Done computing similarity matrix.\n",
      "Estimating biases using als...\n",
      "Computing the pearson_baseline similarity matrix...\n",
      "Done computing similarity matrix.\n",
      "Estimating biases using als...\n",
      "Computing the pearson_baseline similarity matrix...\n",
      "Done computing similarity matrix.\n",
      "Estimating biases using als...\n",
      "Computing the pearson_baseline similarity matrix...\n",
      "Done computing similarity matrix.\n",
      "Estimating biases using als...\n",
      "Computing the pearson_baseline similarity matrix...\n",
      "Done computing similarity matrix.\n",
      "Estimating biases using als...\n",
      "Computing the pearson_baseline similarity matrix...\n",
      "Done computing similarity matrix.\n",
      "Estimating biases using als...\n",
      "Computing the pearson_baseline similarity matrix...\n",
      "Done computing similarity matrix.\n",
      "Estimating biases using als...\n",
      "Computing the pearson_baseline similarity matrix...\n",
      "Done computing similarity matrix.\n",
      "Estimating biases using als...\n",
      "Computing the cosine similarity matrix...\n",
      "Done computing similarity matrix.\n",
      "Estimating biases using als...\n",
      "Computing the cosine similarity matrix...\n",
      "Done computing similarity matrix.\n",
      "Estimating biases using als...\n",
      "Computing the cosine similarity matrix...\n",
      "Done computing similarity matrix.\n",
      "Estimating biases using als...\n",
      "Computing the cosine similarity matrix...\n",
      "Done computing similarity matrix.\n",
      "Estimating biases using als...\n",
      "Computing the cosine similarity matrix...\n",
      "Done computing similarity matrix.\n",
      "Estimating biases using als...\n",
      "Computing the cosine similarity matrix...\n",
      "Done computing similarity matrix.\n",
      "Estimating biases using als...\n",
      "Computing the cosine similarity matrix...\n",
      "Done computing similarity matrix.\n",
      "Estimating biases using als...\n",
      "Computing the cosine similarity matrix...\n",
      "Done computing similarity matrix.\n",
      "Estimating biases using als...\n",
      "Computing the cosine similarity matrix...\n",
      "Done computing similarity matrix.\n",
      "Estimating biases using als...\n",
      "Computing the cosine similarity matrix...\n",
      "Done computing similarity matrix.\n",
      "Estimating biases using als...\n",
      "Computing the cosine similarity matrix...\n",
      "Done computing similarity matrix.\n",
      "Estimating biases using als...\n",
      "Computing the cosine similarity matrix...\n",
      "Done computing similarity matrix.\n",
      "Estimating biases using als...\n",
      "Computing the cosine similarity matrix...\n",
      "Done computing similarity matrix.\n",
      "Estimating biases using als...\n",
      "Computing the cosine similarity matrix...\n",
      "Done computing similarity matrix.\n",
      "Estimating biases using als...\n",
      "Computing the cosine similarity matrix...\n",
      "Done computing similarity matrix.\n",
      "Estimating biases using als...\n",
      "Computing the cosine similarity matrix...\n",
      "Done computing similarity matrix.\n",
      "Estimating biases using als...\n",
      "Computing the cosine similarity matrix...\n",
      "Done computing similarity matrix.\n",
      "Estimating biases using als...\n",
      "Computing the cosine similarity matrix...\n",
      "Done computing similarity matrix.\n",
      "Estimating biases using als...\n",
      "Computing the cosine similarity matrix...\n",
      "Done computing similarity matrix.\n",
      "Estimating biases using als...\n",
      "Computing the cosine similarity matrix...\n",
      "Done computing similarity matrix.\n"
     ]
    }
   ],
   "source": [
    "tuning.fit(data=full_data)"
   ]
  },
  {
   "cell_type": "markdown",
   "metadata": {},
   "source": [
    "#### Komparasi Perfoma"
   ]
  },
  {
   "cell_type": "code",
   "execution_count": 78,
   "metadata": {},
   "outputs": [
    {
     "data": {
      "text/html": [
       "<div>\n",
       "<style scoped>\n",
       "    .dataframe tbody tr th:only-of-type {\n",
       "        vertical-align: middle;\n",
       "    }\n",
       "\n",
       "    .dataframe tbody tr th {\n",
       "        vertical-align: top;\n",
       "    }\n",
       "\n",
       "    .dataframe thead th {\n",
       "        text-align: right;\n",
       "    }\n",
       "</style>\n",
       "<table border=\"1\" class=\"dataframe\">\n",
       "  <thead>\n",
       "    <tr style=\"text-align: right;\">\n",
       "      <th></th>\n",
       "      <th>Model</th>\n",
       "      <th>CV Performance - RSME</th>\n",
       "      <th>Model Configuration</th>\n",
       "    </tr>\n",
       "  </thead>\n",
       "  <tbody>\n",
       "    <tr>\n",
       "      <th>0</th>\n",
       "      <td>Baseline</td>\n",
       "      <td>1.062801</td>\n",
       "      <td>N/A</td>\n",
       "    </tr>\n",
       "    <tr>\n",
       "      <th>1</th>\n",
       "      <td>Neighborhood Collaborative Filtering</td>\n",
       "      <td>0.897237</td>\n",
       "      <td>{'k': 20, 'sim_options': {'name': 'pearson_bas...</td>\n",
       "    </tr>\n",
       "  </tbody>\n",
       "</table>\n",
       "</div>"
      ],
      "text/plain": [
       "                                  Model  CV Performance - RSME  \\\n",
       "0                              Baseline               1.062801   \n",
       "1  Neighborhood Collaborative Filtering               0.897237   \n",
       "\n",
       "                                 Model Configuration  \n",
       "0                                                N/A  \n",
       "1  {'k': 20, 'sim_options': {'name': 'pearson_bas...  "
      ]
     },
     "execution_count": 78,
     "metadata": {},
     "output_type": "execute_result"
    }
   ],
   "source": [
    "summary_df = pd.DataFrame({'Model':['Baseline', 'Neighborhood Collaborative Filtering'],\n",
    "                          'CV Performance - RSME': [cv_baseline_rmse, tuning.best_score['rmse'] ],\n",
    "                          'Model Configuration': ['N/A', f'{tuning.best_params[\"rmse\"]}']})\n",
    "summary_df"
   ]
  },
  {
   "cell_type": "markdown",
   "metadata": {},
   "source": [
    "**Kombinasi Hyperparameter Terbaik**"
   ]
  },
  {
   "cell_type": "markdown",
   "metadata": {},
   "source": [
    "Our best params :     \n",
    "- k = 20\n",
    "- similarity function : pearson_baseline\n",
    "- user_based : True"
   ]
  },
  {
   "cell_type": "code",
   "execution_count": 79,
   "metadata": {},
   "outputs": [],
   "source": [
    "best_params = tuning.best_params['rmse']"
   ]
  },
  {
   "cell_type": "code",
   "execution_count": 80,
   "metadata": {},
   "outputs": [
    {
     "name": "stdout",
     "output_type": "stream",
     "text": [
      "Estimating biases using als...\n",
      "Computing the pearson_baseline similarity matrix...\n",
      "Done computing similarity matrix.\n"
     ]
    },
    {
     "data": {
      "text/plain": [
       "<surprise.prediction_algorithms.knns.KNNBaseline at 0x293cf413550>"
      ]
     },
     "execution_count": 80,
     "metadata": {},
     "output_type": "execute_result"
    }
   ],
   "source": [
    "# Buat obyek\n",
    "model_best = KNNBaseline(**best_params)\n",
    "\n",
    "# Training ulang seluruh dataset\n",
    "model_best.fit(train_data)"
   ]
  },
  {
   "cell_type": "markdown",
   "metadata": {},
   "source": [
    "**Evaluasi Model Terbaik**"
   ]
  },
  {
   "cell_type": "code",
   "execution_count": 81,
   "metadata": {},
   "outputs": [],
   "source": [
    "# Import library\n",
    "from surprise import accuracy"
   ]
  },
  {
   "cell_type": "code",
   "execution_count": 82,
   "metadata": {},
   "outputs": [
    {
     "name": "stdout",
     "output_type": "stream",
     "text": [
      "RMSE: 0.8776\n"
     ]
    },
    {
     "data": {
      "text/plain": [
       "0.877587256797438"
      ]
     },
     "execution_count": 82,
     "metadata": {},
     "output_type": "execute_result"
    }
   ],
   "source": [
    "test_pred = model_best.test(test_data)\n",
    "test_rmse = accuracy.rmse(test_pred)\n",
    "test_rmse"
   ]
  },
  {
   "cell_type": "code",
   "execution_count": 83,
   "metadata": {},
   "outputs": [
    {
     "data": {
      "text/html": [
       "<div>\n",
       "<style scoped>\n",
       "    .dataframe tbody tr th:only-of-type {\n",
       "        vertical-align: middle;\n",
       "    }\n",
       "\n",
       "    .dataframe tbody tr th {\n",
       "        vertical-align: top;\n",
       "    }\n",
       "\n",
       "    .dataframe thead th {\n",
       "        text-align: right;\n",
       "    }\n",
       "</style>\n",
       "<table border=\"1\" class=\"dataframe\">\n",
       "  <thead>\n",
       "    <tr style=\"text-align: right;\">\n",
       "      <th></th>\n",
       "      <th>Model</th>\n",
       "      <th>RMSE-Tuning</th>\n",
       "      <th>RMSE-Test</th>\n",
       "    </tr>\n",
       "  </thead>\n",
       "  <tbody>\n",
       "    <tr>\n",
       "      <th>0</th>\n",
       "      <td>User to User CF</td>\n",
       "      <td>0.897237</td>\n",
       "      <td>0.877587</td>\n",
       "    </tr>\n",
       "  </tbody>\n",
       "</table>\n",
       "</div>"
      ],
      "text/plain": [
       "             Model  RMSE-Tuning  RMSE-Test\n",
       "0  User to User CF     0.897237   0.877587"
      ]
     },
     "execution_count": 83,
     "metadata": {},
     "output_type": "execute_result"
    }
   ],
   "source": [
    "summary_test_df = pd.DataFrame({'Model' : ['User to User CF'],\n",
    "                                'RMSE-Tuning' : [tuning.best_score['rmse']],\n",
    "                                'RMSE-Test' : [test_rmse]})\n",
    "\n",
    "summary_test_df"
   ]
  },
  {
   "cell_type": "markdown",
   "metadata": {},
   "source": [
    "## Prediksi Rekomendasi"
   ]
  },
  {
   "cell_type": "markdown",
   "metadata": {},
   "source": [
    "Decision Process is to recommend items to user\n",
    "from our trained model\n",
    "\n",
    "<image src=\"https://www.mdpi.com/applsci/applsci-10-05510/article_deploy/html/images/applsci-10-05510-g001.png\" image>\n",
    "\n",
    "\n",
    "\n",
    "\n",
    "1. User to User Collaborative Filtering\n",
    "\n",
    "  We already trained our best model on full dataset, now its time to utilize our model to generate recommendation.\n",
    "\n"
   ]
  },
  {
   "cell_type": "markdown",
   "metadata": {},
   "source": [
    "How do we generate recommendation ?\n",
    "\n",
    "\n",
    "To generate recommendation :\n",
    "- predict all movies or only unseen movies rating from given users\n",
    "- followed by ordering the movies by its predicted rat"
   ]
  },
  {
   "cell_type": "markdown",
   "metadata": {},
   "source": [
    "## Prediksi dengan Best Model : User to User Collaborative Filtering"
   ]
  },
  {
   "cell_type": "code",
   "execution_count": 84,
   "metadata": {},
   "outputs": [],
   "source": [
    "# Rekomendasi berdasarkan Best Model\n",
    "sample_pred = model_best.predict(uid = 1,\n",
    "                                 iid = 1)"
   ]
  },
  {
   "cell_type": "code",
   "execution_count": 85,
   "metadata": {},
   "outputs": [
    {
     "data": {
      "text/plain": [
       "Prediction(uid=1, iid=1, r_ui=None, est=3.889704960486604, details={'was_impossible': False})"
      ]
     },
     "execution_count": 85,
     "metadata": {},
     "output_type": "execute_result"
    }
   ],
   "source": [
    "sample_pred"
   ]
  },
  {
   "cell_type": "markdown",
   "metadata": {},
   "source": [
    "## Prediksi seluruh unseen and unrated movie oleh uid 1"
   ]
  },
  {
   "cell_type": "code",
   "execution_count": 86,
   "metadata": {},
   "outputs": [
    {
     "name": "stdout",
     "output_type": "stream",
     "text": [
      "{2051, 2053, 7, 2058, 16, 17, 2064, 2065, 19, 21, 24, 2076, 2080, 2081, 3263, 2085, 39, 2087, 2089, 42, 2090, 44, 2093, 45, 2088, 48, 2096, 50, 52, 2100, 58, 2108, 2109, 62, 2115, 2116, 71, 2120, 2121, 2122, 2123, 79, 81, 88, 89, 2141, 95, 2143, 2144, 2148, 2151, 110, 111, 2160, 2163, 2174, 2176, 135, 2193, 2194, 150, 153, 158, 160, 161, 162, 164, 173, 175, 183, 185, 2245, 2248, 2253, 207, 2261, 214, 216, 2268, 227, 229, 2278, 231, 232, 236, 2291, 253, 260, 261, 262, 2311, 267, 2316, 2320, 276, 280, 281, 2330, 2331, 2333, 2335, 2336, 2340, 292, 293, 296, 2349, 2352, 2354, 2355, 306, 308, 2359, 2362, 317, 318, 2366, 2369, 329, 2378, 332, 333, 2387, 342, 2391, 2393, 2396, 348, 2399, 353, 355, 356, 2404, 2406, 2407, 2410, 362, 2414, 367, 368, 2420, 2421, 374, 2423, 380, 2428, 381, 383, 2431, 2432, 2442, 2443, 2447, 2450, 2453, 405, 2458, 420, 2470, 425, 2474, 2476, 2478, 430, 434, 435, 440, 2490, 2499, 2502, 457, 2505, 2513, 466, 2514, 468, 469, 2524, 2527, 480, 2529, 481, 2531, 483, 2533, 485, 486, 2539, 492, 494, 497, 500, 2548, 502, 2551, 508, 2558, 520, 2568, 2571, 524, 2572, 527, 532, 538, 539, 541, 543, 2599, 551, 2600, 553, 555, 558, 2609, 565, 2616, 2617, 2628, 585, 588, 589, 590, 2640, 593, 594, 592, 2641, 597, 599, 605, 2654, 608, 2657, 610, 616, 2668, 2670, 637, 2686, 2692, 2693, 2694, 648, 2699, 2700, 2704, 2706, 2707, 661, 2712, 2714, 2716, 2718, 673, 2722, 2726, 2729, 2732, 2734, 2739, 2747, 700, 708, 2757, 2761, 2762, 2763, 720, 2770, 724, 2780, 733, 736, 2788, 2789, 2795, 2797, 750, 2801, 2804, 2805, 761, 2819, 778, 2826, 2829, 781, 785, 793, 799, 800, 2852, 2858, 810, 2871, 2877, 2882, 2891, 2900, 858, 2908, 2916, 2918, 2919, 2921, 2922, 2929, 2932, 2947, 2948, 2949, 902, 2951, 904, 2950, 901, 906, 908, 907, 910, 2959, 912, 913, 914, 909, 916, 2966, 919, 920, 2967, 2968, 923, 922, 921, 928, 930, 936, 2985, 2987, 2989, 942, 2990, 944, 945, 2992, 948, 2997, 3000, 953, 3002, 3006, 968, 969, 3019, 3020, 3034, 3039, 996, 998, 999, 1003, 3052, 1009, 1011, 1013, 1014, 1015, 1019, 3068, 1021, 1022, 1023, 3072, 3069, 1027, 1028, 1031, 1032, 1033, 3082, 1035, 1036, 3087, 1041, 3091, 3098, 1050, 3105, 3108, 1064, 1073, 1077, 1079, 1080, 3129, 1089, 1090, 1094, 3144, 1097, 3147, 1100, 1101, 1104, 3155, 3157, 3160, 1120, 3173, 3174, 1127, 3175, 3177, 3179, 1132, 1136, 3186, 3189, 3190, 1147, 1148, 3203, 3208, 1171, 3219, 3225, 1183, 1189, 1190, 1191, 1193, 1196, 1197, 1198, 3246, 1200, 3247, 1199, 3251, 3253, 1207, 1210, 1213, 1214, 1215, 3264, 1217, 3266, 3261, 3268, 1221, 3269, 1223, 1222, 1218, 3274, 1224, 3272, 1230, 1231, 1233, 1240, 1244, 1246, 1247, 1249, 1250, 3298, 1252, 1256, 1257, 1258, 3306, 1260, 3309, 1265, 1266, 1267, 1269, 1270, 1271, 1272, 1276, 1277, 1278, 3324, 1282, 1283, 1286, 1287, 1288, 1289, 1291, 1292, 1293, 1301, 1302, 3351, 1304, 1305, 3354, 1307, 3359, 3360, 3361, 3362, 3365, 1320, 1321, 1333, 3384, 3386, 1339, 3388, 1343, 3396, 3397, 1351, 1353, 1354, 1355, 1356, 3401, 1358, 3408, 3409, 3412, 1365, 3418, 1372, 3421, 1374, 1375, 1376, 3422, 1379, 1380, 3431, 1385, 1391, 1394, 3448, 3450, 3451, 1408, 3461, 3471, 1425, 3473, 3481, 3483, 3489, 3498, 3500, 3504, 3505, 3506, 1457, 1459, 3510, 3512, 3513, 1476, 3527, 1483, 3535, 3536, 3538, 3543, 3545, 3548, 3549, 3555, 1515, 3564, 1517, 1527, 3581, 1537, 3590, 3591, 1544, 1552, 1554, 1556, 3615, 3618, 1573, 3623, 3624, 1580, 1584, 3633, 1587, 3635, 1589, 1588, 1593, 1597, 3646, 1603, 1608, 1610, 3661, 1614, 3662, 3671, 1627, 1633, 3688, 1641, 1642, 3699, 3700, 3702, 3703, 3704, 3706, 3708, 3717, 1672, 1674, 3723, 1676, 1682, 1683, 1687, 1689, 1693, 3742, 3744, 3745, 1704, 3753, 3752, 3758, 1711, 1713, 3763, 3764, 1719, 1721, 1722, 1729, 1732, 3791, 3793, 3798, 1753, 3809, 3811, 3816, 1772, 3827, 1783, 3839, 1792, 1799, 3852, 1805, 3869, 1821, 1836, 3889, 1845, 3897, 1873, 3927, 1882, 1883, 3932, 1885, 3930, 1888, 1893, 1904, 1907, 1912, 1913, 1916, 1917, 1920, 1921, 1923, 1931, 1939, 1947, 1949, 1951, 1952, 1954, 1956, 1958, 1959, 1968, 1969, 1970, 1971, 1972, 1975, 1976, 1979, 1982, 1994, 2000, 2001, 2004, 2010, 2012, 2013, 2016, 2021, 2027, 2028}\n"
     ]
    }
   ],
   "source": [
    "# Gunakan MovieIDs unik\n",
    "unique_movie_id = set(df_ratings['MovieIDs'])\n",
    "print(unique_movie_id)"
   ]
  },
  {
   "cell_type": "code",
   "execution_count": 87,
   "metadata": {},
   "outputs": [
    {
     "name": "stdout",
     "output_type": "stream",
     "text": [
      "{2692, 260, 1028, 1287, 1035, 527, 914, 661, 150, 919, 3105, 2340, 1193, 1836, 1197, 48, 2355, 1207, 1721, 1097, 2762, 588, 3408, 720, 594, 1246, 608, 2918, 2028, 2797, 3186, 1907, 2804, 1270, 1022}\n"
     ]
    }
   ],
   "source": [
    "# MovieIDs yang telah di rate oleh UserID 1\n",
    "rated_movie_id = set(df_ratings.loc[df_ratings['UserID']==1, 'MovieIDs'])\n",
    "print(rated_movie_id)"
   ]
  },
  {
   "cell_type": "code",
   "execution_count": 88,
   "metadata": {},
   "outputs": [
    {
     "name": "stdout",
     "output_type": "stream",
     "text": [
      "{2051, 2053, 7, 2058, 16, 17, 2064, 2065, 19, 21, 24, 2076, 2080, 2081, 3263, 2085, 39, 2087, 2089, 42, 2090, 44, 2093, 45, 2088, 2096, 50, 52, 2100, 58, 2108, 2109, 62, 2115, 2116, 71, 2120, 2121, 2122, 2123, 79, 81, 88, 89, 2141, 95, 2143, 2144, 2148, 2151, 110, 111, 2160, 2163, 2174, 2176, 135, 2193, 2194, 153, 158, 160, 161, 162, 164, 173, 175, 183, 185, 2245, 2248, 2253, 207, 2261, 214, 216, 2268, 227, 229, 2278, 231, 232, 236, 2291, 253, 261, 262, 2311, 267, 2316, 2320, 276, 280, 281, 2330, 2331, 2333, 2335, 2336, 292, 293, 296, 2349, 2352, 2354, 306, 308, 2359, 2362, 317, 318, 2366, 2369, 329, 2378, 332, 333, 2387, 342, 2391, 2393, 2396, 348, 2399, 353, 355, 356, 2404, 2406, 2407, 2410, 362, 2414, 367, 368, 2420, 2421, 374, 2423, 380, 2428, 381, 383, 2431, 2432, 2442, 2443, 2447, 2450, 2453, 405, 2458, 420, 2470, 425, 2474, 2476, 2478, 430, 434, 435, 440, 2490, 2499, 2502, 457, 2505, 2513, 466, 2514, 468, 469, 2524, 2527, 480, 2529, 481, 2531, 483, 2533, 485, 486, 2539, 492, 494, 497, 500, 2548, 502, 2551, 508, 2558, 520, 2568, 2571, 524, 2572, 532, 538, 539, 541, 543, 2599, 551, 2600, 553, 555, 558, 2609, 565, 2616, 2617, 2628, 585, 589, 590, 2640, 593, 592, 2641, 597, 599, 605, 2654, 2657, 610, 616, 2668, 2670, 637, 2686, 2693, 2694, 648, 2699, 2700, 2704, 2706, 2707, 2712, 2714, 2716, 2718, 673, 2722, 2726, 2729, 2732, 2734, 2739, 2747, 700, 708, 2757, 2761, 2763, 2770, 724, 2780, 733, 736, 2788, 2789, 2795, 750, 2801, 2805, 761, 2819, 778, 2826, 2829, 781, 785, 793, 799, 800, 2852, 2858, 810, 2871, 2877, 2882, 2891, 2900, 858, 2908, 2916, 2919, 2921, 2922, 2929, 2932, 2947, 2948, 2949, 902, 2951, 904, 2950, 901, 906, 908, 907, 910, 2959, 912, 913, 909, 916, 2966, 920, 2967, 2968, 923, 922, 921, 928, 930, 936, 2985, 2987, 2989, 942, 2990, 944, 945, 2992, 948, 2997, 3000, 953, 3002, 3006, 968, 969, 3019, 3020, 3034, 3039, 996, 998, 999, 1003, 3052, 1009, 1011, 1013, 1014, 1015, 1019, 3068, 1021, 1023, 3072, 3069, 1027, 1031, 1032, 1033, 3082, 1036, 3087, 1041, 3091, 3098, 1050, 3108, 1064, 1073, 1077, 1079, 1080, 3129, 1089, 1090, 1094, 3144, 3147, 1100, 1101, 1104, 3155, 3157, 3160, 1120, 3173, 3174, 1127, 3175, 3177, 3179, 1132, 1136, 3189, 3190, 1147, 1148, 3203, 3208, 1171, 3219, 3225, 1183, 1189, 1190, 1191, 1196, 1198, 3246, 1200, 3247, 1199, 3251, 3253, 1210, 1213, 1214, 1215, 3264, 1217, 3266, 3261, 3268, 1221, 3269, 1223, 1222, 1218, 3274, 1224, 3272, 1230, 1231, 1233, 1240, 1244, 1247, 1249, 1250, 3298, 1252, 1256, 1257, 1258, 3306, 1260, 3309, 1265, 1266, 1267, 1269, 1271, 1272, 1276, 1277, 1278, 3324, 1282, 1283, 1286, 1288, 1289, 1291, 1292, 1293, 1301, 1302, 3351, 1304, 1305, 3354, 1307, 3359, 3360, 3361, 3362, 3365, 1320, 1321, 1333, 3384, 3386, 1339, 3388, 1343, 3396, 3397, 1351, 1353, 1354, 1355, 1356, 3401, 1358, 3409, 3412, 1365, 3418, 1372, 3421, 1374, 1375, 1376, 3422, 1379, 1380, 3431, 1385, 1391, 1394, 3448, 3450, 3451, 1408, 3461, 3471, 1425, 3473, 3481, 3483, 3489, 3498, 3500, 3504, 3505, 3506, 1457, 1459, 3510, 3512, 3513, 1476, 3527, 1483, 3535, 3536, 3538, 3543, 3545, 3548, 3549, 3555, 1515, 3564, 1517, 1527, 3581, 1537, 3590, 3591, 1544, 1552, 1554, 1556, 3615, 3618, 1573, 3623, 3624, 1580, 1584, 3633, 1587, 3635, 1589, 1588, 1593, 1597, 3646, 1603, 1608, 1610, 3661, 1614, 3662, 3671, 1627, 1633, 3688, 1641, 1642, 3699, 3700, 3702, 3703, 3704, 3706, 3708, 3717, 1672, 1674, 3723, 1676, 1682, 1683, 1687, 1689, 1693, 3742, 3744, 3745, 1704, 3753, 3752, 3758, 1711, 1713, 3763, 3764, 1719, 1722, 1729, 1732, 3791, 3793, 3798, 1753, 3809, 3811, 3816, 1772, 3827, 1783, 3839, 1792, 1799, 3852, 1805, 3869, 1821, 3889, 1845, 3897, 1873, 3927, 1882, 1883, 3932, 1885, 3930, 1888, 1893, 1904, 1912, 1913, 1916, 1917, 1920, 1921, 1923, 1931, 1939, 1947, 1949, 1951, 1952, 1954, 1956, 1958, 1959, 1968, 1969, 1970, 1971, 1972, 1975, 1976, 1979, 1982, 1994, 2000, 2001, 2004, 2010, 2012, 2013, 2016, 2021, 2027}\n"
     ]
    }
   ],
   "source": [
    "# Dapatkan unrated MovieIDs\n",
    "unrated_movie_id = unique_movie_id.difference(rated_movie_id)\n",
    "print(unrated_movie_id)"
   ]
  },
  {
   "cell_type": "code",
   "execution_count": 89,
   "metadata": {},
   "outputs": [],
   "source": [
    "# Buat fungsi unrated item\n",
    "def get_unrated_item(userid, rating_data):\n",
    "    \"\"\"\n",
    "    Fungsi untuk mendapatkan unrated item id dari user id\n",
    "    \n",
    "    Parameters\n",
    "    ----------\n",
    "    userid : int\n",
    "        User ID\n",
    "        \n",
    "    rating_data : pandas DataFrame\n",
    "        Rating data\n",
    "    \n",
    "    Returns\n",
    "    -------\n",
    "    unrated_item_id : set\n",
    "        Unrated item id\n",
    "    \"\"\"\n",
    "    # Dapatkan seluruh item id\n",
    "    unique_item_id = set(rating_data['MovieIDs'])\n",
    "    \n",
    "    # Cari item id yang sudah dirating oleh user id\n",
    "    rated_item_id = set(rating_data.loc[rating_data['UserID']==userid, 'MovieIDs'])\n",
    "    \n",
    "    # Cari unrated item id\n",
    "    unrated_item_id = unique_item_id.difference(rated_item_id)\n",
    "    \n",
    "    return unrated_item_id"
   ]
  },
  {
   "cell_type": "code",
   "execution_count": 90,
   "metadata": {},
   "outputs": [
    {
     "name": "stdout",
     "output_type": "stream",
     "text": [
      "{2051, 2053, 7, 2058, 16, 17, 2064, 2065, 19, 21, 24, 2076, 2080, 2081, 3263, 2085, 39, 2087, 2089, 42, 2090, 44, 2093, 45, 2088, 2096, 50, 52, 2100, 58, 2108, 2109, 62, 2115, 2116, 71, 2120, 2121, 2122, 2123, 79, 81, 88, 89, 2141, 95, 2143, 2144, 2148, 2151, 110, 111, 2160, 2163, 2174, 2176, 135, 2193, 2194, 153, 158, 160, 161, 162, 164, 173, 175, 183, 185, 2245, 2248, 2253, 207, 2261, 214, 216, 2268, 227, 229, 2278, 231, 232, 236, 2291, 253, 261, 262, 2311, 267, 2316, 2320, 276, 280, 281, 2330, 2331, 2333, 2335, 2336, 292, 293, 296, 2349, 2352, 2354, 306, 308, 2359, 2362, 317, 318, 2366, 2369, 329, 2378, 332, 333, 2387, 342, 2391, 2393, 2396, 348, 2399, 353, 355, 356, 2404, 2406, 2407, 2410, 362, 2414, 367, 368, 2420, 2421, 374, 2423, 380, 2428, 381, 383, 2431, 2432, 2442, 2443, 2447, 2450, 2453, 405, 2458, 420, 2470, 425, 2474, 2476, 2478, 430, 434, 435, 440, 2490, 2499, 2502, 457, 2505, 2513, 466, 2514, 468, 469, 2524, 2527, 480, 2529, 481, 2531, 483, 2533, 485, 486, 2539, 492, 494, 497, 500, 2548, 502, 2551, 508, 2558, 520, 2568, 2571, 524, 2572, 532, 538, 539, 541, 543, 2599, 551, 2600, 553, 555, 558, 2609, 565, 2616, 2617, 2628, 585, 589, 590, 2640, 593, 592, 2641, 597, 599, 605, 2654, 2657, 610, 616, 2668, 2670, 637, 2686, 2693, 2694, 648, 2699, 2700, 2704, 2706, 2707, 2712, 2714, 2716, 2718, 673, 2722, 2726, 2729, 2732, 2734, 2739, 2747, 700, 708, 2757, 2761, 2763, 2770, 724, 2780, 733, 736, 2788, 2789, 2795, 750, 2801, 2805, 761, 2819, 778, 2826, 2829, 781, 785, 793, 799, 800, 2852, 2858, 810, 2871, 2877, 2882, 2891, 2900, 858, 2908, 2916, 2919, 2921, 2922, 2929, 2932, 2947, 2948, 2949, 902, 2951, 904, 2950, 901, 906, 908, 907, 910, 2959, 912, 913, 909, 916, 2966, 920, 2967, 2968, 923, 922, 921, 928, 930, 936, 2985, 2987, 2989, 942, 2990, 944, 945, 2992, 948, 2997, 3000, 953, 3002, 3006, 968, 969, 3019, 3020, 3034, 3039, 996, 998, 999, 1003, 3052, 1009, 1011, 1013, 1014, 1015, 1019, 3068, 1021, 1023, 3072, 3069, 1027, 1031, 1032, 1033, 3082, 1036, 3087, 1041, 3091, 3098, 1050, 3108, 1064, 1073, 1077, 1079, 1080, 3129, 1089, 1090, 1094, 3144, 3147, 1100, 1101, 1104, 3155, 3157, 3160, 1120, 3173, 3174, 1127, 3175, 3177, 3179, 1132, 1136, 3189, 3190, 1147, 1148, 3203, 3208, 1171, 3219, 3225, 1183, 1189, 1190, 1191, 1196, 1198, 3246, 1200, 3247, 1199, 3251, 3253, 1210, 1213, 1214, 1215, 3264, 1217, 3266, 3261, 3268, 1221, 3269, 1223, 1222, 1218, 3274, 1224, 3272, 1230, 1231, 1233, 1240, 1244, 1247, 1249, 1250, 3298, 1252, 1256, 1257, 1258, 3306, 1260, 3309, 1265, 1266, 1267, 1269, 1271, 1272, 1276, 1277, 1278, 3324, 1282, 1283, 1286, 1288, 1289, 1291, 1292, 1293, 1301, 1302, 3351, 1304, 1305, 3354, 1307, 3359, 3360, 3361, 3362, 3365, 1320, 1321, 1333, 3384, 3386, 1339, 3388, 1343, 3396, 3397, 1351, 1353, 1354, 1355, 1356, 3401, 1358, 3409, 3412, 1365, 3418, 1372, 3421, 1374, 1375, 1376, 3422, 1379, 1380, 3431, 1385, 1391, 1394, 3448, 3450, 3451, 1408, 3461, 3471, 1425, 3473, 3481, 3483, 3489, 3498, 3500, 3504, 3505, 3506, 1457, 1459, 3510, 3512, 3513, 1476, 3527, 1483, 3535, 3536, 3538, 3543, 3545, 3548, 3549, 3555, 1515, 3564, 1517, 1527, 3581, 1537, 3590, 3591, 1544, 1552, 1554, 1556, 3615, 3618, 1573, 3623, 3624, 1580, 1584, 3633, 1587, 3635, 1589, 1588, 1593, 1597, 3646, 1603, 1608, 1610, 3661, 1614, 3662, 3671, 1627, 1633, 3688, 1641, 1642, 3699, 3700, 3702, 3703, 3704, 3706, 3708, 3717, 1672, 1674, 3723, 1676, 1682, 1683, 1687, 1689, 1693, 3742, 3744, 3745, 1704, 3753, 3752, 3758, 1711, 1713, 3763, 3764, 1719, 1722, 1729, 1732, 3791, 3793, 3798, 1753, 3809, 3811, 3816, 1772, 3827, 1783, 3839, 1792, 1799, 3852, 1805, 3869, 1821, 3889, 1845, 3897, 1873, 3927, 1882, 1883, 3932, 1885, 3930, 1888, 1893, 1904, 1912, 1913, 1916, 1917, 1920, 1921, 1923, 1931, 1939, 1947, 1949, 1951, 1952, 1954, 1956, 1958, 1959, 1968, 1969, 1970, 1971, 1972, 1975, 1976, 1979, 1982, 1994, 2000, 2001, 2004, 2010, 2012, 2013, 2016, 2021, 2027}\n"
     ]
    }
   ],
   "source": [
    "unrated_movie_id = get_unrated_item(userid=1, rating_data=df_ratings)\n",
    "print(unrated_movie_id)"
   ]
  },
  {
   "cell_type": "code",
   "execution_count": 91,
   "metadata": {},
   "outputs": [
    {
     "data": {
      "text/plain": [
       "{'UserID': 1, 'MovieIDs': [], 'Pred_Rating': []}"
      ]
     },
     "execution_count": 91,
     "metadata": {},
     "output_type": "execute_result"
    }
   ],
   "source": [
    "# Buat prediksi untuk unrated movie\n",
    "predicted_unrated_movie = {\n",
    "    'UserID' : 1,\n",
    "    'MovieIDs' : [],\n",
    "    'Pred_Rating' : []    \n",
    "}\n",
    "predicted_unrated_movie"
   ]
  },
  {
   "cell_type": "code",
   "execution_count": 92,
   "metadata": {},
   "outputs": [],
   "source": [
    "# Iterasi untuk semua unrated MovieIDs\n",
    "for id in unrated_movie_id:\n",
    "    # Buat prediksi\n",
    "    pred_id = model_best.predict(uid = predicted_unrated_movie['UserID'],\n",
    "                                 iid = id)\n",
    "    \n",
    "    # Append data\n",
    "    predicted_unrated_movie['MovieIDs'].append(id)\n",
    "    predicted_unrated_movie['Pred_Rating'].append(pred_id.est)"
   ]
  },
  {
   "cell_type": "code",
   "execution_count": 93,
   "metadata": {},
   "outputs": [
    {
     "data": {
      "text/html": [
       "<div>\n",
       "<style scoped>\n",
       "    .dataframe tbody tr th:only-of-type {\n",
       "        vertical-align: middle;\n",
       "    }\n",
       "\n",
       "    .dataframe tbody tr th {\n",
       "        vertical-align: top;\n",
       "    }\n",
       "\n",
       "    .dataframe thead th {\n",
       "        text-align: right;\n",
       "    }\n",
       "</style>\n",
       "<table border=\"1\" class=\"dataframe\">\n",
       "  <thead>\n",
       "    <tr style=\"text-align: right;\">\n",
       "      <th></th>\n",
       "      <th>UserID</th>\n",
       "      <th>MovieIDs</th>\n",
       "      <th>Pred_Rating</th>\n",
       "    </tr>\n",
       "  </thead>\n",
       "  <tbody>\n",
       "    <tr>\n",
       "      <th>0</th>\n",
       "      <td>1</td>\n",
       "      <td>2051</td>\n",
       "      <td>4.001103</td>\n",
       "    </tr>\n",
       "    <tr>\n",
       "      <th>1</th>\n",
       "      <td>1</td>\n",
       "      <td>2053</td>\n",
       "      <td>3.006703</td>\n",
       "    </tr>\n",
       "    <tr>\n",
       "      <th>2</th>\n",
       "      <td>1</td>\n",
       "      <td>7</td>\n",
       "      <td>3.582709</td>\n",
       "    </tr>\n",
       "    <tr>\n",
       "      <th>3</th>\n",
       "      <td>1</td>\n",
       "      <td>2058</td>\n",
       "      <td>3.747303</td>\n",
       "    </tr>\n",
       "    <tr>\n",
       "      <th>4</th>\n",
       "      <td>1</td>\n",
       "      <td>16</td>\n",
       "      <td>4.422494</td>\n",
       "    </tr>\n",
       "  </tbody>\n",
       "</table>\n",
       "</div>"
      ],
      "text/plain": [
       "   UserID  MovieIDs  Pred_Rating\n",
       "0       1      2051     4.001103\n",
       "1       1      2053     3.006703\n",
       "2       1         7     3.582709\n",
       "3       1      2058     3.747303\n",
       "4       1        16     4.422494"
      ]
     },
     "execution_count": 93,
     "metadata": {},
     "output_type": "execute_result"
    }
   ],
   "source": [
    "# Konversi DataFrame\n",
    "predicted_unrated_movie = pd.DataFrame(predicted_unrated_movie)\n",
    "predicted_unrated_movie.head()"
   ]
  },
  {
   "cell_type": "code",
   "execution_count": 94,
   "metadata": {},
   "outputs": [
    {
     "data": {
      "text/html": [
       "<div>\n",
       "<style scoped>\n",
       "    .dataframe tbody tr th:only-of-type {\n",
       "        vertical-align: middle;\n",
       "    }\n",
       "\n",
       "    .dataframe tbody tr th {\n",
       "        vertical-align: top;\n",
       "    }\n",
       "\n",
       "    .dataframe thead th {\n",
       "        text-align: right;\n",
       "    }\n",
       "</style>\n",
       "<table border=\"1\" class=\"dataframe\">\n",
       "  <thead>\n",
       "    <tr style=\"text-align: right;\">\n",
       "      <th></th>\n",
       "      <th>UserID</th>\n",
       "      <th>MovieIDs</th>\n",
       "      <th>Pred_Rating</th>\n",
       "    </tr>\n",
       "  </thead>\n",
       "  <tbody>\n",
       "    <tr>\n",
       "      <th>285</th>\n",
       "      <td>1</td>\n",
       "      <td>858</td>\n",
       "      <td>4.867043</td>\n",
       "    </tr>\n",
       "    <tr>\n",
       "      <th>335</th>\n",
       "      <td>1</td>\n",
       "      <td>969</td>\n",
       "      <td>4.789811</td>\n",
       "    </tr>\n",
       "    <tr>\n",
       "      <th>314</th>\n",
       "      <td>1</td>\n",
       "      <td>923</td>\n",
       "      <td>4.780440</td>\n",
       "    </tr>\n",
       "    <tr>\n",
       "      <th>674</th>\n",
       "      <td>1</td>\n",
       "      <td>2010</td>\n",
       "      <td>4.767005</td>\n",
       "    </tr>\n",
       "    <tr>\n",
       "      <th>310</th>\n",
       "      <td>1</td>\n",
       "      <td>2966</td>\n",
       "      <td>4.724122</td>\n",
       "    </tr>\n",
       "  </tbody>\n",
       "</table>\n",
       "</div>"
      ],
      "text/plain": [
       "     UserID  MovieIDs  Pred_Rating\n",
       "285       1       858     4.867043\n",
       "335       1       969     4.789811\n",
       "314       1       923     4.780440\n",
       "674       1      2010     4.767005\n",
       "310       1      2966     4.724122"
      ]
     },
     "execution_count": 94,
     "metadata": {},
     "output_type": "execute_result"
    }
   ],
   "source": [
    "# Urutkan prediksi nilai rating\n",
    "predicted_unrated_movie = predicted_unrated_movie.sort_values('Pred_Rating',\n",
    "                                                              ascending = False)\n",
    "\n",
    "predicted_unrated_movie.head()"
   ]
  },
  {
   "cell_type": "code",
   "execution_count": 95,
   "metadata": {},
   "outputs": [],
   "source": [
    "# Buat fungsi\n",
    "def get_pred_unrated_item(userid, est, unrated_item_id):\n",
    "    \"\"\"\n",
    "    Fungsi untuk prediksi unrated item id oleh user id\n",
    "    \n",
    "    Parameters\n",
    "    ----------\n",
    "    userid : int\n",
    "        UserID\n",
    "        \n",
    "    est : Surprise object\n",
    "        Estimator\n",
    "    \n",
    "    unrated_item_id : set\n",
    "        Unrated item id\n",
    "        \n",
    "    Returns\n",
    "    -------\n",
    "    pred_data : pandas DataFrame\n",
    "        Prediksi rating dari unrated item id oleh user id\n",
    "    \"\"\"\n",
    "    # Buat dictionary\n",
    "    pred_dict = {\n",
    "        'UserID' : userid,\n",
    "        'MovieIDs' : [],\n",
    "        'Pred_Rating' : []\n",
    "    }\n",
    "    \n",
    "    # Iterasi untuk semua unrated movie id\n",
    "    for id in unrated_item_id:\n",
    "        # Buat prediksi\n",
    "        pred_id = est.predict(uid = pred_dict['UserID'],\n",
    "                              iid = id)\n",
    "        \n",
    "        # Append\n",
    "        pred_dict['MovieIDs'].append(id)\n",
    "        pred_dict['Pred_Rating'].append(pred_id.est)\n",
    "        \n",
    "    # Buat DataFrame\n",
    "    pred_data = pd.DataFrame(pred_dict).sort_values('Pred_Rating',\n",
    "                                                   ascending = False)\n",
    "    \n",
    "    return pred_data"
   ]
  },
  {
   "cell_type": "code",
   "execution_count": 96,
   "metadata": {},
   "outputs": [
    {
     "data": {
      "text/html": [
       "<div>\n",
       "<style scoped>\n",
       "    .dataframe tbody tr th:only-of-type {\n",
       "        vertical-align: middle;\n",
       "    }\n",
       "\n",
       "    .dataframe tbody tr th {\n",
       "        vertical-align: top;\n",
       "    }\n",
       "\n",
       "    .dataframe thead th {\n",
       "        text-align: right;\n",
       "    }\n",
       "</style>\n",
       "<table border=\"1\" class=\"dataframe\">\n",
       "  <thead>\n",
       "    <tr style=\"text-align: right;\">\n",
       "      <th></th>\n",
       "      <th>UserID</th>\n",
       "      <th>MovieIDs</th>\n",
       "      <th>Pred_Rating</th>\n",
       "    </tr>\n",
       "  </thead>\n",
       "  <tbody>\n",
       "    <tr>\n",
       "      <th>285</th>\n",
       "      <td>1</td>\n",
       "      <td>858</td>\n",
       "      <td>4.867043</td>\n",
       "    </tr>\n",
       "    <tr>\n",
       "      <th>335</th>\n",
       "      <td>1</td>\n",
       "      <td>969</td>\n",
       "      <td>4.789811</td>\n",
       "    </tr>\n",
       "    <tr>\n",
       "      <th>314</th>\n",
       "      <td>1</td>\n",
       "      <td>923</td>\n",
       "      <td>4.780440</td>\n",
       "    </tr>\n",
       "    <tr>\n",
       "      <th>674</th>\n",
       "      <td>1</td>\n",
       "      <td>2010</td>\n",
       "      <td>4.767005</td>\n",
       "    </tr>\n",
       "    <tr>\n",
       "      <th>310</th>\n",
       "      <td>1</td>\n",
       "      <td>2966</td>\n",
       "      <td>4.724122</td>\n",
       "    </tr>\n",
       "  </tbody>\n",
       "</table>\n",
       "</div>"
      ],
      "text/plain": [
       "     UserID  MovieIDs  Pred_Rating\n",
       "285       1       858     4.867043\n",
       "335       1       969     4.789811\n",
       "314       1       923     4.780440\n",
       "674       1      2010     4.767005\n",
       "310       1      2966     4.724122"
      ]
     },
     "execution_count": 96,
     "metadata": {},
     "output_type": "execute_result"
    }
   ],
   "source": [
    "predicted_unrated_movie = get_pred_unrated_item(userid = 1,\n",
    "                                                est = model_best,\n",
    "                                                unrated_item_id = unrated_movie_id)\n",
    "\n",
    "predicted_unrated_movie.head()"
   ]
  },
  {
   "cell_type": "code",
   "execution_count": 97,
   "metadata": {},
   "outputs": [
    {
     "name": "stdout",
     "output_type": "stream",
     "text": [
      "Shape dari movie_df : (3883, 3)\n"
     ]
    },
    {
     "data": {
      "text/html": [
       "<div>\n",
       "<style scoped>\n",
       "    .dataframe tbody tr th:only-of-type {\n",
       "        vertical-align: middle;\n",
       "    }\n",
       "\n",
       "    .dataframe tbody tr th {\n",
       "        vertical-align: top;\n",
       "    }\n",
       "\n",
       "    .dataframe thead th {\n",
       "        text-align: right;\n",
       "    }\n",
       "</style>\n",
       "<table border=\"1\" class=\"dataframe\">\n",
       "  <thead>\n",
       "    <tr style=\"text-align: right;\">\n",
       "      <th></th>\n",
       "      <th>MovieIDs</th>\n",
       "      <th>Title</th>\n",
       "      <th>Genre</th>\n",
       "    </tr>\n",
       "  </thead>\n",
       "  <tbody>\n",
       "    <tr>\n",
       "      <th>0</th>\n",
       "      <td>1</td>\n",
       "      <td>Toy Story (1995)</td>\n",
       "      <td>Animation|Children's|Comedy</td>\n",
       "    </tr>\n",
       "    <tr>\n",
       "      <th>1</th>\n",
       "      <td>2</td>\n",
       "      <td>Jumanji (1995)</td>\n",
       "      <td>Adventure|Children's|Fantasy</td>\n",
       "    </tr>\n",
       "    <tr>\n",
       "      <th>2</th>\n",
       "      <td>3</td>\n",
       "      <td>Grumpier Old Men (1995)</td>\n",
       "      <td>Comedy|Romance</td>\n",
       "    </tr>\n",
       "    <tr>\n",
       "      <th>3</th>\n",
       "      <td>4</td>\n",
       "      <td>Waiting to Exhale (1995)</td>\n",
       "      <td>Comedy|Drama</td>\n",
       "    </tr>\n",
       "    <tr>\n",
       "      <th>4</th>\n",
       "      <td>5</td>\n",
       "      <td>Father of the Bride Part II (1995)</td>\n",
       "      <td>Comedy</td>\n",
       "    </tr>\n",
       "  </tbody>\n",
       "</table>\n",
       "</div>"
      ],
      "text/plain": [
       "   MovieIDs                               Title                         Genre\n",
       "0         1                    Toy Story (1995)   Animation|Children's|Comedy\n",
       "1         2                      Jumanji (1995)  Adventure|Children's|Fantasy\n",
       "2         3             Grumpier Old Men (1995)                Comedy|Romance\n",
       "3         4            Waiting to Exhale (1995)                  Comedy|Drama\n",
       "4         5  Father of the Bride Part II (1995)                        Comedy"
      ]
     },
     "execution_count": 97,
     "metadata": {},
     "output_type": "execute_result"
    }
   ],
   "source": [
    "# Import data\n",
    "movie_data = import_movie_data(movie_path = '../data/movies.csv', m_cols = m_cols)\n",
    "\n",
    "movie_data.head()"
   ]
  },
  {
   "cell_type": "code",
   "execution_count": 98,
   "metadata": {},
   "outputs": [
    {
     "data": {
      "text/html": [
       "<div>\n",
       "<style scoped>\n",
       "    .dataframe tbody tr th:only-of-type {\n",
       "        vertical-align: middle;\n",
       "    }\n",
       "\n",
       "    .dataframe tbody tr th {\n",
       "        vertical-align: top;\n",
       "    }\n",
       "\n",
       "    .dataframe thead th {\n",
       "        text-align: right;\n",
       "    }\n",
       "</style>\n",
       "<table border=\"1\" class=\"dataframe\">\n",
       "  <thead>\n",
       "    <tr style=\"text-align: right;\">\n",
       "      <th></th>\n",
       "      <th>UserID</th>\n",
       "      <th>MovieIDs</th>\n",
       "      <th>Pred_Rating</th>\n",
       "    </tr>\n",
       "  </thead>\n",
       "  <tbody>\n",
       "    <tr>\n",
       "      <th>285</th>\n",
       "      <td>1</td>\n",
       "      <td>858</td>\n",
       "      <td>4.867043</td>\n",
       "    </tr>\n",
       "    <tr>\n",
       "      <th>335</th>\n",
       "      <td>1</td>\n",
       "      <td>969</td>\n",
       "      <td>4.789811</td>\n",
       "    </tr>\n",
       "    <tr>\n",
       "      <th>314</th>\n",
       "      <td>1</td>\n",
       "      <td>923</td>\n",
       "      <td>4.780440</td>\n",
       "    </tr>\n",
       "    <tr>\n",
       "      <th>674</th>\n",
       "      <td>1</td>\n",
       "      <td>2010</td>\n",
       "      <td>4.767005</td>\n",
       "    </tr>\n",
       "    <tr>\n",
       "      <th>310</th>\n",
       "      <td>1</td>\n",
       "      <td>2966</td>\n",
       "      <td>4.724122</td>\n",
       "    </tr>\n",
       "  </tbody>\n",
       "</table>\n",
       "</div>"
      ],
      "text/plain": [
       "     UserID  MovieIDs  Pred_Rating\n",
       "285       1       858     4.867043\n",
       "335       1       969     4.789811\n",
       "314       1       923     4.780440\n",
       "674       1      2010     4.767005\n",
       "310       1      2966     4.724122"
      ]
     },
     "execution_count": 98,
     "metadata": {},
     "output_type": "execute_result"
    }
   ],
   "source": [
    "# Rating terbaik\n",
    "k =5\n",
    "top_movie = predicted_unrated_movie.head(k).copy()\n",
    "top_movie"
   ]
  },
  {
   "cell_type": "code",
   "execution_count": 99,
   "metadata": {},
   "outputs": [
    {
     "data": {
      "text/html": [
       "<div>\n",
       "<style scoped>\n",
       "    .dataframe tbody tr th:only-of-type {\n",
       "        vertical-align: middle;\n",
       "    }\n",
       "\n",
       "    .dataframe tbody tr th {\n",
       "        vertical-align: top;\n",
       "    }\n",
       "\n",
       "    .dataframe thead th {\n",
       "        text-align: right;\n",
       "    }\n",
       "</style>\n",
       "<table border=\"1\" class=\"dataframe\">\n",
       "  <thead>\n",
       "    <tr style=\"text-align: right;\">\n",
       "      <th></th>\n",
       "      <th>UserID</th>\n",
       "      <th>MovieIDs</th>\n",
       "      <th>Pred_Rating</th>\n",
       "      <th>Title</th>\n",
       "      <th>Genre</th>\n",
       "    </tr>\n",
       "  </thead>\n",
       "  <tbody>\n",
       "    <tr>\n",
       "      <th>285</th>\n",
       "      <td>1</td>\n",
       "      <td>858</td>\n",
       "      <td>4.867043</td>\n",
       "      <td>Kansas City (1996)</td>\n",
       "      <td>Crime</td>\n",
       "    </tr>\n",
       "    <tr>\n",
       "      <th>335</th>\n",
       "      <td>1</td>\n",
       "      <td>969</td>\n",
       "      <td>4.789811</td>\n",
       "      <td>Dangerous Ground (1997)</td>\n",
       "      <td>Drama</td>\n",
       "    </tr>\n",
       "    <tr>\n",
       "      <th>314</th>\n",
       "      <td>1</td>\n",
       "      <td>923</td>\n",
       "      <td>4.780440</td>\n",
       "      <td>Band Wagon, The (1953)</td>\n",
       "      <td>Comedy|Musical</td>\n",
       "    </tr>\n",
       "    <tr>\n",
       "      <th>674</th>\n",
       "      <td>1</td>\n",
       "      <td>2010</td>\n",
       "      <td>4.767005</td>\n",
       "      <td>Kidnapped (1960)</td>\n",
       "      <td>Children's|Drama</td>\n",
       "    </tr>\n",
       "    <tr>\n",
       "      <th>310</th>\n",
       "      <td>1</td>\n",
       "      <td>2966</td>\n",
       "      <td>4.724122</td>\n",
       "      <td>Mister Roberts (1955)</td>\n",
       "      <td>Comedy|Drama|War</td>\n",
       "    </tr>\n",
       "  </tbody>\n",
       "</table>\n",
       "</div>"
      ],
      "text/plain": [
       "     UserID  MovieIDs  Pred_Rating                    Title             Genre\n",
       "285       1       858     4.867043       Kansas City (1996)             Crime\n",
       "335       1       969     4.789811  Dangerous Ground (1997)             Drama\n",
       "314       1       923     4.780440   Band Wagon, The (1953)    Comedy|Musical\n",
       "674       1      2010     4.767005         Kidnapped (1960)  Children's|Drama\n",
       "310       1      2966     4.724122    Mister Roberts (1955)  Comedy|Drama|War"
      ]
     },
     "execution_count": 99,
     "metadata": {},
     "output_type": "execute_result"
    }
   ],
   "source": [
    "# Tambahkan judul film\n",
    "top_movie['Title'] = movie_data.loc[top_movie['MovieIDs'], 'Title'].values\n",
    "top_movie['Genre'] = movie_data.loc[top_movie['MovieIDs'], 'Genre'].values\n",
    "\n",
    "top_movie"
   ]
  },
  {
   "cell_type": "code",
   "execution_count": 100,
   "metadata": {},
   "outputs": [],
   "source": [
    "# Buat dalam bentuk fungsi\n",
    "def retrieve_top_highest_unrated(est, k, userid, rating_data, movie_data):\n",
    "    \"\"\"\n",
    "    Fungsi untuk mendapatkan top k tertinggi terhadap unrated movie dari Surprise estimator RecSys\n",
    "    \n",
    "    Parameters\n",
    "    ----------\n",
    "    est : Surprise model\n",
    "        RecSys model\n",
    "    \n",
    "    k : int\n",
    "        Jumlah rekomendasi\n",
    "        \n",
    "    userid : int\n",
    "        UserID untuk rekomendasi\n",
    "        \n",
    "    rating_data : pandas DataFrame\n",
    "        Rating data\n",
    "    \n",
    "    movie_data : pandas DataFrame\n",
    "        Movie meta data\n",
    "        \n",
    "    Returns\n",
    "    -------\n",
    "    top_item_pred : pandas DataFrame\n",
    "        Top movie rekomendasi  \n",
    "    \n",
    "    \"\"\"\n",
    "    # Dapatkan unrated item id untuk user id\n",
    "    unrated_item_id = get_unrated_item(userid = userid, rating_data = rating_data)\n",
    "    \n",
    "    # Dapatkan prediksi dari estimator untuk semua unrated item id\n",
    "    predicted_unrated_item = get_pred_unrated_item(userid = userid,\n",
    "                                                    est = est,\n",
    "                                                    unrated_item_id = unrated_item_id)\n",
    "    \n",
    "    # Urutkan dan tambahkan metadata\n",
    "    top_item_pred = predicted_unrated_item.head(k).copy()\n",
    "    top_item_pred['Title'] = movie_data.loc[top_item_pred['MovieIDs'], 'Title'].values\n",
    "    top_item_pred['Genre'] = movie_data.loc[top_item_pred['MovieIDs'], 'Genre'].values\n",
    "\n",
    "    return top_item_pred "
   ]
  },
  {
   "cell_type": "code",
   "execution_count": 101,
   "metadata": {},
   "outputs": [
    {
     "data": {
      "text/html": [
       "<div>\n",
       "<style scoped>\n",
       "    .dataframe tbody tr th:only-of-type {\n",
       "        vertical-align: middle;\n",
       "    }\n",
       "\n",
       "    .dataframe tbody tr th {\n",
       "        vertical-align: top;\n",
       "    }\n",
       "\n",
       "    .dataframe thead th {\n",
       "        text-align: right;\n",
       "    }\n",
       "</style>\n",
       "<table border=\"1\" class=\"dataframe\">\n",
       "  <thead>\n",
       "    <tr style=\"text-align: right;\">\n",
       "      <th></th>\n",
       "      <th>UserID</th>\n",
       "      <th>MovieIDs</th>\n",
       "      <th>Pred_Rating</th>\n",
       "      <th>Title</th>\n",
       "      <th>Genre</th>\n",
       "    </tr>\n",
       "  </thead>\n",
       "  <tbody>\n",
       "    <tr>\n",
       "      <th>256</th>\n",
       "      <td>100</td>\n",
       "      <td>750</td>\n",
       "      <td>4.141002</td>\n",
       "      <td>Stalingrad (1993)</td>\n",
       "      <td>War</td>\n",
       "    </tr>\n",
       "    <tr>\n",
       "      <th>298</th>\n",
       "      <td>100</td>\n",
       "      <td>912</td>\n",
       "      <td>4.050421</td>\n",
       "      <td>2001: A Space Odyssey (1968)</td>\n",
       "      <td>Drama|Mystery|Sci-Fi|Thriller</td>\n",
       "    </tr>\n",
       "    <tr>\n",
       "      <th>639</th>\n",
       "      <td>100</td>\n",
       "      <td>1949</td>\n",
       "      <td>3.989721</td>\n",
       "      <td>Bambi (1942)</td>\n",
       "      <td>Animation|Children's</td>\n",
       "    </tr>\n",
       "    <tr>\n",
       "      <th>244</th>\n",
       "      <td>100</td>\n",
       "      <td>2762</td>\n",
       "      <td>3.896621</td>\n",
       "      <td>Dog of Flanders, A (1999)</td>\n",
       "      <td>Drama</td>\n",
       "    </tr>\n",
       "    <tr>\n",
       "      <th>389</th>\n",
       "      <td>100</td>\n",
       "      <td>1136</td>\n",
       "      <td>3.893154</td>\n",
       "      <td>He Walked by Night (1948)</td>\n",
       "      <td>Crime|Film-Noir|Thriller</td>\n",
       "    </tr>\n",
       "    <tr>\n",
       "      <th>219</th>\n",
       "      <td>100</td>\n",
       "      <td>2692</td>\n",
       "      <td>3.886251</td>\n",
       "      <td>Iron Giant, The (1999)</td>\n",
       "      <td>Animation|Children's</td>\n",
       "    </tr>\n",
       "    <tr>\n",
       "      <th>410</th>\n",
       "      <td>100</td>\n",
       "      <td>1207</td>\n",
       "      <td>3.876239</td>\n",
       "      <td>Amadeus (1984)</td>\n",
       "      <td>Drama</td>\n",
       "    </tr>\n",
       "    <tr>\n",
       "      <th>447</th>\n",
       "      <td>100</td>\n",
       "      <td>1272</td>\n",
       "      <td>3.868963</td>\n",
       "      <td>Being There (1979)</td>\n",
       "      <td>Comedy</td>\n",
       "    </tr>\n",
       "    <tr>\n",
       "      <th>300</th>\n",
       "      <td>100</td>\n",
       "      <td>914</td>\n",
       "      <td>3.867674</td>\n",
       "      <td>All About Eve (1950)</td>\n",
       "      <td>Drama</td>\n",
       "    </tr>\n",
       "    <tr>\n",
       "      <th>307</th>\n",
       "      <td>100</td>\n",
       "      <td>923</td>\n",
       "      <td>3.853835</td>\n",
       "      <td>Band Wagon, The (1953)</td>\n",
       "      <td>Comedy|Musical</td>\n",
       "    </tr>\n",
       "  </tbody>\n",
       "</table>\n",
       "</div>"
      ],
      "text/plain": [
       "     UserID  MovieIDs  Pred_Rating                         Title  \\\n",
       "256     100       750     4.141002             Stalingrad (1993)   \n",
       "298     100       912     4.050421  2001: A Space Odyssey (1968)   \n",
       "639     100      1949     3.989721                  Bambi (1942)   \n",
       "244     100      2762     3.896621     Dog of Flanders, A (1999)   \n",
       "389     100      1136     3.893154     He Walked by Night (1948)   \n",
       "219     100      2692     3.886251        Iron Giant, The (1999)   \n",
       "410     100      1207     3.876239                Amadeus (1984)   \n",
       "447     100      1272     3.868963            Being There (1979)   \n",
       "300     100       914     3.867674          All About Eve (1950)   \n",
       "307     100       923     3.853835        Band Wagon, The (1953)   \n",
       "\n",
       "                             Genre  \n",
       "256                            War  \n",
       "298  Drama|Mystery|Sci-Fi|Thriller  \n",
       "639           Animation|Children's  \n",
       "244                          Drama  \n",
       "389       Crime|Film-Noir|Thriller  \n",
       "219           Animation|Children's  \n",
       "410                          Drama  \n",
       "447                         Comedy  \n",
       "300                          Drama  \n",
       "307                 Comedy|Musical  "
      ]
     },
     "execution_count": 101,
     "metadata": {},
     "output_type": "execute_result"
    }
   ],
   "source": [
    "# Dapatkan top 10 rekomendasi untuk user 100\n",
    "retrieve_top_highest_unrated(est=model_best,\n",
    "                            k=10,\n",
    "                            userid=100,\n",
    "                            rating_data=df_ratings,\n",
    "                            movie_data=movie_data)"
   ]
  },
  {
   "cell_type": "code",
   "execution_count": 102,
   "metadata": {},
   "outputs": [
    {
     "data": {
      "text/html": [
       "<div>\n",
       "<style scoped>\n",
       "    .dataframe tbody tr th:only-of-type {\n",
       "        vertical-align: middle;\n",
       "    }\n",
       "\n",
       "    .dataframe tbody tr th {\n",
       "        vertical-align: top;\n",
       "    }\n",
       "\n",
       "    .dataframe thead th {\n",
       "        text-align: right;\n",
       "    }\n",
       "</style>\n",
       "<table border=\"1\" class=\"dataframe\">\n",
       "  <thead>\n",
       "    <tr style=\"text-align: right;\">\n",
       "      <th></th>\n",
       "      <th>UserID</th>\n",
       "      <th>MovieIDs</th>\n",
       "      <th>Pred_Rating</th>\n",
       "      <th>Title</th>\n",
       "      <th>Genre</th>\n",
       "    </tr>\n",
       "  </thead>\n",
       "  <tbody>\n",
       "    <tr>\n",
       "      <th>660</th>\n",
       "      <td>500</td>\n",
       "      <td>2028</td>\n",
       "      <td>4.576709</td>\n",
       "      <td>Something Wicked This Way Comes (1983)</td>\n",
       "      <td>Children's|Horror</td>\n",
       "    </tr>\n",
       "    <tr>\n",
       "      <th>450</th>\n",
       "      <td>500</td>\n",
       "      <td>1292</td>\n",
       "      <td>4.501873</td>\n",
       "      <td>Female Perversions (1996)</td>\n",
       "      <td>Drama</td>\n",
       "    </tr>\n",
       "    <tr>\n",
       "      <th>393</th>\n",
       "      <td>500</td>\n",
       "      <td>1193</td>\n",
       "      <td>4.493212</td>\n",
       "      <td>Wings of Desire (Der Himmel über Berlin) (1987)</td>\n",
       "      <td>Comedy|Drama|Romance</td>\n",
       "    </tr>\n",
       "    <tr>\n",
       "      <th>296</th>\n",
       "      <td>500</td>\n",
       "      <td>912</td>\n",
       "      <td>4.437947</td>\n",
       "      <td>2001: A Space Odyssey (1968)</td>\n",
       "      <td>Drama|Mystery|Sci-Fi|Thriller</td>\n",
       "    </tr>\n",
       "    <tr>\n",
       "      <th>295</th>\n",
       "      <td>500</td>\n",
       "      <td>2959</td>\n",
       "      <td>4.408817</td>\n",
       "      <td>Taming of the Shrew, The (1967)</td>\n",
       "      <td>Comedy</td>\n",
       "    </tr>\n",
       "    <tr>\n",
       "      <th>455</th>\n",
       "      <td>500</td>\n",
       "      <td>1304</td>\n",
       "      <td>4.403354</td>\n",
       "      <td>Amityville: Dollhouse (1996)</td>\n",
       "      <td>Horror</td>\n",
       "    </tr>\n",
       "    <tr>\n",
       "      <th>636</th>\n",
       "      <td>500</td>\n",
       "      <td>1949</td>\n",
       "      <td>4.402816</td>\n",
       "      <td>Bambi (1942)</td>\n",
       "      <td>Animation|Children's</td>\n",
       "    </tr>\n",
       "    <tr>\n",
       "      <th>401</th>\n",
       "      <td>500</td>\n",
       "      <td>1207</td>\n",
       "      <td>4.400593</td>\n",
       "      <td>Amadeus (1984)</td>\n",
       "      <td>Drama</td>\n",
       "    </tr>\n",
       "    <tr>\n",
       "      <th>383</th>\n",
       "      <td>500</td>\n",
       "      <td>1147</td>\n",
       "      <td>4.382228</td>\n",
       "      <td>Mina Tannenbaum (1994)</td>\n",
       "      <td>Drama</td>\n",
       "    </tr>\n",
       "    <tr>\n",
       "      <th>419</th>\n",
       "      <td>500</td>\n",
       "      <td>1233</td>\n",
       "      <td>4.370531</td>\n",
       "      <td>Day the Earth Stood Still, The (1951)</td>\n",
       "      <td>Drama|Sci-Fi</td>\n",
       "    </tr>\n",
       "  </tbody>\n",
       "</table>\n",
       "</div>"
      ],
      "text/plain": [
       "     UserID  MovieIDs  Pred_Rating  \\\n",
       "660     500      2028     4.576709   \n",
       "450     500      1292     4.501873   \n",
       "393     500      1193     4.493212   \n",
       "296     500       912     4.437947   \n",
       "295     500      2959     4.408817   \n",
       "455     500      1304     4.403354   \n",
       "636     500      1949     4.402816   \n",
       "401     500      1207     4.400593   \n",
       "383     500      1147     4.382228   \n",
       "419     500      1233     4.370531   \n",
       "\n",
       "                                               Title  \\\n",
       "660           Something Wicked This Way Comes (1983)   \n",
       "450                        Female Perversions (1996)   \n",
       "393  Wings of Desire (Der Himmel über Berlin) (1987)   \n",
       "296                     2001: A Space Odyssey (1968)   \n",
       "295                  Taming of the Shrew, The (1967)   \n",
       "455                     Amityville: Dollhouse (1996)   \n",
       "636                                     Bambi (1942)   \n",
       "401                                   Amadeus (1984)   \n",
       "383                           Mina Tannenbaum (1994)   \n",
       "419            Day the Earth Stood Still, The (1951)   \n",
       "\n",
       "                             Genre  \n",
       "660              Children's|Horror  \n",
       "450                          Drama  \n",
       "393           Comedy|Drama|Romance  \n",
       "296  Drama|Mystery|Sci-Fi|Thriller  \n",
       "295                         Comedy  \n",
       "455                         Horror  \n",
       "636           Animation|Children's  \n",
       "401                          Drama  \n",
       "383                          Drama  \n",
       "419                   Drama|Sci-Fi  "
      ]
     },
     "execution_count": 102,
     "metadata": {},
     "output_type": "execute_result"
    }
   ],
   "source": [
    "# Dapatkan top 10 rekomendasi untuk user 500\n",
    "retrieve_top_highest_unrated(est=model_best,\n",
    "                            k=10,\n",
    "                            userid=500,\n",
    "                            rating_data=df_ratings,\n",
    "                            movie_data=movie_data)"
   ]
  },
  {
   "cell_type": "markdown",
   "metadata": {},
   "source": [
    "# **2. Modelling**: Model Based Collaborative Filtering with Funk SVD\n",
    "---"
   ]
  },
  {
   "cell_type": "markdown",
   "metadata": {},
   "source": [
    "## Background\n",
    "---"
   ]
  },
  {
   "cell_type": "markdown",
   "metadata": {},
   "source": [
    "Previously we have tried similarity based / neighborhood collaborative filtering models, We encountered a problem"
   ]
  },
  {
   "cell_type": "markdown",
   "metadata": {},
   "source": [
    "We define heavily on **similarity**, Even though we cannot optimize the similarity"
   ]
  },
  {
   "cell_type": "markdown",
   "metadata": {},
   "source": [
    "That means,if we fail to craft similarity, it may fail on prediction"
   ]
  },
  {
   "cell_type": "markdown",
   "metadata": {},
   "source": [
    "Another problem, is that whenever user is new we can't measure similarity due to not enough rating data available"
   ]
  },
  {
   "cell_type": "markdown",
   "metadata": {},
   "source": [
    "**Latent Models**\n",
    "\n",
    "Recall again, our utility matrix has component of user and item, which some of it are interacted and yield utility value, e.g. watching movies user give rating to express their likeliness"
   ]
  },
  {
   "cell_type": "markdown",
   "metadata": {},
   "source": [
    "The solution is we can infer two main factor, user factor and item factor that are behind the process of how utility value / rating are made"
   ]
  },
  {
   "cell_type": "markdown",
   "metadata": {},
   "source": [
    "\n",
    "<img src=\"https://drive.google.com/uc?export=view&id=1f7MoLGctHdM9SV1nGT8qZ0zFSzXg7YKo\" width=600>\n"
   ]
  },
  {
   "cell_type": "markdown",
   "metadata": {},
   "source": [
    "We need **Matrix Decomposition**\n",
    "\n",
    "Some approach :    \n",
    "1. Eigendecomposition\n",
    "2. Cholesky Decomposition\n",
    "3. Singular Decomposition"
   ]
  },
  {
   "cell_type": "markdown",
   "metadata": {},
   "source": [
    "Our constrain :    \n",
    "\n",
    "Utility matrix rarely have n_users = n_items, which mean our utility matrix rarely be a `square matrix`"
   ]
  },
  {
   "cell_type": "markdown",
   "metadata": {},
   "source": [
    "Solution :     \n",
    "We can use Singular Value Decomposition which does not require square matrix"
   ]
  },
  {
   "cell_type": "markdown",
   "metadata": {},
   "source": [
    "## Workflow\n",
    "---"
   ]
  },
  {
   "cell_type": "markdown",
   "metadata": {},
   "source": [
    "To create a personalized RecSys, we can follow these steps:\n",
    "\n",
    "```\n",
    "1. Data Preparation --> Create utility matrix & Split Train-Test\n",
    "2. Train recommendation model --> Baseline, User to User CF (KNN) & Item to Item CF (KNN)\n",
    "3. Choosing Best Model\n",
    "5. Evaluate Final Model\n",
    "```"
   ]
  },
  {
   "cell_type": "markdown",
   "metadata": {},
   "source": [
    "## Implementing Model From Scratch\n",
    "---"
   ]
  },
  {
   "cell_type": "markdown",
   "metadata": {},
   "source": [
    "### Pure Singular Value Decomposition\n",
    "---"
   ]
  },
  {
   "cell_type": "markdown",
   "metadata": {},
   "source": [
    "<img src=\"https://drive.google.com/uc?export=view&id=1TPbt_6viDrGzBzNQMQxVnsq380FfPTbV\" width=600>\n"
   ]
  },
  {
   "cell_type": "markdown",
   "metadata": {},
   "source": [
    "#### Data Preparation"
   ]
  },
  {
   "cell_type": "markdown",
   "metadata": {},
   "source": [
    "Why we need to prepare the data ?"
   ]
  },
  {
   "cell_type": "markdown",
   "metadata": {},
   "source": [
    "Because previously our data is in dataframe which have\n",
    " `userId`,`movieId`,`rating`\n",
    "\n",
    "| userId | movieId | rating |\n",
    "|:------:|---------|--------|\n",
    "| 1      | 1       | 4      |\n",
    "| ..     |         |        |\n",
    "| 600    | 1       | 5      |"
   ]
  },
  {
   "cell_type": "markdown",
   "metadata": {},
   "source": [
    "However we want our dataframe become same as utility matrix shape"
   ]
  },
  {
   "cell_type": "markdown",
   "metadata": {},
   "source": [
    "| userId | movieId1     | ..           | movieIdNth   |\n",
    "|:------:|--------------|--------------|--------------|\n",
    "| 1      | rating value | rating value | rating value |\n",
    "| ..     | rating value | rating value | ratig value  |\n",
    "| 600    | rating value | rating value | rating value |"
   ]
  },
  {
   "cell_type": "markdown",
   "metadata": {},
   "source": [
    "We can achieve those by using `pd.pivot`"
   ]
  },
  {
   "cell_type": "code",
   "execution_count": 121,
   "metadata": {},
   "outputs": [],
   "source": [
    "# Pivot rating data untuk mendapatkan interaksi rating user dan item\n",
    "pivot_df_ratings_funk = pivot_df_ratings.copy()"
   ]
  },
  {
   "cell_type": "code",
   "execution_count": 122,
   "metadata": {},
   "outputs": [
    {
     "data": {
      "text/html": [
       "<div>\n",
       "<style scoped>\n",
       "    .dataframe tbody tr th:only-of-type {\n",
       "        vertical-align: middle;\n",
       "    }\n",
       "\n",
       "    .dataframe tbody tr th {\n",
       "        vertical-align: top;\n",
       "    }\n",
       "\n",
       "    .dataframe thead th {\n",
       "        text-align: right;\n",
       "    }\n",
       "</style>\n",
       "<table border=\"1\" class=\"dataframe\">\n",
       "  <thead>\n",
       "    <tr style=\"text-align: right;\">\n",
       "      <th>MovieIDs</th>\n",
       "      <th>7</th>\n",
       "      <th>16</th>\n",
       "      <th>17</th>\n",
       "      <th>19</th>\n",
       "      <th>21</th>\n",
       "      <th>24</th>\n",
       "      <th>39</th>\n",
       "      <th>42</th>\n",
       "      <th>44</th>\n",
       "      <th>45</th>\n",
       "      <th>...</th>\n",
       "      <th>3816</th>\n",
       "      <th>3827</th>\n",
       "      <th>3839</th>\n",
       "      <th>3852</th>\n",
       "      <th>3869</th>\n",
       "      <th>3889</th>\n",
       "      <th>3897</th>\n",
       "      <th>3927</th>\n",
       "      <th>3930</th>\n",
       "      <th>3932</th>\n",
       "    </tr>\n",
       "    <tr>\n",
       "      <th>UserID</th>\n",
       "      <th></th>\n",
       "      <th></th>\n",
       "      <th></th>\n",
       "      <th></th>\n",
       "      <th></th>\n",
       "      <th></th>\n",
       "      <th></th>\n",
       "      <th></th>\n",
       "      <th></th>\n",
       "      <th></th>\n",
       "      <th></th>\n",
       "      <th></th>\n",
       "      <th></th>\n",
       "      <th></th>\n",
       "      <th></th>\n",
       "      <th></th>\n",
       "      <th></th>\n",
       "      <th></th>\n",
       "      <th></th>\n",
       "      <th></th>\n",
       "      <th></th>\n",
       "    </tr>\n",
       "  </thead>\n",
       "  <tbody>\n",
       "    <tr>\n",
       "      <th>1</th>\n",
       "      <td>NaN</td>\n",
       "      <td>NaN</td>\n",
       "      <td>NaN</td>\n",
       "      <td>NaN</td>\n",
       "      <td>NaN</td>\n",
       "      <td>NaN</td>\n",
       "      <td>NaN</td>\n",
       "      <td>NaN</td>\n",
       "      <td>NaN</td>\n",
       "      <td>NaN</td>\n",
       "      <td>...</td>\n",
       "      <td>NaN</td>\n",
       "      <td>NaN</td>\n",
       "      <td>NaN</td>\n",
       "      <td>NaN</td>\n",
       "      <td>NaN</td>\n",
       "      <td>NaN</td>\n",
       "      <td>NaN</td>\n",
       "      <td>NaN</td>\n",
       "      <td>NaN</td>\n",
       "      <td>NaN</td>\n",
       "    </tr>\n",
       "    <tr>\n",
       "      <th>2</th>\n",
       "      <td>NaN</td>\n",
       "      <td>NaN</td>\n",
       "      <td>NaN</td>\n",
       "      <td>NaN</td>\n",
       "      <td>1.0</td>\n",
       "      <td>NaN</td>\n",
       "      <td>NaN</td>\n",
       "      <td>NaN</td>\n",
       "      <td>NaN</td>\n",
       "      <td>NaN</td>\n",
       "      <td>...</td>\n",
       "      <td>NaN</td>\n",
       "      <td>NaN</td>\n",
       "      <td>NaN</td>\n",
       "      <td>NaN</td>\n",
       "      <td>NaN</td>\n",
       "      <td>NaN</td>\n",
       "      <td>NaN</td>\n",
       "      <td>NaN</td>\n",
       "      <td>NaN</td>\n",
       "      <td>NaN</td>\n",
       "    </tr>\n",
       "    <tr>\n",
       "      <th>3</th>\n",
       "      <td>NaN</td>\n",
       "      <td>NaN</td>\n",
       "      <td>NaN</td>\n",
       "      <td>NaN</td>\n",
       "      <td>NaN</td>\n",
       "      <td>NaN</td>\n",
       "      <td>NaN</td>\n",
       "      <td>NaN</td>\n",
       "      <td>NaN</td>\n",
       "      <td>NaN</td>\n",
       "      <td>...</td>\n",
       "      <td>NaN</td>\n",
       "      <td>NaN</td>\n",
       "      <td>NaN</td>\n",
       "      <td>NaN</td>\n",
       "      <td>NaN</td>\n",
       "      <td>NaN</td>\n",
       "      <td>NaN</td>\n",
       "      <td>NaN</td>\n",
       "      <td>NaN</td>\n",
       "      <td>NaN</td>\n",
       "    </tr>\n",
       "    <tr>\n",
       "      <th>4</th>\n",
       "      <td>NaN</td>\n",
       "      <td>NaN</td>\n",
       "      <td>NaN</td>\n",
       "      <td>NaN</td>\n",
       "      <td>NaN</td>\n",
       "      <td>NaN</td>\n",
       "      <td>NaN</td>\n",
       "      <td>NaN</td>\n",
       "      <td>NaN</td>\n",
       "      <td>NaN</td>\n",
       "      <td>...</td>\n",
       "      <td>NaN</td>\n",
       "      <td>NaN</td>\n",
       "      <td>NaN</td>\n",
       "      <td>NaN</td>\n",
       "      <td>NaN</td>\n",
       "      <td>NaN</td>\n",
       "      <td>NaN</td>\n",
       "      <td>NaN</td>\n",
       "      <td>NaN</td>\n",
       "      <td>NaN</td>\n",
       "    </tr>\n",
       "    <tr>\n",
       "      <th>5</th>\n",
       "      <td>NaN</td>\n",
       "      <td>3.0</td>\n",
       "      <td>NaN</td>\n",
       "      <td>NaN</td>\n",
       "      <td>NaN</td>\n",
       "      <td>1.0</td>\n",
       "      <td>3.0</td>\n",
       "      <td>NaN</td>\n",
       "      <td>NaN</td>\n",
       "      <td>NaN</td>\n",
       "      <td>...</td>\n",
       "      <td>NaN</td>\n",
       "      <td>NaN</td>\n",
       "      <td>NaN</td>\n",
       "      <td>NaN</td>\n",
       "      <td>NaN</td>\n",
       "      <td>NaN</td>\n",
       "      <td>NaN</td>\n",
       "      <td>NaN</td>\n",
       "      <td>NaN</td>\n",
       "      <td>NaN</td>\n",
       "    </tr>\n",
       "  </tbody>\n",
       "</table>\n",
       "<p>5 rows × 715 columns</p>\n",
       "</div>"
      ],
      "text/plain": [
       "MovieIDs  7     16    17    19    21    24    39    42    44    45    ...  \\\n",
       "UserID                                                                ...   \n",
       "1          NaN   NaN   NaN   NaN   NaN   NaN   NaN   NaN   NaN   NaN  ...   \n",
       "2          NaN   NaN   NaN   NaN   1.0   NaN   NaN   NaN   NaN   NaN  ...   \n",
       "3          NaN   NaN   NaN   NaN   NaN   NaN   NaN   NaN   NaN   NaN  ...   \n",
       "4          NaN   NaN   NaN   NaN   NaN   NaN   NaN   NaN   NaN   NaN  ...   \n",
       "5          NaN   3.0   NaN   NaN   NaN   1.0   3.0   NaN   NaN   NaN  ...   \n",
       "\n",
       "MovieIDs  3816  3827  3839  3852  3869  3889  3897  3927  3930  3932  \n",
       "UserID                                                                \n",
       "1          NaN   NaN   NaN   NaN   NaN   NaN   NaN   NaN   NaN   NaN  \n",
       "2          NaN   NaN   NaN   NaN   NaN   NaN   NaN   NaN   NaN   NaN  \n",
       "3          NaN   NaN   NaN   NaN   NaN   NaN   NaN   NaN   NaN   NaN  \n",
       "4          NaN   NaN   NaN   NaN   NaN   NaN   NaN   NaN   NaN   NaN  \n",
       "5          NaN   NaN   NaN   NaN   NaN   NaN   NaN   NaN   NaN   NaN  \n",
       "\n",
       "[5 rows x 715 columns]"
      ]
     },
     "execution_count": 122,
     "metadata": {},
     "output_type": "execute_result"
    }
   ],
   "source": [
    "# Menggunakan data utility martix yang sama\n",
    "pivot_df_ratings_funk.head()"
   ]
  },
  {
   "cell_type": "code",
   "execution_count": 123,
   "metadata": {},
   "outputs": [
    {
     "data": {
      "text/plain": [
       "(966, 715)"
      ]
     },
     "execution_count": 123,
     "metadata": {},
     "output_type": "execute_result"
    }
   ],
   "source": [
    "# Mengecek ukuran data\n",
    "pivot_df_ratings_funk.shape"
   ]
  },
  {
   "cell_type": "code",
   "execution_count": 124,
   "metadata": {},
   "outputs": [
    {
     "data": {
      "text/plain": [
       "619345"
      ]
     },
     "execution_count": 124,
     "metadata": {},
     "output_type": "execute_result"
    }
   ],
   "source": [
    "# Mengecek NaN value pada data\n",
    "pivot_df_ratings_funk.isnull().sum().sum()"
   ]
  },
  {
   "cell_type": "markdown",
   "metadata": {},
   "source": [
    "#### Mengisi missing value pada utility matrix"
   ]
  },
  {
   "cell_type": "code",
   "execution_count": 125,
   "metadata": {},
   "outputs": [],
   "source": [
    "# Import library\n",
    "from scipy.linalg import svd"
   ]
  },
  {
   "cell_type": "code",
   "execution_count": 126,
   "metadata": {},
   "outputs": [],
   "source": [
    "# Impute nilai NaN dengan 0 \n",
    "rating_imputed = pivot_df_ratings_funk.fillna(0)"
   ]
  },
  {
   "cell_type": "code",
   "execution_count": 127,
   "metadata": {},
   "outputs": [
    {
     "data": {
      "text/plain": [
       "array([[0., 0., 0., ..., 0., 0., 0.],\n",
       "       [0., 0., 0., ..., 0., 0., 0.],\n",
       "       [0., 0., 0., ..., 0., 0., 0.],\n",
       "       ...,\n",
       "       [0., 0., 0., ..., 0., 0., 0.],\n",
       "       [0., 0., 0., ..., 0., 0., 0.],\n",
       "       [0., 0., 0., ..., 0., 0., 0.]])"
      ]
     },
     "execution_count": 127,
     "metadata": {},
     "output_type": "execute_result"
    }
   ],
   "source": [
    "# Konversi rating ke dalam matrix numpy\n",
    "matrix_ratings = rating_imputed.to_numpy()\n",
    "matrix_ratings"
   ]
  },
  {
   "cell_type": "markdown",
   "metadata": {},
   "source": [
    "#### Aplikasi SVD "
   ]
  },
  {
   "cell_type": "code",
   "execution_count": 128,
   "metadata": {},
   "outputs": [],
   "source": [
    "# Aplikasikan SVD dan ekstraksi 3 komponen pada matrix. U, S dan V\n",
    "\n",
    "U, S, Vt = svd(matrix_ratings)"
   ]
  },
  {
   "cell_type": "code",
   "execution_count": 129,
   "metadata": {},
   "outputs": [
    {
     "name": "stdout",
     "output_type": "stream",
     "text": [
      "Shape dari U : (966, 966)\n",
      "Shape dari S : (715,)\n",
      "Shape dari Vt : (715, 715)\n"
     ]
    }
   ],
   "source": [
    "# Check ukuran dari tiap tiap matriks\n",
    "print('Shape dari U :', U.shape)\n",
    "print('Shape dari S :', S.shape)\n",
    "print('Shape dari Vt :', Vt.shape)"
   ]
  },
  {
   "cell_type": "markdown",
   "metadata": {},
   "source": [
    "#### Melakukan prediksi rating pada tiap komponen SVD\n",
    "\n",
    "- Filter user faktor (U)\n",
    "- Filter item faktor (V)\n",
    "- Lakukan dot product (u.s.vt)"
   ]
  },
  {
   "cell_type": "code",
   "execution_count": 130,
   "metadata": {},
   "outputs": [
    {
     "data": {
      "text/plain": [
       "(966,)"
      ]
     },
     "execution_count": 130,
     "metadata": {},
     "output_type": "execute_result"
    }
   ],
   "source": [
    "# Lakukan filter pada user faktor (U)\n",
    "User_ID_ = 1\n",
    "u_1 = U[UserID,:]\n",
    "\n",
    "# Tampilkan output\n",
    "u_1.shape"
   ]
  },
  {
   "cell_type": "code",
   "execution_count": 131,
   "metadata": {},
   "outputs": [
    {
     "data": {
      "text/plain": [
       "(715,)"
      ]
     },
     "execution_count": 131,
     "metadata": {},
     "output_type": "execute_result"
    }
   ],
   "source": [
    "# Lakukan filter pada user faktor (Vt)\n",
    "Movie_IDs_ = 1\n",
    "vt_1 = Vt[:,Movie_IDs_]\n",
    "\n",
    "# Tampilkan output\n",
    "vt_1.shape"
   ]
  },
  {
   "cell_type": "code",
   "execution_count": 132,
   "metadata": {},
   "outputs": [],
   "source": [
    "s_diag = np.diag(S)"
   ]
  },
  {
   "cell_type": "code",
   "execution_count": 133,
   "metadata": {},
   "outputs": [
    {
     "data": {
      "text/plain": [
       "(966, 715)"
      ]
     },
     "execution_count": 133,
     "metadata": {},
     "output_type": "execute_result"
    }
   ],
   "source": [
    "# Lakukan dot product antara U.S\n",
    "# Karena ukuran matrix tidak dapat dilakukan dot product, maka lakukan stack terlebih dahulu\n",
    "s_new = np.vstack((np.diag(S),np.zeros(shape=(U.shape[0]-Vt.shape[0],Vt.shape[0]))))\n",
    "s_new.shape"
   ]
  },
  {
   "cell_type": "code",
   "execution_count": 134,
   "metadata": {},
   "outputs": [
    {
     "data": {
      "text/plain": [
       "(966,)"
      ]
     },
     "execution_count": 134,
     "metadata": {},
     "output_type": "execute_result"
    }
   ],
   "source": [
    "u_1.T.shape"
   ]
  },
  {
   "cell_type": "code",
   "execution_count": 135,
   "metadata": {},
   "outputs": [
    {
     "name": "stdout",
     "output_type": "stream",
     "text": [
      "Shape for U.S (715,)\n"
     ]
    }
   ],
   "source": [
    "# Lakukan dot product antara U.S\n",
    "us = u_1.dot(s_new)\n",
    "\n",
    "# Cek ukuran shape dari us\n",
    "print('Shape for U.S',us.shape)"
   ]
  },
  {
   "cell_type": "code",
   "execution_count": 136,
   "metadata": {},
   "outputs": [
    {
     "name": "stdout",
     "output_type": "stream",
     "text": [
      "Prediksi rating dari user 1 ke item 1 -1.4210854715202004e-14\n"
     ]
    }
   ],
   "source": [
    "# Lakukan dot produk dengan v_1\n",
    "rating_predict_funk = us.dot(vt_1)\n",
    "print('Prediksi rating dari user 1 ke item 1', rating_predict_funk)"
   ]
  },
  {
   "cell_type": "code",
   "execution_count": 138,
   "metadata": {},
   "outputs": [
    {
     "ename": "KeyError",
     "evalue": "0",
     "output_type": "error",
     "traceback": [
      "\u001b[1;31m---------------------------------------------------------------------------\u001b[0m",
      "\u001b[1;31mKeyError\u001b[0m                                  Traceback (most recent call last)",
      "\u001b[1;32m~\\anaconda3\\lib\\site-packages\\pandas\\core\\indexes\\base.py\u001b[0m in \u001b[0;36mget_loc\u001b[1;34m(self, key, method, tolerance)\u001b[0m\n\u001b[0;32m   3620\u001b[0m             \u001b[1;32mtry\u001b[0m\u001b[1;33m:\u001b[0m\u001b[1;33m\u001b[0m\u001b[1;33m\u001b[0m\u001b[0m\n\u001b[1;32m-> 3621\u001b[1;33m                 \u001b[1;32mreturn\u001b[0m \u001b[0mself\u001b[0m\u001b[1;33m.\u001b[0m\u001b[0m_engine\u001b[0m\u001b[1;33m.\u001b[0m\u001b[0mget_loc\u001b[0m\u001b[1;33m(\u001b[0m\u001b[0mcasted_key\u001b[0m\u001b[1;33m)\u001b[0m\u001b[1;33m\u001b[0m\u001b[1;33m\u001b[0m\u001b[0m\n\u001b[0m\u001b[0;32m   3622\u001b[0m             \u001b[1;32mexcept\u001b[0m \u001b[0mKeyError\u001b[0m \u001b[1;32mas\u001b[0m \u001b[0merr\u001b[0m\u001b[1;33m:\u001b[0m\u001b[1;33m\u001b[0m\u001b[1;33m\u001b[0m\u001b[0m\n",
      "\u001b[1;32m~\\anaconda3\\lib\\site-packages\\pandas\\_libs\\index.pyx\u001b[0m in \u001b[0;36mpandas._libs.index.IndexEngine.get_loc\u001b[1;34m()\u001b[0m\n",
      "\u001b[1;32m~\\anaconda3\\lib\\site-packages\\pandas\\_libs\\index.pyx\u001b[0m in \u001b[0;36mpandas._libs.index.IndexEngine.get_loc\u001b[1;34m()\u001b[0m\n",
      "\u001b[1;32mpandas\\_libs\\hashtable_class_helper.pxi\u001b[0m in \u001b[0;36mpandas._libs.hashtable.Int64HashTable.get_item\u001b[1;34m()\u001b[0m\n",
      "\u001b[1;32mpandas\\_libs\\hashtable_class_helper.pxi\u001b[0m in \u001b[0;36mpandas._libs.hashtable.Int64HashTable.get_item\u001b[1;34m()\u001b[0m\n",
      "\u001b[1;31mKeyError\u001b[0m: 0",
      "\nThe above exception was the direct cause of the following exception:\n",
      "\u001b[1;31mKeyError\u001b[0m                                  Traceback (most recent call last)",
      "\u001b[1;32m~\\AppData\\Local\\Temp/ipykernel_25092/703105280.py\u001b[0m in \u001b[0;36m<module>\u001b[1;34m\u001b[0m\n\u001b[1;32m----> 1\u001b[1;33m \u001b[0mrating_imputed\u001b[0m\u001b[1;33m.\u001b[0m\u001b[0mloc\u001b[0m\u001b[1;33m[\u001b[0m\u001b[1;36m0\u001b[0m\u001b[1;33m,\u001b[0m\u001b[1;36m0\u001b[0m\u001b[1;33m]\u001b[0m\u001b[1;33m\u001b[0m\u001b[1;33m\u001b[0m\u001b[0m\n\u001b[0m",
      "\u001b[1;32m~\\anaconda3\\lib\\site-packages\\pandas\\core\\indexing.py\u001b[0m in \u001b[0;36m__getitem__\u001b[1;34m(self, key)\u001b[0m\n\u001b[0;32m    958\u001b[0m             \u001b[0mkey\u001b[0m \u001b[1;33m=\u001b[0m \u001b[0mtuple\u001b[0m\u001b[1;33m(\u001b[0m\u001b[0mcom\u001b[0m\u001b[1;33m.\u001b[0m\u001b[0mapply_if_callable\u001b[0m\u001b[1;33m(\u001b[0m\u001b[0mx\u001b[0m\u001b[1;33m,\u001b[0m \u001b[0mself\u001b[0m\u001b[1;33m.\u001b[0m\u001b[0mobj\u001b[0m\u001b[1;33m)\u001b[0m \u001b[1;32mfor\u001b[0m \u001b[0mx\u001b[0m \u001b[1;32min\u001b[0m \u001b[0mkey\u001b[0m\u001b[1;33m)\u001b[0m\u001b[1;33m\u001b[0m\u001b[1;33m\u001b[0m\u001b[0m\n\u001b[0;32m    959\u001b[0m             \u001b[1;32mif\u001b[0m \u001b[0mself\u001b[0m\u001b[1;33m.\u001b[0m\u001b[0m_is_scalar_access\u001b[0m\u001b[1;33m(\u001b[0m\u001b[0mkey\u001b[0m\u001b[1;33m)\u001b[0m\u001b[1;33m:\u001b[0m\u001b[1;33m\u001b[0m\u001b[1;33m\u001b[0m\u001b[0m\n\u001b[1;32m--> 960\u001b[1;33m                 \u001b[1;32mreturn\u001b[0m \u001b[0mself\u001b[0m\u001b[1;33m.\u001b[0m\u001b[0mobj\u001b[0m\u001b[1;33m.\u001b[0m\u001b[0m_get_value\u001b[0m\u001b[1;33m(\u001b[0m\u001b[1;33m*\u001b[0m\u001b[0mkey\u001b[0m\u001b[1;33m,\u001b[0m \u001b[0mtakeable\u001b[0m\u001b[1;33m=\u001b[0m\u001b[0mself\u001b[0m\u001b[1;33m.\u001b[0m\u001b[0m_takeable\u001b[0m\u001b[1;33m)\u001b[0m\u001b[1;33m\u001b[0m\u001b[1;33m\u001b[0m\u001b[0m\n\u001b[0m\u001b[0;32m    961\u001b[0m             \u001b[1;32mreturn\u001b[0m \u001b[0mself\u001b[0m\u001b[1;33m.\u001b[0m\u001b[0m_getitem_tuple\u001b[0m\u001b[1;33m(\u001b[0m\u001b[0mkey\u001b[0m\u001b[1;33m)\u001b[0m\u001b[1;33m\u001b[0m\u001b[1;33m\u001b[0m\u001b[0m\n\u001b[0;32m    962\u001b[0m         \u001b[1;32melse\u001b[0m\u001b[1;33m:\u001b[0m\u001b[1;33m\u001b[0m\u001b[1;33m\u001b[0m\u001b[0m\n",
      "\u001b[1;32m~\\anaconda3\\lib\\site-packages\\pandas\\core\\frame.py\u001b[0m in \u001b[0;36m_get_value\u001b[1;34m(self, index, col, takeable)\u001b[0m\n\u001b[0;32m   3613\u001b[0m             \u001b[1;32mreturn\u001b[0m \u001b[0mseries\u001b[0m\u001b[1;33m.\u001b[0m\u001b[0m_values\u001b[0m\u001b[1;33m[\u001b[0m\u001b[0mindex\u001b[0m\u001b[1;33m]\u001b[0m\u001b[1;33m\u001b[0m\u001b[1;33m\u001b[0m\u001b[0m\n\u001b[0;32m   3614\u001b[0m \u001b[1;33m\u001b[0m\u001b[0m\n\u001b[1;32m-> 3615\u001b[1;33m         \u001b[0mseries\u001b[0m \u001b[1;33m=\u001b[0m \u001b[0mself\u001b[0m\u001b[1;33m.\u001b[0m\u001b[0m_get_item_cache\u001b[0m\u001b[1;33m(\u001b[0m\u001b[0mcol\u001b[0m\u001b[1;33m)\u001b[0m\u001b[1;33m\u001b[0m\u001b[1;33m\u001b[0m\u001b[0m\n\u001b[0m\u001b[0;32m   3616\u001b[0m         \u001b[0mengine\u001b[0m \u001b[1;33m=\u001b[0m \u001b[0mself\u001b[0m\u001b[1;33m.\u001b[0m\u001b[0mindex\u001b[0m\u001b[1;33m.\u001b[0m\u001b[0m_engine\u001b[0m\u001b[1;33m\u001b[0m\u001b[1;33m\u001b[0m\u001b[0m\n\u001b[0;32m   3617\u001b[0m \u001b[1;33m\u001b[0m\u001b[0m\n",
      "\u001b[1;32m~\\anaconda3\\lib\\site-packages\\pandas\\core\\frame.py\u001b[0m in \u001b[0;36m_get_item_cache\u001b[1;34m(self, item)\u001b[0m\n\u001b[0;32m   3929\u001b[0m             \u001b[1;31m#  pending resolution of GH#33047\u001b[0m\u001b[1;33m\u001b[0m\u001b[1;33m\u001b[0m\u001b[0m\n\u001b[0;32m   3930\u001b[0m \u001b[1;33m\u001b[0m\u001b[0m\n\u001b[1;32m-> 3931\u001b[1;33m             \u001b[0mloc\u001b[0m \u001b[1;33m=\u001b[0m \u001b[0mself\u001b[0m\u001b[1;33m.\u001b[0m\u001b[0mcolumns\u001b[0m\u001b[1;33m.\u001b[0m\u001b[0mget_loc\u001b[0m\u001b[1;33m(\u001b[0m\u001b[0mitem\u001b[0m\u001b[1;33m)\u001b[0m\u001b[1;33m\u001b[0m\u001b[1;33m\u001b[0m\u001b[0m\n\u001b[0m\u001b[0;32m   3932\u001b[0m             \u001b[0mres\u001b[0m \u001b[1;33m=\u001b[0m \u001b[0mself\u001b[0m\u001b[1;33m.\u001b[0m\u001b[0m_ixs\u001b[0m\u001b[1;33m(\u001b[0m\u001b[0mloc\u001b[0m\u001b[1;33m,\u001b[0m \u001b[0maxis\u001b[0m\u001b[1;33m=\u001b[0m\u001b[1;36m1\u001b[0m\u001b[1;33m)\u001b[0m\u001b[1;33m\u001b[0m\u001b[1;33m\u001b[0m\u001b[0m\n\u001b[0;32m   3933\u001b[0m \u001b[1;33m\u001b[0m\u001b[0m\n",
      "\u001b[1;32m~\\anaconda3\\lib\\site-packages\\pandas\\core\\indexes\\base.py\u001b[0m in \u001b[0;36mget_loc\u001b[1;34m(self, key, method, tolerance)\u001b[0m\n\u001b[0;32m   3621\u001b[0m                 \u001b[1;32mreturn\u001b[0m \u001b[0mself\u001b[0m\u001b[1;33m.\u001b[0m\u001b[0m_engine\u001b[0m\u001b[1;33m.\u001b[0m\u001b[0mget_loc\u001b[0m\u001b[1;33m(\u001b[0m\u001b[0mcasted_key\u001b[0m\u001b[1;33m)\u001b[0m\u001b[1;33m\u001b[0m\u001b[1;33m\u001b[0m\u001b[0m\n\u001b[0;32m   3622\u001b[0m             \u001b[1;32mexcept\u001b[0m \u001b[0mKeyError\u001b[0m \u001b[1;32mas\u001b[0m \u001b[0merr\u001b[0m\u001b[1;33m:\u001b[0m\u001b[1;33m\u001b[0m\u001b[1;33m\u001b[0m\u001b[0m\n\u001b[1;32m-> 3623\u001b[1;33m                 \u001b[1;32mraise\u001b[0m \u001b[0mKeyError\u001b[0m\u001b[1;33m(\u001b[0m\u001b[0mkey\u001b[0m\u001b[1;33m)\u001b[0m \u001b[1;32mfrom\u001b[0m \u001b[0merr\u001b[0m\u001b[1;33m\u001b[0m\u001b[1;33m\u001b[0m\u001b[0m\n\u001b[0m\u001b[0;32m   3624\u001b[0m             \u001b[1;32mexcept\u001b[0m \u001b[0mTypeError\u001b[0m\u001b[1;33m:\u001b[0m\u001b[1;33m\u001b[0m\u001b[1;33m\u001b[0m\u001b[0m\n\u001b[0;32m   3625\u001b[0m                 \u001b[1;31m# If we have a listlike key, _check_indexing_error will raise\u001b[0m\u001b[1;33m\u001b[0m\u001b[1;33m\u001b[0m\u001b[0m\n",
      "\u001b[1;31mKeyError\u001b[0m: 0"
     ]
    }
   ],
   "source": [
    "rating_imputed.loc[0,0]"
   ]
  },
  {
   "cell_type": "code",
   "execution_count": 139,
   "metadata": {},
   "outputs": [],
   "source": [
    "utility_matrix = np.dot(U,s_new).dot(Vt)"
   ]
  },
  {
   "cell_type": "code",
   "execution_count": 140,
   "metadata": {},
   "outputs": [
    {
     "data": {
      "text/plain": [
       "array([[-1.66533454e-16,  4.37011538e-14,  4.75314232e-16, ...,\n",
       "        -2.22044605e-15, -7.57727214e-15, -9.99200722e-16],\n",
       "       [ 5.82867088e-16, -1.37667655e-14, -1.56819002e-15, ...,\n",
       "        -1.33087985e-14, -1.72084569e-15, -8.90953977e-15],\n",
       "       [ 3.03923553e-15, -1.12687637e-14, -5.85642645e-15, ...,\n",
       "         2.78943535e-15,  1.60288449e-15,  5.06539255e-16],\n",
       "       ...,\n",
       "       [ 1.11022302e-16, -5.13478149e-16, -1.05471187e-15, ...,\n",
       "        -2.04003481e-15,  4.51028104e-15,  5.56499291e-15],\n",
       "       [ 6.90419943e-16,  2.63677968e-15, -3.49720253e-15, ...,\n",
       "        -2.65759637e-15, -3.06699111e-15,  2.10942375e-15],\n",
       "       [ 8.95117314e-16, -1.38777878e-16,  1.21083699e-15, ...,\n",
       "         3.33066907e-16,  6.10622664e-16, -8.32667268e-16]])"
      ]
     },
     "execution_count": 140,
     "metadata": {},
     "output_type": "execute_result"
    }
   ],
   "source": [
    "utility_matrix"
   ]
  },
  {
   "cell_type": "markdown",
   "metadata": {},
   "source": [
    "#### Experimenting\n",
    "\n",
    "We want to experiment how the singular values may give different result if we modify the number of singular value, for benchmarking purpose we will predict rating on user 1 on item 1\n",
    "\n",
    "for number of singular values we are going to take is :\n",
    "- all\n",
    "- 10\n",
    "- 100\n",
    "\n",
    "the true value of rating from user 1 on item 1 is **4.0**"
   ]
  },
  {
   "cell_type": "code",
   "execution_count": 141,
   "metadata": {},
   "outputs": [],
   "source": [
    "# Membuat fungsi\n",
    "def sing_values(n_sing, sing_vec):\n",
    "    \"\"\"\n",
    "    Fungsi untuk filter singular value\n",
    "\n",
    "    Parameters\n",
    "    ----------\n",
    "    n_sing : int\n",
    "        Jumlah singular value\n",
    "    sing_vec : numpy array\n",
    "        Vektor S\n",
    "\n",
    "    Returns\n",
    "    -------\n",
    "    s_new : int\n",
    "        Matrix singular S\n",
    "    \"\"\"\n",
    "    # Copy untuk menghindari tertimpa\n",
    "    sing_vec = sing_vec.copy()\n",
    "\n",
    "    # Ganti setelah n_sing dengan 0\n",
    "    sing_vec[n_sing:] = 0\n",
    "    s_new = np.vstack((np.diag(sing_vec),np.zeros(shape=(U.shape[0]-Vt.shape[0],Vt.shape[0]))))\n",
    "\n",
    "    return s_new"
   ]
  },
  {
   "cell_type": "markdown",
   "metadata": {},
   "source": [
    "**10 Singular Values**"
   ]
  },
  {
   "cell_type": "code",
   "execution_count": 142,
   "metadata": {},
   "outputs": [],
   "source": [
    "s_10 = sing_values(n_sing=10, sing_vec=S)"
   ]
  },
  {
   "cell_type": "code",
   "execution_count": 143,
   "metadata": {},
   "outputs": [
    {
     "data": {
      "text/plain": [
       "0.6670636611498454"
      ]
     },
     "execution_count": 143,
     "metadata": {},
     "output_type": "execute_result"
    }
   ],
   "source": [
    "rating_pred_10 = np.dot(u_1, s_10).dot(vt_1)\n",
    "rating_pred_10"
   ]
  },
  {
   "cell_type": "markdown",
   "metadata": {},
   "source": [
    "**100 Singular Values**"
   ]
  },
  {
   "cell_type": "code",
   "execution_count": 144,
   "metadata": {},
   "outputs": [],
   "source": [
    "s_100 = sing_values(n_sing=100, sing_vec=S)"
   ]
  },
  {
   "cell_type": "code",
   "execution_count": 145,
   "metadata": {},
   "outputs": [
    {
     "data": {
      "text/plain": [
       "-0.08063066675371977"
      ]
     },
     "execution_count": 145,
     "metadata": {},
     "output_type": "execute_result"
    }
   ],
   "source": [
    "rating_pred_100 = np.dot(u_1, s_100).dot(vt_1)\n",
    "rating_pred_100"
   ]
  },
  {
   "cell_type": "markdown",
   "metadata": {},
   "source": [
    "**All Singular Values**"
   ]
  },
  {
   "cell_type": "code",
   "execution_count": 146,
   "metadata": {},
   "outputs": [],
   "source": [
    "s_all = sing_values(n_sing=len(S), sing_vec=S)"
   ]
  },
  {
   "cell_type": "code",
   "execution_count": 147,
   "metadata": {},
   "outputs": [
    {
     "data": {
      "text/plain": [
       "-1.4210854715202004e-14"
      ]
     },
     "execution_count": 147,
     "metadata": {},
     "output_type": "execute_result"
    }
   ],
   "source": [
    "rating_pred_all = np.dot(u_1, s_all).dot(vt_1)\n",
    "rating_pred_all"
   ]
  },
  {
   "cell_type": "markdown",
   "metadata": {},
   "source": [
    "**Summary**"
   ]
  },
  {
   "cell_type": "code",
   "execution_count": 148,
   "metadata": {},
   "outputs": [
    {
     "data": {
      "text/html": [
       "<div>\n",
       "<style scoped>\n",
       "    .dataframe tbody tr th:only-of-type {\n",
       "        vertical-align: middle;\n",
       "    }\n",
       "\n",
       "    .dataframe tbody tr th {\n",
       "        vertical-align: top;\n",
       "    }\n",
       "\n",
       "    .dataframe thead th {\n",
       "        text-align: right;\n",
       "    }\n",
       "</style>\n",
       "<table border=\"1\" class=\"dataframe\">\n",
       "  <thead>\n",
       "    <tr style=\"text-align: right;\">\n",
       "      <th></th>\n",
       "      <th>N sing value</th>\n",
       "      <th>Pred_ratings</th>\n",
       "    </tr>\n",
       "  </thead>\n",
       "  <tbody>\n",
       "    <tr>\n",
       "      <th>0</th>\n",
       "      <td>10</td>\n",
       "      <td>6.670637e-01</td>\n",
       "    </tr>\n",
       "    <tr>\n",
       "      <th>1</th>\n",
       "      <td>100</td>\n",
       "      <td>-8.063067e-02</td>\n",
       "    </tr>\n",
       "    <tr>\n",
       "      <th>2</th>\n",
       "      <td>all</td>\n",
       "      <td>-1.421085e-14</td>\n",
       "    </tr>\n",
       "  </tbody>\n",
       "</table>\n",
       "</div>"
      ],
      "text/plain": [
       "  N sing value  Pred_ratings\n",
       "0           10  6.670637e-01\n",
       "1          100 -8.063067e-02\n",
       "2          all -1.421085e-14"
      ]
     },
     "execution_count": 148,
     "metadata": {},
     "output_type": "execute_result"
    }
   ],
   "source": [
    "summary_sing_value = pd.DataFrame(\n",
    "    data={'N sing value': [10,100,'all'],\n",
    "          'Pred_ratings': [rating_pred_10, rating_pred_100, rating_pred_all]\n",
    "          }\n",
    ")\n",
    "summary_sing_value"
   ]
  },
  {
   "cell_type": "markdown",
   "metadata": {},
   "source": [
    "**Funk SVD dari Scratch**"
   ]
  },
  {
   "cell_type": "markdown",
   "metadata": {},
   "source": [
    "Previously we learnt how to decompose utility matrix using Singular Value Decomposition"
   ]
  },
  {
   "cell_type": "markdown",
   "metadata": {},
   "source": [
    "However, the operation is not doable unless we use **missing values imputation**"
   ]
  },
  {
   "cell_type": "markdown",
   "metadata": {},
   "source": [
    "In this case, we cannot use missing values imputation because we want to predict the unknown rating itself"
   ]
  },
  {
   "cell_type": "markdown",
   "metadata": {},
   "source": [
    "Instead of using SVD, we can be inspired from SVD. Simon Funk (2006) developed algorithm to predict ratings from movie in [Netflix Competition](https://en.wikipedia.org/wiki/Netflix_Prize).\n",
    "\n",
    "The idea is pretty simple, instead we directly decompose from utility matrix into user factor and item factor"
   ]
  },
  {
   "cell_type": "markdown",
   "metadata": {},
   "source": [
    "We create user factor and item factor iterative optimization process using our known data"
   ]
  },
  {
   "cell_type": "markdown",
   "metadata": {},
   "source": [
    "#### Data Preparation\n",
    "\n",
    "In this process we will prepare our data so that we can continue to training process, the expected output should be array with size `<n_records x features>`.\n",
    "\n",
    "with features ordered :     \n",
    "- feature 1 : `UserID`\n",
    "- feature 2 : `MovieIDs`\n",
    "- feature 3 : `Ratings`\n"
   ]
  },
  {
   "cell_type": "markdown",
   "metadata": {},
   "source": [
    "Steps we take\n",
    "- Load the dataframe contain columns `UserID`,`MovieIDs`, and `Ratings`\n",
    "- Mapping unique id such as `UserID` and `MovieIDs` since we our output is in array, the slicing on rows / columns based on ordered number from `0 to n`\n",
    "- Converting dataframe to numpy array"
   ]
  },
  {
   "cell_type": "markdown",
   "metadata": {},
   "source": [
    "**Load Data**"
   ]
  },
  {
   "cell_type": "code",
   "execution_count": 173,
   "metadata": {},
   "outputs": [],
   "source": [
    "rating_data_funk = df_ratings.copy()"
   ]
  },
  {
   "cell_type": "markdown",
   "metadata": {},
   "source": [
    "**Mapping `userId` and `movieId`**"
   ]
  },
  {
   "cell_type": "markdown",
   "metadata": {},
   "source": [
    "To create mapping, we can simply create dictionary, which stores :    \n",
    "- UserId to ordered id\n",
    "```python\n",
    "user_to_id = {userid : orderedid}\n",
    "#example\n",
    "user_to_id = {'ab' : 1}\n",
    "```\n",
    "- Ordered id to UserId\n",
    "```python\n",
    "user_to_id = {orderedid : userid }\n",
    "#example\n",
    "user_to_id = {1 : 'ab' }\n",
    "```"
   ]
  },
  {
   "cell_type": "code",
   "execution_count": 174,
   "metadata": {},
   "outputs": [],
   "source": [
    "# Mapping UsedID ke index\n",
    "user_to_index = {user : index for index, user in enumerate(rating_data_funk['UserID'].unique())}\n",
    "\n",
    "# Mapping index terurut kembali ke UserID\n",
    "index_to_user = {index : user for index, user in enumerate(rating_data_funk['UserID'].unique())}"
   ]
  },
  {
   "cell_type": "code",
   "execution_count": 175,
   "metadata": {},
   "outputs": [],
   "source": [
    "# Mapping MovieIDs ke index\n",
    "movie_to_index = {mov : index for index, mov in enumerate(rating_data_funk['MovieIDs'].unique())}\n",
    "\n",
    "# Mapping index kembali ke MovieIDs\n",
    "index_to_movie = {index : mov for index, mov in enumerate(rating_data_funk['MovieIDs'].unique())}"
   ]
  },
  {
   "cell_type": "code",
   "execution_count": 176,
   "metadata": {},
   "outputs": [],
   "source": [
    "# Konversi DataFrame ke Array\n",
    "rating_matrix_funk = rating_data_funk.to_numpy()"
   ]
  },
  {
   "cell_type": "code",
   "execution_count": 177,
   "metadata": {},
   "outputs": [
    {
     "name": "stdout",
     "output_type": "stream",
     "text": [
      "Ukuran matrix rating funk : (71345, 3)\n"
     ]
    }
   ],
   "source": [
    "# Check ukuran matrix\n",
    "print('Ukuran matrix rating funk :', rating_matrix_funk.shape)"
   ]
  },
  {
   "cell_type": "markdown",
   "metadata": {},
   "source": [
    "**Objective**\n"
   ]
  },
  {
   "cell_type": "markdown",
   "metadata": {},
   "source": [
    "$$\\text{Objective}= \\underset{}{\\min}\n",
    "\\left [\n",
    "\\sum_{u \\in U} \\sum_{i \\in I} (r_{ui}-\\hat{r_{ui}})^2\n",
    "\\right ]\n",
    "$$\n",
    "\n",
    "Our main goal is to minimize prediction error, between true rating - predicted rating\n"
   ]
  },
  {
   "cell_type": "markdown",
   "metadata": {},
   "source": [
    "$$\\text{Objective}= \\underset{}{\\min}\n",
    "\\left [\n",
    "\\sum_{u \\in U} \\sum_{i \\in I} (r_{ui}-(p_u .q_i^T)^2\n",
    "\\right ]\n",
    "$$\n",
    "\n"
   ]
  },
  {
   "cell_type": "markdown",
   "metadata": {},
   "source": [
    "Adding Bias factor such as :\n",
    "- Global Mean\n",
    "- User Bias\n",
    "- Item Bias"
   ]
  },
  {
   "cell_type": "markdown",
   "metadata": {},
   "source": [
    "$$\\text{Objective}= \\underset{b_u,b_i,p_u,q_i}{\\min}\n",
    "\\left [\n",
    "\\sum_{u \\in U} \\sum_{i \\in I} (r_{ui}- (\\mu + b_u + b_i + (p_u . q_i^T) ) )^2\n",
    "\\right ]\n",
    "$$\n",
    "\n",
    "\n"
   ]
  },
  {
   "cell_type": "markdown",
   "metadata": {},
   "source": [
    "Adding Regularization\n",
    "\n",
    "the purpose of adding regularization is to make our model can avoid overfitting due to small portion of utility matrix that has known values."
   ]
  },
  {
   "cell_type": "markdown",
   "metadata": {},
   "source": [
    "**Final Objective Function**\n",
    "\n",
    "\n",
    "\n",
    "$$\\text{Objective}= \\underset{b_u,b_i,p_u,q_i}{\\min}\n",
    "\\left [\n",
    "\\sum_{u \\in U} \\sum_{i \\in I} (r_{ui}- \\hat{r_{ui}} )^2\n",
    "\\right ] + \\left [\\sum_{u \\in U} \\sum_{i \\in I}  \\lambda(b_u^2+b_i^2+||p_u||^2 + ||q_i||^2)\n",
    "\\right ]\n",
    "$$"
   ]
  },
  {
   "cell_type": "markdown",
   "metadata": {},
   "source": [
    "But sometimes, to make derivation more simple, usually it add $ 1/2$ term"
   ]
  },
  {
   "cell_type": "markdown",
   "metadata": {},
   "source": [
    "$$\\text{Objective}= \\underset{b_u,b_i,p_u,q_i}{\\min}\n",
    "\\left [\n",
    "\\sum_{u \\in U} \\sum_{i \\in I} \\cfrac{1}{2} (r_{ui}- \\hat{r_{ui}} )^2\n",
    "\\right ] + \\left [\\sum_{u \\in U} \\sum_{i \\in I}  \\cfrac{1}{2}\\lambda(b_u^2+b_i^2+||p_u||^2 + ||q_i||^2)\n",
    "\\right ]\n",
    "$$\n",
    "with :    \n",
    "1. $\\hat{r_{ui}} = \\mu + b_u + b_i + (p_u . q_i^T) $\n",
    "\n"
   ]
  },
  {
   "cell_type": "markdown",
   "metadata": {},
   "source": [
    "#### Initialization"
   ]
  },
  {
   "cell_type": "markdown",
   "metadata": {},
   "source": [
    "Through our objective we can identify what parameter we are going to optimized :    \n",
    "- $b_u$ : bias user size `<n_users,>` vector\n",
    "- $b_i$ : bias item size `<nn_items,>` vector\n",
    "- $p_u$ : user factor size `<n_users,n_factor>` matrix\n",
    "- $q_i$ : item factor size `<n_items,n_factor>` matrix"
   ]
  },
  {
   "cell_type": "markdown",
   "metadata": {},
   "source": [
    "However to optimize the parameter we have to set up the initial value first, we can initialize using numpy, we will generate / draw from Random Variable from Standard Normal distribution\n",
    "\n",
    "$$X \\sim \\mathcal{N}(\\mu,\\,\\sigma^{2})$$\n",
    "\n",
    "with :     \n",
    "- $\\mu$ = 0\n",
    "- $\\sigma^{2}$ = 1\n",
    "\n",
    "\n",
    "$$X \\sim \\mathcal{N}(0,1)$$"
   ]
  },
  {
   "cell_type": "code",
   "execution_count": 178,
   "metadata": {},
   "outputs": [
    {
     "name": "stdout",
     "output_type": "stream",
     "text": [
      "Jumlah dari User 966, dan jumlah dari movie 715\n"
     ]
    }
   ],
   "source": [
    "# Identifikasi jumlah user dan item\n",
    "n_user = rating_data_funk['UserID'].nunique()\n",
    "n_item = rating_data_funk['MovieIDs'].nunique()\n",
    "\n",
    "print(f'Jumlah dari User {n_user}, dan jumlah dari movie {n_item}')"
   ]
  },
  {
   "cell_type": "code",
   "execution_count": 179,
   "metadata": {},
   "outputs": [],
   "source": [
    "# Set jumlah dari n_factor yang akan digunakan\n",
    "n_fact = 50"
   ]
  },
  {
   "cell_type": "markdown",
   "metadata": {},
   "source": [
    "we can generate user factor ($p_u$) and item factor ($q_i$) using `numpy.random.normal`"
   ]
  },
  {
   "cell_type": "code",
   "execution_count": 180,
   "metadata": {},
   "outputs": [],
   "source": [
    "# Tetapkan random seed\n",
    "np.random.seed(42)\n",
    "\n",
    "bu = np.zeros(n_user)\n",
    "bi = np.zeros(n_item)\n",
    "\n",
    "pu = np.random.normal(0, 1., (n_user, n_fact))\n",
    "qi = np.random.normal(0, 1., (n_item, n_fact))"
   ]
  },
  {
   "cell_type": "code",
   "execution_count": 181,
   "metadata": {},
   "outputs": [],
   "source": [
    "# Buat copy untuk perbandingan weight setelah training\n",
    "bu_copy = bu.copy()\n",
    "bi_copy = bi.copy()\n",
    "pu_copy = pu.copy()\n",
    "qi_copy = qi.copy()\n"
   ]
  },
  {
   "cell_type": "code",
   "execution_count": 182,
   "metadata": {},
   "outputs": [
    {
     "name": "stdout",
     "output_type": "stream",
     "text": [
      "Shape dari Bias User (966,)\n",
      "Shape dari Bias Item (715,)\n",
      "Shape dari User Factor (966, 50)\n",
      "Shape dari Item Factor (715, 50)\n"
     ]
    }
   ],
   "source": [
    "# Cek ukuran\n",
    "print('Shape dari Bias User',bu.shape)\n",
    "print('Shape dari Bias Item',bi.shape)\n",
    "print('Shape dari User Factor',pu.shape)\n",
    "print('Shape dari Item Factor',qi.shape)"
   ]
  },
  {
   "cell_type": "markdown",
   "metadata": {},
   "source": [
    "**Buat Fungsi Prediksi**"
   ]
  },
  {
   "cell_type": "markdown",
   "metadata": {},
   "source": [
    "$\\hat{r_{ui}} = \\mu + b_u + b_i + (p_u . q_i^T)$\n",
    "\n",
    "with\n",
    "- $\\hat{r_{ui}}$ : predicted rating on user\n",
    "- $\\mu$ : global mean\n",
    "- $b_u$ : bias user\n",
    "- $b_i$ : bias item\n",
    "- $p_u$ : user factor\n",
    "- $q_i$ : item factor"
   ]
  },
  {
   "cell_type": "markdown",
   "metadata": {},
   "source": [
    "#### Optimization"
   ]
  },
  {
   "cell_type": "markdown",
   "metadata": {},
   "source": [
    "To find optimal parameter above we will find using one of the famous optimization algorithm, **Gradient Descent**"
   ]
  },
  {
   "cell_type": "markdown",
   "metadata": {},
   "source": [
    "To perform Gradient Descent we have to find optimal parameter when derivative of cost function with respect to each parameter is 0"
   ]
  },
  {
   "cell_type": "markdown",
   "metadata": {},
   "source": [
    "Since our objective is in composite function, $h(x) = f(g(x))$"
   ]
  },
  {
   "cell_type": "markdown",
   "metadata": {},
   "source": [
    "To find the partial derivative with respect to each parameter we can use **chain rule**"
   ]
  },
  {
   "cell_type": "markdown",
   "metadata": {},
   "source": [
    "$h'(x) = f'(g(x)).g'(x)$"
   ]
  },
  {
   "cell_type": "markdown",
   "metadata": {},
   "source": [
    "##### 1. **$b_u$**\n",
    "\n",
    "$$\n",
    "\\begin{align*}\n",
    "\\cfrac{\\partial \\text{Objective}}{\\partial{b_u}}\n",
    "&=\n",
    "\\frac{\\partial}{\\partial{b_u}}\n",
    "\\underset{}{}\n",
    "\\left [\n",
    "(\\cfrac{1}{2}\\sum_{u \\in U} \\sum_{i \\in I} (r_{ui}- \\hat{r_{ui}} )^2)\\right ] +\\frac{\\partial}{\\partial{b_u}} \\left [ \\cfrac{1}{2} \\sum_{u \\in U} \\sum_{i \\in I}   \\lambda(b_u^2+b_i^2+||p_u||^2 + ||q_i||^2)\n",
    "\\right ]\n",
    "\\end{align*}\n",
    "$$\n",
    "\n",
    "\n"
   ]
  },
  {
   "cell_type": "markdown",
   "metadata": {},
   "source": [
    "###### Derivation Detail of $b_u$"
   ]
  },
  {
   "cell_type": "markdown",
   "metadata": {},
   "source": [
    "**1st Block**\n",
    "\n",
    "Now we take care of each derivative $\\left [ \\text{some function} \\right ]$ block\n",
    "\n",
    "$\n",
    "\\begin{align*}\n",
    "\\cfrac{{\\partial}(\\cfrac{1}{2}\\sum_{u \\in U} \\sum_{i \\in I} (r_{ui}- \\hat{r_{ui}} )^2)}{\\partial{b_u}}\n",
    "\\end{align*}$\n",
    "\n",
    "we can identified  :     \n",
    "- $\\hat{r_{ui}}$ is our prediction function , we can call it as `g(x)`\n",
    "- $\\left [\n",
    "(\\cfrac{1}{2}\\sum_{u \\in U} \\sum_{i \\in I} (r_{ui}- \\hat{r_{ui}} )^2)\\right ]$ is our `f(g(x))`\n"
   ]
  },
  {
   "cell_type": "markdown",
   "metadata": {},
   "source": [
    "Hence, our derivation become\n",
    "\n",
    "$\n",
    "\\begin{align*}\n",
    "\\cfrac{{\\partial}(\\cfrac{1}{2}\\sum_{u \\in U} \\sum_{i \\in I} (r_{ui}- \\hat{r_{ui}} )^2)}{\\partial{b_u}}\n",
    "&=\n",
    "\\cfrac{1}{2} \\frac{\\partial{f(g(x))}}{\\partial{g(x)}}. \\frac{\\partial{g(x)}}{\\partial{b_u}}\n",
    "\\end{align*}$"
   ]
  },
  {
   "cell_type": "markdown",
   "metadata": {},
   "source": [
    "Remember derivative concept, if we have $f(x) = ax^n$, the derivative or $f'(x) = n(ax^{n-1})$"
   ]
  },
  {
   "cell_type": "markdown",
   "metadata": {},
   "source": [
    "$ \\begin{align*}\n",
    "\\frac{\\partial{f(g(x))}}{\\partial{g(x)}}\n",
    "&= 2(r_{ui} -\\hat{r_{ui}})\n",
    "\\end{align*}\n",
    "$\n",
    "\n",
    "and\n",
    "\n",
    "$ \\begin{align*}\n",
    "-\\frac{\\partial{g(x)}}{\\partial{b_u}}\n",
    "&= \\frac{\\partial{(\\mu + b_u + b_i + (p_u.q_i^T))}}{\\partial{b_u}} \\\\\n",
    "&= -1\n",
    "\\end{align*}\n",
    "$"
   ]
  },
  {
   "cell_type": "markdown",
   "metadata": {},
   "source": [
    "Plug back each component\n",
    "\n",
    "$\n",
    "\\begin{align*}\n",
    "\\cfrac{{\\partial}(\\cfrac{1}{2}\\sum_{u \\in U} \\sum_{i \\in I} (r_{ui}- \\hat{r_{ui}} )^2)}{\\partial{b_u}}\n",
    "&=\n",
    "\\cfrac{1}{2} \\frac{\\partial{f(g(x))}}{\\partial{g(x)}}. \\frac{\\partial{g(x)}}{\\partial{b_u}} \\\\\n",
    "&= \\cfrac{1}{2} 2 \\sum_{u \\in U} \\sum_{i \\in I} (r_{ui} -\\hat{r_{ui}}) . -1 \\\\\n",
    "&= -\\sum_{u \\in U} \\sum_{i \\in I} (r_{ui} -\\hat{r_{ui}})\n",
    "\\end{align*}$"
   ]
  },
  {
   "cell_type": "markdown",
   "metadata": {},
   "source": [
    "**2nd Block**\n",
    "\n",
    "$\n",
    "\\begin{align*}\n",
    "\\frac{1}{2}\\frac{\\partial{\\left [ \\sum_{u \\in U} \\sum_{i \\in I}   \\lambda(b_u^2+b_i^2+||p_u||^2 + ||q_i||^2)\\right ]} }{\\partial{b_u}}\n",
    "\\end{align*}\n",
    "$\n",
    "\n",
    "this function does not in form of composite function so we can directly find the partial derivative with respect to $b_u$ we can use $f(x) = ax^n$ form\n",
    "\n",
    "\n",
    "\n"
   ]
  },
  {
   "cell_type": "markdown",
   "metadata": {},
   "source": [
    "$\n",
    "\\begin{align*}\n",
    "\\frac{\\partial{\\left [ \\sum_{u \\in U} \\sum_{i \\in I}   \\lambda(b_u^2+b_i^2+||p_u||^2 + ||q_i||^2)\\right ]} }{\\partial{b_u}}\n",
    "&= \\frac{1}{2} \\sum_{u \\in U} 2\\lambda b_u \\\\\n",
    "&=  \\sum_{u \\in U} \\lambda b_u\n",
    "\\end{align*}\n",
    "$"
   ]
  },
  {
   "cell_type": "markdown",
   "metadata": {},
   "source": [
    "**Arrange All Component**"
   ]
  },
  {
   "cell_type": "markdown",
   "metadata": {},
   "source": [
    "$$\n",
    "\\begin{align*}\n",
    "\\cfrac{\\partial \\text{Objective}}{\\partial{b_u}}\n",
    "&=\n",
    "\\frac{\\partial}{\\partial{b_u}}\n",
    "\\underset{}{}\n",
    "\\left [\n",
    "(\\cfrac{1}{2}\\sum_{u \\in U} \\sum_{i \\in I} (r_{ui}- \\hat{r_{ui}} )^2)\\right ] +\\frac{\\partial}{\\partial{b_u}} \\left [ \\cfrac{1}{2} \\sum_{u \\in U} \\sum_{i \\in I}   \\lambda(b_u^2+b_i^2+||p_u||^2 + ||q_i||^2)\n",
    "\\right ] \\\\\n",
    "&= \\left [(2.\\cfrac{1}{2}\\sum_{u \\in U} \\sum_{i \\in I}(r_{ui}- \\hat{r_{ui}} )).-1 \\right ] + \\left[\\cfrac{1}{2}.2  \\sum_{u \\in U}  \\lambda.b_u \\right ] \\\\\n",
    "&= -(\\sum_{u \\in U} \\sum_{i \\in I} r_{ui} - \\hat{r_{ui}}) +  \\sum_{u \\in U}  \\lambda b_u \\\\\\\n",
    "\\text{Multiply with -1} \\\\\n",
    "\\cfrac{\\partial \\text{Objective}}{\\partial{b_u}}\n",
    "&= \\sum_{u \\in U} \\sum_{i \\in I} ((r_{ui} - \\hat{r_{ui}}) + (\\lambda b_u)))\n",
    "\\end{align*}\n",
    "$$"
   ]
  },
  {
   "cell_type": "markdown",
   "metadata": {},
   "source": [
    "##### 2. **$b_i$**\n",
    "\n",
    "\n",
    "Using the same procedure as above\n",
    "\n",
    "$$\n",
    "\\begin{align*}\n",
    "\\cfrac{\\partial \\text{Objective}}{\\partial{b_u}}\n",
    "&= \\sum_{u \\in U} \\sum_{i \\in I} ((r_{ui} - \\hat{r_{ui}}) +   (\\lambda b_i))\n",
    "\\end{align*}\n",
    "$$\n"
   ]
  },
  {
   "cell_type": "markdown",
   "metadata": {},
   "source": [
    "##### 3. **$p_u$**\n",
    "\n",
    "using the same derivation technique\n",
    "\n",
    "$$\n",
    "\\begin{align*}\n",
    "\\cfrac{\\partial \\text{Objective}}{\\partial{p_u}}\n",
    "&= \\sum_{u \\in U} \\sum_{i \\in I} ((r_{ui} - \\hat{r_{ui}}).p_u - \\lambda q_i))\n",
    "\\end{align*}\n",
    "$$\n",
    "\n"
   ]
  },
  {
   "cell_type": "markdown",
   "metadata": {},
   "source": [
    "##### 4. **$q_i$**\n",
    "\n",
    "using the same derivation technique\n",
    "\n",
    "$$\n",
    "\\begin{align*}\n",
    "\\cfrac{\\partial \\text{Objective}}{\\partial{q_i}}\n",
    "&= \\sum_{u \\in U} \\sum_{i \\in I} ((r_{ui} - \\hat{r_{ui}}).p_u - \\lambda p_u))\n",
    "\\end{align*}\n",
    "$$\n",
    "\n",
    "\n"
   ]
  },
  {
   "cell_type": "markdown",
   "metadata": {},
   "source": [
    "To update the parameter to optimal we need other components :     \n",
    "\n",
    "- $\\gamma$ : Learning rate\n",
    "- n_epochs : number of iteration to update the parameter"
   ]
  },
  {
   "cell_type": "markdown",
   "metadata": {},
   "source": [
    "How gradient descent work to update parameter :    \n",
    "For n_iterations do :    \n",
    "Loop all over training samples :     \n",
    "1. Find  partial derivative /gradient of objective function with respect to parameter we want to optimize ( in this case $b_u,b_i,p_u,q_i$)\n",
    "\n",
    "2. Update parameter with those gradient :     \n",
    "\n",
    "  $\\text{parameter}_{\\text{new}} = \\text{parameter}_{\\text{old}} -\\gamma.(\\text{gradient})$\n"
   ]
  },
  {
   "cell_type": "markdown",
   "metadata": {},
   "source": [
    "There are lot of alternatives to original **Gradient Descent**, such as :     \n",
    "1. Mini batch Gradient Descent\n",
    "2. Stochastic Gradient Descent"
   ]
  },
  {
   "cell_type": "code",
   "execution_count": 188,
   "metadata": {},
   "outputs": [
    {
     "name": "stdout",
     "output_type": "stream",
     "text": [
      "3.7525404723526528\n"
     ]
    }
   ],
   "source": [
    "# Tentukan learning rate\n",
    "lr = 0.01\n",
    "\n",
    "# Tentukan jumlah n_epoc\n",
    "n_epoc = 20\n",
    "\n",
    "# Tentukan nilai regularisasi\n",
    "lambda_reg = 0.002\n",
    "\n",
    "# Global Mean\n",
    "global_mean = rating_matrix_funk[:,2].mean()\n",
    "print(global_mean)"
   ]
  },
  {
   "cell_type": "code",
   "execution_count": 189,
   "metadata": {},
   "outputs": [],
   "source": [
    "from numpy.linalg import norm"
   ]
  },
  {
   "cell_type": "code",
   "execution_count": 190,
   "metadata": {},
   "outputs": [
    {
     "name": "stderr",
     "output_type": "stream",
     "text": [
      "  0%|                                                                                           | 0/20 [00:00<?, ?it/s]\n",
      "  0%|                                                                                        | 0/71345 [00:00<?, ?it/s]\u001b[A\n",
      "  2%|█▎                                                                        | 1304/71345 [00:00<00:05, 12790.11it/s]\u001b[A\n",
      "  4%|██▋                                                                       | 2584/71345 [00:00<00:05, 11715.72it/s]\u001b[A\n",
      "  5%|███▉                                                                      | 3761/71345 [00:00<00:05, 11467.46it/s]\u001b[A\n",
      "  7%|█████▏                                                                    | 4955/71345 [00:00<00:05, 11608.49it/s]\u001b[A\n",
      "  9%|██████▍                                                                   | 6179/71345 [00:00<00:05, 11808.83it/s]\u001b[A\n",
      " 10%|███████▋                                                                  | 7436/71345 [00:00<00:05, 12036.42it/s]\u001b[A\n",
      " 12%|████████▉                                                                 | 8642/71345 [00:00<00:05, 11825.37it/s]\u001b[A\n",
      " 14%|██████████▏                                                               | 9840/71345 [00:00<00:05, 11824.35it/s]\u001b[A\n",
      " 15%|███████████▎                                                             | 11024/71345 [00:00<00:05, 11700.93it/s]\u001b[A\n",
      " 17%|████████████▍                                                            | 12195/71345 [00:01<00:05, 11656.07it/s]\u001b[A\n",
      " 19%|█████████████▋                                                           | 13415/71345 [00:01<00:04, 11757.14it/s]\u001b[A\n",
      " 20%|██████████████▉                                                          | 14592/71345 [00:01<00:04, 11519.58it/s]\u001b[A\n",
      " 22%|████████████████▎                                                        | 15940/71345 [00:01<00:04, 11940.34it/s]\u001b[A\n",
      " 24%|█████████████████▌                                                       | 17135/71345 [00:01<00:04, 11893.45it/s]\u001b[A\n",
      " 26%|██████████████████▊                                                      | 18370/71345 [00:01<00:04, 12021.56it/s]\u001b[A\n",
      " 27%|████████████████████                                                     | 19584/71345 [00:01<00:04, 12019.84it/s]\u001b[A\n",
      " 29%|█████████████████████▎                                                   | 20787/71345 [00:01<00:04, 10616.38it/s]\u001b[A\n",
      " 31%|██████████████████████▌                                                  | 22075/71345 [00:01<00:04, 11204.97it/s]\u001b[A\n",
      " 33%|███████████████████████▊                                                 | 23236/71345 [00:02<00:04, 11304.90it/s]\u001b[A\n",
      " 34%|█████████████████████████                                                | 24448/71345 [00:02<00:04, 11525.10it/s]\u001b[A\n",
      " 36%|██████████████████████████▍                                              | 25855/71345 [00:02<00:03, 12121.58it/s]\u001b[A\n",
      " 38%|███████████████████████████▉                                             | 27320/71345 [00:02<00:03, 12628.21it/s]\u001b[A\n",
      " 40%|█████████████████████████████▎                                           | 28690/71345 [00:02<00:03, 12903.88it/s]\u001b[A\n",
      " 42%|██████████████████████████████▋                                          | 29987/71345 [00:02<00:03, 12777.22it/s]\u001b[A\n",
      " 44%|███████████████████████████████▉                                         | 31269/71345 [00:02<00:03, 12023.64it/s]\u001b[A\n",
      " 46%|█████████████████████████████████▏                                       | 32486/71345 [00:02<00:03, 12045.76it/s]\u001b[A\n",
      " 47%|██████████████████████████████████▌                                      | 33788/71345 [00:02<00:03, 12260.79it/s]\u001b[A\n",
      " 49%|███████████████████████████████████▊                                     | 35053/71345 [00:02<00:02, 12371.35it/s]\u001b[A\n",
      " 51%|█████████████████████████████████████▏                                   | 36317/71345 [00:03<00:02, 12419.05it/s]\u001b[A\n",
      " 53%|██████████████████████████████████████▌                                  | 37654/71345 [00:03<00:02, 12592.76it/s]\u001b[A\n",
      " 55%|███████████████████████████████████████▊                                 | 38916/71345 [00:03<00:02, 12587.07it/s]\u001b[A\n",
      " 56%|█████████████████████████████████████████                                | 40177/71345 [00:03<00:02, 12164.67it/s]\u001b[A\n",
      " 58%|██████████████████████████████████████████▍                              | 41450/71345 [00:03<00:02, 12303.26it/s]\u001b[A\n",
      " 60%|███████████████████████████████████████████▊                             | 42777/71345 [00:03<00:02, 12547.13it/s]\u001b[A\n",
      " 62%|█████████████████████████████████████████████                            | 44035/71345 [00:03<00:02, 12339.70it/s]\u001b[A\n",
      " 63%|██████████████████████████████████████████████▎                          | 45272/71345 [00:03<00:02, 12197.02it/s]\u001b[A\n",
      " 65%|███████████████████████████████████████████████▋                         | 46599/71345 [00:03<00:01, 12408.16it/s]\u001b[A\n",
      " 67%|████████████████████████████████████████████████▉                        | 47867/71345 [00:03<00:01, 12452.31it/s]\u001b[A\n",
      " 69%|██████████████████████████████████████████████████▎                      | 49114/71345 [00:04<00:01, 12302.89it/s]\u001b[A\n",
      " 71%|███████████████████████████████████████████████████▌                     | 50444/71345 [00:04<00:01, 12578.75it/s]\u001b[A\n",
      " 72%|████████████████████████████████████████████████████▉                    | 51703/71345 [00:04<00:01, 12234.37it/s]\u001b[A\n",
      " 74%|██████████████████████████████████████████████████████▎                  | 53059/71345 [00:04<00:01, 12614.28it/s]\u001b[A\n",
      " 76%|███████████████████████████████████████████████████████▊                 | 54496/71345 [00:04<00:01, 13121.73it/s]\u001b[A\n",
      " 78%|█████████████████████████████████████████████████████████▏               | 55864/71345 [00:04<00:01, 13206.09it/s]\u001b[A\n",
      " 80%|██████████████████████████████████████████████████████████▌              | 57187/71345 [00:04<00:01, 13102.09it/s]\u001b[A\n",
      " 82%|███████████████████████████████████████████████████████████▊             | 58499/71345 [00:04<00:01, 12681.48it/s]\u001b[A\n",
      " 84%|█████████████████████████████████████████████████████████████▎           | 59930/71345 [00:04<00:00, 13143.54it/s]\u001b[A\n",
      " 86%|██████████████████████████████████████████████████████████████▋          | 61249/71345 [00:05<00:00, 12979.53it/s]\u001b[A\n",
      " 88%|████████████████████████████████████████████████████████████████         | 62550/71345 [00:05<00:00, 12884.79it/s]\u001b[A\n",
      " 89%|█████████████████████████████████████████████████████████████████▎       | 63841/71345 [00:05<00:00, 12747.34it/s]\u001b[A\n",
      " 91%|██████████████████████████████████████████████████████████████████▋      | 65118/71345 [00:05<00:00, 12510.30it/s]\u001b[A\n",
      " 93%|███████████████████████████████████████████████████████████████████▉     | 66371/71345 [00:05<00:00, 12378.80it/s]\u001b[A\n",
      " 95%|█████████████████████████████████████████████████████████████████████▏   | 67610/71345 [00:05<00:00, 12082.12it/s]\u001b[A\n",
      " 97%|██████████████████████████████████████████████████████████████████████▍  | 68881/71345 [00:05<00:00, 12211.07it/s]\u001b[A\n",
      "100%|█████████████████████████████████████████████████████████████████████████| 71345/71345 [00:05<00:00, 12149.11it/s]\u001b[A\n",
      "  5%|████▏                                                                              | 1/20 [00:05<01:51,  5.89s/it]\n",
      "  0%|                                                                                        | 0/71345 [00:00<?, ?it/s]\u001b[A\n",
      "  2%|█▎                                                                        | 1207/71345 [00:00<00:05, 12022.94it/s]\u001b[A\n",
      "  3%|██▌                                                                       | 2472/71345 [00:00<00:05, 12293.97it/s]\u001b[A\n",
      "  5%|███▊                                                                      | 3702/71345 [00:00<00:05, 12260.40it/s]\u001b[A\n",
      "  7%|█████▏                                                                    | 5000/71345 [00:00<00:05, 12501.85it/s]\u001b[A\n",
      "  9%|██████▌                                                                   | 6350/71345 [00:00<00:05, 12766.95it/s]\u001b[A\n",
      " 11%|███████▉                                                                  | 7672/71345 [00:00<00:04, 12897.87it/s]\u001b[A\n",
      " 13%|█████████▎                                                                | 8962/71345 [00:00<00:04, 12767.95it/s]\u001b[A\n"
     ]
    },
    {
     "name": "stderr",
     "output_type": "stream",
     "text": [
      " 14%|██████████▍                                                              | 10239/71345 [00:00<00:04, 12379.43it/s]\u001b[A\n",
      " 16%|███████████▊                                                             | 11505/71345 [00:00<00:04, 12417.71it/s]\u001b[A\n",
      " 18%|█████████████                                                            | 12809/71345 [00:01<00:04, 12566.38it/s]\u001b[A\n",
      " 20%|██████████████▍                                                          | 14067/71345 [00:01<00:04, 12547.57it/s]\u001b[A\n",
      " 21%|███████████████▋                                                         | 15323/71345 [00:01<00:04, 12442.16it/s]\u001b[A\n",
      " 23%|████████████████▉                                                        | 16582/71345 [00:01<00:04, 12455.94it/s]\u001b[A\n",
      " 25%|██████████████████▎                                                      | 17876/71345 [00:01<00:04, 12574.33it/s]\u001b[A\n",
      " 27%|███████████████████▋                                                     | 19265/71345 [00:01<00:04, 12959.87it/s]\u001b[A\n",
      " 29%|█████████████████████                                                    | 20614/71345 [00:01<00:03, 13061.11it/s]\u001b[A\n",
      " 31%|██████████████████████▍                                                  | 21921/71345 [00:01<00:03, 13007.99it/s]\u001b[A\n",
      " 33%|███████████████████████▊                                                 | 23223/71345 [00:01<00:03, 12846.80it/s]\u001b[A\n",
      " 34%|█████████████████████████                                                | 24509/71345 [00:01<00:03, 12529.53it/s]\u001b[A\n",
      " 36%|██████████████████████████▎                                              | 25766/71345 [00:02<00:03, 12510.74it/s]\u001b[A\n",
      " 38%|███████████████████████████▋                                             | 27019/71345 [00:02<00:03, 12317.34it/s]\u001b[A\n",
      " 40%|████████████████████████████▉                                            | 28252/71345 [00:02<00:03, 12116.93it/s]\u001b[A\n",
      " 41%|██████████████████████████████▏                                          | 29559/71345 [00:02<00:03, 12376.32it/s]\u001b[A\n",
      " 43%|███████████████████████████████▌                                         | 30799/71345 [00:02<00:03, 12306.55it/s]\u001b[A\n",
      " 45%|████████████████████████████████▊                                        | 32099/71345 [00:02<00:03, 12377.89it/s]\u001b[A\n",
      " 47%|██████████████████████████████████▏                                      | 33441/71345 [00:02<00:02, 12641.88it/s]\u001b[A\n",
      " 49%|███████████████████████████████████▌                                     | 34756/71345 [00:02<00:02, 12776.74it/s]\u001b[A\n",
      " 51%|████████████████████████████████████▊                                    | 36035/71345 [00:02<00:02, 12692.28it/s]\u001b[A\n",
      " 52%|██████████████████████████████████████▏                                  | 37307/71345 [00:02<00:02, 12683.15it/s]\u001b[A\n",
      " 54%|███████████████████████████████████████▌                                 | 38657/71345 [00:03<00:02, 12922.36it/s]\u001b[A\n",
      " 56%|████████████████████████████████████████▉                                | 39950/71345 [00:03<00:02, 12910.63it/s]\u001b[A\n",
      " 58%|██████████████████████████████████████████▏                              | 41242/71345 [00:03<00:02, 12846.92it/s]\u001b[A\n",
      " 60%|███████████████████████████████████████████▌                             | 42527/71345 [00:03<00:02, 12759.91it/s]\u001b[A\n",
      " 61%|████████████████████████████████████████████▊                            | 43804/71345 [00:03<00:02, 12733.26it/s]\u001b[A\n",
      " 63%|██████████████████████████████████████████████▏                          | 45135/71345 [00:03<00:02, 12835.18it/s]\u001b[A\n",
      " 65%|███████████████████████████████████████████████▌                         | 46439/71345 [00:03<00:01, 12889.81it/s]\u001b[A\n",
      " 67%|████████████████████████████████████████████████▊                        | 47729/71345 [00:03<00:01, 12862.52it/s]\u001b[A\n",
      " 69%|██████████████████████████████████████████████████▏                      | 49031/71345 [00:03<00:01, 12864.83it/s]\u001b[A\n",
      " 71%|███████████████████████████████████████████████████▍                     | 50318/71345 [00:03<00:01, 12803.10it/s]\u001b[A\n",
      " 72%|████████████████████████████████████████████████████▊                    | 51619/71345 [00:04<00:01, 12829.05it/s]\u001b[A\n",
      " 74%|██████████████████████████████████████████████████████▏                  | 52902/71345 [00:04<00:01, 12797.58it/s]\u001b[A\n",
      " 76%|███████████████████████████████████████████████████████▍                 | 54182/71345 [00:04<00:01, 12563.30it/s]\u001b[A\n",
      " 78%|████████████████████████████████████████████████████████▊                | 55467/71345 [00:04<00:01, 12645.18it/s]\u001b[A\n",
      " 80%|██████████████████████████████████████████████████████████               | 56733/71345 [00:04<00:01, 12602.65it/s]\u001b[A\n",
      " 81%|███████████████████████████████████████████████████████████▎             | 58011/71345 [00:04<00:01, 12628.50it/s]\u001b[A\n",
      " 83%|████████████████████████████████████████████████████████████▊            | 59397/71345 [00:04<00:00, 12804.06it/s]\u001b[A\n",
      " 85%|██████████████████████████████████████████████████████████████           | 60678/71345 [00:04<00:00, 12777.10it/s]\u001b[A\n",
      " 87%|███████████████████████████████████████████████████████████████▍         | 61960/71345 [00:04<00:00, 12742.86it/s]\u001b[A\n",
      " 89%|████████████████████████████████████████████████████████████████▉        | 63418/71345 [00:04<00:00, 13192.97it/s]\u001b[A\n",
      " 91%|██████████████████████████████████████████████████████████████████▏      | 64738/71345 [00:05<00:00, 13124.25it/s]\u001b[A\n",
      " 93%|███████████████████████████████████████████████████████████████████▌     | 66051/71345 [00:05<00:00, 13118.83it/s]\u001b[A\n",
      " 94%|████████████████████████████████████████████████████████████████████▉    | 67363/71345 [00:05<00:00, 13066.09it/s]\u001b[A\n",
      " 96%|██████████████████████████████████████████████████████████████████████▎  | 68708/71345 [00:05<00:00, 13145.98it/s]\u001b[A\n",
      "100%|█████████████████████████████████████████████████████████████████████████| 71345/71345 [00:05<00:00, 12734.01it/s]\u001b[A\n",
      " 10%|████████▎                                                                          | 2/20 [00:11<01:43,  5.74s/it]\n",
      "  0%|                                                                                        | 0/71345 [00:00<?, ?it/s]\u001b[A\n",
      "  2%|█▎                                                                        | 1261/71345 [00:00<00:05, 12578.76it/s]\u001b[A\n",
      "  4%|██▋                                                                       | 2587/71345 [00:00<00:05, 12677.20it/s]\u001b[A\n",
      "  5%|███▉                                                                      | 3855/71345 [00:00<00:05, 12471.03it/s]\u001b[A\n",
      "  7%|█████▎                                                                    | 5125/71345 [00:00<00:05, 12555.16it/s]\u001b[A\n",
      "  9%|██████▌                                                                   | 6381/71345 [00:00<00:05, 12273.00it/s]\u001b[A\n",
      " 11%|███████▉                                                                  | 7610/71345 [00:00<00:05, 11867.87it/s]\u001b[A\n",
      " 12%|█████████▏                                                                | 8841/71345 [00:00<00:05, 11993.98it/s]\u001b[A\n",
      " 14%|██████████▎                                                              | 10106/71345 [00:00<00:05, 12196.84it/s]\u001b[A\n",
      " 16%|███████████▋                                                             | 11423/71345 [00:00<00:04, 12360.05it/s]\u001b[A\n",
      " 18%|████████████▉                                                            | 12661/71345 [00:01<00:04, 12232.45it/s]\u001b[A\n",
      " 19%|██████████████▏                                                          | 13886/71345 [00:01<00:04, 12176.81it/s]\u001b[A\n",
      " 21%|███████████████▌                                                         | 15164/71345 [00:01<00:04, 12349.14it/s]\u001b[A\n",
      " 23%|████████████████▊                                                        | 16400/71345 [00:01<00:04, 12338.50it/s]\u001b[A\n",
      " 25%|██████████████████▏                                                      | 17794/71345 [00:01<00:04, 12809.62it/s]\u001b[A\n",
      " 27%|███████████████████▌                                                     | 19082/71345 [00:01<00:04, 12803.25it/s]\u001b[A\n",
      " 29%|████████████████████▊                                                    | 20363/71345 [00:01<00:04, 12621.12it/s]\u001b[A\n",
      " 30%|██████████████████████▏                                                  | 21626/71345 [00:01<00:03, 12498.30it/s]\u001b[A\n"
     ]
    },
    {
     "name": "stderr",
     "output_type": "stream",
     "text": [
      " 32%|███████████████████████▍                                                 | 22921/71345 [00:01<00:03, 12617.79it/s]\u001b[A\n",
      " 34%|████████████████████████▉                                                | 24326/71345 [00:01<00:03, 13011.88it/s]\u001b[A\n",
      " 36%|██████████████████████████▎                                              | 25679/71345 [00:02<00:03, 13156.28it/s]\u001b[A\n",
      " 38%|███████████████████████████▌                                             | 26996/71345 [00:02<00:03, 12808.97it/s]\u001b[A\n",
      " 40%|████████████████████████████▉                                            | 28341/71345 [00:02<00:03, 12928.23it/s]\u001b[A\n",
      " 42%|██████████████████████████████▎                                          | 29636/71345 [00:02<00:03, 12897.04it/s]\u001b[A\n",
      " 43%|███████████████████████████████▋                                         | 30927/71345 [00:02<00:03, 12800.99it/s]\u001b[A\n",
      " 45%|████████████████████████████████▉                                        | 32214/71345 [00:02<00:03, 12694.28it/s]\u001b[A\n",
      " 47%|██████████████████████████████████▎                                      | 33485/71345 [00:02<00:02, 12640.61it/s]\u001b[A\n",
      " 49%|███████████████████████████████████▋                                     | 34883/71345 [00:02<00:02, 12879.20it/s]\u001b[A\n",
      " 51%|█████████████████████████████████████                                    | 36209/71345 [00:02<00:02, 12990.08it/s]\u001b[A\n",
      " 53%|██████████████████████████████████████▍                                  | 37524/71345 [00:02<00:02, 12944.38it/s]\u001b[A\n",
      " 54%|███████████████████████████████████████▋                                 | 38819/71345 [00:03<00:02, 12866.66it/s]\u001b[A\n",
      " 56%|█████████████████████████████████████████                                | 40139/71345 [00:03<00:02, 12934.67it/s]\u001b[A\n",
      " 58%|██████████████████████████████████████████▍                              | 41433/71345 [00:03<00:02, 12858.58it/s]\u001b[A\n",
      " 60%|███████████████████████████████████████████▋                             | 42719/71345 [00:03<00:02, 12832.35it/s]\u001b[A\n",
      " 62%|█████████████████████████████████████████████                            | 44003/71345 [00:03<00:02, 12824.47it/s]\u001b[A\n",
      " 63%|██████████████████████████████████████████████▎                          | 45286/71345 [00:03<00:02, 12471.09it/s]\u001b[A\n",
      " 65%|███████████████████████████████████████████████▌                         | 46536/71345 [00:03<00:02, 12355.36it/s]\u001b[A\n",
      " 67%|████████████████████████████████████████████████▉                        | 47773/71345 [00:03<00:01, 12241.18it/s]\u001b[A\n",
      " 69%|██████████████████████████████████████████████████▏                      | 49103/71345 [00:03<00:01, 12438.35it/s]\u001b[A\n",
      " 71%|███████████████████████████████████████████████████▌                     | 50352/71345 [00:03<00:01, 12428.78it/s]\u001b[A\n",
      " 72%|████████████████████████████████████████████████████▊                    | 51654/71345 [00:04<00:01, 12584.61it/s]\u001b[A\n",
      " 74%|██████████████████████████████████████████████████████▏                  | 52995/71345 [00:04<00:01, 12758.55it/s]\u001b[A\n",
      " 76%|███████████████████████████████████████████████████████▋                 | 54409/71345 [00:04<00:01, 13107.44it/s]\u001b[A\n",
      " 78%|█████████████████████████████████████████████████████████                | 55721/71345 [00:04<00:01, 12898.40it/s]\u001b[A\n",
      " 80%|██████████████████████████████████████████████████████████▍              | 57075/71345 [00:04<00:01, 12976.70it/s]\u001b[A\n",
      " 82%|███████████████████████████████████████████████████████████▋             | 58389/71345 [00:04<00:00, 13021.53it/s]\u001b[A\n",
      " 84%|█████████████████████████████████████████████████████████████▏           | 59782/71345 [00:04<00:00, 13252.27it/s]\u001b[A\n",
      " 86%|██████████████████████████████████████████████████████████████▌          | 61108/71345 [00:04<00:00, 13092.05it/s]\u001b[A\n",
      " 87%|███████████████████████████████████████████████████████████████▊         | 62418/71345 [00:04<00:00, 12905.28it/s]\u001b[A\n",
      " 89%|█████████████████████████████████████████████████████████████████▏       | 63718/71345 [00:05<00:00, 12919.83it/s]\u001b[A\n",
      " 91%|██████████████████████████████████████████████████████████████████▌      | 65011/71345 [00:05<00:00, 12749.78it/s]\u001b[A\n",
      " 93%|███████████████████████████████████████████████████████████████████▊     | 66287/71345 [00:05<00:00, 12722.33it/s]\u001b[A\n",
      " 95%|█████████████████████████████████████████████████████████████████████▏   | 67560/71345 [00:05<00:00, 12664.16it/s]\u001b[A\n",
      " 96%|██████████████████████████████████████████████████████████████████████▍  | 68839/71345 [00:05<00:00, 12660.90it/s]\u001b[A\n",
      "100%|█████████████████████████████████████████████████████████████████████████| 71345/71345 [00:05<00:00, 12650.49it/s]\u001b[A\n",
      " 15%|████████████▍                                                                      | 3/20 [00:17<01:36,  5.70s/it]\n",
      "  0%|                                                                                        | 0/71345 [00:00<?, ?it/s]\u001b[A\n",
      "  2%|█▍                                                                        | 1338/71345 [00:00<00:05, 12924.81it/s]\u001b[A\n",
      "  4%|██▋                                                                       | 2631/71345 [00:00<00:05, 11972.35it/s]\u001b[A\n",
      "  5%|████                                                                      | 3873/71345 [00:00<00:05, 12160.21it/s]\u001b[A\n",
      "  7%|█████▎                                                                    | 5125/71345 [00:00<00:05, 12207.05it/s]\u001b[A\n",
      "  9%|██████▌                                                                   | 6348/71345 [00:00<00:05, 12203.33it/s]\u001b[A\n",
      " 11%|███████▉                                                                  | 7645/71345 [00:00<00:05, 12441.17it/s]\u001b[A\n",
      " 13%|█████████▎                                                                | 8987/71345 [00:00<00:04, 12541.33it/s]\u001b[A\n",
      " 14%|██████████▍                                                              | 10242/71345 [00:00<00:04, 12532.79it/s]\u001b[A\n",
      " 16%|███████████▊                                                             | 11567/71345 [00:00<00:04, 12744.04it/s]\u001b[A\n",
      " 18%|█████████████▏                                                           | 12842/71345 [00:01<00:04, 12538.06it/s]\u001b[A\n",
      " 20%|██████████████▍                                                          | 14097/71345 [00:01<00:04, 12303.80it/s]\u001b[A\n",
      " 22%|███████████████▋                                                         | 15383/71345 [00:01<00:04, 12428.38it/s]\u001b[A\n",
      " 23%|█████████████████                                                        | 16689/71345 [00:01<00:04, 12554.89it/s]\u001b[A\n",
      " 25%|██████████████████▎                                                      | 17946/71345 [00:01<00:04, 12281.88it/s]\u001b[A\n",
      " 27%|███████████████████▋                                                     | 19252/71345 [00:01<00:04, 12495.30it/s]\u001b[A\n",
      " 29%|█████████████████████                                                    | 20575/71345 [00:01<00:03, 12694.28it/s]\u001b[A\n",
      " 31%|██████████████████████▍                                                  | 21886/71345 [00:01<00:03, 12713.52it/s]\u001b[A\n",
      " 32%|███████████████████████▋                                                 | 23159/71345 [00:01<00:03, 12346.32it/s]\u001b[A\n",
      " 34%|█████████████████████████                                                | 24449/71345 [00:01<00:03, 12471.07it/s]\u001b[A\n",
      " 36%|██████████████████████████▎                                              | 25699/71345 [00:02<00:03, 12467.43it/s]\u001b[A\n",
      " 38%|███████████████████████████▌                                             | 26963/71345 [00:02<00:03, 12509.07it/s]\u001b[A\n",
      " 40%|████████████████████████████▉                                            | 28309/71345 [00:02<00:03, 12649.49it/s]\u001b[A\n",
      " 41%|██████████████████████████████▎                                          | 29575/71345 [00:02<00:03, 12467.02it/s]\u001b[A\n",
      " 43%|███████████████████████████████▌                                         | 30877/71345 [00:02<00:03, 12557.96it/s]\u001b[A\n",
      " 45%|████████████████████████████████▉                                        | 32212/71345 [00:02<00:03, 12778.68it/s]\u001b[A\n",
      " 47%|██████████████████████████████████▎                                      | 33504/71345 [00:02<00:02, 12792.91it/s]\u001b[A\n",
      " 49%|███████████████████████████████████▌                                     | 34784/71345 [00:02<00:02, 12693.30it/s]\u001b[A\n"
     ]
    },
    {
     "name": "stderr",
     "output_type": "stream",
     "text": [
      " 51%|████████████████████████████████████▉                                    | 36143/71345 [00:02<00:02, 12859.87it/s]\u001b[A\n",
      " 52%|██████████████████████████████████████▎                                  | 37430/71345 [00:02<00:02, 12777.88it/s]\u001b[A\n",
      " 54%|███████████████████████████████████████▌                                 | 38708/71345 [00:03<00:02, 12566.83it/s]\u001b[A\n",
      " 56%|████████████████████████████████████████▉                                | 39973/71345 [00:03<00:02, 12465.80it/s]\u001b[A\n",
      " 58%|██████████████████████████████████████████▏                              | 41221/71345 [00:03<00:02, 12408.48it/s]\u001b[A\n",
      " 60%|███████████████████████████████████████████▍                             | 42463/71345 [00:03<00:02, 12285.93it/s]\u001b[A\n",
      " 61%|████████████████████████████████████████████▋                            | 43712/71345 [00:03<00:02, 12309.03it/s]\u001b[A\n",
      " 63%|██████████████████████████████████████████████                           | 44987/71345 [00:03<00:02, 12427.70it/s]\u001b[A\n",
      " 65%|███████████████████████████████████████████████▍                         | 46313/71345 [00:03<00:01, 12569.47it/s]\u001b[A\n",
      " 67%|████████████████████████████████████████████████▋                        | 47571/71345 [00:03<00:01, 12420.14it/s]\u001b[A\n",
      " 68%|█████████████████████████████████████████████████▉                       | 48814/71345 [00:03<00:01, 12111.26it/s]\u001b[A\n",
      " 70%|███████████████████████████████████████████████████▎                     | 50106/71345 [00:04<00:01, 12329.09it/s]\u001b[A\n",
      " 72%|████████████████████████████████████████████████████▌                    | 51341/71345 [00:04<00:01, 12060.91it/s]\u001b[A\n",
      " 74%|█████████████████████████████████████████████████████▊                   | 52549/71345 [00:04<00:01, 11876.32it/s]\u001b[A\n",
      " 75%|███████████████████████████████████████████████████████                  | 53778/71345 [00:04<00:01, 11990.02it/s]\u001b[A\n",
      " 77%|████████████████████████████████████████████████████████▎                | 54980/71345 [00:04<00:01, 11971.67it/s]\u001b[A\n",
      " 79%|█████████████████████████████████████████████████████████▌               | 56200/71345 [00:04<00:01, 11972.66it/s]\u001b[A\n",
      " 81%|██████████████████████████████████████████████████████████▊              | 57465/71345 [00:04<00:01, 12158.67it/s]\u001b[A\n",
      " 82%|████████████████████████████████████████████████████████████             | 58710/71345 [00:04<00:01, 12178.43it/s]\u001b[A\n",
      " 84%|█████████████████████████████████████████████████████████████▍           | 60081/71345 [00:04<00:00, 12476.21it/s]\u001b[A\n",
      " 86%|██████████████████████████████████████████████████████████████▊          | 61339/71345 [00:04<00:00, 12451.29it/s]\u001b[A\n",
      " 88%|████████████████████████████████████████████████████████████████         | 62585/71345 [00:05<00:00, 12266.94it/s]\u001b[A\n",
      " 89%|█████████████████████████████████████████████████████████████████▎       | 63812/71345 [00:05<00:00, 12234.01it/s]\u001b[A\n",
      " 91%|██████████████████████████████████████████████████████████████████▌      | 65036/71345 [00:05<00:00, 11833.37it/s]\u001b[A\n",
      " 93%|███████████████████████████████████████████████████████████████████▊     | 66286/71345 [00:05<00:00, 11930.89it/s]\u001b[A\n",
      " 95%|█████████████████████████████████████████████████████████████████████    | 67540/71345 [00:05<00:00, 12107.63it/s]\u001b[A\n",
      " 96%|██████████████████████████████████████████████████████████████████████▍  | 68793/71345 [00:05<00:00, 12231.26it/s]\u001b[A\n",
      " 98%|███████████████████████████████████████████████████████████████████████▋ | 70074/71345 [00:05<00:00, 12393.85it/s]\u001b[A\n",
      "100%|█████████████████████████████████████████████████████████████████████████| 71345/71345 [00:05<00:00, 12377.30it/s]\u001b[A\n",
      " 20%|████████████████▌                                                                  | 4/20 [00:22<01:31,  5.73s/it]\n",
      "  0%|                                                                                        | 0/71345 [00:00<?, ?it/s]\u001b[A\n",
      "  2%|█▎                                                                        | 1226/71345 [00:00<00:05, 12235.04it/s]\u001b[A\n",
      "  3%|██▌                                                                       | 2450/71345 [00:00<00:05, 12174.02it/s]\u001b[A\n",
      "  5%|███▊                                                                      | 3668/71345 [00:00<00:05, 11898.75it/s]\u001b[A\n",
      "  7%|█████                                                                     | 4885/71345 [00:00<00:05, 11958.99it/s]\u001b[A\n",
      "  9%|██████▍                                                                   | 6175/71345 [00:00<00:05, 12163.17it/s]\u001b[A\n",
      " 10%|███████▋                                                                  | 7392/71345 [00:00<00:05, 12130.28it/s]\u001b[A\n",
      " 12%|████████▉                                                                 | 8606/71345 [00:00<00:05, 12019.23it/s]\u001b[A\n",
      " 14%|██████████▏                                                               | 9809/71345 [00:00<00:05, 11916.95it/s]\u001b[A\n",
      " 15%|███████████▎                                                             | 11027/71345 [00:00<00:05, 11970.91it/s]\u001b[A\n",
      " 17%|████████████▌                                                            | 12225/71345 [00:01<00:05, 11343.13it/s]\u001b[A\n",
      " 19%|█████████████▊                                                           | 13496/71345 [00:01<00:04, 11731.31it/s]\u001b[A\n",
      " 21%|███████████████                                                          | 14676/71345 [00:01<00:04, 11584.05it/s]\u001b[A\n",
      " 22%|████████████████▏                                                        | 15839/71345 [00:01<00:04, 11453.67it/s]\u001b[A\n",
      " 24%|█████████████████▍                                                       | 16988/71345 [00:01<00:04, 11376.47it/s]\u001b[A\n",
      " 26%|██████████████████▋                                                      | 18251/71345 [00:01<00:04, 11697.85it/s]\u001b[A\n",
      " 27%|████████████████████                                                     | 19567/71345 [00:01<00:04, 12121.41it/s]\u001b[A\n",
      " 29%|█████████████████████▎                                                   | 20782/71345 [00:01<00:04, 11955.22it/s]\u001b[A\n",
      " 31%|██████████████████████▌                                                  | 22029/71345 [00:01<00:04, 12091.98it/s]\u001b[A\n",
      " 33%|███████████████████████▊                                                 | 23255/71345 [00:01<00:03, 12114.29it/s]\u001b[A\n",
      " 34%|█████████████████████████                                                | 24479/71345 [00:02<00:03, 12135.18it/s]\u001b[A\n",
      " 36%|██████████████████████████▎                                              | 25694/71345 [00:02<00:03, 11847.44it/s]\u001b[A\n",
      " 38%|███████████████████████████▌                                             | 26946/71345 [00:02<00:03, 12036.77it/s]\u001b[A\n",
      " 40%|████████████████████████████▉                                            | 28222/71345 [00:02<00:03, 12247.37it/s]\u001b[A\n",
      " 41%|██████████████████████████████▏                                          | 29489/71345 [00:02<00:03, 12252.41it/s]\u001b[A\n",
      " 43%|███████████████████████████████▍                                         | 30736/71345 [00:02<00:03, 12264.44it/s]\u001b[A\n",
      " 45%|████████████████████████████████▋                                        | 31987/71345 [00:02<00:03, 12316.79it/s]\u001b[A\n",
      " 47%|█████████████████████████████████▉                                       | 33220/71345 [00:02<00:03, 12161.76it/s]\u001b[A\n",
      " 48%|███████████████████████████████████▏                                     | 34437/71345 [00:02<00:03, 12037.69it/s]\u001b[A\n",
      " 50%|████████████████████████████████████▍                                    | 35642/71345 [00:02<00:03, 11754.92it/s]\u001b[A\n",
      " 52%|█████████████████████████████████████▋                                   | 36886/71345 [00:03<00:02, 11916.78it/s]\u001b[A\n",
      " 53%|███████████████████████████████████████                                  | 38121/71345 [00:03<00:02, 11944.86it/s]\u001b[A\n",
      " 55%|████████████████████████████████████████▏                                | 39317/71345 [00:03<00:02, 11735.61it/s]\u001b[A\n",
      " 57%|█████████████████████████████████████████▍                               | 40492/71345 [00:03<00:02, 11725.97it/s]\u001b[A\n",
      " 58%|██████████████████████████████████████████▋                              | 41666/71345 [00:03<00:02, 11512.04it/s]\u001b[A\n",
      " 60%|███████████████████████████████████████████▊                             | 42819/71345 [00:03<00:02, 11078.17it/s]\u001b[A\n"
     ]
    },
    {
     "name": "stderr",
     "output_type": "stream",
     "text": [
      " 62%|█████████████████████████████████████████████                            | 44078/71345 [00:03<00:02, 11476.43it/s]\u001b[A\n",
      " 63%|██████████████████████████████████████████████▎                          | 45230/71345 [00:03<00:02, 11261.81it/s]\u001b[A\n",
      " 65%|███████████████████████████████████████████████▍                         | 46360/71345 [00:03<00:02, 11186.29it/s]\u001b[A\n",
      " 67%|████████████████████████████████████████████████▌                        | 47481/71345 [00:04<00:02, 11013.09it/s]\u001b[A\n",
      " 68%|█████████████████████████████████████████████████▉                       | 48800/71345 [00:04<00:01, 11641.31it/s]\u001b[A\n",
      " 70%|███████████████████████████████████████████████████▏                     | 50013/71345 [00:04<00:01, 11764.54it/s]\u001b[A\n",
      " 72%|████████████████████████████████████████████████████▍                    | 51294/71345 [00:04<00:01, 12047.24it/s]\u001b[A\n",
      " 74%|█████████████████████████████████████████████████████▋                   | 52514/71345 [00:04<00:01, 12057.84it/s]\u001b[A\n",
      " 75%|██████████████████████████████████████████████████████▉                  | 53722/71345 [00:04<00:01, 11938.28it/s]\u001b[A\n",
      " 77%|████████████████████████████████████████████████████████▎                | 55010/71345 [00:04<00:01, 12152.72it/s]\u001b[A\n",
      " 79%|█████████████████████████████████████████████████████████▋               | 56338/71345 [00:04<00:01, 12410.58it/s]\u001b[A\n",
      " 81%|██████████████████████████████████████████████████████████▉              | 57580/71345 [00:04<00:01, 12348.79it/s]\u001b[A\n",
      " 83%|████████████████████████████████████████████████████████████▎            | 58934/71345 [00:04<00:00, 12609.73it/s]\u001b[A\n",
      " 85%|█████████████████████████████████████████████████████████████▋           | 60295/71345 [00:05<00:00, 12903.75it/s]\u001b[A\n",
      " 86%|███████████████████████████████████████████████████████████████          | 61624/71345 [00:05<00:00, 13009.16it/s]\u001b[A\n",
      " 88%|████████████████████████████████████████████████████████████████▍        | 62926/71345 [00:05<00:00, 12822.69it/s]\u001b[A\n",
      " 90%|█████████████████████████████████████████████████████████████████▋       | 64251/71345 [00:05<00:00, 12915.02it/s]\u001b[A\n",
      " 92%|███████████████████████████████████████████████████████████████████      | 65559/71345 [00:05<00:00, 12862.69it/s]\u001b[A\n",
      " 94%|████████████████████████████████████████████████████████████████████▍    | 66883/71345 [00:05<00:00, 12868.14it/s]\u001b[A\n",
      " 96%|█████████████████████████████████████████████████████████████████████▊   | 68200/71345 [00:05<00:00, 12936.57it/s]\u001b[A\n",
      " 97%|███████████████████████████████████████████████████████████████████████  | 69494/71345 [00:05<00:00, 12921.93it/s]\u001b[A\n",
      "100%|█████████████████████████████████████████████████████████████████████████| 71345/71345 [00:05<00:00, 12049.21it/s]\u001b[A\n",
      " 25%|████████████████████▊                                                              | 5/20 [00:28<01:27,  5.81s/it]\n",
      "  0%|                                                                                        | 0/71345 [00:00<?, ?it/s]\u001b[A\n",
      "  2%|█▎                                                                        | 1253/71345 [00:00<00:05, 12413.87it/s]\u001b[A\n",
      "  3%|██▌                                                                       | 2496/71345 [00:00<00:05, 12419.83it/s]\u001b[A\n",
      "  5%|███▉                                                                      | 3738/71345 [00:00<00:05, 12271.81it/s]\u001b[A\n",
      "  7%|█████▏                                                                    | 4966/71345 [00:00<00:05, 12158.73it/s]\u001b[A\n",
      "  9%|██████▍                                                                   | 6183/71345 [00:00<00:05, 12081.21it/s]\u001b[A\n",
      " 10%|███████▋                                                                  | 7393/71345 [00:00<00:05, 12019.55it/s]\u001b[A\n",
      " 12%|████████▉                                                                 | 8677/71345 [00:00<00:05, 12249.34it/s]\u001b[A\n",
      " 14%|██████████▎                                                               | 9955/71345 [00:00<00:04, 12363.38it/s]\u001b[A\n",
      " 16%|███████████▌                                                             | 11246/71345 [00:00<00:04, 12289.12it/s]\u001b[A\n",
      " 17%|████████████▊                                                            | 12476/71345 [00:01<00:04, 12132.18it/s]\u001b[A\n",
      " 19%|██████████████                                                           | 13690/71345 [00:01<00:04, 12118.07it/s]\u001b[A\n",
      " 21%|███████████████▎                                                         | 14923/71345 [00:01<00:04, 12142.56it/s]\u001b[A\n",
      " 23%|████████████████▌                                                        | 16148/71345 [00:01<00:04, 12147.63it/s]\u001b[A\n",
      " 24%|█████████████████▊                                                       | 17439/71345 [00:01<00:04, 12354.49it/s]\u001b[A\n",
      " 26%|███████████████████                                                      | 18675/71345 [00:01<00:04, 12335.05it/s]\u001b[A\n",
      " 28%|████████████████████▍                                                    | 19964/71345 [00:01<00:04, 12496.12it/s]\u001b[A\n",
      " 30%|█████████████████████▋                                                   | 21214/71345 [00:01<00:04, 12440.03it/s]\u001b[A\n",
      " 32%|███████████████████████                                                  | 22505/71345 [00:01<00:03, 12562.19it/s]\u001b[A\n",
      " 33%|████████████████████████▎                                                | 23793/71345 [00:01<00:03, 12643.87it/s]\u001b[A\n",
      " 35%|█████████████████████████▋                                               | 25058/71345 [00:02<00:03, 12569.19it/s]\u001b[A\n",
      " 37%|██████████████████████████▉                                              | 26316/71345 [00:02<00:03, 11977.71it/s]\u001b[A\n",
      " 39%|████████████████████████████▏                                            | 27527/71345 [00:02<00:03, 11970.17it/s]\u001b[A\n",
      " 40%|█████████████████████████████▌                                           | 28833/71345 [00:02<00:03, 12246.49it/s]\u001b[A\n",
      " 42%|██████████████████████████████▊                                          | 30062/71345 [00:02<00:03, 12256.90it/s]\u001b[A\n",
      " 44%|████████████████████████████████                                         | 31347/71345 [00:02<00:03, 12422.14it/s]\u001b[A\n",
      " 46%|█████████████████████████████████▍                                       | 32674/71345 [00:02<00:03, 12567.62it/s]\u001b[A\n",
      " 48%|██████████████████████████████████▋                                      | 33933/71345 [00:02<00:02, 12476.21it/s]\u001b[A\n",
      " 49%|███████████████████████████████████▉                                     | 35182/71345 [00:02<00:02, 12149.07it/s]\u001b[A\n",
      " 51%|█████████████████████████████████████▎                                   | 36466/71345 [00:02<00:02, 12267.38it/s]\u001b[A\n",
      " 53%|██████████████████████████████████████▊                                  | 37904/71345 [00:03<00:02, 12882.68it/s]\u001b[A\n",
      " 55%|████████████████████████████████████████                                 | 39195/71345 [00:03<00:02, 12724.05it/s]\u001b[A\n",
      " 57%|█████████████████████████████████████████▍                               | 40470/71345 [00:03<00:02, 12585.81it/s]\u001b[A\n",
      " 59%|██████████████████████████████████████████▋                              | 41768/71345 [00:03<00:02, 12684.52it/s]\u001b[A\n",
      " 60%|████████████████████████████████████████████▏                            | 43129/71345 [00:03<00:02, 12920.31it/s]\u001b[A\n",
      " 62%|█████████████████████████████████████████████▍                           | 44423/71345 [00:03<00:02, 12760.41it/s]\u001b[A\n",
      " 64%|██████████████████████████████████████████████▊                          | 45701/71345 [00:03<00:02, 12414.04it/s]\u001b[A\n",
      " 66%|████████████████████████████████████████████████                         | 46982/71345 [00:03<00:01, 12513.34it/s]\u001b[A\n",
      " 68%|█████████████████████████████████████████████████▎                       | 48236/71345 [00:03<00:01, 12423.35it/s]\u001b[A\n",
      " 69%|██████████████████████████████████████████████████▋                      | 49480/71345 [00:04<00:01, 12144.80it/s]\u001b[A\n",
      " 71%|███████████████████████████████████████████████████▉                     | 50758/71345 [00:04<00:01, 12306.75it/s]\u001b[A\n",
      " 73%|█████████████████████████████████████████████████████▏                   | 51991/71345 [00:04<00:01, 12237.48it/s]\u001b[A\n",
      " 75%|██████████████████████████████████████████████████████▍                  | 53216/71345 [00:04<00:01, 12178.84it/s]\u001b[A\n"
     ]
    },
    {
     "name": "stderr",
     "output_type": "stream",
     "text": [
      " 76%|███████████████████████████████████████████████████████▋                 | 54435/71345 [00:04<00:01, 11880.35it/s]\u001b[A\n",
      " 78%|████████████████████████████████████████████████████████▉                | 55625/71345 [00:04<00:01, 11829.47it/s]\u001b[A\n",
      " 80%|██████████████████████████████████████████████████████████▏              | 56824/71345 [00:04<00:01, 11864.26it/s]\u001b[A\n",
      " 81%|███████████████████████████████████████████████████████████▍             | 58060/71345 [00:04<00:01, 11978.61it/s]\u001b[A\n",
      " 83%|████████████████████████████████████████████████████████████▊            | 59382/71345 [00:04<00:00, 12319.00it/s]\u001b[A\n",
      " 85%|██████████████████████████████████████████████████████████████           | 60659/71345 [00:04<00:00, 12441.22it/s]\u001b[A\n",
      " 87%|███████████████████████████████████████████████████████████████▎         | 61904/71345 [00:05<00:00, 12425.10it/s]\u001b[A\n",
      " 89%|████████████████████████████████████████████████████████████████▋        | 63179/71345 [00:05<00:00, 12495.49it/s]\u001b[A\n",
      " 90%|█████████████████████████████████████████████████████████████████▉       | 64462/71345 [00:05<00:00, 12580.47it/s]\u001b[A\n",
      " 92%|███████████████████████████████████████████████████████████████████▏     | 65721/71345 [00:05<00:00, 12457.37it/s]\u001b[A\n",
      " 94%|████████████████████████████████████████████████████████████████████▌    | 66968/71345 [00:05<00:00, 11901.18it/s]\u001b[A\n",
      " 96%|█████████████████████████████████████████████████████████████████████▊   | 68264/71345 [00:05<00:00, 12189.91it/s]\u001b[A\n",
      " 98%|███████████████████████████████████████████████████████████████████████▎ | 69642/71345 [00:05<00:00, 12515.82it/s]\u001b[A\n",
      "100%|█████████████████████████████████████████████████████████████████████████| 71345/71345 [00:05<00:00, 12347.03it/s]\u001b[A\n",
      " 30%|████████████████████████▉                                                          | 6/20 [00:34<01:21,  5.80s/it]\n",
      "  0%|                                                                                        | 0/71345 [00:00<?, ?it/s]\u001b[A\n",
      "  2%|█▎                                                                        | 1273/71345 [00:00<00:05, 12412.07it/s]\u001b[A\n",
      "  4%|██▌                                                                       | 2515/71345 [00:00<00:05, 12071.31it/s]\u001b[A\n",
      "  5%|███▊                                                                      | 3723/71345 [00:00<00:05, 11720.91it/s]\u001b[A\n",
      "  7%|█████                                                                     | 4896/71345 [00:00<00:05, 11253.41it/s]\u001b[A\n",
      "  9%|██████▎                                                                   | 6085/71345 [00:00<00:05, 11471.41it/s]\u001b[A\n",
      " 10%|███████▌                                                                  | 7332/71345 [00:00<00:05, 11782.40it/s]\u001b[A\n",
      " 12%|████████▉                                                                 | 8598/71345 [00:00<00:05, 12049.49it/s]\u001b[A\n",
      " 14%|██████████▏                                                               | 9806/71345 [00:00<00:05, 11960.28it/s]\u001b[A\n",
      " 15%|███████████▎                                                             | 11004/71345 [00:00<00:05, 11748.77it/s]\u001b[A\n",
      " 17%|████████████▌                                                            | 12231/71345 [00:01<00:04, 11902.15it/s]\u001b[A\n",
      " 19%|█████████████▊                                                           | 13557/71345 [00:01<00:04, 12276.64it/s]\u001b[A\n",
      " 21%|███████████████▏                                                         | 14827/71345 [00:01<00:04, 12373.56it/s]\u001b[A\n",
      " 23%|████████████████▌                                                        | 16212/71345 [00:01<00:04, 12693.59it/s]\u001b[A\n",
      " 25%|█████████████████▉                                                       | 17482/71345 [00:01<00:04, 12689.57it/s]\u001b[A\n",
      " 26%|███████████████████▏                                                     | 18752/71345 [00:01<00:04, 12554.18it/s]\u001b[A\n",
      " 28%|████████████████████▍                                                    | 20010/71345 [00:01<00:04, 12540.30it/s]\u001b[A\n",
      " 30%|█████████████████████▊                                                   | 21283/71345 [00:01<00:03, 12520.33it/s]\u001b[A\n",
      " 32%|███████████████████████                                                  | 22549/71345 [00:01<00:03, 12404.07it/s]\u001b[A\n",
      " 33%|████████████████████████▍                                                | 23835/71345 [00:01<00:03, 12534.04it/s]\u001b[A\n",
      " 35%|█████████████████████████▋                                               | 25089/71345 [00:02<00:03, 12443.49it/s]\u001b[A\n",
      " 37%|██████████████████████████▉                                              | 26334/71345 [00:02<00:03, 12374.92it/s]\u001b[A\n",
      " 39%|████████████████████████████▏                                            | 27588/71345 [00:02<00:03, 12408.08it/s]\u001b[A\n",
      " 40%|█████████████████████████████▍                                           | 28830/71345 [00:02<00:03, 12261.12it/s]\u001b[A\n",
      " 42%|██████████████████████████████▊                                          | 30057/71345 [00:02<00:03, 12043.89it/s]\u001b[A\n",
      " 44%|████████████████████████████████                                         | 31325/71345 [00:02<00:03, 12075.34it/s]\u001b[A\n",
      " 46%|█████████████████████████████████▎                                       | 32589/71345 [00:02<00:03, 12114.43it/s]\u001b[A\n",
      " 48%|██████████████████████████████████▋                                      | 33891/71345 [00:02<00:03, 12263.89it/s]\u001b[A\n",
      " 49%|███████████████████████████████████▉                                     | 35118/71345 [00:02<00:02, 12151.41it/s]\u001b[A\n",
      " 51%|█████████████████████████████████████▏                                   | 36334/71345 [00:02<00:02, 12077.62it/s]\u001b[A\n",
      " 53%|██████████████████████████████████████▌                                  | 37664/71345 [00:03<00:02, 12347.83it/s]\u001b[A\n",
      " 55%|███████████████████████████████████████▊                                 | 38899/71345 [00:03<00:02, 12319.66it/s]\u001b[A\n",
      " 56%|█████████████████████████████████████████                                | 40140/71345 [00:03<00:02, 12332.84it/s]\u001b[A\n",
      " 58%|██████████████████████████████████████████▍                              | 41510/71345 [00:03<00:02, 12657.55it/s]\u001b[A\n",
      " 60%|███████████████████████████████████████████▊                             | 42776/71345 [00:03<00:02, 12381.47it/s]\u001b[A\n",
      " 62%|█████████████████████████████████████████████                            | 44016/71345 [00:03<00:02, 12199.84it/s]\u001b[A\n",
      " 63%|██████████████████████████████████████████████▎                          | 45237/71345 [00:03<00:02, 12154.50it/s]\u001b[A\n",
      " 65%|███████████████████████████████████████████████▌                         | 46467/71345 [00:03<00:02, 12098.03it/s]\u001b[A\n",
      " 67%|████████████████████████████████████████████████▊                        | 47705/71345 [00:03<00:01, 12161.97it/s]\u001b[A\n",
      " 69%|██████████████████████████████████████████████████                       | 48957/71345 [00:04<00:01, 12238.67it/s]\u001b[A\n",
      " 70%|███████████████████████████████████████████████████▍                     | 50225/71345 [00:04<00:01, 12368.91it/s]\u001b[A\n",
      " 72%|████████████████████████████████████████████████████▋                    | 51494/71345 [00:04<00:01, 12449.62it/s]\u001b[A\n",
      " 74%|█████████████████████████████████████████████████████▉                   | 52740/71345 [00:04<00:01, 12135.25it/s]\u001b[A\n",
      " 76%|███████████████████████████████████████████████████████▏                 | 53956/71345 [00:04<00:01, 11832.56it/s]\u001b[A\n",
      " 77%|█████████████████████████████████████████████████████████▏                | 55142/71345 [00:04<00:01, 9602.56it/s]\u001b[A\n",
      " 79%|██████████████████████████████████████████████████████████▎               | 56259/71345 [00:04<00:01, 9956.73it/s]\u001b[A\n",
      " 80%|██████████████████████████████████████████████████████████▋              | 57326/71345 [00:04<00:01, 10136.38it/s]\u001b[A\n",
      " 82%|███████████████████████████████████████████████████████████▋             | 58392/71345 [00:04<00:01, 10278.04it/s]\u001b[A\n",
      " 84%|████████████████████████████████████████████████████████████▉            | 59610/71345 [00:05<00:01, 10795.57it/s]\u001b[A\n",
      " 85%|██████████████████████████████████████████████████████████████▎          | 60855/71345 [00:05<00:00, 11268.02it/s]\u001b[A\n",
      " 87%|███████████████████████████████████████████████████████████████▍         | 62049/71345 [00:05<00:00, 11449.94it/s]\u001b[A\n"
     ]
    },
    {
     "name": "stderr",
     "output_type": "stream",
     "text": [
      " 89%|████████████████████████████████████████████████████████████████▊        | 63318/71345 [00:05<00:00, 11763.68it/s]\u001b[A\n",
      " 90%|██████████████████████████████████████████████████████████████████       | 64550/71345 [00:05<00:00, 11875.07it/s]\u001b[A\n",
      " 92%|███████████████████████████████████████████████████████████████████▎     | 65745/71345 [00:05<00:00, 11895.66it/s]\u001b[A\n",
      " 94%|████████████████████████████████████████████████████████████████████▌    | 66951/71345 [00:05<00:00, 11943.03it/s]\u001b[A\n",
      " 96%|█████████████████████████████████████████████████████████████████████▉   | 68312/71345 [00:05<00:00, 12366.47it/s]\u001b[A\n",
      " 98%|███████████████████████████████████████████████████████████████████████▏ | 69599/71345 [00:05<00:00, 12474.38it/s]\u001b[A\n",
      "100%|█████████████████████████████████████████████████████████████████████████| 71345/71345 [00:05<00:00, 11965.22it/s]\u001b[A\n",
      " 35%|█████████████████████████████                                                      | 7/20 [00:40<01:16,  5.86s/it]\n",
      "  0%|                                                                                        | 0/71345 [00:00<?, ?it/s]\u001b[A\n",
      "  1%|█                                                                           | 980/71345 [00:00<00:07, 9348.25it/s]\u001b[A\n",
      "  3%|██▎                                                                       | 2243/71345 [00:00<00:06, 11235.68it/s]\u001b[A\n",
      "  5%|███▌                                                                      | 3455/71345 [00:00<00:05, 11584.38it/s]\u001b[A\n",
      "  6%|████▊                                                                     | 4616/71345 [00:00<00:05, 11518.04it/s]\u001b[A\n",
      "  8%|██████▎                                                                   | 6028/71345 [00:00<00:05, 12230.33it/s]\u001b[A\n",
      " 10%|███████▌                                                                  | 7342/71345 [00:00<00:05, 12528.02it/s]\u001b[A\n",
      " 12%|█████████                                                                 | 8690/71345 [00:00<00:04, 12779.48it/s]\u001b[A\n",
      " 14%|██████████▎                                                               | 9984/71345 [00:00<00:04, 12823.89it/s]\u001b[A\n",
      " 16%|███████████▌                                                             | 11316/71345 [00:00<00:04, 12968.99it/s]\u001b[A\n",
      " 18%|████████████▉                                                            | 12614/71345 [00:01<00:04, 12789.75it/s]\u001b[A\n",
      " 19%|██████████████▏                                                          | 13894/71345 [00:01<00:04, 12604.86it/s]\u001b[A\n",
      " 21%|███████████████▌                                                         | 15156/71345 [00:01<00:04, 12397.44it/s]\u001b[A\n",
      " 23%|████████████████▊                                                        | 16397/71345 [00:01<00:04, 11682.55it/s]\u001b[A\n",
      " 25%|█████████████████▉                                                       | 17574/71345 [00:01<00:04, 11663.82it/s]\u001b[A\n",
      " 26%|███████████████████▏                                                     | 18773/71345 [00:01<00:04, 11741.16it/s]\u001b[A\n",
      " 28%|████████████████████▍                                                    | 19952/71345 [00:01<00:04, 11542.50it/s]\u001b[A\n",
      " 30%|█████████████████████▋                                                   | 21215/71345 [00:01<00:04, 11849.21it/s]\u001b[A\n",
      " 31%|██████████████████████▉                                                  | 22404/71345 [00:01<00:04, 11302.93it/s]\u001b[A\n",
      " 33%|████████████████████████                                                 | 23541/71345 [00:02<00:04, 10576.51it/s]\u001b[A\n",
      " 34%|█████████████████████████▌                                                | 24611/71345 [00:02<00:05, 8684.34it/s]\u001b[A\n",
      " 36%|██████████████████████████▍                                               | 25538/71345 [00:02<00:05, 8594.20it/s]\u001b[A\n",
      " 37%|███████████████████████████▍                                              | 26437/71345 [00:02<00:05, 8659.72it/s]\u001b[A\n",
      " 38%|████████████████████████████▎                                             | 27345/71345 [00:02<00:05, 8745.83it/s]\u001b[A\n",
      " 40%|█████████████████████████████▋                                            | 28606/71345 [00:02<00:04, 9768.23it/s]\u001b[A\n",
      " 42%|██████████████████████████████▋                                          | 29936/71345 [00:02<00:03, 10658.98it/s]\u001b[A\n",
      " 44%|███████████████████████████████▉                                         | 31189/71345 [00:02<00:03, 11132.05it/s]\u001b[A\n",
      " 45%|█████████████████████████████████▏                                       | 32376/71345 [00:02<00:03, 11337.91it/s]\u001b[A\n",
      " 47%|██████████████████████████████████▍                                      | 33681/71345 [00:03<00:03, 11826.41it/s]\u001b[A\n",
      " 49%|███████████████████████████████████▊                                     | 35012/71345 [00:03<00:02, 12248.93it/s]\u001b[A\n",
      " 51%|█████████████████████████████████████▏                                   | 36311/71345 [00:03<00:02, 12464.83it/s]\u001b[A\n",
      " 53%|██████████████████████████████████████▌                                  | 37631/71345 [00:03<00:02, 12644.47it/s]\u001b[A\n",
      " 55%|███████████████████████████████████████▊                                 | 38900/71345 [00:03<00:02, 12482.26it/s]\u001b[A\n",
      " 56%|█████████████████████████████████████████                                | 40152/71345 [00:03<00:02, 12470.65it/s]\u001b[A\n",
      " 58%|██████████████████████████████████████████▎                              | 41402/71345 [00:03<00:02, 12429.18it/s]\u001b[A\n",
      " 60%|███████████████████████████████████████████▋                             | 42647/71345 [00:03<00:02, 12402.32it/s]\u001b[A\n",
      " 62%|████████████████████████████████████████████▉                            | 43889/71345 [00:03<00:02, 12292.45it/s]\u001b[A\n",
      " 63%|██████████████████████████████████████████████▎                          | 45220/71345 [00:03<00:02, 12431.33it/s]\u001b[A\n",
      " 65%|███████████████████████████████████████████████▌                         | 46464/71345 [00:04<00:02, 12039.75it/s]\u001b[A\n",
      " 67%|████████████████████████████████████████████████▊                        | 47671/71345 [00:04<00:02, 11571.30it/s]\u001b[A\n",
      " 69%|██████████████████████████████████████████████████                       | 48899/71345 [00:04<00:01, 11605.58it/s]\u001b[A\n",
      " 70%|███████████████████████████████████████████████████▏                     | 50063/71345 [00:04<00:01, 11501.42it/s]\u001b[A\n",
      " 72%|████████████████████████████████████████████████████▍                    | 51216/71345 [00:04<00:01, 11507.05it/s]\u001b[A\n",
      " 73%|█████████████████████████████████████████████████████▌                   | 52369/71345 [00:04<00:01, 11209.45it/s]\u001b[A\n",
      " 75%|██████████████████████████████████████████████████████▉                  | 53702/71345 [00:04<00:01, 11815.90it/s]\u001b[A\n",
      " 77%|████████████████████████████████████████████████████████▎                | 55029/71345 [00:04<00:01, 12225.40it/s]\u001b[A\n",
      " 79%|█████████████████████████████████████████████████████████▌               | 56279/71345 [00:04<00:01, 12303.76it/s]\u001b[A\n",
      " 81%|██████████████████████████████████████████████████████████▉              | 57574/71345 [00:04<00:01, 12434.86it/s]\u001b[A\n",
      " 83%|████████████████████████████████████████████████████████████▎            | 58895/71345 [00:05<00:00, 12520.12it/s]\u001b[A\n",
      " 84%|█████████████████████████████████████████████████████████████▌           | 60149/71345 [00:05<00:00, 12462.15it/s]\u001b[A\n",
      " 86%|██████████████████████████████████████████████████████████████▊          | 61397/71345 [00:05<00:00, 12391.37it/s]\u001b[A\n",
      " 88%|████████████████████████████████████████████████████████████████         | 62637/71345 [00:05<00:00, 12122.05it/s]\u001b[A\n",
      " 90%|█████████████████████████████████████████████████████████████████▍       | 63907/71345 [00:05<00:00, 12238.93it/s]\u001b[A\n",
      " 91%|██████████████████████████████████████████████████████████████████▋      | 65133/71345 [00:05<00:00, 12204.76it/s]\u001b[A\n",
      " 93%|███████████████████████████████████████████████████████████████████▉     | 66392/71345 [00:05<00:00, 12311.39it/s]\u001b[A\n",
      " 95%|█████████████████████████████████████████████████████████████████████▏   | 67629/71345 [00:05<00:00, 12323.66it/s]\u001b[A\n",
      " 97%|██████████████████████████████████████████████████████████████████████▌  | 68919/71345 [00:05<00:00, 12409.16it/s]\u001b[A\n",
      "100%|█████████████████████████████████████████████████████████████████████████| 71345/71345 [00:06<00:00, 11734.88it/s]\u001b[A\n"
     ]
    },
    {
     "name": "stderr",
     "output_type": "stream",
     "text": [
      " 40%|█████████████████████████████████▏                                                 | 8/20 [00:46<01:11,  5.94s/it]\n",
      "  0%|                                                                                        | 0/71345 [00:00<?, ?it/s]\u001b[A\n",
      "  2%|█▍                                                                        | 1348/71345 [00:00<00:05, 13073.17it/s]\u001b[A\n",
      "  4%|██▊                                                                       | 2656/71345 [00:00<00:05, 12792.29it/s]\u001b[A\n",
      "  6%|████                                                                      | 3936/71345 [00:00<00:05, 12299.91it/s]\u001b[A\n",
      "  7%|█████▎                                                                    | 5168/71345 [00:00<00:05, 11813.82it/s]\u001b[A\n",
      "  9%|██████▌                                                                   | 6352/71345 [00:00<00:05, 11455.50it/s]\u001b[A\n",
      " 11%|███████▉                                                                  | 7641/71345 [00:00<00:05, 11902.89it/s]\u001b[A\n",
      " 12%|█████████▏                                                                | 8917/71345 [00:00<00:05, 12019.85it/s]\u001b[A\n",
      " 14%|██████████▍                                                              | 10178/71345 [00:00<00:05, 12183.33it/s]\u001b[A\n",
      " 16%|███████████▋                                                             | 11417/71345 [00:00<00:04, 12179.93it/s]\u001b[A\n",
      " 18%|█████████████                                                            | 12731/71345 [00:01<00:04, 12459.53it/s]\u001b[A\n",
      " 20%|██████████████▎                                                          | 13979/71345 [00:01<00:04, 12400.25it/s]\u001b[A\n",
      " 21%|███████████████▌                                                         | 15221/71345 [00:01<00:04, 12296.60it/s]\u001b[A\n",
      " 23%|████████████████▊                                                        | 16452/71345 [00:01<00:04, 12231.88it/s]\u001b[A\n",
      " 25%|██████████████████                                                       | 17694/71345 [00:01<00:04, 12251.11it/s]\u001b[A\n",
      " 27%|███████████████████▎                                                     | 18920/71345 [00:01<00:04, 12104.46it/s]\u001b[A\n",
      " 28%|████████████████████▋                                                    | 20240/71345 [00:01<00:04, 12381.55it/s]\u001b[A\n",
      " 30%|██████████████████████                                                   | 21523/71345 [00:01<00:04, 12444.02it/s]\u001b[A\n",
      " 32%|███████████████████████▎                                                 | 22768/71345 [00:01<00:03, 12339.86it/s]\u001b[A\n",
      " 34%|████████████████████████▌                                                | 24003/71345 [00:01<00:03, 12280.39it/s]\u001b[A\n",
      " 35%|█████████████████████████▊                                               | 25232/71345 [00:02<00:03, 12271.22it/s]\u001b[A\n",
      " 37%|███████████████████████████                                              | 26460/71345 [00:02<00:03, 12021.83it/s]\u001b[A\n",
      " 39%|████████████████████████████▍                                            | 27745/71345 [00:02<00:03, 12239.22it/s]\u001b[A\n",
      " 41%|█████████████████████████████▋                                           | 28986/71345 [00:02<00:03, 12281.51it/s]\u001b[A\n",
      " 43%|███████████████████████████████                                          | 30334/71345 [00:02<00:03, 12632.55it/s]\u001b[A\n",
      " 44%|████████████████████████████████▎                                        | 31599/71345 [00:02<00:03, 12610.51it/s]\u001b[A\n",
      " 46%|█████████████████████████████████▌                                       | 32861/71345 [00:02<00:03, 12362.05it/s]\u001b[A\n",
      " 48%|██████████████████████████████████▉                                      | 34192/71345 [00:02<00:02, 12592.33it/s]\u001b[A\n",
      " 50%|████████████████████████████████████▎                                    | 35453/71345 [00:02<00:02, 12454.48it/s]\u001b[A\n",
      " 51%|█████████████████████████████████████▌                                   | 36700/71345 [00:02<00:02, 12166.94it/s]\u001b[A\n",
      " 53%|██████████████████████████████████████▊                                  | 37935/71345 [00:03<00:02, 12165.10it/s]\u001b[A\n",
      " 55%|████████████████████████████████████████▏                                | 39225/71345 [00:03<00:02, 12355.33it/s]\u001b[A\n",
      " 57%|█████████████████████████████████████████▍                               | 40537/71345 [00:03<00:02, 12526.58it/s]\u001b[A\n",
      " 59%|██████████████████████████████████████████▊                              | 41791/71345 [00:03<00:02, 12514.31it/s]\u001b[A\n",
      " 60%|████████████████████████████████████████████                             | 43044/71345 [00:03<00:02, 12398.64it/s]\u001b[A\n",
      " 62%|█████████████████████████████████████████████▎                           | 44337/71345 [00:03<00:02, 12543.29it/s]\u001b[A\n",
      " 64%|██████████████████████████████████████████████▋                          | 45649/71345 [00:03<00:02, 12706.51it/s]\u001b[A\n",
      " 66%|████████████████████████████████████████████████                         | 46986/71345 [00:03<00:01, 12790.11it/s]\u001b[A\n",
      " 68%|█████████████████████████████████████████████████▍                       | 48266/71345 [00:03<00:01, 12600.83it/s]\u001b[A\n",
      " 69%|██████████████████████████████████████████████████▋                      | 49527/71345 [00:04<00:01, 12469.45it/s]\u001b[A\n",
      " 71%|███████████████████████████████████████████████████▉                     | 50791/71345 [00:04<00:01, 12509.48it/s]\u001b[A\n",
      " 73%|█████████████████████████████████████████████████████▎                   | 52143/71345 [00:04<00:01, 12776.82it/s]\u001b[A\n",
      " 75%|██████████████████████████████████████████████████████▋                  | 53422/71345 [00:04<00:01, 12652.27it/s]\u001b[A\n",
      " 77%|████████████████████████████████████████████████████████                 | 54775/71345 [00:04<00:01, 12787.52it/s]\u001b[A\n",
      " 79%|█████████████████████████████████████████████████████████▎               | 56070/71345 [00:04<00:01, 12778.53it/s]\u001b[A\n",
      " 81%|██████████████████████████████████████████████████████████▊              | 57497/71345 [00:04<00:01, 13161.54it/s]\u001b[A\n",
      " 82%|████████████████████████████████████████████████████████████▏            | 58814/71345 [00:04<00:00, 13032.86it/s]\u001b[A\n",
      " 84%|█████████████████████████████████████████████████████████████▌           | 60135/71345 [00:04<00:00, 13013.53it/s]\u001b[A\n",
      " 86%|██████████████████████████████████████████████████████████████▊          | 61437/71345 [00:04<00:00, 12999.80it/s]\u001b[A\n",
      " 88%|████████████████████████████████████████████████████████████████▏        | 62738/71345 [00:05<00:00, 12576.02it/s]\u001b[A\n",
      " 90%|█████████████████████████████████████████████████████████████████▌       | 64068/71345 [00:05<00:00, 12658.28it/s]\u001b[A\n",
      " 92%|██████████████████████████████████████████████████████████████████▊      | 65336/71345 [00:05<00:00, 12646.82it/s]\u001b[A\n",
      " 93%|████████████████████████████████████████████████████████████████████▏    | 66674/71345 [00:05<00:00, 12827.00it/s]\u001b[A\n",
      " 95%|█████████████████████████████████████████████████████████████████████▌   | 68002/71345 [00:05<00:00, 12879.96it/s]\u001b[A\n",
      " 97%|██████████████████████████████████████████████████████████████████████▉  | 69291/71345 [00:05<00:00, 12665.68it/s]\u001b[A\n",
      "100%|█████████████████████████████████████████████████████████████████████████| 71345/71345 [00:05<00:00, 12468.79it/s]\u001b[A\n",
      " 45%|█████████████████████████████████████▎                                             | 9/20 [00:52<01:04,  5.88s/it]\n",
      "  0%|                                                                                        | 0/71345 [00:00<?, ?it/s]\u001b[A\n",
      "  2%|█▍                                                                        | 1327/71345 [00:00<00:05, 13223.98it/s]\u001b[A\n",
      "  4%|██▋                                                                       | 2650/71345 [00:00<00:05, 13083.52it/s]\u001b[A\n",
      "  6%|████                                                                      | 3959/71345 [00:00<00:05, 12694.01it/s]\u001b[A\n",
      "  7%|█████▍                                                                    | 5264/71345 [00:00<00:05, 12813.18it/s]\u001b[A\n",
      "  9%|██████▊                                                                   | 6547/71345 [00:00<00:05, 12747.46it/s]\u001b[A\n",
      " 11%|████████▏                                                                 | 7836/71345 [00:00<00:04, 12732.89it/s]\u001b[A\n",
      " 13%|█████████▍                                                                | 9119/71345 [00:00<00:04, 12746.56it/s]\u001b[A\n"
     ]
    },
    {
     "name": "stderr",
     "output_type": "stream",
     "text": [
      " 15%|██████████▋                                                              | 10394/71345 [00:00<00:05, 12043.17it/s]\u001b[A\n",
      " 16%|███████████▉                                                             | 11670/71345 [00:00<00:04, 12215.98it/s]\u001b[A\n",
      " 18%|█████████████▎                                                           | 12966/71345 [00:01<00:04, 12415.36it/s]\u001b[A\n",
      " 20%|██████████████▋                                                          | 14295/71345 [00:01<00:04, 12652.26it/s]\u001b[A\n",
      " 22%|███████████████▉                                                         | 15564/71345 [00:01<00:04, 12564.79it/s]\u001b[A\n",
      " 24%|█████████████████▎                                                       | 16864/71345 [00:01<00:04, 12670.06it/s]\u001b[A\n",
      " 25%|██████████████████▌                                                      | 18149/71345 [00:01<00:04, 12718.66it/s]\u001b[A\n",
      " 27%|███████████████████▊                                                     | 19423/71345 [00:01<00:04, 12711.47it/s]\u001b[A\n",
      " 29%|█████████████████████▏                                                   | 20696/71345 [00:01<00:04, 12592.48it/s]\u001b[A\n",
      " 31%|██████████████████████▍                                                  | 21966/71345 [00:01<00:03, 12546.12it/s]\u001b[A\n",
      " 33%|███████████████████████▊                                                 | 23256/71345 [00:01<00:03, 12624.98it/s]\u001b[A\n",
      " 34%|█████████████████████████                                                | 24519/71345 [00:01<00:03, 12547.15it/s]\u001b[A\n",
      " 36%|██████████████████████████▎                                              | 25775/71345 [00:02<00:03, 12409.03it/s]\u001b[A\n",
      " 38%|███████████████████████████▋                                             | 27091/71345 [00:02<00:03, 12630.59it/s]\u001b[A\n",
      " 40%|█████████████████████████████                                            | 28355/71345 [00:02<00:03, 12621.67it/s]\u001b[A\n",
      " 42%|██████████████████████████████▍                                          | 29692/71345 [00:02<00:03, 12805.35it/s]\u001b[A\n",
      " 43%|███████████████████████████████▋                                         | 30973/71345 [00:02<00:03, 12743.28it/s]\u001b[A\n",
      " 45%|████████████████████████████████▉                                        | 32248/71345 [00:02<00:03, 12713.36it/s]\u001b[A\n",
      " 47%|██████████████████████████████████▍                                      | 33608/71345 [00:02<00:02, 12918.49it/s]\u001b[A\n",
      " 49%|███████████████████████████████████▋                                     | 34900/71345 [00:02<00:02, 12809.27it/s]\u001b[A\n",
      " 51%|█████████████████████████████████████                                    | 36182/71345 [00:02<00:02, 12717.38it/s]\u001b[A\n",
      " 53%|██████████████████████████████████████▍                                  | 37524/71345 [00:02<00:02, 12924.35it/s]\u001b[A\n",
      " 54%|███████████████████████████████████████▋                                 | 38838/71345 [00:03<00:02, 12937.11it/s]\u001b[A\n",
      " 56%|█████████████████████████████████████████                                | 40146/71345 [00:03<00:02, 12938.26it/s]\u001b[A\n",
      " 58%|██████████████████████████████████████████▍                              | 41441/71345 [00:03<00:02, 12826.13it/s]\u001b[A\n",
      " 60%|███████████████████████████████████████████▋                             | 42748/71345 [00:03<00:02, 12882.79it/s]\u001b[A\n",
      " 62%|█████████████████████████████████████████████                            | 44037/71345 [00:03<00:02, 12791.77it/s]\u001b[A\n",
      " 64%|██████████████████████████████████████████████▎                          | 45317/71345 [00:03<00:02, 12265.16it/s]\u001b[A\n",
      " 65%|███████████████████████████████████████████████▋                         | 46638/71345 [00:03<00:01, 12425.21it/s]\u001b[A\n",
      " 67%|█████████████████████████████████████████████████                        | 47911/71345 [00:03<00:01, 12500.50it/s]\u001b[A\n",
      " 69%|██████████████████████████████████████████████████▎                      | 49231/71345 [00:03<00:01, 12611.87it/s]\u001b[A\n",
      " 71%|███████████████████████████████████████████████████▋                     | 50495/71345 [00:03<00:01, 12571.96it/s]\u001b[A\n",
      " 73%|████████████████████████████████████████████████████▉                    | 51754/71345 [00:04<00:01, 12154.13it/s]\u001b[A\n",
      " 74%|██████████████████████████████████████████████████████▎                  | 53057/71345 [00:04<00:01, 12371.02it/s]\u001b[A\n",
      " 76%|███████████████████████████████████████████████████████▌                 | 54298/71345 [00:04<00:01, 12381.61it/s]\u001b[A\n",
      " 78%|████████████████████████████████████████████████████████▊                | 55577/71345 [00:04<00:01, 12464.77it/s]\u001b[A\n",
      " 80%|██████████████████████████████████████████████████████████▏              | 56826/71345 [00:04<00:01, 12140.01it/s]\u001b[A\n",
      " 81%|███████████████████████████████████████████████████████████▍             | 58043/71345 [00:04<00:01, 12094.39it/s]\u001b[A\n",
      " 83%|████████████████████████████████████████████████████████████▋            | 59258/71345 [00:04<00:00, 12108.09it/s]\u001b[A\n",
      " 85%|█████████████████████████████████████████████████████████████▉           | 60496/71345 [00:04<00:00, 12173.13it/s]\u001b[A\n",
      " 87%|███████████████████████████████████████████████████████████████▎         | 61857/71345 [00:04<00:00, 12578.90it/s]\u001b[A\n",
      " 88%|████████████████████████████████████████████████████████████████▌        | 63116/71345 [00:05<00:00, 12321.39it/s]\u001b[A\n",
      " 90%|█████████████████████████████████████████████████████████████████▊       | 64350/71345 [00:05<00:00, 12261.94it/s]\u001b[A\n",
      " 92%|███████████████████████████████████████████████████████████████████      | 65596/71345 [00:05<00:00, 12298.63it/s]\u001b[A\n",
      " 94%|████████████████████████████████████████████████████████████████████▍    | 66908/71345 [00:05<00:00, 12514.74it/s]\u001b[A\n",
      " 96%|█████████████████████████████████████████████████████████████████████▊   | 68181/71345 [00:05<00:00, 12563.19it/s]\u001b[A\n",
      " 97%|███████████████████████████████████████████████████████████████████████  | 69438/71345 [00:05<00:00, 12292.11it/s]\u001b[A\n",
      "100%|█████████████████████████████████████████████████████████████████████████| 71345/71345 [00:05<00:00, 12511.82it/s]\u001b[A\n",
      " 50%|█████████████████████████████████████████                                         | 10/20 [00:58<00:58,  5.83s/it]\n",
      "  0%|                                                                                        | 0/71345 [00:00<?, ?it/s]\u001b[A\n",
      "  2%|█▎                                                                        | 1310/71345 [00:00<00:05, 12904.43it/s]\u001b[A\n",
      "  4%|██▊                                                                       | 2660/71345 [00:00<00:05, 13231.39it/s]\u001b[A\n",
      "  6%|████▏                                                                     | 4010/71345 [00:00<00:05, 13273.61it/s]\u001b[A\n",
      "  8%|█████▌                                                                    | 5382/71345 [00:00<00:04, 13306.63it/s]\u001b[A\n",
      "  9%|██████▉                                                                   | 6713/71345 [00:00<00:04, 13102.97it/s]\u001b[A\n",
      " 11%|████████▎                                                                 | 8030/71345 [00:00<00:04, 13086.97it/s]\u001b[A\n",
      " 13%|█████████▊                                                                | 9409/71345 [00:00<00:04, 13194.44it/s]\u001b[A\n",
      " 15%|██████████▉                                                              | 10729/71345 [00:00<00:04, 12835.85it/s]\u001b[A\n",
      " 17%|████████████▎                                                            | 12036/71345 [00:00<00:04, 12871.34it/s]\u001b[A\n",
      " 19%|█████████████▋                                                           | 13325/71345 [00:01<00:04, 12643.49it/s]\u001b[A\n",
      " 20%|██████████████▉                                                          | 14591/71345 [00:01<00:04, 12545.41it/s]\u001b[A\n",
      " 22%|████████████████▎                                                        | 15900/71345 [00:01<00:04, 12608.27it/s]\u001b[A\n",
      " 24%|█████████████████▋                                                       | 17272/71345 [00:01<00:04, 12889.07it/s]\u001b[A\n",
      " 26%|███████████████████                                                      | 18639/71345 [00:01<00:04, 13088.90it/s]\u001b[A\n",
      " 28%|████████████████████▌                                                    | 20059/71345 [00:01<00:03, 13263.32it/s]\u001b[A\n",
      " 30%|█████████████████████▉                                                   | 21386/71345 [00:01<00:03, 13171.43it/s]\u001b[A\n"
     ]
    },
    {
     "name": "stderr",
     "output_type": "stream",
     "text": [
      " 32%|███████████████████████▏                                                 | 22704/71345 [00:01<00:03, 12891.89it/s]\u001b[A\n",
      " 34%|████████████████████████▌                                                | 23995/71345 [00:01<00:03, 12659.00it/s]\u001b[A\n",
      " 36%|█████████████████████████▉                                               | 25352/71345 [00:01<00:03, 12873.23it/s]\u001b[A\n",
      " 37%|███████████████████████████▎                                             | 26641/71345 [00:02<00:03, 12777.98it/s]\u001b[A\n",
      " 39%|████████████████████████████▌                                            | 27921/71345 [00:02<00:03, 12767.04it/s]\u001b[A\n",
      " 41%|█████████████████████████████▉                                           | 29313/71345 [00:02<00:03, 13035.36it/s]\u001b[A\n",
      " 43%|███████████████████████████████▎                                         | 30660/71345 [00:02<00:03, 13059.25it/s]\u001b[A\n",
      " 45%|████████████████████████████████▋                                        | 31967/71345 [00:02<00:03, 12814.12it/s]\u001b[A\n",
      " 47%|██████████████████████████████████                                       | 33250/71345 [00:02<00:02, 12709.59it/s]\u001b[A\n",
      " 49%|███████████████████████████████████▍                                     | 34623/71345 [00:02<00:02, 12974.63it/s]\u001b[A\n",
      " 50%|████████████████████████████████████▊                                    | 35922/71345 [00:02<00:02, 12951.32it/s]\u001b[A\n",
      " 52%|██████████████████████████████████████▏                                  | 37277/71345 [00:02<00:02, 13122.76it/s]\u001b[A\n",
      " 54%|███████████████████████████████████████▍                                 | 38590/71345 [00:02<00:02, 13004.17it/s]\u001b[A\n",
      " 56%|████████████████████████████████████████▊                                | 39894/71345 [00:03<00:02, 13009.59it/s]\u001b[A\n",
      " 58%|██████████████████████████████████████████▏                              | 41196/71345 [00:03<00:02, 12917.67it/s]\u001b[A\n",
      " 60%|███████████████████████████████████████████▌                             | 42516/71345 [00:03<00:02, 12850.32it/s]\u001b[A\n",
      " 62%|████████████████████████████████████████████▉                            | 43965/71345 [00:03<00:02, 13228.30it/s]\u001b[A\n",
      " 63%|██████████████████████████████████████████████▎                          | 45297/71345 [00:03<00:01, 13255.03it/s]\u001b[A\n",
      " 65%|███████████████████████████████████████████████▊                         | 46691/71345 [00:03<00:01, 13366.34it/s]\u001b[A\n",
      " 67%|█████████████████████████████████████████████████▏                       | 48028/71345 [00:03<00:01, 13340.34it/s]\u001b[A\n",
      " 69%|██████████████████████████████████████████████████▌                      | 49370/71345 [00:03<00:01, 13245.60it/s]\u001b[A\n",
      " 71%|███████████████████████████████████████████████████▊                     | 50695/71345 [00:03<00:01, 12993.29it/s]\u001b[A\n",
      " 73%|█████████████████████████████████████████████████████▏                   | 51996/71345 [00:04<00:01, 12649.98it/s]\u001b[A\n",
      " 75%|██████████████████████████████████████████████████████▌                  | 53345/71345 [00:04<00:01, 12882.14it/s]\u001b[A\n",
      " 77%|███████████████████████████████████████████████████████▉                 | 54636/71345 [00:04<00:01, 12837.97it/s]\u001b[A\n",
      " 78%|█████████████████████████████████████████████████████████▎               | 55960/71345 [00:04<00:01, 12851.24it/s]\u001b[A\n",
      " 80%|██████████████████████████████████████████████████████████▋              | 57380/71345 [00:04<00:01, 13232.63it/s]\u001b[A\n",
      " 82%|████████████████████████████████████████████████████████████             | 58705/71345 [00:04<00:00, 12972.73it/s]\u001b[A\n",
      " 84%|█████████████████████████████████████████████████████████████▌           | 60152/71345 [00:04<00:00, 13410.05it/s]\u001b[A\n",
      " 86%|██████████████████████████████████████████████████████████████▉          | 61496/71345 [00:04<00:00, 13369.10it/s]\u001b[A\n",
      " 88%|████████████████████████████████████████████████████████████████▎        | 62835/71345 [00:04<00:00, 13172.93it/s]\u001b[A\n",
      " 90%|█████████████████████████████████████████████████████████████████▋       | 64154/71345 [00:04<00:00, 12920.76it/s]\u001b[A\n",
      " 92%|██████████████████████████████████████████████████████████████████▉      | 65448/71345 [00:05<00:00, 12280.40it/s]\u001b[A\n",
      " 94%|████████████████████████████████████████████████████████████████████▎    | 66729/71345 [00:05<00:00, 12355.83it/s]\u001b[A\n",
      " 95%|█████████████████████████████████████████████████████████████████████▌   | 67970/71345 [00:05<00:00, 12324.67it/s]\u001b[A\n",
      " 97%|██████████████████████████████████████████████████████████████████████▉  | 69290/71345 [00:05<00:00, 12560.42it/s]\u001b[A\n",
      "100%|█████████████████████████████████████████████████████████████████████████| 71345/71345 [00:05<00:00, 12914.88it/s]\u001b[A\n",
      " 55%|█████████████████████████████████████████████                                     | 11/20 [01:03<00:51,  5.74s/it]\n",
      "  0%|                                                                                        | 0/71345 [00:00<?, ?it/s]\u001b[A\n",
      "  2%|█▎                                                                        | 1314/71345 [00:00<00:05, 12727.95it/s]\u001b[A\n",
      "  4%|██▋                                                                       | 2636/71345 [00:00<00:05, 12698.21it/s]\u001b[A\n",
      "  5%|████                                                                      | 3906/71345 [00:00<00:05, 12301.10it/s]\u001b[A\n",
      "  7%|█████▎                                                                    | 5137/71345 [00:00<00:05, 12228.32it/s]\u001b[A\n",
      "  9%|██████▌                                                                   | 6361/71345 [00:00<00:05, 12144.95it/s]\u001b[A\n",
      " 11%|████████                                                                  | 7791/71345 [00:00<00:04, 12756.76it/s]\u001b[A\n",
      " 13%|█████████▍                                                                | 9107/71345 [00:00<00:04, 12871.82it/s]\u001b[A\n",
      " 15%|██████████▋                                                              | 10458/71345 [00:00<00:04, 13061.93it/s]\u001b[A\n",
      " 17%|████████████                                                             | 11791/71345 [00:00<00:04, 13125.03it/s]\u001b[A\n",
      " 18%|█████████████▍                                                           | 13104/71345 [00:01<00:04, 13077.70it/s]\u001b[A\n",
      " 20%|██████████████▋                                                          | 14413/71345 [00:01<00:04, 12952.53it/s]\u001b[A\n",
      " 22%|████████████████                                                         | 15709/71345 [00:01<00:04, 12814.04it/s]\u001b[A\n",
      " 24%|█████████████████▍                                                       | 17097/71345 [00:01<00:04, 13111.21it/s]\u001b[A\n",
      " 26%|██████████████████▉                                                      | 18534/71345 [00:01<00:03, 13412.21it/s]\u001b[A\n",
      " 28%|████████████████████▎                                                    | 19876/71345 [00:01<00:03, 13287.49it/s]\u001b[A\n",
      " 30%|█████████████████████▊                                                   | 21262/71345 [00:01<00:03, 13412.84it/s]\u001b[A\n",
      " 32%|███████████████████████▏                                                 | 22604/71345 [00:01<00:03, 13170.84it/s]\u001b[A\n",
      " 34%|████████████████████████▍                                                | 23923/71345 [00:01<00:03, 13142.44it/s]\u001b[A\n",
      " 35%|█████████████████████████▉                                               | 25321/71345 [00:01<00:03, 13375.13it/s]\u001b[A\n",
      " 37%|███████████████████████████▎                                             | 26660/71345 [00:02<00:03, 13166.95it/s]\u001b[A\n",
      " 39%|████████████████████████████▋                                            | 27978/71345 [00:02<00:03, 13050.30it/s]\u001b[A\n",
      " 41%|█████████████████████████████▉                                           | 29284/71345 [00:02<00:03, 12951.81it/s]\u001b[A\n",
      " 43%|███████████████████████████████▎                                         | 30580/71345 [00:02<00:03, 12879.46it/s]\u001b[A\n",
      " 45%|████████████████████████████████▌                                        | 31869/71345 [00:02<00:03, 12599.46it/s]\u001b[A\n",
      " 47%|█████████████████████████████████▉                                       | 33186/71345 [00:02<00:02, 12760.98it/s]\u001b[A\n",
      " 48%|███████████████████████████████████▎                                     | 34510/71345 [00:02<00:02, 12862.52it/s]\u001b[A\n",
      " 50%|████████████████████████████████████▋                                    | 35798/71345 [00:02<00:02, 12324.31it/s]\u001b[A\n"
     ]
    },
    {
     "name": "stderr",
     "output_type": "stream",
     "text": [
      " 52%|█████████████████████████████████████▉                                   | 37036/71345 [00:02<00:02, 12054.19it/s]\u001b[A\n",
      " 54%|███████████████████████████████████████▎                                 | 38432/71345 [00:02<00:02, 12585.69it/s]\u001b[A\n",
      " 56%|████████████████████████████████████████▌                                | 39696/71345 [00:03<00:02, 12573.88it/s]\u001b[A\n",
      " 58%|█████████████████████████████████████████▉                               | 41024/71345 [00:03<00:02, 12633.43it/s]\u001b[A\n",
      " 59%|███████████████████████████████████████████▍                             | 42418/71345 [00:03<00:02, 13009.01it/s]\u001b[A\n",
      " 61%|████████████████████████████████████████████▊                            | 43756/71345 [00:03<00:02, 13078.13it/s]\u001b[A\n",
      " 63%|██████████████████████████████████████████████                           | 45078/71345 [00:03<00:02, 13105.17it/s]\u001b[A\n",
      " 65%|███████████████████████████████████████████████▍                         | 46390/71345 [00:03<00:01, 13063.15it/s]\u001b[A\n",
      " 67%|████████████████████████████████████████████████▊                        | 47698/71345 [00:03<00:01, 12532.20it/s]\u001b[A\n",
      " 69%|██████████████████████████████████████████████████▏                      | 49034/71345 [00:03<00:01, 12748.39it/s]\u001b[A\n",
      " 71%|███████████████████████████████████████████████████▍                     | 50313/71345 [00:03<00:01, 12646.22it/s]\u001b[A\n",
      " 72%|████████████████████████████████████████████████████▊                    | 51651/71345 [00:04<00:01, 12821.54it/s]\u001b[A\n",
      " 74%|██████████████████████████████████████████████████████▏                  | 52936/71345 [00:04<00:01, 12614.77it/s]\u001b[A\n",
      " 76%|███████████████████████████████████████████████████████▍                 | 54200/71345 [00:04<00:01, 12615.05it/s]\u001b[A\n",
      " 78%|████████████████████████████████████████████████████████▊                | 55523/71345 [00:04<00:01, 12791.35it/s]\u001b[A\n",
      " 80%|██████████████████████████████████████████████████████████▏              | 56812/71345 [00:04<00:01, 12789.94it/s]\u001b[A\n",
      " 81%|███████████████████████████████████████████████████████████▍             | 58108/71345 [00:04<00:01, 12825.56it/s]\u001b[A\n",
      " 83%|████████████████████████████████████████████████████████████▊            | 59392/71345 [00:04<00:00, 12811.63it/s]\u001b[A\n",
      " 85%|██████████████████████████████████████████████████████████████▏          | 60748/71345 [00:04<00:00, 13022.77it/s]\u001b[A\n",
      " 87%|███████████████████████████████████████████████████████████████▌         | 62076/71345 [00:04<00:00, 12983.30it/s]\u001b[A\n",
      " 89%|████████████████████████████████████████████████████████████████▊        | 63375/71345 [00:04<00:00, 12738.07it/s]\u001b[A\n",
      " 91%|██████████████████████████████████████████████████████████████████▏      | 64679/71345 [00:05<00:00, 12808.40it/s]\u001b[A\n",
      " 92%|███████████████████████████████████████████████████████████████████▍     | 65961/71345 [00:05<00:00, 12199.81it/s]\u001b[A\n",
      " 94%|████████████████████████████████████████████████████████████████████▊    | 67216/71345 [00:05<00:00, 12250.66it/s]\u001b[A\n",
      " 96%|██████████████████████████████████████████████████████████████████████   | 68496/71345 [00:05<00:00, 12341.97it/s]\u001b[A\n",
      " 98%|███████████████████████████████████████████████████████████████████████▎ | 69747/71345 [00:05<00:00, 12375.81it/s]\u001b[A\n",
      "100%|█████████████████████████████████████████████████████████████████████████| 71345/71345 [00:05<00:00, 12770.41it/s]\u001b[A\n",
      " 60%|█████████████████████████████████████████████████▏                                | 12/20 [01:09<00:45,  5.70s/it]\n",
      "  0%|                                                                                        | 0/71345 [00:00<?, ?it/s]\u001b[A\n",
      "  2%|█▍                                                                        | 1420/71345 [00:00<00:04, 14061.89it/s]\u001b[A\n",
      "  4%|██▉                                                                       | 2827/71345 [00:00<00:05, 13139.68it/s]\u001b[A\n",
      "  6%|████▎                                                                     | 4145/71345 [00:00<00:05, 12847.41it/s]\u001b[A\n",
      "  8%|█████▋                                                                    | 5432/71345 [00:00<00:05, 12725.42it/s]\u001b[A\n",
      "  9%|██████▉                                                                   | 6717/71345 [00:00<00:05, 12752.74it/s]\u001b[A\n",
      " 11%|████████▍                                                                 | 8175/71345 [00:00<00:04, 13145.93it/s]\u001b[A\n",
      " 13%|█████████▊                                                                | 9490/71345 [00:00<00:04, 12533.08it/s]\u001b[A\n",
      " 15%|██████████▉                                                              | 10748/71345 [00:00<00:04, 12406.46it/s]\u001b[A\n",
      " 17%|████████████▎                                                            | 12044/71345 [00:00<00:04, 12435.56it/s]\u001b[A\n",
      " 19%|█████████████▌                                                           | 13296/71345 [00:01<00:04, 12398.22it/s]\u001b[A\n",
      " 20%|██████████████▉                                                          | 14572/71345 [00:01<00:04, 12500.54it/s]\u001b[A\n",
      " 22%|████████████████▍                                                        | 16004/71345 [00:01<00:04, 13024.48it/s]\u001b[A\n",
      " 24%|█████████████████▋                                                       | 17309/71345 [00:01<00:04, 12887.47it/s]\u001b[A\n",
      " 26%|███████████████████                                                      | 18600/71345 [00:01<00:04, 12881.52it/s]\u001b[A\n",
      " 28%|████████████████████▎                                                    | 19890/71345 [00:01<00:04, 12829.50it/s]\u001b[A\n",
      " 30%|█████████████████████▋                                                   | 21174/71345 [00:01<00:03, 12752.99it/s]\u001b[A\n",
      " 32%|███████████████████████                                                  | 22571/71345 [00:01<00:03, 12969.13it/s]\u001b[A\n",
      " 34%|████████████████████████▍                                                | 23934/71345 [00:01<00:03, 13103.68it/s]\u001b[A\n",
      " 35%|█████████████████████████▊                                               | 25254/71345 [00:01<00:03, 13096.20it/s]\u001b[A\n",
      " 37%|███████████████████████████▏                                             | 26564/71345 [00:02<00:03, 12984.96it/s]\u001b[A\n",
      " 39%|████████████████████████████▌                                            | 27863/71345 [00:02<00:03, 12797.56it/s]\u001b[A\n",
      " 41%|█████████████████████████████▊                                           | 29183/71345 [00:02<00:03, 12898.10it/s]\u001b[A\n",
      " 43%|███████████████████████████████▏                                         | 30474/71345 [00:02<00:03, 12900.10it/s]\u001b[A\n",
      " 45%|████████████████████████████████▌                                        | 31765/71345 [00:02<00:03, 12703.50it/s]\u001b[A\n",
      " 46%|█████████████████████████████████▊                                       | 33037/71345 [00:02<00:03, 12610.91it/s]\u001b[A\n",
      " 48%|███████████████████████████████████▏                                     | 34337/71345 [00:02<00:02, 12722.38it/s]\u001b[A\n",
      " 50%|████████████████████████████████████▍                                    | 35640/71345 [00:02<00:02, 12801.00it/s]\u001b[A\n",
      " 52%|█████████████████████████████████████▊                                   | 36954/71345 [00:02<00:02, 12865.03it/s]\u001b[A\n",
      " 54%|███████████████████████████████████████▏                                 | 38257/71345 [00:02<00:02, 12875.09it/s]\u001b[A\n",
      " 55%|████████████████████████████████████████▍                                | 39545/71345 [00:03<00:02, 12684.46it/s]\u001b[A\n",
      " 57%|█████████████████████████████████████████▊                               | 40910/71345 [00:03<00:02, 12944.73it/s]\u001b[A\n",
      " 59%|███████████████████████████████████████████▏                             | 42206/71345 [00:03<00:02, 11743.92it/s]\u001b[A\n",
      " 61%|████████████████████████████████████████████▍                            | 43402/71345 [00:03<00:02, 11784.74it/s]\u001b[A\n",
      " 63%|█████████████████████████████████████████████▋                           | 44675/71345 [00:03<00:02, 11959.99it/s]\u001b[A\n",
      " 64%|██████████████████████████████████████████████▉                          | 45885/71345 [00:03<00:02, 11994.27it/s]\u001b[A\n",
      " 66%|████████████████████████████████████████████████▎                        | 47157/71345 [00:03<00:01, 12132.33it/s]\u001b[A\n",
      " 68%|█████████████████████████████████████████████████▍                       | 48377/71345 [00:03<00:01, 12117.96it/s]\u001b[A\n"
     ]
    },
    {
     "name": "stderr",
     "output_type": "stream",
     "text": [
      " 70%|██████████████████████████████████████████████████▊                      | 49658/71345 [00:03<00:01, 12304.81it/s]\u001b[A\n",
      " 71%|████████████████████████████████████████████████████                     | 50925/71345 [00:04<00:01, 12345.63it/s]\u001b[A\n",
      " 73%|█████████████████████████████████████████████████████▍                   | 52217/71345 [00:04<00:01, 12503.64it/s]\u001b[A\n",
      " 75%|██████████████████████████████████████████████████████▋                  | 53470/71345 [00:04<00:01, 12360.93it/s]\u001b[A\n",
      " 77%|███████████████████████████████████████████████████████▉                 | 54708/71345 [00:04<00:01, 12286.87it/s]\u001b[A\n",
      " 78%|█████████████████████████████████████████████████████████▏               | 55945/71345 [00:04<00:01, 12258.73it/s]\u001b[A\n",
      " 80%|██████████████████████████████████████████████████████████▌              | 57200/71345 [00:04<00:01, 12323.23it/s]\u001b[A\n",
      " 82%|███████████████████████████████████████████████████████████▉             | 58605/71345 [00:04<00:01, 12596.87it/s]\u001b[A\n",
      " 84%|█████████████████████████████████████████████████████████████▎           | 59865/71345 [00:04<00:00, 12591.90it/s]\u001b[A\n",
      " 86%|██████████████████████████████████████████████████████████████▌          | 61124/71345 [00:04<00:00, 12552.52it/s]\u001b[A\n",
      " 87%|███████████████████████████████████████████████████████████████▊         | 62379/71345 [00:04<00:00, 12369.56it/s]\u001b[A\n",
      " 89%|█████████████████████████████████████████████████████████████████▏       | 63693/71345 [00:05<00:00, 12453.35it/s]\u001b[A\n",
      " 91%|██████████████████████████████████████████████████████████████████▍      | 64939/71345 [00:05<00:00, 12172.59it/s]\u001b[A\n",
      " 93%|███████████████████████████████████████████████████████████████████▋     | 66158/71345 [00:05<00:00, 11751.70it/s]\u001b[A\n",
      " 94%|████████████████████████████████████████████████████████████████████▉    | 67336/71345 [00:05<00:00, 11744.63it/s]\u001b[A\n",
      " 96%|██████████████████████████████████████████████████████████████████████   | 68513/71345 [00:05<00:00, 11564.10it/s]\u001b[A\n",
      " 98%|███████████████████████████████████████████████████████████████████████▎ | 69671/71345 [00:05<00:00, 11448.82it/s]\u001b[A\n",
      "100%|█████████████████████████████████████████████████████████████████████████| 71345/71345 [00:05<00:00, 12450.84it/s]\u001b[A\n",
      " 65%|█████████████████████████████████████████████████████▎                            | 13/20 [01:15<00:40,  5.72s/it]\n",
      "  0%|                                                                                        | 0/71345 [00:00<?, ?it/s]\u001b[A\n",
      "  1%|█                                                                         | 1067/71345 [00:00<00:06, 10619.37it/s]\u001b[A\n",
      "  3%|██▍                                                                       | 2319/71345 [00:00<00:05, 11720.05it/s]\u001b[A\n",
      "  5%|███▋                                                                      | 3596/71345 [00:00<00:05, 12185.27it/s]\u001b[A\n",
      "  7%|████▉                                                                     | 4815/71345 [00:00<00:05, 12064.71it/s]\u001b[A\n",
      "  8%|██████▏                                                                   | 6025/71345 [00:00<00:05, 12016.63it/s]\u001b[A\n",
      " 10%|███████▍                                                                  | 7227/71345 [00:00<00:05, 12000.87it/s]\u001b[A\n",
      " 12%|████████▋                                                                 | 8428/71345 [00:00<00:05, 11546.74it/s]\u001b[A\n",
      " 13%|█████████▉                                                                | 9598/71345 [00:00<00:05, 11577.73it/s]\u001b[A\n",
      " 15%|███████████▏                                                             | 10890/71345 [00:00<00:05, 11979.12it/s]\u001b[A\n",
      " 17%|████████████▍                                                            | 12116/71345 [00:01<00:04, 11973.76it/s]\u001b[A\n",
      " 19%|█████████████▋                                                           | 13428/71345 [00:01<00:04, 12316.93it/s]\u001b[A\n",
      " 21%|███████████████                                                          | 14662/71345 [00:01<00:04, 12109.50it/s]\u001b[A\n",
      " 22%|████████████████▏                                                        | 15875/71345 [00:01<00:04, 12049.74it/s]\u001b[A\n",
      " 24%|█████████████████▌                                                       | 17212/71345 [00:01<00:04, 12390.21it/s]\u001b[A\n",
      " 26%|██████████████████▉                                                      | 18453/71345 [00:01<00:04, 12354.58it/s]\u001b[A\n",
      " 28%|████████████████████▏                                                    | 19690/71345 [00:01<00:04, 12178.29it/s]\u001b[A\n",
      " 29%|█████████████████████▍                                                   | 20959/71345 [00:01<00:04, 12305.46it/s]\u001b[A\n",
      " 31%|██████████████████████▋                                                  | 22191/71345 [00:01<00:04, 12249.31it/s]\u001b[A\n",
      " 33%|████████████████████████▏                                                | 23600/71345 [00:01<00:03, 12722.65it/s]\u001b[A\n",
      " 35%|█████████████████████████▌                                               | 24960/71345 [00:02<00:03, 12898.89it/s]\u001b[A\n",
      " 37%|██████████████████████████▉                                              | 26286/71345 [00:02<00:03, 13004.48it/s]\u001b[A\n",
      " 39%|████████████████████████████▏                                            | 27605/71345 [00:02<00:03, 13059.13it/s]\u001b[A\n",
      " 41%|█████████████████████████████▌                                           | 28912/71345 [00:02<00:03, 12743.86it/s]\u001b[A\n",
      " 42%|██████████████████████████████▉                                          | 30189/71345 [00:02<00:03, 12408.64it/s]\u001b[A\n",
      " 44%|████████████████████████████████▏                                        | 31433/71345 [00:02<00:03, 12409.40it/s]\u001b[A\n",
      " 46%|█████████████████████████████████▍                                       | 32697/71345 [00:02<00:03, 12467.20it/s]\u001b[A\n",
      " 48%|██████████████████████████████████▋                                      | 33946/71345 [00:02<00:03, 12415.10it/s]\u001b[A\n",
      " 49%|████████████████████████████████████                                     | 35189/71345 [00:02<00:02, 12415.56it/s]\u001b[A\n",
      " 51%|█████████████████████████████████████▎                                   | 36432/71345 [00:02<00:02, 12322.78it/s]\u001b[A\n",
      " 53%|██████████████████████████████████████▌                                  | 37665/71345 [00:03<00:02, 12139.53it/s]\u001b[A\n",
      " 54%|███████████████████████████████████████▊                                 | 38880/71345 [00:03<00:02, 11729.68it/s]\u001b[A\n",
      " 56%|█████████████████████████████████████████                                | 40142/71345 [00:03<00:02, 11937.06it/s]\u001b[A\n",
      " 58%|██████████████████████████████████████████▎                              | 41370/71345 [00:03<00:02, 12005.69it/s]\u001b[A\n",
      " 60%|███████████████████████████████████████████▋                             | 42732/71345 [00:03<00:02, 12402.54it/s]\u001b[A\n",
      " 62%|████████████████████████████████████████████▉                            | 43974/71345 [00:03<00:02, 12238.23it/s]\u001b[A\n",
      " 63%|██████████████████████████████████████████████▎                          | 45230/71345 [00:03<00:02, 12302.22it/s]\u001b[A\n",
      " 65%|███████████████████████████████████████████████▌                         | 46518/71345 [00:03<00:02, 12200.16it/s]\u001b[A\n",
      " 67%|████████████████████████████████████████████████▊                        | 47746/71345 [00:03<00:01, 12220.76it/s]\u001b[A\n",
      " 69%|██████████████████████████████████████████████████▏                      | 48993/71345 [00:04<00:01, 12050.49it/s]\u001b[A\n",
      " 70%|███████████████████████████████████████████████████▎                     | 50200/71345 [00:04<00:01, 11568.83it/s]\u001b[A\n",
      " 72%|████████████████████████████████████████████████████▌                    | 51361/71345 [00:04<00:01, 11175.58it/s]\u001b[A\n",
      " 74%|█████████████████████████████████████████████████████▉                   | 52707/71345 [00:04<00:01, 11811.81it/s]\u001b[A\n",
      " 76%|███████████████████████████████████████████████████████▎                 | 54015/71345 [00:04<00:01, 12161.09it/s]\u001b[A\n",
      " 77%|████████████████████████████████████████████████████████▌                | 55251/71345 [00:04<00:01, 12213.15it/s]\u001b[A\n",
      " 79%|█████████████████████████████████████████████████████████▊               | 56557/71345 [00:04<00:01, 12341.70it/s]\u001b[A\n",
      " 81%|███████████████████████████████████████████████████████████▏             | 57795/71345 [00:04<00:01, 12322.79it/s]\u001b[A\n"
     ]
    },
    {
     "name": "stderr",
     "output_type": "stream",
     "text": [
      " 83%|████████████████████████████████████████████████████████████▍            | 59031/71345 [00:04<00:00, 12327.69it/s]\u001b[A\n",
      " 84%|█████████████████████████████████████████████████████████████▋           | 60271/71345 [00:04<00:00, 12301.62it/s]\u001b[A\n",
      " 86%|███████████████████████████████████████████████████████████████          | 61666/71345 [00:05<00:00, 12784.02it/s]\u001b[A\n",
      " 88%|████████████████████████████████████████████████████████████████▍        | 62946/71345 [00:05<00:00, 12369.00it/s]\u001b[A\n",
      " 90%|█████████████████████████████████████████████████████████████████▋       | 64187/71345 [00:05<00:00, 12372.71it/s]\u001b[A\n",
      " 92%|███████████████████████████████████████████████████████████████████      | 65500/71345 [00:05<00:00, 12545.84it/s]\u001b[A\n",
      " 94%|████████████████████████████████████████████████████████████████████▎    | 66757/71345 [00:05<00:00, 12476.03it/s]\u001b[A\n",
      " 95%|█████████████████████████████████████████████████████████████████████▋   | 68108/71345 [00:05<00:00, 12607.38it/s]\u001b[A\n",
      " 97%|██████████████████████████████████████████████████████████████████████▉  | 69386/71345 [00:05<00:00, 12559.18it/s]\u001b[A\n",
      "100%|█████████████████████████████████████████████████████████████████████████| 71345/71345 [00:05<00:00, 12268.78it/s]\u001b[A\n",
      " 70%|█████████████████████████████████████████████████████████▍                        | 14/20 [01:20<00:34,  5.75s/it]\n",
      "  0%|                                                                                        | 0/71345 [00:00<?, ?it/s]\u001b[A\n",
      "  2%|█▍                                                                        | 1352/71345 [00:00<00:05, 13063.66it/s]\u001b[A\n",
      "  4%|██▊                                                                       | 2659/71345 [00:00<00:05, 12998.73it/s]\u001b[A\n",
      "  6%|████                                                                      | 3959/71345 [00:00<00:05, 12987.71it/s]\u001b[A\n",
      "  7%|█████▍                                                                    | 5258/71345 [00:00<00:05, 12535.80it/s]\u001b[A\n",
      "  9%|██████▊                                                                   | 6519/71345 [00:00<00:05, 12410.79it/s]\u001b[A\n",
      " 11%|████████                                                                  | 7762/71345 [00:00<00:05, 12293.86it/s]\u001b[A\n",
      " 13%|█████████▎                                                                | 8993/71345 [00:00<00:05, 11910.93it/s]\u001b[A\n",
      " 14%|██████████▍                                                              | 10207/71345 [00:00<00:05, 11974.28it/s]\u001b[A\n",
      " 16%|███████████▊                                                             | 11558/71345 [00:00<00:04, 12435.60it/s]\u001b[A\n",
      " 18%|█████████████▏                                                           | 12902/71345 [00:01<00:04, 12692.48it/s]\u001b[A\n",
      " 20%|██████████████▌                                                          | 14274/71345 [00:01<00:04, 12928.56it/s]\u001b[A\n",
      " 22%|████████████████                                                         | 15683/71345 [00:01<00:04, 13266.39it/s]\u001b[A\n",
      " 24%|█████████████████▍                                                       | 17012/71345 [00:01<00:04, 12957.60it/s]\u001b[A\n",
      " 26%|██████████████████▋                                                      | 18311/71345 [00:01<00:04, 12939.37it/s]\u001b[A\n",
      " 27%|████████████████████                                                     | 19607/71345 [00:01<00:04, 12712.39it/s]\u001b[A\n",
      " 29%|█████████████████████▎                                                   | 20880/71345 [00:01<00:03, 12704.98it/s]\u001b[A\n",
      " 31%|██████████████████████▋                                                  | 22152/71345 [00:01<00:03, 12656.37it/s]\u001b[A\n",
      " 33%|███████████████████████▉                                                 | 23426/71345 [00:01<00:03, 12526.18it/s]\u001b[A\n",
      " 35%|█████████████████████████▎                                               | 24793/71345 [00:01<00:03, 12792.42it/s]\u001b[A\n",
      " 37%|██████████████████████████▋                                              | 26095/71345 [00:02<00:03, 12819.58it/s]\u001b[A\n",
      " 38%|████████████████████████████                                             | 27382/71345 [00:02<00:03, 12825.33it/s]\u001b[A\n",
      " 40%|█████████████████████████████▎                                           | 28665/71345 [00:02<00:03, 12747.57it/s]\u001b[A\n",
      " 42%|██████████████████████████████▋                                          | 29941/71345 [00:02<00:03, 12695.61it/s]\u001b[A\n",
      " 44%|███████████████████████████████▉                                         | 31211/71345 [00:02<00:03, 12597.53it/s]\u001b[A\n",
      " 46%|█████████████████████████████████▏                                       | 32475/71345 [00:02<00:03, 12602.31it/s]\u001b[A\n",
      " 47%|██████████████████████████████████▋                                      | 33851/71345 [00:02<00:02, 12892.06it/s]\u001b[A\n",
      " 49%|███████████████████████████████████▉                                     | 35141/71345 [00:02<00:02, 12780.15it/s]\u001b[A\n",
      " 51%|█████████████████████████████████████▎                                   | 36420/71345 [00:02<00:02, 12523.63it/s]\u001b[A\n",
      " 53%|██████████████████████████████████████▌                                  | 37689/71345 [00:02<00:02, 12544.73it/s]\u001b[A\n",
      " 55%|███████████████████████████████████████▉                                 | 39008/71345 [00:03<00:02, 12635.79it/s]\u001b[A\n",
      " 56%|█████████████████████████████████████████▏                               | 40273/71345 [00:03<00:02, 12563.72it/s]\u001b[A\n",
      " 58%|██████████████████████████████████████████▍                              | 41530/71345 [00:03<00:02, 12124.66it/s]\u001b[A\n",
      " 60%|███████████████████████████████████████████▊                             | 42814/71345 [00:03<00:02, 12323.90it/s]\u001b[A\n",
      " 62%|█████████████████████████████████████████████▏                           | 44150/71345 [00:03<00:02, 12562.66it/s]\u001b[A\n",
      " 64%|██████████████████████████████████████████████▍                          | 45410/71345 [00:03<00:02, 12560.83it/s]\u001b[A\n",
      " 66%|███████████████████████████████████████████████▊                         | 46735/71345 [00:03<00:01, 12746.45it/s]\u001b[A\n",
      " 67%|█████████████████████████████████████████████████▏                       | 48012/71345 [00:03<00:01, 12376.23it/s]\u001b[A\n",
      " 69%|██████████████████████████████████████████████████▌                      | 49397/71345 [00:03<00:01, 12646.52it/s]\u001b[A\n",
      " 71%|███████████████████████████████████████████████████▊                     | 50664/71345 [00:04<00:01, 12469.00it/s]\u001b[A\n",
      " 73%|█████████████████████████████████████████████████████▎                   | 52056/71345 [00:04<00:01, 12785.53it/s]\u001b[A\n",
      " 75%|██████████████████████████████████████████████████████▌                  | 53350/71345 [00:04<00:01, 12829.52it/s]\u001b[A\n",
      " 77%|███████████████████████████████████████████████████████▉                 | 54635/71345 [00:04<00:01, 12705.74it/s]\u001b[A\n",
      " 78%|█████████████████████████████████████████████████████████▏               | 55907/71345 [00:04<00:01, 12644.61it/s]\u001b[A\n",
      " 80%|██████████████████████████████████████████████████████████▋              | 57359/71345 [00:04<00:01, 13172.59it/s]\u001b[A\n",
      " 82%|████████████████████████████████████████████████████████████             | 58708/71345 [00:04<00:00, 13214.38it/s]\u001b[A\n",
      " 84%|█████████████████████████████████████████████████████████████▍           | 60031/71345 [00:04<00:00, 13014.15it/s]\u001b[A\n",
      " 86%|██████████████████████████████████████████████████████████████▊          | 61334/71345 [00:04<00:00, 12922.20it/s]\u001b[A\n",
      " 88%|████████████████████████████████████████████████████████████████         | 62627/71345 [00:04<00:00, 12150.77it/s]\u001b[A\n",
      " 90%|█████████████████████████████████████████████████████████████████▍       | 63991/71345 [00:05<00:00, 12485.61it/s]\u001b[A\n",
      " 92%|██████████████████████████████████████████████████████████████████▉      | 65372/71345 [00:05<00:00, 12828.81it/s]\u001b[A\n",
      " 94%|████████████████████████████████████████████████████████████████████▍    | 66853/71345 [00:05<00:00, 13267.12it/s]\u001b[A\n",
      " 96%|█████████████████████████████████████████████████████████████████████▊   | 68242/71345 [00:05<00:00, 13444.58it/s]\u001b[A\n",
      " 98%|███████████████████████████████████████████████████████████████████████▏ | 69591/71345 [00:05<00:00, 13287.43it/s]\u001b[A\n",
      "100%|█████████████████████████████████████████████████████████████████████████| 71345/71345 [00:05<00:00, 12725.93it/s]\u001b[A\n"
     ]
    },
    {
     "name": "stderr",
     "output_type": "stream",
     "text": [
      " 75%|█████████████████████████████████████████████████████████████▌                    | 15/20 [01:26<00:28,  5.71s/it]\n",
      "  0%|                                                                                        | 0/71345 [00:00<?, ?it/s]\u001b[A\n",
      "  2%|█▍                                                                        | 1366/71345 [00:00<00:05, 13593.54it/s]\u001b[A\n",
      "  4%|██▊                                                                       | 2726/71345 [00:00<00:05, 13150.32it/s]\u001b[A\n",
      "  6%|████▏                                                                     | 4042/71345 [00:00<00:05, 12907.81it/s]\u001b[A\n",
      "  7%|█████▌                                                                    | 5334/71345 [00:00<00:05, 12277.35it/s]\u001b[A\n",
      "  9%|██████▊                                                                   | 6566/71345 [00:00<00:05, 12107.05it/s]\u001b[A\n",
      " 11%|████████▏                                                                 | 7852/71345 [00:00<00:05, 12282.45it/s]\u001b[A\n",
      " 13%|█████████▌                                                                | 9269/71345 [00:00<00:04, 12588.26it/s]\u001b[A\n",
      " 15%|██████████▊                                                              | 10612/71345 [00:00<00:04, 12789.49it/s]\u001b[A\n",
      " 17%|████████████▏                                                            | 11893/71345 [00:00<00:04, 12570.47it/s]\u001b[A\n",
      " 18%|█████████████▍                                                           | 13152/71345 [00:01<00:04, 12183.71it/s]\u001b[A\n",
      " 20%|██████████████▋                                                          | 14373/71345 [00:01<00:04, 12187.60it/s]\u001b[A\n",
      " 22%|███████████████▉                                                         | 15594/71345 [00:01<00:04, 12060.43it/s]\u001b[A\n",
      " 24%|█████████████████▏                                                       | 16804/71345 [00:01<00:04, 12024.38it/s]\u001b[A\n",
      " 25%|██████████████████▍                                                      | 18046/71345 [00:01<00:04, 12123.89it/s]\u001b[A\n",
      " 27%|███████████████████▊                                                     | 19349/71345 [00:01<00:04, 12148.88it/s]\u001b[A\n",
      " 29%|█████████████████████▏                                                   | 20745/71345 [00:01<00:04, 12542.27it/s]\u001b[A\n",
      " 31%|██████████████████████▋                                                  | 22114/71345 [00:01<00:03, 12877.77it/s]\u001b[A\n",
      " 33%|███████████████████████▉                                                 | 23403/71345 [00:01<00:03, 12567.87it/s]\u001b[A\n",
      " 35%|█████████████████████████▎                                               | 24699/71345 [00:01<00:03, 12623.79it/s]\u001b[A\n",
      " 36%|██████████████████████████▌                                              | 25963/71345 [00:02<00:03, 12550.35it/s]\u001b[A\n",
      " 38%|███████████████████████████▊                                             | 27219/71345 [00:02<00:03, 12533.51it/s]\u001b[A\n",
      " 40%|█████████████████████████████▏                                           | 28473/71345 [00:02<00:03, 11901.95it/s]\u001b[A\n",
      " 42%|██████████████████████████████▎                                          | 29670/71345 [00:02<00:03, 11823.77it/s]\u001b[A\n",
      " 43%|███████████████████████████████▋                                         | 30962/71345 [00:02<00:03, 12134.52it/s]\u001b[A\n",
      " 45%|█████████████████████████████████                                        | 32253/71345 [00:02<00:03, 12356.52it/s]\u001b[A\n",
      " 47%|██████████████████████████████████▎                                      | 33493/71345 [00:02<00:03, 12277.03it/s]\u001b[A\n",
      " 49%|███████████████████████████████████▌                                     | 34724/71345 [00:02<00:03, 11835.95it/s]\u001b[A\n",
      " 50%|████████████████████████████████████▊                                    | 35929/71345 [00:02<00:02, 11876.06it/s]\u001b[A\n",
      " 52%|██████████████████████████████████████                                   | 37152/71345 [00:03<00:02, 11964.09it/s]\u001b[A\n",
      " 54%|███████████████████████████████████████▏                                 | 38351/71345 [00:03<00:02, 11887.58it/s]\u001b[A\n",
      " 55%|████████████████████████████████████████▍                                | 39577/71345 [00:03<00:02, 11981.58it/s]\u001b[A\n",
      " 57%|█████████████████████████████████████████▊                               | 40839/71345 [00:03<00:02, 12160.14it/s]\u001b[A\n",
      " 59%|███████████████████████████████████████████                              | 42057/71345 [00:03<00:02, 12080.23it/s]\u001b[A\n",
      " 61%|████████████████████████████████████████████▎                            | 43273/71345 [00:03<00:02, 12051.56it/s]\u001b[A\n",
      " 62%|█████████████████████████████████████████████▌                           | 44479/71345 [00:03<00:02, 12027.15it/s]\u001b[A\n",
      " 64%|██████████████████████████████████████████████▊                          | 45727/71345 [00:03<00:02, 12026.16it/s]\u001b[A\n",
      " 66%|████████████████████████████████████████████████                         | 46930/71345 [00:03<00:02, 11851.29it/s]\u001b[A\n",
      " 67%|█████████████████████████████████████████████████▎                       | 48141/71345 [00:03<00:01, 11921.59it/s]\u001b[A\n",
      " 69%|██████████████████████████████████████████████████▌                      | 49445/71345 [00:04<00:01, 12217.61it/s]\u001b[A\n",
      " 71%|███████████████████████████████████████████████████▉                     | 50739/71345 [00:04<00:01, 12350.05it/s]\u001b[A\n",
      " 73%|█████████████████████████████████████████████████████▏                   | 51988/71345 [00:04<00:01, 12362.01it/s]\u001b[A\n",
      " 75%|██████████████████████████████████████████████████████▍                  | 53225/71345 [00:04<00:01, 11833.94it/s]\u001b[A\n",
      " 76%|███████████████████████████████████████████████████████▋                 | 54413/71345 [00:04<00:01, 11758.82it/s]\u001b[A\n",
      " 78%|████████████████████████████████████████████████████████▉                | 55644/71345 [00:04<00:01, 11887.07it/s]\u001b[A\n",
      " 80%|██████████████████████████████████████████████████████████▏              | 56898/71345 [00:04<00:01, 12068.20it/s]\u001b[A\n",
      " 81%|███████████████████████████████████████████████████████████▍             | 58127/71345 [00:04<00:01, 12113.94it/s]\u001b[A\n",
      " 83%|████████████████████████████████████████████████████████████▊            | 59411/71345 [00:04<00:00, 12249.68it/s]\u001b[A\n",
      " 85%|██████████████████████████████████████████████████████████████▏          | 60725/71345 [00:04<00:00, 12397.05it/s]\u001b[A\n",
      " 87%|███████████████████████████████████████████████████████████████▍         | 61966/71345 [00:05<00:00, 12190.64it/s]\u001b[A\n",
      " 89%|████████████████████████████████████████████████████████████████▋        | 63227/71345 [00:05<00:00, 12296.81it/s]\u001b[A\n",
      " 91%|██████████████████████████████████████████████████████████████████       | 64590/71345 [00:05<00:00, 12638.68it/s]\u001b[A\n",
      " 92%|███████████████████████████████████████████████████████████████████▍     | 65904/71345 [00:05<00:00, 12780.84it/s]\u001b[A\n",
      " 94%|████████████████████████████████████████████████████████████████████▋    | 67183/71345 [00:05<00:00, 12510.67it/s]\u001b[A\n",
      " 96%|██████████████████████████████████████████████████████████████████████   | 68436/71345 [00:05<00:00, 12478.12it/s]\u001b[A\n",
      " 98%|███████████████████████████████████████████████████████████████████████▎ | 69685/71345 [00:05<00:00, 12210.09it/s]\u001b[A\n",
      "100%|█████████████████████████████████████████████████████████████████████████| 71345/71345 [00:05<00:00, 12250.70it/s]\u001b[A\n",
      " 80%|█████████████████████████████████████████████████████████████████▌                | 16/20 [01:32<00:23,  5.75s/it]\n",
      "  0%|                                                                                        | 0/71345 [00:00<?, ?it/s]\u001b[A\n",
      "  2%|█▍                                                                        | 1331/71345 [00:00<00:05, 12535.55it/s]\u001b[A\n",
      "  4%|██▋                                                                       | 2585/71345 [00:00<00:05, 12111.68it/s]\u001b[A\n",
      "  5%|███▉                                                                      | 3839/71345 [00:00<00:05, 12177.08it/s]\u001b[A\n",
      "  7%|█████▎                                                                    | 5066/71345 [00:00<00:05, 12202.74it/s]\u001b[A\n",
      "  9%|██████▌                                                                   | 6366/71345 [00:00<00:05, 12384.75it/s]\u001b[A\n",
      " 11%|███████▉                                                                  | 7605/71345 [00:00<00:05, 12363.35it/s]\u001b[A\n"
     ]
    },
    {
     "name": "stderr",
     "output_type": "stream",
     "text": [
      " 12%|█████████▏                                                                | 8842/71345 [00:00<00:05, 12353.85it/s]\u001b[A\n",
      " 14%|██████████▎                                                              | 10078/71345 [00:00<00:05, 12241.51it/s]\u001b[A\n",
      " 16%|███████████▌                                                             | 11303/71345 [00:00<00:04, 12189.85it/s]\u001b[A\n",
      " 18%|████████████▊                                                            | 12523/71345 [00:01<00:04, 12055.86it/s]\u001b[A\n",
      " 19%|██████████████▏                                                          | 13827/71345 [00:01<00:04, 12340.36it/s]\u001b[A\n",
      " 21%|███████████████▌                                                         | 15154/71345 [00:01<00:04, 12586.98it/s]\u001b[A\n",
      " 23%|████████████████▊                                                        | 16427/71345 [00:01<00:04, 12618.70it/s]\u001b[A\n",
      " 25%|██████████████████                                                       | 17690/71345 [00:01<00:04, 12134.30it/s]\u001b[A\n",
      " 27%|███████████████████▎                                                     | 18908/71345 [00:01<00:04, 12104.44it/s]\u001b[A\n",
      " 28%|████████████████████▌                                                    | 20122/71345 [00:01<00:04, 12011.84it/s]\u001b[A\n",
      " 30%|█████████████████████▊                                                   | 21326/71345 [00:01<00:04, 11890.34it/s]\u001b[A\n",
      " 32%|███████████████████████                                                  | 22568/71345 [00:01<00:04, 12031.04it/s]\u001b[A\n",
      " 33%|████████████████████████▍                                                | 23835/71345 [00:01<00:03, 12209.71it/s]\u001b[A\n",
      " 35%|█████████████████████████▋                                               | 25058/71345 [00:02<00:03, 12162.60it/s]\u001b[A\n",
      " 37%|██████████████████████████▉                                              | 26276/71345 [00:02<00:03, 11906.79it/s]\u001b[A\n",
      " 39%|████████████████████████████                                             | 27469/71345 [00:02<00:03, 11796.31it/s]\u001b[A\n",
      " 40%|█████████████████████████████▎                                           | 28658/71345 [00:02<00:03, 11774.95it/s]\u001b[A\n",
      " 42%|██████████████████████████████▌                                          | 29886/71345 [00:02<00:03, 11888.20it/s]\u001b[A\n",
      " 44%|███████████████████████████████▉                                         | 31188/71345 [00:02<00:03, 12067.95it/s]\u001b[A\n",
      " 45%|█████████████████████████████████▏                                       | 32399/71345 [00:02<00:03, 12079.33it/s]\u001b[A\n",
      " 47%|██████████████████████████████████▍                                      | 33625/71345 [00:02<00:03, 12109.41it/s]\u001b[A\n",
      " 49%|███████████████████████████████████▋                                     | 34871/71345 [00:02<00:02, 12174.48it/s]\u001b[A\n",
      " 51%|████████████████████████████████████▉                                    | 36089/71345 [00:02<00:02, 11923.81it/s]\u001b[A\n",
      " 52%|██████████████████████████████████████▎                                  | 37384/71345 [00:03<00:02, 12052.50it/s]\u001b[A\n",
      " 54%|███████████████████████████████████████▌                                 | 38643/71345 [00:03<00:02, 12166.32it/s]\u001b[A\n",
      " 56%|████████████████████████████████████████▊                                | 39944/71345 [00:03<00:02, 12413.01it/s]\u001b[A\n",
      " 58%|██████████████████████████████████████████▏                              | 41208/71345 [00:03<00:02, 12460.07it/s]\u001b[A\n",
      " 60%|███████████████████████████████████████████▌                             | 42535/71345 [00:03<00:02, 12625.49it/s]\u001b[A\n",
      " 61%|████████████████████████████████████████████▊                            | 43798/71345 [00:03<00:02, 12476.01it/s]\u001b[A\n",
      " 63%|██████████████████████████████████████████████                           | 45047/71345 [00:03<00:02, 12310.15it/s]\u001b[A\n",
      " 65%|███████████████████████████████████████████████▍                         | 46375/71345 [00:03<00:01, 12548.53it/s]\u001b[A\n",
      " 67%|████████████████████████████████████████████████▊                        | 47674/71345 [00:03<00:01, 12660.12it/s]\u001b[A\n",
      " 69%|██████████████████████████████████████████████████▏                      | 49020/71345 [00:03<00:01, 12880.30it/s]\u001b[A\n",
      " 71%|███████████████████████████████████████████████████▌                     | 50354/71345 [00:04<00:01, 12983.68it/s]\u001b[A\n",
      " 72%|████████████████████████████████████████████████████▊                    | 51653/71345 [00:04<00:01, 12974.08it/s]\u001b[A\n",
      " 74%|██████████████████████████████████████████████████████▏                  | 52971/71345 [00:04<00:01, 12920.59it/s]\u001b[A\n",
      " 76%|███████████████████████████████████████████████████████▌                 | 54264/71345 [00:04<00:01, 12650.12it/s]\u001b[A\n",
      " 78%|████████████████████████████████████████████████████████▊                | 55531/71345 [00:04<00:01, 12568.55it/s]\u001b[A\n",
      " 80%|██████████████████████████████████████████████████████████               | 56789/71345 [00:04<00:01, 12517.44it/s]\u001b[A\n",
      " 81%|███████████████████████████████████████████████████████████▍             | 58107/71345 [00:04<00:01, 12673.32it/s]\u001b[A\n",
      " 83%|████████████████████████████████████████████████████████████▊            | 59485/71345 [00:04<00:00, 12958.50it/s]\u001b[A\n",
      " 85%|██████████████████████████████████████████████████████████████▏          | 60782/71345 [00:04<00:00, 12889.85it/s]\u001b[A\n",
      " 87%|███████████████████████████████████████████████████████████████▌         | 62072/71345 [00:05<00:00, 11994.05it/s]\u001b[A\n",
      " 89%|████████████████████████████████████████████████████████████████▊        | 63284/71345 [00:05<00:00, 11748.94it/s]\u001b[A\n",
      " 90%|██████████████████████████████████████████████████████████████████       | 64508/71345 [00:05<00:00, 11877.37it/s]\u001b[A\n",
      " 92%|███████████████████████████████████████████████████████████████████▎     | 65747/71345 [00:05<00:00, 12003.93it/s]\u001b[A\n",
      " 94%|████████████████████████████████████████████████████████████████████▌    | 66953/71345 [00:05<00:00, 11915.04it/s]\u001b[A\n",
      " 96%|█████████████████████████████████████████████████████████████████████▋   | 68148/71345 [00:05<00:00, 11758.93it/s]\u001b[A\n",
      " 97%|██████████████████████████████████████████████████████████████████████▉  | 69327/71345 [00:05<00:00, 11586.39it/s]\u001b[A\n",
      "100%|█████████████████████████████████████████████████████████████████████████| 71345/71345 [00:05<00:00, 12244.84it/s]\u001b[A\n",
      " 85%|█████████████████████████████████████████████████████████████████████▋            | 17/20 [01:38<00:17,  5.79s/it]\n",
      "  0%|                                                                                        | 0/71345 [00:00<?, ?it/s]\u001b[A\n",
      "  2%|█▎                                                                        | 1266/71345 [00:00<00:05, 12164.98it/s]\u001b[A\n",
      "  4%|██▋                                                                       | 2539/71345 [00:00<00:05, 12449.30it/s]\u001b[A\n",
      "  5%|████                                                                      | 3898/71345 [00:00<00:05, 12851.02it/s]\u001b[A\n",
      "  7%|█████▍                                                                    | 5249/71345 [00:00<00:05, 13087.83it/s]\u001b[A\n",
      "  9%|██████▊                                                                   | 6624/71345 [00:00<00:04, 13277.21it/s]\u001b[A\n",
      " 11%|████████▎                                                                 | 7971/71345 [00:00<00:04, 13328.03it/s]\u001b[A\n",
      " 13%|█████████▋                                                                | 9382/71345 [00:00<00:04, 13540.78it/s]\u001b[A\n",
      " 15%|██████████▉                                                              | 10737/71345 [00:00<00:04, 13221.63it/s]\u001b[A\n",
      " 17%|████████████▎                                                            | 12072/71345 [00:00<00:04, 13231.54it/s]\u001b[A\n",
      " 19%|█████████████▊                                                           | 13491/71345 [00:01<00:04, 13276.13it/s]\u001b[A\n",
      " 21%|███████████████▏                                                         | 14820/71345 [00:01<00:04, 13261.35it/s]\u001b[A\n",
      " 23%|████████████████▌                                                        | 16147/71345 [00:01<00:04, 13037.38it/s]\u001b[A\n",
      " 24%|█████████████████▊                                                       | 17452/71345 [00:01<00:04, 12793.43it/s]\u001b[A\n",
      " 26%|███████████████████▏                                                     | 18802/71345 [00:01<00:04, 12817.38it/s]\u001b[A\n"
     ]
    },
    {
     "name": "stderr",
     "output_type": "stream",
     "text": [
      " 28%|████████████████████▌                                                    | 20085/71345 [00:01<00:04, 12682.04it/s]\u001b[A\n",
      " 30%|█████████████████████▊                                                   | 21378/71345 [00:01<00:03, 12751.38it/s]\u001b[A\n",
      " 32%|███████████████████████▏                                                 | 22654/71345 [00:01<00:03, 12626.02it/s]\u001b[A\n",
      " 34%|████████████████████████▍                                                | 23917/71345 [00:01<00:03, 12608.17it/s]\u001b[A\n",
      " 35%|█████████████████████████▊                                               | 25217/71345 [00:01<00:03, 12717.70it/s]\u001b[A\n",
      " 37%|███████████████████████████                                              | 26502/71345 [00:02<00:03, 12718.26it/s]\u001b[A\n",
      " 39%|████████████████████████████▍                                            | 27775/71345 [00:02<00:03, 12611.75it/s]\u001b[A\n",
      " 41%|█████████████████████████████▋                                           | 29037/71345 [00:02<00:03, 12097.30it/s]\u001b[A\n",
      " 42%|██████████████████████████████▉                                          | 30290/71345 [00:02<00:03, 12219.75it/s]\u001b[A\n",
      " 44%|████████████████████████████████▎                                        | 31614/71345 [00:02<00:03, 12320.00it/s]\u001b[A\n",
      " 46%|█████████████████████████████████▋                                       | 32878/71345 [00:02<00:03, 12392.10it/s]\u001b[A\n",
      " 48%|██████████████████████████████████▉                                      | 34191/71345 [00:02<00:02, 12608.50it/s]\u001b[A\n",
      " 50%|████████████████████████████████████▎                                    | 35466/71345 [00:02<00:02, 12646.56it/s]\u001b[A\n",
      " 51%|█████████████████████████████████████▌                                   | 36732/71345 [00:02<00:02, 12612.37it/s]\u001b[A\n",
      " 53%|██████████████████████████████████████▉                                  | 37995/71345 [00:02<00:02, 12602.98it/s]\u001b[A\n",
      " 55%|████████████████████████████████████████▏                                | 39256/71345 [00:03<00:02, 12583.09it/s]\u001b[A\n",
      " 57%|█████████████████████████████████████████▍                               | 40515/71345 [00:03<00:02, 12089.31it/s]\u001b[A\n",
      " 58%|██████████████████████████████████████████▋                              | 41729/71345 [00:03<00:02, 11883.08it/s]\u001b[A\n",
      " 60%|███████████████████████████████████████████▉                             | 42921/71345 [00:03<00:02, 11564.39it/s]\u001b[A\n",
      " 62%|█████████████████████████████████████████████                            | 44081/71345 [00:03<00:02, 11466.29it/s]\u001b[A\n",
      " 63%|██████████████████████████████████████████████▎                          | 45230/71345 [00:03<00:02, 11364.34it/s]\u001b[A\n",
      " 65%|███████████████████████████████████████████████▍                         | 46368/71345 [00:03<00:02, 11256.49it/s]\u001b[A\n",
      " 67%|████████████████████████████████████████████████▌                        | 47519/71345 [00:03<00:02, 11274.49it/s]\u001b[A\n",
      " 68%|█████████████████████████████████████████████████▊                       | 48683/71345 [00:03<00:02, 11245.71it/s]\u001b[A\n",
      " 70%|██████████████████████████████████████████████████▉                      | 49808/71345 [00:04<00:01, 11216.95it/s]\u001b[A\n",
      " 71%|████████████████████████████████████████████████████                     | 50930/71345 [00:04<00:01, 10763.87it/s]\u001b[A\n",
      " 73%|█████████████████████████████████████████████████████▏                   | 52010/71345 [00:04<00:01, 10449.11it/s]\u001b[A\n",
      " 74%|██████████████████████████████████████████████████████▎                  | 53140/71345 [00:04<00:01, 10688.48it/s]\u001b[A\n",
      " 76%|███████████████████████████████████████████████████████▌                 | 54269/71345 [00:04<00:01, 10805.78it/s]\u001b[A\n",
      " 78%|████████████████████████████████████████████████████████▋                | 55404/71345 [00:04<00:01, 10816.95it/s]\u001b[A\n",
      " 79%|█████████████████████████████████████████████████████████▊               | 56488/71345 [00:04<00:01, 10561.03it/s]\u001b[A\n",
      " 81%|███████████████████████████████████████████████████████████▋              | 57547/71345 [00:04<00:01, 9966.00it/s]\u001b[A\n",
      " 82%|████████████████████████████████████████████████████████████▋             | 58551/71345 [00:04<00:01, 9601.09it/s]\u001b[A\n",
      " 84%|█████████████████████████████████████████████████████████████▊            | 59613/71345 [00:04<00:01, 9867.28it/s]\u001b[A\n",
      " 85%|██████████████████████████████████████████████████████████████▊           | 60610/71345 [00:05<00:01, 9814.89it/s]\u001b[A\n",
      " 87%|███████████████████████████████████████████████████████████████▏         | 61772/71345 [00:05<00:00, 10259.58it/s]\u001b[A\n",
      " 88%|████████████████████████████████████████████████████████████████▎        | 62807/71345 [00:05<00:00, 10247.75it/s]\u001b[A\n",
      " 90%|█████████████████████████████████████████████████████████████████▎       | 63889/71345 [00:05<00:00, 10389.59it/s]\u001b[A\n",
      " 91%|██████████████████████████████████████████████████████████████████▌      | 65061/71345 [00:05<00:00, 10671.39it/s]\u001b[A\n",
      " 93%|███████████████████████████████████████████████████████████████████▋     | 66130/71345 [00:05<00:00, 10609.56it/s]\u001b[A\n",
      " 94%|████████████████████████████████████████████████████████████████████▊    | 67213/71345 [00:05<00:00, 10672.16it/s]\u001b[A\n",
      " 96%|█████████████████████████████████████████████████████████████████████▊   | 68282/71345 [00:05<00:00, 10541.72it/s]\u001b[A\n",
      " 97%|██████████████████████████████████████████████████████████████████████▉  | 69386/71345 [00:05<00:00, 10683.03it/s]\u001b[A\n",
      "100%|█████████████████████████████████████████████████████████████████████████| 71345/71345 [00:06<00:00, 11684.16it/s]\u001b[A\n",
      " 90%|█████████████████████████████████████████████████████████████████████████▊        | 18/20 [01:44<00:11,  5.89s/it]\n",
      "  0%|                                                                                        | 0/71345 [00:00<?, ?it/s]\u001b[A\n",
      "  2%|█▏                                                                        | 1183/71345 [00:00<00:06, 11667.03it/s]\u001b[A\n",
      "  3%|██▍                                                                       | 2350/71345 [00:00<00:06, 11196.91it/s]\u001b[A\n",
      "  5%|███▌                                                                      | 3471/71345 [00:00<00:06, 10800.79it/s]\u001b[A\n",
      "  6%|████▊                                                                     | 4584/71345 [00:00<00:06, 10805.89it/s]\u001b[A\n",
      "  8%|█████▉                                                                    | 5689/71345 [00:00<00:06, 10889.31it/s]\u001b[A\n",
      " 10%|███████                                                                   | 6780/71345 [00:00<00:05, 10835.37it/s]\u001b[A\n",
      " 11%|████████▏                                                                 | 7910/71345 [00:00<00:05, 10856.18it/s]\u001b[A\n",
      " 13%|█████████▎                                                                | 8996/71345 [00:00<00:05, 10817.36it/s]\u001b[A\n",
      " 14%|██████████▎                                                              | 10097/71345 [00:00<00:05, 10872.80it/s]\u001b[A\n",
      " 16%|███████████▍                                                             | 11188/71345 [00:01<00:05, 10881.45it/s]\u001b[A\n",
      " 17%|████████████▌                                                            | 12328/71345 [00:01<00:05, 11035.58it/s]\u001b[A\n",
      " 19%|█████████████▋                                                           | 13435/71345 [00:01<00:05, 11006.48it/s]\u001b[A\n",
      " 20%|██████████████▊                                                          | 14536/71345 [00:01<00:05, 10466.14it/s]\u001b[A\n",
      " 22%|███████████████▉                                                         | 15588/71345 [00:01<00:05, 10474.34it/s]\u001b[A\n",
      " 23%|█████████████████                                                        | 16679/71345 [00:01<00:05, 10600.00it/s]\u001b[A\n",
      " 25%|██████████████████▏                                                      | 17815/71345 [00:01<00:04, 10821.26it/s]\u001b[A\n",
      " 27%|███████████████████▍                                                     | 18979/71345 [00:01<00:04, 11053.30it/s]\u001b[A\n",
      " 28%|████████████████████▌                                                    | 20122/71345 [00:01<00:04, 11155.71it/s]\u001b[A\n",
      " 30%|█████████████████████▋                                                   | 21255/71345 [00:01<00:04, 11195.54it/s]\u001b[A\n",
      " 31%|██████████████████████▉                                                  | 22376/71345 [00:02<00:04, 11120.42it/s]\u001b[A\n"
     ]
    },
    {
     "name": "stderr",
     "output_type": "stream",
     "text": [
      " 33%|████████████████████████                                                 | 23489/71345 [00:02<00:04, 11119.05it/s]\u001b[A\n",
      " 35%|█████████████████████████▏                                               | 24660/71345 [00:02<00:04, 11162.38it/s]\u001b[A\n",
      " 36%|██████████████████████████▎                                              | 25777/71345 [00:02<00:04, 10877.34it/s]\u001b[A\n",
      " 38%|███████████████████████████▍                                             | 26867/71345 [00:02<00:04, 10811.47it/s]\u001b[A\n",
      " 39%|████████████████████████████▌                                            | 27950/71345 [00:02<00:04, 10658.63it/s]\u001b[A\n",
      " 41%|█████████████████████████████▋                                           | 29062/71345 [00:02<00:03, 10668.85it/s]\u001b[A\n",
      " 42%|██████████████████████████████▊                                          | 30130/71345 [00:02<00:03, 10507.20it/s]\u001b[A\n",
      " 44%|████████████████████████████████                                         | 31297/71345 [00:02<00:03, 10745.92it/s]\u001b[A\n",
      " 45%|█████████████████████████████████                                        | 32373/71345 [00:02<00:03, 10697.10it/s]\u001b[A\n",
      " 47%|██████████████████████████████████▏                                      | 33472/71345 [00:03<00:03, 10735.61it/s]\u001b[A\n",
      " 49%|███████████████████████████████████▍                                     | 34617/71345 [00:03<00:03, 10888.98it/s]\u001b[A\n",
      " 50%|████████████████████████████████████▌                                    | 35707/71345 [00:03<00:03, 10814.40it/s]\u001b[A\n",
      " 52%|█████████████████████████████████████▋                                   | 36810/71345 [00:03<00:03, 10871.79it/s]\u001b[A\n",
      " 53%|██████████████████████████████████████▊                                  | 37911/71345 [00:03<00:03, 10907.44it/s]\u001b[A\n",
      " 55%|███████████████████████████████████████▉                                 | 39002/71345 [00:03<00:03, 10740.43it/s]\u001b[A\n",
      " 56%|█████████████████████████████████████████                                | 40103/71345 [00:03<00:02, 10803.96it/s]\u001b[A\n",
      " 58%|██████████████████████████████████████████▏                              | 41232/71345 [00:03<00:02, 10925.32it/s]\u001b[A\n",
      " 59%|███████████████████████████████████████████▎                             | 42356/71345 [00:03<00:02, 10992.79it/s]\u001b[A\n",
      " 61%|████████████████████████████████████████████▍                            | 43474/71345 [00:03<00:02, 11013.29it/s]\u001b[A\n",
      " 62%|█████████████████████████████████████████████▌                           | 44576/71345 [00:04<00:02, 11009.42it/s]\u001b[A\n",
      " 64%|██████████████████████████████████████████████▋                          | 45678/71345 [00:04<00:02, 10946.73it/s]\u001b[A\n",
      " 66%|███████████████████████████████████████████████▊                         | 46773/71345 [00:04<00:02, 10891.96it/s]\u001b[A\n",
      " 67%|████████████████████████████████████████████████▉                        | 47863/71345 [00:04<00:02, 10478.70it/s]\u001b[A\n",
      " 69%|██████████████████████████████████████████████████                       | 48915/71345 [00:04<00:02, 10054.19it/s]\u001b[A\n",
      " 70%|███████████████████████████████████████████████████▊                      | 49926/71345 [00:04<00:02, 9438.92it/s]\u001b[A\n",
      " 71%|████████████████████████████████████████████████████▊                     | 50879/71345 [00:04<00:02, 9249.05it/s]\u001b[A\n",
      " 73%|█████████████████████████████████████████████████████▉                    | 51978/71345 [00:04<00:01, 9720.95it/s]\u001b[A\n",
      " 74%|██████████████████████████████████████████████████████▎                  | 53113/71345 [00:04<00:01, 10118.90it/s]\u001b[A\n",
      " 76%|███████████████████████████████████████████████████████▍                 | 54132/71345 [00:05<00:01, 10085.61it/s]\u001b[A\n",
      " 77%|████████████████████████████████████████████████████████▍                | 55146/71345 [00:05<00:01, 10049.10it/s]\u001b[A\n",
      " 79%|█████████████████████████████████████████████████████████▌               | 56238/71345 [00:05<00:01, 10206.09it/s]\u001b[A\n",
      " 80%|██████████████████████████████████████████████████████████▋              | 57301/71345 [00:05<00:01, 10193.02it/s]\u001b[A\n",
      " 82%|███████████████████████████████████████████████████████████▊             | 58474/71345 [00:05<00:01, 10600.05it/s]\u001b[A\n",
      " 84%|█████████████████████████████████████████████████████████████            | 59668/71345 [00:05<00:01, 10977.81it/s]\u001b[A\n",
      " 85%|██████████████████████████████████████████████████████████████▎          | 60898/71345 [00:05<00:00, 11350.07it/s]\u001b[A\n",
      " 87%|███████████████████████████████████████████████████████████████▋         | 62196/71345 [00:05<00:00, 11724.13it/s]\u001b[A\n",
      " 89%|████████████████████████████████████████████████████████████████▉        | 63452/71345 [00:05<00:00, 11928.62it/s]\u001b[A\n",
      " 91%|██████████████████████████████████████████████████████████████████▏      | 64646/71345 [00:05<00:00, 11896.61it/s]\u001b[A\n",
      " 92%|███████████████████████████████████████████████████████████████████▎     | 65847/71345 [00:06<00:00, 11888.61it/s]\u001b[A\n",
      " 94%|████████████████████████████████████████████████████████████████████▌    | 67037/71345 [00:06<00:00, 11773.19it/s]\u001b[A\n",
      " 96%|█████████████████████████████████████████████████████████████████████▊   | 68278/71345 [00:06<00:00, 11877.92it/s]\u001b[A\n",
      " 97%|███████████████████████████████████████████████████████████████████████  | 69467/71345 [00:06<00:00, 11727.22it/s]\u001b[A\n",
      "100%|█████████████████████████████████████████████████████████████████████████| 71345/71345 [00:06<00:00, 10806.39it/s]\u001b[A\n",
      " 95%|█████████████████████████████████████████████████████████████████████████████▉    | 19/20 [01:51<00:06,  6.11s/it]\n",
      "  0%|                                                                                        | 0/71345 [00:00<?, ?it/s]\u001b[A\n",
      "  2%|█▏                                                                        | 1147/71345 [00:00<00:06, 11248.86it/s]\u001b[A\n",
      "  3%|██▍                                                                       | 2298/71345 [00:00<00:06, 11221.85it/s]\u001b[A\n",
      "  5%|███▌                                                                      | 3427/71345 [00:00<00:06, 11239.72it/s]\u001b[A\n",
      "  6%|████▊                                                                     | 4636/71345 [00:00<00:05, 11561.97it/s]\u001b[A\n",
      "  8%|██████                                                                    | 5835/71345 [00:00<00:05, 11658.98it/s]\u001b[A\n",
      " 10%|███████▎                                                                  | 7049/71345 [00:00<00:05, 11813.71it/s]\u001b[A\n",
      " 12%|████████▌                                                                 | 8245/71345 [00:00<00:05, 11852.46it/s]\u001b[A\n",
      " 13%|█████████▊                                                                | 9466/71345 [00:00<00:05, 11948.86it/s]\u001b[A\n",
      " 15%|██████████▉                                                              | 10661/71345 [00:00<00:05, 11897.34it/s]\u001b[A\n",
      " 17%|████████████▏                                                            | 11851/71345 [00:01<00:05, 11695.43it/s]\u001b[A\n",
      " 18%|█████████████▎                                                           | 13022/71345 [00:01<00:05, 11479.80it/s]\u001b[A\n",
      " 20%|██████████████▌                                                          | 14172/71345 [00:01<00:05, 11380.16it/s]\u001b[A\n",
      " 21%|███████████████▋                                                         | 15311/71345 [00:01<00:04, 11294.43it/s]\u001b[A\n",
      " 23%|████████████████▊                                                        | 16441/71345 [00:01<00:05, 10483.24it/s]\u001b[A\n",
      " 25%|█████████████████▉                                                       | 17537/71345 [00:01<00:05, 10597.33it/s]\u001b[A\n",
      " 26%|███████████████████▏                                                     | 18707/71345 [00:01<00:04, 10901.84it/s]\u001b[A\n",
      " 28%|████████████████████▎                                                    | 19805/71345 [00:01<00:04, 10712.99it/s]\u001b[A\n",
      " 29%|█████████████████████▍                                                   | 20926/71345 [00:01<00:04, 10765.98it/s]\u001b[A\n",
      " 31%|██████████████████████▌                                                  | 22007/71345 [00:01<00:04, 10766.08it/s]\u001b[A\n",
      " 32%|███████████████████████▌                                                 | 23087/71345 [00:02<00:04, 10769.83it/s]\u001b[A\n",
      " 34%|████████████████████████▋                                                | 24166/71345 [00:02<00:04, 10621.51it/s]\u001b[A\n"
     ]
    },
    {
     "name": "stderr",
     "output_type": "stream",
     "text": [
      " 35%|█████████████████████████▊                                               | 25230/71345 [00:02<00:04, 10000.47it/s]\u001b[A\n",
      " 37%|███████████████████████████▏                                              | 26238/71345 [00:02<00:04, 9372.28it/s]\u001b[A\n",
      " 38%|████████████████████████████▏                                             | 27218/71345 [00:02<00:04, 9444.17it/s]\u001b[A\n",
      " 39%|█████████████████████████████▏                                            | 28171/71345 [00:02<00:04, 9379.63it/s]\u001b[A\n",
      " 41%|██████████████████████████████▎                                           | 29241/71345 [00:02<00:04, 9720.05it/s]\u001b[A\n",
      " 43%|███████████████████████████████                                          | 30412/71345 [00:02<00:03, 10272.88it/s]\u001b[A\n",
      " 44%|████████████████████████████████▍                                        | 31691/71345 [00:02<00:03, 10941.15it/s]\u001b[A\n",
      " 46%|█████████████████████████████████▋                                       | 32969/71345 [00:03<00:03, 11456.77it/s]\u001b[A\n",
      " 48%|███████████████████████████████████                                      | 34215/71345 [00:03<00:03, 11743.99it/s]\u001b[A\n",
      " 50%|████████████████████████████████████▎                                    | 35497/71345 [00:03<00:02, 12040.97it/s]\u001b[A\n",
      " 51%|█████████████████████████████████████▌                                   | 36705/71345 [00:03<00:02, 12025.72it/s]\u001b[A\n",
      " 53%|██████████████████████████████████████▊                                  | 37910/71345 [00:03<00:02, 12002.43it/s]\u001b[A\n",
      " 55%|████████████████████████████████████████                                 | 39112/71345 [00:03<00:02, 11957.57it/s]\u001b[A\n",
      " 56%|█████████████████████████████████████████▏                               | 40309/71345 [00:03<00:02, 11381.22it/s]\u001b[A\n",
      " 58%|██████████████████████████████████████████▍                              | 41454/71345 [00:03<00:02, 10898.61it/s]\u001b[A\n",
      " 60%|███████████████████████████████████████████▌                             | 42552/71345 [00:03<00:02, 10919.70it/s]\u001b[A\n",
      " 61%|████████████████████████████████████████████▋                            | 43671/71345 [00:03<00:02, 10969.60it/s]\u001b[A\n",
      " 63%|█████████████████████████████████████████████▉                           | 44900/71345 [00:04<00:02, 11270.30it/s]\u001b[A\n",
      " 65%|███████████████████████████████████████████████▏                         | 46080/71345 [00:04<00:02, 11421.59it/s]\u001b[A\n",
      " 66%|████████████████████████████████████████████████▍                        | 47306/71345 [00:04<00:02, 11580.80it/s]\u001b[A\n",
      " 68%|█████████████████████████████████████████████████▌                       | 48466/71345 [00:04<00:01, 11473.80it/s]\u001b[A\n",
      " 70%|██████████████████████████████████████████████████▊                      | 49693/71345 [00:04<00:01, 11701.11it/s]\u001b[A\n",
      " 71%|████████████████████████████████████████████████████                     | 50865/71345 [00:04<00:01, 11689.94it/s]\u001b[A\n",
      " 73%|█████████████████████████████████████████████████████▎                   | 52066/71345 [00:04<00:01, 11747.20it/s]\u001b[A\n",
      " 75%|██████████████████████████████████████████████████████▍                  | 53252/71345 [00:04<00:01, 11780.19it/s]\u001b[A\n",
      " 76%|███████████████████████████████████████████████████████▋                 | 54431/71345 [00:04<00:01, 11678.07it/s]\u001b[A\n",
      " 78%|████████████████████████████████████████████████████████▉                | 55600/71345 [00:04<00:01, 11431.14it/s]\u001b[A\n",
      " 80%|██████████████████████████████████████████████████████████               | 56745/71345 [00:05<00:01, 11345.99it/s]\u001b[A\n",
      " 81%|███████████████████████████████████████████████████████████▎             | 57956/71345 [00:05<00:01, 11567.32it/s]\u001b[A\n",
      " 83%|████████████████████████████████████████████████████████████▌            | 59134/71345 [00:05<00:01, 11515.18it/s]\u001b[A\n",
      " 85%|█████████████████████████████████████████████████████████████▋           | 60287/71345 [00:05<00:00, 11425.26it/s]\u001b[A\n",
      " 86%|██████████████████████████████████████████████████████████████▉          | 61464/71345 [00:05<00:00, 11401.37it/s]\u001b[A\n",
      " 88%|████████████████████████████████████████████████████████████████         | 62605/71345 [00:05<00:00, 11292.32it/s]\u001b[A\n",
      " 89%|█████████████████████████████████████████████████████████████████▏       | 63735/71345 [00:05<00:00, 10970.58it/s]\u001b[A\n",
      " 91%|██████████████████████████████████████████████████████████████████▎      | 64834/71345 [00:05<00:00, 10729.24it/s]\u001b[A\n",
      " 92%|███████████████████████████████████████████████████████████████████▍     | 65909/71345 [00:05<00:00, 10729.45it/s]\u001b[A\n",
      " 94%|████████████████████████████████████████████████████████████████████▌    | 66994/71345 [00:06<00:00, 10762.29it/s]\u001b[A\n",
      " 95%|█████████████████████████████████████████████████████████████████████▋   | 68084/71345 [00:06<00:00, 10793.39it/s]\u001b[A\n",
      " 97%|██████████████████████████████████████████████████████████████████████▊  | 69199/71345 [00:06<00:00, 10875.64it/s]\u001b[A\n",
      "100%|█████████████████████████████████████████████████████████████████████████| 71345/71345 [00:06<00:00, 11134.36it/s]\u001b[A\n",
      "100%|██████████████████████████████████████████████████████████████████████████████████| 20/20 [01:57<00:00,  5.88s/it]\n"
     ]
    }
   ],
   "source": [
    "# Lakukan update parameter\n",
    "loss_each_epoc = []\n",
    "for i in tqdm(range(n_epoc)):\n",
    "    # Tambahkan list kosong untuk menambah rata-rata loss tiap epoc\n",
    "    avg_loss_train_samples = []\n",
    "    # Iterasi seluruh data training\n",
    "    for train_sample in tqdm(rating_matrix_funk):\n",
    "        # Ekstraksi UserID, MovieIDs, Ratings\n",
    "        user = int(train_sample[0])\n",
    "        movie = int(train_sample[1])\n",
    "        rating = train_sample[2]\n",
    "\n",
    "        # Dapatkan index User\n",
    "        user_index = user_to_index[user]\n",
    "        movie_index = movie_to_index[movie]\n",
    "\n",
    "        # Prediksi Rating\n",
    "        # Filter setiap parameter\n",
    "        b_user = bu[user_index]\n",
    "        b_item = bi[movie_index]\n",
    "        p_user = pu[user_index]\n",
    "        q_item = qi[movie_index]\n",
    "\n",
    "        # Menghitung baseline prediction\n",
    "        baseline_predict = global_mean + b_user + b_item\n",
    "\n",
    "        pred_rating = baseline_predict + (p_user.dot(q_item.T))\n",
    "\n",
    "        # Hitung loss / objective\n",
    "        loss = 1/2*((rating - pred_rating)**2) + lambda_reg*(b_user**2 + b_item**2 + norm(p_user)**2 + norm(q_item)**2)\n",
    "\n",
    "        # Tambahkan komponen loss\n",
    "        avg_loss_train_samples.append(loss)\n",
    "\n",
    "        # Hitung gradient, dy / d(parameter)\n",
    "        gradient_user_bias = (rating - pred_rating) - lambda_reg*b_user\n",
    "        gradient_item_bias = (rating - pred_rating) - lambda_reg*b_item\n",
    "        gradient_user_factor = (rating - pred_rating)*q_item - lambda_reg*p_user\n",
    "        gradient_item_factor = (rating - pred_rating)*p_user - lambda_reg*q_item\n",
    "\n",
    "        # Hitung gradient, dy / d(parameter)\n",
    "        bu[user_index] += lr * gradient_user_bias\n",
    "        bi[movie_index] += lr * gradient_item_bias\n",
    "        pu[user_index] += lr * gradient_user_factor\n",
    "        qi[movie_index] += lr * gradient_item_factor\n",
    "    avg_loss_train_samples = np.mean(avg_loss_train_samples)\n",
    "    loss_each_epoc.append(avg_loss_train_samples)"
   ]
  },
  {
   "cell_type": "code",
   "execution_count": 192,
   "metadata": {},
   "outputs": [
    {
     "data": {
      "text/plain": [
       "Text(0.5, 1.0, 'Loss over 20 epoc')"
      ]
     },
     "execution_count": 192,
     "metadata": {},
     "output_type": "execute_result"
    },
    {
     "data": {
      "image/png": "[encoded data removed]",
      "text/plain": [
       "<Figure size 432x288 with 1 Axes>"
      ]
     },
     "metadata": {
      "needs_background": "light"
     },
     "output_type": "display_data"
    }
   ],
   "source": [
    "# Plot loss function pada setiap epoc\n",
    "import matplotlib.pyplot as plt\n",
    "\n",
    "plt.scatter(x = loss_each_epoc, y= [x+1 for x in range(len(loss_each_epoc))])\n",
    "plt.xlabel('Loss')\n",
    "plt.ylabel('Epoc')\n",
    "plt.title('Loss over 20 epoc')"
   ]
  },
  {
   "cell_type": "code",
   "execution_count": 193,
   "metadata": {},
   "outputs": [
    {
     "data": {
      "text/plain": [
       "[0.9370314290979302,\n",
       " 0.5640252471532697,\n",
       " 0.4495844337263821,\n",
       " 0.39435718162850253,\n",
       " 0.3617329597361122,\n",
       " 0.3399229339143248,\n",
       " 0.3240455875998014,\n",
       " 0.3117435446554834,\n",
       " 0.3017508873487664,\n",
       " 0.2933325650691057,\n",
       " 0.2860353716078117,\n",
       " 0.2795662798720004,\n",
       " 0.27372838451667164,\n",
       " 0.2683850796477088,\n",
       " 0.26343900542592813,\n",
       " 0.25881914890889945,\n",
       " 0.2544726567101624,\n",
       " 0.25035947812643833,\n",
       " 0.24644876641183844,\n",
       " 0.2427164043839823]"
      ]
     },
     "execution_count": 193,
     "metadata": {},
     "output_type": "execute_result"
    }
   ],
   "source": [
    "loss_each_epoc"
   ]
  },
  {
   "cell_type": "markdown",
   "metadata": {},
   "source": [
    "#### Generating Prediction"
   ]
  },
  {
   "cell_type": "markdown",
   "metadata": {},
   "source": [
    "Now, we already optimized our model during training process, we observed as we iterate through our learning process, the average loss is going down."
   ]
  },
  {
   "cell_type": "markdown",
   "metadata": {},
   "source": [
    "Now, we will try to generate prediction on rating, Let say we want to predict the rating on user 1 on item 1, Here is the process :     \n",
    "1. Get all parameters $bu,bi,pu,qi$\n",
    "2. Create prediction function\n",
    "3. Generate Prediction"
   ]
  },
  {
   "cell_type": "markdown",
   "metadata": {},
   "source": [
    "**Get all parameters $bu,bi,pu,qi$**\n",
    "\n",
    "parameter for user 1 and item 1"
   ]
  },
  {
   "cell_type": "code",
   "execution_count": 196,
   "metadata": {},
   "outputs": [],
   "source": [
    "user_1_index = user_to_index[7]\n",
    "movie_1_index = movie_to_index[7]"
   ]
  },
  {
   "cell_type": "code",
   "execution_count": 197,
   "metadata": {},
   "outputs": [],
   "source": [
    "# Assign bias\n",
    "bu_1 = bu[user_1_index]\n",
    "bi_1 = bi[movie_1_index]\n",
    "\n",
    "# Assign factor\n",
    "pu_1 = pu[user_1_index]\n",
    "qi_1 = qi[movie_1_index]"
   ]
  },
  {
   "cell_type": "code",
   "execution_count": 198,
   "metadata": {},
   "outputs": [
    {
     "name": "stdout",
     "output_type": "stream",
     "text": [
      "Prediksi rating User 1 dan Item 1 2.011582079356261\n"
     ]
    }
   ],
   "source": [
    "# Buat fungsi prediksi\n",
    "baseline_pred = global_mean + bu_1 + bi_1\n",
    "\n",
    "pred_ratings = baseline_pred + (pu_1.dot(qi_1.T))\n",
    "print('Prediksi rating User 1 dan Item 1', pred_ratings)"
   ]
  },
  {
   "cell_type": "code",
   "execution_count": 199,
   "metadata": {},
   "outputs": [],
   "source": [
    "# Buat object SVD sebagai class\n",
    "class FunkSVD():\n",
    "    \n",
    "    def __init__(self, n_fact = 50, n_epoc=20, lr = 0.001, lambda_reg=0.002) -> None:\n",
    "        \"\"\"\n",
    "        Inisialisasi Model Hyperparameter / Configuration\n",
    "        \n",
    "        Parameters\n",
    "        ----------\n",
    "        n_fact : int\n",
    "            Jumlah latent factor untuk digunakan\n",
    "            \n",
    "        n_epoc : int\n",
    "            Jumlah iterasi selama model training (epoc)\n",
    "            \n",
    "        lr : float\n",
    "            learning rate\n",
    "        \n",
    "        lambda_reg : float\n",
    "            Regularisasi untuk objek fungsi / model parameter\n",
    "            \n",
    "        Returns\n",
    "        -------\n",
    "        -\n",
    "        \"\"\"\n",
    "        self.n_fact = n_fact\n",
    "        self.n_epoc = n_epoc\n",
    "        self.lr = lr\n",
    "        self.lambda_reg = lambda_reg\n",
    "        \n",
    "    def generate_mapping(self):\n",
    "        \"\"\"\n",
    "        Fungsi untuk generate mapping untuk userid dan movieid\n",
    "        \"\"\"\n",
    "        self.user_to_index = { user_id : index for index, user_id in\n",
    "                                     enumerate(self.utility_matrix[self.user_column].unique())}\n",
    "        \n",
    "        self.index_to_user = { index : user_id for index, user_id in\n",
    "                                     enumerate(self.utility_matrix[self.user_column].unique())}\n",
    "        \n",
    "        self.item_to_index = { item_id : user_id for index, item_id in\n",
    "                                     enumerate(self.utility_matrix[self.item_column].unique())}\n",
    "        \n",
    "        self.index_to_item = { index : item_id for index, item_id in\n",
    "                                     enumerate(self.utility_matrix[self.item_column].unique())}\n",
    "        \n",
    "    def init_params(self):\n",
    "        \"\"\"\n",
    "        Initialisasi bias dan latent factor matrix.\n",
    "        \n",
    "        Parameters\n",
    "        ----------\n",
    "        n_user : int\n",
    "            Jumlah unik user\n",
    "        \n",
    "        n_item : int\n",
    "            Jumlah unik item\n",
    "        \n",
    "        n_fact : int\n",
    "            Jumlah faktor\n",
    "        \n",
    "        Returns\n",
    "        -------\n",
    "        bu : numpy.array\n",
    "            Vektor user bias\n",
    "            \n",
    "        bi : numpy.array\n",
    "            Vektor item bias\n",
    "            \n",
    "        pu : numpy.array\n",
    "            Matrix user latent faktor\n",
    "            \n",
    "        qi : numpy.array\n",
    "            Matrix item latent faktor\n",
    "        \"\"\"\n",
    "        bu = np.zeros(self.n_users)\n",
    "        bi = np.zeros(self.n_items)\n",
    "        \n",
    "        pu = np.random.normal(0, .1, (self.n_users, self.n_fact))\n",
    "        qi = np.random.normal(0, .1, (self.n_items, self.n_fact))\n",
    "        \n",
    "        return bu, bi, pu, qi\n",
    "    \n",
    "    def update_params(self, n_epoc, global_mean, bu, bi, pu, qi):\n",
    "        \"\"\"\n",
    "        Fungsi untuk update parameter dengan gradient descent\n",
    "        \n",
    "        Parameters\n",
    "        ----------\n",
    "        n_epoc : int\n",
    "            Jumlah epoc\n",
    "        global_mean : float\n",
    "            Global mean untuk menghitung prediksi baseline\n",
    "        bu : numpy.array\n",
    "            Vektor user bias\n",
    "        bi : numpy.array\n",
    "            Vektor item bias\n",
    "        pu : numpy.array\n",
    "            latent faktor user matrix \n",
    "        qi : numpy.array\n",
    "            latent faktor item matrix \n",
    "            \n",
    "        Returns\n",
    "        --------\n",
    "        bu : numpy.array\n",
    "            Update vektor user bias\n",
    "        bi : numpy.array\n",
    "            Update vektor item bias\n",
    "        pu : numpy.array\n",
    "            Update latent faktor user matrix \n",
    "        qi : numpy.array\n",
    "            Update latent faktor item matrix \n",
    "        loss_each_epoc : list\n",
    "            Average loss each epoc\n",
    "        \n",
    "        \"\"\"\n",
    "        # Copy parameter untuk menghindari tertimpa\n",
    "        bu = bu.copy()\n",
    "        bi = bi.copy()\n",
    "        pu = pu.copy()\n",
    "        qi = qi.copy()\n",
    "        \n",
    "        # Update parameter\n",
    "        loss_each_epoc = []\n",
    "        for i in range(n_epoc):\n",
    "            # Tambahkan list kosong untuk menambah rata-rata loss tiap epoc\n",
    "            avg_loss_train_samples = []\n",
    "            # Iterasi seluruh data training\n",
    "            for train_sample in rating_matrix_funk:\n",
    "                # Ekstraksi UserID, MovieIDs, Ratings\n",
    "                user = int(train_sample[0])\n",
    "                movie = int(train_sample[1])\n",
    "                rating = train_sample[2]\n",
    "\n",
    "                # Dapatkan index User\n",
    "                user_index = user_to_index[user]\n",
    "                movie_index = movie_to_index[movie]\n",
    "\n",
    "                # Prediksi Rating\n",
    "                # Filter setiap parameter\n",
    "                b_user = bu[user_index]\n",
    "                b_item = bi[movie_index]\n",
    "                p_user = pu[user_index]\n",
    "                q_item = qi[movie_index]\n",
    "\n",
    "                # Menghitung baseline prediction\n",
    "                baseline_predict = global_mean + b_user + b_item\n",
    "\n",
    "                pred_rating = baseline_predict + (p_user.dot(q_item.T))\n",
    "\n",
    "                # Hitung loss / objective\n",
    "                loss = 1/2*((rating - pred_rating)**2) + lambda_reg*(b_user**2 + b_item**2 + norm(p_user)**2 + norm(q_item)**2)\n",
    "\n",
    "                # Tambahkan komponen loss\n",
    "                avg_loss_train_samples.append(loss)\n",
    "\n",
    "                # Hitung gradient, dy / d(parameter)\n",
    "                gradient_user_bias = (rating - pred_rating) - lambda_reg*b_user\n",
    "                gradient_item_bias = (rating - pred_rating) - lambda_reg*b_item\n",
    "                gradient_user_factor = (rating - pred_rating) - lambda_reg*p_user\n",
    "                gradient_item_factor = (rating - pred_rating) - lambda_reg*q_item\n",
    "\n",
    "                # Hitung gradient, dy / d(parameter)\n",
    "                bu[user_index] += lr * gradient_user_bias\n",
    "                bi[movie_index] += lr * gradient_item_bias\n",
    "                pu[user_index] += lr * gradient_user_factor\n",
    "                qi[movie_index] += lr * gradient_item_factor\n",
    "            avg_loss_train_samples = np.mean(avg_loss_train_samples)\n",
    "            loss_each_epoc.append(avg_loss_train_samples)\n",
    "        \n",
    "        return bu, bi, pu, qi, loss_each_epoc\n",
    "    \n",
    "    def fit(self, utility_matrix, user_column, item_column, utility_column):\n",
    "        \"\"\"\n",
    "        Fungsi untuk fitting utility matrix\n",
    "        \n",
    "        Parameters\n",
    "        ----------\n",
    "            utility_matrix (pd.DataFrame): _description_\n",
    "            user_column (str): _description_\n",
    "            item_column (str): _description_\n",
    "            utility_column (str): _description_\n",
    "\n",
    "        Returns :\n",
    "        -----------\n",
    "        self (object)\n",
    "               \n",
    "        \"\"\"\n",
    "        self.utility_matrix = utility_matrix\n",
    "        self.user_column = user_column\n",
    "        self.item_column = item_column\n",
    "        self.utility_column = utility_column\n",
    "\n",
    "        # setting position of column\n",
    "        self.utility_matrix = self.utility_matrix[[self.user_column,self.item_column,self.utility_column]]\n",
    "        # yield number of user\n",
    "        self.n_users = self.utility_matrix[self.user_column].nunique()\n",
    "        # yield number of items\n",
    "        self.n_items = self.utility_matrix[self.item_column].nunique()\n",
    "\n",
    "        # create id_mapping for user & item\n",
    "        self.generate_mapping()\n",
    "\n",
    "        # convert to numpy array\n",
    "        self.utility_matrix = self.utility_matrix.to_numpy()\n",
    "\n",
    "\n",
    "        # initialize parameters\n",
    "        bu,bi,pu,qi = self.init_params()\n",
    "\n",
    "        # extract global mean\n",
    "        self.global_mean = self.utility_matrix[:,2].mean()\n",
    "\n",
    "        # update parameters\n",
    "        bu_updated, bi_updated, pu_updated,qi_updated,loss = self.update_params(n_epoc = self.n_epoc,\n",
    "                                                                                global_mean = self.global_mean,\n",
    "                                                                                bu= bu, bi= bi, pu= pu, qi= qi)\n",
    "\n",
    "\n",
    "        # set updated parameter as part of object\n",
    "        self.bu = bu_updated\n",
    "        self.bi = bi_updated\n",
    "        self.pu = pu_updated\n",
    "        self.qi = qi_updated\n",
    "        \n",
    "    def predict_rating(self,user,item) :\n",
    "        \"\"\"\n",
    "\n",
    "\n",
    "        Parameters :\n",
    "        -----------\n",
    "            utility_matrix (pd.DataFrame): _description_\n",
    "            user_column (str): _description_\n",
    "            item_column (str): _description_\n",
    "            utility_column (str): _description_\n",
    "\n",
    "        Returns :\n",
    "        -----------\n",
    "        self (object)\n",
    "        \"\"\"\n",
    "\n",
    "        # get user idx\n",
    "        user_index = self.user_to_index[user]\n",
    "        item_index = self.item_to_index[item]\n",
    "        # predict rating\n",
    "\n",
    "        # slice each parameter\n",
    "        b_user = self.bu[user_index]\n",
    "        b_item = self.bi[item_index]\n",
    "        p_user = self.pu[user_index]\n",
    "        q_item = self.qi[item_index]\n",
    "\n",
    "        # calculate baseline prediction\n",
    "        baseline_prediction = self.global_mean + b_user + b_item\n",
    "\n",
    "        predicted_rating = baseline_prediction + (p_user.dot(q_item.T))\n",
    "\n",
    "        return predicted_rating"
   ]
  },
  {
   "cell_type": "code",
   "execution_count": 213,
   "metadata": {},
   "outputs": [
    {
     "name": "stderr",
     "output_type": "stream",
     "text": [
      "C:\\Users\\Axel\\AppData\\Local\\Temp/ipykernel_25092/160660861.py:152: RuntimeWarning: overflow encountered in double_scalars\n",
      "  loss = 1/2*((rating - pred_rating)**2) + lambda_reg*(b_user**2 + b_item**2 + norm(p_user)**2 + norm(q_item)**2)\n",
      "C:\\Users\\Axel\\AppData\\Local\\Temp/ipykernel_25092/160660861.py:149: RuntimeWarning: invalid value encountered in double_scalars\n",
      "  pred_rating = baseline_predict + (p_user.dot(q_item.T))\n",
      "C:\\Users\\Axel\\AppData\\Local\\Temp/ipykernel_25092/160660861.py:164: RuntimeWarning: invalid value encountered in double_scalars\n",
      "  bu[user_index] += lr * gradient_user_bias\n",
      "C:\\Users\\Axel\\AppData\\Local\\Temp/ipykernel_25092/160660861.py:166: RuntimeWarning: invalid value encountered in add\n",
      "  pu[user_index] += lr * gradient_user_factor\n",
      "C:\\Users\\Axel\\AppData\\Local\\Temp/ipykernel_25092/160660861.py:165: RuntimeWarning: invalid value encountered in double_scalars\n",
      "  bi[movie_index] += lr * gradient_item_bias\n",
      "C:\\Users\\Axel\\AppData\\Local\\Temp/ipykernel_25092/160660861.py:167: RuntimeWarning: invalid value encountered in add\n",
      "  qi[movie_index] += lr * gradient_item_factor\n",
      "C:\\Users\\Axel\\AppData\\Local\\Temp/ipykernel_25092/160660861.py:147: RuntimeWarning: invalid value encountered in double_scalars\n",
      "  baseline_predict = global_mean + b_user + b_item\n",
      "0it [00:00, ?it/s]"
     ]
    },
    {
     "data": {
      "text/plain": [
       "<tqdm.std.tqdm at 0x29384c5e6a0>"
      ]
     },
     "execution_count": 213,
     "metadata": {},
     "output_type": "execute_result"
    }
   ],
   "source": [
    "model = FunkSVD()\n",
    "tqdm(model.fit(utility_matrix= df_ratings, user_column='UserID',\n",
    "          item_column= 'MovieIDs',utility_column= 'Ratings'))"
   ]
  },
  {
   "cell_type": "code",
   "execution_count": 216,
   "metadata": {},
   "outputs": [
    {
     "data": {
      "text/plain": [
       "nan"
      ]
     },
     "execution_count": 216,
     "metadata": {},
     "output_type": "execute_result"
    }
   ],
   "source": [
    "model.predict_rating(user=1,item=7)"
   ]
  },
  {
   "cell_type": "markdown",
   "metadata": {},
   "source": [
    "# Train Recommender System Model"
   ]
  },
  {
   "cell_type": "code",
   "execution_count": 217,
   "metadata": {},
   "outputs": [
    {
     "data": {
      "text/plain": [
       "<surprise.reader.Reader at 0x29384c5e520>"
      ]
     },
     "execution_count": 217,
     "metadata": {},
     "output_type": "execute_result"
    }
   ],
   "source": [
    "# Inisiasai rating scale\n",
    "reader = Reader(rating_scale = (1, 5))\n",
    "reader"
   ]
  },
  {
   "cell_type": "markdown",
   "metadata": {},
   "source": [
    "### Data Preparation"
   ]
  },
  {
   "cell_type": "code",
   "execution_count": 218,
   "metadata": {},
   "outputs": [
    {
     "data": {
      "text/plain": [
       "<surprise.dataset.DatasetAutoFolds at 0x293cf54ddf0>"
      ]
     },
     "execution_count": 218,
     "metadata": {},
     "output_type": "execute_result"
    }
   ],
   "source": [
    "utility_data_funk = Dataset.load_from_df(\n",
    "                    df = df_ratings[['UserID', 'MovieIDs', 'Ratings']].copy(),\n",
    "                    reader = reader\n",
    "                )\n",
    "\n",
    "utility_data_funk"
   ]
  },
  {
   "cell_type": "code",
   "execution_count": 219,
   "metadata": {},
   "outputs": [
    {
     "data": {
      "text/html": [
       "<div>\n",
       "<style scoped>\n",
       "    .dataframe tbody tr th:only-of-type {\n",
       "        vertical-align: middle;\n",
       "    }\n",
       "\n",
       "    .dataframe tbody tr th {\n",
       "        vertical-align: top;\n",
       "    }\n",
       "\n",
       "    .dataframe thead th {\n",
       "        text-align: right;\n",
       "    }\n",
       "</style>\n",
       "<table border=\"1\" class=\"dataframe\">\n",
       "  <thead>\n",
       "    <tr style=\"text-align: right;\">\n",
       "      <th></th>\n",
       "      <th>UserID</th>\n",
       "      <th>MovieIDs</th>\n",
       "      <th>Ratings</th>\n",
       "    </tr>\n",
       "  </thead>\n",
       "  <tbody>\n",
       "    <tr>\n",
       "      <th>0</th>\n",
       "      <td>1</td>\n",
       "      <td>1193</td>\n",
       "      <td>5.0</td>\n",
       "    </tr>\n",
       "    <tr>\n",
       "      <th>1</th>\n",
       "      <td>1</td>\n",
       "      <td>661</td>\n",
       "      <td>3.0</td>\n",
       "    </tr>\n",
       "    <tr>\n",
       "      <th>2</th>\n",
       "      <td>1</td>\n",
       "      <td>914</td>\n",
       "      <td>3.0</td>\n",
       "    </tr>\n",
       "    <tr>\n",
       "      <th>3</th>\n",
       "      <td>1</td>\n",
       "      <td>3408</td>\n",
       "      <td>4.0</td>\n",
       "    </tr>\n",
       "    <tr>\n",
       "      <th>4</th>\n",
       "      <td>1</td>\n",
       "      <td>2355</td>\n",
       "      <td>5.0</td>\n",
       "    </tr>\n",
       "  </tbody>\n",
       "</table>\n",
       "</div>"
      ],
      "text/plain": [
       "   UserID  MovieIDs  Ratings\n",
       "0       1      1193      5.0\n",
       "1       1       661      3.0\n",
       "2       1       914      3.0\n",
       "3       1      3408      4.0\n",
       "4       1      2355      5.0"
      ]
     },
     "execution_count": 219,
     "metadata": {},
     "output_type": "execute_result"
    }
   ],
   "source": [
    "utility_data_funk.df.head()"
   ]
  },
  {
   "cell_type": "markdown",
   "metadata": {},
   "source": [
    "### Split Train-Test\n",
    "---"
   ]
  },
  {
   "cell_type": "code",
   "execution_count": 220,
   "metadata": {},
   "outputs": [],
   "source": [
    "# Bagi dataset\n",
    "full_data, train_data, test_data = train_test_split(utility_data_funk,\n",
    "                                                    test_size = 0.2,\n",
    "                                                    random_state = 42)"
   ]
  },
  {
   "cell_type": "code",
   "execution_count": 221,
   "metadata": {},
   "outputs": [
    {
     "data": {
      "text/plain": [
       "(57076, 14269)"
      ]
     },
     "execution_count": 221,
     "metadata": {},
     "output_type": "execute_result"
    }
   ],
   "source": [
    "# Validasi pembagian dataset\n",
    "train_data.n_ratings, len(test_data)"
   ]
  },
  {
   "cell_type": "markdown",
   "metadata": {},
   "source": [
    "### Create the Model\n",
    "---"
   ]
  },
  {
   "cell_type": "markdown",
   "metadata": {},
   "source": [
    "**Model Candidate**\n",
    "\n",
    "1. Baseline Model ( Mean Prediction)  (does not have hyperparameter)\n",
    "2. Funk SVD, (Not SVD)"
   ]
  },
  {
   "cell_type": "code",
   "execution_count": 222,
   "metadata": {},
   "outputs": [],
   "source": [
    "# Load the model library\n",
    "# i.e. Baseline, SVD\n",
    "from surprise import AlgoBase, SVD"
   ]
  },
  {
   "cell_type": "markdown",
   "metadata": {},
   "source": [
    "**Train Baseline Model**"
   ]
  },
  {
   "cell_type": "code",
   "execution_count": 223,
   "metadata": {},
   "outputs": [
    {
     "data": {
      "text/plain": [
       "<__main__.MeanPrediction at 0x29384c33280>"
      ]
     },
     "execution_count": 223,
     "metadata": {},
     "output_type": "execute_result"
    }
   ],
   "source": [
    "model_baseline_funk = MeanPrediction()\n",
    "model_baseline_funk"
   ]
  },
  {
   "cell_type": "code",
   "execution_count": 224,
   "metadata": {},
   "outputs": [],
   "source": [
    "# Gunakan full_data dari cross validation\n",
    "cv_baseline = cross_validate(algo = model_baseline,\n",
    "                            data = full_data,\n",
    "                            cv = 5,\n",
    "                            measures = ['rmse'])"
   ]
  },
  {
   "cell_type": "code",
   "execution_count": 225,
   "metadata": {},
   "outputs": [
    {
     "data": {
      "text/plain": [
       "1.062800665832617"
      ]
     },
     "execution_count": 225,
     "metadata": {},
     "output_type": "execute_result"
    }
   ],
   "source": [
    "# Ekstraksi hasil CV\n",
    "cv_baseline_rmse = cv_baseline['test_rmse'].mean()\n",
    "cv_baseline_rmse"
   ]
  },
  {
   "cell_type": "markdown",
   "metadata": {},
   "source": [
    "to perform RandomizedSearchCV, `RandomizedSearchCV(algo_class, param_distributions,cv)`\n",
    "\n",
    "- **algo_class** : surprise model class, in our case, we are using **KNNBaseline** class, so algo_class=KNNBaseline\n",
    "\n",
    "- **param_distributions** :  dictionary containing param grid, the values should be in `list`\n",
    "\n",
    "- **cv** : number of fold to split, commonly 5\n"
   ]
  },
  {
   "cell_type": "markdown",
   "metadata": {},
   "source": [
    "**Train SVD Model**"
   ]
  },
  {
   "cell_type": "markdown",
   "metadata": {},
   "source": [
    "Hyperparameter that are in Funk SVD models are :     \n",
    "- $\\gamma$ : Learning Rate\n",
    "- n_factors : Number of letent factor\n",
    "- $\\lambda$ : Regularization strength"
   ]
  },
  {
   "cell_type": "markdown",
   "metadata": {},
   "source": [
    "Hyperparameter Candidate :     \n",
    "1. Learning Rate ($\\gamma$)\n",
    "\n",
    "For this experiment we will try several values\n",
    "\n",
    "[1,0.1,0.01,0.001,0.0001]\n",
    "\n",
    "2. Number of latent factors\n",
    "For this experiment we will try some values :    \n",
    "\n",
    "[50,100,200]\n",
    "\n",
    "3. Regularization Strength\n",
    "\n",
    "[1,0.1,0.01,0.02]\n"
   ]
  },
  {
   "cell_type": "code",
   "execution_count": 226,
   "metadata": {},
   "outputs": [],
   "source": [
    "# Buat dictionary untuk parameters\n",
    "params_SVD = {'lr_all' : [1,0.1,0.01,0.001,0.0001], 'n_factors': [50,100,200],\n",
    "              'reg_all' : [1,0.1,0.01,0.02]\n",
    "             }"
   ]
  },
  {
   "cell_type": "code",
   "execution_count": 227,
   "metadata": {},
   "outputs": [],
   "source": [
    "tuning_svd = RandomizedSearchCV(algo_class=SVD, param_distributions=params_SVD,\n",
    "                                cv = 5\n",
    "                               )"
   ]
  },
  {
   "cell_type": "code",
   "execution_count": null,
   "metadata": {},
   "outputs": [],
   "source": [
    "tuning_svd.fit(data=full_data)"
   ]
  },
  {
   "cell_type": "markdown",
   "metadata": {},
   "source": [
    "**Perbandingan Performa**"
   ]
  },
  {
   "cell_type": "code",
   "execution_count": 673,
   "metadata": {},
   "outputs": [
    {
     "data": {
      "text/html": [
       "<div>\n",
       "<style scoped>\n",
       "    .dataframe tbody tr th:only-of-type {\n",
       "        vertical-align: middle;\n",
       "    }\n",
       "\n",
       "    .dataframe tbody tr th {\n",
       "        vertical-align: top;\n",
       "    }\n",
       "\n",
       "    .dataframe thead th {\n",
       "        text-align: right;\n",
       "    }\n",
       "</style>\n",
       "<table border=\"1\" class=\"dataframe\">\n",
       "  <thead>\n",
       "    <tr style=\"text-align: right;\">\n",
       "      <th></th>\n",
       "      <th>Model</th>\n",
       "      <th>CV Performance - RMSE</th>\n",
       "      <th>Model Condiguration</th>\n",
       "    </tr>\n",
       "  </thead>\n",
       "  <tbody>\n",
       "    <tr>\n",
       "      <th>0</th>\n",
       "      <td>Baseline</td>\n",
       "      <td>1.052447</td>\n",
       "      <td>N/A</td>\n",
       "    </tr>\n",
       "    <tr>\n",
       "      <th>1</th>\n",
       "      <td>Funk SVD</td>\n",
       "      <td>0.887541</td>\n",
       "      <td>{'lr_all': 0.01, 'n_factors': 200, 'reg_all': ...</td>\n",
       "    </tr>\n",
       "  </tbody>\n",
       "</table>\n",
       "</div>"
      ],
      "text/plain": [
       "      Model  CV Performance - RMSE  \\\n",
       "0  Baseline               1.052447   \n",
       "1  Funk SVD               0.887541   \n",
       "\n",
       "                                 Model Condiguration  \n",
       "0                                                N/A  \n",
       "1  {'lr_all': 0.01, 'n_factors': 200, 'reg_all': ...  "
      ]
     },
     "execution_count": 673,
     "metadata": {},
     "output_type": "execute_result"
    }
   ],
   "source": [
    "summary_df = pd.DataFrame({'Model': ['Baseline', 'Funk SVD'],\n",
    "                           'CV Performance - RMSE': [cv_baseline_rmse,tuning_svd.best_score['rmse'] ],\n",
    "                           'Model Condiguration':['N/A',f'{tuning_svd.best_params[\"rmse\"]}']})\n",
    "\n",
    "summary_df"
   ]
  },
  {
   "cell_type": "markdown",
   "metadata": {},
   "source": [
    "**Kombinasi Hyperparameter Terbaik**"
   ]
  },
  {
   "cell_type": "code",
   "execution_count": 674,
   "metadata": {},
   "outputs": [
    {
     "data": {
      "text/plain": [
       "{'rmse': {'lr_all': 0.01, 'n_factors': 200, 'reg_all': 0.1},\n",
       " 'mae': {'lr_all': 0.01, 'n_factors': 200, 'reg_all': 0.1}}"
      ]
     },
     "execution_count": 674,
     "metadata": {},
     "output_type": "execute_result"
    }
   ],
   "source": [
    "tuning_svd.best_params"
   ]
  },
  {
   "cell_type": "code",
   "execution_count": 675,
   "metadata": {},
   "outputs": [],
   "source": [
    "best_params_svd = tuning_svd.best_params['rmse']"
   ]
  },
  {
   "cell_type": "code",
   "execution_count": 676,
   "metadata": {},
   "outputs": [
    {
     "data": {
      "text/plain": [
       "<surprise.prediction_algorithms.matrix_factorization.SVD at 0x228a95ee6d0>"
      ]
     },
     "execution_count": 676,
     "metadata": {},
     "output_type": "execute_result"
    }
   ],
   "source": [
    "# Buat object\n",
    "model_best = SVD(**best_params_svd)\n",
    "\n",
    "# Train data ke seluruh dataset\n",
    "model_best.fit(train_data)"
   ]
  },
  {
   "cell_type": "markdown",
   "metadata": {},
   "source": [
    "#### Evaluasi Model Terbaik"
   ]
  },
  {
   "cell_type": "markdown",
   "metadata": {},
   "source": [
    "**Evaluasi RMSE**"
   ]
  },
  {
   "cell_type": "code",
   "execution_count": 677,
   "metadata": {},
   "outputs": [],
   "source": [
    "# Import library\n",
    "from surprise import accuracy"
   ]
  },
  {
   "cell_type": "code",
   "execution_count": 678,
   "metadata": {},
   "outputs": [
    {
     "name": "stdout",
     "output_type": "stream",
     "text": [
      "RMSE: 0.8868\n"
     ]
    },
    {
     "data": {
      "text/plain": [
       "0.8867528619551197"
      ]
     },
     "execution_count": 678,
     "metadata": {},
     "output_type": "execute_result"
    }
   ],
   "source": [
    "test_pred = model_best.test(test_data)\n",
    "test_rmse = accuracy.rmse(test_pred)\n",
    "test_rmse"
   ]
  },
  {
   "cell_type": "code",
   "execution_count": 679,
   "metadata": {},
   "outputs": [
    {
     "data": {
      "text/html": [
       "<div>\n",
       "<style scoped>\n",
       "    .dataframe tbody tr th:only-of-type {\n",
       "        vertical-align: middle;\n",
       "    }\n",
       "\n",
       "    .dataframe tbody tr th {\n",
       "        vertical-align: top;\n",
       "    }\n",
       "\n",
       "    .dataframe thead th {\n",
       "        text-align: right;\n",
       "    }\n",
       "</style>\n",
       "<table border=\"1\" class=\"dataframe\">\n",
       "  <thead>\n",
       "    <tr style=\"text-align: right;\">\n",
       "      <th></th>\n",
       "      <th>Model</th>\n",
       "      <th>RMSE-Tuning</th>\n",
       "      <th>RMSE-Test</th>\n",
       "    </tr>\n",
       "  </thead>\n",
       "  <tbody>\n",
       "    <tr>\n",
       "      <th>0</th>\n",
       "      <td>User to User CF</td>\n",
       "      <td>0.887541</td>\n",
       "      <td>0.886753</td>\n",
       "    </tr>\n",
       "  </tbody>\n",
       "</table>\n",
       "</div>"
      ],
      "text/plain": [
       "             Model  RMSE-Tuning  RMSE-Test\n",
       "0  User to User CF     0.887541   0.886753"
      ]
     },
     "execution_count": 679,
     "metadata": {},
     "output_type": "execute_result"
    }
   ],
   "source": [
    "summary_test_df = pd.DataFrame({'Model' : ['User to User CF'],\n",
    "                                'RMSE-Tuning': [tuning_svd.best_score['rmse']],\n",
    "                                'RMSE-Test': [test_rmse]})\n",
    "\n",
    "summary_test_df"
   ]
  },
  {
   "cell_type": "markdown",
   "metadata": {},
   "source": [
    "## Prediksi Rekomendasi"
   ]
  },
  {
   "cell_type": "markdown",
   "metadata": {},
   "source": [
    "Decision Process is to recommend items to user\n",
    "from our trained model\n",
    "\n",
    "<image src=\"https://www.mdpi.com/applsci/applsci-10-05510/article_deploy/html/images/applsci-10-05510-g001.png\" image>\n",
    "\n",
    "\n",
    "\n",
    "\n",
    "1. User to User Collaborative Filtering\n",
    "\n",
    "  We already trained our best model on full dataset, now its time to utilize our model to generate recommendation.\n"
   ]
  },
  {
   "cell_type": "code",
   "execution_count": 680,
   "metadata": {},
   "outputs": [],
   "source": [
    "# Prediksi menggunakan rating user 9 dan movie 10\n",
    "sample_pred = model_best.predict(uid = 9,\n",
    "                                      iid = 10)"
   ]
  },
  {
   "cell_type": "code",
   "execution_count": 681,
   "metadata": {},
   "outputs": [
    {
     "data": {
      "text/plain": [
       "Prediction(uid=9, iid=10, r_ui=None, est=3.601422098494135, details={'was_impossible': False})"
      ]
     },
     "execution_count": 681,
     "metadata": {},
     "output_type": "execute_result"
    }
   ],
   "source": [
    "sample_pred"
   ]
  },
  {
   "cell_type": "code",
   "execution_count": 682,
   "metadata": {},
   "outputs": [
    {
     "name": "stdout",
     "output_type": "stream",
     "text": [
      "{1, 2, 3, 2053, 2054, 10, 11, 16, 17, 2064, 19, 18, 21, 2072, 32, 2081, 34, 2082, 2080, 2085, 39, 41, 44, 2092, 2096, 2097, 50, 2102, 58, 2107, 2108, 2109, 62, 2111, 64, 2110, 2114, 2115, 2116, 2117, 70, 73, 2122, 2124, 2126, 85, 2134, 88, 2139, 2140, 95, 2146, 105, 2153, 110, 111, 2160, 2161, 2163, 118, 2167, 2174, 145, 2194, 150, 151, 152, 2201, 2202, 160, 166, 171, 172, 180, 2231, 185, 188, 2243, 2245, 2252, 2253, 216, 2268, 222, 2273, 227, 229, 2278, 231, 235, 2288, 2291, 2294, 246, 2302, 256, 2306, 260, 2311, 2312, 265, 266, 267, 2318, 2321, 273, 2324, 280, 2329, 288, 290, 2340, 293, 296, 2344, 2352, 306, 2355, 315, 316, 318, 319, 2369, 2376, 2381, 338, 339, 340, 342, 2393, 2394, 2395, 2396, 349, 356, 357, 2405, 2407, 2404, 358, 2412, 2413, 366, 367, 2416, 370, 2420, 2421, 2423, 376, 377, 380, 2428, 2431, 2433, 2434, 392, 407, 2456, 2457, 2463, 419, 2470, 428, 429, 2476, 431, 432, 2481, 435, 440, 441, 2490, 442, 2491, 446, 2496, 2501, 454, 2502, 457, 459, 464, 2513, 466, 2514, 2517, 2518, 472, 2527, 480, 2529, 479, 2531, 483, 487, 2539, 2542, 494, 2549, 502, 506, 508, 509, 2560, 516, 520, 2571, 524, 531, 532, 533, 539, 541, 2590, 546, 549, 2598, 2599, 552, 551, 2600, 555, 2605, 2613, 2616, 2617, 570, 575, 2630, 588, 589, 590, 593, 594, 595, 2641, 597, 2643, 2642, 608, 2657, 611, 616, 2666, 2671, 628, 2683, 2687, 2693, 2694, 647, 648, 2699, 2700, 653, 2701, 2706, 2707, 2716, 2717, 669, 2719, 2734, 2735, 692, 2747, 2754, 708, 2761, 2762, 720, 2771, 2779, 736, 2788, 2796, 2797, 750, 2804, 2805, 765, 778, 780, 784, 785, 788, 799, 800, 801, 2857, 2858, 2867, 2872, 832, 2881, 837, 838, 2890, 858, 2908, 2912, 866, 2916, 2917, 2918, 2919, 2920, 2924, 2927, 2929, 2948, 2949, 900, 2951, 904, 2953, 910, 2959, 912, 914, 915, 920, 2968, 922, 923, 924, 921, 2971, 2976, 934, 2986, 2987, 2989, 2990, 943, 2997, 951, 955, 968, 969, 3019, 3029, 982, 3033, 3034, 3035, 3037, 3039, 3040, 994, 3046, 999, 1011, 1012, 3066, 1019, 1018, 1021, 3067, 1023, 3072, 1028, 1029, 1032, 1036, 1041, 1042, 3090, 1047, 3096, 1049, 1050, 3100, 3104, 3108, 1060, 3114, 3115, 3118, 1073, 3124, 1077, 1079, 1081, 3130, 1084, 1085, 1086, 3134, 1088, 1095, 3148, 1101, 3152, 3153, 3156, 3158, 3160, 3168, 1120, 1125, 3174, 1127, 3176, 3175, 1136, 3185, 1150, 3199, 3201, 3203, 3210, 1183, 1187, 1188, 1191, 1196, 1197, 1198, 1199, 1200, 3250, 1204, 3253, 3254, 1207, 3256, 1208, 1210, 1213, 1215, 1219, 1220, 3269, 1222, 1223, 3274, 1230, 1231, 1233, 1234, 1235, 1238, 1240, 1242, 1246, 1247, 1250, 3298, 3300, 1251, 1256, 1257, 1258, 1259, 1263, 1264, 1265, 1267, 1268, 1269, 1270, 1272, 1276, 1278, 1282, 1285, 1287, 1288, 1291, 1293, 1294, 1297, 1299, 1301, 1302, 1304, 1307, 3359, 3361, 3362, 3363, 3364, 3365, 3366, 1320, 3370, 1331, 1333, 1334, 3385, 3386, 1339, 1344, 3396, 1348, 1350, 3401, 1358, 3408, 1363, 3417, 1370, 1371, 1372, 3421, 1374, 1375, 1376, 1377, 1378, 3424, 1380, 1382, 3431, 1385, 1388, 3438, 1392, 1393, 1394, 1396, 3448, 3453, 1408, 3461, 3462, 3469, 3471, 3479, 3481, 1438, 3487, 1441, 3489, 3499, 3504, 1459, 3508, 1461, 1466, 3516, 1476, 3527, 3528, 1485, 3534, 1488, 3543, 3545, 1499, 1500, 1503, 3552, 3553, 3555, 3557, 1526, 1527, 3576, 3578, 3591, 1544, 3597, 3598, 1558, 1562, 3615, 3624, 1580, 3629, 1584, 3635, 1589, 3638, 1591, 1597, 1602, 1603, 1604, 3654, 1610, 3661, 1617, 1620, 3671, 1629, 3684, 3685, 1639, 3688, 1641, 3700, 3701, 3703, 3704, 3705, 3706, 1660, 1663, 3713, 1668, 1673, 3723, 1676, 1678, 3726, 3729, 1682, 1683, 3730, 3733, 1693, 3742, 1702, 3751, 1704, 3752, 3758, 1711, 1721, 1722, 3771, 1726, 1734, 3786, 3793, 3798, 3809, 1762, 3811, 3819, 3821, 3824, 3827, 3831, 1784, 1805, 3855, 1810, 3861, 3863, 3868, 3869, 3873, 1833, 1834, 1836, 3893, 1845, 1848, 3911, 3917, 1874, 3927, 3932, 3937, 1892, 3946, 3948, 1907, 1909, 1912, 1914, 1918, 1920, 1939, 1943, 1945, 1947, 1952, 1954, 1955, 1956, 1957, 1958, 1960, 1961, 1962, 1963, 1965, 1968, 1974, 1977, 1988, 1991, 1993, 1994, 1997, 2000, 2003, 2004, 2005, 2006, 2011, 2012, 2013, 2014, 2019, 2020, 2028, 2029, 2038, 2041, 2046}\n"
     ]
    }
   ],
   "source": [
    "# Prediksi seluruh unseen/unrated movie oleh user 9\n",
    "unique_movie_id = set(df_ratings['MovieIDs'])\n",
    "print(unique_movie_id)"
   ]
  },
  {
   "cell_type": "code",
   "execution_count": 683,
   "metadata": {},
   "outputs": [
    {
     "name": "stdout",
     "output_type": "stream",
     "text": [
      "{1, 778, 2571, 524, 2959, 1784, 16, 1682, 912, 2324, 150, 920, 1307, 1060, 3751, 1704, 2599, 2858, 3114, 1961, 428, 1584, 50, 2355, 3253, 1721, 1466, 1210, 1213, 318, 838, 1223, 457, 2890, 2762, 3148, 590, 1358, 720, 3793, 1617, 593, 3408, 597, 1233, 3160, 2268, 1500, 349, 608, 480, 3298, 994, 2278, 1639, 3948, 2028, 367, 1393, 1265, 2294, 1912, 377, 508, 2302}\n"
     ]
    }
   ],
   "source": [
    "# MovieIDs yang telah dinilai oleh user 9\n",
    "rated_movie_id = set(df_ratings.loc[df_ratings['UserID']==9, 'MovieIDs'])\n",
    "print(rated_movie_id)"
   ]
  },
  {
   "cell_type": "code",
   "execution_count": 684,
   "metadata": {},
   "outputs": [
    {
     "name": "stdout",
     "output_type": "stream",
     "text": [
      "{2, 3, 2053, 2054, 10, 11, 17, 2064, 19, 18, 21, 2072, 32, 2081, 34, 2082, 2080, 2085, 39, 41, 44, 2092, 2096, 2097, 2102, 58, 2107, 2108, 2109, 62, 2111, 64, 2110, 2114, 2115, 2116, 2117, 70, 73, 2122, 2124, 2126, 85, 2134, 88, 2139, 2140, 95, 2146, 105, 2153, 110, 111, 2160, 2161, 2163, 118, 2167, 2174, 145, 2194, 151, 152, 2201, 2202, 160, 166, 171, 172, 180, 2231, 185, 188, 2243, 2245, 2252, 2253, 216, 222, 2273, 227, 229, 231, 235, 2288, 2291, 246, 256, 2306, 260, 2311, 2312, 265, 266, 267, 2318, 2321, 273, 280, 2329, 288, 290, 2340, 293, 296, 2344, 2352, 306, 315, 316, 319, 2369, 2376, 2381, 338, 339, 340, 342, 2393, 2394, 2395, 2396, 356, 357, 2405, 2407, 2404, 358, 2412, 2413, 366, 2416, 370, 2420, 2421, 2423, 376, 380, 2428, 2431, 2433, 2434, 392, 407, 2456, 2457, 2463, 419, 2470, 429, 2476, 431, 432, 2481, 435, 440, 441, 2490, 442, 2491, 446, 2496, 2501, 454, 2502, 459, 464, 2513, 466, 2514, 2517, 2518, 472, 2527, 2529, 479, 2531, 483, 487, 2539, 2542, 494, 2549, 502, 506, 509, 2560, 516, 520, 531, 532, 533, 539, 541, 2590, 546, 549, 2598, 552, 551, 2600, 555, 2605, 2613, 2616, 2617, 570, 575, 2630, 588, 589, 594, 595, 2641, 2643, 2642, 2657, 611, 616, 2666, 2671, 628, 2683, 2687, 2693, 2694, 647, 648, 2699, 2700, 653, 2701, 2706, 2707, 2716, 2717, 669, 2719, 2734, 2735, 692, 2747, 2754, 708, 2761, 2771, 2779, 736, 2788, 2796, 2797, 750, 2804, 2805, 765, 780, 784, 785, 788, 799, 800, 801, 2857, 2867, 2872, 832, 2881, 837, 858, 2908, 2912, 866, 2916, 2917, 2918, 2919, 2920, 2924, 2927, 2929, 2948, 2949, 900, 2951, 904, 2953, 910, 914, 915, 2968, 922, 923, 924, 921, 2971, 2976, 934, 2986, 2987, 2989, 2990, 943, 2997, 951, 955, 968, 969, 3019, 3029, 982, 3033, 3034, 3035, 3037, 3039, 3040, 3046, 999, 1011, 1012, 3066, 1019, 1018, 1021, 3067, 1023, 3072, 1028, 1029, 1032, 1036, 1041, 1042, 3090, 1047, 3096, 1049, 1050, 3100, 3104, 3108, 3115, 3118, 1073, 3124, 1077, 1079, 1081, 3130, 1084, 1085, 1086, 3134, 1088, 1095, 1101, 3152, 3153, 3156, 3158, 3168, 1120, 1125, 3174, 1127, 3176, 3175, 1136, 3185, 1150, 3199, 3201, 3203, 3210, 1183, 1187, 1188, 1191, 1196, 1197, 1198, 1199, 1200, 3250, 1204, 3254, 1207, 3256, 1208, 1215, 1219, 1220, 3269, 1222, 3274, 1230, 1231, 1234, 1235, 1238, 1240, 1242, 1246, 1247, 1250, 3300, 1251, 1256, 1257, 1258, 1259, 1263, 1264, 1267, 1268, 1269, 1270, 1272, 1276, 1278, 1282, 1285, 1287, 1288, 1291, 1293, 1294, 1297, 1299, 1301, 1302, 1304, 3359, 3361, 3362, 3363, 3364, 3365, 3366, 1320, 3370, 1331, 1333, 1334, 3385, 3386, 1339, 1344, 3396, 1348, 1350, 3401, 1363, 3417, 1370, 1371, 1372, 3421, 1374, 1375, 1376, 1377, 1378, 3424, 1380, 1382, 3431, 1385, 1388, 3438, 1392, 1394, 1396, 3448, 3453, 1408, 3461, 3462, 3469, 3471, 3479, 3481, 1438, 3487, 1441, 3489, 3499, 3504, 1459, 3508, 1461, 3516, 1476, 3527, 3528, 1485, 3534, 1488, 3543, 3545, 1499, 1503, 3552, 3553, 3555, 3557, 1526, 1527, 3576, 3578, 3591, 1544, 3597, 3598, 1558, 1562, 3615, 3624, 1580, 3629, 3635, 1589, 3638, 1591, 1597, 1602, 1603, 1604, 3654, 1610, 3661, 1620, 3671, 1629, 3684, 3685, 3688, 1641, 3700, 3701, 3703, 3704, 3705, 3706, 1660, 1663, 3713, 1668, 1673, 3723, 1676, 1678, 3726, 3729, 1683, 3730, 3733, 1693, 3742, 1702, 3752, 3758, 1711, 1722, 3771, 1726, 1734, 3786, 3798, 3809, 1762, 3811, 3819, 3821, 3824, 3827, 3831, 1805, 3855, 1810, 3861, 3863, 3868, 3869, 3873, 1833, 1834, 1836, 3893, 1845, 1848, 3911, 3917, 1874, 3927, 3932, 3937, 1892, 3946, 1907, 1909, 1914, 1918, 1920, 1939, 1943, 1945, 1947, 1952, 1954, 1955, 1956, 1957, 1958, 1960, 1962, 1963, 1965, 1968, 1974, 1977, 1988, 1991, 1993, 1994, 1997, 2000, 2003, 2004, 2005, 2006, 2011, 2012, 2013, 2014, 2019, 2020, 2029, 2038, 2041, 2046}\n"
     ]
    }
   ],
   "source": [
    "# Dapatkan unrated MovieIDs\n",
    "unrated_movie_id = unique_movie_id.difference(rated_movie_id)\n",
    "print(unrated_movie_id)"
   ]
  },
  {
   "cell_type": "code",
   "execution_count": 685,
   "metadata": {},
   "outputs": [
    {
     "data": {
      "text/html": [
       "<div>\n",
       "<style scoped>\n",
       "    .dataframe tbody tr th:only-of-type {\n",
       "        vertical-align: middle;\n",
       "    }\n",
       "\n",
       "    .dataframe tbody tr th {\n",
       "        vertical-align: top;\n",
       "    }\n",
       "\n",
       "    .dataframe thead th {\n",
       "        text-align: right;\n",
       "    }\n",
       "</style>\n",
       "<table border=\"1\" class=\"dataframe\">\n",
       "  <thead>\n",
       "    <tr style=\"text-align: right;\">\n",
       "      <th></th>\n",
       "      <th>UserID</th>\n",
       "      <th>MovieIDs</th>\n",
       "      <th>Pred_Rating</th>\n",
       "    </tr>\n",
       "  </thead>\n",
       "  <tbody>\n",
       "    <tr>\n",
       "      <th>380</th>\n",
       "      <td>9</td>\n",
       "      <td>1198</td>\n",
       "      <td>4.449005</td>\n",
       "    </tr>\n",
       "    <tr>\n",
       "      <th>635</th>\n",
       "      <td>9</td>\n",
       "      <td>2019</td>\n",
       "      <td>4.427475</td>\n",
       "    </tr>\n",
       "    <tr>\n",
       "      <th>478</th>\n",
       "      <td>9</td>\n",
       "      <td>3469</td>\n",
       "      <td>4.389990</td>\n",
       "    </tr>\n",
       "    <tr>\n",
       "      <th>386</th>\n",
       "      <td>9</td>\n",
       "      <td>1207</td>\n",
       "      <td>4.379637</td>\n",
       "    </tr>\n",
       "    <tr>\n",
       "      <th>89</th>\n",
       "      <td>9</td>\n",
       "      <td>260</td>\n",
       "      <td>4.332613</td>\n",
       "    </tr>\n",
       "  </tbody>\n",
       "</table>\n",
       "</div>"
      ],
      "text/plain": [
       "     UserID  MovieIDs  Pred_Rating\n",
       "380       9      1198     4.449005\n",
       "635       9      2019     4.427475\n",
       "478       9      3469     4.389990\n",
       "386       9      1207     4.379637\n",
       "89        9       260     4.332613"
      ]
     },
     "execution_count": 685,
     "metadata": {},
     "output_type": "execute_result"
    }
   ],
   "source": [
    "predicted_unrated_movie = get_pred_unrated_item(userid = 9,\n",
    "                                                est = model_best,\n",
    "                                                unrated_item_id = unrated_movie_id)\n",
    "\n",
    "predicted_unrated_movie.head()"
   ]
  },
  {
   "cell_type": "code",
   "execution_count": 686,
   "metadata": {},
   "outputs": [
    {
     "data": {
      "text/html": [
       "<div>\n",
       "<style scoped>\n",
       "    .dataframe tbody tr th:only-of-type {\n",
       "        vertical-align: middle;\n",
       "    }\n",
       "\n",
       "    .dataframe tbody tr th {\n",
       "        vertical-align: top;\n",
       "    }\n",
       "\n",
       "    .dataframe thead th {\n",
       "        text-align: right;\n",
       "    }\n",
       "</style>\n",
       "<table border=\"1\" class=\"dataframe\">\n",
       "  <thead>\n",
       "    <tr style=\"text-align: right;\">\n",
       "      <th></th>\n",
       "      <th>UserID</th>\n",
       "      <th>MovieIDs</th>\n",
       "      <th>Pred_Rating</th>\n",
       "    </tr>\n",
       "  </thead>\n",
       "  <tbody>\n",
       "    <tr>\n",
       "      <th>380</th>\n",
       "      <td>9</td>\n",
       "      <td>1198</td>\n",
       "      <td>4.449005</td>\n",
       "    </tr>\n",
       "    <tr>\n",
       "      <th>635</th>\n",
       "      <td>9</td>\n",
       "      <td>2019</td>\n",
       "      <td>4.427475</td>\n",
       "    </tr>\n",
       "    <tr>\n",
       "      <th>478</th>\n",
       "      <td>9</td>\n",
       "      <td>3469</td>\n",
       "      <td>4.389990</td>\n",
       "    </tr>\n",
       "    <tr>\n",
       "      <th>386</th>\n",
       "      <td>9</td>\n",
       "      <td>1207</td>\n",
       "      <td>4.379637</td>\n",
       "    </tr>\n",
       "    <tr>\n",
       "      <th>89</th>\n",
       "      <td>9</td>\n",
       "      <td>260</td>\n",
       "      <td>4.332613</td>\n",
       "    </tr>\n",
       "  </tbody>\n",
       "</table>\n",
       "</div>"
      ],
      "text/plain": [
       "     UserID  MovieIDs  Pred_Rating\n",
       "380       9      1198     4.449005\n",
       "635       9      2019     4.427475\n",
       "478       9      3469     4.389990\n",
       "386       9      1207     4.379637\n",
       "89        9       260     4.332613"
      ]
     },
     "execution_count": 686,
     "metadata": {},
     "output_type": "execute_result"
    }
   ],
   "source": [
    "# top k rating tertinggi\n",
    "k = 5\n",
    "top_movie = predicted_unrated_movie.head(k).copy()\n",
    "top_movie"
   ]
  },
  {
   "cell_type": "code",
   "execution_count": 688,
   "metadata": {},
   "outputs": [
    {
     "data": {
      "text/html": [
       "<div>\n",
       "<style scoped>\n",
       "    .dataframe tbody tr th:only-of-type {\n",
       "        vertical-align: middle;\n",
       "    }\n",
       "\n",
       "    .dataframe tbody tr th {\n",
       "        vertical-align: top;\n",
       "    }\n",
       "\n",
       "    .dataframe thead th {\n",
       "        text-align: right;\n",
       "    }\n",
       "</style>\n",
       "<table border=\"1\" class=\"dataframe\">\n",
       "  <thead>\n",
       "    <tr style=\"text-align: right;\">\n",
       "      <th></th>\n",
       "      <th>UserID</th>\n",
       "      <th>MovieIDs</th>\n",
       "      <th>Pred_Rating</th>\n",
       "      <th>Title</th>\n",
       "      <th>Genre</th>\n",
       "    </tr>\n",
       "  </thead>\n",
       "  <tbody>\n",
       "    <tr>\n",
       "      <th>380</th>\n",
       "      <td>9</td>\n",
       "      <td>1198</td>\n",
       "      <td>4.449005</td>\n",
       "      <td>Big Blue, The (Le Grand Bleu) (1988)</td>\n",
       "      <td>Adventure|Romance</td>\n",
       "    </tr>\n",
       "    <tr>\n",
       "      <th>635</th>\n",
       "      <td>9</td>\n",
       "      <td>2019</td>\n",
       "      <td>4.427475</td>\n",
       "      <td>Popeye (1980)</td>\n",
       "      <td>Adventure|Comedy|Musical</td>\n",
       "    </tr>\n",
       "    <tr>\n",
       "      <th>478</th>\n",
       "      <td>9</td>\n",
       "      <td>3469</td>\n",
       "      <td>4.389990</td>\n",
       "      <td>East is East (1999)</td>\n",
       "      <td>Comedy</td>\n",
       "    </tr>\n",
       "    <tr>\n",
       "      <th>386</th>\n",
       "      <td>9</td>\n",
       "      <td>1207</td>\n",
       "      <td>4.379637</td>\n",
       "      <td>Amadeus (1984)</td>\n",
       "      <td>Drama</td>\n",
       "    </tr>\n",
       "    <tr>\n",
       "      <th>89</th>\n",
       "      <td>9</td>\n",
       "      <td>260</td>\n",
       "      <td>4.332613</td>\n",
       "      <td>Ladybird Ladybird (1994)</td>\n",
       "      <td>Drama</td>\n",
       "    </tr>\n",
       "  </tbody>\n",
       "</table>\n",
       "</div>"
      ],
      "text/plain": [
       "     UserID  MovieIDs  Pred_Rating                                 Title  \\\n",
       "380       9      1198     4.449005  Big Blue, The (Le Grand Bleu) (1988)   \n",
       "635       9      2019     4.427475                         Popeye (1980)   \n",
       "478       9      3469     4.389990                   East is East (1999)   \n",
       "386       9      1207     4.379637                        Amadeus (1984)   \n",
       "89        9       260     4.332613              Ladybird Ladybird (1994)   \n",
       "\n",
       "                        Genre  \n",
       "380         Adventure|Romance  \n",
       "635  Adventure|Comedy|Musical  \n",
       "478                    Comedy  \n",
       "386                     Drama  \n",
       "89                      Drama  "
      ]
     },
     "execution_count": 688,
     "metadata": {},
     "output_type": "execute_result"
    }
   ],
   "source": [
    "# Tambahkan movie title\n",
    "top_movie['Title'] = movie_data.loc[top_movie['MovieIDs'], 'Title'].values\n",
    "top_movie['Genre'] = movie_data.loc[top_movie['MovieIDs'], 'Genre'].values\n",
    "\n",
    "top_movie"
   ]
  },
  {
   "cell_type": "code",
   "execution_count": 689,
   "metadata": {},
   "outputs": [
    {
     "data": {
      "text/html": [
       "<div>\n",
       "<style scoped>\n",
       "    .dataframe tbody tr th:only-of-type {\n",
       "        vertical-align: middle;\n",
       "    }\n",
       "\n",
       "    .dataframe tbody tr th {\n",
       "        vertical-align: top;\n",
       "    }\n",
       "\n",
       "    .dataframe thead th {\n",
       "        text-align: right;\n",
       "    }\n",
       "</style>\n",
       "<table border=\"1\" class=\"dataframe\">\n",
       "  <thead>\n",
       "    <tr style=\"text-align: right;\">\n",
       "      <th></th>\n",
       "      <th>UserID</th>\n",
       "      <th>MovieIDs</th>\n",
       "      <th>Pred_Rating</th>\n",
       "      <th>Title</th>\n",
       "      <th>Genre</th>\n",
       "    </tr>\n",
       "  </thead>\n",
       "  <tbody>\n",
       "    <tr>\n",
       "      <th>25</th>\n",
       "      <td>100</td>\n",
       "      <td>50</td>\n",
       "      <td>4.053944</td>\n",
       "      <td>Guardian Angel (1994)</td>\n",
       "      <td>Action|Drama|Thriller</td>\n",
       "    </tr>\n",
       "    <tr>\n",
       "      <th>650</th>\n",
       "      <td>100</td>\n",
       "      <td>2019</td>\n",
       "      <td>3.966302</td>\n",
       "      <td>Popeye (1980)</td>\n",
       "      <td>Adventure|Comedy|Musical</td>\n",
       "    </tr>\n",
       "    <tr>\n",
       "      <th>397</th>\n",
       "      <td>100</td>\n",
       "      <td>1207</td>\n",
       "      <td>3.912524</td>\n",
       "      <td>Amadeus (1984)</td>\n",
       "      <td>Drama</td>\n",
       "    </tr>\n",
       "    <tr>\n",
       "      <th>303</th>\n",
       "      <td>100</td>\n",
       "      <td>922</td>\n",
       "      <td>3.907404</td>\n",
       "      <td>Father of the Bride (1950)</td>\n",
       "      <td>Comedy</td>\n",
       "    </tr>\n",
       "    <tr>\n",
       "      <th>298</th>\n",
       "      <td>100</td>\n",
       "      <td>912</td>\n",
       "      <td>3.892032</td>\n",
       "      <td>2001: A Space Odyssey (1968)</td>\n",
       "      <td>Drama|Mystery|Sci-Fi|Thriller</td>\n",
       "    </tr>\n",
       "    <tr>\n",
       "      <th>260</th>\n",
       "      <td>100</td>\n",
       "      <td>750</td>\n",
       "      <td>3.883357</td>\n",
       "      <td>Stalingrad (1993)</td>\n",
       "      <td>War</td>\n",
       "    </tr>\n",
       "    <tr>\n",
       "      <th>394</th>\n",
       "      <td>100</td>\n",
       "      <td>1204</td>\n",
       "      <td>3.877129</td>\n",
       "      <td>Full Metal Jacket (1987)</td>\n",
       "      <td>Action|Drama|War</td>\n",
       "    </tr>\n",
       "    <tr>\n",
       "      <th>271</th>\n",
       "      <td>100</td>\n",
       "      <td>2858</td>\n",
       "      <td>3.877009</td>\n",
       "      <td>Brief Encounter (1946)</td>\n",
       "      <td>Drama|Romance</td>\n",
       "    </tr>\n",
       "    <tr>\n",
       "      <th>381</th>\n",
       "      <td>100</td>\n",
       "      <td>1136</td>\n",
       "      <td>3.863945</td>\n",
       "      <td>He Walked by Night (1948)</td>\n",
       "      <td>Crime|Film-Noir|Thriller</td>\n",
       "    </tr>\n",
       "    <tr>\n",
       "      <th>621</th>\n",
       "      <td>100</td>\n",
       "      <td>1945</td>\n",
       "      <td>3.846151</td>\n",
       "      <td>Freaky Friday (1977)</td>\n",
       "      <td>Children's|Comedy</td>\n",
       "    </tr>\n",
       "  </tbody>\n",
       "</table>\n",
       "</div>"
      ],
      "text/plain": [
       "     UserID  MovieIDs  Pred_Rating                         Title  \\\n",
       "25      100        50     4.053944         Guardian Angel (1994)   \n",
       "650     100      2019     3.966302                 Popeye (1980)   \n",
       "397     100      1207     3.912524                Amadeus (1984)   \n",
       "303     100       922     3.907404    Father of the Bride (1950)   \n",
       "298     100       912     3.892032  2001: A Space Odyssey (1968)   \n",
       "260     100       750     3.883357             Stalingrad (1993)   \n",
       "394     100      1204     3.877129      Full Metal Jacket (1987)   \n",
       "271     100      2858     3.877009        Brief Encounter (1946)   \n",
       "381     100      1136     3.863945     He Walked by Night (1948)   \n",
       "621     100      1945     3.846151          Freaky Friday (1977)   \n",
       "\n",
       "                             Genre  \n",
       "25           Action|Drama|Thriller  \n",
       "650       Adventure|Comedy|Musical  \n",
       "397                          Drama  \n",
       "303                         Comedy  \n",
       "298  Drama|Mystery|Sci-Fi|Thriller  \n",
       "260                            War  \n",
       "394               Action|Drama|War  \n",
       "271                  Drama|Romance  \n",
       "381       Crime|Film-Noir|Thriller  \n",
       "621              Children's|Comedy  "
      ]
     },
     "execution_count": 689,
     "metadata": {},
     "output_type": "execute_result"
    }
   ],
   "source": [
    "# Dapatkan top 10 rekomendasi untuk user 100\n",
    "retrieve_top_highest_unrated(est=model_best,\n",
    "                            k=10,\n",
    "                            userid=100,\n",
    "                            rating_data=df_ratings,\n",
    "                            movie_data=movie_data)"
   ]
  },
  {
   "cell_type": "code",
   "execution_count": 690,
   "metadata": {},
   "outputs": [
    {
     "data": {
      "text/html": [
       "<div>\n",
       "<style scoped>\n",
       "    .dataframe tbody tr th:only-of-type {\n",
       "        vertical-align: middle;\n",
       "    }\n",
       "\n",
       "    .dataframe tbody tr th {\n",
       "        vertical-align: top;\n",
       "    }\n",
       "\n",
       "    .dataframe thead th {\n",
       "        text-align: right;\n",
       "    }\n",
       "</style>\n",
       "<table border=\"1\" class=\"dataframe\">\n",
       "  <thead>\n",
       "    <tr style=\"text-align: right;\">\n",
       "      <th></th>\n",
       "      <th>UserID</th>\n",
       "      <th>MovieIDs</th>\n",
       "      <th>Pred_Rating</th>\n",
       "      <th>Title</th>\n",
       "      <th>Genre</th>\n",
       "    </tr>\n",
       "  </thead>\n",
       "  <tbody>\n",
       "    <tr>\n",
       "      <th>646</th>\n",
       "      <td>500</td>\n",
       "      <td>2019</td>\n",
       "      <td>4.351212</td>\n",
       "      <td>Popeye (1980)</td>\n",
       "      <td>Adventure|Comedy|Musical</td>\n",
       "    </tr>\n",
       "    <tr>\n",
       "      <th>389</th>\n",
       "      <td>500</td>\n",
       "      <td>1207</td>\n",
       "      <td>4.344728</td>\n",
       "      <td>Amadeus (1984)</td>\n",
       "      <td>Drama</td>\n",
       "    </tr>\n",
       "    <tr>\n",
       "      <th>272</th>\n",
       "      <td>500</td>\n",
       "      <td>858</td>\n",
       "      <td>4.300077</td>\n",
       "      <td>Kansas City (1996)</td>\n",
       "      <td>Crime</td>\n",
       "    </tr>\n",
       "    <tr>\n",
       "      <th>648</th>\n",
       "      <td>500</td>\n",
       "      <td>2028</td>\n",
       "      <td>4.293521</td>\n",
       "      <td>Something Wicked This Way Comes (1983)</td>\n",
       "      <td>Children's|Horror</td>\n",
       "    </tr>\n",
       "    <tr>\n",
       "      <th>382</th>\n",
       "      <td>500</td>\n",
       "      <td>1198</td>\n",
       "      <td>4.285818</td>\n",
       "      <td>Big Blue, The (Le Grand Bleu) (1988)</td>\n",
       "      <td>Adventure|Romance</td>\n",
       "    </tr>\n",
       "    <tr>\n",
       "      <th>492</th>\n",
       "      <td>500</td>\n",
       "      <td>3508</td>\n",
       "      <td>4.272904</td>\n",
       "      <td>Two Moon Juction (1988)</td>\n",
       "      <td>Drama</td>\n",
       "    </tr>\n",
       "    <tr>\n",
       "      <th>618</th>\n",
       "      <td>500</td>\n",
       "      <td>1945</td>\n",
       "      <td>4.267282</td>\n",
       "      <td>Freaky Friday (1977)</td>\n",
       "      <td>Children's|Comedy</td>\n",
       "    </tr>\n",
       "    <tr>\n",
       "      <th>386</th>\n",
       "      <td>500</td>\n",
       "      <td>1204</td>\n",
       "      <td>4.259456</td>\n",
       "      <td>Full Metal Jacket (1987)</td>\n",
       "      <td>Action|Drama|War</td>\n",
       "    </tr>\n",
       "    <tr>\n",
       "      <th>101</th>\n",
       "      <td>500</td>\n",
       "      <td>2329</td>\n",
       "      <td>4.257538</td>\n",
       "      <td>Miracle on 34th Street (1947)</td>\n",
       "      <td>Drama</td>\n",
       "    </tr>\n",
       "    <tr>\n",
       "      <th>482</th>\n",
       "      <td>500</td>\n",
       "      <td>3469</td>\n",
       "      <td>4.252595</td>\n",
       "      <td>East is East (1999)</td>\n",
       "      <td>Comedy</td>\n",
       "    </tr>\n",
       "  </tbody>\n",
       "</table>\n",
       "</div>"
      ],
      "text/plain": [
       "     UserID  MovieIDs  Pred_Rating                                   Title  \\\n",
       "646     500      2019     4.351212                           Popeye (1980)   \n",
       "389     500      1207     4.344728                          Amadeus (1984)   \n",
       "272     500       858     4.300077                      Kansas City (1996)   \n",
       "648     500      2028     4.293521  Something Wicked This Way Comes (1983)   \n",
       "382     500      1198     4.285818    Big Blue, The (Le Grand Bleu) (1988)   \n",
       "492     500      3508     4.272904                 Two Moon Juction (1988)   \n",
       "618     500      1945     4.267282                    Freaky Friday (1977)   \n",
       "386     500      1204     4.259456                Full Metal Jacket (1987)   \n",
       "101     500      2329     4.257538           Miracle on 34th Street (1947)   \n",
       "482     500      3469     4.252595                     East is East (1999)   \n",
       "\n",
       "                        Genre  \n",
       "646  Adventure|Comedy|Musical  \n",
       "389                     Drama  \n",
       "272                     Crime  \n",
       "648         Children's|Horror  \n",
       "382         Adventure|Romance  \n",
       "492                     Drama  \n",
       "618         Children's|Comedy  \n",
       "386          Action|Drama|War  \n",
       "101                     Drama  \n",
       "482                    Comedy  "
      ]
     },
     "execution_count": 690,
     "metadata": {},
     "output_type": "execute_result"
    }
   ],
   "source": [
    "# Dapatkan top 10 rekomendasi untuk user 500\n",
    "retrieve_top_highest_unrated(est=model_best,\n",
    "                            k=10,\n",
    "                            userid=500,\n",
    "                            rating_data=df_ratings,\n",
    "                            movie_data=movie_data)"
   ]
  }
 ],
 "metadata": {
  "kernelspec": {
   "display_name": "Python 3 (ipykernel)",
   "language": "python",
   "name": "python3"
  },
  "language_info": {
   "codemirror_mode": {
    "name": "ipython",
    "version": 3
   },
   "file_extension": ".py",
   "mimetype": "text/x-python",
   "name": "python",
   "nbconvert_exporter": "python",
   "pygments_lexer": "ipython3",
   "version": "3.9.7"
  }
 },
 "nbformat": 4,
 "nbformat_minor": 2
}
