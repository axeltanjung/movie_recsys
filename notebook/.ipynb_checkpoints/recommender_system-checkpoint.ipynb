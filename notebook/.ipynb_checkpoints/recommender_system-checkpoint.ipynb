{
 "cells": [
  {
   "cell_type": "markdown",
   "metadata": {},
   "source": [
    "## Recommendery System for Movies Platform Using Collaborative Filtering vs Funk SVD"
   ]
  },
  {
   "cell_type": "markdown",
   "metadata": {},
   "source": [
    "### 1. Import Module"
   ]
  },
  {
   "cell_type": "code",
   "execution_count": 1,
   "metadata": {},
   "outputs": [],
   "source": [
    "import pandas as pd\n",
    "import numpy as np"
   ]
  },
  {
   "cell_type": "markdown",
   "metadata": {},
   "source": [
    "### 2. Import Data"
   ]
  },
  {
   "cell_type": "code",
   "execution_count": 2,
   "metadata": {},
   "outputs": [],
   "source": [
    "# Define column name \n",
    "m_cols = ['MovieIDS', 'Title', 'Genre']\n",
    "r_cols = ['UserID', 'MovieIDs', 'Ratings', 'Timestamp']\n",
    "u_cols = ['UserID', 'Gender', 'Age', 'Occupation', 'Zip-code']\n",
    "\n",
    "# Read csv of movies, ratings and users\n",
    "df_movies = pd.read_csv('../data/movies.csv', sep='::', names=m_cols, encoding='latin-1', index_col=None, engine='python')\n",
    "df_ratings = pd.read_csv('../data/ratings.csv', sep='::', names=r_cols, encoding='latin-1', index_col=None, engine='python')\n",
    "df_users = pd.read_csv('../data/users.csv', sep='::', names=u_cols, encoding='latin-1', index_col=None, engine='python')"
   ]
  },
  {
   "cell_type": "code",
   "execution_count": 3,
   "metadata": {},
   "outputs": [
    {
     "name": "stdout",
     "output_type": "stream",
     "text": [
      "Shape dari movies : (3883, 3)\n",
      "Shape dari rating : (1000209, 4)\n",
      "Shape dari user : (6040, 5)\n"
     ]
    }
   ],
   "source": [
    "# Cek shape dari dataframe\n",
    "print(f\"Shape dari movies : {df_movies.shape}\")\n",
    "print(f\"Shape dari rating : {df_ratings.shape}\")\n",
    "print(f\"Shape dari user : {df_users.shape}\")"
   ]
  },
  {
   "cell_type": "markdown",
   "metadata": {},
   "source": [
    "### 3. Pengecekan `\"df_ratings\"`"
   ]
  },
  {
   "cell_type": "code",
   "execution_count": 4,
   "metadata": {},
   "outputs": [
    {
     "data": {
      "text/html": [
       "<div>\n",
       "<style scoped>\n",
       "    .dataframe tbody tr th:only-of-type {\n",
       "        vertical-align: middle;\n",
       "    }\n",
       "\n",
       "    .dataframe tbody tr th {\n",
       "        vertical-align: top;\n",
       "    }\n",
       "\n",
       "    .dataframe thead th {\n",
       "        text-align: right;\n",
       "    }\n",
       "</style>\n",
       "<table border=\"1\" class=\"dataframe\">\n",
       "  <thead>\n",
       "    <tr style=\"text-align: right;\">\n",
       "      <th></th>\n",
       "      <th>UserID</th>\n",
       "      <th>MovieIDs</th>\n",
       "      <th>Ratings</th>\n",
       "      <th>Timestamp</th>\n",
       "    </tr>\n",
       "  </thead>\n",
       "  <tbody>\n",
       "    <tr>\n",
       "      <th>0</th>\n",
       "      <td>1</td>\n",
       "      <td>1193</td>\n",
       "      <td>5</td>\n",
       "      <td>978300760</td>\n",
       "    </tr>\n",
       "    <tr>\n",
       "      <th>1</th>\n",
       "      <td>1</td>\n",
       "      <td>661</td>\n",
       "      <td>3</td>\n",
       "      <td>978302109</td>\n",
       "    </tr>\n",
       "    <tr>\n",
       "      <th>2</th>\n",
       "      <td>1</td>\n",
       "      <td>914</td>\n",
       "      <td>3</td>\n",
       "      <td>978301968</td>\n",
       "    </tr>\n",
       "    <tr>\n",
       "      <th>3</th>\n",
       "      <td>1</td>\n",
       "      <td>3408</td>\n",
       "      <td>4</td>\n",
       "      <td>978300275</td>\n",
       "    </tr>\n",
       "    <tr>\n",
       "      <th>4</th>\n",
       "      <td>1</td>\n",
       "      <td>2355</td>\n",
       "      <td>5</td>\n",
       "      <td>978824291</td>\n",
       "    </tr>\n",
       "  </tbody>\n",
       "</table>\n",
       "</div>"
      ],
      "text/plain": [
       "   UserID  MovieIDs  Ratings  Timestamp\n",
       "0       1      1193        5  978300760\n",
       "1       1       661        3  978302109\n",
       "2       1       914        3  978301968\n",
       "3       1      3408        4  978300275\n",
       "4       1      2355        5  978824291"
      ]
     },
     "execution_count": 4,
     "metadata": {},
     "output_type": "execute_result"
    }
   ],
   "source": [
    "# Menampilkan df_ratings\n",
    "df_ratings.head()"
   ]
  },
  {
   "cell_type": "code",
   "execution_count": 5,
   "metadata": {},
   "outputs": [
    {
     "data": {
      "text/html": [
       "<div>\n",
       "<style scoped>\n",
       "    .dataframe tbody tr th:only-of-type {\n",
       "        vertical-align: middle;\n",
       "    }\n",
       "\n",
       "    .dataframe tbody tr th {\n",
       "        vertical-align: top;\n",
       "    }\n",
       "\n",
       "    .dataframe thead th {\n",
       "        text-align: right;\n",
       "    }\n",
       "</style>\n",
       "<table border=\"1\" class=\"dataframe\">\n",
       "  <thead>\n",
       "    <tr style=\"text-align: right;\">\n",
       "      <th></th>\n",
       "      <th>UserID</th>\n",
       "      <th>MovieIDs</th>\n",
       "      <th>Ratings</th>\n",
       "      <th>Timestamp</th>\n",
       "    </tr>\n",
       "  </thead>\n",
       "  <tbody>\n",
       "    <tr>\n",
       "      <th>count</th>\n",
       "      <td>1.000209e+06</td>\n",
       "      <td>1.000209e+06</td>\n",
       "      <td>1.000209e+06</td>\n",
       "      <td>1.000209e+06</td>\n",
       "    </tr>\n",
       "    <tr>\n",
       "      <th>mean</th>\n",
       "      <td>3.024512e+03</td>\n",
       "      <td>1.865540e+03</td>\n",
       "      <td>3.581564e+00</td>\n",
       "      <td>9.722437e+08</td>\n",
       "    </tr>\n",
       "    <tr>\n",
       "      <th>std</th>\n",
       "      <td>1.728413e+03</td>\n",
       "      <td>1.096041e+03</td>\n",
       "      <td>1.117102e+00</td>\n",
       "      <td>1.215256e+07</td>\n",
       "    </tr>\n",
       "    <tr>\n",
       "      <th>min</th>\n",
       "      <td>1.000000e+00</td>\n",
       "      <td>1.000000e+00</td>\n",
       "      <td>1.000000e+00</td>\n",
       "      <td>9.567039e+08</td>\n",
       "    </tr>\n",
       "    <tr>\n",
       "      <th>25%</th>\n",
       "      <td>1.506000e+03</td>\n",
       "      <td>1.030000e+03</td>\n",
       "      <td>3.000000e+00</td>\n",
       "      <td>9.653026e+08</td>\n",
       "    </tr>\n",
       "    <tr>\n",
       "      <th>50%</th>\n",
       "      <td>3.070000e+03</td>\n",
       "      <td>1.835000e+03</td>\n",
       "      <td>4.000000e+00</td>\n",
       "      <td>9.730180e+08</td>\n",
       "    </tr>\n",
       "    <tr>\n",
       "      <th>75%</th>\n",
       "      <td>4.476000e+03</td>\n",
       "      <td>2.770000e+03</td>\n",
       "      <td>4.000000e+00</td>\n",
       "      <td>9.752209e+08</td>\n",
       "    </tr>\n",
       "    <tr>\n",
       "      <th>max</th>\n",
       "      <td>6.040000e+03</td>\n",
       "      <td>3.952000e+03</td>\n",
       "      <td>5.000000e+00</td>\n",
       "      <td>1.046455e+09</td>\n",
       "    </tr>\n",
       "  </tbody>\n",
       "</table>\n",
       "</div>"
      ],
      "text/plain": [
       "             UserID      MovieIDs       Ratings     Timestamp\n",
       "count  1.000209e+06  1.000209e+06  1.000209e+06  1.000209e+06\n",
       "mean   3.024512e+03  1.865540e+03  3.581564e+00  9.722437e+08\n",
       "std    1.728413e+03  1.096041e+03  1.117102e+00  1.215256e+07\n",
       "min    1.000000e+00  1.000000e+00  1.000000e+00  9.567039e+08\n",
       "25%    1.506000e+03  1.030000e+03  3.000000e+00  9.653026e+08\n",
       "50%    3.070000e+03  1.835000e+03  4.000000e+00  9.730180e+08\n",
       "75%    4.476000e+03  2.770000e+03  4.000000e+00  9.752209e+08\n",
       "max    6.040000e+03  3.952000e+03  5.000000e+00  1.046455e+09"
      ]
     },
     "execution_count": 5,
     "metadata": {},
     "output_type": "execute_result"
    }
   ],
   "source": [
    "df_ratings.describe()"
   ]
  },
  {
   "cell_type": "code",
   "execution_count": 6,
   "metadata": {},
   "outputs": [],
   "source": [
    "# Drop kolom yang tidak dibutuhkan untuk pemodelan 'Timestamp'\n",
    "df_ratings = df_ratings.drop('Timestamp', axis=1)"
   ]
  },
  {
   "cell_type": "code",
   "execution_count": 7,
   "metadata": {},
   "outputs": [
    {
     "data": {
      "text/plain": [
       "UserID      int64\n",
       "MovieIDs    int64\n",
       "Ratings     int64\n",
       "dtype: object"
      ]
     },
     "execution_count": 7,
     "metadata": {},
     "output_type": "execute_result"
    }
   ],
   "source": [
    "# Cek tipe dari masing masing kolom\n",
    "df_ratings.dtypes"
   ]
  },
  {
   "cell_type": "markdown",
   "metadata": {},
   "source": [
    "Untuk memodelkan rating dengan skala 0-5, diperlukan nilai float untuk mengakomodir angka desimal"
   ]
  },
  {
   "cell_type": "code",
   "execution_count": 8,
   "metadata": {},
   "outputs": [],
   "source": [
    "# Konversi kolom \"Ratings\" menjadi float\n",
    "df_ratings[\"Ratings\"] = df_ratings[\"Ratings\"].astype(float)"
   ]
  },
  {
   "cell_type": "markdown",
   "metadata": {},
   "source": [
    "Handling terhadap data duplikat"
   ]
  },
  {
   "cell_type": "code",
   "execution_count": 9,
   "metadata": {},
   "outputs": [
    {
     "data": {
      "text/plain": [
       "0"
      ]
     },
     "execution_count": 9,
     "metadata": {},
     "output_type": "execute_result"
    }
   ],
   "source": [
    "# Menghitung record yang duplikat\n",
    "df_ratings.duplicated().sum()"
   ]
  },
  {
   "cell_type": "markdown",
   "metadata": {},
   "source": [
    "### 4. Membuat fungsi `import_rating_data`"
   ]
  },
  {
   "cell_type": "code",
   "execution_count": 10,
   "metadata": {},
   "outputs": [],
   "source": [
    "def import_rating_data(path, frac=5e-5):\n",
    "    \"\"\"\n",
    "    Fungsi untuk import rating data, pengecekan terhadap shape, mengganti tipe kolom rating menjadi float, dan duplikasi data\n",
    "\n",
    "    Parameters\n",
    "    ----------\n",
    "    path : str\n",
    "        Lokasi (path) data ratings disimpan\n",
    "\n",
    "    Returns\n",
    "    -------\n",
    "    rating_df : pandas DataFrame\n",
    "        Sample dari rating data    \n",
    "    \"\"\"\n",
    "    # Load data\n",
    "    r_cols = ['UserID', 'MovieIDs', 'Ratings', 'Timestamp']\n",
    "    df_rating_raw = pd.read_csv(path, sep='::', names=r_cols, encoding='latin-1', index_col=None, engine='python')\n",
    "    print('Shape data awal :', df_rating_raw.shape)\n",
    "\n",
    "    # Drop kolom timestamp\n",
    "    df_rating = df_rating_raw.drop(columns=['Timestamp'], axis=1)\n",
    "    print('Shape data drop kolom :', df_rating.shape)\n",
    "\n",
    "    # Typecasting kolom 'Rating' menjadi float\n",
    "    df_rating[\"Ratings\"] = df_rating[\"Ratings\"].astype(float)\n",
    "\n",
    "    # Sample movie\n",
    "    # Mengambil movieID yang unik pada sample data\n",
    "    unique_movie_id = df_rating['MovieIDs'].sample(frac=5e-5)\n",
    "    sample_data = df_rating.loc[df_rating['MovieIDs'].isin(unique_movie_id)]\n",
    "\n",
    "    return sample_data\n"
   ]
  },
  {
   "cell_type": "code",
   "execution_count": 11,
   "metadata": {},
   "outputs": [
    {
     "name": "stdout",
     "output_type": "stream",
     "text": [
      "Shape data awal : (1000209, 4)\n",
      "Shape data drop kolom : (1000209, 3)\n"
     ]
    }
   ],
   "source": [
    "# Import rating data\n",
    "df_ratings = import_rating_data(path = '../data/ratings.csv')"
   ]
  },
  {
   "cell_type": "code",
   "execution_count": 12,
   "metadata": {},
   "outputs": [
    {
     "data": {
      "text/plain": [
       "(35892, 3)"
      ]
     },
     "execution_count": 12,
     "metadata": {},
     "output_type": "execute_result"
    }
   ],
   "source": [
    "# Cek tabel df_rating\n",
    "df_ratings.shape"
   ]
  },
  {
   "cell_type": "markdown",
   "metadata": {},
   "source": [
    "### Pemodelan Recommender System : Collaborative Filterting"
   ]
  },
  {
   "cell_type": "markdown",
   "metadata": {},
   "source": [
    "#### User to User Collaborative Filtering"
   ]
  },
  {
   "cell_type": "code",
   "execution_count": 13,
   "metadata": {},
   "outputs": [],
   "source": [
    "# Pivot rating data untuk mendapatkan interaksi rating user dan item\n",
    "pivot_df_ratings = df_ratings.pivot(index= 'UserID', columns='MovieIDs', values='Ratings')"
   ]
  },
  {
   "cell_type": "code",
   "execution_count": 14,
   "metadata": {},
   "outputs": [
    {
     "data": {
      "text/html": [
       "<div>\n",
       "<style scoped>\n",
       "    .dataframe tbody tr th:only-of-type {\n",
       "        vertical-align: middle;\n",
       "    }\n",
       "\n",
       "    .dataframe tbody tr th {\n",
       "        vertical-align: top;\n",
       "    }\n",
       "\n",
       "    .dataframe thead th {\n",
       "        text-align: right;\n",
       "    }\n",
       "</style>\n",
       "<table border=\"1\" class=\"dataframe\">\n",
       "  <thead>\n",
       "    <tr style=\"text-align: right;\">\n",
       "      <th>MovieIDs</th>\n",
       "      <th>160</th>\n",
       "      <th>266</th>\n",
       "      <th>290</th>\n",
       "      <th>329</th>\n",
       "      <th>349</th>\n",
       "      <th>350</th>\n",
       "      <th>358</th>\n",
       "      <th>370</th>\n",
       "      <th>440</th>\n",
       "      <th>593</th>\n",
       "      <th>...</th>\n",
       "      <th>3000</th>\n",
       "      <th>3018</th>\n",
       "      <th>3044</th>\n",
       "      <th>3176</th>\n",
       "      <th>3211</th>\n",
       "      <th>3296</th>\n",
       "      <th>3300</th>\n",
       "      <th>3469</th>\n",
       "      <th>3484</th>\n",
       "      <th>3686</th>\n",
       "    </tr>\n",
       "    <tr>\n",
       "      <th>UserID</th>\n",
       "      <th></th>\n",
       "      <th></th>\n",
       "      <th></th>\n",
       "      <th></th>\n",
       "      <th></th>\n",
       "      <th></th>\n",
       "      <th></th>\n",
       "      <th></th>\n",
       "      <th></th>\n",
       "      <th></th>\n",
       "      <th></th>\n",
       "      <th></th>\n",
       "      <th></th>\n",
       "      <th></th>\n",
       "      <th></th>\n",
       "      <th></th>\n",
       "      <th></th>\n",
       "      <th></th>\n",
       "      <th></th>\n",
       "      <th></th>\n",
       "      <th></th>\n",
       "    </tr>\n",
       "  </thead>\n",
       "  <tbody>\n",
       "    <tr>\n",
       "      <th>1</th>\n",
       "      <td>NaN</td>\n",
       "      <td>NaN</td>\n",
       "      <td>NaN</td>\n",
       "      <td>NaN</td>\n",
       "      <td>NaN</td>\n",
       "      <td>NaN</td>\n",
       "      <td>NaN</td>\n",
       "      <td>NaN</td>\n",
       "      <td>NaN</td>\n",
       "      <td>NaN</td>\n",
       "      <td>...</td>\n",
       "      <td>NaN</td>\n",
       "      <td>NaN</td>\n",
       "      <td>NaN</td>\n",
       "      <td>NaN</td>\n",
       "      <td>NaN</td>\n",
       "      <td>NaN</td>\n",
       "      <td>NaN</td>\n",
       "      <td>NaN</td>\n",
       "      <td>NaN</td>\n",
       "      <td>NaN</td>\n",
       "    </tr>\n",
       "    <tr>\n",
       "      <th>2</th>\n",
       "      <td>NaN</td>\n",
       "      <td>NaN</td>\n",
       "      <td>NaN</td>\n",
       "      <td>NaN</td>\n",
       "      <td>4.0</td>\n",
       "      <td>NaN</td>\n",
       "      <td>NaN</td>\n",
       "      <td>NaN</td>\n",
       "      <td>NaN</td>\n",
       "      <td>5.0</td>\n",
       "      <td>...</td>\n",
       "      <td>NaN</td>\n",
       "      <td>NaN</td>\n",
       "      <td>NaN</td>\n",
       "      <td>NaN</td>\n",
       "      <td>NaN</td>\n",
       "      <td>NaN</td>\n",
       "      <td>NaN</td>\n",
       "      <td>NaN</td>\n",
       "      <td>NaN</td>\n",
       "      <td>NaN</td>\n",
       "    </tr>\n",
       "    <tr>\n",
       "      <th>3</th>\n",
       "      <td>NaN</td>\n",
       "      <td>NaN</td>\n",
       "      <td>NaN</td>\n",
       "      <td>NaN</td>\n",
       "      <td>NaN</td>\n",
       "      <td>NaN</td>\n",
       "      <td>NaN</td>\n",
       "      <td>NaN</td>\n",
       "      <td>NaN</td>\n",
       "      <td>3.0</td>\n",
       "      <td>...</td>\n",
       "      <td>NaN</td>\n",
       "      <td>NaN</td>\n",
       "      <td>NaN</td>\n",
       "      <td>NaN</td>\n",
       "      <td>NaN</td>\n",
       "      <td>NaN</td>\n",
       "      <td>NaN</td>\n",
       "      <td>NaN</td>\n",
       "      <td>NaN</td>\n",
       "      <td>NaN</td>\n",
       "    </tr>\n",
       "    <tr>\n",
       "      <th>4</th>\n",
       "      <td>NaN</td>\n",
       "      <td>NaN</td>\n",
       "      <td>NaN</td>\n",
       "      <td>NaN</td>\n",
       "      <td>NaN</td>\n",
       "      <td>NaN</td>\n",
       "      <td>NaN</td>\n",
       "      <td>NaN</td>\n",
       "      <td>NaN</td>\n",
       "      <td>NaN</td>\n",
       "      <td>...</td>\n",
       "      <td>NaN</td>\n",
       "      <td>NaN</td>\n",
       "      <td>NaN</td>\n",
       "      <td>NaN</td>\n",
       "      <td>NaN</td>\n",
       "      <td>NaN</td>\n",
       "      <td>NaN</td>\n",
       "      <td>NaN</td>\n",
       "      <td>NaN</td>\n",
       "      <td>NaN</td>\n",
       "    </tr>\n",
       "    <tr>\n",
       "      <th>5</th>\n",
       "      <td>NaN</td>\n",
       "      <td>NaN</td>\n",
       "      <td>NaN</td>\n",
       "      <td>NaN</td>\n",
       "      <td>NaN</td>\n",
       "      <td>NaN</td>\n",
       "      <td>NaN</td>\n",
       "      <td>NaN</td>\n",
       "      <td>NaN</td>\n",
       "      <td>4.0</td>\n",
       "      <td>...</td>\n",
       "      <td>NaN</td>\n",
       "      <td>NaN</td>\n",
       "      <td>NaN</td>\n",
       "      <td>2.0</td>\n",
       "      <td>NaN</td>\n",
       "      <td>NaN</td>\n",
       "      <td>NaN</td>\n",
       "      <td>NaN</td>\n",
       "      <td>NaN</td>\n",
       "      <td>NaN</td>\n",
       "    </tr>\n",
       "  </tbody>\n",
       "</table>\n",
       "<p>5 rows × 49 columns</p>\n",
       "</div>"
      ],
      "text/plain": [
       "MovieIDs  160   266   290   329   349   350   358   370   440   593   ...  \\\n",
       "UserID                                                                ...   \n",
       "1          NaN   NaN   NaN   NaN   NaN   NaN   NaN   NaN   NaN   NaN  ...   \n",
       "2          NaN   NaN   NaN   NaN   4.0   NaN   NaN   NaN   NaN   5.0  ...   \n",
       "3          NaN   NaN   NaN   NaN   NaN   NaN   NaN   NaN   NaN   3.0  ...   \n",
       "4          NaN   NaN   NaN   NaN   NaN   NaN   NaN   NaN   NaN   NaN  ...   \n",
       "5          NaN   NaN   NaN   NaN   NaN   NaN   NaN   NaN   NaN   4.0  ...   \n",
       "\n",
       "MovieIDs  3000  3018  3044  3176  3211  3296  3300  3469  3484  3686  \n",
       "UserID                                                                \n",
       "1          NaN   NaN   NaN   NaN   NaN   NaN   NaN   NaN   NaN   NaN  \n",
       "2          NaN   NaN   NaN   NaN   NaN   NaN   NaN   NaN   NaN   NaN  \n",
       "3          NaN   NaN   NaN   NaN   NaN   NaN   NaN   NaN   NaN   NaN  \n",
       "4          NaN   NaN   NaN   NaN   NaN   NaN   NaN   NaN   NaN   NaN  \n",
       "5          NaN   NaN   NaN   2.0   NaN   NaN   NaN   NaN   NaN   NaN  \n",
       "\n",
       "[5 rows x 49 columns]"
      ]
     },
     "execution_count": 14,
     "metadata": {},
     "output_type": "execute_result"
    }
   ],
   "source": [
    "# Mengecek pivot_df_ratings\n",
    "pivot_df_ratings.head()"
   ]
  },
  {
   "cell_type": "code",
   "execution_count": 15,
   "metadata": {},
   "outputs": [
    {
     "data": {
      "text/plain": [
       "(5559, 49)"
      ]
     },
     "execution_count": 15,
     "metadata": {},
     "output_type": "execute_result"
    }
   ],
   "source": [
    "# Mengecek shape dari pivot_df_ratings\n",
    "pivot_df_ratings.shape"
   ]
  },
  {
   "cell_type": "code",
   "execution_count": 16,
   "metadata": {},
   "outputs": [
    {
     "data": {
      "text/plain": [
       "236499"
      ]
     },
     "execution_count": 16,
     "metadata": {},
     "output_type": "execute_result"
    }
   ],
   "source": [
    "# Total rating data null\n",
    "pivot_df_ratings.isnull().sum().sum()"
   ]
  },
  {
   "cell_type": "markdown",
   "metadata": {},
   "source": [
    "#### Membuat fungsi `utility_data_preprocessing`"
   ]
  },
  {
   "cell_type": "code",
   "execution_count": 17,
   "metadata": {},
   "outputs": [],
   "source": [
    "def utility_data_preprocessing(path):\n",
    "    \"\"\"\"\n",
    "    Fungsi untuk melakukan pivot dari df_rating menjadi bentuk utility metrics\n",
    "\n",
    "    Parameters\n",
    "    ----------\n",
    "    path : str\n",
    "        Lokasi (path) menyimpan rating data\n",
    "\n",
    "    Returns\n",
    "    -------\n",
    "    pivot_df_ratings : pandas DataFrame\n",
    "        Rating data dalam belum tabel yang sudah di pivot\n",
    "    \"\"\"\n",
    "    # Import data\n",
    "\n",
    "    df_rating = import_rating_data(path)\n",
    "\n",
    "    # Pivot tabel\n",
    "    pivot_df_ratings = df_rating.pivot(index= 'UserID', columns='MovieIDs', values='Ratings')\n",
    "\n",
    "    # Shape data yang telah di pivot\n",
    "    print('Shaped data setelah di pivot : ', pivot_df_ratings.shape)\n",
    "\n",
    "    # Menghitung missing values\n",
    "    print('Jumlah missing values pada utility metrics :', pivot_df_ratings.isnull().sum().sum())\n",
    "\n",
    "    # Return pivot_df_ratings\n",
    "    return pivot_df_ratings\n"
   ]
  },
  {
   "cell_type": "code",
   "execution_count": 18,
   "metadata": {},
   "outputs": [
    {
     "name": "stdout",
     "output_type": "stream",
     "text": [
      "Shape data awal : (1000209, 4)\n",
      "Shape data drop kolom : (1000209, 3)\n",
      "Shaped data setelah di pivot :  (5847, 49)\n",
      "Jumlah missing values pada utility metrics : 238082\n"
     ]
    }
   ],
   "source": [
    "# Output fungsi pivot data\n",
    "pivot_df_ratings = utility_data_preprocessing(path = '../data/ratings.csv')"
   ]
  },
  {
   "cell_type": "code",
   "execution_count": 19,
   "metadata": {},
   "outputs": [
    {
     "data": {
      "text/html": [
       "<div>\n",
       "<style scoped>\n",
       "    .dataframe tbody tr th:only-of-type {\n",
       "        vertical-align: middle;\n",
       "    }\n",
       "\n",
       "    .dataframe tbody tr th {\n",
       "        vertical-align: top;\n",
       "    }\n",
       "\n",
       "    .dataframe thead th {\n",
       "        text-align: right;\n",
       "    }\n",
       "</style>\n",
       "<table border=\"1\" class=\"dataframe\">\n",
       "  <thead>\n",
       "    <tr style=\"text-align: right;\">\n",
       "      <th>MovieIDs</th>\n",
       "      <th>223</th>\n",
       "      <th>260</th>\n",
       "      <th>288</th>\n",
       "      <th>356</th>\n",
       "      <th>440</th>\n",
       "      <th>457</th>\n",
       "      <th>480</th>\n",
       "      <th>518</th>\n",
       "      <th>562</th>\n",
       "      <th>569</th>\n",
       "      <th>...</th>\n",
       "      <th>2858</th>\n",
       "      <th>2940</th>\n",
       "      <th>3081</th>\n",
       "      <th>3107</th>\n",
       "      <th>3146</th>\n",
       "      <th>3254</th>\n",
       "      <th>3396</th>\n",
       "      <th>3448</th>\n",
       "      <th>3634</th>\n",
       "      <th>3786</th>\n",
       "    </tr>\n",
       "    <tr>\n",
       "      <th>UserID</th>\n",
       "      <th></th>\n",
       "      <th></th>\n",
       "      <th></th>\n",
       "      <th></th>\n",
       "      <th></th>\n",
       "      <th></th>\n",
       "      <th></th>\n",
       "      <th></th>\n",
       "      <th></th>\n",
       "      <th></th>\n",
       "      <th></th>\n",
       "      <th></th>\n",
       "      <th></th>\n",
       "      <th></th>\n",
       "      <th></th>\n",
       "      <th></th>\n",
       "      <th></th>\n",
       "      <th></th>\n",
       "      <th></th>\n",
       "      <th></th>\n",
       "      <th></th>\n",
       "    </tr>\n",
       "  </thead>\n",
       "  <tbody>\n",
       "    <tr>\n",
       "      <th>1</th>\n",
       "      <td>NaN</td>\n",
       "      <td>4.0</td>\n",
       "      <td>NaN</td>\n",
       "      <td>NaN</td>\n",
       "      <td>NaN</td>\n",
       "      <td>NaN</td>\n",
       "      <td>NaN</td>\n",
       "      <td>NaN</td>\n",
       "      <td>NaN</td>\n",
       "      <td>NaN</td>\n",
       "      <td>...</td>\n",
       "      <td>NaN</td>\n",
       "      <td>NaN</td>\n",
       "      <td>NaN</td>\n",
       "      <td>NaN</td>\n",
       "      <td>NaN</td>\n",
       "      <td>NaN</td>\n",
       "      <td>NaN</td>\n",
       "      <td>NaN</td>\n",
       "      <td>NaN</td>\n",
       "      <td>NaN</td>\n",
       "    </tr>\n",
       "    <tr>\n",
       "      <th>2</th>\n",
       "      <td>NaN</td>\n",
       "      <td>NaN</td>\n",
       "      <td>NaN</td>\n",
       "      <td>5.0</td>\n",
       "      <td>NaN</td>\n",
       "      <td>4.0</td>\n",
       "      <td>5.0</td>\n",
       "      <td>NaN</td>\n",
       "      <td>NaN</td>\n",
       "      <td>NaN</td>\n",
       "      <td>...</td>\n",
       "      <td>4.0</td>\n",
       "      <td>NaN</td>\n",
       "      <td>NaN</td>\n",
       "      <td>2.0</td>\n",
       "      <td>NaN</td>\n",
       "      <td>NaN</td>\n",
       "      <td>NaN</td>\n",
       "      <td>NaN</td>\n",
       "      <td>NaN</td>\n",
       "      <td>NaN</td>\n",
       "    </tr>\n",
       "    <tr>\n",
       "      <th>3</th>\n",
       "      <td>NaN</td>\n",
       "      <td>5.0</td>\n",
       "      <td>NaN</td>\n",
       "      <td>NaN</td>\n",
       "      <td>NaN</td>\n",
       "      <td>NaN</td>\n",
       "      <td>4.0</td>\n",
       "      <td>NaN</td>\n",
       "      <td>NaN</td>\n",
       "      <td>NaN</td>\n",
       "      <td>...</td>\n",
       "      <td>4.0</td>\n",
       "      <td>NaN</td>\n",
       "      <td>NaN</td>\n",
       "      <td>NaN</td>\n",
       "      <td>NaN</td>\n",
       "      <td>NaN</td>\n",
       "      <td>NaN</td>\n",
       "      <td>NaN</td>\n",
       "      <td>NaN</td>\n",
       "      <td>NaN</td>\n",
       "    </tr>\n",
       "    <tr>\n",
       "      <th>4</th>\n",
       "      <td>NaN</td>\n",
       "      <td>5.0</td>\n",
       "      <td>NaN</td>\n",
       "      <td>NaN</td>\n",
       "      <td>NaN</td>\n",
       "      <td>NaN</td>\n",
       "      <td>4.0</td>\n",
       "      <td>NaN</td>\n",
       "      <td>NaN</td>\n",
       "      <td>NaN</td>\n",
       "      <td>...</td>\n",
       "      <td>NaN</td>\n",
       "      <td>NaN</td>\n",
       "      <td>NaN</td>\n",
       "      <td>NaN</td>\n",
       "      <td>NaN</td>\n",
       "      <td>NaN</td>\n",
       "      <td>NaN</td>\n",
       "      <td>NaN</td>\n",
       "      <td>NaN</td>\n",
       "      <td>NaN</td>\n",
       "    </tr>\n",
       "    <tr>\n",
       "      <th>5</th>\n",
       "      <td>NaN</td>\n",
       "      <td>NaN</td>\n",
       "      <td>2.0</td>\n",
       "      <td>1.0</td>\n",
       "      <td>NaN</td>\n",
       "      <td>NaN</td>\n",
       "      <td>NaN</td>\n",
       "      <td>NaN</td>\n",
       "      <td>4.0</td>\n",
       "      <td>NaN</td>\n",
       "      <td>...</td>\n",
       "      <td>4.0</td>\n",
       "      <td>NaN</td>\n",
       "      <td>3.0</td>\n",
       "      <td>NaN</td>\n",
       "      <td>NaN</td>\n",
       "      <td>NaN</td>\n",
       "      <td>NaN</td>\n",
       "      <td>NaN</td>\n",
       "      <td>NaN</td>\n",
       "      <td>3.0</td>\n",
       "    </tr>\n",
       "  </tbody>\n",
       "</table>\n",
       "<p>5 rows × 49 columns</p>\n",
       "</div>"
      ],
      "text/plain": [
       "MovieIDs  223   260   288   356   440   457   480   518   562   569   ...  \\\n",
       "UserID                                                                ...   \n",
       "1          NaN   4.0   NaN   NaN   NaN   NaN   NaN   NaN   NaN   NaN  ...   \n",
       "2          NaN   NaN   NaN   5.0   NaN   4.0   5.0   NaN   NaN   NaN  ...   \n",
       "3          NaN   5.0   NaN   NaN   NaN   NaN   4.0   NaN   NaN   NaN  ...   \n",
       "4          NaN   5.0   NaN   NaN   NaN   NaN   4.0   NaN   NaN   NaN  ...   \n",
       "5          NaN   NaN   2.0   1.0   NaN   NaN   NaN   NaN   4.0   NaN  ...   \n",
       "\n",
       "MovieIDs  2858  2940  3081  3107  3146  3254  3396  3448  3634  3786  \n",
       "UserID                                                                \n",
       "1          NaN   NaN   NaN   NaN   NaN   NaN   NaN   NaN   NaN   NaN  \n",
       "2          4.0   NaN   NaN   2.0   NaN   NaN   NaN   NaN   NaN   NaN  \n",
       "3          4.0   NaN   NaN   NaN   NaN   NaN   NaN   NaN   NaN   NaN  \n",
       "4          NaN   NaN   NaN   NaN   NaN   NaN   NaN   NaN   NaN   NaN  \n",
       "5          4.0   NaN   3.0   NaN   NaN   NaN   NaN   NaN   NaN   3.0  \n",
       "\n",
       "[5 rows x 49 columns]"
      ]
     },
     "execution_count": 19,
     "metadata": {},
     "output_type": "execute_result"
    }
   ],
   "source": [
    "pivot_df_ratings.head()"
   ]
  },
  {
   "cell_type": "markdown",
   "metadata": {},
   "source": [
    "Berikut merupakan fungsi untuk prediksi rating\n",
    "\n",
    "\n",
    "$$\n",
    "\\begin{align*}\n",
    "\\hat{r_{ui}} = \\text{baseline}_{ui} + \\frac{\\sum_{j \\in N(u)} (\\text{Similarity}(u,j) \\cdot (r_{ji}-\\text{baseline}_{ji}) }{\\sum_{j \\in N(u)} \\text{Similarity}(u,j)}\n",
    "& \\\\ \\\\\n",
    "\\text{baseline}_{ui} = \\mu + \\text{userbias}_{u} + \\text{itembias}_{i}\n",
    "\\end{align*}\n",
    "$$\n",
    "\n",
    "\n",
    "dengan :    \n",
    "\n",
    "- $\\text{baseline}_{ui}$ : baseline ratings dari user **u** untuk item **i**\n",
    "- $\\hat{r_{ui}}$ : prediksi rating dari user **u** untuk item **i**\n",
    "- $N(u)$ : Tetangga dari user **u**\n"
   ]
  },
  {
   "cell_type": "markdown",
   "metadata": {},
   "source": [
    "$$\n",
    "\\begin{align*}\n",
    "\\text{userbias}_{u} = \\mu - \\text{user_average}_{u}\n",
    "& \\\\ \\\\\n",
    "\\text{itembias}_{i} = \\mu - \\text{item_average}_{i}\n",
    "\\end{align*}\n",
    "$$\n",
    "\n",
    "with :    \n",
    "\n",
    "- $\\mu$ : global mean\n",
    "- $\\text{user_average}_{u}$ : rata-rata rating dari user **u**\n",
    "- $\\text{item_average}_{i}$ : rata-rata rating dari item **i**\n"
   ]
  },
  {
   "cell_type": "markdown",
   "metadata": {},
   "source": [
    "#### Menghitung baseline prediksi"
   ]
  },
  {
   "cell_type": "code",
   "execution_count": 20,
   "metadata": {},
   "outputs": [
    {
     "data": {
      "text/html": [
       "<div>\n",
       "<style scoped>\n",
       "    .dataframe tbody tr th:only-of-type {\n",
       "        vertical-align: middle;\n",
       "    }\n",
       "\n",
       "    .dataframe tbody tr th {\n",
       "        vertical-align: top;\n",
       "    }\n",
       "\n",
       "    .dataframe thead th {\n",
       "        text-align: right;\n",
       "    }\n",
       "</style>\n",
       "<table border=\"1\" class=\"dataframe\">\n",
       "  <thead>\n",
       "    <tr style=\"text-align: right;\">\n",
       "      <th>MovieIDs</th>\n",
       "      <th>223</th>\n",
       "      <th>260</th>\n",
       "      <th>288</th>\n",
       "      <th>356</th>\n",
       "      <th>440</th>\n",
       "      <th>457</th>\n",
       "      <th>480</th>\n",
       "      <th>518</th>\n",
       "      <th>562</th>\n",
       "      <th>569</th>\n",
       "      <th>...</th>\n",
       "      <th>2858</th>\n",
       "      <th>2940</th>\n",
       "      <th>3081</th>\n",
       "      <th>3107</th>\n",
       "      <th>3146</th>\n",
       "      <th>3254</th>\n",
       "      <th>3396</th>\n",
       "      <th>3448</th>\n",
       "      <th>3634</th>\n",
       "      <th>3786</th>\n",
       "    </tr>\n",
       "    <tr>\n",
       "      <th>UserID</th>\n",
       "      <th></th>\n",
       "      <th></th>\n",
       "      <th></th>\n",
       "      <th></th>\n",
       "      <th></th>\n",
       "      <th></th>\n",
       "      <th></th>\n",
       "      <th></th>\n",
       "      <th></th>\n",
       "      <th></th>\n",
       "      <th></th>\n",
       "      <th></th>\n",
       "      <th></th>\n",
       "      <th></th>\n",
       "      <th></th>\n",
       "      <th></th>\n",
       "      <th></th>\n",
       "      <th></th>\n",
       "      <th></th>\n",
       "      <th></th>\n",
       "      <th></th>\n",
       "    </tr>\n",
       "  </thead>\n",
       "  <tbody>\n",
       "    <tr>\n",
       "      <th>1</th>\n",
       "      <td>NaN</td>\n",
       "      <td>4.0</td>\n",
       "      <td>NaN</td>\n",
       "      <td>NaN</td>\n",
       "      <td>NaN</td>\n",
       "      <td>NaN</td>\n",
       "      <td>NaN</td>\n",
       "      <td>NaN</td>\n",
       "      <td>NaN</td>\n",
       "      <td>NaN</td>\n",
       "      <td>...</td>\n",
       "      <td>NaN</td>\n",
       "      <td>NaN</td>\n",
       "      <td>NaN</td>\n",
       "      <td>NaN</td>\n",
       "      <td>NaN</td>\n",
       "      <td>NaN</td>\n",
       "      <td>NaN</td>\n",
       "      <td>NaN</td>\n",
       "      <td>NaN</td>\n",
       "      <td>NaN</td>\n",
       "    </tr>\n",
       "    <tr>\n",
       "      <th>2</th>\n",
       "      <td>NaN</td>\n",
       "      <td>NaN</td>\n",
       "      <td>NaN</td>\n",
       "      <td>5.0</td>\n",
       "      <td>NaN</td>\n",
       "      <td>4.0</td>\n",
       "      <td>5.0</td>\n",
       "      <td>NaN</td>\n",
       "      <td>NaN</td>\n",
       "      <td>NaN</td>\n",
       "      <td>...</td>\n",
       "      <td>4.0</td>\n",
       "      <td>NaN</td>\n",
       "      <td>NaN</td>\n",
       "      <td>2.0</td>\n",
       "      <td>NaN</td>\n",
       "      <td>NaN</td>\n",
       "      <td>NaN</td>\n",
       "      <td>NaN</td>\n",
       "      <td>NaN</td>\n",
       "      <td>NaN</td>\n",
       "    </tr>\n",
       "    <tr>\n",
       "      <th>3</th>\n",
       "      <td>NaN</td>\n",
       "      <td>5.0</td>\n",
       "      <td>NaN</td>\n",
       "      <td>NaN</td>\n",
       "      <td>NaN</td>\n",
       "      <td>NaN</td>\n",
       "      <td>4.0</td>\n",
       "      <td>NaN</td>\n",
       "      <td>NaN</td>\n",
       "      <td>NaN</td>\n",
       "      <td>...</td>\n",
       "      <td>4.0</td>\n",
       "      <td>NaN</td>\n",
       "      <td>NaN</td>\n",
       "      <td>NaN</td>\n",
       "      <td>NaN</td>\n",
       "      <td>NaN</td>\n",
       "      <td>NaN</td>\n",
       "      <td>NaN</td>\n",
       "      <td>NaN</td>\n",
       "      <td>NaN</td>\n",
       "    </tr>\n",
       "    <tr>\n",
       "      <th>4</th>\n",
       "      <td>NaN</td>\n",
       "      <td>5.0</td>\n",
       "      <td>NaN</td>\n",
       "      <td>NaN</td>\n",
       "      <td>NaN</td>\n",
       "      <td>NaN</td>\n",
       "      <td>4.0</td>\n",
       "      <td>NaN</td>\n",
       "      <td>NaN</td>\n",
       "      <td>NaN</td>\n",
       "      <td>...</td>\n",
       "      <td>NaN</td>\n",
       "      <td>NaN</td>\n",
       "      <td>NaN</td>\n",
       "      <td>NaN</td>\n",
       "      <td>NaN</td>\n",
       "      <td>NaN</td>\n",
       "      <td>NaN</td>\n",
       "      <td>NaN</td>\n",
       "      <td>NaN</td>\n",
       "      <td>NaN</td>\n",
       "    </tr>\n",
       "    <tr>\n",
       "      <th>5</th>\n",
       "      <td>NaN</td>\n",
       "      <td>NaN</td>\n",
       "      <td>2.0</td>\n",
       "      <td>1.0</td>\n",
       "      <td>NaN</td>\n",
       "      <td>NaN</td>\n",
       "      <td>NaN</td>\n",
       "      <td>NaN</td>\n",
       "      <td>4.0</td>\n",
       "      <td>NaN</td>\n",
       "      <td>...</td>\n",
       "      <td>4.0</td>\n",
       "      <td>NaN</td>\n",
       "      <td>3.0</td>\n",
       "      <td>NaN</td>\n",
       "      <td>NaN</td>\n",
       "      <td>NaN</td>\n",
       "      <td>NaN</td>\n",
       "      <td>NaN</td>\n",
       "      <td>NaN</td>\n",
       "      <td>3.0</td>\n",
       "    </tr>\n",
       "  </tbody>\n",
       "</table>\n",
       "<p>5 rows × 49 columns</p>\n",
       "</div>"
      ],
      "text/plain": [
       "MovieIDs  223   260   288   356   440   457   480   518   562   569   ...  \\\n",
       "UserID                                                                ...   \n",
       "1          NaN   4.0   NaN   NaN   NaN   NaN   NaN   NaN   NaN   NaN  ...   \n",
       "2          NaN   NaN   NaN   5.0   NaN   4.0   5.0   NaN   NaN   NaN  ...   \n",
       "3          NaN   5.0   NaN   NaN   NaN   NaN   4.0   NaN   NaN   NaN  ...   \n",
       "4          NaN   5.0   NaN   NaN   NaN   NaN   4.0   NaN   NaN   NaN  ...   \n",
       "5          NaN   NaN   2.0   1.0   NaN   NaN   NaN   NaN   4.0   NaN  ...   \n",
       "\n",
       "MovieIDs  2858  2940  3081  3107  3146  3254  3396  3448  3634  3786  \n",
       "UserID                                                                \n",
       "1          NaN   NaN   NaN   NaN   NaN   NaN   NaN   NaN   NaN   NaN  \n",
       "2          4.0   NaN   NaN   2.0   NaN   NaN   NaN   NaN   NaN   NaN  \n",
       "3          4.0   NaN   NaN   NaN   NaN   NaN   NaN   NaN   NaN   NaN  \n",
       "4          NaN   NaN   NaN   NaN   NaN   NaN   NaN   NaN   NaN   NaN  \n",
       "5          4.0   NaN   3.0   NaN   NaN   NaN   NaN   NaN   NaN   3.0  \n",
       "\n",
       "[5 rows x 49 columns]"
      ]
     },
     "execution_count": 20,
     "metadata": {},
     "output_type": "execute_result"
    }
   ],
   "source": [
    "pivot_df_ratings.head()"
   ]
  },
  {
   "cell_type": "code",
   "execution_count": 22,
   "metadata": {},
   "outputs": [
    {
     "name": "stdout",
     "output_type": "stream",
     "text": [
      "UserID 1 Mean : 4.25\n",
      "MovieIDs 260 Mean : 4.45\n",
      "Global Mean : 3.76\n"
     ]
    }
   ],
   "source": [
    "# Menghitung baseline rating pada user 5 dan movie 6\n",
    "UserID = 1\n",
    "MovieIDs = 260\n",
    "\n",
    "# Menghitung Global Mean\n",
    "global_mean = df_ratings['Ratings'].mean()\n",
    "\n",
    "# Menghitung User Mean\n",
    "user_mean = pivot_df_ratings.loc[UserID,:].mean()\n",
    "\n",
    "# Menghitung Item Mean\n",
    "item_mean = pivot_df_ratings.loc[:, MovieIDs].mean()\n",
    "\n",
    "# Output dari baseline\n",
    "print(f'UserID {UserID} Mean : {round(user_mean,2)}')\n",
    "print(f'MovieIDs {MovieIDs} Mean : {round(item_mean,2)}')\n",
    "print(f'Global Mean : {round(global_mean,2)}')"
   ]
  },
  {
   "cell_type": "code",
   "execution_count": 23,
   "metadata": {},
   "outputs": [
    {
     "name": "stdout",
     "output_type": "stream",
     "text": [
      "UserID 1 Bias : -0.49\n",
      "MovieIDs 260 Bias : -0.7\n"
     ]
    }
   ],
   "source": [
    "# Menghitung bias dari user\n",
    "bias_user = global_mean - user_mean\n",
    "\n",
    "# Menghitung bias dari item\n",
    "bias_item = global_mean - item_mean\n",
    "\n",
    "# Output dari bias user dan item\n",
    "print(f'UserID {UserID} Bias : {round(bias_user,2)}')\n",
    "print(f'MovieIDs {MovieIDs} Bias : {round(bias_item,2)}')"
   ]
  },
  {
   "cell_type": "code",
   "execution_count": 24,
   "metadata": {},
   "outputs": [
    {
     "name": "stdout",
     "output_type": "stream",
     "text": [
      "Total baseline rating untuk prediksi UserID 1 dan MovieIDs 260 adalah 2.57\n"
     ]
    }
   ],
   "source": [
    "# Menghitung total dari baseline\n",
    "baseline_user_item = global_mean + bias_user + bias_item\n",
    "\n",
    "# Output dari total baseline\n",
    "print(f'Total baseline rating untuk prediksi UserID {UserID} dan MovieIDs {MovieIDs} adalah {round(baseline_user_item,2)}')"
   ]
  },
  {
   "cell_type": "markdown",
   "metadata": {},
   "source": [
    "#### Membuat fungsi `calculate_baseline_prediction`"
   ]
  },
  {
   "cell_type": "code",
   "execution_count": 25,
   "metadata": {},
   "outputs": [],
   "source": [
    "def calculate_baseline_prediction(pivot_df_ratings, userid, movieid,\n",
    "                                  df_ratings=df_ratings):\n",
    "    \"\"\"\"\n",
    "    Fungsi untuk menghitung nilai baseline prediksi dari user dan movie\n",
    "\n",
    "    Parameters\n",
    "    ---------\n",
    "    pivot_df_ratings : pandas Dataframe\n",
    "        DataFrame rating dari user dan movies yang telah dilakukan pivot table\n",
    "\n",
    "    userid : int\n",
    "        UserID dari user yang akan dihitung biasnya\n",
    "\n",
    "    movieid : int\n",
    "        MovieIDs dari film yang akan dihitung biasnya\n",
    "\n",
    "    df_ratings : pandas Dataframe\n",
    "        DataFrame rating user dan film\n",
    "\n",
    "    Returns\n",
    "    -------\n",
    "    baseline_user_item : int\n",
    "        Nilai baseline terhadap prediksi user dan item\n",
    "    \"\"\"\n",
    "    # Menghitung global mean\n",
    "    global_mean = df_ratings['Ratings'].mean()\n",
    "\n",
    "    # Menghitung User Mean\n",
    "    user_mean = pivot_df_ratings.loc[userid,:].mean()\n",
    "\n",
    "    # Menghitung Item Mean\n",
    "    item_mean = pivot_df_ratings.loc[:, movieid].mean()\n",
    "\n",
    "    # Menghitung bias dari user\n",
    "    bias_user = global_mean - user_mean\n",
    "\n",
    "    # Menghitung bias dari item\n",
    "    bias_item = global_mean - item_mean\n",
    "\n",
    "    # Menghitung total dari baseline\n",
    "    baseline_user_item = global_mean + bias_user + bias_item\n",
    "\n",
    "    return baseline_user_item"
   ]
  },
  {
   "cell_type": "code",
   "execution_count": 26,
   "metadata": {},
   "outputs": [
    {
     "name": "stdout",
     "output_type": "stream",
     "text": [
      "Total baseline rating untuk prediksi UserID 1 dan MovieIDs 260 adalah 2.57\n"
     ]
    }
   ],
   "source": [
    "# Validasi fungsi terhadap perhitungan semula\n",
    "baseline_user_item_func = calculate_baseline_prediction(pivot_df_ratings=pivot_df_ratings,\n",
    "                                                   userid=UserID, movieid=MovieIDs)\n",
    "# Output dari total baseline\n",
    "print(f'Total baseline rating untuk prediksi UserID {UserID} dan MovieIDs {MovieIDs} adalah {round(baseline_user_item_func,2)}')"
   ]
  },
  {
   "cell_type": "markdown",
   "metadata": {},
   "source": [
    "#### Mencari Tetangga Terdekat"
   ]
  },
  {
   "cell_type": "code",
   "execution_count": 27,
   "metadata": {},
   "outputs": [
    {
     "data": {
      "text/plain": [
       "MovieIDs\n",
       "223     3.946884\n",
       "260     4.453694\n",
       "288     3.144286\n",
       "356     4.087967\n",
       "440     3.811181\n",
       "457     4.103258\n",
       "480     3.763847\n",
       "518     2.456376\n",
       "562     3.799163\n",
       "569     2.930000\n",
       "587     3.496441\n",
       "588     3.788305\n",
       "590     3.915231\n",
       "605     3.314159\n",
       "608     4.254676\n",
       "905     4.280749\n",
       "909     4.127098\n",
       "912     4.412822\n",
       "916     4.216471\n",
       "1009    3.185567\n",
       "1066    4.165714\n",
       "1136    4.335210\n",
       "1214    4.159585\n",
       "1367    3.046703\n",
       "1374    3.880525\n",
       "1394    4.020921\n",
       "1573    3.401126\n",
       "1593    2.864198\n",
       "1821    3.194313\n",
       "2021    3.356147\n",
       "2028    4.337354\n",
       "2231    3.608696\n",
       "2288    3.785425\n",
       "2348    3.552632\n",
       "2454    3.358333\n",
       "2455    3.440710\n",
       "2671    3.662821\n",
       "2757    3.822222\n",
       "2840    2.899761\n",
       "2858    4.317386\n",
       "2940    4.009346\n",
       "3081    3.516886\n",
       "3107    3.440736\n",
       "3146    2.762987\n",
       "3254    2.884527\n",
       "3396    3.856183\n",
       "3448    3.733826\n",
       "3634    4.254545\n",
       "3786    3.250000\n",
       "dtype: float64"
      ]
     },
     "execution_count": 27,
     "metadata": {},
     "output_type": "execute_result"
    }
   ],
   "source": [
    "# Mencari 5 tetangga terdekat menggunakan Cosine Similarity\n",
    "user_mean_ = pivot_df_ratings.mean(axis=0)\n",
    "user_mean_"
   ]
  },
  {
   "cell_type": "code",
   "execution_count": 28,
   "metadata": {},
   "outputs": [
    {
     "data": {
      "text/html": [
       "<div>\n",
       "<style scoped>\n",
       "    .dataframe tbody tr th:only-of-type {\n",
       "        vertical-align: middle;\n",
       "    }\n",
       "\n",
       "    .dataframe tbody tr th {\n",
       "        vertical-align: top;\n",
       "    }\n",
       "\n",
       "    .dataframe thead th {\n",
       "        text-align: right;\n",
       "    }\n",
       "</style>\n",
       "<table border=\"1\" class=\"dataframe\">\n",
       "  <thead>\n",
       "    <tr style=\"text-align: right;\">\n",
       "      <th>MovieIDs</th>\n",
       "      <th>223</th>\n",
       "      <th>260</th>\n",
       "      <th>288</th>\n",
       "      <th>356</th>\n",
       "      <th>440</th>\n",
       "      <th>457</th>\n",
       "      <th>480</th>\n",
       "      <th>518</th>\n",
       "      <th>562</th>\n",
       "      <th>569</th>\n",
       "      <th>...</th>\n",
       "      <th>2858</th>\n",
       "      <th>2940</th>\n",
       "      <th>3081</th>\n",
       "      <th>3107</th>\n",
       "      <th>3146</th>\n",
       "      <th>3254</th>\n",
       "      <th>3396</th>\n",
       "      <th>3448</th>\n",
       "      <th>3634</th>\n",
       "      <th>3786</th>\n",
       "    </tr>\n",
       "    <tr>\n",
       "      <th>UserID</th>\n",
       "      <th></th>\n",
       "      <th></th>\n",
       "      <th></th>\n",
       "      <th></th>\n",
       "      <th></th>\n",
       "      <th></th>\n",
       "      <th></th>\n",
       "      <th></th>\n",
       "      <th></th>\n",
       "      <th></th>\n",
       "      <th></th>\n",
       "      <th></th>\n",
       "      <th></th>\n",
       "      <th></th>\n",
       "      <th></th>\n",
       "      <th></th>\n",
       "      <th></th>\n",
       "      <th></th>\n",
       "      <th></th>\n",
       "      <th></th>\n",
       "      <th></th>\n",
       "    </tr>\n",
       "  </thead>\n",
       "  <tbody>\n",
       "    <tr>\n",
       "      <th>1</th>\n",
       "      <td>0.0</td>\n",
       "      <td>-0.453694</td>\n",
       "      <td>0.000000</td>\n",
       "      <td>0.000000</td>\n",
       "      <td>0.0</td>\n",
       "      <td>0.000000</td>\n",
       "      <td>0.000000</td>\n",
       "      <td>0.0</td>\n",
       "      <td>0.000000</td>\n",
       "      <td>0.0</td>\n",
       "      <td>...</td>\n",
       "      <td>0.000000</td>\n",
       "      <td>0.0</td>\n",
       "      <td>0.000000</td>\n",
       "      <td>0.000000</td>\n",
       "      <td>0.0</td>\n",
       "      <td>0.0</td>\n",
       "      <td>0.0</td>\n",
       "      <td>0.0</td>\n",
       "      <td>0.0</td>\n",
       "      <td>0.00</td>\n",
       "    </tr>\n",
       "    <tr>\n",
       "      <th>2</th>\n",
       "      <td>0.0</td>\n",
       "      <td>0.000000</td>\n",
       "      <td>0.000000</td>\n",
       "      <td>0.912033</td>\n",
       "      <td>0.0</td>\n",
       "      <td>-0.103258</td>\n",
       "      <td>1.236153</td>\n",
       "      <td>0.0</td>\n",
       "      <td>0.000000</td>\n",
       "      <td>0.0</td>\n",
       "      <td>...</td>\n",
       "      <td>-0.317386</td>\n",
       "      <td>0.0</td>\n",
       "      <td>0.000000</td>\n",
       "      <td>-1.440736</td>\n",
       "      <td>0.0</td>\n",
       "      <td>0.0</td>\n",
       "      <td>0.0</td>\n",
       "      <td>0.0</td>\n",
       "      <td>0.0</td>\n",
       "      <td>0.00</td>\n",
       "    </tr>\n",
       "    <tr>\n",
       "      <th>3</th>\n",
       "      <td>0.0</td>\n",
       "      <td>0.546306</td>\n",
       "      <td>0.000000</td>\n",
       "      <td>0.000000</td>\n",
       "      <td>0.0</td>\n",
       "      <td>0.000000</td>\n",
       "      <td>0.236153</td>\n",
       "      <td>0.0</td>\n",
       "      <td>0.000000</td>\n",
       "      <td>0.0</td>\n",
       "      <td>...</td>\n",
       "      <td>-0.317386</td>\n",
       "      <td>0.0</td>\n",
       "      <td>0.000000</td>\n",
       "      <td>0.000000</td>\n",
       "      <td>0.0</td>\n",
       "      <td>0.0</td>\n",
       "      <td>0.0</td>\n",
       "      <td>0.0</td>\n",
       "      <td>0.0</td>\n",
       "      <td>0.00</td>\n",
       "    </tr>\n",
       "    <tr>\n",
       "      <th>4</th>\n",
       "      <td>0.0</td>\n",
       "      <td>0.546306</td>\n",
       "      <td>0.000000</td>\n",
       "      <td>0.000000</td>\n",
       "      <td>0.0</td>\n",
       "      <td>0.000000</td>\n",
       "      <td>0.236153</td>\n",
       "      <td>0.0</td>\n",
       "      <td>0.000000</td>\n",
       "      <td>0.0</td>\n",
       "      <td>...</td>\n",
       "      <td>0.000000</td>\n",
       "      <td>0.0</td>\n",
       "      <td>0.000000</td>\n",
       "      <td>0.000000</td>\n",
       "      <td>0.0</td>\n",
       "      <td>0.0</td>\n",
       "      <td>0.0</td>\n",
       "      <td>0.0</td>\n",
       "      <td>0.0</td>\n",
       "      <td>0.00</td>\n",
       "    </tr>\n",
       "    <tr>\n",
       "      <th>5</th>\n",
       "      <td>0.0</td>\n",
       "      <td>0.000000</td>\n",
       "      <td>-1.144286</td>\n",
       "      <td>-3.087967</td>\n",
       "      <td>0.0</td>\n",
       "      <td>0.000000</td>\n",
       "      <td>0.000000</td>\n",
       "      <td>0.0</td>\n",
       "      <td>0.200837</td>\n",
       "      <td>0.0</td>\n",
       "      <td>...</td>\n",
       "      <td>-0.317386</td>\n",
       "      <td>0.0</td>\n",
       "      <td>-0.516886</td>\n",
       "      <td>0.000000</td>\n",
       "      <td>0.0</td>\n",
       "      <td>0.0</td>\n",
       "      <td>0.0</td>\n",
       "      <td>0.0</td>\n",
       "      <td>0.0</td>\n",
       "      <td>-0.25</td>\n",
       "    </tr>\n",
       "  </tbody>\n",
       "</table>\n",
       "<p>5 rows × 49 columns</p>\n",
       "</div>"
      ],
      "text/plain": [
       "MovieIDs  223       260       288       356   440       457       480   518   \\\n",
       "UserID                                                                         \n",
       "1          0.0 -0.453694  0.000000  0.000000   0.0  0.000000  0.000000   0.0   \n",
       "2          0.0  0.000000  0.000000  0.912033   0.0 -0.103258  1.236153   0.0   \n",
       "3          0.0  0.546306  0.000000  0.000000   0.0  0.000000  0.236153   0.0   \n",
       "4          0.0  0.546306  0.000000  0.000000   0.0  0.000000  0.236153   0.0   \n",
       "5          0.0  0.000000 -1.144286 -3.087967   0.0  0.000000  0.000000   0.0   \n",
       "\n",
       "MovieIDs      562   569   ...      2858  2940      3081      3107  3146  3254  \\\n",
       "UserID                    ...                                                   \n",
       "1         0.000000   0.0  ...  0.000000   0.0  0.000000  0.000000   0.0   0.0   \n",
       "2         0.000000   0.0  ... -0.317386   0.0  0.000000 -1.440736   0.0   0.0   \n",
       "3         0.000000   0.0  ... -0.317386   0.0  0.000000  0.000000   0.0   0.0   \n",
       "4         0.000000   0.0  ...  0.000000   0.0  0.000000  0.000000   0.0   0.0   \n",
       "5         0.200837   0.0  ... -0.317386   0.0 -0.516886  0.000000   0.0   0.0   \n",
       "\n",
       "MovieIDs  3396  3448  3634  3786  \n",
       "UserID                            \n",
       "1          0.0   0.0   0.0  0.00  \n",
       "2          0.0   0.0   0.0  0.00  \n",
       "3          0.0   0.0   0.0  0.00  \n",
       "4          0.0   0.0   0.0  0.00  \n",
       "5          0.0   0.0   0.0 -0.25  \n",
       "\n",
       "[5 rows x 49 columns]"
      ]
     },
     "execution_count": 28,
     "metadata": {},
     "output_type": "execute_result"
    }
   ],
   "source": [
    "# Kurangi rating dengan user rating \n",
    "rating_subtract_user_mean = (pivot_df_ratings - user_mean_).fillna(0)\n",
    "rating_subtract_user_mean.head()"
   ]
  },
  {
   "cell_type": "code",
   "execution_count": 29,
   "metadata": {},
   "outputs": [],
   "source": [
    "# Lakukan looping untuk menghitung seluruh similarity\n",
    "from sklearn.metrics.pairwise import cosine_similarity\n",
    "\n",
    "# Gunakan progress bar\n",
    "from tqdm import tqdm"
   ]
  },
  {
   "cell_type": "code",
   "execution_count": 30,
   "metadata": {},
   "outputs": [
    {
     "name": "stderr",
     "output_type": "stream",
     "text": [
      "100%|██████████| 5847/5847 [00:00<00:00, 5886.47it/s]\n"
     ]
    }
   ],
   "source": [
    "# Menghitung similarity score\n",
    "n_user = len(rating_subtract_user_mean.index)\n",
    "similarity_val = np.zeros(n_user)\n",
    "\n",
    "# Menghitung rating vektor dari user 5\n",
    "target_user = rating_subtract_user_mean.loc[UserID].values.reshape(1,-1)\n",
    "\n",
    "# Iterasi terhadap seluruh user\n",
    "for i, neigh in enumerate(tqdm(rating_subtract_user_mean.index)):\n",
    "    # Mencari user vektor\n",
    "    user_neigh = rating_subtract_user_mean.loc[neigh].values.reshape(1,-1)\n",
    "\n",
    "    # Menghitung similarities (Menggunakan cosine similarity)\n",
    "    similar_i = cosine_similarity(target_user, user_neigh)\n",
    "\n",
    "    similarity_val[i] = similar_i"
   ]
  },
  {
   "cell_type": "code",
   "execution_count": 31,
   "metadata": {},
   "outputs": [
    {
     "data": {
      "text/plain": [
       "Int64Index([907, 2729, 3631, 5790, 4308], dtype='int64', name='UserID')"
      ]
     },
     "execution_count": 31,
     "metadata": {},
     "output_type": "execute_result"
    }
   ],
   "source": [
    "# Urutkan similarity_val secara descending\n",
    "sort_index = np.argsort(similarity_val)[::-1]\n",
    "\n",
    "# Jumlah nilai terdekat yang dicari\n",
    "n = 5\n",
    "\n",
    "# Mendapatkan nilai terdekat\n",
    "n_similarity = rating_subtract_user_mean.index[sort_index[1: n+1]]\n",
    "n_similarity"
   ]
  },
  {
   "cell_type": "code",
   "execution_count": 32,
   "metadata": {},
   "outputs": [
    {
     "name": "stdout",
     "output_type": "stream",
     "text": [
      "Berikut 5 User yang memiliki kesamaan dengan User ID 1 :\n",
      "- User 907\n",
      "- User 2729\n",
      "- User 3631\n",
      "- User 5790\n",
      "- User 4308\n"
     ]
    }
   ],
   "source": [
    "print(f'Berikut {5} User yang memiliki kesamaan dengan User ID {UserID} :')\n",
    "for i in range(len(n_similarity)):\n",
    "    print(f'- User {n_similarity[i]}')"
   ]
  },
  {
   "cell_type": "markdown",
   "metadata": {},
   "source": [
    "#### Membuat fungsi `get_n_neigh`"
   ]
  },
  {
   "cell_type": "code",
   "execution_count": 33,
   "metadata": {},
   "outputs": [],
   "source": [
    "def get_n_neigh(rating_subtract_user_mean, userid, n=5):\n",
    "    \"\"\"\n",
    "    Fungsi yang digunakan untuk mencari n user dengan nilai terdekat\n",
    "\n",
    "    Parameters\n",
    "    ----------\n",
    "    rating_subtract_user_mean : pandas DataFrame,\n",
    "        Rating dari user yang telah dikurangi dengan bias dari user\n",
    "    \n",
    "    userid : int,\n",
    "        ID dari user pada utility matrix    \n",
    "\n",
    "    n : int,\n",
    "        Jumlah n user yang nilainya paling dekat dengan userid\n",
    "\n",
    "    Returns\n",
    "    -------\n",
    "    n_similarities : dict,\n",
    "        n_similarity --> Berisi n user dengan id termirip dengan userid berdasarkan rating\n",
    "        similarity_val --> Nilai rating dari n user tersebut\n",
    "    \"\"\"\n",
    "    # Menghitung similarity score\n",
    "    n_user = len(rating_subtract_user_mean.index)\n",
    "    similarity_val = np.zeros(n_user)\n",
    "\n",
    "    # Menghitung rating vektor dari user 5\n",
    "    target_user = rating_subtract_user_mean.loc[userid].values.reshape(1,-1)\n",
    "\n",
    "    # Iterasi terhadap seluruh user\n",
    "    for i, neigh in enumerate(tqdm(rating_subtract_user_mean.index)):\n",
    "        # Mencari user vektor\n",
    "        user_neigh = rating_subtract_user_mean.loc[neigh].values.reshape(1,-1)\n",
    "\n",
    "        # Menghitung similarities (Menggunakan cosine similarity)\n",
    "        similar_i = cosine_similarity(target_user, user_neigh)\n",
    "\n",
    "        similarity_val[i] = similar_i\n",
    "\n",
    "    # Urutkan similarity_val secara descending\n",
    "    sort_index = np.argsort(similarity_val)[::-1]\n",
    "\n",
    "    # Urutkan similarity val secara descending\n",
    "    similarity_val = np.sort(similarity_val)[::-1]\n",
    "\n",
    "    # Mendapatkan nilai terdekat\n",
    "    n_similarity = rating_subtract_user_mean.index[sort_index[1: n+1]].tolist()\n",
    "\n",
    "    # Mendapatkan n_similarity_val\n",
    "    n_similarity_val = list(similarity_val[1:n+1])\n",
    "\n",
    "    # Buat dictionary n_similarities\n",
    "    n_similarities = {\n",
    "            'n_similarity' : n_similarity,\n",
    "            'n_similarity_val' : n_similarity_val\n",
    "        }\n",
    "\n",
    "    # Return n_similarities\n",
    "    return n_similarities\n",
    " "
   ]
  },
  {
   "cell_type": "code",
   "execution_count": 36,
   "metadata": {},
   "outputs": [
    {
     "name": "stderr",
     "output_type": "stream",
     "text": [
      "100%|██████████| 5847/5847 [00:00<00:00, 5891.40it/s]\n"
     ]
    },
    {
     "data": {
      "text/plain": [
       "{'n_similarity': [907,\n",
       "  2729,\n",
       "  3631,\n",
       "  5790,\n",
       "  4308,\n",
       "  1336,\n",
       "  3725,\n",
       "  3440,\n",
       "  5839,\n",
       "  2062,\n",
       "  4657,\n",
       "  5748,\n",
       "  4755,\n",
       "  4758,\n",
       "  502,\n",
       "  5579,\n",
       "  5967,\n",
       "  3634,\n",
       "  2426,\n",
       "  761,\n",
       "  1573,\n",
       "  906,\n",
       "  1770,\n",
       "  4074,\n",
       "  986,\n",
       "  3818,\n",
       "  2037,\n",
       "  1371,\n",
       "  5859,\n",
       "  1971,\n",
       "  4056,\n",
       "  486,\n",
       "  768,\n",
       "  5743,\n",
       "  2704,\n",
       "  3347,\n",
       "  5231,\n",
       "  98,\n",
       "  2738,\n",
       "  965,\n",
       "  3743,\n",
       "  5381,\n",
       "  1401,\n",
       "  2385,\n",
       "  4173,\n",
       "  1663,\n",
       "  3448,\n",
       "  5541,\n",
       "  2448,\n",
       "  3419,\n",
       "  2587,\n",
       "  189,\n",
       "  2297,\n",
       "  3584,\n",
       "  4073,\n",
       "  4988,\n",
       "  1234,\n",
       "  185,\n",
       "  4111,\n",
       "  3708,\n",
       "  106,\n",
       "  4587,\n",
       "  2097,\n",
       "  4779,\n",
       "  2479,\n",
       "  526,\n",
       "  686,\n",
       "  5199,\n",
       "  4208,\n",
       "  4108,\n",
       "  1223,\n",
       "  4323,\n",
       "  3949,\n",
       "  2393,\n",
       "  562,\n",
       "  1895,\n",
       "  2620,\n",
       "  1165,\n",
       "  4661,\n",
       "  4814,\n",
       "  3980,\n",
       "  626,\n",
       "  339,\n",
       "  2736,\n",
       "  715,\n",
       "  2048,\n",
       "  5586,\n",
       "  4280,\n",
       "  3876,\n",
       "  1262,\n",
       "  5678,\n",
       "  5677,\n",
       "  3556,\n",
       "  1070,\n",
       "  471,\n",
       "  683,\n",
       "  6024,\n",
       "  2346,\n",
       "  4970,\n",
       "  2159,\n",
       "  564,\n",
       "  4649,\n",
       "  3566,\n",
       "  5194,\n",
       "  5332,\n",
       "  1283,\n",
       "  679,\n",
       "  4304,\n",
       "  5642,\n",
       "  3289,\n",
       "  5932,\n",
       "  3432,\n",
       "  351,\n",
       "  5118,\n",
       "  1575,\n",
       "  960,\n",
       "  719,\n",
       "  4039,\n",
       "  4941,\n",
       "  5115,\n",
       "  1459,\n",
       "  1269,\n",
       "  4325,\n",
       "  2733,\n",
       "  1928,\n",
       "  3535,\n",
       "  848,\n",
       "  260,\n",
       "  540,\n",
       "  1629,\n",
       "  1651,\n",
       "  2884,\n",
       "  384,\n",
       "  1596,\n",
       "  1756,\n",
       "  2829,\n",
       "  2397,\n",
       "  4944,\n",
       "  1346,\n",
       "  1318,\n",
       "  2234,\n",
       "  4564,\n",
       "  5171,\n",
       "  2632,\n",
       "  4632,\n",
       "  2713,\n",
       "  1682,\n",
       "  773,\n",
       "  5977,\n",
       "  2830,\n",
       "  1436,\n",
       "  2391,\n",
       "  2074,\n",
       "  4730,\n",
       "  4980,\n",
       "  2822,\n",
       "  3443,\n",
       "  2603,\n",
       "  5092,\n",
       "  1730,\n",
       "  3220,\n",
       "  4212,\n",
       "  2763,\n",
       "  2582,\n",
       "  976,\n",
       "  280,\n",
       "  4544,\n",
       "  6028,\n",
       "  2429,\n",
       "  754,\n",
       "  3091,\n",
       "  3492,\n",
       "  4116,\n",
       "  1326,\n",
       "  1313,\n",
       "  3190,\n",
       "  3487,\n",
       "  4976,\n",
       "  5602,\n",
       "  862,\n",
       "  2136,\n",
       "  4174,\n",
       "  3798,\n",
       "  2000,\n",
       "  1618,\n",
       "  2405,\n",
       "  3282,\n",
       "  1214,\n",
       "  233,\n",
       "  2688,\n",
       "  1481,\n",
       "  3921,\n",
       "  1841,\n",
       "  3212,\n",
       "  2702,\n",
       "  775,\n",
       "  5894,\n",
       "  219,\n",
       "  2651,\n",
       "  2189,\n",
       "  1914,\n",
       "  3801,\n",
       "  3351,\n",
       "  1831,\n",
       "  4985,\n",
       "  3515,\n",
       "  4729,\n",
       "  5230,\n",
       "  1307,\n",
       "  1074,\n",
       "  3372,\n",
       "  1327,\n",
       "  4158,\n",
       "  5166,\n",
       "  4617,\n",
       "  1008,\n",
       "  3606,\n",
       "  1408,\n",
       "  4710,\n",
       "  4180,\n",
       "  4109,\n",
       "  2980,\n",
       "  2246,\n",
       "  573,\n",
       "  2416,\n",
       "  1536,\n",
       "  1454,\n",
       "  5344,\n",
       "  2970,\n",
       "  979,\n",
       "  2032,\n",
       "  3966,\n",
       "  4101,\n",
       "  4554,\n",
       "  2942,\n",
       "  4102,\n",
       "  113,\n",
       "  997,\n",
       "  568,\n",
       "  4199,\n",
       "  1149,\n",
       "  1583,\n",
       "  2619,\n",
       "  5540,\n",
       "  3812,\n",
       "  4146,\n",
       "  4831,\n",
       "  2517,\n",
       "  2717,\n",
       "  4876,\n",
       "  5164,\n",
       "  2805,\n",
       "  5353,\n",
       "  4144,\n",
       "  4358,\n",
       "  4301,\n",
       "  5750,\n",
       "  4003,\n",
       "  2008,\n",
       "  5363],\n",
       " 'n_similarity_val': [0.9244789095776048,\n",
       "  0.9244789095776048,\n",
       "  0.9169305444612676,\n",
       "  0.9075856271600047,\n",
       "  0.8936546502764016,\n",
       "  0.8172138205080697,\n",
       "  0.8172138205080697,\n",
       "  0.8172138205080697,\n",
       "  0.8172138205080697,\n",
       "  0.8172138205080697,\n",
       "  0.8087037455799236,\n",
       "  0.775434575924997,\n",
       "  0.762815487596184,\n",
       "  0.762815487596184,\n",
       "  0.762815487596184,\n",
       "  0.762815487596184,\n",
       "  0.762815487596184,\n",
       "  0.762815487596184,\n",
       "  0.762815487596184,\n",
       "  0.762815487596184,\n",
       "  0.762815487596184,\n",
       "  0.762815487596184,\n",
       "  0.762815487596184,\n",
       "  0.762815487596184,\n",
       "  0.762815487596184,\n",
       "  0.762815487596184,\n",
       "  0.762815487596184,\n",
       "  0.762815487596184,\n",
       "  0.762815487596184,\n",
       "  0.762815487596184,\n",
       "  0.762815487596184,\n",
       "  0.762815487596184,\n",
       "  0.762815487596184,\n",
       "  0.762815487596184,\n",
       "  0.762815487596184,\n",
       "  0.762815487596184,\n",
       "  0.762815487596184,\n",
       "  0.762815487596184,\n",
       "  0.762815487596184,\n",
       "  0.7601922686222138,\n",
       "  0.7561815202248156,\n",
       "  0.7561815202248156,\n",
       "  0.7535523867344895,\n",
       "  0.7473068055900107,\n",
       "  0.7439022882705728,\n",
       "  0.7416527856840741,\n",
       "  0.7411025190180557,\n",
       "  0.7410665528897274,\n",
       "  0.7389731517790059,\n",
       "  0.7287959186160552,\n",
       "  0.7185491533267225,\n",
       "  0.7163464472278422,\n",
       "  0.7161503639963975,\n",
       "  0.7085367854284839,\n",
       "  0.7078448260624246,\n",
       "  0.7064487865167682,\n",
       "  0.704398876168189,\n",
       "  0.70389574623897,\n",
       "  0.702534579297322,\n",
       "  0.7022084286555453,\n",
       "  0.6998862028309932,\n",
       "  0.6812774476835881,\n",
       "  0.6748710192458566,\n",
       "  0.6747313046460877,\n",
       "  0.6630253583155246,\n",
       "  0.6609301070264538,\n",
       "  0.6491875383295294,\n",
       "  0.6486692775200593,\n",
       "  0.6485869110564946,\n",
       "  0.6474503719133123,\n",
       "  0.6410187322267951,\n",
       "  0.6406476102443667,\n",
       "  0.6396666692853683,\n",
       "  0.6375151627052904,\n",
       "  0.6361855952089179,\n",
       "  0.6343610995596362,\n",
       "  0.6236474184584948,\n",
       "  0.6167313216944771,\n",
       "  0.6161671163439076,\n",
       "  0.6160070496938652,\n",
       "  0.60147225155658,\n",
       "  0.6011681901808508,\n",
       "  0.5997302422031494,\n",
       "  0.5989321110760717,\n",
       "  0.5960789912740382,\n",
       "  0.5899778426230056,\n",
       "  0.5890678605250397,\n",
       "  0.5890678605250397,\n",
       "  0.5890678605250397,\n",
       "  0.5869285628862555,\n",
       "  0.5869137604867632,\n",
       "  0.5867756005596745,\n",
       "  0.5866637131898346,\n",
       "  0.5829457754597507,\n",
       "  0.582619717326105,\n",
       "  0.5788558854609326,\n",
       "  0.5766539948617204,\n",
       "  0.5763346003586842,\n",
       "  0.5709222314825128,\n",
       "  0.5709222314825128,\n",
       "  0.5709222314825128,\n",
       "  0.5709222314825128,\n",
       "  0.5694862433459889,\n",
       "  0.5635994180997592,\n",
       "  0.5630416987974263,\n",
       "  0.5593428033938186,\n",
       "  0.5548403404393569,\n",
       "  0.5546368763797707,\n",
       "  0.5539328923895876,\n",
       "  0.5500968207778145,\n",
       "  0.5481671017128495,\n",
       "  0.54550482420864,\n",
       "  0.5450403533186318,\n",
       "  0.5427682733159889,\n",
       "  0.5403845866973341,\n",
       "  0.5392256612464661,\n",
       "  0.5361704860350895,\n",
       "  0.5313272755818351,\n",
       "  0.5313272755818351,\n",
       "  0.5313272755818351,\n",
       "  0.5313272755818351,\n",
       "  0.5313272755818351,\n",
       "  0.5313272755818351,\n",
       "  0.5313272755818351,\n",
       "  0.5308871558119096,\n",
       "  0.5308750382779855,\n",
       "  0.5303732357379691,\n",
       "  0.5303634541839012,\n",
       "  0.5300497304738837,\n",
       "  0.5297479209164258,\n",
       "  0.5282443590181147,\n",
       "  0.5222774991680125,\n",
       "  0.5222774991680125,\n",
       "  0.5222774991680125,\n",
       "  0.5222774991680125,\n",
       "  0.5222774991680125,\n",
       "  0.5222774991680125,\n",
       "  0.5222774991680125,\n",
       "  0.5222774991680125,\n",
       "  0.5222774991680125,\n",
       "  0.5222774991680125,\n",
       "  0.5222774991680125,\n",
       "  0.5222774991680125,\n",
       "  0.5222774991680125,\n",
       "  0.5222774991680125,\n",
       "  0.5222774991680125,\n",
       "  0.5222774991680125,\n",
       "  0.5222774991680125,\n",
       "  0.5222774991680125,\n",
       "  0.5208200783607346,\n",
       "  0.5203486115813944,\n",
       "  0.5197939510100273,\n",
       "  0.5197927755833505,\n",
       "  0.5197401925463443,\n",
       "  0.5197275443785117,\n",
       "  0.5195321054803214,\n",
       "  0.5191585720517895,\n",
       "  0.5177510338251256,\n",
       "  0.5169470447432809,\n",
       "  0.5156772458377267,\n",
       "  0.5128260452213806,\n",
       "  0.5118753943290179,\n",
       "  0.510257513523091,\n",
       "  0.5101454095710392,\n",
       "  0.5099787674639151,\n",
       "  0.5096004442961118,\n",
       "  0.5079361669405216,\n",
       "  0.5063738267028507,\n",
       "  0.5058305244098595,\n",
       "  0.5040078889608836,\n",
       "  0.5039280658571016,\n",
       "  0.5031691120389142,\n",
       "  0.5031111772607959,\n",
       "  0.4990961929279657,\n",
       "  0.4972831248326518,\n",
       "  0.4972831248326518,\n",
       "  0.49701367650999806,\n",
       "  0.49562408661252894,\n",
       "  0.4952017300430488,\n",
       "  0.4950793085322759,\n",
       "  0.4932639956122951,\n",
       "  0.4929563382397704,\n",
       "  0.4926872359510819,\n",
       "  0.4898416151758568,\n",
       "  0.48868960533275485,\n",
       "  0.4857430149476445,\n",
       "  0.48426493302930534,\n",
       "  0.4834055110246531,\n",
       "  0.48320334083825606,\n",
       "  0.48229725186788214,\n",
       "  0.4804766979007881,\n",
       "  0.47993925538960946,\n",
       "  0.4790706660025307,\n",
       "  0.47880121984042934,\n",
       "  0.4785514067489006,\n",
       "  0.4769292017774257,\n",
       "  0.4764841829820151,\n",
       "  0.4763313886052795,\n",
       "  0.4754074488011363,\n",
       "  0.4737421837496792,\n",
       "  0.4727514321034251,\n",
       "  0.47230556503835625,\n",
       "  0.46988127579125955,\n",
       "  0.4691748139244813,\n",
       "  0.46908217530552426,\n",
       "  0.46791656204768306,\n",
       "  0.46737895296172793,\n",
       "  0.46636480092515076,\n",
       "  0.46490590846326396,\n",
       "  0.4636635785860066,\n",
       "  0.46327653496551574,\n",
       "  0.46301201931300673,\n",
       "  0.4623372791373736,\n",
       "  0.4623243524361381,\n",
       "  0.46015995956159683,\n",
       "  0.4590690794368988,\n",
       "  0.4580432972540477,\n",
       "  0.4570302957089848,\n",
       "  0.4554861410283024,\n",
       "  0.45501571709720734,\n",
       "  0.45215410082050456,\n",
       "  0.4510233426171267,\n",
       "  0.449062854361744,\n",
       "  0.44868009269786496,\n",
       "  0.4483785285345992,\n",
       "  0.4483785285345992,\n",
       "  0.4483785285345992,\n",
       "  0.4479311892326727,\n",
       "  0.4465432436362625,\n",
       "  0.44391847059702894,\n",
       "  0.4434233382690561,\n",
       "  0.44269304585102165,\n",
       "  0.4424786647081546,\n",
       "  0.44241462968318157,\n",
       "  0.4420842809402577,\n",
       "  0.44123122142133564,\n",
       "  0.4400477340728046,\n",
       "  0.4388533127570019,\n",
       "  0.4388533127570019,\n",
       "  0.4375131452517365,\n",
       "  0.4352981802612248,\n",
       "  0.4324922310608248,\n",
       "  0.4320730710322289,\n",
       "  0.43157424078489753,\n",
       "  0.42990986586030805,\n",
       "  0.42978157102434655,\n",
       "  0.4291894022246109,\n",
       "  0.4285534809060705,\n",
       "  0.4284571830379891,\n",
       "  0.42795494730111766,\n",
       "  0.4269109548696432,\n",
       "  0.4252981413088094,\n",
       "  0.4252045608979906,\n",
       "  0.4242116452445972,\n",
       "  0.4234619110750577,\n",
       "  0.42103680044449465,\n",
       "  0.4200212170289999,\n",
       "  0.41813983913425556,\n",
       "  0.41746466662927706,\n",
       "  0.4166467568114773]}"
      ]
     },
     "execution_count": 36,
     "metadata": {},
     "output_type": "execute_result"
    }
   ],
   "source": [
    "list_neigh = get_n_neigh(rating_subtract_user_mean= rating_subtract_user_mean, userid=1, n=260)\n",
    "list_neigh"
   ]
  },
  {
   "cell_type": "markdown",
   "metadata": {},
   "source": [
    "#### Melakukan Prediksi Rating pada Utility Matrix"
   ]
  },
  {
   "cell_type": "code",
   "execution_count": 37,
   "metadata": {},
   "outputs": [
    {
     "data": {
      "text/html": [
       "<div>\n",
       "<style scoped>\n",
       "    .dataframe tbody tr th:only-of-type {\n",
       "        vertical-align: middle;\n",
       "    }\n",
       "\n",
       "    .dataframe tbody tr th {\n",
       "        vertical-align: top;\n",
       "    }\n",
       "\n",
       "    .dataframe thead th {\n",
       "        text-align: right;\n",
       "    }\n",
       "</style>\n",
       "<table border=\"1\" class=\"dataframe\">\n",
       "  <thead>\n",
       "    <tr style=\"text-align: right;\">\n",
       "      <th>MovieIDs</th>\n",
       "      <th>223</th>\n",
       "      <th>260</th>\n",
       "      <th>288</th>\n",
       "      <th>356</th>\n",
       "      <th>440</th>\n",
       "      <th>457</th>\n",
       "      <th>480</th>\n",
       "      <th>518</th>\n",
       "      <th>562</th>\n",
       "      <th>569</th>\n",
       "      <th>...</th>\n",
       "      <th>2858</th>\n",
       "      <th>2940</th>\n",
       "      <th>3081</th>\n",
       "      <th>3107</th>\n",
       "      <th>3146</th>\n",
       "      <th>3254</th>\n",
       "      <th>3396</th>\n",
       "      <th>3448</th>\n",
       "      <th>3634</th>\n",
       "      <th>3786</th>\n",
       "    </tr>\n",
       "    <tr>\n",
       "      <th>UserID</th>\n",
       "      <th></th>\n",
       "      <th></th>\n",
       "      <th></th>\n",
       "      <th></th>\n",
       "      <th></th>\n",
       "      <th></th>\n",
       "      <th></th>\n",
       "      <th></th>\n",
       "      <th></th>\n",
       "      <th></th>\n",
       "      <th></th>\n",
       "      <th></th>\n",
       "      <th></th>\n",
       "      <th></th>\n",
       "      <th></th>\n",
       "      <th></th>\n",
       "      <th></th>\n",
       "      <th></th>\n",
       "      <th></th>\n",
       "      <th></th>\n",
       "      <th></th>\n",
       "    </tr>\n",
       "  </thead>\n",
       "  <tbody>\n",
       "    <tr>\n",
       "      <th>1</th>\n",
       "      <td>NaN</td>\n",
       "      <td>4.0</td>\n",
       "      <td>NaN</td>\n",
       "      <td>NaN</td>\n",
       "      <td>NaN</td>\n",
       "      <td>NaN</td>\n",
       "      <td>NaN</td>\n",
       "      <td>NaN</td>\n",
       "      <td>NaN</td>\n",
       "      <td>NaN</td>\n",
       "      <td>...</td>\n",
       "      <td>NaN</td>\n",
       "      <td>NaN</td>\n",
       "      <td>NaN</td>\n",
       "      <td>NaN</td>\n",
       "      <td>NaN</td>\n",
       "      <td>NaN</td>\n",
       "      <td>NaN</td>\n",
       "      <td>NaN</td>\n",
       "      <td>NaN</td>\n",
       "      <td>NaN</td>\n",
       "    </tr>\n",
       "    <tr>\n",
       "      <th>2</th>\n",
       "      <td>NaN</td>\n",
       "      <td>NaN</td>\n",
       "      <td>NaN</td>\n",
       "      <td>5.0</td>\n",
       "      <td>NaN</td>\n",
       "      <td>4.0</td>\n",
       "      <td>5.0</td>\n",
       "      <td>NaN</td>\n",
       "      <td>NaN</td>\n",
       "      <td>NaN</td>\n",
       "      <td>...</td>\n",
       "      <td>4.0</td>\n",
       "      <td>NaN</td>\n",
       "      <td>NaN</td>\n",
       "      <td>2.0</td>\n",
       "      <td>NaN</td>\n",
       "      <td>NaN</td>\n",
       "      <td>NaN</td>\n",
       "      <td>NaN</td>\n",
       "      <td>NaN</td>\n",
       "      <td>NaN</td>\n",
       "    </tr>\n",
       "    <tr>\n",
       "      <th>3</th>\n",
       "      <td>NaN</td>\n",
       "      <td>5.0</td>\n",
       "      <td>NaN</td>\n",
       "      <td>NaN</td>\n",
       "      <td>NaN</td>\n",
       "      <td>NaN</td>\n",
       "      <td>4.0</td>\n",
       "      <td>NaN</td>\n",
       "      <td>NaN</td>\n",
       "      <td>NaN</td>\n",
       "      <td>...</td>\n",
       "      <td>4.0</td>\n",
       "      <td>NaN</td>\n",
       "      <td>NaN</td>\n",
       "      <td>NaN</td>\n",
       "      <td>NaN</td>\n",
       "      <td>NaN</td>\n",
       "      <td>NaN</td>\n",
       "      <td>NaN</td>\n",
       "      <td>NaN</td>\n",
       "      <td>NaN</td>\n",
       "    </tr>\n",
       "    <tr>\n",
       "      <th>4</th>\n",
       "      <td>NaN</td>\n",
       "      <td>5.0</td>\n",
       "      <td>NaN</td>\n",
       "      <td>NaN</td>\n",
       "      <td>NaN</td>\n",
       "      <td>NaN</td>\n",
       "      <td>4.0</td>\n",
       "      <td>NaN</td>\n",
       "      <td>NaN</td>\n",
       "      <td>NaN</td>\n",
       "      <td>...</td>\n",
       "      <td>NaN</td>\n",
       "      <td>NaN</td>\n",
       "      <td>NaN</td>\n",
       "      <td>NaN</td>\n",
       "      <td>NaN</td>\n",
       "      <td>NaN</td>\n",
       "      <td>NaN</td>\n",
       "      <td>NaN</td>\n",
       "      <td>NaN</td>\n",
       "      <td>NaN</td>\n",
       "    </tr>\n",
       "    <tr>\n",
       "      <th>5</th>\n",
       "      <td>NaN</td>\n",
       "      <td>NaN</td>\n",
       "      <td>2.0</td>\n",
       "      <td>1.0</td>\n",
       "      <td>NaN</td>\n",
       "      <td>NaN</td>\n",
       "      <td>NaN</td>\n",
       "      <td>NaN</td>\n",
       "      <td>4.0</td>\n",
       "      <td>NaN</td>\n",
       "      <td>...</td>\n",
       "      <td>4.0</td>\n",
       "      <td>NaN</td>\n",
       "      <td>3.0</td>\n",
       "      <td>NaN</td>\n",
       "      <td>NaN</td>\n",
       "      <td>NaN</td>\n",
       "      <td>NaN</td>\n",
       "      <td>NaN</td>\n",
       "      <td>NaN</td>\n",
       "      <td>3.0</td>\n",
       "    </tr>\n",
       "  </tbody>\n",
       "</table>\n",
       "<p>5 rows × 49 columns</p>\n",
       "</div>"
      ],
      "text/plain": [
       "MovieIDs  223   260   288   356   440   457   480   518   562   569   ...  \\\n",
       "UserID                                                                ...   \n",
       "1          NaN   4.0   NaN   NaN   NaN   NaN   NaN   NaN   NaN   NaN  ...   \n",
       "2          NaN   NaN   NaN   5.0   NaN   4.0   5.0   NaN   NaN   NaN  ...   \n",
       "3          NaN   5.0   NaN   NaN   NaN   NaN   4.0   NaN   NaN   NaN  ...   \n",
       "4          NaN   5.0   NaN   NaN   NaN   NaN   4.0   NaN   NaN   NaN  ...   \n",
       "5          NaN   NaN   2.0   1.0   NaN   NaN   NaN   NaN   4.0   NaN  ...   \n",
       "\n",
       "MovieIDs  2858  2940  3081  3107  3146  3254  3396  3448  3634  3786  \n",
       "UserID                                                                \n",
       "1          NaN   NaN   NaN   NaN   NaN   NaN   NaN   NaN   NaN   NaN  \n",
       "2          4.0   NaN   NaN   2.0   NaN   NaN   NaN   NaN   NaN   NaN  \n",
       "3          4.0   NaN   NaN   NaN   NaN   NaN   NaN   NaN   NaN   NaN  \n",
       "4          NaN   NaN   NaN   NaN   NaN   NaN   NaN   NaN   NaN   NaN  \n",
       "5          4.0   NaN   3.0   NaN   NaN   NaN   NaN   NaN   NaN   3.0  \n",
       "\n",
       "[5 rows x 49 columns]"
      ]
     },
     "execution_count": 37,
     "metadata": {},
     "output_type": "execute_result"
    }
   ],
   "source": [
    "pivot_df_ratings.head()"
   ]
  },
  {
   "cell_type": "code",
   "execution_count": 39,
   "metadata": {},
   "outputs": [
    {
     "name": "stdout",
     "output_type": "stream",
     "text": [
      "4.0\n",
      "4.0\n",
      "4.0\n",
      "4.0\n",
      "4.0\n",
      "Prediksi rating untuk UserID 1, dan MovieID 260 adalah 4.16\n"
     ]
    }
   ],
   "source": [
    "# Menghitung baseline dari u, j\n",
    "# Definisikan placeholder\n",
    "n = 5\n",
    "total_rating_sim = 0\n",
    "sim_sum = 0\n",
    "\n",
    "# Iterasi untuk seluruh n user\n",
    "for i in range(n):\n",
    "    # Mendapatkan rating dari n-user\n",
    "    neigh_rating = pivot_df_ratings.loc[list_neigh['n_similarity'][i],MovieIDs]\n",
    "    print(neigh_rating)\n",
    "\n",
    "    # Abaikan nilai NaN\n",
    "    if np.isnan(neigh_rating):\n",
    "        continue\n",
    "\n",
    "    # Menghitung nilai baseline (j, i)\n",
    "    baseline = calculate_baseline_prediction(pivot_df_ratings= pivot_df_ratings,\n",
    "                                             userid = list_neigh['n_similarity'][i], movieid=MovieIDs)\n",
    "    \n",
    "    # Kurangi baseline dengan rating\n",
    "    substracted_rating = neigh_rating - baseline\n",
    "\n",
    "    # Kalikan dengan similarity\n",
    "    rating_sim = list_neigh['n_similarity_val'][i]*substracted_rating\n",
    "\n",
    "    # Jumlah similarity dikalikan dengan rating\n",
    "    total_rating_sim += rating_sim\n",
    "\n",
    "    # Jumlah total similarity\n",
    "    sim_sum += list_neigh['n_similarity_val'][i]\n",
    "\n",
    "rating_user_item_predicted = baseline + (total_rating_sim / sim_sum)\n",
    "\n",
    "print(f'Prediksi rating untuk UserID {UserID}, dan MovieID {MovieIDs} adalah {round(rating_user_item_predicted,2)}')\n"
   ]
  },
  {
   "cell_type": "markdown",
   "metadata": {},
   "source": [
    "#### Membuat fungsi `rating_predicted_item`"
   ]
  },
  {
   "cell_type": "code",
   "execution_count": 40,
   "metadata": {},
   "outputs": [],
   "source": [
    "def rating_predicted_item(userid, movieid, pivot_df_ratings, list_neigh, n,\n",
    "                          max_rating = 5, min_rating = 1):\n",
    "    \"\"\"\n",
    "    Fungsi untuk melakukan prediksi rating pada UserID dan MoviesIDs\n",
    "\n",
    "    Parameters\n",
    "    ---------\n",
    "    userid : int,\n",
    "        ID dari user pada utility matrix\n",
    "\n",
    "    movieid : int,\n",
    "        ID dari movie pada utility matrix\n",
    "\n",
    "    pivot_df_ratings : pandas DataFrame,\n",
    "        DataFrame rating dari user dan movies yang telah dilakukan pivot table\n",
    "\n",
    "    list_neigh : list,\n",
    "        n user terdekat dengan userid untuk rating movieid\n",
    "\n",
    "    n : int,\n",
    "        Jumlah n tetangga terdekat dengan userid\n",
    "\n",
    "    max_rating : int (default=5),\n",
    "        Rating maksimal yang dapat diberikan oleh User\n",
    "    \n",
    "    min_rating : int (default=1),\n",
    "        Rating minimal yang dapati diberikan oleh User\n",
    "\n",
    "    Returns\n",
    "    -------\n",
    "    rating_user_item_predicted : int,\n",
    "        Prediksi rating dari movie pada userid dan movie tersebut   \n",
    "    \"\"\"\n",
    "    # Menghapus user mean pada rating\n",
    "    user_mean_ = pivot_df_ratings.mean(axis=0)\n",
    "    rating_subtract_user_mean = (pivot_df_ratings - user_mean_).fillna(0)\n",
    "\n",
    "    # Menghitung baseline (u, i)\n",
    "    baseline = calculate_baseline_prediction(pivot_df_ratings= pivot_df_ratings,\n",
    "                                            userid = userid, movieid= movieid)\n",
    "    \n",
    "    total_rating_sim = 0\n",
    "    sim_sum = 0\n",
    "    # Iterasi untuk mendapatkan jumlah rating\n",
    "    for i in range(n):\n",
    "    # Mendapatkan rating dari n-user\n",
    "        neigh_rating = pivot_df_ratings.loc[list_neigh['n_similarity'][i],movieid]\n",
    "        print(neigh_rating)\n",
    "\n",
    "        # Abaikan nilai NaN\n",
    "        if np.isnan(neigh_rating):\n",
    "            continue\n",
    "\n",
    "        # Menghitung nilai baseline (j, i)\n",
    "        baseline = calculate_baseline_prediction(pivot_df_ratings= pivot_df_ratings,\n",
    "                                                userid = list_neigh['n_similarity'][i], movieid=movieid)\n",
    "        \n",
    "        # Kurangi baseline dengan rating\n",
    "        substracted_rating = neigh_rating - baseline\n",
    "\n",
    "        # Kalikan dengan similarity\n",
    "        rating_sim = list_neigh['n_similarity_val'][i]*substracted_rating\n",
    "\n",
    "        # Jumlah similarity dikalikan dengan rating\n",
    "        total_rating_sim += rating_sim\n",
    "\n",
    "        # Jumlah total similarity\n",
    "        sim_sum += list_neigh['n_similarity_val'][i]\n",
    "    \n",
    "    # Defence terhadap ZeroDivisionError\n",
    "    try :\n",
    "        rating_user_item_predicted = baseline + (total_rating_sim / sim_sum)\n",
    "\n",
    "    except ZeroDivisionError:\n",
    "        rating_user_item_predicted = baseline\n",
    "\n",
    "    # Cek terhadap batas dari rating (max_rating / min_rating)\n",
    "    if rating_user_item_predicted > max_rating:\n",
    "        rating_user_item_predicted = max_rating\n",
    "\n",
    "    elif rating_user_item_predicted < min_rating:\n",
    "        rating_user_item_predicted = min_rating\n",
    "\n",
    "    return round(rating_user_item_predicted,2)"
   ]
  },
  {
   "cell_type": "code",
   "execution_count": 41,
   "metadata": {},
   "outputs": [
    {
     "name": "stdout",
     "output_type": "stream",
     "text": [
      "4.0\n",
      "4.0\n",
      "4.0\n",
      "4.0\n",
      "4.0\n"
     ]
    },
    {
     "data": {
      "text/plain": [
       "4.16"
      ]
     },
     "execution_count": 41,
     "metadata": {},
     "output_type": "execute_result"
    }
   ],
   "source": [
    "# Melakukan pengecekan fungsi `rating_predicted_item`\n",
    "rating_predicted_item(userid = UserID, movieid = MovieIDs,\n",
    "                      pivot_df_ratings = pivot_df_ratings,\n",
    "                      list_neigh = list_neigh, n = 5)"
   ]
  },
  {
   "cell_type": "markdown",
   "metadata": {},
   "source": [
    "#### Generate Recommendation"
   ]
  },
  {
   "cell_type": "code",
   "execution_count": 42,
   "metadata": {},
   "outputs": [
    {
     "name": "stderr",
     "output_type": "stream",
     "text": [
      " 24%|██▍       | 11/45 [00:00<00:00, 108.85it/s]"
     ]
    },
    {
     "name": "stdout",
     "output_type": "stream",
     "text": [
      "nan\n",
      "nan\n",
      "nan\n",
      "nan\n",
      "nan\n",
      "nan\n",
      "nan\n",
      "nan\n",
      "nan\n",
      "nan\n",
      "nan\n",
      "nan\n",
      "nan\n",
      "nan\n",
      "nan\n",
      "nan\n",
      "nan\n",
      "nan\n",
      "nan\n",
      "nan\n",
      "nan\n",
      "nan\n",
      "4.0\n",
      "nan\n",
      "nan\n",
      "nan\n",
      "nan\n",
      "nan\n",
      "nan\n",
      "nan\n",
      "nan\n",
      "nan\n",
      "nan\n",
      "nan\n",
      "nan\n",
      "nan\n",
      "nan\n",
      "nan\n",
      "nan\n",
      "nan\n",
      "nan\n",
      "nan\n",
      "nan\n",
      "nan\n",
      "nan\n",
      "nan\n",
      "nan\n",
      "nan\n",
      "nan\n",
      "nan\n",
      "nan\n",
      "nan\n",
      "nan\n",
      "nan\n",
      "nan\n",
      "nan\n",
      "nan\n",
      "nan\n",
      "nan\n",
      "nan\n",
      "nan\n",
      "nan\n",
      "nan\n",
      "nan\n",
      "nan\n",
      "nan\n",
      "nan\n",
      "nan\n",
      "nan\n",
      "nan\n",
      "nan\n",
      "nan\n",
      "nan\n",
      "nan\n",
      "nan\n",
      "nan\n",
      "nan\n",
      "nan\n",
      "nan\n",
      "nan\n",
      "nan\n",
      "nan\n",
      "nan\n",
      "nan\n",
      "nan\n",
      "nan\n",
      "nan\n",
      "nan\n",
      "nan\n",
      "nan\n",
      "nan\n",
      "nan\n",
      "nan\n",
      "nan\n",
      "nan\n",
      "nan\n",
      "nan\n",
      "nan\n",
      "nan\n",
      "4.0\n",
      "nan\n",
      "nan\n",
      "nan\n",
      "nan\n",
      "nan\n",
      "nan\n",
      "nan\n",
      "nan\n",
      "nan\n",
      "nan\n",
      "nan\n",
      "nan\n",
      "nan\n",
      "nan\n",
      "nan\n"
     ]
    },
    {
     "name": "stderr",
     "output_type": "stream",
     "text": [
      "100%|██████████| 45/45 [00:00<00:00, 125.46it/s]"
     ]
    },
    {
     "name": "stdout",
     "output_type": "stream",
     "text": [
      "nan\n",
      "nan\n",
      "nan\n",
      "nan\n",
      "nan\n",
      "nan\n",
      "nan\n",
      "nan\n",
      "nan\n",
      "nan\n",
      "nan\n",
      "nan\n",
      "nan\n",
      "nan\n",
      "nan\n",
      "nan\n",
      "nan\n",
      "nan\n",
      "nan\n",
      "nan\n",
      "nan\n",
      "nan\n",
      "nan\n",
      "nan\n",
      "nan\n",
      "nan\n",
      "nan\n",
      "nan\n",
      "nan\n",
      "nan\n",
      "nan\n",
      "nan\n",
      "nan\n",
      "nan\n",
      "nan\n",
      "nan\n",
      "nan\n",
      "nan\n",
      "nan\n",
      "nan\n",
      "nan\n",
      "nan\n",
      "nan\n",
      "nan\n",
      "nan\n",
      "nan\n",
      "nan\n",
      "nan\n",
      "nan\n",
      "nan\n",
      "nan\n",
      "nan\n",
      "nan\n",
      "nan\n",
      "nan\n",
      "nan\n",
      "nan\n",
      "nan\n",
      "nan\n",
      "nan\n",
      "nan\n",
      "nan\n",
      "nan\n",
      "4.0\n",
      "4.0\n",
      "nan\n",
      "nan\n",
      "nan\n",
      "nan\n",
      "nan\n",
      "nan\n",
      "nan\n",
      "nan\n",
      "nan\n",
      "nan\n",
      "nan\n",
      "nan\n",
      "nan\n",
      "nan\n",
      "nan\n",
      "nan\n",
      "nan\n",
      "nan\n",
      "nan\n",
      "nan\n",
      "nan\n",
      "nan\n",
      "nan\n",
      "nan\n",
      "nan\n",
      "nan\n",
      "nan\n",
      "nan\n",
      "nan\n",
      "nan\n",
      "nan\n",
      "nan\n",
      "nan\n",
      "nan\n",
      "nan\n",
      "nan\n",
      "nan\n",
      "nan\n",
      "nan\n",
      "nan\n",
      "nan\n",
      "nan\n",
      "nan\n",
      "nan\n",
      "nan\n"
     ]
    },
    {
     "name": "stderr",
     "output_type": "stream",
     "text": [
      "\n"
     ]
    }
   ],
   "source": [
    "user_id = 1\n",
    "# Membuat placeholder (dataframe) untuk hasil prediksi\n",
    "df_pred = pd.DataFrame()\n",
    "\n",
    "# Membuat placeholder (list) untuk hasil prediksi\n",
    "pred_rating = []\n",
    "\n",
    "# Iterasi untuk semua movie unrated\n",
    "masked = np.isnan(pivot_df_ratings.loc[user_id])\n",
    "pivot_df_ratings\n",
    "\n",
    "for mov in tqdm(pivot_df_ratings.columns[masked]):\n",
    "    # Prediksi rating movie\n",
    "    predictions = rating_predicted_item(userid= user_id, movieid= mov,\n",
    "                                        pivot_df_ratings= pivot_df_ratings,\n",
    "                                        list_neigh= list_neigh, n = n)\n",
    "    \n",
    "    # Tambahkan rating ke placeholder\n",
    "    pred_rating.append(predictions)\n",
    "\n",
    "# Assign ke MovieID\n",
    "df_pred['MovieIDs'] = pivot_df_ratings.columns[masked]\n",
    "\n",
    "# Assign hasil dari prediksi\n",
    "df_pred['pred_rating'] = pred_rating\n"
   ]
  },
  {
   "cell_type": "code",
   "execution_count": 43,
   "metadata": {},
   "outputs": [
    {
     "data": {
      "text/html": [
       "<div>\n",
       "<style scoped>\n",
       "    .dataframe tbody tr th:only-of-type {\n",
       "        vertical-align: middle;\n",
       "    }\n",
       "\n",
       "    .dataframe tbody tr th {\n",
       "        vertical-align: top;\n",
       "    }\n",
       "\n",
       "    .dataframe thead th {\n",
       "        text-align: right;\n",
       "    }\n",
       "</style>\n",
       "<table border=\"1\" class=\"dataframe\">\n",
       "  <thead>\n",
       "    <tr style=\"text-align: right;\">\n",
       "      <th></th>\n",
       "      <th>MovieIDs</th>\n",
       "      <th>pred_rating</th>\n",
       "    </tr>\n",
       "  </thead>\n",
       "  <tbody>\n",
       "    <tr>\n",
       "      <th>6</th>\n",
       "      <td>518</td>\n",
       "      <td>4.57</td>\n",
       "    </tr>\n",
       "    <tr>\n",
       "      <th>39</th>\n",
       "      <td>3146</td>\n",
       "      <td>4.26</td>\n",
       "    </tr>\n",
       "    <tr>\n",
       "      <th>24</th>\n",
       "      <td>1593</td>\n",
       "      <td>4.16</td>\n",
       "    </tr>\n",
       "    <tr>\n",
       "      <th>40</th>\n",
       "      <td>3254</td>\n",
       "      <td>4.14</td>\n",
       "    </tr>\n",
       "    <tr>\n",
       "      <th>34</th>\n",
       "      <td>2840</td>\n",
       "      <td>4.12</td>\n",
       "    </tr>\n",
       "  </tbody>\n",
       "</table>\n",
       "</div>"
      ],
      "text/plain": [
       "    MovieIDs  pred_rating\n",
       "6        518         4.57\n",
       "39      3146         4.26\n",
       "24      1593         4.16\n",
       "40      3254         4.14\n",
       "34      2840         4.12"
      ]
     },
     "execution_count": 43,
     "metadata": {},
     "output_type": "execute_result"
    }
   ],
   "source": [
    "# Urutkan nilai rating secara descending\n",
    "n_item = 5\n",
    "df_pred = (df_pred.\n",
    "           sort_values('pred_rating', ascending=False).\n",
    "           head(n_item))\n",
    "\n",
    "df_pred"
   ]
  },
  {
   "cell_type": "markdown",
   "metadata": {},
   "source": [
    "#### Membuat fungsi `recommendation_movies`"
   ]
  },
  {
   "cell_type": "code",
   "execution_count": 44,
   "metadata": {},
   "outputs": [],
   "source": [
    "def recommendation_movies(pivot_df_ratings, userid, n, n_item,\n",
    "                          recommend_seen = False):\n",
    "    \"\"\"\n",
    "    Fungsi untuk mendapatkan rekomendasi berdasarkan userid\n",
    "\n",
    "    Parameters\n",
    "    ----------\n",
    "    pivot_df_ratings : pandas DataFrame,\n",
    "        Rating data dalam belum tabel yang sudah di pivot\n",
    "\n",
    "    userid : int,\n",
    "        UserID dari user yang akan dihitung biasnya\n",
    "\n",
    "    n : int,\n",
    "        Jumlah n user yang nilainya paling dekat dengan userid\n",
    "\n",
    "    n_item : int,\n",
    "        Jumlah item dalam integer\n",
    "    \n",
    "    recommend_seen : bool,\n",
    "        Nilai default adalah False\n",
    "    \"\"\"\n",
    "    # Mencari nilai tetangga terdekat\n",
    "    neigh_data = get_n_neigh(rating_subtract_user_mean=rating_subtract_user_mean,\n",
    "                             userid=userid, n=n)\n",
    "    \n",
    "    # Membuat placeholder (dataframe) untuk hasil prediksi\n",
    "    df_pred = pd.DataFrame()\n",
    "\n",
    "    # Membuat placeholder (list) untuk hasil prediksi\n",
    "    pred_rating = []\n",
    "\n",
    "    # Iterasi untuk semua movie unrated\n",
    "    masked = np.isnan(pivot_df_ratings.loc[userid])\n",
    "    item_to_predict = pivot_df_ratings.columns[masked]\n",
    "\n",
    "    if recommend_seen :\n",
    "        item_to_predict = pivot_df_ratings.columns\n",
    "\n",
    "    # Iterasi untuk semua movie\n",
    "    for mov in tqdm(item_to_predict):\n",
    "        # Prediksi rating movie\n",
    "        predictions = rating_predicted_item(userid = userid, movieid = mov,\n",
    "                                            pivot_df_ratings = pivot_df_ratings,\n",
    "                                            list_neigh= list_neigh, n = n)\n",
    "        \n",
    "        # Tambahkan rating ke placeholder\n",
    "        pred_rating.append(predictions)\n",
    "\n",
    "    # Assign ke MovieID\n",
    "    df_pred['MovieIDs'] = pivot_df_ratings.columns[masked]\n",
    "\n",
    "    # Assign hasil dari prediksi\n",
    "    df_pred['pred_rating'] = pred_rating\n",
    "\n",
    "    df_pred = (df_pred\n",
    "            .sort_values('pred_rating',ascending=False)\n",
    "            .head(n_item))\n",
    "\n",
    "    return df_pred"
   ]
  },
  {
   "cell_type": "code",
   "execution_count": 45,
   "metadata": {},
   "outputs": [
    {
     "name": "stderr",
     "output_type": "stream",
     "text": [
      "100%|██████████| 5847/5847 [00:01<00:00, 5769.46it/s]\n",
      " 31%|███       | 14/45 [00:00<00:00, 136.88it/s]"
     ]
    },
    {
     "name": "stdout",
     "output_type": "stream",
     "text": [
      "nan\n",
      "nan\n",
      "nan\n",
      "nan\n",
      "nan\n",
      "nan\n",
      "nan\n",
      "nan\n",
      "nan\n",
      "nan\n",
      "nan\n",
      "nan\n",
      "nan\n",
      "nan\n",
      "nan\n",
      "nan\n",
      "nan\n",
      "nan\n",
      "nan\n",
      "nan\n",
      "nan\n",
      "nan\n",
      "4.0\n",
      "nan\n",
      "nan\n",
      "nan\n",
      "nan\n",
      "nan\n",
      "nan\n",
      "nan\n",
      "nan\n",
      "nan\n",
      "nan\n",
      "nan\n",
      "nan\n",
      "nan\n",
      "nan\n",
      "nan\n",
      "nan\n",
      "nan\n",
      "nan\n",
      "nan\n",
      "nan\n",
      "nan\n",
      "nan\n",
      "nan\n",
      "nan\n",
      "nan\n",
      "nan\n",
      "nan\n",
      "nan\n",
      "nan\n",
      "nan\n",
      "nan\n",
      "nan\n",
      "nan\n",
      "nan\n",
      "nan\n",
      "nan\n",
      "nan\n",
      "nan\n",
      "nan\n",
      "nan\n",
      "nan\n",
      "nan\n",
      "nan\n",
      "nan\n",
      "nan\n",
      "nan\n",
      "nan\n",
      "nan\n",
      "nan\n",
      "nan\n",
      "nan\n",
      "nan\n",
      "nan\n",
      "nan\n",
      "nan\n",
      "nan\n",
      "nan\n",
      "nan\n",
      "nan\n",
      "nan\n",
      "nan\n",
      "nan\n",
      "nan\n",
      "nan\n",
      "nan\n",
      "nan\n",
      "nan\n",
      "nan\n",
      "nan\n",
      "nan\n",
      "nan\n",
      "nan\n",
      "nan\n",
      "nan\n",
      "nan\n",
      "nan\n",
      "4.0\n",
      "nan\n",
      "nan\n",
      "nan\n",
      "nan\n",
      "nan\n",
      "nan\n",
      "nan\n",
      "nan\n",
      "nan\n",
      "nan\n",
      "nan\n",
      "nan\n",
      "nan\n",
      "nan\n",
      "nan\n",
      "nan\n",
      "nan\n",
      "nan\n",
      "nan\n",
      "nan\n"
     ]
    },
    {
     "name": "stderr",
     "output_type": "stream",
     "text": [
      "100%|██████████| 45/45 [00:00<00:00, 124.01it/s]"
     ]
    },
    {
     "name": "stdout",
     "output_type": "stream",
     "text": [
      "nan\n",
      "nan\n",
      "nan\n",
      "nan\n",
      "nan\n",
      "nan\n",
      "nan\n",
      "nan\n",
      "nan\n",
      "nan\n",
      "nan\n",
      "nan\n",
      "nan\n",
      "nan\n",
      "nan\n",
      "nan\n",
      "nan\n",
      "nan\n",
      "nan\n",
      "nan\n",
      "nan\n",
      "nan\n",
      "nan\n",
      "nan\n",
      "nan\n",
      "nan\n",
      "nan\n",
      "nan\n",
      "nan\n",
      "nan\n",
      "nan\n",
      "nan\n",
      "nan\n",
      "nan\n",
      "nan\n",
      "nan\n",
      "nan\n",
      "nan\n",
      "nan\n",
      "nan\n",
      "nan\n",
      "nan\n",
      "nan\n",
      "nan\n",
      "nan\n",
      "nan\n",
      "nan\n",
      "nan\n",
      "nan\n",
      "nan\n",
      "nan\n",
      "nan\n",
      "nan\n",
      "nan\n",
      "nan\n",
      "nan\n",
      "nan\n",
      "nan\n",
      "4.0\n",
      "4.0\n",
      "nan\n",
      "nan\n",
      "nan\n",
      "nan\n",
      "nan\n",
      "nan\n",
      "nan\n",
      "nan\n",
      "nan\n",
      "nan\n",
      "nan\n",
      "nan\n",
      "nan\n",
      "nan\n",
      "nan\n",
      "nan\n",
      "nan\n",
      "nan\n",
      "nan\n",
      "nan\n",
      "nan\n",
      "nan\n",
      "nan\n",
      "nan\n",
      "nan\n",
      "nan\n",
      "nan\n",
      "nan\n",
      "nan\n",
      "nan\n",
      "nan\n",
      "nan\n",
      "nan\n",
      "nan\n",
      "nan\n",
      "nan\n",
      "nan\n",
      "nan\n",
      "nan\n",
      "nan\n",
      "nan\n",
      "nan\n",
      "nan\n",
      "nan\n",
      "nan\n"
     ]
    },
    {
     "name": "stderr",
     "output_type": "stream",
     "text": [
      "\n"
     ]
    },
    {
     "data": {
      "text/html": [
       "<div>\n",
       "<style scoped>\n",
       "    .dataframe tbody tr th:only-of-type {\n",
       "        vertical-align: middle;\n",
       "    }\n",
       "\n",
       "    .dataframe tbody tr th {\n",
       "        vertical-align: top;\n",
       "    }\n",
       "\n",
       "    .dataframe thead th {\n",
       "        text-align: right;\n",
       "    }\n",
       "</style>\n",
       "<table border=\"1\" class=\"dataframe\">\n",
       "  <thead>\n",
       "    <tr style=\"text-align: right;\">\n",
       "      <th></th>\n",
       "      <th>MovieIDs</th>\n",
       "      <th>pred_rating</th>\n",
       "    </tr>\n",
       "  </thead>\n",
       "  <tbody>\n",
       "    <tr>\n",
       "      <th>6</th>\n",
       "      <td>518</td>\n",
       "      <td>4.57</td>\n",
       "    </tr>\n",
       "    <tr>\n",
       "      <th>39</th>\n",
       "      <td>3146</td>\n",
       "      <td>4.26</td>\n",
       "    </tr>\n",
       "    <tr>\n",
       "      <th>24</th>\n",
       "      <td>1593</td>\n",
       "      <td>4.16</td>\n",
       "    </tr>\n",
       "    <tr>\n",
       "      <th>40</th>\n",
       "      <td>3254</td>\n",
       "      <td>4.14</td>\n",
       "    </tr>\n",
       "    <tr>\n",
       "      <th>34</th>\n",
       "      <td>2840</td>\n",
       "      <td>4.12</td>\n",
       "    </tr>\n",
       "  </tbody>\n",
       "</table>\n",
       "</div>"
      ],
      "text/plain": [
       "    MovieIDs  pred_rating\n",
       "6        518         4.57\n",
       "39      3146         4.26\n",
       "24      1593         4.16\n",
       "40      3254         4.14\n",
       "34      2840         4.12"
      ]
     },
     "execution_count": 45,
     "metadata": {},
     "output_type": "execute_result"
    }
   ],
   "source": [
    "user_1_rec = recommendation_movies(pivot_df_ratings=pivot_df_ratings, userid=1, n=5, n_item=5,\n",
    "                                   recommend_seen=False)\n",
    "\n",
    "user_1_rec"
   ]
  },
  {
   "cell_type": "markdown",
   "metadata": {},
   "source": [
    "#### Konversi ke Movie Data"
   ]
  },
  {
   "cell_type": "code",
   "execution_count": 46,
   "metadata": {},
   "outputs": [],
   "source": [
    "def import_movie_data(movie_path, m_cols):\n",
    "    \"\"\"\n",
    "    Fungsi yang digunakan untuk import movie.csv \n",
    "\n",
    "    Parameters\n",
    "    ----------\n",
    "    movie_path : str\n",
    "        Path movie.csv\n",
    "\n",
    "    m_cols : list\n",
    "        Nama kolom dari movies.csv\n",
    "    Returns\n",
    "    -------\n",
    "    movie_df : pandas DataFrame\n",
    "        DataFrame dari movie\n",
    "    \"\"\"\n",
    "    # Import data\n",
    "    movie_df = pd.read_csv(movie_path, sep='::', names=m_cols, encoding='latin-1', index_col=None, engine='python')\n",
    "    \n",
    "    print('Shape dari movie_df :', movie_df.shape)\n",
    "    return movie_df"
   ]
  },
  {
   "cell_type": "code",
   "execution_count": 47,
   "metadata": {},
   "outputs": [
    {
     "name": "stdout",
     "output_type": "stream",
     "text": [
      "Shape dari movie_df : (3883, 3)\n"
     ]
    },
    {
     "data": {
      "text/html": [
       "<div>\n",
       "<style scoped>\n",
       "    .dataframe tbody tr th:only-of-type {\n",
       "        vertical-align: middle;\n",
       "    }\n",
       "\n",
       "    .dataframe tbody tr th {\n",
       "        vertical-align: top;\n",
       "    }\n",
       "\n",
       "    .dataframe thead th {\n",
       "        text-align: right;\n",
       "    }\n",
       "</style>\n",
       "<table border=\"1\" class=\"dataframe\">\n",
       "  <thead>\n",
       "    <tr style=\"text-align: right;\">\n",
       "      <th></th>\n",
       "      <th>MovieIDs</th>\n",
       "      <th>Title</th>\n",
       "      <th>Genre</th>\n",
       "    </tr>\n",
       "  </thead>\n",
       "  <tbody>\n",
       "    <tr>\n",
       "      <th>0</th>\n",
       "      <td>1</td>\n",
       "      <td>Toy Story (1995)</td>\n",
       "      <td>Animation|Children's|Comedy</td>\n",
       "    </tr>\n",
       "    <tr>\n",
       "      <th>1</th>\n",
       "      <td>2</td>\n",
       "      <td>Jumanji (1995)</td>\n",
       "      <td>Adventure|Children's|Fantasy</td>\n",
       "    </tr>\n",
       "    <tr>\n",
       "      <th>2</th>\n",
       "      <td>3</td>\n",
       "      <td>Grumpier Old Men (1995)</td>\n",
       "      <td>Comedy|Romance</td>\n",
       "    </tr>\n",
       "    <tr>\n",
       "      <th>3</th>\n",
       "      <td>4</td>\n",
       "      <td>Waiting to Exhale (1995)</td>\n",
       "      <td>Comedy|Drama</td>\n",
       "    </tr>\n",
       "    <tr>\n",
       "      <th>4</th>\n",
       "      <td>5</td>\n",
       "      <td>Father of the Bride Part II (1995)</td>\n",
       "      <td>Comedy</td>\n",
       "    </tr>\n",
       "  </tbody>\n",
       "</table>\n",
       "</div>"
      ],
      "text/plain": [
       "   MovieIDs                               Title                         Genre\n",
       "0         1                    Toy Story (1995)   Animation|Children's|Comedy\n",
       "1         2                      Jumanji (1995)  Adventure|Children's|Fantasy\n",
       "2         3             Grumpier Old Men (1995)                Comedy|Romance\n",
       "3         4            Waiting to Exhale (1995)                  Comedy|Drama\n",
       "4         5  Father of the Bride Part II (1995)                        Comedy"
      ]
     },
     "execution_count": 47,
     "metadata": {},
     "output_type": "execute_result"
    }
   ],
   "source": [
    "# Import movie.csv\n",
    "movie_path = '../data/movies.csv'\n",
    "m_cols = ['MovieIDs', 'Title', 'Genre']\n",
    "\n",
    "# Ambil DataFrame dari movies.csv\n",
    "movie_df = import_movie_data(movie_path = movie_path, m_cols = m_cols)\n",
    "movie_df.head()"
   ]
  },
  {
   "cell_type": "code",
   "execution_count": 48,
   "metadata": {},
   "outputs": [
    {
     "data": {
      "text/html": [
       "<div>\n",
       "<style scoped>\n",
       "    .dataframe tbody tr th:only-of-type {\n",
       "        vertical-align: middle;\n",
       "    }\n",
       "\n",
       "    .dataframe tbody tr th {\n",
       "        vertical-align: top;\n",
       "    }\n",
       "\n",
       "    .dataframe thead th {\n",
       "        text-align: right;\n",
       "    }\n",
       "</style>\n",
       "<table border=\"1\" class=\"dataframe\">\n",
       "  <thead>\n",
       "    <tr style=\"text-align: right;\">\n",
       "      <th></th>\n",
       "      <th>MovieIDs</th>\n",
       "      <th>pred_rating</th>\n",
       "      <th>MovieName</th>\n",
       "      <th>Genres</th>\n",
       "    </tr>\n",
       "  </thead>\n",
       "  <tbody>\n",
       "    <tr>\n",
       "      <th>6</th>\n",
       "      <td>518</td>\n",
       "      <td>4.57</td>\n",
       "      <td>Romper Stomper (1992)</td>\n",
       "      <td>Action|Drama</td>\n",
       "    </tr>\n",
       "    <tr>\n",
       "      <th>39</th>\n",
       "      <td>3146</td>\n",
       "      <td>4.26</td>\n",
       "      <td>Voyage of the Damned (1976)</td>\n",
       "      <td>Drama</td>\n",
       "    </tr>\n",
       "    <tr>\n",
       "      <th>24</th>\n",
       "      <td>1593</td>\n",
       "      <td>4.16</td>\n",
       "      <td>Chasing Amy (1997)</td>\n",
       "      <td>Drama|Romance</td>\n",
       "    </tr>\n",
       "    <tr>\n",
       "      <th>40</th>\n",
       "      <td>3254</td>\n",
       "      <td>4.14</td>\n",
       "      <td>Chain of Fools (2000)</td>\n",
       "      <td>Comedy|Crime</td>\n",
       "    </tr>\n",
       "    <tr>\n",
       "      <th>34</th>\n",
       "      <td>2840</td>\n",
       "      <td>4.12</td>\n",
       "      <td>Five Wives, Three Secretaries and Me (1998)</td>\n",
       "      <td>Documentary</td>\n",
       "    </tr>\n",
       "  </tbody>\n",
       "</table>\n",
       "</div>"
      ],
      "text/plain": [
       "    MovieIDs  pred_rating                                    MovieName  \\\n",
       "6        518         4.57                        Romper Stomper (1992)   \n",
       "39      3146         4.26                  Voyage of the Damned (1976)   \n",
       "24      1593         4.16                           Chasing Amy (1997)   \n",
       "40      3254         4.14                        Chain of Fools (2000)   \n",
       "34      2840         4.12  Five Wives, Three Secretaries and Me (1998)   \n",
       "\n",
       "           Genres  \n",
       "6    Action|Drama  \n",
       "39          Drama  \n",
       "24  Drama|Romance  \n",
       "40   Comedy|Crime  \n",
       "34    Documentary  "
      ]
     },
     "execution_count": 48,
     "metadata": {},
     "output_type": "execute_result"
    }
   ],
   "source": [
    "user_1_rec['MovieName'] = movie_df.loc[user_1_rec['MovieIDs'], 'Title'].values\n",
    "user_1_rec['Genres'] = movie_df.loc[user_1_rec['MovieIDs'], 'Genre'].values\n",
    "\n",
    "user_1_rec"
   ]
  },
  {
   "cell_type": "markdown",
   "metadata": {},
   "source": [
    "#### Train Recommender System"
   ]
  },
  {
   "cell_type": "code",
   "execution_count": 1,
   "metadata": {
    "scrolled": true
   },
   "outputs": [
    {
     "name": "stdout",
     "output_type": "stream",
     "text": [
      "Requirement already satisfied: surprise in c:\\users\\axel\\anaconda3\\lib\\site-packages (0.1)\n",
      "Requirement already satisfied: scikit-surprise in c:\\users\\axel\\anaconda3\\lib\\site-packages (from surprise) (1.1.1)\n",
      "Requirement already satisfied: joblib>=0.11 in c:\\users\\axel\\anaconda3\\lib\\site-packages (from scikit-surprise->surprise) (1.1.0)\n",
      "Requirement already satisfied: numpy>=1.11.2 in c:\\users\\axel\\anaconda3\\lib\\site-packages (from scikit-surprise->surprise) (1.20.3)\n",
      "Requirement already satisfied: scipy>=1.0.0 in c:\\users\\axel\\anaconda3\\lib\\site-packages (from scikit-surprise->surprise) (1.7.1)\n",
      "Requirement already satisfied: six>=1.10.0 in c:\\users\\axel\\anaconda3\\lib\\site-packages (from scikit-surprise->surprise) (1.16.0)\n"
     ]
    }
   ],
   "source": [
    "!pip install surprise"
   ]
  },
  {
   "cell_type": "code",
   "execution_count": null,
   "metadata": {},
   "outputs": [],
   "source": []
  },
  {
   "cell_type": "markdown",
   "metadata": {},
   "source": [
    "# **2. Modelling**: Model Based Collaborative Filtering with Funk SVD\n",
    "---"
   ]
  },
  {
   "cell_type": "markdown",
   "metadata": {},
   "source": [
    "## Background\n",
    "---"
   ]
  },
  {
   "cell_type": "markdown",
   "metadata": {},
   "source": [
    "Previously we have tried similarity based / neighborhood collaborative filtering models, We encountered a problem"
   ]
  },
  {
   "cell_type": "markdown",
   "metadata": {},
   "source": [
    "We define heavily on **similarity**, Even though we cannot optimize the similarity"
   ]
  },
  {
   "cell_type": "markdown",
   "metadata": {},
   "source": [
    "That means,if we fail to craft similarity, it may fail on prediction"
   ]
  },
  {
   "cell_type": "markdown",
   "metadata": {},
   "source": [
    "Another problem, is that whenever user is new we can't measure similarity due to not enough rating data available"
   ]
  },
  {
   "cell_type": "markdown",
   "metadata": {},
   "source": [
    "**Latent Models**\n",
    "\n",
    "Recall again, our utility matrix has component of user and item, which some of it are interacted and yield utility value, e.g. watching movies user give rating to express their likeliness"
   ]
  },
  {
   "cell_type": "markdown",
   "metadata": {},
   "source": [
    "The solution is we can infer two main factor, user factor and item factor that are behind the process of how utility value / rating are made"
   ]
  },
  {
   "cell_type": "markdown",
   "metadata": {},
   "source": [
    "\n",
    "<img src=\"https://drive.google.com/uc?export=view&id=1f7MoLGctHdM9SV1nGT8qZ0zFSzXg7YKo\" width=600>\n"
   ]
  },
  {
   "cell_type": "markdown",
   "metadata": {},
   "source": [
    "We need **Matrix Decomposition**\n",
    "\n",
    "Some approach :    \n",
    "1. Eigendecomposition\n",
    "2. Cholesky Decomposition\n",
    "3. Singular Decomposition"
   ]
  },
  {
   "cell_type": "markdown",
   "metadata": {},
   "source": [
    "Our constrain :    \n",
    "\n",
    "Utility matrix rarely have n_users = n_items, which mean our utility matrix rarely be a `square matrix`"
   ]
  },
  {
   "cell_type": "markdown",
   "metadata": {},
   "source": [
    "Solution :     \n",
    "We can use Singular Value Decomposition which does not require square matrix"
   ]
  },
  {
   "cell_type": "markdown",
   "metadata": {},
   "source": [
    "## Workflow\n",
    "---"
   ]
  },
  {
   "cell_type": "markdown",
   "metadata": {},
   "source": [
    "To create a personalized RecSys, we can follow these steps:\n",
    "\n",
    "```\n",
    "1. Data Preparation --> Create utility matrix & Split Train-Test\n",
    "2. Train recommendation model --> Baseline, User to User CF (KNN) & Item to Item CF (KNN)\n",
    "3. Choosing Best Model\n",
    "5. Evaluate Final Model\n",
    "```"
   ]
  },
  {
   "cell_type": "markdown",
   "metadata": {},
   "source": [
    "## Implementing Model From Scratch\n",
    "---"
   ]
  },
  {
   "cell_type": "markdown",
   "metadata": {},
   "source": [
    "### Pure Singular Value Decomposition\n",
    "---"
   ]
  },
  {
   "cell_type": "markdown",
   "metadata": {},
   "source": [
    "<img src=\"https://drive.google.com/uc?export=view&id=1TPbt_6viDrGzBzNQMQxVnsq380FfPTbV\" width=600>\n"
   ]
  },
  {
   "cell_type": "markdown",
   "metadata": {},
   "source": [
    "#### Data Preparation"
   ]
  },
  {
   "cell_type": "markdown",
   "metadata": {},
   "source": [
    "Why we need to prepare the data ?"
   ]
  },
  {
   "cell_type": "markdown",
   "metadata": {},
   "source": [
    "Because previously our data is in dataframe which have\n",
    " `userId`,`movieId`,`rating`\n",
    "\n",
    "| userId | movieId | rating |\n",
    "|:------:|---------|--------|\n",
    "| 1      | 1       | 4      |\n",
    "| ..     |         |        |\n",
    "| 600    | 1       | 5      |"
   ]
  },
  {
   "cell_type": "markdown",
   "metadata": {},
   "source": [
    "However we want our dataframe become same as utility matrix shape"
   ]
  },
  {
   "cell_type": "markdown",
   "metadata": {},
   "source": [
    "| userId | movieId1     | ..           | movieIdNth   |\n",
    "|:------:|--------------|--------------|--------------|\n",
    "| 1      | rating value | rating value | rating value |\n",
    "| ..     | rating value | rating value | ratig value  |\n",
    "| 600    | rating value | rating value | rating value |"
   ]
  },
  {
   "cell_type": "markdown",
   "metadata": {},
   "source": [
    "We can achieve those by using `pd.pivot`"
   ]
  },
  {
   "cell_type": "code",
   "execution_count": 51,
   "metadata": {},
   "outputs": [],
   "source": [
    "# Pivot rating data untuk mendapatkan interaksi rating user dan item\n",
    "pivot_df_ratings_funk = pivot_df_ratings.copy()"
   ]
  },
  {
   "cell_type": "code",
   "execution_count": 52,
   "metadata": {},
   "outputs": [
    {
     "data": {
      "text/html": [
       "<div>\n",
       "<style scoped>\n",
       "    .dataframe tbody tr th:only-of-type {\n",
       "        vertical-align: middle;\n",
       "    }\n",
       "\n",
       "    .dataframe tbody tr th {\n",
       "        vertical-align: top;\n",
       "    }\n",
       "\n",
       "    .dataframe thead th {\n",
       "        text-align: right;\n",
       "    }\n",
       "</style>\n",
       "<table border=\"1\" class=\"dataframe\">\n",
       "  <thead>\n",
       "    <tr style=\"text-align: right;\">\n",
       "      <th>MovieIDs</th>\n",
       "      <th>223</th>\n",
       "      <th>260</th>\n",
       "      <th>288</th>\n",
       "      <th>356</th>\n",
       "      <th>440</th>\n",
       "      <th>457</th>\n",
       "      <th>480</th>\n",
       "      <th>518</th>\n",
       "      <th>562</th>\n",
       "      <th>569</th>\n",
       "      <th>...</th>\n",
       "      <th>2858</th>\n",
       "      <th>2940</th>\n",
       "      <th>3081</th>\n",
       "      <th>3107</th>\n",
       "      <th>3146</th>\n",
       "      <th>3254</th>\n",
       "      <th>3396</th>\n",
       "      <th>3448</th>\n",
       "      <th>3634</th>\n",
       "      <th>3786</th>\n",
       "    </tr>\n",
       "    <tr>\n",
       "      <th>UserID</th>\n",
       "      <th></th>\n",
       "      <th></th>\n",
       "      <th></th>\n",
       "      <th></th>\n",
       "      <th></th>\n",
       "      <th></th>\n",
       "      <th></th>\n",
       "      <th></th>\n",
       "      <th></th>\n",
       "      <th></th>\n",
       "      <th></th>\n",
       "      <th></th>\n",
       "      <th></th>\n",
       "      <th></th>\n",
       "      <th></th>\n",
       "      <th></th>\n",
       "      <th></th>\n",
       "      <th></th>\n",
       "      <th></th>\n",
       "      <th></th>\n",
       "      <th></th>\n",
       "    </tr>\n",
       "  </thead>\n",
       "  <tbody>\n",
       "    <tr>\n",
       "      <th>1</th>\n",
       "      <td>NaN</td>\n",
       "      <td>4.0</td>\n",
       "      <td>NaN</td>\n",
       "      <td>NaN</td>\n",
       "      <td>NaN</td>\n",
       "      <td>NaN</td>\n",
       "      <td>NaN</td>\n",
       "      <td>NaN</td>\n",
       "      <td>NaN</td>\n",
       "      <td>NaN</td>\n",
       "      <td>...</td>\n",
       "      <td>NaN</td>\n",
       "      <td>NaN</td>\n",
       "      <td>NaN</td>\n",
       "      <td>NaN</td>\n",
       "      <td>NaN</td>\n",
       "      <td>NaN</td>\n",
       "      <td>NaN</td>\n",
       "      <td>NaN</td>\n",
       "      <td>NaN</td>\n",
       "      <td>NaN</td>\n",
       "    </tr>\n",
       "    <tr>\n",
       "      <th>2</th>\n",
       "      <td>NaN</td>\n",
       "      <td>NaN</td>\n",
       "      <td>NaN</td>\n",
       "      <td>5.0</td>\n",
       "      <td>NaN</td>\n",
       "      <td>4.0</td>\n",
       "      <td>5.0</td>\n",
       "      <td>NaN</td>\n",
       "      <td>NaN</td>\n",
       "      <td>NaN</td>\n",
       "      <td>...</td>\n",
       "      <td>4.0</td>\n",
       "      <td>NaN</td>\n",
       "      <td>NaN</td>\n",
       "      <td>2.0</td>\n",
       "      <td>NaN</td>\n",
       "      <td>NaN</td>\n",
       "      <td>NaN</td>\n",
       "      <td>NaN</td>\n",
       "      <td>NaN</td>\n",
       "      <td>NaN</td>\n",
       "    </tr>\n",
       "    <tr>\n",
       "      <th>3</th>\n",
       "      <td>NaN</td>\n",
       "      <td>5.0</td>\n",
       "      <td>NaN</td>\n",
       "      <td>NaN</td>\n",
       "      <td>NaN</td>\n",
       "      <td>NaN</td>\n",
       "      <td>4.0</td>\n",
       "      <td>NaN</td>\n",
       "      <td>NaN</td>\n",
       "      <td>NaN</td>\n",
       "      <td>...</td>\n",
       "      <td>4.0</td>\n",
       "      <td>NaN</td>\n",
       "      <td>NaN</td>\n",
       "      <td>NaN</td>\n",
       "      <td>NaN</td>\n",
       "      <td>NaN</td>\n",
       "      <td>NaN</td>\n",
       "      <td>NaN</td>\n",
       "      <td>NaN</td>\n",
       "      <td>NaN</td>\n",
       "    </tr>\n",
       "    <tr>\n",
       "      <th>4</th>\n",
       "      <td>NaN</td>\n",
       "      <td>5.0</td>\n",
       "      <td>NaN</td>\n",
       "      <td>NaN</td>\n",
       "      <td>NaN</td>\n",
       "      <td>NaN</td>\n",
       "      <td>4.0</td>\n",
       "      <td>NaN</td>\n",
       "      <td>NaN</td>\n",
       "      <td>NaN</td>\n",
       "      <td>...</td>\n",
       "      <td>NaN</td>\n",
       "      <td>NaN</td>\n",
       "      <td>NaN</td>\n",
       "      <td>NaN</td>\n",
       "      <td>NaN</td>\n",
       "      <td>NaN</td>\n",
       "      <td>NaN</td>\n",
       "      <td>NaN</td>\n",
       "      <td>NaN</td>\n",
       "      <td>NaN</td>\n",
       "    </tr>\n",
       "    <tr>\n",
       "      <th>5</th>\n",
       "      <td>NaN</td>\n",
       "      <td>NaN</td>\n",
       "      <td>2.0</td>\n",
       "      <td>1.0</td>\n",
       "      <td>NaN</td>\n",
       "      <td>NaN</td>\n",
       "      <td>NaN</td>\n",
       "      <td>NaN</td>\n",
       "      <td>4.0</td>\n",
       "      <td>NaN</td>\n",
       "      <td>...</td>\n",
       "      <td>4.0</td>\n",
       "      <td>NaN</td>\n",
       "      <td>3.0</td>\n",
       "      <td>NaN</td>\n",
       "      <td>NaN</td>\n",
       "      <td>NaN</td>\n",
       "      <td>NaN</td>\n",
       "      <td>NaN</td>\n",
       "      <td>NaN</td>\n",
       "      <td>3.0</td>\n",
       "    </tr>\n",
       "  </tbody>\n",
       "</table>\n",
       "<p>5 rows × 49 columns</p>\n",
       "</div>"
      ],
      "text/plain": [
       "MovieIDs  223   260   288   356   440   457   480   518   562   569   ...  \\\n",
       "UserID                                                                ...   \n",
       "1          NaN   4.0   NaN   NaN   NaN   NaN   NaN   NaN   NaN   NaN  ...   \n",
       "2          NaN   NaN   NaN   5.0   NaN   4.0   5.0   NaN   NaN   NaN  ...   \n",
       "3          NaN   5.0   NaN   NaN   NaN   NaN   4.0   NaN   NaN   NaN  ...   \n",
       "4          NaN   5.0   NaN   NaN   NaN   NaN   4.0   NaN   NaN   NaN  ...   \n",
       "5          NaN   NaN   2.0   1.0   NaN   NaN   NaN   NaN   4.0   NaN  ...   \n",
       "\n",
       "MovieIDs  2858  2940  3081  3107  3146  3254  3396  3448  3634  3786  \n",
       "UserID                                                                \n",
       "1          NaN   NaN   NaN   NaN   NaN   NaN   NaN   NaN   NaN   NaN  \n",
       "2          4.0   NaN   NaN   2.0   NaN   NaN   NaN   NaN   NaN   NaN  \n",
       "3          4.0   NaN   NaN   NaN   NaN   NaN   NaN   NaN   NaN   NaN  \n",
       "4          NaN   NaN   NaN   NaN   NaN   NaN   NaN   NaN   NaN   NaN  \n",
       "5          4.0   NaN   3.0   NaN   NaN   NaN   NaN   NaN   NaN   3.0  \n",
       "\n",
       "[5 rows x 49 columns]"
      ]
     },
     "execution_count": 52,
     "metadata": {},
     "output_type": "execute_result"
    }
   ],
   "source": [
    "# Menggunakan data utility martix yang sama\n",
    "pivot_df_ratings_funk.head()"
   ]
  },
  {
   "cell_type": "code",
   "execution_count": 53,
   "metadata": {},
   "outputs": [
    {
     "data": {
      "text/plain": [
       "(5847, 49)"
      ]
     },
     "execution_count": 53,
     "metadata": {},
     "output_type": "execute_result"
    }
   ],
   "source": [
    "# Mengecek ukuran data\n",
    "pivot_df_ratings_funk.shape"
   ]
  },
  {
   "cell_type": "code",
   "execution_count": 54,
   "metadata": {},
   "outputs": [
    {
     "data": {
      "text/plain": [
       "238082"
      ]
     },
     "execution_count": 54,
     "metadata": {},
     "output_type": "execute_result"
    }
   ],
   "source": [
    "# Mengecek NaN value pada data\n",
    "pivot_df_ratings_funk.isnull().sum().sum()"
   ]
  },
  {
   "cell_type": "markdown",
   "metadata": {},
   "source": [
    "#### Mengisi missing value pada utility matrix"
   ]
  },
  {
   "cell_type": "code",
   "execution_count": 55,
   "metadata": {},
   "outputs": [],
   "source": [
    "# Import library\n",
    "from scipy.linalg import svd"
   ]
  },
  {
   "cell_type": "code",
   "execution_count": 56,
   "metadata": {},
   "outputs": [],
   "source": [
    "# Impute nilai NaN dengan 0 \n",
    "rating_imputed = pivot_df_ratings_funk.fillna(0)"
   ]
  },
  {
   "cell_type": "code",
   "execution_count": 57,
   "metadata": {},
   "outputs": [
    {
     "data": {
      "text/plain": [
       "array([[0., 4., 0., ..., 0., 0., 0.],\n",
       "       [0., 0., 0., ..., 0., 0., 0.],\n",
       "       [0., 5., 0., ..., 0., 0., 0.],\n",
       "       ...,\n",
       "       [0., 0., 0., ..., 0., 0., 0.],\n",
       "       [0., 5., 0., ..., 0., 0., 0.],\n",
       "       [0., 4., 0., ..., 0., 0., 0.]])"
      ]
     },
     "execution_count": 57,
     "metadata": {},
     "output_type": "execute_result"
    }
   ],
   "source": [
    "# Konversi rating ke dalam matrix numpy\n",
    "matrix_ratings = rating_imputed.to_numpy()\n",
    "matrix_ratings"
   ]
  },
  {
   "cell_type": "markdown",
   "metadata": {},
   "source": [
    "#### Aplikasi SVD "
   ]
  },
  {
   "cell_type": "code",
   "execution_count": 58,
   "metadata": {},
   "outputs": [],
   "source": [
    "# Aplikasikan SVD dan ekstraksi 3 komponen pada matrix. U, S dan V\n",
    "\n",
    "U, S, Vt = svd(matrix_ratings)"
   ]
  },
  {
   "cell_type": "code",
   "execution_count": 60,
   "metadata": {},
   "outputs": [
    {
     "name": "stdout",
     "output_type": "stream",
     "text": [
      "Shape dari U : (5847, 5847)\n",
      "Shape dari S : (49,)\n",
      "Shape dari Vt : (49, 49)\n"
     ]
    }
   ],
   "source": [
    "# Check ukuran dari tiap tiap matriks\n",
    "print('Shape dari U :', U.shape)\n",
    "print('Shape dari S :', S.shape)\n",
    "print('Shape dari Vt :', Vt.shape)"
   ]
  },
  {
   "cell_type": "markdown",
   "metadata": {},
   "source": [
    "#### Melakukan prediksi rating pada tiap komponen SVD\n",
    "\n",
    "- Filter user faktor (U)\n",
    "- Filter item faktor (V)\n",
    "- Lakukan dot product (u.s.vt)"
   ]
  },
  {
   "cell_type": "code",
   "execution_count": 92,
   "metadata": {},
   "outputs": [
    {
     "data": {
      "text/plain": [
       "(5847,)"
      ]
     },
     "execution_count": 92,
     "metadata": {},
     "output_type": "execute_result"
    }
   ],
   "source": [
    "# Lakukan filter pada user faktor (U)\n",
    "User_ID_ = 2\n",
    "u_1 = U[UserID,:]\n",
    "\n",
    "# Tampilkan output\n",
    "u_1.shape"
   ]
  },
  {
   "cell_type": "code",
   "execution_count": 93,
   "metadata": {},
   "outputs": [
    {
     "data": {
      "text/plain": [
       "(49,)"
      ]
     },
     "execution_count": 93,
     "metadata": {},
     "output_type": "execute_result"
    }
   ],
   "source": [
    "# Lakukan filter pada user faktor (Vt)\n",
    "Movie_IDs_ = 1\n",
    "vt_1 = Vt[:,Movie_IDs_]\n",
    "\n",
    "# Tampilkan output\n",
    "vt_1.shape"
   ]
  },
  {
   "cell_type": "code",
   "execution_count": 94,
   "metadata": {},
   "outputs": [],
   "source": [
    "s_diag = np.diag(S)"
   ]
  },
  {
   "cell_type": "code",
   "execution_count": 95,
   "metadata": {},
   "outputs": [
    {
     "data": {
      "text/plain": [
       "(5847, 49)"
      ]
     },
     "execution_count": 95,
     "metadata": {},
     "output_type": "execute_result"
    }
   ],
   "source": [
    "# Lakukan dot product antara U.S\n",
    "# Karena ukuran matrix tidak dapat dilakukan dot product, maka lakukan stack terlebih dahulu\n",
    "s_new = np.vstack((np.diag(S),np.zeros(shape=(U.shape[0]-Vt.shape[0],Vt.shape[0]))))\n",
    "s_new.shape"
   ]
  },
  {
   "cell_type": "code",
   "execution_count": 96,
   "metadata": {},
   "outputs": [
    {
     "data": {
      "text/plain": [
       "(5847,)"
      ]
     },
     "execution_count": 96,
     "metadata": {},
     "output_type": "execute_result"
    }
   ],
   "source": [
    "u_1.T.shape"
   ]
  },
  {
   "cell_type": "code",
   "execution_count": 97,
   "metadata": {},
   "outputs": [
    {
     "name": "stdout",
     "output_type": "stream",
     "text": [
      "Shape for U.S (49,)\n"
     ]
    }
   ],
   "source": [
    "# Lakukan dot product antara U.S\n",
    "us = u_1.dot(s_new)\n",
    "\n",
    "# Cek ukuran shape dari us\n",
    "print('Shape for U.S',us.shape)"
   ]
  },
  {
   "cell_type": "code",
   "execution_count": 98,
   "metadata": {},
   "outputs": [
    {
     "name": "stdout",
     "output_type": "stream",
     "text": [
      "Prediksi rating dari user 1 ke item 1 -2.5178109081559663e-15\n"
     ]
    }
   ],
   "source": [
    "# Lakukan dot produk dengan v_1\n",
    "rating_predict_funk = us.dot(vt_1)\n",
    "print('Prediksi rating dari user 1 ke item 1', rating_predict_funk)"
   ]
  },
  {
   "cell_type": "code",
   "execution_count": 101,
   "metadata": {},
   "outputs": [
    {
     "ename": "KeyError",
     "evalue": "0",
     "output_type": "error",
     "traceback": [
      "\u001b[1;31m---------------------------------------------------------------------------\u001b[0m",
      "\u001b[1;31mKeyError\u001b[0m                                  Traceback (most recent call last)",
      "File \u001b[1;32mc:\\Users\\Axel\\AppData\\Local\\Programs\\Python\\Python310\\lib\\site-packages\\pandas\\core\\indexes\\base.py:3629\u001b[0m, in \u001b[0;36mIndex.get_loc\u001b[1;34m(self, key, method, tolerance)\u001b[0m\n\u001b[0;32m   3628\u001b[0m \u001b[39mtry\u001b[39;00m:\n\u001b[1;32m-> 3629\u001b[0m     \u001b[39mreturn\u001b[39;00m \u001b[39mself\u001b[39;49m\u001b[39m.\u001b[39;49m_engine\u001b[39m.\u001b[39;49mget_loc(casted_key)\n\u001b[0;32m   3630\u001b[0m \u001b[39mexcept\u001b[39;00m \u001b[39mKeyError\u001b[39;00m \u001b[39mas\u001b[39;00m err:\n",
      "File \u001b[1;32mc:\\Users\\Axel\\AppData\\Local\\Programs\\Python\\Python310\\lib\\site-packages\\pandas\\_libs\\index.pyx:136\u001b[0m, in \u001b[0;36mpandas._libs.index.IndexEngine.get_loc\u001b[1;34m()\u001b[0m\n",
      "File \u001b[1;32mc:\\Users\\Axel\\AppData\\Local\\Programs\\Python\\Python310\\lib\\site-packages\\pandas\\_libs\\index.pyx:163\u001b[0m, in \u001b[0;36mpandas._libs.index.IndexEngine.get_loc\u001b[1;34m()\u001b[0m\n",
      "File \u001b[1;32mpandas\\_libs\\hashtable_class_helper.pxi:2131\u001b[0m, in \u001b[0;36mpandas._libs.hashtable.Int64HashTable.get_item\u001b[1;34m()\u001b[0m\n",
      "File \u001b[1;32mpandas\\_libs\\hashtable_class_helper.pxi:2140\u001b[0m, in \u001b[0;36mpandas._libs.hashtable.Int64HashTable.get_item\u001b[1;34m()\u001b[0m\n",
      "\u001b[1;31mKeyError\u001b[0m: 0",
      "\nThe above exception was the direct cause of the following exception:\n",
      "\u001b[1;31mKeyError\u001b[0m                                  Traceback (most recent call last)",
      "Cell \u001b[1;32mIn[101], line 1\u001b[0m\n\u001b[1;32m----> 1\u001b[0m rating_imputed\u001b[39m.\u001b[39;49mloc[\u001b[39m1\u001b[39;49m,\u001b[39m0\u001b[39;49m]\n",
      "File \u001b[1;32mc:\\Users\\Axel\\AppData\\Local\\Programs\\Python\\Python310\\lib\\site-packages\\pandas\\core\\indexing.py:960\u001b[0m, in \u001b[0;36m_LocationIndexer.__getitem__\u001b[1;34m(self, key)\u001b[0m\n\u001b[0;32m    958\u001b[0m     key \u001b[39m=\u001b[39m \u001b[39mtuple\u001b[39m(com\u001b[39m.\u001b[39mapply_if_callable(x, \u001b[39mself\u001b[39m\u001b[39m.\u001b[39mobj) \u001b[39mfor\u001b[39;00m x \u001b[39min\u001b[39;00m key)\n\u001b[0;32m    959\u001b[0m     \u001b[39mif\u001b[39;00m \u001b[39mself\u001b[39m\u001b[39m.\u001b[39m_is_scalar_access(key):\n\u001b[1;32m--> 960\u001b[0m         \u001b[39mreturn\u001b[39;00m \u001b[39mself\u001b[39;49m\u001b[39m.\u001b[39;49mobj\u001b[39m.\u001b[39;49m_get_value(\u001b[39m*\u001b[39;49mkey, takeable\u001b[39m=\u001b[39;49m\u001b[39mself\u001b[39;49m\u001b[39m.\u001b[39;49m_takeable)\n\u001b[0;32m    961\u001b[0m     \u001b[39mreturn\u001b[39;00m \u001b[39mself\u001b[39m\u001b[39m.\u001b[39m_getitem_tuple(key)\n\u001b[0;32m    962\u001b[0m \u001b[39melse\u001b[39;00m:\n\u001b[0;32m    963\u001b[0m     \u001b[39m# we by definition only have the 0th axis\u001b[39;00m\n",
      "File \u001b[1;32mc:\\Users\\Axel\\AppData\\Local\\Programs\\Python\\Python310\\lib\\site-packages\\pandas\\core\\frame.py:3615\u001b[0m, in \u001b[0;36mDataFrame._get_value\u001b[1;34m(self, index, col, takeable)\u001b[0m\n\u001b[0;32m   3612\u001b[0m     series \u001b[39m=\u001b[39m \u001b[39mself\u001b[39m\u001b[39m.\u001b[39m_ixs(col, axis\u001b[39m=\u001b[39m\u001b[39m1\u001b[39m)\n\u001b[0;32m   3613\u001b[0m     \u001b[39mreturn\u001b[39;00m series\u001b[39m.\u001b[39m_values[index]\n\u001b[1;32m-> 3615\u001b[0m series \u001b[39m=\u001b[39m \u001b[39mself\u001b[39;49m\u001b[39m.\u001b[39;49m_get_item_cache(col)\n\u001b[0;32m   3616\u001b[0m engine \u001b[39m=\u001b[39m \u001b[39mself\u001b[39m\u001b[39m.\u001b[39mindex\u001b[39m.\u001b[39m_engine\n\u001b[0;32m   3618\u001b[0m \u001b[39mif\u001b[39;00m \u001b[39mnot\u001b[39;00m \u001b[39misinstance\u001b[39m(\u001b[39mself\u001b[39m\u001b[39m.\u001b[39mindex, MultiIndex):\n\u001b[0;32m   3619\u001b[0m     \u001b[39m# CategoricalIndex: Trying to use the engine fastpath may give incorrect\u001b[39;00m\n\u001b[0;32m   3620\u001b[0m     \u001b[39m#  results if our categories are integers that dont match our codes\u001b[39;00m\n\u001b[0;32m   3621\u001b[0m     \u001b[39m# IntervalIndex: IntervalTree has no get_loc\u001b[39;00m\n",
      "File \u001b[1;32mc:\\Users\\Axel\\AppData\\Local\\Programs\\Python\\Python310\\lib\\site-packages\\pandas\\core\\frame.py:3931\u001b[0m, in \u001b[0;36mDataFrame._get_item_cache\u001b[1;34m(self, item)\u001b[0m\n\u001b[0;32m   3926\u001b[0m res \u001b[39m=\u001b[39m cache\u001b[39m.\u001b[39mget(item)\n\u001b[0;32m   3927\u001b[0m \u001b[39mif\u001b[39;00m res \u001b[39mis\u001b[39;00m \u001b[39mNone\u001b[39;00m:\n\u001b[0;32m   3928\u001b[0m     \u001b[39m# All places that call _get_item_cache have unique columns,\u001b[39;00m\n\u001b[0;32m   3929\u001b[0m     \u001b[39m#  pending resolution of GH#33047\u001b[39;00m\n\u001b[1;32m-> 3931\u001b[0m     loc \u001b[39m=\u001b[39m \u001b[39mself\u001b[39;49m\u001b[39m.\u001b[39;49mcolumns\u001b[39m.\u001b[39;49mget_loc(item)\n\u001b[0;32m   3932\u001b[0m     res \u001b[39m=\u001b[39m \u001b[39mself\u001b[39m\u001b[39m.\u001b[39m_ixs(loc, axis\u001b[39m=\u001b[39m\u001b[39m1\u001b[39m)\n\u001b[0;32m   3934\u001b[0m     cache[item] \u001b[39m=\u001b[39m res\n",
      "File \u001b[1;32mc:\\Users\\Axel\\AppData\\Local\\Programs\\Python\\Python310\\lib\\site-packages\\pandas\\core\\indexes\\base.py:3631\u001b[0m, in \u001b[0;36mIndex.get_loc\u001b[1;34m(self, key, method, tolerance)\u001b[0m\n\u001b[0;32m   3629\u001b[0m     \u001b[39mreturn\u001b[39;00m \u001b[39mself\u001b[39m\u001b[39m.\u001b[39m_engine\u001b[39m.\u001b[39mget_loc(casted_key)\n\u001b[0;32m   3630\u001b[0m \u001b[39mexcept\u001b[39;00m \u001b[39mKeyError\u001b[39;00m \u001b[39mas\u001b[39;00m err:\n\u001b[1;32m-> 3631\u001b[0m     \u001b[39mraise\u001b[39;00m \u001b[39mKeyError\u001b[39;00m(key) \u001b[39mfrom\u001b[39;00m \u001b[39merr\u001b[39;00m\n\u001b[0;32m   3632\u001b[0m \u001b[39mexcept\u001b[39;00m \u001b[39mTypeError\u001b[39;00m:\n\u001b[0;32m   3633\u001b[0m     \u001b[39m# If we have a listlike key, _check_indexing_error will raise\u001b[39;00m\n\u001b[0;32m   3634\u001b[0m     \u001b[39m#  InvalidIndexError. Otherwise we fall through and re-raise\u001b[39;00m\n\u001b[0;32m   3635\u001b[0m     \u001b[39m#  the TypeError.\u001b[39;00m\n\u001b[0;32m   3636\u001b[0m     \u001b[39mself\u001b[39m\u001b[39m.\u001b[39m_check_indexing_error(key)\n",
      "\u001b[1;31mKeyError\u001b[0m: 0"
     ]
    }
   ],
   "source": [
    "rating_imputed.loc[1,0]"
   ]
  },
  {
   "cell_type": "code",
   "execution_count": 90,
   "metadata": {},
   "outputs": [],
   "source": [
    "utility_matrix = np.dot(U,s_new).dot(Vt)"
   ]
  },
  {
   "cell_type": "code",
   "execution_count": 91,
   "metadata": {},
   "outputs": [
    {
     "data": {
      "text/plain": [
       "array([[ 1.06121648e-15,  4.00000000e+00,  3.09422865e-15, ...,\n",
       "        -2.73053915e-15, -7.14186331e-16,  1.20836725e-15],\n",
       "       [ 8.14874131e-15, -2.68002026e-15,  4.82201997e-14, ...,\n",
       "         6.44723442e-14,  1.79416173e-14,  8.19983818e-15],\n",
       "       [ 8.59944737e-15,  5.00000000e+00, -8.32330412e-15, ...,\n",
       "        -3.79234968e-15, -3.06633565e-15,  9.33639296e-16],\n",
       "       ...,\n",
       "       [ 4.11352910e-15, -4.57061726e-16, -2.33312901e-15, ...,\n",
       "         6.71009839e-16,  2.54913924e-16,  6.37828491e-16],\n",
       "       [ 2.06696421e-15,  5.00000000e+00,  2.40053915e-15, ...,\n",
       "        -6.93109561e-15,  7.00322195e-16, -1.09298439e-15],\n",
       "       [ 8.84392477e-15,  4.00000000e+00,  6.77805941e-15, ...,\n",
       "        -5.90021424e-15, -8.41371241e-16, -1.81125224e-17]])"
      ]
     },
     "execution_count": 91,
     "metadata": {},
     "output_type": "execute_result"
    }
   ],
   "source": [
    "utility_matrix"
   ]
  },
  {
   "cell_type": "markdown",
   "metadata": {},
   "source": [
    "#### Experimenting\n",
    "\n",
    "We want to experiment how the singular values may give different result if we modify the number of singular value, for benchmarking purpose we will predict rating on user 1 on item 1\n",
    "\n",
    "for number of singular values we are going to take is :\n",
    "- all\n",
    "- 10\n",
    "- 100\n",
    "\n",
    "the true value of rating from user 1 on item 1 is **4.0**"
   ]
  },
  {
   "cell_type": "code",
   "execution_count": 104,
   "metadata": {},
   "outputs": [],
   "source": [
    "# Membuat fungsi\n",
    "def sing_values(n_sing, sing_vec):\n",
    "    \"\"\"\n",
    "    Fungsi untuk filter singular value\n",
    "\n",
    "    Parameters\n",
    "    ----------\n",
    "    n_sing : int\n",
    "        Jumlah singular value\n",
    "    sing_vec : numpy array\n",
    "        Vektor S\n",
    "\n",
    "    Returns\n",
    "    -------\n",
    "    s_new : int\n",
    "        Matrix singular S\n",
    "    \"\"\"\n",
    "    # Copy untuk menghindari tertimpa\n",
    "    sing_vec = sing_vec.copy()\n",
    "\n",
    "    # Ganti setelah n_sing dengan 0\n",
    "    sing_vec[n_sing:] = 0\n",
    "    s_new = np.vstack((np.diag(sing_vec),np.zeros(shape=(U.shape[0]-Vt.shape[0],Vt.shape[0]))))\n",
    "\n",
    "    return s_new"
   ]
  },
  {
   "cell_type": "markdown",
   "metadata": {},
   "source": [
    "**10 Singular Values**"
   ]
  },
  {
   "cell_type": "code",
   "execution_count": 105,
   "metadata": {},
   "outputs": [],
   "source": [
    "s_10 = sing_values(n_sing=10, sing_vec=S)"
   ]
  },
  {
   "cell_type": "code",
   "execution_count": 106,
   "metadata": {},
   "outputs": [
    {
     "data": {
      "text/plain": [
       "0.40135214544087205"
      ]
     },
     "execution_count": 106,
     "metadata": {},
     "output_type": "execute_result"
    }
   ],
   "source": [
    "rating_pred_10 = np.dot(u_1, s_10).dot(vt_1)\n",
    "rating_pred_10"
   ]
  },
  {
   "cell_type": "markdown",
   "metadata": {},
   "source": [
    "**100 Singular Values**"
   ]
  },
  {
   "cell_type": "code",
   "execution_count": 107,
   "metadata": {},
   "outputs": [],
   "source": [
    "s_100 = sing_values(n_sing=100, sing_vec=S)"
   ]
  },
  {
   "cell_type": "code",
   "execution_count": 108,
   "metadata": {},
   "outputs": [
    {
     "data": {
      "text/plain": [
       "-2.5178109081559663e-15"
      ]
     },
     "execution_count": 108,
     "metadata": {},
     "output_type": "execute_result"
    }
   ],
   "source": [
    "rating_pred_100 = np.dot(u_1, s_100).dot(vt_1)\n",
    "rating_pred_100"
   ]
  },
  {
   "cell_type": "markdown",
   "metadata": {},
   "source": [
    "**All Singular Values**"
   ]
  },
  {
   "cell_type": "code",
   "execution_count": 109,
   "metadata": {},
   "outputs": [],
   "source": [
    "s_all = sing_values(n_sing=len(S), sing_vec=S)"
   ]
  },
  {
   "cell_type": "code",
   "execution_count": 110,
   "metadata": {},
   "outputs": [
    {
     "data": {
      "text/plain": [
       "-2.5178109081559663e-15"
      ]
     },
     "execution_count": 110,
     "metadata": {},
     "output_type": "execute_result"
    }
   ],
   "source": [
    "rating_pred_all = np.dot(u_1, s_all).dot(vt_1)\n",
    "rating_pred_all"
   ]
  },
  {
   "cell_type": "markdown",
   "metadata": {},
   "source": [
    "**Summary**"
   ]
  },
  {
   "cell_type": "code",
   "execution_count": 111,
   "metadata": {},
   "outputs": [
    {
     "data": {
      "text/html": [
       "<div>\n",
       "<style scoped>\n",
       "    .dataframe tbody tr th:only-of-type {\n",
       "        vertical-align: middle;\n",
       "    }\n",
       "\n",
       "    .dataframe tbody tr th {\n",
       "        vertical-align: top;\n",
       "    }\n",
       "\n",
       "    .dataframe thead th {\n",
       "        text-align: right;\n",
       "    }\n",
       "</style>\n",
       "<table border=\"1\" class=\"dataframe\">\n",
       "  <thead>\n",
       "    <tr style=\"text-align: right;\">\n",
       "      <th></th>\n",
       "      <th>N sing value</th>\n",
       "      <th>Pred_ratings</th>\n",
       "    </tr>\n",
       "  </thead>\n",
       "  <tbody>\n",
       "    <tr>\n",
       "      <th>0</th>\n",
       "      <td>10</td>\n",
       "      <td>4.013521e-01</td>\n",
       "    </tr>\n",
       "    <tr>\n",
       "      <th>1</th>\n",
       "      <td>100</td>\n",
       "      <td>-2.517811e-15</td>\n",
       "    </tr>\n",
       "    <tr>\n",
       "      <th>2</th>\n",
       "      <td>all</td>\n",
       "      <td>-2.517811e-15</td>\n",
       "    </tr>\n",
       "  </tbody>\n",
       "</table>\n",
       "</div>"
      ],
      "text/plain": [
       "  N sing value  Pred_ratings\n",
       "0           10  4.013521e-01\n",
       "1          100 -2.517811e-15\n",
       "2          all -2.517811e-15"
      ]
     },
     "execution_count": 111,
     "metadata": {},
     "output_type": "execute_result"
    }
   ],
   "source": [
    "summary_sing_value = pd.DataFrame(\n",
    "    data={'N sing value': [10,100,'all'],\n",
    "          'Pred_ratings': [rating_pred_10, rating_pred_100, rating_pred_all]\n",
    "          }\n",
    ")\n",
    "summary_sing_value"
   ]
  },
  {
   "cell_type": "markdown",
   "metadata": {},
   "source": [
    "**Funk SVD dari Scratch**"
   ]
  },
  {
   "cell_type": "markdown",
   "metadata": {},
   "source": [
    "Previously we learnt how to decompose utility matrix using Singular Value Decomposition"
   ]
  },
  {
   "cell_type": "markdown",
   "metadata": {},
   "source": [
    "However, the operation is not doable unless we use **missing values imputation**"
   ]
  },
  {
   "cell_type": "markdown",
   "metadata": {},
   "source": [
    "In this case, we cannot use missing values imputation because we want to predict the unknown rating itself"
   ]
  },
  {
   "cell_type": "markdown",
   "metadata": {},
   "source": [
    "Instead of using SVD, we can be inspired from SVD. Simon Funk (2006) developed algorithm to predict ratings from movie in [Netflix Competition](https://en.wikipedia.org/wiki/Netflix_Prize).\n",
    "\n",
    "The idea is pretty simple, instead we directly decompose from utility matrix into user factor and item factor"
   ]
  },
  {
   "cell_type": "markdown",
   "metadata": {},
   "source": [
    "We create user factor and item factor iterative optimization process using our known data"
   ]
  },
  {
   "cell_type": "markdown",
   "metadata": {},
   "source": [
    "#### Data Preparation\n",
    "\n",
    "In this process we will prepare our data so that we can continue to training process, the expected output should be array with size `<n_records x features>`.\n",
    "\n",
    "with features ordered :     \n",
    "- feature 1 : `UserID`\n",
    "- feature 2 : `MovieIDs`\n",
    "- feature 3 : `Ratings`\n"
   ]
  },
  {
   "cell_type": "markdown",
   "metadata": {},
   "source": [
    "Steps we take\n",
    "- Load the dataframe contain columns `UserID`,`MovieIDs`, and `Ratings`\n",
    "- Mapping unique id such as `UserID` and `MovieIDs` since we our output is in array, the slicing on rows / columns based on ordered number from `0 to n`\n",
    "- Converting dataframe to numpy array"
   ]
  },
  {
   "cell_type": "markdown",
   "metadata": {},
   "source": [
    "**Load Data**"
   ]
  },
  {
   "cell_type": "code",
   "execution_count": 112,
   "metadata": {},
   "outputs": [
    {
     "name": "stdout",
     "output_type": "stream",
     "text": [
      "Shape data awal : (1000209, 4)\n",
      "Shape data drop kolom : (1000209, 3)\n"
     ]
    }
   ],
   "source": [
    "rating_data_funk = import_rating_data(path = '../data/ratings.csv')"
   ]
  },
  {
   "cell_type": "markdown",
   "metadata": {},
   "source": [
    "**Mapping `userId` and `movieId`**"
   ]
  },
  {
   "cell_type": "markdown",
   "metadata": {},
   "source": [
    "To create mapping, we can simply create dictionary, which stores :    \n",
    "- UserId to ordered id\n",
    "```python\n",
    "user_to_id = {userid : orderedid}\n",
    "#example\n",
    "user_to_id = {'ab' : 1}\n",
    "```\n",
    "- Ordered id to UserId\n",
    "```python\n",
    "user_to_id = {orderedid : userid }\n",
    "#example\n",
    "user_to_id = {1 : 'ab' }\n",
    "```"
   ]
  },
  {
   "cell_type": "code",
   "execution_count": 113,
   "metadata": {},
   "outputs": [],
   "source": [
    "# Mapping UsedID ke index\n",
    "user_to_index = {user : index for index, user in enumerate(rating_data_funk['UserID'].unique())}\n",
    "\n",
    "# Mapping index terurut kembali ke UserID\n",
    "index_to_user = {index : user for index, user in enumerate(rating_data_funk['UserID'].unique())}"
   ]
  },
  {
   "cell_type": "code",
   "execution_count": 116,
   "metadata": {},
   "outputs": [],
   "source": [
    "# Mapping MovieIDs ke index\n",
    "movie_to_index = {mov : index for index, mov in enumerate(rating_data_funk['MovieIDs'].unique())}\n",
    "\n",
    "# Mapping index kembali ke MovieIDs\n",
    "index_to_movie = {index : mov for index, mov in enumerate(rating_data_funk['MovieIDs'].unique())}"
   ]
  },
  {
   "cell_type": "code",
   "execution_count": 117,
   "metadata": {},
   "outputs": [],
   "source": [
    "# Konversi DataFrame ke Array\n",
    "rating_matrix_funk = rating_data_funk.to_numpy()"
   ]
  },
  {
   "cell_type": "code",
   "execution_count": 119,
   "metadata": {},
   "outputs": [
    {
     "name": "stdout",
     "output_type": "stream",
     "text": [
      "Ukuran matrix rating funk : (43576, 3)\n"
     ]
    }
   ],
   "source": [
    "# Check ukuran matrix\n",
    "print('Ukuran matrix rating funk :', rating_matrix_funk.shape)"
   ]
  },
  {
   "cell_type": "markdown",
   "metadata": {},
   "source": [
    "**Objective**\n"
   ]
  },
  {
   "cell_type": "markdown",
   "metadata": {},
   "source": [
    "$$\\text{Objective}= \\underset{}{\\min}\n",
    "\\left [\n",
    "\\sum_{u \\in U} \\sum_{i \\in I} (r_{ui}-\\hat{r_{ui}})^2\n",
    "\\right ]\n",
    "$$\n",
    "\n",
    "Our main goal is to minimize prediction error, between true rating - predicted rating\n"
   ]
  },
  {
   "cell_type": "markdown",
   "metadata": {},
   "source": [
    "$$\\text{Objective}= \\underset{}{\\min}\n",
    "\\left [\n",
    "\\sum_{u \\in U} \\sum_{i \\in I} (r_{ui}-(p_u .q_i^T)^2\n",
    "\\right ]\n",
    "$$\n",
    "\n"
   ]
  },
  {
   "cell_type": "markdown",
   "metadata": {},
   "source": [
    "Adding Bias factor such as :\n",
    "- Global Mean\n",
    "- User Bias\n",
    "- Item Bias"
   ]
  },
  {
   "cell_type": "markdown",
   "metadata": {},
   "source": [
    "$$\\text{Objective}= \\underset{b_u,b_i,p_u,q_i}{\\min}\n",
    "\\left [\n",
    "\\sum_{u \\in U} \\sum_{i \\in I} (r_{ui}- (\\mu + b_u + b_i + (p_u . q_i^T) ) )^2\n",
    "\\right ]\n",
    "$$\n",
    "\n",
    "\n"
   ]
  },
  {
   "cell_type": "markdown",
   "metadata": {},
   "source": [
    "Adding Regularization\n",
    "\n",
    "the purpose of adding regularization is to make our model can avoid overfitting due to small portion of utility matrix that has known values."
   ]
  },
  {
   "cell_type": "markdown",
   "metadata": {},
   "source": [
    "**Final Objective Function**\n",
    "\n",
    "\n",
    "\n",
    "$$\\text{Objective}= \\underset{b_u,b_i,p_u,q_i}{\\min}\n",
    "\\left [\n",
    "\\sum_{u \\in U} \\sum_{i \\in I} (r_{ui}- \\hat{r_{ui}} )^2\n",
    "\\right ] + \\left [\\sum_{u \\in U} \\sum_{i \\in I}  \\lambda(b_u^2+b_i^2+||p_u||^2 + ||q_i||^2)\n",
    "\\right ]\n",
    "$$"
   ]
  },
  {
   "cell_type": "markdown",
   "metadata": {},
   "source": [
    "But sometimes, to make derivation more simple, usually it add $ 1/2$ term"
   ]
  },
  {
   "cell_type": "markdown",
   "metadata": {},
   "source": [
    "$$\\text{Objective}= \\underset{b_u,b_i,p_u,q_i}{\\min}\n",
    "\\left [\n",
    "\\sum_{u \\in U} \\sum_{i \\in I} \\cfrac{1}{2} (r_{ui}- \\hat{r_{ui}} )^2\n",
    "\\right ] + \\left [\\sum_{u \\in U} \\sum_{i \\in I}  \\cfrac{1}{2}\\lambda(b_u^2+b_i^2+||p_u||^2 + ||q_i||^2)\n",
    "\\right ]\n",
    "$$\n",
    "with :    \n",
    "1. $\\hat{r_{ui}} = \\mu + b_u + b_i + (p_u . q_i^T) $\n",
    "\n"
   ]
  },
  {
   "cell_type": "markdown",
   "metadata": {},
   "source": [
    "#### Initialization"
   ]
  },
  {
   "cell_type": "markdown",
   "metadata": {},
   "source": [
    "Through our objective we can identify what parameter we are going to optimized :    \n",
    "- $b_u$ : bias user size `<n_users,>` vector\n",
    "- $b_i$ : bias item size `<nn_items,>` vector\n",
    "- $p_u$ : user factor size `<n_users,n_factor>` matrix\n",
    "- $q_i$ : item factor size `<n_items,n_factor>` matrix"
   ]
  },
  {
   "cell_type": "markdown",
   "metadata": {},
   "source": [
    "However to optimize the parameter we have to set up the initial value first, we can initialize using numpy, we will generate / draw from Random Variable from Standard Normal distribution\n",
    "\n",
    "$$X \\sim \\mathcal{N}(\\mu,\\,\\sigma^{2})$$\n",
    "\n",
    "with :     \n",
    "- $\\mu$ = 0\n",
    "- $\\sigma^{2}$ = 1\n",
    "\n",
    "\n",
    "$$X \\sim \\mathcal{N}(0,1)$$"
   ]
  },
  {
   "cell_type": "code",
   "execution_count": 140,
   "metadata": {},
   "outputs": [
    {
     "name": "stdout",
     "output_type": "stream",
     "text": [
      "Jumlah dari User 5692, dan jumlah dari movie 50\n"
     ]
    }
   ],
   "source": [
    "# Identifikasi jumlah user dan item\n",
    "n_user = rating_data_funk['UserID'].nunique()\n",
    "n_item = rating_data_funk['MovieIDs'].nunique()\n",
    "\n",
    "print(f'Jumlah dari User {n_user}, dan jumlah dari movie {n_item}')"
   ]
  },
  {
   "cell_type": "code",
   "execution_count": 141,
   "metadata": {},
   "outputs": [],
   "source": [
    "# Set jumlah dari n_factor yang akan digunakan\n",
    "n_fact = 50"
   ]
  },
  {
   "cell_type": "markdown",
   "metadata": {},
   "source": [
    "we can generate user factor ($p_u$) and item factor ($q_i$) using `numpy.random.normal`"
   ]
  },
  {
   "cell_type": "code",
   "execution_count": 142,
   "metadata": {},
   "outputs": [],
   "source": [
    "# Tetapkan random seed\n",
    "np.random.seed(42)\n",
    "\n",
    "bu = np.zeros(n_user)\n",
    "bi = np.zeros(n_item)\n",
    "\n",
    "pu = np.random.normal(0, 1., (n_user, n_fact))\n",
    "qi = np.random.normal(0, 1., (n_item, n_fact))"
   ]
  },
  {
   "cell_type": "code",
   "execution_count": 143,
   "metadata": {},
   "outputs": [],
   "source": [
    "# Buat copy untuk perbandingan weight setelah training\n",
    "bu_copy = bu.copy()\n",
    "bi_copy = bi.copy()\n",
    "pu_copy = pu.copy()\n",
    "qi_copy = qi.copy()\n"
   ]
  },
  {
   "cell_type": "code",
   "execution_count": 144,
   "metadata": {},
   "outputs": [
    {
     "name": "stdout",
     "output_type": "stream",
     "text": [
      "Shape dari Bias User (5692,)\n",
      "Shape dari Bias Item (50,)\n",
      "Shape dari User Factor (5692, 50)\n",
      "Shape dari Item Factor (50, 50)\n"
     ]
    }
   ],
   "source": [
    "# Cek ukuran\n",
    "print('Shape dari Bias User',bu.shape)\n",
    "print('Shape dari Bias Item',bi.shape)\n",
    "print('Shape dari User Factor',pu.shape)\n",
    "print('Shape dari Item Factor',qi.shape)"
   ]
  },
  {
   "cell_type": "markdown",
   "metadata": {},
   "source": [
    "**Buat Fungsi Prediksi**"
   ]
  },
  {
   "cell_type": "markdown",
   "metadata": {},
   "source": [
    "$\\hat{r_{ui}} = \\mu + b_u + b_i + (p_u . q_i^T)$\n",
    "\n",
    "with\n",
    "- $\\hat{r_{ui}}$ : predicted rating on user\n",
    "- $\\mu$ : global mean\n",
    "- $b_u$ : bias user\n",
    "- $b_i$ : bias item\n",
    "- $p_u$ : user factor\n",
    "- $q_i$ : item factor"
   ]
  },
  {
   "cell_type": "markdown",
   "metadata": {},
   "source": [
    "#### Optimization"
   ]
  },
  {
   "cell_type": "markdown",
   "metadata": {},
   "source": [
    "To find optimal parameter above we will find using one of the famous optimization algorithm, **Gradient Descent**"
   ]
  },
  {
   "cell_type": "markdown",
   "metadata": {},
   "source": [
    "To perform Gradient Descent we have to find optimal parameter when derivative of cost function with respect to each parameter is 0"
   ]
  },
  {
   "cell_type": "markdown",
   "metadata": {},
   "source": [
    "Since our objective is in composite function, $h(x) = f(g(x))$"
   ]
  },
  {
   "cell_type": "markdown",
   "metadata": {},
   "source": [
    "To find the partial derivative with respect to each parameter we can use **chain rule**"
   ]
  },
  {
   "cell_type": "markdown",
   "metadata": {},
   "source": [
    "$h'(x) = f'(g(x)).g'(x)$"
   ]
  },
  {
   "cell_type": "markdown",
   "metadata": {},
   "source": [
    "##### 1. **$b_u$**\n",
    "\n",
    "$$\n",
    "\\begin{align*}\n",
    "\\cfrac{\\partial \\text{Objective}}{\\partial{b_u}}\n",
    "&=\n",
    "\\frac{\\partial}{\\partial{b_u}}\n",
    "\\underset{}{}\n",
    "\\left [\n",
    "(\\cfrac{1}{2}\\sum_{u \\in U} \\sum_{i \\in I} (r_{ui}- \\hat{r_{ui}} )^2)\\right ] +\\frac{\\partial}{\\partial{b_u}} \\left [ \\cfrac{1}{2} \\sum_{u \\in U} \\sum_{i \\in I}   \\lambda(b_u^2+b_i^2+||p_u||^2 + ||q_i||^2)\n",
    "\\right ]\n",
    "\\end{align*}\n",
    "$$\n",
    "\n",
    "\n"
   ]
  },
  {
   "cell_type": "markdown",
   "metadata": {},
   "source": [
    "###### Derivation Detail of $b_u$"
   ]
  },
  {
   "cell_type": "markdown",
   "metadata": {},
   "source": [
    "**1st Block**\n",
    "\n",
    "Now we take care of each derivative $\\left [ \\text{some function} \\right ]$ block\n",
    "\n",
    "$\n",
    "\\begin{align*}\n",
    "\\cfrac{{\\partial}(\\cfrac{1}{2}\\sum_{u \\in U} \\sum_{i \\in I} (r_{ui}- \\hat{r_{ui}} )^2)}{\\partial{b_u}}\n",
    "\\end{align*}$\n",
    "\n",
    "we can identified  :     \n",
    "- $\\hat{r_{ui}}$ is our prediction function , we can call it as `g(x)`\n",
    "- $\\left [\n",
    "(\\cfrac{1}{2}\\sum_{u \\in U} \\sum_{i \\in I} (r_{ui}- \\hat{r_{ui}} )^2)\\right ]$ is our `f(g(x))`\n"
   ]
  },
  {
   "cell_type": "markdown",
   "metadata": {},
   "source": [
    "Hence, our derivation become\n",
    "\n",
    "$\n",
    "\\begin{align*}\n",
    "\\cfrac{{\\partial}(\\cfrac{1}{2}\\sum_{u \\in U} \\sum_{i \\in I} (r_{ui}- \\hat{r_{ui}} )^2)}{\\partial{b_u}}\n",
    "&=\n",
    "\\cfrac{1}{2} \\frac{\\partial{f(g(x))}}{\\partial{g(x)}}. \\frac{\\partial{g(x)}}{\\partial{b_u}}\n",
    "\\end{align*}$"
   ]
  },
  {
   "cell_type": "markdown",
   "metadata": {},
   "source": [
    "Remember derivative concept, if we have $f(x) = ax^n$, the derivative or $f'(x) = n(ax^{n-1})$"
   ]
  },
  {
   "cell_type": "markdown",
   "metadata": {},
   "source": [
    "$ \\begin{align*}\n",
    "\\frac{\\partial{f(g(x))}}{\\partial{g(x)}}\n",
    "&= 2(r_{ui} -\\hat{r_{ui}})\n",
    "\\end{align*}\n",
    "$\n",
    "\n",
    "and\n",
    "\n",
    "$ \\begin{align*}\n",
    "-\\frac{\\partial{g(x)}}{\\partial{b_u}}\n",
    "&= \\frac{\\partial{(\\mu + b_u + b_i + (p_u.q_i^T))}}{\\partial{b_u}} \\\\\n",
    "&= -1\n",
    "\\end{align*}\n",
    "$"
   ]
  },
  {
   "cell_type": "markdown",
   "metadata": {},
   "source": [
    "Plug back each component\n",
    "\n",
    "$\n",
    "\\begin{align*}\n",
    "\\cfrac{{\\partial}(\\cfrac{1}{2}\\sum_{u \\in U} \\sum_{i \\in I} (r_{ui}- \\hat{r_{ui}} )^2)}{\\partial{b_u}}\n",
    "&=\n",
    "\\cfrac{1}{2} \\frac{\\partial{f(g(x))}}{\\partial{g(x)}}. \\frac{\\partial{g(x)}}{\\partial{b_u}} \\\\\n",
    "&= \\cfrac{1}{2} 2 \\sum_{u \\in U} \\sum_{i \\in I} (r_{ui} -\\hat{r_{ui}}) . -1 \\\\\n",
    "&= -\\sum_{u \\in U} \\sum_{i \\in I} (r_{ui} -\\hat{r_{ui}})\n",
    "\\end{align*}$"
   ]
  },
  {
   "cell_type": "markdown",
   "metadata": {},
   "source": [
    "**2nd Block**\n",
    "\n",
    "$\n",
    "\\begin{align*}\n",
    "\\frac{1}{2}\\frac{\\partial{\\left [ \\sum_{u \\in U} \\sum_{i \\in I}   \\lambda(b_u^2+b_i^2+||p_u||^2 + ||q_i||^2)\\right ]} }{\\partial{b_u}}\n",
    "\\end{align*}\n",
    "$\n",
    "\n",
    "this function does not in form of composite function so we can directly find the partial derivative with respect to $b_u$ we can use $f(x) = ax^n$ form\n",
    "\n",
    "\n",
    "\n"
   ]
  },
  {
   "cell_type": "markdown",
   "metadata": {},
   "source": [
    "$\n",
    "\\begin{align*}\n",
    "\\frac{\\partial{\\left [ \\sum_{u \\in U} \\sum_{i \\in I}   \\lambda(b_u^2+b_i^2+||p_u||^2 + ||q_i||^2)\\right ]} }{\\partial{b_u}}\n",
    "&= \\frac{1}{2} \\sum_{u \\in U} 2\\lambda b_u \\\\\n",
    "&=  \\sum_{u \\in U} \\lambda b_u\n",
    "\\end{align*}\n",
    "$"
   ]
  },
  {
   "cell_type": "markdown",
   "metadata": {},
   "source": [
    "**Arrange All Component**"
   ]
  },
  {
   "cell_type": "markdown",
   "metadata": {},
   "source": [
    "$$\n",
    "\\begin{align*}\n",
    "\\cfrac{\\partial \\text{Objective}}{\\partial{b_u}}\n",
    "&=\n",
    "\\frac{\\partial}{\\partial{b_u}}\n",
    "\\underset{}{}\n",
    "\\left [\n",
    "(\\cfrac{1}{2}\\sum_{u \\in U} \\sum_{i \\in I} (r_{ui}- \\hat{r_{ui}} )^2)\\right ] +\\frac{\\partial}{\\partial{b_u}} \\left [ \\cfrac{1}{2} \\sum_{u \\in U} \\sum_{i \\in I}   \\lambda(b_u^2+b_i^2+||p_u||^2 + ||q_i||^2)\n",
    "\\right ] \\\\\n",
    "&= \\left [(2.\\cfrac{1}{2}\\sum_{u \\in U} \\sum_{i \\in I}(r_{ui}- \\hat{r_{ui}} )).-1 \\right ] + \\left[\\cfrac{1}{2}.2  \\sum_{u \\in U}  \\lambda.b_u \\right ] \\\\\n",
    "&= -(\\sum_{u \\in U} \\sum_{i \\in I} r_{ui} - \\hat{r_{ui}}) +  \\sum_{u \\in U}  \\lambda b_u \\\\\\\n",
    "\\text{Multiply with -1} \\\\\n",
    "\\cfrac{\\partial \\text{Objective}}{\\partial{b_u}}\n",
    "&= \\sum_{u \\in U} \\sum_{i \\in I} ((r_{ui} - \\hat{r_{ui}}) + (\\lambda b_u)))\n",
    "\\end{align*}\n",
    "$$"
   ]
  },
  {
   "cell_type": "markdown",
   "metadata": {},
   "source": [
    "##### 2. **$b_i$**\n",
    "\n",
    "\n",
    "Using the same procedure as above\n",
    "\n",
    "$$\n",
    "\\begin{align*}\n",
    "\\cfrac{\\partial \\text{Objective}}{\\partial{b_u}}\n",
    "&= \\sum_{u \\in U} \\sum_{i \\in I} ((r_{ui} - \\hat{r_{ui}}) +   (\\lambda b_i))\n",
    "\\end{align*}\n",
    "$$\n"
   ]
  },
  {
   "cell_type": "markdown",
   "metadata": {},
   "source": [
    "##### 3. **$p_u$**\n",
    "\n",
    "using the same derivation technique\n",
    "\n",
    "$$\n",
    "\\begin{align*}\n",
    "\\cfrac{\\partial \\text{Objective}}{\\partial{p_u}}\n",
    "&= \\sum_{u \\in U} \\sum_{i \\in I} ((r_{ui} - \\hat{r_{ui}}).p_u - \\lambda q_i))\n",
    "\\end{align*}\n",
    "$$\n",
    "\n"
   ]
  },
  {
   "cell_type": "markdown",
   "metadata": {},
   "source": [
    "##### 4. **$q_i$**\n",
    "\n",
    "using the same derivation technique\n",
    "\n",
    "$$\n",
    "\\begin{align*}\n",
    "\\cfrac{\\partial \\text{Objective}}{\\partial{q_i}}\n",
    "&= \\sum_{u \\in U} \\sum_{i \\in I} ((r_{ui} - \\hat{r_{ui}}).p_u - \\lambda p_u))\n",
    "\\end{align*}\n",
    "$$\n",
    "\n",
    "\n"
   ]
  },
  {
   "cell_type": "markdown",
   "metadata": {},
   "source": [
    "To update the parameter to optimal we need other components :     \n",
    "\n",
    "- $\\gamma$ : Learning rate\n",
    "- n_epochs : number of iteration to update the parameter"
   ]
  },
  {
   "cell_type": "markdown",
   "metadata": {},
   "source": [
    "How gradient descent work to update parameter :    \n",
    "For n_iterations do :    \n",
    "Loop all over training samples :     \n",
    "1. Find  partial derivative /gradient of objective function with respect to parameter we want to optimize ( in this case $b_u,b_i,p_u,q_i$)\n",
    "\n",
    "2. Update parameter with those gradient :     \n",
    "\n",
    "  $\\text{parameter}_{\\text{new}} = \\text{parameter}_{\\text{old}} -\\gamma.(\\text{gradient})$\n"
   ]
  },
  {
   "cell_type": "markdown",
   "metadata": {},
   "source": [
    "There are lot of alternatives to original **Gradient Descent**, such as :     \n",
    "1. Mini batch Gradient Descent\n",
    "2. Stochastic Gradient Descent"
   ]
  },
  {
   "cell_type": "code",
   "execution_count": 145,
   "metadata": {},
   "outputs": [
    {
     "name": "stdout",
     "output_type": "stream",
     "text": [
      "3.876514595190013\n"
     ]
    }
   ],
   "source": [
    "# Tentukan learning rate\n",
    "lr = 0.001\n",
    "\n",
    "# Tentukan jumlah n_epoc\n",
    "n_epoc = 20\n",
    "\n",
    "# Tentukan nilai regularisasi\n",
    "lambda_reg = 0.002\n",
    "\n",
    "# Global Mean\n",
    "global_mean = rating_matrix_funk[:,2].mean()\n",
    "print(global_mean)"
   ]
  },
  {
   "cell_type": "code",
   "execution_count": 146,
   "metadata": {},
   "outputs": [],
   "source": [
    "from numpy.linalg import norm"
   ]
  },
  {
   "cell_type": "code",
   "execution_count": 149,
   "metadata": {},
   "outputs": [
    {
     "name": "stderr",
     "output_type": "stream",
     "text": [
      "C:\\Users\\Axel\\AppData\\Local\\Temp\\ipykernel_6832\\3532685042.py:30: RuntimeWarning: overflow encountered in double_scalars\n",
      "  loss = 1/2*((rating - pred_rating)**2) + lambda_reg*(b_user**2 + b_item**2 + norm(p_user)**2 + norm(q_item)**2)\n",
      "C:\\Users\\Axel\\AppData\\Local\\Temp\\ipykernel_6832\\3532685042.py:27: RuntimeWarning: invalid value encountered in double_scalars\n",
      "  pred_rating = baseline_predict + (p_user.dot(q_item.T))\n",
      "C:\\Users\\Axel\\AppData\\Local\\Temp\\ipykernel_6832\\3532685042.py:25: RuntimeWarning: invalid value encountered in double_scalars\n",
      "  baseline_predict = global_mean + b_user + b_item\n",
      "C:\\Users\\Axel\\AppData\\Local\\Temp\\ipykernel_6832\\3532685042.py:42: RuntimeWarning: invalid value encountered in double_scalars\n",
      "  bu[user_index] += lr * gradient_user_bias\n",
      "C:\\Users\\Axel\\AppData\\Local\\Temp\\ipykernel_6832\\3532685042.py:44: RuntimeWarning: invalid value encountered in add\n",
      "  pu[user_index] += lr * gradient_user_factor\n",
      "C:\\Users\\Axel\\AppData\\Local\\Temp\\ipykernel_6832\\3532685042.py:43: RuntimeWarning: invalid value encountered in double_scalars\n",
      "  bi[movie_index] += lr * gradient_item_bias\n",
      "C:\\Users\\Axel\\AppData\\Local\\Temp\\ipykernel_6832\\3532685042.py:45: RuntimeWarning: invalid value encountered in add\n",
      "  qi[movie_index] += lr * gradient_item_factor\n"
     ]
    }
   ],
   "source": [
    "# Lakukan update parameter\n",
    "loss_each_epoc = []\n",
    "for i in range(n_epoc):\n",
    "    # Tambahkan list kosong untuk menambah rata-rata loss tiap epoc\n",
    "    avg_loss_train_samples = []\n",
    "    # Iterasi seluruh data training\n",
    "    for train_sample in rating_matrix_funk:\n",
    "        # Ekstraksi UserID, MovieIDs, Ratings\n",
    "        user = int(train_sample[0])\n",
    "        movie = int(train_sample[1])\n",
    "        rating = train_sample[2]\n",
    "\n",
    "        # Dapatkan index User\n",
    "        user_index = user_to_index[user]\n",
    "        movie_index = movie_to_index[movie]\n",
    "\n",
    "        # Prediksi Rating\n",
    "        # Filter setiap parameter\n",
    "        b_user = bu[user_index]\n",
    "        b_item = bi[movie_index]\n",
    "        p_user = pu[user_index]\n",
    "        q_item = qi[movie_index]\n",
    "\n",
    "        # Menghitung baseline prediction\n",
    "        baseline_predict = global_mean + b_user + b_item\n",
    "\n",
    "        pred_rating = baseline_predict + (p_user.dot(q_item.T))\n",
    "\n",
    "        # Hitung loss / objective\n",
    "        loss = 1/2*((rating - pred_rating)**2) + lambda_reg*(b_user**2 + b_item**2 + norm(p_user)**2 + norm(q_item)**2)\n",
    "\n",
    "        # Tambahkan komponen loss\n",
    "        avg_loss_train_samples.append(loss)\n",
    "\n",
    "        # Hitung gradient, dy / d(parameter)\n",
    "        gradient_user_bias = (rating - pred_rating) - lambda_reg*b_user\n",
    "        gradient_item_bias = (rating - pred_rating) - lambda_reg*b_item\n",
    "        gradient_user_factor = (rating - pred_rating) - lambda_reg*p_user\n",
    "        gradient_item_factor = (rating - pred_rating) - lambda_reg*q_item\n",
    "\n",
    "        # Hitung gradient, dy / d(parameter)\n",
    "        bu[user_index] += lr * gradient_user_bias\n",
    "        bi[movie_index] += lr * gradient_item_bias\n",
    "        pu[user_index] += lr * gradient_user_factor\n",
    "        qi[movie_index] += lr * gradient_item_factor\n",
    "    avg_loss_train_samples = np.mean(avg_loss_train_samples)\n",
    "    loss_each_epoc.append(avg_loss_train_samples)"
   ]
  },
  {
   "cell_type": "code",
   "execution_count": 150,
   "metadata": {},
   "outputs": [
    {
     "data": {
      "text/plain": [
       "Text(0.5, 1.0, 'Loss over 20 epoc')"
      ]
     },
     "execution_count": 150,
     "metadata": {},
     "output_type": "execute_result"
    },
    {
     "data": {
      "image/png": "[encoded data removed]",
      "text/plain": [
       "<Figure size 640x480 with 1 Axes>"
      ]
     },
     "metadata": {},
     "output_type": "display_data"
    }
   ],
   "source": [
    "# Plot loss function pada setiap epoc\n",
    "import matplotlib.pyplot as plt\n",
    "\n",
    "plt.scatter(x = loss_each_epoc, y= [x+1 for x in range(len(loss_each_epoc))])\n",
    "plt.xlabel('Loss')\n",
    "plt.ylabel('Epoc')\n",
    "plt.title('Loss over 20 epoc')"
   ]
  },
  {
   "cell_type": "markdown",
   "metadata": {},
   "source": [
    "#### Generating Prediction"
   ]
  },
  {
   "cell_type": "markdown",
   "metadata": {},
   "source": [
    "Now, we already optimized our model during training process, we observed as we iterate through our learning process, the average loss is going down."
   ]
  },
  {
   "cell_type": "markdown",
   "metadata": {},
   "source": [
    "Now, we will try to generate prediction on rating, Let say we want to predict the rating on user 1 on item 1, Here is the process :     \n",
    "1. Get all parameters $bu,bi,pu,qi$\n",
    "2. Create prediction function\n",
    "3. Generate Prediction"
   ]
  },
  {
   "cell_type": "markdown",
   "metadata": {},
   "source": [
    "**Get all parameters $bu,bi,pu,qi$**\n",
    "\n",
    "parameter for user 1 and item 1"
   ]
  },
  {
   "cell_type": "code",
   "execution_count": 151,
   "metadata": {},
   "outputs": [
    {
     "ename": "KeyError",
     "evalue": "1",
     "output_type": "error",
     "traceback": [
      "\u001b[1;31m---------------------------------------------------------------------------\u001b[0m",
      "\u001b[1;31mKeyError\u001b[0m                                  Traceback (most recent call last)",
      "Cell \u001b[1;32mIn[151], line 2\u001b[0m\n\u001b[0;32m      1\u001b[0m user_1_index \u001b[39m=\u001b[39m user_to_index[\u001b[39m1\u001b[39m]\n\u001b[1;32m----> 2\u001b[0m movie_1_index \u001b[39m=\u001b[39m movie_to_index[\u001b[39m1\u001b[39;49m]\n",
      "\u001b[1;31mKeyError\u001b[0m: 1"
     ]
    }
   ],
   "source": [
    "user_1_index = user_to_index[1]\n",
    "movie_1_index = movie_to_index[1]"
   ]
  },
  {
   "cell_type": "code",
   "execution_count": 152,
   "metadata": {},
   "outputs": [
    {
     "ename": "NameError",
     "evalue": "name 'movie_1_index' is not defined",
     "output_type": "error",
     "traceback": [
      "\u001b[1;31m---------------------------------------------------------------------------\u001b[0m",
      "\u001b[1;31mNameError\u001b[0m                                 Traceback (most recent call last)",
      "Cell \u001b[1;32mIn[152], line 3\u001b[0m\n\u001b[0;32m      1\u001b[0m \u001b[39m# Assign bias\u001b[39;00m\n\u001b[0;32m      2\u001b[0m bu_1 \u001b[39m=\u001b[39m bu[user_1_index]\n\u001b[1;32m----> 3\u001b[0m bi_1 \u001b[39m=\u001b[39m bi[movie_1_index]\n\u001b[0;32m      5\u001b[0m \u001b[39m# Assign factor\u001b[39;00m\n\u001b[0;32m      6\u001b[0m pu_1 \u001b[39m=\u001b[39m pu[user_1_index]\n",
      "\u001b[1;31mNameError\u001b[0m: name 'movie_1_index' is not defined"
     ]
    }
   ],
   "source": [
    "# Assign bias\n",
    "bu_1 = bu[user_1_index]\n",
    "bi_1 = bi[movie_1_index]\n",
    "\n",
    "# Assign factor\n",
    "pu_1 = pu[user_1_index]\n",
    "qi_1 = qi[movie_1_index]"
   ]
  },
  {
   "cell_type": "code",
   "execution_count": 153,
   "metadata": {},
   "outputs": [
    {
     "ename": "NameError",
     "evalue": "name 'bi_1' is not defined",
     "output_type": "error",
     "traceback": [
      "\u001b[1;31m---------------------------------------------------------------------------\u001b[0m",
      "\u001b[1;31mNameError\u001b[0m                                 Traceback (most recent call last)",
      "Cell \u001b[1;32mIn[153], line 2\u001b[0m\n\u001b[0;32m      1\u001b[0m \u001b[39m# Buat fungsi prediksi\u001b[39;00m\n\u001b[1;32m----> 2\u001b[0m baseline_pred \u001b[39m=\u001b[39m global_mean \u001b[39m+\u001b[39m bu_1 \u001b[39m+\u001b[39m bi_1\n\u001b[0;32m      4\u001b[0m pred_ratings \u001b[39m=\u001b[39m baseline_pred \u001b[39m+\u001b[39m (pu_1\u001b[39m.\u001b[39mdot(qi_1\u001b[39m.\u001b[39mT))\n\u001b[0;32m      5\u001b[0m \u001b[39mprint\u001b[39m(\u001b[39m'\u001b[39m\u001b[39mPrediksi rating User 1 dan Item 1\u001b[39m\u001b[39m'\u001b[39m, pred_ratings)\n",
      "\u001b[1;31mNameError\u001b[0m: name 'bi_1' is not defined"
     ]
    }
   ],
   "source": [
    "# Buat fungsi prediksi\n",
    "baseline_pred = global_mean + bu_1 + bi_1\n",
    "\n",
    "pred_ratings = baseline_pred + (pu_1.dot(qi_1.T))\n",
    "print('Prediksi rating User 1 dan Item 1', pred_ratings)"
   ]
  },
  {
   "cell_type": "markdown",
   "metadata": {},
   "source": []
  }
 ],
 "metadata": {
  "kernelspec": {
   "display_name": "Python 3 (ipykernel)",
   "language": "python",
   "name": "python3"
  },
  "language_info": {
   "codemirror_mode": {
    "name": "ipython",
    "version": 3
   },
   "file_extension": ".py",
   "mimetype": "text/x-python",
   "name": "python",
   "nbconvert_exporter": "python",
   "pygments_lexer": "ipython3",
   "version": "3.9.7"
  }
 },
 "nbformat": 4,
 "nbformat_minor": 2
}
